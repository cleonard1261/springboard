{
 "cells": [
  {
   "cell_type": "markdown",
   "metadata": {},
   "source": [
    "Housing costs demand a significant investment from both consumers and developers. And when it comes to planning a \n",
    "budget—whether personal or corporate—the last thing anyone needs is uncertainty about one of their biggets expenses. \n",
    "**Sberbank**, Russia’s oldest and largest bank, helps their customers by making predictions about realty prices so renters, \n",
    "developers, and lenders are more confident when they sign a lease or purchase a building.\n",
    "\n",
    "Although the housing market is relatively stable in Russia, the country’s volatile economy makes forecasting prices \n",
    "as a function of apartment characteristics a unique challenge. Complex interactions between housing features such \n",
    "as number of bedrooms and location are enough to make pricing predictions complicated. Adding an unstable economy \n",
    "to the mix means Sberbank and their customers need more than simple regression models in their arsenal.\n",
    "\n",
    "In this competition, Sberbank is challenging Kagglers to develop algorithms which use a broad spectrum of features \n",
    "to predict realty prices. Competitors will rely on a rich dataset that includes housing data and macroeconomic \n",
    "patterns. An accurate forecasting model will allow Sberbank to provide more certainty to their customers in \n",
    "an uncertain economy."
   ]
  },
  {
   "cell_type": "code",
   "execution_count": 7,
   "metadata": {
    "collapsed": false
   },
   "outputs": [
    {
     "data": {
      "text/plain": [
       "'/Users/chadleonard/Springboard/work/springboard'"
      ]
     },
     "execution_count": 7,
     "metadata": {},
     "output_type": "execute_result"
    }
   ],
   "source": [
    "import pandas as pd\n",
    "import os \n",
    "import numpy as np\n",
    "import seaborn as sns\n",
    "import matplotlib.pyplot as plt\n",
    "from collections import defaultdict\n",
    "%matplotlib inline \n",
    "os.getcwd()"
   ]
  },
  {
   "cell_type": "code",
   "execution_count": 3,
   "metadata": {
    "collapsed": false
   },
   "outputs": [
    {
     "name": "stdout",
     "output_type": "stream",
     "text": [
      "/Users/chadleonard/Springboard/work/springboard/data/all/\n"
     ]
    }
   ],
   "source": [
    "dir_path = os.getcwd() + '/data/all/'\n",
    "print dir_path\n",
    "df = pd.read_csv(dir_path + 'train.csv')\n",
    "df_macro = pd.read_csv(dir_path + 'macro.csv')"
   ]
  },
  {
   "cell_type": "code",
   "execution_count": null,
   "metadata": {
    "collapsed": true
   },
   "outputs": [],
   "source": []
  },
  {
   "cell_type": "code",
   "execution_count": 4,
   "metadata": {
    "collapsed": false
   },
   "outputs": [
    {
     "name": "stdout",
     "output_type": "stream",
     "text": [
      "Index([u'id', u'timestamp', u'full_sq', u'life_sq', u'floor', u'max_floor',\n",
      "       u'material', u'build_year', u'num_room', u'kitch_sq'],\n",
      "      dtype='object')\n"
     ]
    }
   ],
   "source": [
    "print df.columns[:10]"
   ]
  },
  {
   "cell_type": "code",
   "execution_count": 6,
   "metadata": {
    "collapsed": false
   },
   "outputs": [
    {
     "data": {
      "text/plain": [
       "(30471, 292)"
      ]
     },
     "execution_count": 6,
     "metadata": {},
     "output_type": "execute_result"
    }
   ],
   "source": [
    "df.shape"
   ]
  },
  {
   "cell_type": "code",
   "execution_count": 13,
   "metadata": {
    "collapsed": false
   },
   "outputs": [
    {
     "data": {
      "text/plain": [
       "(2485, 100)"
      ]
     },
     "execution_count": 13,
     "metadata": {},
     "output_type": "execute_result"
    }
   ],
   "source": [
    "df_macro.columns\n",
    "df_macro.shape"
   ]
  },
  {
   "cell_type": "code",
   "execution_count": 58,
   "metadata": {
    "collapsed": false
   },
   "outputs": [
    {
     "data": {
      "text/plain": [
       "defaultdict(int, {6: 233, 7: 8619, 7.5: 16809, 8: 4809, 9: 1})"
      ]
     },
     "execution_count": 58,
     "metadata": {},
     "output_type": "execute_result"
    }
   ],
   "source": [
    "d = defaultdict(int)\n",
    "\n",
    "for k in df['price_doc']:\n",
    "    cat = len(str(k))\n",
    "    if cat == 7 and k > 5e6 :\n",
    "        d[7.5] += 1\n",
    "    else:\n",
    "        d[cat] += 1\n",
    "\n",
    "df['price_cat'] = pd.Series([7.5 if cat > 5e6 and cat < 1e7 else len(str(cat)) \\\n",
    "                             for cat in df['price_doc'] ]).astype('category').cat.codes\n",
    "#df['gender_4'] = df['Gender'].astype('category').cat.codes\n",
    "d"
   ]
  },
  {
   "cell_type": "code",
   "execution_count": 59,
   "metadata": {
    "collapsed": false
   },
   "outputs": [
    {
     "data": {
      "text/plain": [
       "{0, 1, 2, 3, 4}"
      ]
     },
     "execution_count": 59,
     "metadata": {},
     "output_type": "execute_result"
    }
   ],
   "source": [
    "set(df['price_cat'])"
   ]
  },
  {
   "cell_type": "code",
   "execution_count": 64,
   "metadata": {
    "collapsed": false
   },
   "outputs": [
    {
     "name": "stdout",
     "output_type": "stream",
     "text": [
      "['full_sq', 'life_sq', 'floor', 'max_floor', 'material', 'build_year', 'num_room', 'kitch_sq', 'state', 'product_type', 'sub_area']\n"
     ]
    }
   ],
   "source": [
    "x_vars = ['full_sq','life_sq','floor','max_floor','material',\\\n",
    "        'build_year','num_room','kitch_sq','state','product_type','sub_area']\n",
    "cols = ['price_doc','id','timestamp','full_sq','life_sq','floor','max_floor','material',\\\n",
    "        'build_year','num_room','kitch_sq','state','product_type','sub_area']\n",
    "print x_vars"
   ]
  },
  {
   "cell_type": "code",
   "execution_count": 61,
   "metadata": {
    "collapsed": false
   },
   "outputs": [
    {
     "name": "stdout",
     "output_type": "stream",
     "text": [
      "1000000\n",
      "5000000\n",
      "5000050\n",
      "9991069\n"
     ]
    }
   ],
   "source": [
    "print df[df['price_cat'] == 1]['price_doc'].min()\n",
    "print df[df['price_cat'] == 1]['price_doc'].max()\n",
    "print df[df['price_cat'] == 2]['price_doc'].min()\n",
    "print df[df['price_cat'] == 2]['price_doc'].max()"
   ]
  },
  {
   "cell_type": "code",
   "execution_count": 41,
   "metadata": {
    "collapsed": true
   },
   "outputs": [],
   "source": [
    "df_price_cat_one = df[df['price_cat'] == 1]['price_doc']"
   ]
  },
  {
   "cell_type": "code",
   "execution_count": 47,
   "metadata": {
    "collapsed": false
   },
   "outputs": [
    {
     "data": {
      "text/plain": [
       "defaultdict(int, {'1_to_5': 8619, '5_to_9': 16809})"
      ]
     },
     "execution_count": 47,
     "metadata": {},
     "output_type": "execute_result"
    }
   ],
   "source": [
    "dd = defaultdict(int)\n",
    "for k in df_price_cat_one:\n",
    "    if k <= 5e6:\n",
    "        dd['1_to_5'] += 1\n",
    "    else:\n",
    "        dd['5_to_9'] += 1\n",
    "        \n",
    "dd"
   ]
  },
  {
   "cell_type": "code",
   "execution_count": 37,
   "metadata": {
    "collapsed": false
   },
   "outputs": [
    {
     "data": {
      "text/plain": [
       "0    1\n",
       "1    1\n",
       "2    1\n",
       "3    2\n",
       "4    2\n",
       "Name: price_cat, dtype: int8"
      ]
     },
     "execution_count": 37,
     "metadata": {},
     "output_type": "execute_result"
    }
   ],
   "source": [
    "df['price_cat'].head()"
   ]
  },
  {
   "cell_type": "code",
   "execution_count": 6,
   "metadata": {
    "collapsed": false
   },
   "outputs": [
    {
     "name": "stdout",
     "output_type": "stream",
     "text": [
      "100000\n",
      "111111112\n",
      "2011-08-20\n",
      "2015-06-30\n"
     ]
    }
   ],
   "source": [
    "df['price_doc']\n",
    "print df['price_doc'].min()\n",
    "print df['price_doc'].max()\n",
    "print df['timestamp'].min()\n",
    "print df['timestamp'].max()"
   ]
  },
  {
   "cell_type": "code",
   "execution_count": 5,
   "metadata": {
    "collapsed": false
   },
   "outputs": [],
   "source": [
    "#sns.pairplot(df[:5])"
   ]
  },
  {
   "cell_type": "code",
   "execution_count": null,
   "metadata": {
    "collapsed": false
   },
   "outputs": [],
   "source": [
    "plt.plot(df['market_count_5000'],df['price_doc'], 'ro' )\n",
    "plt.ylabel('Price')\n",
    "plt.xlabel('Market Count 5000')\n",
    "plt.show()"
   ]
  },
  {
   "cell_type": "code",
   "execution_count": null,
   "metadata": {
    "collapsed": false
   },
   "outputs": [],
   "source": [
    "plt.hist(df['price_doc'],bins=60, range=[0.0,1e7])\n",
    "plt.show()"
   ]
  },
  {
   "cell_type": "code",
   "execution_count": null,
   "metadata": {
    "collapsed": false
   },
   "outputs": [],
   "source": [
    "#df.columns[:100]"
   ]
  },
  {
   "cell_type": "code",
   "execution_count": null,
   "metadata": {
    "collapsed": true
   },
   "outputs": [],
   "source": []
  }
 ],
 "metadata": {
  "kernelspec": {
   "display_name": "Python 2",
   "language": "python",
   "name": "python2"
  },
  "language_info": {
   "codemirror_mode": {
    "name": "ipython",
    "version": 2
   },
   "file_extension": ".py",
   "mimetype": "text/x-python",
   "name": "python",
   "nbconvert_exporter": "python",
   "pygments_lexer": "ipython2",
   "version": "2.7.11"
  }
 },
 "nbformat": 4,
 "nbformat_minor": 0
}
