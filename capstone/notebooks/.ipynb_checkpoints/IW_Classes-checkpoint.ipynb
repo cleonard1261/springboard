{
 "cells": [
  {
   "cell_type": "code",
   "execution_count": null,
   "metadata": {},
   "outputs": [],
   "source": [
    "%matplotlib inline\n",
    "import matplotlib\n",
    "import seaborn as sns\n",
    "matplotlib.rcParams['savefig.dpi'] = 144"
   ]
  },
  {
   "cell_type": "code",
   "execution_count": null,
   "metadata": {
    "collapsed": true
   },
   "outputs": [],
   "source": [
    "import expectexception"
   ]
  },
  {
   "cell_type": "markdown",
   "metadata": {},
   "source": [
    "# Object-oriented programming\n",
    "\n",
    "The are two concepts that are at the core of object-oriented programming: classes and objects.\n",
    "\n",
    "A **class** is a recipe for creating an object. It is like a template or set of instructions for creating multiple versions of similar things.\n",
    "\n",
    "An **object** is an instance of a class. That is, it is the result of following a class's recipe. \n",
    "\n",
    "Often your programs will have multiple object instances for a given class. These are all distinct and different, but they all follow the same recipe.\n",
    "\n",
    "We've actually encountered classes and objects quite a bit already. Consider the concepts of lists and dictionaries."
   ]
  },
  {
   "cell_type": "code",
   "execution_count": null,
   "metadata": {
    "collapsed": true
   },
   "outputs": [],
   "source": [
    "dict1 = {'cat':1, 'dog': 2, 'human': 3}\n",
    "dict2 = {1: 1, 2: 4, 3: 9, 4: 16}\n",
    "\n",
    "list1 = [0, 80, 20, 60, 50, 40, 30, 70, 10, 90]\n",
    "list2 = ['milk', 'eggs', 'cheese', 'bread']"
   ]
  },
  {
   "cell_type": "markdown",
   "metadata": {},
   "source": [
    "We've just created two instances of the dictionary (`dict`) class and two instances of the list (`list`) class.\n",
    "\n",
    "We can examine these with the `type` function to show that they are in fact `dict`s and `list`s:"
   ]
  },
  {
   "cell_type": "code",
   "execution_count": null,
   "metadata": {},
   "outputs": [],
   "source": [
    "print 'dict1:', type(dict1)\n",
    "print 'dict2:', type(dict2)\n",
    "print 'list1:', type(list1)\n",
    "print 'list2:', type(list2)"
   ]
  },
  {
   "cell_type": "markdown",
   "metadata": {},
   "source": [
    "We can examine these with the `id` function to show that they point to different locations in memory and are therefore different objects:"
   ]
  },
  {
   "cell_type": "code",
   "execution_count": null,
   "metadata": {},
   "outputs": [],
   "source": [
    "print 'dict1:', id(dict1)\n",
    "print 'dict2:', id(dict2)\n",
    "print 'list1:', id(list1)\n",
    "print 'list2:', id(list2)"
   ]
  },
  {
   "cell_type": "markdown",
   "metadata": {},
   "source": [
    "The dictionaries `dict1` and `dict2` are two separate dictionaries storing different data, and yet they have similar properties as each other and behave in a similar manner. They both offer the same functionality for us to manipulate the data.\n",
    "\n",
    "The lists `list1` and `list2` are two separate lists, but also have similar properties and behaviors."
   ]
  },
  {
   "cell_type": "code",
   "execution_count": null,
   "metadata": {},
   "outputs": [],
   "source": [
    "print dict1.keys()\n",
    "print dict2.keys()\n",
    "\n",
    "print list1.index(70)\n",
    "print list2.index('bread')"
   ]
  },
  {
   "cell_type": "markdown",
   "metadata": {},
   "source": [
    "Lists and dictionaries are called *built-in* classes in that Python provides these to you by default. What we're going to learn about in this lesson is how to create our own classes to create multiple instances of objects with similar behaviors."
   ]
  },
  {
   "cell_type": "markdown",
   "metadata": {},
   "source": [
    "## Everything is an Object\n",
    "\n",
    "In your future Python studies you will sometimes hear the phrase \"Everything is an Object.\" What does this mean?\n",
    "\n",
    "First we must define what an object is. An object is the encapsulation or grouping of related data and/or methods (functions) into a self-contained thing (object) that exists in memory. Objects can be created, modified, passed around, copied, and destroyed.\n",
    "\n",
    "In Python, all of the *things* you work with are in fact objects, each with associated data and methods. Even *things* you might not expect, like functions. This might seem odd at first, but it actually creates an opportunity. It means that anything that is an object can be passed around as a parameter or assigned to a variable, just like any other object.\n",
    "\n",
    "The methods associated with an object are methods that are appropriate for acting upon the object's data. Consider a `list` object's methods.  They are kind of like a list of choices or options available to you to modify the list object. One of them is the `sort` method."
   ]
  },
  {
   "cell_type": "code",
   "execution_count": null,
   "metadata": {},
   "outputs": [],
   "source": [
    "list1.sort()\n",
    "list1"
   ]
  },
  {
   "cell_type": "markdown",
   "metadata": {},
   "source": [
    "This sorts the `list` object in-place, in that it sorts the original `list` object. It does not create a new `list` object with sorted data and leave the original `list` unaffected.\n",
    "\n",
    "I also could have sorted the `list` like this:"
   ]
  },
  {
   "cell_type": "code",
   "execution_count": null,
   "metadata": {},
   "outputs": [],
   "source": [
    "print sorted(list2)\n",
    "print list2"
   ]
  },
  {
   "cell_type": "markdown",
   "metadata": {},
   "source": [
    "Python comes with a standalone `sorted` method that can sort anything. It leaves the original `list` unaffected while creating a new sorted `list` object.\n",
    "\n",
    "Do you see the difference between the two approaches to sorting a list? One is with a function that is associated with the object, and the other, a free standing function not associated with the list.\n",
    "\n",
    "It happens that the `dict` objects do not have a `sort` method like `list`s. It doesn't fully make sense to sort a dictionary because they are unordered structure mapping keys to values. You can probably remember that a `dict` does not have a `sort` method, but what would Python be like if no object had methods? You'd have to remember which functions were appropriate for acting upon which objects and probably make a lot of mistakes. It would get confusing!"
   ]
  },
  {
   "cell_type": "markdown",
   "metadata": {},
   "source": [
    "## Defining a Python Class\n",
    "\n",
    "Let's start by defining a simple class:"
   ]
  },
  {
   "cell_type": "code",
   "execution_count": null,
   "metadata": {
    "collapsed": true
   },
   "outputs": [],
   "source": [
    "class Rectangle(object):\n",
    "    pass"
   ]
  },
  {
   "cell_type": "markdown",
   "metadata": {},
   "source": [
    "This defines a class called `Rectangle`. This class could be called a dummy class in that it doesn't really do anything. As we will see later, most classes have more definitions inside of them. Here we have none, so we must use Python's `pass` statement. The `pass` statement is just a syntactic placeholder, indicating that nothing needs to be done. (The keyword `object` indicates that this is a \"new-style\" class, a distinction that you shouldn't worry about.)\n",
    "\n",
    "What is `Rectangle`? It's a class, which is a kind of *type* in Python."
   ]
  },
  {
   "cell_type": "code",
   "execution_count": null,
   "metadata": {},
   "outputs": [],
   "source": [
    "Rectangle, type(Rectangle)"
   ]
  },
  {
   "cell_type": "markdown",
   "metadata": {},
   "source": [
    "To make objects of class `Rectangle`, we *instantiate* the class.  In Python, we do that by calling the class. Observe the parentheses after `Rectangle`."
   ]
  },
  {
   "cell_type": "code",
   "execution_count": null,
   "metadata": {
    "collapsed": true
   },
   "outputs": [],
   "source": [
    "rect = Rectangle()"
   ]
  },
  {
   "cell_type": "markdown",
   "metadata": {},
   "source": [
    "Now `rect` is an instance of the `Rectangle` class."
   ]
  },
  {
   "cell_type": "code",
   "execution_count": null,
   "metadata": {},
   "outputs": [],
   "source": [
    "rect"
   ]
  },
  {
   "cell_type": "markdown",
   "metadata": {},
   "source": [
    "There are two ways to programmatically verify this:"
   ]
  },
  {
   "cell_type": "code",
   "execution_count": null,
   "metadata": {},
   "outputs": [],
   "source": [
    "print type(rect) is Rectangle\n",
    "print isinstance(rect, Rectangle)"
   ]
  },
  {
   "cell_type": "markdown",
   "metadata": {},
   "source": [
    "We can make more `Rectangle`s by instantiating the class again. This results in the creation of different objects."
   ]
  },
  {
   "cell_type": "code",
   "execution_count": null,
   "metadata": {
    "collapsed": true
   },
   "outputs": [],
   "source": [
    "rect2 = Rectangle()\n",
    "rect3 = Rectangle()"
   ]
  },
  {
   "cell_type": "markdown",
   "metadata": {},
   "source": [
    "We can use the Python built-in function `id` to show that the variables refer to different memory locations."
   ]
  },
  {
   "cell_type": "code",
   "execution_count": null,
   "metadata": {},
   "outputs": [],
   "source": [
    "print id(rect)\n",
    "print id(rect2)\n",
    "print id(rect3)"
   ]
  },
  {
   "cell_type": "markdown",
   "metadata": {},
   "source": [
    "## Adding Attributes and Methods"
   ]
  },
  {
   "cell_type": "markdown",
   "metadata": {},
   "source": [
    "Objects can have data associated with them.  These are called **attributes**, and in Python they are indicated with the `object.attribute` syntax.  Python allows arbitrary attributes to be added to objects on the fly."
   ]
  },
  {
   "cell_type": "code",
   "execution_count": null,
   "metadata": {},
   "outputs": [],
   "source": [
    "rect.banana = 5\n",
    "print rect.banana"
   ]
  },
  {
   "cell_type": "markdown",
   "metadata": {},
   "source": [
    "Now our rectangle has 5 bananas.\n",
    "\n",
    "Note that this does not affect other objects of the same class. The `banana` attribute was added to only that one instance of the `Rectangle` class."
   ]
  },
  {
   "cell_type": "code",
   "execution_count": null,
   "metadata": {},
   "outputs": [],
   "source": [
    "%%expect_exception AttributeError\n",
    "\n",
    "print rect2.banana"
   ]
  },
  {
   "cell_type": "markdown",
   "metadata": {},
   "source": [
    "Generally, we don't create attributes on an object-by-object basis. Instead, we'll add them when we create the object, so that we can guarantee that they will be there in all of our object instances.\n",
    "\n",
    "Let's add functionality so our Rectangle knows how big it is."
   ]
  },
  {
   "cell_type": "code",
   "execution_count": null,
   "metadata": {
    "collapsed": true
   },
   "outputs": [],
   "source": [
    "class Rectangle(object):\n",
    "    \n",
    "    def __init__(self, width, height):\n",
    "        self.width = width\n",
    "        self.height = height\n",
    "    \n",
    "    def area(self):\n",
    "        \"\"\"calculate area of this rectangle object\"\"\"\n",
    "        return self.width * self.height"
   ]
  },
  {
   "cell_type": "markdown",
   "metadata": {},
   "source": [
    "When functions are defined within a class, these become **methods** of the class.  These methods are called with an `object.method()` syntax, parallel to the attributes."
   ]
  },
  {
   "cell_type": "code",
   "execution_count": null,
   "metadata": {},
   "outputs": [],
   "source": [
    "rect = Rectangle(3, 5)\n",
    "rect.area()"
   ]
  },
  {
   "cell_type": "markdown",
   "metadata": {},
   "source": [
    "For the moment, let's consider just the call of `area`.  Why is it defined with a single `self` argument, but called with none?  The first argument of a method call is always the object itself.  By convention, we call this argument `self`.  (`self` is actually *not* a keyword in Python.  But the convention is so strong, you'll never see another name used there!)  When you call `object.method(argument)`, behind the scenes, Python changes that to `Class.method(object, argument)`.  You can do that yourself, if you like:"
   ]
  },
  {
   "cell_type": "code",
   "execution_count": null,
   "metadata": {},
   "outputs": [],
   "source": [
    "Rectangle.area(rect)"
   ]
  },
  {
   "cell_type": "markdown",
   "metadata": {},
   "source": [
    "A common programming mistake is to forget the `self` argument. If we had defined the `Rectangle` class like this:\n",
    "\n",
    "    class Rectangle(object):\n",
    "    \n",
    "        def __init__(self, width, height):\n",
    "            self.width = width\n",
    "            self.height = height\n",
    "\n",
    "        def area():\n",
    "            \"\"\"calculate area of this rectangle object\"\"\"\n",
    "            return self.width * self.height\n",
    "        \n",
    "We would have seen this error:\n",
    "\n",
    "    ---------------------------------------------------------------------------\n",
    "    TypeError                                 Traceback (most recent call last)\n",
    "    <ipython-input-39-53c0be79a087> in <module>()\n",
    "          1 rect = Rectangle(3, 5)\n",
    "    ----> 2 rect.area()\n",
    "\n",
    "    TypeError: area() takes no arguments (1 given)\n",
    "    \n",
    "Any time you see a `TypeError` for a class method stating that the number of given arguments is one more than the number of arguments the method expects, check for this mistake."
   ]
  },
  {
   "cell_type": "markdown",
   "metadata": {},
   "source": [
    "Another Question: How did the rectangle instance learn it's size without us explicitly calling `__init__()`?  Methods starting with two underscores (pronounced \"dunder\") are often special in Python.  In this case, `__init__()` is an initializer function that is called right after the object is created.  (It is very similar to the constructor you may be familiar with from C or Java, but it's not quite the same.  The object has already been created by the time the initializer is called.  [Python actually does have class constructors, in the `__new__()` class method, but these are rarely used.  (Please forget we mentioned them.)])\n",
    "\n",
    "Any arguments passed to the class at instantiation (3 and 5, above) get passed on to the initializer.  The first argument of `__init__()` is self, and then we store the width and height as attributes, so that the `area()` method can reference them later.\n",
    "\n",
    "Unlike many other object-oriented languages, Python doesn't have a concept of public or private attributes.  All are accessible to everyone."
   ]
  },
  {
   "cell_type": "code",
   "execution_count": null,
   "metadata": {},
   "outputs": [],
   "source": [
    "rect.width = 2\n",
    "rect.area()"
   ]
  },
  {
   "cell_type": "markdown",
   "metadata": {},
   "source": [
    "Python does have a convention, though, that addresses this issue.  Attributes and methods that start with an underscore are considered \"internal\" to the class.  There's nothing stopping you from accessing them, but there's no guarantee that they'll remain the same in new versions.  If you use them and your code breaks in the future, it's your own fault.\n",
    "\n",
    "Here's a `Person` class illustrating how this can be used:"
   ]
  },
  {
   "cell_type": "code",
   "execution_count": null,
   "metadata": {
    "collapsed": true
   },
   "outputs": [],
   "source": [
    "class Person(object):\n",
    "    \n",
    "    def __init__(self, first, last, age):\n",
    "        self._first = first\n",
    "        self._last = last\n",
    "        self._age = age\n",
    "    \n",
    "    def _get_full_name(self):\n",
    "        \"\"\"return person's name, last name first\"\"\"\n",
    "        return '%s, %s' % (self._last, self._first)\n",
    "\n",
    "    def get_info(self):\n",
    "        \"\"\"return string of basic info on person\"\"\"\n",
    "        return 'name: %s age: %d' % (self._get_full_name(), self._age)"
   ]
  },
  {
   "cell_type": "markdown",
   "metadata": {},
   "source": [
    "Here are some instances of our `Person` class:"
   ]
  },
  {
   "cell_type": "code",
   "execution_count": null,
   "metadata": {
    "collapsed": true
   },
   "outputs": [],
   "source": [
    "person1 = Person('Malcolm', 'Reynolds', 41)\n",
    "person2 = Person('Zoe', 'Washburne', 37)\n",
    "person3 = Person('Jayne', 'Cobb', 38)"
   ]
  },
  {
   "cell_type": "markdown",
   "metadata": {},
   "source": [
    "Observe that when you re-type the following code and use Jupyter's tab-complete functionality, the only attribute or method available is `get_info`."
   ]
  },
  {
   "cell_type": "code",
   "execution_count": null,
   "metadata": {},
   "outputs": [],
   "source": [
    "print person1.get_info()\n",
    "print person2.get_info()\n",
    "print person3.get_info()"
   ]
  },
  {
   "cell_type": "markdown",
   "metadata": {},
   "source": [
    "However, we can still access any of the pseudo-private methods and attributes if we type them out:"
   ]
  },
  {
   "cell_type": "code",
   "execution_count": null,
   "metadata": {},
   "outputs": [],
   "source": [
    "print person1._get_full_name()\n",
    "print person1._age"
   ]
  },
  {
   "cell_type": "markdown",
   "metadata": {},
   "source": [
    "## Inheritance\n",
    "\n",
    "Many object-oriented languages have the concept of inheritance, and Python is no exception.  When one class **inherits** from another, it has all of the methods and properties of the first, plus whatever it adds."
   ]
  },
  {
   "cell_type": "code",
   "execution_count": null,
   "metadata": {
    "collapsed": true
   },
   "outputs": [],
   "source": [
    "class Square(Rectangle):\n",
    "    \n",
    "    def __init__(self, length):\n",
    "        Rectangle.__init__(self, length, length)"
   ]
  },
  {
   "cell_type": "markdown",
   "metadata": {},
   "source": [
    "Here, we create a new class, `Square`, that inherits from `Rectangle`.  We would say that `Square` is a **subclass** of `Rectangle` and that `Rectangle` is a **superclass** of `Square`.   All squares are rectangles, so this inheritance makes sense.\n",
    "\n",
    "We only need to specify one length for a square, since its width and height are the same.  So we define a new initializer function.  It will call the underlying `Rectangle` initializer, with that length as both the width and height.\n",
    "\n",
    "Since `Square` is a subclass of `Rectangle`, it has an `area()` method without us having to explicitly code it. The magic of inheritance is that we can create a `Square` class without having to duplicate methods from the **superclass**."
   ]
  },
  {
   "cell_type": "code",
   "execution_count": null,
   "metadata": {},
   "outputs": [],
   "source": [
    "square = Square(4)\n",
    "square.area()"
   ]
  },
  {
   "cell_type": "markdown",
   "metadata": {},
   "source": [
    "Typically you will leverage this feature by implementing common functionality in a superclass and idiosyncratic functionality in the subclasses. We'll see an example of this later in the lesson.\n",
    "\n",
    "In the above definition of the `Square` class, we refer to the superclass directly when calling its initializer.  For future-proofing, it's often better to programmatically access the superclass, like so:"
   ]
  },
  {
   "cell_type": "code",
   "execution_count": null,
   "metadata": {},
   "outputs": [],
   "source": [
    "class Square(Rectangle):\n",
    "    \n",
    "    def __init__(self, length):\n",
    "        super(Square, self).__init__(length, length)"
   ]
  },
  {
   "cell_type": "markdown",
   "metadata": {},
   "source": [
    "Note the syntax of the `super` call in the `__init__` method. It replaces the `Rectangle` classname as the super method is able to programmatically identify the class `Square` inherits from and call the `__init__` method.\n",
    "\n",
    "Also observe that the first `__init__` method call explicitly included `self` as a parameter, whereas this second one does not."
   ]
  },
  {
   "cell_type": "markdown",
   "metadata": {},
   "source": [
    "A class can inherit from multiple superclasses.  Here we make a class that can say \"Hello\":"
   ]
  },
  {
   "cell_type": "code",
   "execution_count": null,
   "metadata": {
    "collapsed": true
   },
   "outputs": [],
   "source": [
    "class Hello(object):\n",
    "    \n",
    "    def speak(self, name):\n",
    "        \"\"\"say hello to someone\"\"\"\n",
    "        print \"Hello, %s\" % name"
   ]
  },
  {
   "cell_type": "markdown",
   "metadata": {},
   "source": [
    "Now we can make a friendly rectangle."
   ]
  },
  {
   "cell_type": "code",
   "execution_count": null,
   "metadata": {},
   "outputs": [],
   "source": [
    "class HelloRectangle(Rectangle, Hello):\n",
    "    pass\n",
    "\n",
    "hello_rect = HelloRectangle(3, 5)\n",
    "hello_rect.speak('Brian')\n",
    "hello_rect.area()"
   ]
  },
  {
   "cell_type": "markdown",
   "metadata": {},
   "source": [
    "Note that the `speak()` method is provided by the `Hello` class, while the `area()` method comes from the `Rectangle` class.  This is fairly easy to realize, since each method is defined only once.  But what would happen if both superclasses defined a method with a given name?"
   ]
  },
  {
   "cell_type": "code",
   "execution_count": null,
   "metadata": {},
   "outputs": [],
   "source": [
    "class A(object):\n",
    "    \n",
    "    def func(self):\n",
    "        print \"Class A\"\n",
    "\n",
    "class B(object):\n",
    "    \n",
    "    def func(self):\n",
    "        print \"Class B\"\n",
    "\n",
    "class C(A, B):\n",
    "    pass\n",
    "\n",
    "c = C()\n",
    "c.func()"
   ]
  },
  {
   "cell_type": "markdown",
   "metadata": {},
   "source": [
    "Python's [Method Resolution Order](https://www.python.org/download/releases/2.3/mro/) specifies the order in which parent classes are queried to find a method of a particular name.  The result of that algorithm are stored in a class property called `__mro__`."
   ]
  },
  {
   "cell_type": "code",
   "execution_count": null,
   "metadata": {},
   "outputs": [],
   "source": [
    "C.__mro__"
   ]
  },
  {
   "cell_type": "markdown",
   "metadata": {},
   "source": [
    "Thus, we we ask for a method called `func()`, we will check first class `C` and then `A`.  Since `A` has a `func()` method, we don't proceed on to check `B` or `object`.  While the MRO is perfectly deterministic, it may be hard to reason about for non-experts.  For instance, if we inherit in the opposite order, we'll get class `B`'s method:"
   ]
  },
  {
   "cell_type": "code",
   "execution_count": null,
   "metadata": {},
   "outputs": [],
   "source": [
    "class C2(B, A):\n",
    "    pass\n",
    "\n",
    "c2 = C2()\n",
    "c2.func()"
   ]
  },
  {
   "cell_type": "markdown",
   "metadata": {},
   "source": [
    "In general, it's probably a good idea to avoid complicated multiple inheritance.\n",
    "\n",
    "There are two types of multiple inheritance that tend to be safer.  Some languages implement these as separate constructs, but in Python, it's all done with classes.\n",
    "\n",
    "**Mixins** are classes that add some specific capability.  The `Hello` class from before acts as a mixin, adding the `speak()` method.  Because they provide only a few methods and attributes, they are unlikely to cause conflicts in the MRO.\n",
    "\n",
    "**Interfaces** are classes that define a particular set of methods (or attributes) that a subclass is supposed to implement.  In Python, this tends to be done by defining methods that `raise NotImplementedError`.  This is useful in languages with type checking, as the compiler can be sure that any subclass of the interface will implement certain methods.  With Python's duck-typing, it tends not to be used."
   ]
  },
  {
   "cell_type": "markdown",
   "metadata": {},
   "source": [
    "## Putting it all together..."
   ]
  },
  {
   "cell_type": "markdown",
   "metadata": {},
   "source": [
    "Let's expand on the `Person` class to make a more sophisticated example."
   ]
  },
  {
   "cell_type": "code",
   "execution_count": null,
   "metadata": {
    "collapsed": true
   },
   "outputs": [],
   "source": [
    "class Person(object):\n",
    "    \n",
    "    def __init__(self, first, last, age):\n",
    "        self._first = first\n",
    "        self._last = last\n",
    "        self._age = age\n",
    "    \n",
    "    def _get_full_name(self):\n",
    "        \"\"\"return person's name, last name first\"\"\"\n",
    "        return '%s, %s' % (self._last, self._first)\n",
    "    \n",
    "    def get_info(self):\n",
    "        \"\"\"return string of basic info on person\"\"\"\n",
    "        return 'name: %s age: %d' % (self._get_full_name(), self._age)\n",
    "\n",
    "    def report(self):\n",
    "        raise NotImplementedError('You forgot to implement the get_info method!')"
   ]
  },
  {
   "cell_type": "markdown",
   "metadata": {},
   "source": [
    "This is the same as before except we added a `report` method to the `Person` class. However, this `report` method does not have useful functionality as it will throw an error if we call it directly. Instead, we are coding it in a way that indicates to whomever codes subclasses of the `Person` that instances of `Person` are expected to have a working `report` method.\n",
    "\n",
    "Typically if you are working on a project by yourself you might omit the `report` method in `Person` entirely. If this code is the work of a large team, it might be helpful to your teammates to include it.\n",
    "\n",
    "Let's define two subclasses of `Person`:"
   ]
  },
  {
   "cell_type": "code",
   "execution_count": null,
   "metadata": {
    "collapsed": true
   },
   "outputs": [],
   "source": [
    "class Teacher(Person):\n",
    "    \n",
    "    def __init__(self, first, last, age, department):\n",
    "        super(Teacher, self).__init__(first, last, age)\n",
    "        self._department = department\n",
    "        self._students = []\n",
    "        \n",
    "    def add_student(self, student):\n",
    "        \"\"\"add a student that is learning from this teacher\"\"\"\n",
    "        self._students.append(student)\n",
    "\n",
    "    def report(self):\n",
    "        \"\"\"report on a teacher's students\"\"\"\n",
    "        title = '%s (%s)' % (self.get_info(), self._department)\n",
    "        print title\n",
    "        print '=' * len(title)\n",
    "        for student in self._students:\n",
    "            print student.get_info()\n",
    "            \n",
    "class Student(Person):\n",
    "    \n",
    "    def __init__(self, first, last, age, major):\n",
    "        super(Student, self).__init__(first, last, age)\n",
    "        self._major = major\n",
    "\n",
    "    def report(self):\n",
    "        \"\"\"report about student\"\"\"\n",
    "        print '%s (%s)' % (self.get_info(), self._major)"
   ]
  },
  {
   "cell_type": "markdown",
   "metadata": {},
   "source": [
    "In this example, instances of `Teacher` will contain a list of `Student` instances. We can use this to record which students have classes with the teachers."
   ]
  },
  {
   "cell_type": "code",
   "execution_count": null,
   "metadata": {
    "collapsed": true
   },
   "outputs": [],
   "source": [
    "teacher1 = Teacher('Stephen', 'Hawking', 74, 'Physics')\n",
    "teacher2 = Teacher('Donald', 'Knuth', 78, 'Computer Science')\n",
    "\n",
    "student1 = Student('John', 'Smith', 20, 'Mechanical Engineering')\n",
    "student2 = Student('Mary', 'Johnson', 20, 'Physics')\n",
    "student3 = Student('James', 'Williams', 19, 'Political Science')\n",
    "student4 = Student('Patricia', 'Brown', 19, 'Computer Science')"
   ]
  },
  {
   "cell_type": "markdown",
   "metadata": {},
   "source": [
    "All of the `Teacher` and `Student` instances have the `get_info` method. I did not explicitly code it for either class because it is inherited from the `Person` class. The same code is executed when instances of either class call `get_info`."
   ]
  },
  {
   "cell_type": "code",
   "execution_count": null,
   "metadata": {},
   "outputs": [],
   "source": [
    "print teacher1.get_info()\n",
    "print student3.get_info()\n",
    "print student4.get_info()"
   ]
  },
  {
   "cell_type": "markdown",
   "metadata": {},
   "source": [
    "All of the `Teacher` and `Student` instances are instances of the `People` class."
   ]
  },
  {
   "cell_type": "code",
   "execution_count": null,
   "metadata": {},
   "outputs": [],
   "source": [
    "print isinstance(teacher1, Teacher)\n",
    "print isinstance(teacher2, Teacher)\n",
    "print isinstance(student1, Student)\n",
    "print isinstance(student2, Student)\n",
    "print isinstance(student3, Student)\n",
    "print isinstance(student4, Student)"
   ]
  },
  {
   "cell_type": "markdown",
   "metadata": {},
   "source": [
    "The `Teacher` instances are NOT instances of the `Student` class, and the `Student` instances are NOT instances of the `Teacher` class. Both are instances of the `Person` class."
   ]
  },
  {
   "cell_type": "code",
   "execution_count": null,
   "metadata": {},
   "outputs": [],
   "source": [
    "print isinstance(teacher1, Student)\n",
    "print isinstance(student1, Teacher)\n",
    "print isinstance(teacher1, Person)\n",
    "print isinstance(student1, Person)"
   ]
  },
  {
   "cell_type": "markdown",
   "metadata": {},
   "source": [
    "We can add students who are in the teachers' classes."
   ]
  },
  {
   "cell_type": "code",
   "execution_count": null,
   "metadata": {
    "collapsed": true
   },
   "outputs": [],
   "source": [
    "teacher1.add_student(student1)\n",
    "teacher1.add_student(student3)\n",
    "\n",
    "teacher2.add_student(student2)\n",
    "teacher2.add_student(student3)\n",
    "teacher2.add_student(student4)"
   ]
  },
  {
   "cell_type": "markdown",
   "metadata": {},
   "source": [
    "We will now use the `report` method for our `Person` instances. Observe that the functionality of the `report` method for the two kinds of classes are different."
   ]
  },
  {
   "cell_type": "code",
   "execution_count": null,
   "metadata": {},
   "outputs": [],
   "source": [
    "teacher1.report()"
   ]
  },
  {
   "cell_type": "code",
   "execution_count": null,
   "metadata": {},
   "outputs": [],
   "source": [
    "teacher2.report()"
   ]
  },
  {
   "cell_type": "code",
   "execution_count": null,
   "metadata": {},
   "outputs": [],
   "source": [
    "student1.report()"
   ]
  },
  {
   "cell_type": "code",
   "execution_count": null,
   "metadata": {},
   "outputs": [],
   "source": [
    "student2.report()"
   ]
  },
  {
   "cell_type": "markdown",
   "metadata": {},
   "source": [
    "### Exercises\n",
    "\n",
    "1. Write a classes `Cube`, `Sphere`, `Cone`, and `Cylinder`, all inherited from a common `Shape` base class. Define methods `calculate_volume`, `calculate_surface_area`, `set_color`, and `get_color`. Which methods should be implemented in the base class and which should be implemented in the child classes?"
   ]
  },
  {
   "cell_type": "markdown",
   "metadata": {},
   "source": [
    "### Exit Tickets\n",
    "\n",
    "1. What is a class? Define it in your own words. When might a class be useful?\n",
    "2. What is inheritance?\n",
    "3. What is the difference between an attribute and a method?"
   ]
  },
  {
   "cell_type": "markdown",
   "metadata": {},
   "source": [
    "*Copyright &copy; 2016 The Data Incubator.  All rights reserved.*"
   ]
  }
 ],
 "metadata": {
  "kernelspec": {
   "display_name": "Python 3",
   "language": "python",
   "name": "python3"
  },
  "language_info": {
   "codemirror_mode": {
    "name": "ipython",
    "version": 3
   },
   "file_extension": ".py",
   "mimetype": "text/x-python",
   "name": "python",
   "nbconvert_exporter": "python",
   "pygments_lexer": "ipython3",
   "version": "3.7.0"
  }
 },
 "nbformat": 4,
 "nbformat_minor": 1
}
