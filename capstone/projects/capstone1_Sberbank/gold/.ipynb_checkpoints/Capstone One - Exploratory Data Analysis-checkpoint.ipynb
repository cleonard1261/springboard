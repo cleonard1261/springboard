{
 "cells": [
  {
   "cell_type": "code",
   "execution_count": 26,
   "metadata": {},
   "outputs": [],
   "source": [
    "import pandas as pd\n",
    "import os \n",
    "import numpy as np\n",
    "import seaborn as sns\n",
    "import collections\n",
    "import csv\n",
    "import missingno as msno\n",
    "import datetime as dt\n",
    "import matplotlib.pyplot as plt\n",
    "from sklearn.preprocessing import StandardScaler\n",
    "from sklearn.decomposition import PCA, TruncatedSVD, NMF\n",
    "from sklearn.feature_selection import mutual_info_classif, f_classif, SelectKBest\n",
    "\n",
    "%matplotlib inline"
   ]
  },
  {
   "cell_type": "code",
   "execution_count": 27,
   "metadata": {},
   "outputs": [
    {
     "name": "stdout",
     "output_type": "stream",
     "text": [
      "2019-02-22 06:44:30.209229\n",
      "2019-02-22 06:44:31.965564\n",
      "what\n"
     ]
    }
   ],
   "source": [
    "# read in the data\n",
    "print (dt.datetime.now())\n",
    "skip = ['price_cat','id','timestamp']\n",
    "dir_path = os.getcwd() + '/../../../../data/all/'\n",
    "df = pd.read_csv(dir_path + 'train.csv')\n",
    "df_macro = pd.read_csv(dir_path + 'macro.csv')\n",
    "print (dt.datetime.now())\n",
    "\n",
    "\n",
    "print('what')"
   ]
  },
  {
   "cell_type": "code",
   "execution_count": 28,
   "metadata": {},
   "outputs": [
    {
     "data": {
      "text/plain": [
       "Index(['id', 'timestamp', 'full_sq', 'life_sq', 'floor', 'max_floor',\n",
       "       'material', 'build_year', 'num_room', 'kitch_sq',\n",
       "       ...\n",
       "       'provision_retail_space_modern_sqm', 'turnover_catering_per_cap',\n",
       "       'theaters_viewers_per_1000_cap', 'seats_theather_rfmin_per_100000_cap',\n",
       "       'museum_visitis_per_100_cap', 'bandwidth_sports',\n",
       "       'population_reg_sports_share', 'students_reg_sports_share',\n",
       "       'apartment_build', 'apartment_fund_sqm'],\n",
       "      dtype='object', length=391)"
      ]
     },
     "execution_count": 28,
     "metadata": {},
     "output_type": "execute_result"
    }
   ],
   "source": [
    "df_eda = pd.merge(df, df_macro, how='inner', on='timestamp', left_on=None, right_on=None,\n",
    "     left_index=False, right_index=False, sort=True,\n",
    "     suffixes=('_x', '_y'), copy=True, indicator=False,\n",
    "     validate=None)\n",
    "df_eda.columns"
   ]
  },
  {
   "cell_type": "code",
   "execution_count": 29,
   "metadata": {},
   "outputs": [
    {
     "name": "stdout",
     "output_type": "stream",
     "text": [
      "371\n"
     ]
    },
    {
     "data": {
      "text/plain": [
       "18"
      ]
     },
     "execution_count": 29,
     "metadata": {},
     "output_type": "execute_result"
    }
   ],
   "source": [
    "num_cols = []\n",
    "cat_cols = []\n",
    "for col in df_eda.columns:\n",
    "    if col not in skip:\n",
    "        t = df_eda[col].dtype\n",
    "        if t == 'float64' or t == 'int64':\n",
    "            num_cols.append(col)\n",
    "        else:\n",
    "            cat_cols.append(col)\n",
    "print(len(num_cols))\n",
    "len(cat_cols)"
   ]
  },
  {
   "cell_type": "code",
   "execution_count": 30,
   "metadata": {},
   "outputs": [
    {
     "name": "stdout",
     "output_type": "stream",
     "text": [
      "5\n"
     ]
    },
    {
     "data": {
      "text/plain": [
       "13"
      ]
     },
     "execution_count": 30,
     "metadata": {},
     "output_type": "execute_result"
    }
   ],
   "source": [
    "bin_cols = []\n",
    "for col in cat_cols:\n",
    "    l = df_eda[col].describe().unique()\n",
    "    if l[1] == 2:\n",
    "        #print(col, ': ',l )\n",
    "        #print(df_eda[col].value_counts())\n",
    "        #print('')\n",
    "        bin_cols.append(col)\n",
    "cat_cols = [c for c in cat_cols if c not in bin_cols]\n",
    "print(len(cat_cols))\n",
    "len(bin_cols)"
   ]
  },
  {
   "cell_type": "code",
   "execution_count": 31,
   "metadata": {},
   "outputs": [
    {
     "name": "stdout",
     "output_type": "stream",
     "text": [
      "2019-02-22 06:44:32.959102\n",
      "14511\n",
      "2019-02-22 06:44:33.251229\n"
     ]
    }
   ],
   "source": [
    "print (dt.datetime.now())\n",
    "null_yr = 9999.0\n",
    "yr = dt.datetime.now().year\n",
    "\n",
    "idx = list(df_eda.loc[df_eda.build_year < 1700, 'build_year'].index)\n",
    "idx += list(df_eda.loc[df_eda.build_year.isnull(), 'build_year'].index)\n",
    "idx += list(df_eda.loc[df_eda.build_year > yr, 'build_year'].index)\n",
    "print(len(idx))\n",
    "df_eda.loc[idx, 'build_year'] = null_yr\n",
    "print (dt.datetime.now())"
   ]
  },
  {
   "cell_type": "code",
   "execution_count": 32,
   "metadata": {},
   "outputs": [],
   "source": [
    "# create a new target variable called 'price_cat' for price category.\n",
    "df_eda['price_length'] = [7.5 if cat > 6e6 and cat < 1e7 else len(str(cat)) for cat in df_eda['price_doc'] ]    \n",
    "df_eda['price_length'] = [l if l < 8 else 8 for l in df_eda['price_length']]    \n",
    "df_eda['price_cat'] = df_eda['price_length'].astype('category').cat.codes    \n",
    "\n",
    "# there is only one record in price_cat 4, so make it a price_cat 3.\n",
    "df_eda.loc[df_eda.price_cat == 4, 'price_cat'] = 3\n"
   ]
  },
  {
   "cell_type": "code",
   "execution_count": 33,
   "metadata": {},
   "outputs": [
    {
     "data": {
      "text/plain": [
       "1    13750\n",
       "2    11678\n",
       "3     4810\n",
       "0      233\n",
       "Name: price_cat, dtype: int64"
      ]
     },
     "execution_count": 33,
     "metadata": {},
     "output_type": "execute_result"
    }
   ],
   "source": [
    "df_eda.price_cat.value_counts()"
   ]
  },
  {
   "cell_type": "code",
   "execution_count": 34,
   "metadata": {},
   "outputs": [],
   "source": [
    "#df_eda[num_cols].apply(lambda x: sum(x), axis=1) df_tmp[col].fillna(df_tmp[col].median(), inplace=True)\n",
    "df_eda[num_cols] = df_eda[num_cols].fillna(df_eda[num_cols].median(), inplace=False)"
   ]
  },
  {
   "cell_type": "code",
   "execution_count": 35,
   "metadata": {},
   "outputs": [
    {
     "data": {
      "text/html": [
       "<div>\n",
       "<style scoped>\n",
       "    .dataframe tbody tr th:only-of-type {\n",
       "        vertical-align: middle;\n",
       "    }\n",
       "\n",
       "    .dataframe tbody tr th {\n",
       "        vertical-align: top;\n",
       "    }\n",
       "\n",
       "    .dataframe thead th {\n",
       "        text-align: right;\n",
       "    }\n",
       "</style>\n",
       "<table border=\"1\" class=\"dataframe\">\n",
       "  <thead>\n",
       "    <tr style=\"text-align: right;\">\n",
       "      <th></th>\n",
       "      <th>full_sq</th>\n",
       "      <th>life_sq</th>\n",
       "      <th>floor</th>\n",
       "      <th>max_floor</th>\n",
       "      <th>material</th>\n",
       "      <th>build_year</th>\n",
       "      <th>num_room</th>\n",
       "      <th>kitch_sq</th>\n",
       "      <th>state</th>\n",
       "      <th>area_m</th>\n",
       "      <th>...</th>\n",
       "      <th>provision_retail_space_modern_sqm</th>\n",
       "      <th>turnover_catering_per_cap</th>\n",
       "      <th>theaters_viewers_per_1000_cap</th>\n",
       "      <th>seats_theather_rfmin_per_100000_cap</th>\n",
       "      <th>museum_visitis_per_100_cap</th>\n",
       "      <th>bandwidth_sports</th>\n",
       "      <th>population_reg_sports_share</th>\n",
       "      <th>students_reg_sports_share</th>\n",
       "      <th>apartment_build</th>\n",
       "      <th>apartment_fund_sqm</th>\n",
       "    </tr>\n",
       "  </thead>\n",
       "  <tbody>\n",
       "    <tr>\n",
       "      <th>0</th>\n",
       "      <td>43</td>\n",
       "      <td>27.0</td>\n",
       "      <td>4.0</td>\n",
       "      <td>12.0</td>\n",
       "      <td>1.0</td>\n",
       "      <td>9999.0</td>\n",
       "      <td>2.0</td>\n",
       "      <td>6.0</td>\n",
       "      <td>2.0</td>\n",
       "      <td>6.407578e+06</td>\n",
       "      <td>...</td>\n",
       "      <td>271.0</td>\n",
       "      <td>6943.0</td>\n",
       "      <td>565.0</td>\n",
       "      <td>0.45356</td>\n",
       "      <td>1240.0</td>\n",
       "      <td>269768.0</td>\n",
       "      <td>22.37</td>\n",
       "      <td>64.12</td>\n",
       "      <td>23587.0</td>\n",
       "      <td>230310.0</td>\n",
       "    </tr>\n",
       "    <tr>\n",
       "      <th>1</th>\n",
       "      <td>34</td>\n",
       "      <td>19.0</td>\n",
       "      <td>3.0</td>\n",
       "      <td>12.0</td>\n",
       "      <td>1.0</td>\n",
       "      <td>9999.0</td>\n",
       "      <td>2.0</td>\n",
       "      <td>6.0</td>\n",
       "      <td>2.0</td>\n",
       "      <td>9.589337e+06</td>\n",
       "      <td>...</td>\n",
       "      <td>271.0</td>\n",
       "      <td>6943.0</td>\n",
       "      <td>565.0</td>\n",
       "      <td>0.45356</td>\n",
       "      <td>1240.0</td>\n",
       "      <td>269768.0</td>\n",
       "      <td>22.37</td>\n",
       "      <td>64.12</td>\n",
       "      <td>23587.0</td>\n",
       "      <td>230310.0</td>\n",
       "    </tr>\n",
       "    <tr>\n",
       "      <th>2</th>\n",
       "      <td>43</td>\n",
       "      <td>29.0</td>\n",
       "      <td>2.0</td>\n",
       "      <td>12.0</td>\n",
       "      <td>1.0</td>\n",
       "      <td>9999.0</td>\n",
       "      <td>2.0</td>\n",
       "      <td>6.0</td>\n",
       "      <td>2.0</td>\n",
       "      <td>4.808270e+06</td>\n",
       "      <td>...</td>\n",
       "      <td>271.0</td>\n",
       "      <td>6943.0</td>\n",
       "      <td>565.0</td>\n",
       "      <td>0.45356</td>\n",
       "      <td>1240.0</td>\n",
       "      <td>269768.0</td>\n",
       "      <td>22.37</td>\n",
       "      <td>64.12</td>\n",
       "      <td>23587.0</td>\n",
       "      <td>230310.0</td>\n",
       "    </tr>\n",
       "    <tr>\n",
       "      <th>3</th>\n",
       "      <td>89</td>\n",
       "      <td>50.0</td>\n",
       "      <td>9.0</td>\n",
       "      <td>12.0</td>\n",
       "      <td>1.0</td>\n",
       "      <td>9999.0</td>\n",
       "      <td>2.0</td>\n",
       "      <td>6.0</td>\n",
       "      <td>2.0</td>\n",
       "      <td>1.258354e+07</td>\n",
       "      <td>...</td>\n",
       "      <td>271.0</td>\n",
       "      <td>6943.0</td>\n",
       "      <td>565.0</td>\n",
       "      <td>0.45356</td>\n",
       "      <td>1240.0</td>\n",
       "      <td>269768.0</td>\n",
       "      <td>22.37</td>\n",
       "      <td>64.12</td>\n",
       "      <td>23587.0</td>\n",
       "      <td>230310.0</td>\n",
       "    </tr>\n",
       "    <tr>\n",
       "      <th>4</th>\n",
       "      <td>77</td>\n",
       "      <td>77.0</td>\n",
       "      <td>4.0</td>\n",
       "      <td>12.0</td>\n",
       "      <td>1.0</td>\n",
       "      <td>9999.0</td>\n",
       "      <td>2.0</td>\n",
       "      <td>6.0</td>\n",
       "      <td>2.0</td>\n",
       "      <td>8.398461e+06</td>\n",
       "      <td>...</td>\n",
       "      <td>271.0</td>\n",
       "      <td>6943.0</td>\n",
       "      <td>565.0</td>\n",
       "      <td>0.45356</td>\n",
       "      <td>1240.0</td>\n",
       "      <td>269768.0</td>\n",
       "      <td>22.37</td>\n",
       "      <td>64.12</td>\n",
       "      <td>23587.0</td>\n",
       "      <td>230310.0</td>\n",
       "    </tr>\n",
       "  </tbody>\n",
       "</table>\n",
       "<p>5 rows × 371 columns</p>\n",
       "</div>"
      ],
      "text/plain": [
       "   full_sq  life_sq  floor  max_floor  material  build_year  num_room  \\\n",
       "0       43     27.0    4.0       12.0       1.0      9999.0       2.0   \n",
       "1       34     19.0    3.0       12.0       1.0      9999.0       2.0   \n",
       "2       43     29.0    2.0       12.0       1.0      9999.0       2.0   \n",
       "3       89     50.0    9.0       12.0       1.0      9999.0       2.0   \n",
       "4       77     77.0    4.0       12.0       1.0      9999.0       2.0   \n",
       "\n",
       "   kitch_sq  state        area_m  ...  provision_retail_space_modern_sqm  \\\n",
       "0       6.0    2.0  6.407578e+06  ...                              271.0   \n",
       "1       6.0    2.0  9.589337e+06  ...                              271.0   \n",
       "2       6.0    2.0  4.808270e+06  ...                              271.0   \n",
       "3       6.0    2.0  1.258354e+07  ...                              271.0   \n",
       "4       6.0    2.0  8.398461e+06  ...                              271.0   \n",
       "\n",
       "   turnover_catering_per_cap  theaters_viewers_per_1000_cap  \\\n",
       "0                     6943.0                          565.0   \n",
       "1                     6943.0                          565.0   \n",
       "2                     6943.0                          565.0   \n",
       "3                     6943.0                          565.0   \n",
       "4                     6943.0                          565.0   \n",
       "\n",
       "   seats_theather_rfmin_per_100000_cap  museum_visitis_per_100_cap  \\\n",
       "0                              0.45356                      1240.0   \n",
       "1                              0.45356                      1240.0   \n",
       "2                              0.45356                      1240.0   \n",
       "3                              0.45356                      1240.0   \n",
       "4                              0.45356                      1240.0   \n",
       "\n",
       "   bandwidth_sports  population_reg_sports_share  students_reg_sports_share  \\\n",
       "0          269768.0                        22.37                      64.12   \n",
       "1          269768.0                        22.37                      64.12   \n",
       "2          269768.0                        22.37                      64.12   \n",
       "3          269768.0                        22.37                      64.12   \n",
       "4          269768.0                        22.37                      64.12   \n",
       "\n",
       "   apartment_build  apartment_fund_sqm  \n",
       "0          23587.0            230310.0  \n",
       "1          23587.0            230310.0  \n",
       "2          23587.0            230310.0  \n",
       "3          23587.0            230310.0  \n",
       "4          23587.0            230310.0  \n",
       "\n",
       "[5 rows x 371 columns]"
      ]
     },
     "execution_count": 35,
     "metadata": {},
     "output_type": "execute_result"
    }
   ],
   "source": [
    "df_eda[num_cols].head()"
   ]
  },
  {
   "cell_type": "code",
   "execution_count": 36,
   "metadata": {},
   "outputs": [
    {
     "data": {
      "text/html": [
       "<div>\n",
       "<style scoped>\n",
       "    .dataframe tbody tr th:only-of-type {\n",
       "        vertical-align: middle;\n",
       "    }\n",
       "\n",
       "    .dataframe tbody tr th {\n",
       "        vertical-align: top;\n",
       "    }\n",
       "\n",
       "    .dataframe thead th {\n",
       "        text-align: right;\n",
       "    }\n",
       "</style>\n",
       "<table border=\"1\" class=\"dataframe\">\n",
       "  <thead>\n",
       "    <tr style=\"text-align: right;\">\n",
       "      <th></th>\n",
       "      <th>product_type</th>\n",
       "      <th>culture_objects_top_25</th>\n",
       "      <th>thermal_power_plant_raion</th>\n",
       "      <th>incineration_raion</th>\n",
       "      <th>oil_chemistry_raion</th>\n",
       "      <th>radiation_raion</th>\n",
       "      <th>railroad_terminal_raion</th>\n",
       "      <th>big_market_raion</th>\n",
       "      <th>nuclear_reactor_raion</th>\n",
       "      <th>detention_facility_raion</th>\n",
       "      <th>water_1line</th>\n",
       "      <th>big_road1_1line</th>\n",
       "      <th>railroad_1line</th>\n",
       "    </tr>\n",
       "  </thead>\n",
       "  <tbody>\n",
       "    <tr>\n",
       "      <th>0</th>\n",
       "      <td>0</td>\n",
       "      <td>0</td>\n",
       "      <td>0</td>\n",
       "      <td>0</td>\n",
       "      <td>0</td>\n",
       "      <td>0</td>\n",
       "      <td>0</td>\n",
       "      <td>0</td>\n",
       "      <td>0</td>\n",
       "      <td>0</td>\n",
       "      <td>0</td>\n",
       "      <td>0</td>\n",
       "      <td>0</td>\n",
       "    </tr>\n",
       "    <tr>\n",
       "      <th>1</th>\n",
       "      <td>0</td>\n",
       "      <td>1</td>\n",
       "      <td>0</td>\n",
       "      <td>0</td>\n",
       "      <td>0</td>\n",
       "      <td>0</td>\n",
       "      <td>0</td>\n",
       "      <td>0</td>\n",
       "      <td>0</td>\n",
       "      <td>0</td>\n",
       "      <td>0</td>\n",
       "      <td>0</td>\n",
       "      <td>0</td>\n",
       "    </tr>\n",
       "    <tr>\n",
       "      <th>2</th>\n",
       "      <td>0</td>\n",
       "      <td>0</td>\n",
       "      <td>0</td>\n",
       "      <td>0</td>\n",
       "      <td>0</td>\n",
       "      <td>1</td>\n",
       "      <td>0</td>\n",
       "      <td>0</td>\n",
       "      <td>0</td>\n",
       "      <td>0</td>\n",
       "      <td>0</td>\n",
       "      <td>0</td>\n",
       "      <td>0</td>\n",
       "    </tr>\n",
       "    <tr>\n",
       "      <th>3</th>\n",
       "      <td>0</td>\n",
       "      <td>0</td>\n",
       "      <td>0</td>\n",
       "      <td>0</td>\n",
       "      <td>0</td>\n",
       "      <td>0</td>\n",
       "      <td>0</td>\n",
       "      <td>0</td>\n",
       "      <td>0</td>\n",
       "      <td>0</td>\n",
       "      <td>0</td>\n",
       "      <td>0</td>\n",
       "      <td>0</td>\n",
       "    </tr>\n",
       "    <tr>\n",
       "      <th>4</th>\n",
       "      <td>0</td>\n",
       "      <td>0</td>\n",
       "      <td>0</td>\n",
       "      <td>0</td>\n",
       "      <td>0</td>\n",
       "      <td>1</td>\n",
       "      <td>1</td>\n",
       "      <td>0</td>\n",
       "      <td>0</td>\n",
       "      <td>0</td>\n",
       "      <td>0</td>\n",
       "      <td>0</td>\n",
       "      <td>1</td>\n",
       "    </tr>\n",
       "  </tbody>\n",
       "</table>\n",
       "</div>"
      ],
      "text/plain": [
       "   product_type  culture_objects_top_25  thermal_power_plant_raion  \\\n",
       "0             0                       0                          0   \n",
       "1             0                       1                          0   \n",
       "2             0                       0                          0   \n",
       "3             0                       0                          0   \n",
       "4             0                       0                          0   \n",
       "\n",
       "   incineration_raion  oil_chemistry_raion  radiation_raion  \\\n",
       "0                   0                    0                0   \n",
       "1                   0                    0                0   \n",
       "2                   0                    0                1   \n",
       "3                   0                    0                0   \n",
       "4                   0                    0                1   \n",
       "\n",
       "   railroad_terminal_raion  big_market_raion  nuclear_reactor_raion  \\\n",
       "0                        0                 0                      0   \n",
       "1                        0                 0                      0   \n",
       "2                        0                 0                      0   \n",
       "3                        0                 0                      0   \n",
       "4                        1                 0                      0   \n",
       "\n",
       "   detention_facility_raion  water_1line  big_road1_1line  railroad_1line  \n",
       "0                         0            0                0               0  \n",
       "1                         0            0                0               0  \n",
       "2                         0            0                0               0  \n",
       "3                         0            0                0               0  \n",
       "4                         0            0                0               1  "
      ]
     },
     "execution_count": 36,
     "metadata": {},
     "output_type": "execute_result"
    }
   ],
   "source": [
    "for col in bin_cols:\n",
    "    df_eda[col] = df_eda[col].astype('category').cat.codes\n",
    "    df_eda[col].head()\n",
    "df_eda[bin_cols].head()"
   ]
  },
  {
   "cell_type": "code",
   "execution_count": 37,
   "metadata": {},
   "outputs": [
    {
     "data": {
      "text/plain": [
       "(30471, 552)"
      ]
     },
     "execution_count": 37,
     "metadata": {},
     "output_type": "execute_result"
    }
   ],
   "source": [
    "for col in cat_cols:\n",
    "    df_eda = pd.merge(df_eda, pd.get_dummies(df_eda[col].astype('category').cat.codes, prefix=col)\\\n",
    "                         ,left_index=True, right_index=True)\n",
    "    df_eda.drop([col],inplace=True, axis=1)\n",
    "df_eda.shape"
   ]
  },
  {
   "cell_type": "code",
   "execution_count": 38,
   "metadata": {},
   "outputs": [
    {
     "data": {
      "text/html": [
       "<div>\n",
       "<style scoped>\n",
       "    .dataframe tbody tr th:only-of-type {\n",
       "        vertical-align: middle;\n",
       "    }\n",
       "\n",
       "    .dataframe tbody tr th {\n",
       "        vertical-align: top;\n",
       "    }\n",
       "\n",
       "    .dataframe thead th {\n",
       "        text-align: right;\n",
       "    }\n",
       "</style>\n",
       "<table border=\"1\" class=\"dataframe\">\n",
       "  <thead>\n",
       "    <tr style=\"text-align: right;\">\n",
       "      <th></th>\n",
       "      <th>id</th>\n",
       "      <th>timestamp</th>\n",
       "      <th>full_sq</th>\n",
       "      <th>life_sq</th>\n",
       "      <th>floor</th>\n",
       "      <th>max_floor</th>\n",
       "      <th>material</th>\n",
       "      <th>build_year</th>\n",
       "      <th>num_room</th>\n",
       "      <th>kitch_sq</th>\n",
       "      <th>...</th>\n",
       "      <th>child_on_acc_pre_school_2</th>\n",
       "      <th>child_on_acc_pre_school_3</th>\n",
       "      <th>modern_education_share_-1</th>\n",
       "      <th>modern_education_share_0</th>\n",
       "      <th>modern_education_share_1</th>\n",
       "      <th>modern_education_share_2</th>\n",
       "      <th>old_education_build_share_-1</th>\n",
       "      <th>old_education_build_share_0</th>\n",
       "      <th>old_education_build_share_1</th>\n",
       "      <th>old_education_build_share_2</th>\n",
       "    </tr>\n",
       "  </thead>\n",
       "  <tbody>\n",
       "    <tr>\n",
       "      <th>0</th>\n",
       "      <td>1</td>\n",
       "      <td>2011-08-20</td>\n",
       "      <td>43</td>\n",
       "      <td>27.0</td>\n",
       "      <td>4.0</td>\n",
       "      <td>12.0</td>\n",
       "      <td>1.0</td>\n",
       "      <td>9999.0</td>\n",
       "      <td>2.0</td>\n",
       "      <td>6.0</td>\n",
       "      <td>...</td>\n",
       "      <td>0</td>\n",
       "      <td>0</td>\n",
       "      <td>1</td>\n",
       "      <td>0</td>\n",
       "      <td>0</td>\n",
       "      <td>0</td>\n",
       "      <td>1</td>\n",
       "      <td>0</td>\n",
       "      <td>0</td>\n",
       "      <td>0</td>\n",
       "    </tr>\n",
       "    <tr>\n",
       "      <th>1</th>\n",
       "      <td>2</td>\n",
       "      <td>2011-08-23</td>\n",
       "      <td>34</td>\n",
       "      <td>19.0</td>\n",
       "      <td>3.0</td>\n",
       "      <td>12.0</td>\n",
       "      <td>1.0</td>\n",
       "      <td>9999.0</td>\n",
       "      <td>2.0</td>\n",
       "      <td>6.0</td>\n",
       "      <td>...</td>\n",
       "      <td>0</td>\n",
       "      <td>0</td>\n",
       "      <td>1</td>\n",
       "      <td>0</td>\n",
       "      <td>0</td>\n",
       "      <td>0</td>\n",
       "      <td>1</td>\n",
       "      <td>0</td>\n",
       "      <td>0</td>\n",
       "      <td>0</td>\n",
       "    </tr>\n",
       "    <tr>\n",
       "      <th>2</th>\n",
       "      <td>3</td>\n",
       "      <td>2011-08-27</td>\n",
       "      <td>43</td>\n",
       "      <td>29.0</td>\n",
       "      <td>2.0</td>\n",
       "      <td>12.0</td>\n",
       "      <td>1.0</td>\n",
       "      <td>9999.0</td>\n",
       "      <td>2.0</td>\n",
       "      <td>6.0</td>\n",
       "      <td>...</td>\n",
       "      <td>0</td>\n",
       "      <td>0</td>\n",
       "      <td>1</td>\n",
       "      <td>0</td>\n",
       "      <td>0</td>\n",
       "      <td>0</td>\n",
       "      <td>1</td>\n",
       "      <td>0</td>\n",
       "      <td>0</td>\n",
       "      <td>0</td>\n",
       "    </tr>\n",
       "    <tr>\n",
       "      <th>3</th>\n",
       "      <td>4</td>\n",
       "      <td>2011-09-01</td>\n",
       "      <td>89</td>\n",
       "      <td>50.0</td>\n",
       "      <td>9.0</td>\n",
       "      <td>12.0</td>\n",
       "      <td>1.0</td>\n",
       "      <td>9999.0</td>\n",
       "      <td>2.0</td>\n",
       "      <td>6.0</td>\n",
       "      <td>...</td>\n",
       "      <td>0</td>\n",
       "      <td>0</td>\n",
       "      <td>1</td>\n",
       "      <td>0</td>\n",
       "      <td>0</td>\n",
       "      <td>0</td>\n",
       "      <td>1</td>\n",
       "      <td>0</td>\n",
       "      <td>0</td>\n",
       "      <td>0</td>\n",
       "    </tr>\n",
       "    <tr>\n",
       "      <th>4</th>\n",
       "      <td>5</td>\n",
       "      <td>2011-09-05</td>\n",
       "      <td>77</td>\n",
       "      <td>77.0</td>\n",
       "      <td>4.0</td>\n",
       "      <td>12.0</td>\n",
       "      <td>1.0</td>\n",
       "      <td>9999.0</td>\n",
       "      <td>2.0</td>\n",
       "      <td>6.0</td>\n",
       "      <td>...</td>\n",
       "      <td>0</td>\n",
       "      <td>0</td>\n",
       "      <td>1</td>\n",
       "      <td>0</td>\n",
       "      <td>0</td>\n",
       "      <td>0</td>\n",
       "      <td>1</td>\n",
       "      <td>0</td>\n",
       "      <td>0</td>\n",
       "      <td>0</td>\n",
       "    </tr>\n",
       "  </tbody>\n",
       "</table>\n",
       "<p>5 rows × 552 columns</p>\n",
       "</div>"
      ],
      "text/plain": [
       "   id   timestamp  full_sq  life_sq  floor  max_floor  material  build_year  \\\n",
       "0   1  2011-08-20       43     27.0    4.0       12.0       1.0      9999.0   \n",
       "1   2  2011-08-23       34     19.0    3.0       12.0       1.0      9999.0   \n",
       "2   3  2011-08-27       43     29.0    2.0       12.0       1.0      9999.0   \n",
       "3   4  2011-09-01       89     50.0    9.0       12.0       1.0      9999.0   \n",
       "4   5  2011-09-05       77     77.0    4.0       12.0       1.0      9999.0   \n",
       "\n",
       "   num_room  kitch_sq  ...  child_on_acc_pre_school_2  \\\n",
       "0       2.0       6.0  ...                          0   \n",
       "1       2.0       6.0  ...                          0   \n",
       "2       2.0       6.0  ...                          0   \n",
       "3       2.0       6.0  ...                          0   \n",
       "4       2.0       6.0  ...                          0   \n",
       "\n",
       "   child_on_acc_pre_school_3  modern_education_share_-1  \\\n",
       "0                          0                          1   \n",
       "1                          0                          1   \n",
       "2                          0                          1   \n",
       "3                          0                          1   \n",
       "4                          0                          1   \n",
       "\n",
       "   modern_education_share_0  modern_education_share_1  \\\n",
       "0                         0                         0   \n",
       "1                         0                         0   \n",
       "2                         0                         0   \n",
       "3                         0                         0   \n",
       "4                         0                         0   \n",
       "\n",
       "   modern_education_share_2  old_education_build_share_-1  \\\n",
       "0                         0                             1   \n",
       "1                         0                             1   \n",
       "2                         0                             1   \n",
       "3                         0                             1   \n",
       "4                         0                             1   \n",
       "\n",
       "   old_education_build_share_0  old_education_build_share_1  \\\n",
       "0                            0                            0   \n",
       "1                            0                            0   \n",
       "2                            0                            0   \n",
       "3                            0                            0   \n",
       "4                            0                            0   \n",
       "\n",
       "   old_education_build_share_2  \n",
       "0                            0  \n",
       "1                            0  \n",
       "2                            0  \n",
       "3                            0  \n",
       "4                            0  \n",
       "\n",
       "[5 rows x 552 columns]"
      ]
     },
     "execution_count": 38,
     "metadata": {},
     "output_type": "execute_result"
    }
   ],
   "source": [
    "df_eda.head()"
   ]
  },
  {
   "cell_type": "code",
   "execution_count": 39,
   "metadata": {},
   "outputs": [],
   "source": [
    "rest_cols = [c for c in df_eda.columns if c not in num_cols]"
   ]
  },
  {
   "cell_type": "code",
   "execution_count": 40,
   "metadata": {},
   "outputs": [
    {
     "data": {
      "text/plain": [
       "53"
      ]
     },
     "execution_count": 40,
     "metadata": {},
     "output_type": "execute_result"
    }
   ],
   "source": [
    "km_list = ['additional_education_km', 'basketball_km', 'big_church_km', 'big_market_km', 'big_road1_km', \\\n",
    "           'big_road2_km', 'bulvar_ring_km', 'bus_terminal_avto_km', 'catering_km', 'cemetery_km', \\\n",
    "           'church_synagogue_km', 'detention_facility_km', 'exhibition_km', 'fitness_km', 'green_zone_km', \\\n",
    "           'hospice_morgue_km', 'ice_rink_km', 'incineration_km', 'industrial_km', 'kindergarten_km', 'kremlin_km', \\\n",
    "           'market_shop_km', 'metro_km_avto', 'metro_km_walk', 'mkad_km', 'mosque_km', 'museum_km',\\\n",
    "           'nuclear_reactor_km', 'office_km', 'oil_chemistry_km', 'park_km', 'power_transmission_line_km',\\\n",
    "           'preschool_km', 'public_healthcare_km', 'public_transport_station_km', 'radiation_km', 'railroad_km', \\\n",
    "           'railroad_station_avto_km', 'railroad_station_walk_km', 'sadovoe_km', 'school_km', 'shopping_centers_km', \\\n",
    "           'stadium_km', 'swim_pool_km', 'theater_km', 'thermal_power_plant_km', 'ts_km', 'ttk_km', \\\n",
    "           'university_km', 'water_km', 'water_treatment_km', 'workplaces_km', 'zd_vokzaly_avto_km']\n",
    "len(km_list)"
   ]
  },
  {
   "cell_type": "code",
   "execution_count": 41,
   "metadata": {},
   "outputs": [
    {
     "name": "stdout",
     "output_type": "stream",
     "text": [
      "2019-02-22 06:44:35.913238\n"
     ]
    },
    {
     "name": "stderr",
     "output_type": "stream",
     "text": [
      "/miniconda3/lib/python3.7/site-packages/sklearn/preprocessing/data.py:625: DataConversionWarning: Data with input dtype int64, float64 were all converted to float64 by StandardScaler.\n",
      "  return self.partial_fit(X, y)\n"
     ]
    },
    {
     "name": "stdout",
     "output_type": "stream",
     "text": [
      "    full_sq   life_sq     floor  max_floor  material  build_year  num_room  \\\n",
      "0 -0.294873 -0.139309 -0.690611  -0.068443 -0.441371      9999.0  0.087541   \n",
      "1 -0.531523 -0.311273 -0.879077  -0.068443 -0.441371      9999.0  0.087541   \n",
      "2 -0.294873 -0.096319 -1.067542  -0.068443 -0.441371      9999.0  0.087541   \n",
      "3  0.914671  0.355086  0.251717  -0.068443 -0.441371      9999.0  0.087541   \n",
      "4  0.599138  0.935463 -0.690611  -0.068443 -0.441371      9999.0  0.087541   \n",
      "\n",
      "   kitch_sq     state    area_m  ...  modern_education_share_-1  \\\n",
      "0 -0.011699 -0.090296 -0.544788  ...                          1   \n",
      "1 -0.011699 -0.090296 -0.390702  ...                          1   \n",
      "2 -0.011699 -0.090296 -0.622239  ...                          1   \n",
      "3 -0.011699 -0.090296 -0.245700  ...                          1   \n",
      "4 -0.011699 -0.090296 -0.448374  ...                          1   \n",
      "\n",
      "   modern_education_share_0  modern_education_share_1  \\\n",
      "0                         0                         0   \n",
      "1                         0                         0   \n",
      "2                         0                         0   \n",
      "3                         0                         0   \n",
      "4                         0                         0   \n",
      "\n",
      "   modern_education_share_2  old_education_build_share_-1  \\\n",
      "0                         0                             1   \n",
      "1                         0                             1   \n",
      "2                         0                             1   \n",
      "3                         0                             1   \n",
      "4                         0                             1   \n",
      "\n",
      "   old_education_build_share_0  old_education_build_share_1  \\\n",
      "0                            0                            0   \n",
      "1                            0                            0   \n",
      "2                            0                            0   \n",
      "3                            0                            0   \n",
      "4                            0                            0   \n",
      "\n",
      "   old_education_build_share_2   diff_sq   plus_sq  \n",
      "0                            0 -0.283174 -0.434182  \n",
      "1                            0 -0.519824 -0.842796  \n",
      "2                            0 -0.283174 -0.391191  \n",
      "3                            0  0.926370  1.269757  \n",
      "4                            0  0.610837  1.534601  \n",
      "\n",
      "[5 rows x 554 columns]\n",
      "2019-02-22 06:44:36.416720\n"
     ]
    },
    {
     "name": "stderr",
     "output_type": "stream",
     "text": [
      "/miniconda3/lib/python3.7/site-packages/sklearn/base.py:462: DataConversionWarning: Data with input dtype int64, float64 were all converted to float64 by StandardScaler.\n",
      "  return self.fit(X, **fit_params).transform(X)\n"
     ]
    }
   ],
   "source": [
    "# continous numeric data scaled ... \n",
    "print (dt.datetime.now())\n",
    "scaler = StandardScaler()\n",
    "df_new = pd.merge(pd.DataFrame(scaler.fit_transform(df_eda[num_cols]), columns=num_cols), \\\n",
    "                  df_eda[rest_cols],left_index=True, right_index=True)\n",
    "\n",
    "df_new['build_year'] = df_eda['build_year']\n",
    "\n",
    "df_new['diff_sq'] = df_new['full_sq'] - df_new['kitch_sq']\n",
    "df_new['plus_sq'] = df_new['full_sq'] + df_new['life_sq'] \n",
    "\n",
    "\n",
    "print(df_new.head())\n",
    "print (dt.datetime.now())\n"
   ]
  },
  {
   "cell_type": "code",
   "execution_count": 42,
   "metadata": {},
   "outputs": [
    {
     "data": {
      "text/plain": [
       "(30471, 554)"
      ]
     },
     "execution_count": 42,
     "metadata": {},
     "output_type": "execute_result"
    }
   ],
   "source": [
    "df_new.shape"
   ]
  },
  {
   "cell_type": "code",
   "execution_count": 43,
   "metadata": {},
   "outputs": [
    {
     "name": "stderr",
     "output_type": "stream",
     "text": [
      "/miniconda3/lib/python3.7/site-packages/numpy/lib/function_base.py:2530: RuntimeWarning: invalid value encountered in true_divide\n",
      "  c /= stddev[:, None]\n",
      "/miniconda3/lib/python3.7/site-packages/numpy/lib/function_base.py:2531: RuntimeWarning: invalid value encountered in true_divide\n",
      "  c /= stddev[None, :]\n"
     ]
    },
    {
     "data": {
      "text/plain": [
       "[((0.42272655227276157, 0.42272655227276157), 'num_room'),\n",
       " ((0.32281143505818843, -0.32281143505818843), 'zd_vokzaly_avto_km'),\n",
       " ((0.31193725653975396, -0.31193725653975396), 'sadovoe_km'),\n",
       " ((0.3102738444428208, -0.3102738444428208), 'nuclear_reactor_km'),\n",
       " ((0.3086895133354855, -0.3086895133354855), 'ttk_km'),\n",
       " ((0.3080194544479653, 0.3080194544479653), 'trc_count_5000'),\n",
       " ((0.3067170967400467, -0.3067170967400467), 'bulvar_ring_km'),\n",
       " ((0.30492981299397753, -0.30492981299397753), 'kremlin_km'),\n",
       " ((0.29981989420180594, -0.29981989420180594), 'ecology_2'),\n",
       " ((0.2957837590362653, 0.2957837590362653), 'sport_count_5000'),\n",
       " ((0.2920133356661137, 0.2920133356661137), 'trc_sqm_5000'),\n",
       " ((0.2879056919203075, 0.2879056919203075), 'sport_count_3000'),\n",
       " ((0.28547946500356797, 0.28547946500356797), 'full_sq'),\n",
       " ((0.28264552856876257, 0.28264552856876257), 'sport_count_2000'),\n",
       " ((0.28166274960173426, -0.28166274960173426), 'stadium_km'),\n",
       " ((0.2815093375475938, -0.2815093375475938), 'detention_facility_km'),\n",
       " ((0.2724639169570739, -0.2724639169570739), 'basketball_km'),\n",
       " ((0.27093807713353907, -0.27093807713353907), 'office_km'),\n",
       " ((0.27035495452617253, 0.27035495452617253), 'trc_count_3000'),\n",
       " ((0.26699294856422734, 0.26699294856422734), 'sport_count_1500'),\n",
       " ((0.2661342639305233, -0.2661342639305233), 'workplaces_km'),\n",
       " ((0.26220209331050454, 0.26220209331050454),\n",
       "  'school_education_centers_raion'),\n",
       " ((0.2609623326536571, -0.2609623326536571), 'university_km'),\n",
       " ((0.25975269922170807, 0.25975269922170807), 'ekder_male'),\n",
       " ((0.25749810138484835, 0.25749810138484835), 'sport_objects_raion'),\n",
       " ((0.2536870781650719, -0.2536870781650719), 'swim_pool_km'),\n",
       " ((0.25304692697604947, 0.25304692697604947), 'ekder_all'),\n",
       " ((0.24973988875464612, 0.24973988875464612), 'trc_sqm_3000'),\n",
       " ((0.24904034156834015, -0.24904034156834015), 'catering_km'),\n",
       " ((0.2488523505541771, 0.2488523505541771), 'ekder_female'),\n",
       " ((0.24416930952400537, -0.24416930952400537), 'exhibition_km'),\n",
       " ((0.24003194293501562, -0.24003194293501562), 'thermal_power_plant_km'),\n",
       " ((0.23936252560993612, 0.23936252560993612), 'raion_popul'),\n",
       " ((0.2368652895294227, 0.2368652895294227), 'market_count_5000'),\n",
       " ((0.23588819290090132, -0.23588819290090132), 'big_church_km'),\n",
       " ((0.23547627732920598, 0.23547627732920598), 'work_male'),\n",
       " ((0.23327924364374444, -0.23327924364374444), 'fitness_km'),\n",
       " ((0.23225668938392235, -0.23225668938392235), 'theater_km'),\n",
       " ((0.23206322776681673, 0.23206322776681673), 'office_sqm_5000'),\n",
       " ((0.23171879155991032, 0.23171879155991032), 'work_all'),\n",
       " ((0.2297220855699648, -0.2297220855699648), 'metro_min_avto'),\n",
       " ((0.22667226976367066, 0.22667226976367066), 'work_female'),\n",
       " ((0.22647542546499264, 0.22647542546499264),\n",
       "  'preschool_education_centers_raion'),\n",
       " ((0.2253719605520065, 0.2253719605520065), 'healthcare_centers_raion'),\n",
       " ((0.22385794543001647, 0.22385794543001647), '0_17_female'),\n",
       " ((0.2234063698761587, 0.2234063698761587), '0_17_all'),\n",
       " ((0.22270634816863932, 0.22270634816863932), 'children_school'),\n",
       " ((0.22270634816863932, 0.22270634816863932), '7_14_all'),\n",
       " ((0.22257735288559802, 0.22257735288559802), '0_17_male'),\n",
       " ((0.2225133482346097, 0.2225133482346097), '7_14_female')]"
      ]
     },
     "execution_count": 43,
     "metadata": {},
     "output_type": "execute_result"
    }
   ],
   "source": [
    "best_cols = []\n",
    "for col in df_new.columns:\n",
    "#for col in rest_cols:\n",
    "    if col not in skip+['price_length', 'price_doc']:\n",
    "        #print(col)\n",
    "        cr = np.corrcoef(df_new.loc[:, col], df_new.loc[:,'price_cat'])\n",
    "        best_cols.append(((np.abs(cr[1][0]),cr[1][0]),col))\n",
    "        #print(col,\": \",cr[1][0])\n",
    "        #print(list(zip(mutual_info_classif(df_new.loc[:,['price_cat',col]], \\\n",
    "        #                                   df_new.loc[:,'price_cat'], discrete_features=False), ['price_cat',col])))\n",
    "                        \n",
    "sorted(best_cols,reverse=True)[:50]"
   ]
  },
  {
   "cell_type": "code",
   "execution_count": 44,
   "metadata": {},
   "outputs": [
    {
     "data": {
      "text/plain": [
       "[((0.42272655227276157, 0.42272655227276157), 'num_room'),\n",
       " ((0.32281143505818843, -0.32281143505818843), 'zd_vokzaly_avto_km'),\n",
       " ((0.31193725653975396, -0.31193725653975396), 'sadovoe_km'),\n",
       " ((0.3102738444428208, -0.3102738444428208), 'nuclear_reactor_km'),\n",
       " ((0.3086895133354855, -0.3086895133354855), 'ttk_km'),\n",
       " ((0.3080194544479653, 0.3080194544479653), 'trc_count_5000'),\n",
       " ((0.3067170967400467, -0.3067170967400467), 'bulvar_ring_km'),\n",
       " ((0.30492981299397753, -0.30492981299397753), 'kremlin_km'),\n",
       " ((0.29981989420180594, -0.29981989420180594), 'ecology_2'),\n",
       " ((0.2957837590362653, 0.2957837590362653), 'sport_count_5000'),\n",
       " ((0.2920133356661137, 0.2920133356661137), 'trc_sqm_5000'),\n",
       " ((0.2879056919203075, 0.2879056919203075), 'sport_count_3000'),\n",
       " ((0.28547946500356797, 0.28547946500356797), 'full_sq'),\n",
       " ((0.28264552856876257, 0.28264552856876257), 'sport_count_2000'),\n",
       " ((0.28166274960173426, -0.28166274960173426), 'stadium_km'),\n",
       " ((0.2815093375475938, -0.2815093375475938), 'detention_facility_km'),\n",
       " ((0.2724639169570739, -0.2724639169570739), 'basketball_km'),\n",
       " ((0.27093807713353907, -0.27093807713353907), 'office_km'),\n",
       " ((0.27035495452617253, 0.27035495452617253), 'trc_count_3000'),\n",
       " ((0.26699294856422734, 0.26699294856422734), 'sport_count_1500'),\n",
       " ((0.2661342639305233, -0.2661342639305233), 'workplaces_km'),\n",
       " ((0.26220209331050454, 0.26220209331050454),\n",
       "  'school_education_centers_raion'),\n",
       " ((0.2609623326536571, -0.2609623326536571), 'university_km'),\n",
       " ((0.25975269922170807, 0.25975269922170807), 'ekder_male'),\n",
       " ((0.25749810138484835, 0.25749810138484835), 'sport_objects_raion'),\n",
       " ((0.2536870781650719, -0.2536870781650719), 'swim_pool_km'),\n",
       " ((0.25304692697604947, 0.25304692697604947), 'ekder_all'),\n",
       " ((0.24973988875464612, 0.24973988875464612), 'trc_sqm_3000'),\n",
       " ((0.24904034156834015, -0.24904034156834015), 'catering_km'),\n",
       " ((0.2488523505541771, 0.2488523505541771), 'ekder_female'),\n",
       " ((0.24416930952400537, -0.24416930952400537), 'exhibition_km'),\n",
       " ((0.24003194293501562, -0.24003194293501562), 'thermal_power_plant_km'),\n",
       " ((0.23936252560993612, 0.23936252560993612), 'raion_popul'),\n",
       " ((0.2368652895294227, 0.2368652895294227), 'market_count_5000'),\n",
       " ((0.23588819290090132, -0.23588819290090132), 'big_church_km'),\n",
       " ((0.23547627732920598, 0.23547627732920598), 'work_male'),\n",
       " ((0.23327924364374444, -0.23327924364374444), 'fitness_km'),\n",
       " ((0.23225668938392235, -0.23225668938392235), 'theater_km'),\n",
       " ((0.23206322776681673, 0.23206322776681673), 'office_sqm_5000'),\n",
       " ((0.23171879155991032, 0.23171879155991032), 'work_all'),\n",
       " ((0.2297220855699648, -0.2297220855699648), 'metro_min_avto'),\n",
       " ((0.22667226976367066, 0.22667226976367066), 'work_female'),\n",
       " ((0.22647542546499264, 0.22647542546499264),\n",
       "  'preschool_education_centers_raion'),\n",
       " ((0.2253719605520065, 0.2253719605520065), 'healthcare_centers_raion'),\n",
       " ((0.22385794543001647, 0.22385794543001647), '0_17_female'),\n",
       " ((0.2234063698761587, 0.2234063698761587), '0_17_all'),\n",
       " ((0.22270634816863932, 0.22270634816863932), 'children_school'),\n",
       " ((0.22270634816863932, 0.22270634816863932), '7_14_all'),\n",
       " ((0.22257735288559802, 0.22257735288559802), '0_17_male'),\n",
       " ((0.2225133482346097, 0.2225133482346097), '7_14_female'),\n",
       " ((0.22246758083575957, -0.22246758083575957), 'shopping_centers_km'),\n",
       " ((0.22216686554385467, 0.22216686554385467), '7_14_male'),\n",
       " ((0.22213315737969985, -0.22213315737969985), 'radiation_km'),\n",
       " ((0.22211157808168552, 0.22211157808168552), '0_13_female'),\n",
       " ((0.22185599858310534, 0.22185599858310534), 'young_female'),\n",
       " ((0.2213866063431948, 0.2213866063431948), '0_13_all'),\n",
       " ((0.22115423571157927, -0.22115423571157927), 'market_shop_km'),\n",
       " ((0.22113400749317033, 0.22113400749317033), 'young_all'),\n",
       " ((0.22039643867455955, -0.22039643867455955), 'build_year'),\n",
       " ((0.22032881521823525, -0.22032881521823525), 'public_healthcare_km'),\n",
       " ((0.22025280613913628, 0.22025280613913628), '0_13_male'),\n",
       " ((0.22003012220385038, 0.22003012220385038), 'young_male'),\n",
       " ((0.21990871667743786, 0.21990871667743786), 'trc_count_2000'),\n",
       " ((0.2192727831883183, 0.2192727831883183), '0_6_female'),\n",
       " ((0.2183427448202882, -0.2183427448202882), 'museum_km'),\n",
       " ((0.2182283758841359, -0.2182283758841359), 'metro_min_walk'),\n",
       " ((0.21822837587398883, -0.21822837587398883), 'metro_km_walk'),\n",
       " ((0.21815432326742437, 0.21815432326742437), 'children_preschool'),\n",
       " ((0.21815432326742437, 0.21815432326742437), '0_6_all'),\n",
       " ((0.21789212424382381, -0.21789212424382381), 'area_m'),\n",
       " ((0.21774383517832022, -0.21774383517832022), 'park_km'),\n",
       " ((0.21672215792550586, 0.21672215792550586), '0_6_male'),\n",
       " ((0.2160258918019707, -0.2160258918019707), 'metro_km_avto'),\n",
       " ((0.20934479205605436, -0.20934479205605436), 'ts_km'),\n",
       " ((0.20828361043739935, 0.20828361043739935), 'sport_count_1000'),\n",
       " ((0.2050427328827224, 0.2050427328827224), 'market_count_3000'),\n",
       " ((0.19899770260475122, -0.19899770260475122), 'big_road2_km'),\n",
       " ((0.19834746671641582, -0.19834746671641582), 'power_transmission_line_km'),\n",
       " ((0.1962926321878476, 0.1962926321878476), 'cafe_count_5000_price_1000'),\n",
       " ((0.19206507431970676, 0.19206507431970676), 'shopping_centers_raion'),\n",
       " ((0.19008095131402122, 0.19008095131402122), 'office_sqm_3000'),\n",
       " ((0.18573496973426323, -0.18573496973426323), 'railroad_station_avto_km'),\n",
       " ((0.18428890816373544, -0.18428890816373544), 'railroad_station_avto_min'),\n",
       " ((0.18401294423780187, 0.18401294423780187), 'trc_count_1500'),\n",
       " ((0.18393780955526093, 0.18393780955526093), 'cafe_count_5000_na_price'),\n",
       " ((0.18252390380545172, 0.18252390380545172), 'office_sqm_2000'),\n",
       " ((0.18240543086182623, -0.18240543086182623), 'school_km'),\n",
       " ((0.18219966412046973, -0.18219966412046973), 'additional_education_km'),\n",
       " ((0.18201544612105178, 0.18201544612105178), 'cafe_count_5000'),\n",
       " ((0.18133034020740252, 0.18133034020740252), 'cafe_count_5000_price_500'),\n",
       " ((0.18121658516949185, 0.18121658516949185), 'cafe_count_5000_price_1500'),\n",
       " ((0.18096529095907413, -0.18096529095907413), 'ice_rink_km'),\n",
       " ((0.18061911249483825, -0.18061911249483825), 'preschool_km'),\n",
       " ((0.17998891967683894, -0.17998891967683894), 'bus_terminal_avto_km'),\n",
       " ((0.17901780839625134, -0.17901780839625134), 'railroad_station_walk_min'),\n",
       " ((0.17901780838949063, -0.17901780838949063), 'railroad_station_walk_km'),\n",
       " ((0.17408865397031734, -0.17408865397031734), 'green_part_5000'),\n",
       " ((0.17365843949292514, -0.17365843949292514), 'hospice_morgue_km'),\n",
       " ((0.1721054096821337, 0.1721054096821337), 'office_count_5000'),\n",
       " ((0.17132212536237018, 0.17132212536237018), 'office_sqm_1500'),\n",
       " ((0.1702571321239132, -0.1702571321239132), 'kindergarten_km'),\n",
       " ((0.1692639756195985, 0.1692639756195985), 'cafe_count_5000_price_2500'),\n",
       " ((0.16834646469762518, 0.16834646469762518), 'church_count_5000'),\n",
       " ((0.16682830066935028, -0.16682830066935028), 'gdp_annual_growth'),\n",
       " ((0.16673561032174453, 0.16673561032174453), 'trc_sqm_2000'),\n",
       " ((0.16478456724804666, 0.16478456724804666), 'salary'),\n",
       " ((0.16465862877048876, -0.16465862877048876), 'mosque_km'),\n",
       " ((0.16323521680525604, 0.16323521680525604), 'fixed_basket'),\n",
       " ((0.16246573766497632, -0.16246573766497632), 'profitable_enterpr_share'),\n",
       " ((0.1624657376649762, 0.1624657376649762), 'unprofitable_enterpr_share'),\n",
       " ((0.16153515057368023, 0.16153515057368023), 'deposits_value'),\n",
       " ((0.16078983311680067, -0.16078983311680067), 'fin_res_per_cap'),\n",
       " ((0.16050431938598922, 0.16050431938598922), 'cpi'),\n",
       " ((0.1603249972780276, 0.1603249972780276), 'gdp_deflator'),\n",
       " ((0.15999052416566023, 0.15999052416566023), 'labor_force'),\n",
       " ((0.15786599416082792, 0.15786599416082792), 'construction_value'),\n",
       " ((0.15780874943250786, 0.15780874943250786), 'prom_part_5000'),\n",
       " ((0.15775154391939297, 0.15775154391939297), 'grp'),\n",
       " ((0.15750282431191756, 0.15750282431191756), 'gdp_annual'),\n",
       " ((0.1573491293184077, 0.1573491293184077), 'market_count_2000'),\n",
       " ((0.15684256460844978, 0.15684256460844978), 'big_church_count_5000'),\n",
       " ((0.1544115771085762, 0.1544115771085762), 'invest_fixed_assets'),\n",
       " ((0.15269537894586246, 0.15269537894586246), 'invest_fixed_capital_per_cap'),\n",
       " ((0.15257929169414866, 0.15257929169414866), 'retail_trade_turnover'),\n",
       " ((0.1520257951650538, 0.1520257951650538), 'mosque_count_5000'),\n",
       " ((0.15151581397644207, -0.15151581397644207), 'gas_share'),\n",
       " ((0.15068415781399366, 0.15068415781399366), 'cafe_count_5000_price_high'),\n",
       " ((0.15046657780952438, 0.15046657780952438), 'employment'),\n",
       " ((0.15021146821909992, -0.15021146821909992), 'micex_rgbi_tr'),\n",
       " ((0.1488427029970079, 0.1488427029970079), 'retail_trade_turnover_per_cap'),\n",
       " ((0.14786946566299536, -0.14786946566299536), 'green_part_3000'),\n",
       " ((0.1478437247853153, 0.1478437247853153), 'cafe_count_5000_price_4000'),\n",
       " ((0.14635781173809012, -0.14635781173809012), 'oil_chemistry_km'),\n",
       " ((0.14568851249707254, 0.14568851249707254), 'ppi'),\n",
       " ((0.14517735311939037, 0.14517735311939037), 'leisure_count_5000'),\n",
       " ((0.14372291078784277, -0.14372291078784277), 'rts'),\n",
       " ((0.14354082386362124, 0.14354082386362124), 'build_count_brick'),\n",
       " ((0.14301494419294772, 0.14301494419294772), 'eurrub'),\n",
       " ((0.14209365805058605, 0.14209365805058605), 'build_count_monolith'),\n",
       " ((0.1418342641447859, 0.1418342641447859), 'cafe_count_500_price_1000'),\n",
       " ((0.14161774335100083, 0.14161774335100083), 'electric_stove_share'),\n",
       " ((0.14102780602897616, -0.14102780602897616), 'railroad_km'),\n",
       " ((0.14068803826516493, 0.14068803826516493), 'micex_cbi_tr'),\n",
       " ((0.1388499247256197, -0.1388499247256197), 'public_transport_station_km'),\n",
       " ((0.13884992471644178, -0.13884992471644178),\n",
       "  'public_transport_station_min_walk'),\n",
       " ((0.13603295379574393, 0.13603295379574393), 'usdrub'),\n",
       " ((0.13564952151328555, 0.13564952151328555), 'office_count_500'),\n",
       " ((0.13554782327786405, -0.13554782327786405), 'pop_migration'),\n",
       " ((0.13520787009657978, 0.13520787009657978), 'state'),\n",
       " ((0.13332101338941066, 0.13332101338941066), 'office_sqm_1000'),\n",
       " ((0.13229951675219476, 0.13229951675219476), 'share_own_revenues'),\n",
       " ((0.13090996883239175, 0.13090996883239175), 'marriages_per_1000_cap'),\n",
       " ((0.1292564786708528, -0.1292564786708528), 'pop_total_inc'),\n",
       " ((0.1289234739050784, -0.1289234739050784), 'invest_fixed_assets_phys'),\n",
       " ((0.1288602837317411, 0.1288602837317411), 'office_sqm_500'),\n",
       " ((0.12739177308170171, 0.12739177308170171), 'life_sq'),\n",
       " ((0.12675606619545168, -0.12675606619545168), 'ID_bus_terminal'),\n",
       " ((0.12360758319332721, -0.12360758319332721),\n",
       "  'real_dispos_income_per_cap_growth'),\n",
       " ((0.12248065769260878, -0.12248065769260878), 'oil_urals'),\n",
       " ((0.12242528350948238, 0.12242528350948238), 'ID_railroad_terminal'),\n",
       " ((0.1220762038537886, 0.1220762038537886), 'market_count_1500'),\n",
       " ((0.12076780071461805, 0.12076780071461805), 'cafe_count_3000_price_1000'),\n",
       " ((0.12007114790022899, 0.12007114790022899), 'office_count_1000'),\n",
       " ((0.1197609288110882, -0.1197609288110882), 'gdp_quart_growth'),\n",
       " ((0.11835726339432069, -0.11835726339432069), 'brent'),\n",
       " ((0.11823194196587535, 0.11823194196587535), 'gdp_quart'),\n",
       " ((0.11784540344507159, 0.11784540344507159), 'university_top_20_raion'),\n",
       " ((0.11761608228888283, -0.11761608228888283), 'green_part_2000'),\n",
       " ((0.11643311094563867, -0.11643311094563867), 'big_road1_km'),\n",
       " ((0.11570597595768405, -0.11570597595768405), 'ID_big_road1'),\n",
       " ((0.11380990395149389, 0.11380990395149389), 'floor'),\n",
       " ((0.11194683369302366, 0.11194683369302366), 'office_count_1500'),\n",
       " ((0.10978876483079289, 0.10978876483079289),\n",
       "  'average_provision_of_build_contract'),\n",
       " ((0.10938840810587838, 0.10938840810587838), 'hospital_beds_raion'),\n",
       " ((0.10938377923582765, 0.10938377923582765), 'cafe_count_1000_price_1000'),\n",
       " ((0.10906893814793317, 0.10906893814793317), 'office_count_3000'),\n",
       " ((0.1086036519362468, -0.1086036519362468), 'church_synagogue_km'),\n",
       " ((0.1078438069626622, 0.1078438069626622), 'housing_fund_sqm'),\n",
       " ((0.10756865893006018, 0.10756865893006018), 'trc_sqm_1500'),\n",
       " ((0.10684924781425349, 0.10684924781425349), 'cafe_count_3000_na_price'),\n",
       " ((0.10386310219725414, 0.10386310219725414), 'cafe_count_3000'),\n",
       " ((0.10368495755672713, 0.10368495755672713), 'mosque_count_1500'),\n",
       " ((0.10313871022641939, 0.10313871022641939), 'childbirth'),\n",
       " ((0.10300130614166636, -0.10300130614166636), 'ID_railroad_station_avto'),\n",
       " ((0.10268709534844267, 0.10268709534844267), 'cafe_count_500_price_1500'),\n",
       " ((0.10239341500744455, 0.10239341500744455), 'cafe_count_3000_price_500'),\n",
       " ((0.10233879714280794, -0.10233879714280794), 'green_zone_part'),\n",
       " ((0.10202150650155589, 0.10202150650155589), 'cafe_count_3000_price_1500'),\n",
       " ((0.10091403783180246, 0.10091403783180246), 'office_count_2000'),\n",
       " ((0.09987055886759107, -0.09987055886759107), 'retail_trade_turnover_growth'),\n",
       " ((0.09964017790876868, -0.09964017790876868), 'incineration_km'),\n",
       " ((0.09891845358748365, 0.09891845358748365), 'sport_count_500'),\n",
       " ((0.09807151090434656, 0.09807151090434656), 'trc_count_1000'),\n",
       " ((0.09789698313786699, 0.09789698313786699), 'cafe_count_1000_price_high'),\n",
       " ((0.09730917838515332, -0.09730917838515332), 'salary_growth'),\n",
       " ((0.09563356787007664, 0.09563356787007664), 'market_count_1000'),\n",
       " ((0.09430473670988608, 0.09430473670988608), 'deposits_rate'),\n",
       " ((0.09404712129018335, 0.09404712129018335), 'leisure_count_500'),\n",
       " ((0.09388348702708921, 0.09388348702708921), 'cafe_count_3000_price_high'),\n",
       " ((0.09320535535411477, 0.09320535535411477), 'big_church_count_3000')]"
      ]
     },
     "execution_count": 44,
     "metadata": {},
     "output_type": "execute_result"
    }
   ],
   "source": [
    "sorted(best_cols,reverse=True)[:200]"
   ]
  },
  {
   "cell_type": "code",
   "execution_count": 45,
   "metadata": {},
   "outputs": [],
   "source": [
    "from sklearn.neural_network import MLPClassifier\n",
    "from sklearn.neighbors import KNeighborsClassifier\n",
    "from sklearn.svm import SVC\n",
    "from sklearn.gaussian_process import GaussianProcessClassifier\n",
    "from sklearn.gaussian_process.kernels import RBF\n",
    "from sklearn.tree import DecisionTreeClassifier\n",
    "from sklearn.ensemble import RandomForestClassifier, AdaBoostClassifier, GradientBoostingClassifier, ExtraTreesClassifier\n",
    "from sklearn.naive_bayes import GaussianNB\n",
    "from sklearn.discriminant_analysis import QuadraticDiscriminantAnalysis\n",
    "import csv\n",
    "from xgboost import XGBClassifier\n",
    "from sklearn.feature_selection import mutual_info_classif, f_classif, SelectKBest\n",
    "from sklearn.linear_model import SGDClassifier, LogisticRegression, RidgeClassifier\n",
    "from sklearn.decomposition import PCA\n",
    "from sklearn import metrics\n",
    "from sklearn.multiclass import OneVsRestClassifier\n",
    "from sklearn import model_selection\n",
    "\n"
   ]
  },
  {
   "cell_type": "code",
   "execution_count": 46,
   "metadata": {},
   "outputs": [],
   "source": [
    "slist = [c for c in df_new.columns if c not in skip+['price_doc','price_length']]"
   ]
  },
  {
   "cell_type": "code",
   "execution_count": 47,
   "metadata": {},
   "outputs": [
    {
     "name": "stdout",
     "output_type": "stream",
     "text": [
      "549\n"
     ]
    }
   ],
   "source": [
    "print(len(slist))"
   ]
  },
  {
   "cell_type": "code",
   "execution_count": 48,
   "metadata": {},
   "outputs": [
    {
     "data": {
      "image/png": "[encoded data removed]",
      "text/plain": [
       "<Figure size 360x360 with 1 Axes>"
      ]
     },
     "metadata": {
      "needs_background": "light"
     },
     "output_type": "display_data"
    }
   ],
   "source": [
    "model = PCA(n_components=3)\n",
    "model.fit(df_new[slist])\n",
    "model.transform(df_new[slist])\n",
    "\n",
    "fig, ax = plt.subplots(figsize=(5,5))\n",
    "\n",
    "features = range(model.n_components_)\n",
    "\n",
    "plt.bar(features, model.explained_variance_)\n",
    "plt.xticks(features)\n",
    "plt.xlabel('PCA Features')\n",
    "plt.ylabel('variance')\n",
    "plt.show()"
   ]
  },
  {
   "cell_type": "code",
   "execution_count": 49,
   "metadata": {},
   "outputs": [
    {
     "data": {
      "image/png": "[encoded data removed]",
      "text/plain": [
       "<Figure size 360x360 with 1 Axes>"
      ]
     },
     "metadata": {
      "needs_background": "light"
     },
     "output_type": "display_data"
    }
   ],
   "source": [
    "model = TruncatedSVD(n_components=3)\n",
    "model.fit(df_new[num_cols])\n",
    "model.transform(df_new[num_cols])\n",
    "\n",
    "fig, ax = plt.subplots(figsize=(5,5))\n",
    "\n",
    "features = range(model.n_components)\n",
    "\n",
    "plt.bar(features, model.explained_variance_)\n",
    "plt.xticks(features)\n",
    "plt.xlabel('PCA Features')\n",
    "plt.ylabel('variance')\n",
    "plt.show()"
   ]
  },
  {
   "cell_type": "code",
   "execution_count": 50,
   "metadata": {},
   "outputs": [
    {
     "name": "stdout",
     "output_type": "stream",
     "text": [
      "233\n",
      "13750\n",
      "11678\n",
      "4810\n"
     ]
    }
   ],
   "source": [
    "idx0 = df_new[df_new['price_cat'] == 0].index\n",
    "idx1 = df_new[df_new['price_cat'] == 1].index\n",
    "idx2 = df_new[df_new['price_cat'] == 2].index\n",
    "idx3 = df_new[df_new['price_cat'] == 3].index\n",
    "print(len(idx0))\n",
    "print(len(idx1))\n",
    "print(len(idx2))\n",
    "print(len(idx3))"
   ]
  },
  {
   "cell_type": "code",
   "execution_count": 51,
   "metadata": {},
   "outputs": [
    {
     "data": {
      "text/plain": [
       "14663"
      ]
     },
     "execution_count": 51,
     "metadata": {},
     "output_type": "execute_result"
    }
   ],
   "source": [
    "idx_list = list(df_new.loc[idx1].sample(len(idx3)).index) + \\\n",
    "list(df_new.loc[idx2].sample(len(idx3)).index) + \\\n",
    "list(df_new.loc[idx3].sample(len(idx3)).index) + \\\n",
    "list(df_new.loc[idx0].sample(len(idx0)).index)\n",
    "\n",
    "len(idx_list)"
   ]
  },
  {
   "cell_type": "code",
   "execution_count": 52,
   "metadata": {},
   "outputs": [
    {
     "data": {
      "text/plain": [
       "(10264, 549)"
      ]
     },
     "execution_count": 52,
     "metadata": {},
     "output_type": "execute_result"
    }
   ],
   "source": [
    "#x_list = ig_list\n",
    "X_train, X_test, y_train, y_test = model_selection.train_test_split(df_new.loc[idx_list, slist], \\\n",
    "                                                                df_new.loc[idx_list, 'price_cat'], test_size=0.3)\n",
    "X_train.shape"
   ]
  },
  {
   "cell_type": "markdown",
   "metadata": {},
   "source": [
    "### Feature Selection"
   ]
  },
  {
   "cell_type": "code",
   "execution_count": 53,
   "metadata": {},
   "outputs": [],
   "source": [
    "import xgboost as xgb"
   ]
  },
  {
   "cell_type": "code",
   "execution_count": 54,
   "metadata": {},
   "outputs": [
    {
     "data": {
      "text/plain": [
       "['full_sq', 'plus_sq', 'diff_sq', 'floor', 'num_room']"
      ]
     },
     "execution_count": 54,
     "metadata": {},
     "output_type": "execute_result"
    }
   ],
   "source": [
    "xlist = ['full_sq', 'plus_sq', 'diff_sq', 'floor', 'num_room', 'max_floor', 'material', 'build_year', \n",
    "         'state', 'green_zone_part', 'indust_part', 'school_education_centers_top_20_raion', 'hospital_beds_raion',\n",
    "         'healthcare_centers_raion', 'university_top_20_raion', 'sport_objects_raion', 'additional_education_raion',\n",
    "         'shopping_centers_raion', 'build_count_block', 'build_count_frame', 'build_count_brick', 'build_count_foam',\n",
    "         'build_count_1946-1970', 'build_count_1971-1995', 'ID_metro', 'green_zone_km', 'industrial_km',\n",
    "         'water_treatment_km', 'cemetery_km', 'incineration_km', 'railroad_station_walk_km', \n",
    "         'railroad_station_walk_min', 'ID_railroad_station_walk', 'railroad_station_avto_km', \n",
    "         'railroad_station_avto_min', 'ID_railroad_station_avto', 'public_transport_station_km', \n",
    "         'public_transport_station_min_walk', 'water_km', 'mkad_km', 'ttk_km', 'sadovoe_km', 'bulvar_ring_km', \n",
    "         'kremlin_km', 'big_road1_km', 'ID_big_road1', 'big_road2_km', 'ID_big_road2', 'railroad_km', \n",
    "         'zd_vokzaly_avto_km', 'ID_railroad_terminal', 'bus_terminal_avto_km', 'ID_bus_terminal', 'oil_chemistry_km',\n",
    "         'nuclear_reactor_km', 'radiation_km', 'power_transmission_line_km', 'thermal_power_plant_km', 'ts_km',\n",
    "         'big_market_km', 'market_shop_km', 'fitness_km', 'swim_pool_km', 'ice_rink_km', 'stadium_km', \n",
    "         'basketball_km', 'hospice_morgue_km', 'detention_facility_km']\n",
    "xlist[:5]"
   ]
  },
  {
   "cell_type": "code",
   "execution_count": 55,
   "metadata": {},
   "outputs": [
    {
     "name": "stdout",
     "output_type": "stream",
     "text": [
      "2019-02-22 06:44:40.022218\n",
      "2019-02-22 06:45:12.202096\n"
     ]
    },
    {
     "data": {
      "image/png": "[encoded data removed]",
      "text/plain": [
       "<Figure size 864x1296 with 1 Axes>"
      ]
     },
     "metadata": {
      "needs_background": "light"
     },
     "output_type": "display_data"
    }
   ],
   "source": [
    "print (dt.datetime.now())    \n",
    "#for f in X_train.columns:\n",
    "for f in xlist:\n",
    "    if X_train[f].dtype=='object':\n",
    "        lbl = preprocessing.LabelEncoder()\n",
    "        lbl.fit(list(X_train[f].values)) \n",
    "        X_train[f] = lbl.transform(list(X_train[f].values))\n",
    "        \n",
    "train_y = y_train\n",
    "train_X = X_train.loc[:,xlist]\n",
    "\n",
    "xgb_params = {\n",
    "    'eta': 0.05,\n",
    "    'max_depth': 8,\n",
    "     'num_class': 4,\n",
    "    'subsample': 0.7,\n",
    "    'colsample_bytree': 0.7,\n",
    "    'objective': 'multi:softmax',\n",
    "    'silent': 1\n",
    "}\n",
    "dtrain = xgb.DMatrix(train_X, train_y, feature_names=train_X.columns.values)\n",
    "model = xgb.train(dict(xgb_params, silent=1), dtrain, num_boost_round=100)\n",
    "\n",
    "# plot the important features #\n",
    "fig, ax = plt.subplots(figsize=(12,18))\n",
    "xgb.plot_importance(model, max_num_features=58, height=0.8, ax=ax)\n",
    "print (dt.datetime.now())    \n",
    "plt.show()"
   ]
  },
  {
   "cell_type": "code",
   "execution_count": 56,
   "metadata": {},
   "outputs": [
    {
     "data": {
      "text/plain": [
       "True"
      ]
     },
     "execution_count": 56,
     "metadata": {},
     "output_type": "execute_result"
    }
   ],
   "source": [
    "'university_top_20_raion' in xlist"
   ]
  },
  {
   "cell_type": "code",
   "execution_count": 57,
   "metadata": {},
   "outputs": [
    {
     "data": {
      "image/png": "[encoded data removed]",
      "text/plain": [
       "<Figure size 864x864 with 1 Axes>"
      ]
     },
     "metadata": {
      "needs_background": "light"
     },
     "output_type": "display_data"
    }
   ],
   "source": [
    "fig, ax = plt.subplots(figsize=(12,12))\n",
    "xgb.plot_importance(model,max_num_features=50, height=0.8, ax=ax)\n",
    "plt.show()\n",
    "fig.savefig('plot.png')"
   ]
  },
  {
   "cell_type": "code",
   "execution_count": 58,
   "metadata": {},
   "outputs": [
    {
     "data": {
      "text/html": [
       "<div>\n",
       "<style scoped>\n",
       "    .dataframe tbody tr th:only-of-type {\n",
       "        vertical-align: middle;\n",
       "    }\n",
       "\n",
       "    .dataframe tbody tr th {\n",
       "        vertical-align: top;\n",
       "    }\n",
       "\n",
       "    .dataframe thead th {\n",
       "        text-align: right;\n",
       "    }\n",
       "</style>\n",
       "<table border=\"1\" class=\"dataframe\">\n",
       "  <thead>\n",
       "    <tr style=\"text-align: right;\">\n",
       "      <th></th>\n",
       "      <th>full_sq</th>\n",
       "      <th>plus_sq</th>\n",
       "      <th>diff_sq</th>\n",
       "      <th>floor</th>\n",
       "      <th>num_room</th>\n",
       "      <th>max_floor</th>\n",
       "      <th>material</th>\n",
       "      <th>build_year</th>\n",
       "      <th>state</th>\n",
       "      <th>green_zone_part</th>\n",
       "      <th>...</th>\n",
       "      <th>ts_km</th>\n",
       "      <th>big_market_km</th>\n",
       "      <th>market_shop_km</th>\n",
       "      <th>fitness_km</th>\n",
       "      <th>swim_pool_km</th>\n",
       "      <th>ice_rink_km</th>\n",
       "      <th>stadium_km</th>\n",
       "      <th>basketball_km</th>\n",
       "      <th>hospice_morgue_km</th>\n",
       "      <th>detention_facility_km</th>\n",
       "    </tr>\n",
       "  </thead>\n",
       "  <tbody>\n",
       "    <tr>\n",
       "      <th>0</th>\n",
       "      <td>0.257310</td>\n",
       "      <td>0.182487</td>\n",
       "      <td>0.482601</td>\n",
       "      <td>0.440183</td>\n",
       "      <td>0.087541</td>\n",
       "      <td>0.824183</td>\n",
       "      <td>-0.441371</td>\n",
       "      <td>9999.0</td>\n",
       "      <td>-0.090296</td>\n",
       "      <td>1.584313</td>\n",
       "      <td>...</td>\n",
       "      <td>-0.154708</td>\n",
       "      <td>0.305317</td>\n",
       "      <td>0.884039</td>\n",
       "      <td>0.543522</td>\n",
       "      <td>-0.245979</td>\n",
       "      <td>-0.607361</td>\n",
       "      <td>0.627346</td>\n",
       "      <td>0.742750</td>\n",
       "      <td>1.608776</td>\n",
       "      <td>1.002422</td>\n",
       "    </tr>\n",
       "    <tr>\n",
       "      <th>1</th>\n",
       "      <td>0.020660</td>\n",
       "      <td>0.031819</td>\n",
       "      <td>-0.095795</td>\n",
       "      <td>0.063252</td>\n",
       "      <td>0.087541</td>\n",
       "      <td>-0.604019</td>\n",
       "      <td>0.336659</td>\n",
       "      <td>1959.0</td>\n",
       "      <td>-0.090296</td>\n",
       "      <td>-0.830450</td>\n",
       "      <td>...</td>\n",
       "      <td>-0.223905</td>\n",
       "      <td>-0.773228</td>\n",
       "      <td>-0.201438</td>\n",
       "      <td>-0.263441</td>\n",
       "      <td>-0.694407</td>\n",
       "      <td>0.034157</td>\n",
       "      <td>-1.101372</td>\n",
       "      <td>-0.609539</td>\n",
       "      <td>-0.533437</td>\n",
       "      <td>-0.189358</td>\n",
       "    </tr>\n",
       "    <tr>\n",
       "      <th>2</th>\n",
       "      <td>0.046955</td>\n",
       "      <td>0.208582</td>\n",
       "      <td>0.101372</td>\n",
       "      <td>-0.879077</td>\n",
       "      <td>1.502642</td>\n",
       "      <td>-0.604019</td>\n",
       "      <td>0.336659</td>\n",
       "      <td>1966.0</td>\n",
       "      <td>-0.090296</td>\n",
       "      <td>-1.239627</td>\n",
       "      <td>...</td>\n",
       "      <td>-0.374294</td>\n",
       "      <td>-0.003123</td>\n",
       "      <td>-0.586479</td>\n",
       "      <td>-0.485217</td>\n",
       "      <td>-0.770029</td>\n",
       "      <td>-0.591128</td>\n",
       "      <td>-0.851250</td>\n",
       "      <td>-0.701940</td>\n",
       "      <td>-0.533842</td>\n",
       "      <td>-1.152038</td>\n",
       "    </tr>\n",
       "    <tr>\n",
       "      <th>3</th>\n",
       "      <td>-0.531523</td>\n",
       "      <td>-0.606346</td>\n",
       "      <td>-0.519824</td>\n",
       "      <td>0.251717</td>\n",
       "      <td>0.087541</td>\n",
       "      <td>-0.068443</td>\n",
       "      <td>-0.441371</td>\n",
       "      <td>9999.0</td>\n",
       "      <td>-0.090296</td>\n",
       "      <td>0.748273</td>\n",
       "      <td>...</td>\n",
       "      <td>1.681818</td>\n",
       "      <td>-0.161642</td>\n",
       "      <td>1.021509</td>\n",
       "      <td>3.130781</td>\n",
       "      <td>2.511412</td>\n",
       "      <td>2.198778</td>\n",
       "      <td>1.349158</td>\n",
       "      <td>1.989855</td>\n",
       "      <td>0.489912</td>\n",
       "      <td>2.036549</td>\n",
       "    </tr>\n",
       "    <tr>\n",
       "      <th>4</th>\n",
       "      <td>-0.452639</td>\n",
       "      <td>-0.398490</td>\n",
       "      <td>-0.526377</td>\n",
       "      <td>0.628649</td>\n",
       "      <td>-1.327560</td>\n",
       "      <td>0.645658</td>\n",
       "      <td>-0.441371</td>\n",
       "      <td>1981.0</td>\n",
       "      <td>1.429827</td>\n",
       "      <td>-0.172540</td>\n",
       "      <td>...</td>\n",
       "      <td>0.026599</td>\n",
       "      <td>-0.938195</td>\n",
       "      <td>-0.969266</td>\n",
       "      <td>-0.437617</td>\n",
       "      <td>-0.887833</td>\n",
       "      <td>-0.758369</td>\n",
       "      <td>-0.243986</td>\n",
       "      <td>-0.304411</td>\n",
       "      <td>0.006910</td>\n",
       "      <td>-1.140111</td>\n",
       "    </tr>\n",
       "  </tbody>\n",
       "</table>\n",
       "<p>5 rows × 68 columns</p>\n",
       "</div>"
      ],
      "text/plain": [
       "    full_sq   plus_sq   diff_sq     floor  num_room  max_floor  material  \\\n",
       "0  0.257310  0.182487  0.482601  0.440183  0.087541   0.824183 -0.441371   \n",
       "1  0.020660  0.031819 -0.095795  0.063252  0.087541  -0.604019  0.336659   \n",
       "2  0.046955  0.208582  0.101372 -0.879077  1.502642  -0.604019  0.336659   \n",
       "3 -0.531523 -0.606346 -0.519824  0.251717  0.087541  -0.068443 -0.441371   \n",
       "4 -0.452639 -0.398490 -0.526377  0.628649 -1.327560   0.645658 -0.441371   \n",
       "\n",
       "   build_year     state  green_zone_part  ...     ts_km  big_market_km  \\\n",
       "0      9999.0 -0.090296         1.584313  ... -0.154708       0.305317   \n",
       "1      1959.0 -0.090296        -0.830450  ... -0.223905      -0.773228   \n",
       "2      1966.0 -0.090296        -1.239627  ... -0.374294      -0.003123   \n",
       "3      9999.0 -0.090296         0.748273  ...  1.681818      -0.161642   \n",
       "4      1981.0  1.429827        -0.172540  ...  0.026599      -0.938195   \n",
       "\n",
       "   market_shop_km  fitness_km  swim_pool_km  ice_rink_km  stadium_km  \\\n",
       "0        0.884039    0.543522     -0.245979    -0.607361    0.627346   \n",
       "1       -0.201438   -0.263441     -0.694407     0.034157   -1.101372   \n",
       "2       -0.586479   -0.485217     -0.770029    -0.591128   -0.851250   \n",
       "3        1.021509    3.130781      2.511412     2.198778    1.349158   \n",
       "4       -0.969266   -0.437617     -0.887833    -0.758369   -0.243986   \n",
       "\n",
       "   basketball_km  hospice_morgue_km  detention_facility_km  \n",
       "0       0.742750           1.608776               1.002422  \n",
       "1      -0.609539          -0.533437              -0.189358  \n",
       "2      -0.701940          -0.533842              -1.152038  \n",
       "3       1.989855           0.489912               2.036549  \n",
       "4      -0.304411           0.006910              -1.140111  \n",
       "\n",
       "[5 rows x 68 columns]"
      ]
     },
     "execution_count": 58,
     "metadata": {},
     "output_type": "execute_result"
    }
   ],
   "source": [
    "from sklearn.feature_selection import VarianceThreshold\n",
    "X_tr = X_train[xlist]\n",
    "selector = VarianceThreshold(threshold=(.5 * (1 - .5)))\n",
    "selector.fit(X_tr, y_train)\n",
    "\n",
    "# Retain the feature names\n",
    "features = selector.get_support(indices = True)  # Returns array of indexes of nonremoved features\n",
    "features = [column for column in X_tr.iloc[:,features]]  # Gets feature names\n",
    "\n",
    "# Transform, Format, Return\n",
    "selector = pd.DataFrame(selector.transform(X_tr))\n",
    "selector.columns = features\n",
    "selector.head()"
   ]
  },
  {
   "cell_type": "code",
   "execution_count": 59,
   "metadata": {},
   "outputs": [
    {
     "data": {
      "text/plain": [
       "0"
      ]
     },
     "execution_count": 59,
     "metadata": {},
     "output_type": "execute_result"
    }
   ],
   "source": [
    "l = [k for k,v in model.get_fscore().items()]\n",
    "not_in_l = []\n",
    "for f in features:\n",
    "    if f not in l:\n",
    "        not_in_l.append(f)\n",
    "len(not_in_l)"
   ]
  },
  {
   "cell_type": "code",
   "execution_count": 60,
   "metadata": {},
   "outputs": [
    {
     "name": "stdout",
     "output_type": "stream",
     "text": [
      "0\n",
      "68\n"
     ]
    },
    {
     "data": {
      "text/plain": [
       "68"
      ]
     },
     "execution_count": 60,
     "metadata": {},
     "output_type": "execute_result"
    }
   ],
   "source": [
    "n=0\n",
    "not_in_features = []\n",
    "for k,v in model.get_fscore().items():\n",
    "    if k in features:\n",
    "        n+=1\n",
    "    else:\n",
    "        not_in_features.append(k)\n",
    "        \n",
    "print(len(not_in_features))\n",
    "print(n)\n",
    "len(features)"
   ]
  },
  {
   "cell_type": "code",
   "execution_count": 61,
   "metadata": {},
   "outputs": [
    {
     "name": "stdout",
     "output_type": "stream",
     "text": [
      "2019-02-22 06:45:16.501936\n",
      "Gradient Boost Clf\n",
      "train score:  0.934041309431021\n",
      "test score:  0.8008638326892475\n",
      "2019-02-22 06:48:15.975749\n",
      "==========\n",
      "Decision Tree\n",
      "train score:  0.8877630553390491\n",
      "test score:  0.763355308024551\n",
      "2019-02-22 06:48:17.465831\n",
      "==========\n",
      "Random Forest\n",
      "train score:  0.8784099766173032\n",
      "test score:  0.7919981814048648\n",
      "2019-02-22 06:48:22.085079\n",
      "==========\n",
      "Random Forest Two\n",
      "train score:  0.9989282930631332\n",
      "test score:  0.7972266424187315\n",
      "2019-02-22 06:48:36.514778\n",
      "==========\n",
      "2019-02-22 06:48:36.516761\n"
     ]
    },
    {
     "data": {
      "text/plain": [
       "OrderedDict([(0.8008638326892475, ('Gradient Boost Clf', 0.934041309431021)),\n",
       "             (0.7972266424187315, ('Random Forest Two', 0.9989282930631332)),\n",
       "             (0.7919981814048648, ('Random Forest', 0.8784099766173032)),\n",
       "             (0.763355308024551, ('Decision Tree', 0.8877630553390491))])"
      ]
     },
     "execution_count": 61,
     "metadata": {},
     "output_type": "execute_result"
    }
   ],
   "source": [
    "print (dt.datetime.now())\n",
    "h = .02  # step size in the mesh\n",
    "\n",
    "names = [#\"Nearest Neighbors\",  \n",
    "         #\"RBF SVM\", \n",
    "         #\"Gaussian Process\",\n",
    "         #\"Extra Tree Clf\",\n",
    "         \"Gradient Boost Clf\",\n",
    "         #\"Ridge Classifier\",\n",
    "         #\"Logistic Reg Multi\",\n",
    "         #\"SGD\",\n",
    "         \"Decision Tree\", \n",
    "         \"Random Forest\" ,\n",
    "         \"Random Forest Two\" \n",
    "         #\"Neural Net: adam\"\n",
    "         #\"Neural N: lbfgs\",\n",
    "         #\"Neural Net: tanh\",\n",
    "         #\"AdaBoost\"\n",
    "         #\"Linear SVM\"\n",
    "         #\"QDA\"\n",
    "        ]\n",
    "\n",
    "classifiers = [\n",
    "    #KNeighborsClassifier(7),\n",
    "    #ExtraTreesClassifier(n_estimators=100),\n",
    "    GradientBoostingClassifier(n_estimators=100, learning_rate=0.1,max_depth=5, random_state=0),\n",
    "    #RidgeClassifier(),\n",
    "    #LogisticRegression(random_state=0, solver='lbfgs',multi_class='multinomial'),\n",
    "    #SGDClassifier(loss=\"hinge\", penalty=\"l2\", max_iter=5),\n",
    "    #SVC(gamma=2, C=1),\n",
    "    #GaussianProcessClassifier(1.0 * RBF(1.0)),\n",
    "    DecisionTreeClassifier(max_depth=10),\n",
    "    RandomForestClassifier(max_depth=10, n_estimators=100),\n",
    "    RandomForestClassifier(max_depth=20, n_estimators=200)\n",
    "    #MLPClassifier(alpha=0.1,hidden_layer_sizes=(547,500,500,500,500,)),\n",
    "    #MLPClassifier(alpha=1,hidden_layer_sizes=(100,100,), solver='lbfgs'),\n",
    "    #MLPClassifier(alpha=1,hidden_layer_sizes=(100,100,), activation='tanh'),\n",
    "    #AdaBoostClassifier()\n",
    "    #SVC(kernel=\"linear\", C=0.025)\n",
    "    #GaussianNB(),\n",
    "    #QuadraticDiscriminantAnalysis()\n",
    "    ]\n",
    "\n",
    "score_dict = dict()\n",
    "score_list = []\n",
    "# iterate over classifiers\n",
    "for name, clf in zip(names, classifiers):\n",
    "    clf.fit(X_train, y_train)\n",
    "    print(name)\n",
    "    train_score = clf.score(X_train,y_train)\n",
    "    print(\"train score: \", train_score)    \n",
    "    test_score = clf.score(X_test, y_test)\n",
    "    print(\"test score: \", str(test_score))\n",
    "    score_dict.update({test_score: (name, train_score)})\n",
    "    print (dt.datetime.now())\n",
    "    print('='*10)\n",
    "\n",
    "\n",
    "od = collections.OrderedDict(sorted(score_dict.items(),reverse=True))    \n",
    "\n",
    "print (dt.datetime.now())\n",
    "#print(slist)\n",
    "od\n",
    "#plt.tight_layout()\n",
    "#plt.show()"
   ]
  },
  {
   "cell_type": "code",
   "execution_count": 62,
   "metadata": {},
   "outputs": [
    {
     "data": {
      "text/plain": [
       "['full_sq',\n",
       " 'plus_sq',\n",
       " 'diff_sq',\n",
       " 'floor',\n",
       " 'num_room',\n",
       " 'max_floor',\n",
       " 'material',\n",
       " 'build_year',\n",
       " 'state',\n",
       " 'green_zone_part',\n",
       " 'indust_part',\n",
       " 'school_education_centers_top_20_raion',\n",
       " 'hospital_beds_raion',\n",
       " 'healthcare_centers_raion',\n",
       " 'university_top_20_raion',\n",
       " 'sport_objects_raion',\n",
       " 'additional_education_raion',\n",
       " 'shopping_centers_raion',\n",
       " 'build_count_block',\n",
       " 'build_count_frame',\n",
       " 'build_count_brick',\n",
       " 'build_count_foam',\n",
       " 'build_count_1946-1970',\n",
       " 'build_count_1971-1995',\n",
       " 'ID_metro',\n",
       " 'green_zone_km',\n",
       " 'industrial_km',\n",
       " 'water_treatment_km',\n",
       " 'cemetery_km',\n",
       " 'incineration_km',\n",
       " 'railroad_station_walk_km',\n",
       " 'railroad_station_walk_min',\n",
       " 'ID_railroad_station_walk',\n",
       " 'railroad_station_avto_km',\n",
       " 'railroad_station_avto_min',\n",
       " 'ID_railroad_station_avto',\n",
       " 'public_transport_station_km',\n",
       " 'public_transport_station_min_walk',\n",
       " 'water_km',\n",
       " 'mkad_km',\n",
       " 'ttk_km',\n",
       " 'sadovoe_km',\n",
       " 'bulvar_ring_km',\n",
       " 'kremlin_km',\n",
       " 'big_road1_km',\n",
       " 'ID_big_road1',\n",
       " 'big_road2_km',\n",
       " 'ID_big_road2',\n",
       " 'railroad_km',\n",
       " 'zd_vokzaly_avto_km',\n",
       " 'ID_railroad_terminal',\n",
       " 'bus_terminal_avto_km',\n",
       " 'ID_bus_terminal',\n",
       " 'oil_chemistry_km',\n",
       " 'nuclear_reactor_km',\n",
       " 'radiation_km',\n",
       " 'power_transmission_line_km',\n",
       " 'thermal_power_plant_km',\n",
       " 'ts_km',\n",
       " 'big_market_km',\n",
       " 'market_shop_km',\n",
       " 'fitness_km',\n",
       " 'swim_pool_km',\n",
       " 'ice_rink_km',\n",
       " 'stadium_km',\n",
       " 'basketball_km',\n",
       " 'hospice_morgue_km',\n",
       " 'detention_facility_km']"
      ]
     },
     "execution_count": 62,
     "metadata": {},
     "output_type": "execute_result"
    }
   ],
   "source": [
    "features"
   ]
  },
  {
   "cell_type": "code",
   "execution_count": 63,
   "metadata": {},
   "outputs": [],
   "source": [
    "flist = ['full_sq','plus_sq','diff_sq','floor','num_room','max_floor']"
   ]
  },
  {
   "cell_type": "code",
   "execution_count": 64,
   "metadata": {},
   "outputs": [
    {
     "name": "stdout",
     "output_type": "stream",
     "text": [
      "[]\n",
      "2019-02-22 06:48:36.662487\n"
     ]
    }
   ],
   "source": [
    "fl = []\n",
    "for f in features[100:120]:\n",
    "    if f not in flist:\n",
    "        flist.append(f)\n",
    "\n",
    "        # final model\n",
    "        print (dt.datetime.now())    \n",
    "        dtrain = xgb.DMatrix(X_train[flist], y_train, feature_names=flist)\n",
    "        #dtrain = xgb.DMatrix(X_train, y_train, feature_names=X_train.columns.values)\n",
    "        model = xgb.train(dict(xgb_params, silent=1), dtrain, num_boost_round=100)\n",
    "\n",
    "        xg_test = xgb.DMatrix(X_test[flist], label=y_test)\n",
    "        #xg_test = xgb.DMatrix(X_test, label=y_test)\n",
    "        pred = model.predict(xg_test)\n",
    "        error_rate = np.sum(pred != y_test) / y_test.shape[0]\n",
    "        accuracy = np.sum(pred == y_test) / y_test.shape[0]\n",
    "        fl.append((accuracy,error_rate))\n",
    "        #print('Test error using softmax = {}'.format(error_rate))\n",
    "        #print('Test accuracy using softmax = {}'.format(accuracy))\n",
    "print(sorted(fl,reverse=True)[:5])\n",
    "print (dt.datetime.now()) "
   ]
  },
  {
   "cell_type": "code",
   "execution_count": 65,
   "metadata": {},
   "outputs": [
    {
     "name": "stdout",
     "output_type": "stream",
     "text": [
      "['full_sq', 'plus_sq', 'diff_sq', 'floor', 'num_room', 'max_floor']\n"
     ]
    }
   ],
   "source": [
    "print(flist)"
   ]
  },
  {
   "cell_type": "code",
   "execution_count": 66,
   "metadata": {},
   "outputs": [
    {
     "data": {
      "text/plain": [
       "True"
      ]
     },
     "execution_count": 66,
     "metadata": {},
     "output_type": "execute_result"
    }
   ],
   "source": [
    "'full_sq' in flist"
   ]
  },
  {
   "cell_type": "code",
   "execution_count": 67,
   "metadata": {},
   "outputs": [],
   "source": [
    "alg = XGBClassifier(learning_rate=0.1, n_estimators=140, max_depth=5,\n",
    "                        min_child_weight=3, gamma=0.2, subsample=0.6, colsample_bytree=1.0,\n",
    "                        objective='binary:logistic', nthread=4, scale_pos_weight=1, seed=27)"
   ]
  },
  {
   "cell_type": "code",
   "execution_count": 68,
   "metadata": {},
   "outputs": [
    {
     "name": "stdout",
     "output_type": "stream",
     "text": [
      "2019-02-22 06:48:36.772560\n",
      "Test error using softmax = 0.3177994998863378\n",
      "Test accuracy using softmax = 0.6822005001136622\n",
      "2019-02-22 06:48:40.935432\n"
     ]
    }
   ],
   "source": [
    "# final model\n",
    "print (dt.datetime.now())    \n",
    "dtrain = xgb.DMatrix(X_train[flist], y_train, feature_names=flist)\n",
    "#dtrain = xgb.DMatrix(X_train, y_train, feature_names=X_train.columns.values)\n",
    "model = xgb.train(dict(xgb_params, silent=1), dtrain, num_boost_round=100)\n",
    "\n",
    "xg_test = xgb.DMatrix(X_test[flist], label=y_test)\n",
    "#xg_test = xgb.DMatrix(X_test, label=y_test)\n",
    "pred = model.predict(xg_test)\n",
    "error_rate = np.sum(pred != y_test) / y_test.shape[0]\n",
    "accuracy = np.sum(pred == y_test) / y_test.shape[0]\n",
    "print('Test error using softmax = {}'.format(error_rate))\n",
    "print('Test accuracy using softmax = {}'.format(accuracy))\n",
    "print (dt.datetime.now()) "
   ]
  },
  {
   "cell_type": "code",
   "execution_count": 69,
   "metadata": {},
   "outputs": [
    {
     "data": {
      "text/plain": [
       "0     4.308288\n",
       "1     7.765900\n",
       "2     4.308288\n",
       "3   -13.363951\n",
       "4    -8.753802\n",
       "Name: foot_per_floor_sq, dtype: float64"
      ]
     },
     "execution_count": 69,
     "metadata": {},
     "output_type": "execute_result"
    }
   ],
   "source": [
    "df_new['foot_per_floor_sq'] = df_new['full_sq'] / df_new['max_floor']\n",
    "df_new['foot_per_floor_sq'].head()"
   ]
  },
  {
   "cell_type": "code",
   "execution_count": 70,
   "metadata": {},
   "outputs": [
    {
     "data": {
      "text/plain": [
       "array([[ 1.        , -0.11044121],\n",
       "       [-0.11044121,  1.        ]])"
      ]
     },
     "execution_count": 70,
     "metadata": {},
     "output_type": "execute_result"
    }
   ],
   "source": [
    "np.corrcoef(df_new['foot_per_floor_sq'], df_new['price_cat'])"
   ]
  },
  {
   "cell_type": "code",
   "execution_count": 71,
   "metadata": {},
   "outputs": [],
   "source": [
    "cor_matrix = np.corrcoef(df_new[flist].T)"
   ]
  },
  {
   "cell_type": "code",
   "execution_count": 72,
   "metadata": {},
   "outputs": [
    {
     "data": {
      "text/plain": [
       "{}"
      ]
     },
     "execution_count": 72,
     "metadata": {},
     "output_type": "execute_result"
    }
   ],
   "source": [
    "d = {}\n",
    "for j in range(cor_matrix.shape[0]):\n",
    "    lst = []\n",
    "    for i in range(cor_matrix.shape[0]):\n",
    "        t = cor_matrix[j][i]\n",
    "        if t > .8 and flist[j] != flist[i]:\n",
    "            #print(i)\n",
    "            #print(t)\n",
    "            lst.append((flist[i],t))\n",
    "    if lst != []:\n",
    "        d.update({flist[j]:lst})\n",
    "d"
   ]
  },
  {
   "cell_type": "code",
   "execution_count": 73,
   "metadata": {},
   "outputs": [
    {
     "ename": "KeyError",
     "evalue": "'0_13_female'",
     "output_type": "error",
     "traceback": [
      "\u001b[0;31m---------------------------------------------------------------------------\u001b[0m",
      "\u001b[0;31mKeyError\u001b[0m                                  Traceback (most recent call last)",
      "\u001b[0;32m<ipython-input-73-0ad2f7d62cd6>\u001b[0m in \u001b[0;36m<module>\u001b[0;34m\u001b[0m\n\u001b[0;32m----> 1\u001b[0;31m \u001b[0;32mfor\u001b[0m \u001b[0mc\u001b[0m \u001b[0;32min\u001b[0m \u001b[0md\u001b[0m\u001b[0;34m[\u001b[0m\u001b[0;34m'0_13_female'\u001b[0m\u001b[0;34m]\u001b[0m\u001b[0;34m:\u001b[0m\u001b[0;34m\u001b[0m\u001b[0;34m\u001b[0m\u001b[0m\n\u001b[0m\u001b[1;32m      2\u001b[0m     \u001b[0mprint\u001b[0m\u001b[0;34m(\u001b[0m\u001b[0mc\u001b[0m\u001b[0;34m[\u001b[0m\u001b[0;36m0\u001b[0m\u001b[0;34m]\u001b[0m\u001b[0;34m)\u001b[0m\u001b[0;34m\u001b[0m\u001b[0;34m\u001b[0m\u001b[0m\n",
      "\u001b[0;31mKeyError\u001b[0m: '0_13_female'"
     ]
    }
   ],
   "source": [
    "for c in d['0_13_female']:\n",
    "    print(c[0])"
   ]
  },
  {
   "cell_type": "code",
   "execution_count": null,
   "metadata": {},
   "outputs": [],
   "source": [
    "print(len(flist))\n",
    "print(len(d.keys()))\n",
    "\n",
    "l = []\n",
    "for a in list(d.values()):\n",
    "    for b in a:\n",
    "        #print(b[0])\n",
    "        l.append(b[0])\n",
    "l = list(set(l))\n",
    "flist = [z for z in flist if  z not in l]\n",
    "len(flist)"
   ]
  },
  {
   "cell_type": "code",
   "execution_count": null,
   "metadata": {},
   "outputs": [],
   "source": []
  }
 ],
 "metadata": {
  "kernelspec": {
   "display_name": "Python 3",
   "language": "python",
   "name": "python3"
  },
  "language_info": {
   "codemirror_mode": {
    "name": "ipython",
    "version": 3
   },
   "file_extension": ".py",
   "mimetype": "text/x-python",
   "name": "python",
   "nbconvert_exporter": "python",
   "pygments_lexer": "ipython3",
   "version": "3.7.1"
  }
 },
 "nbformat": 4,
 "nbformat_minor": 2
}
