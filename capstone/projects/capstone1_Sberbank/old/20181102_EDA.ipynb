{
 "cells": [
  {
   "cell_type": "code",
   "execution_count": 1,
   "metadata": {},
   "outputs": [
    {
     "name": "stderr",
     "output_type": "stream",
     "text": [
      "/Users/chadleonard/Springboard/anaconda3/lib/python3.7/site-packages/sklearn/ensemble/weight_boosting.py:29: DeprecationWarning: numpy.core.umath_tests is an internal NumPy module and should not be imported. It will be removed in a future NumPy release.\n",
      "  from numpy.core.umath_tests import inner1d\n"
     ]
    }
   ],
   "source": [
    "import pandas as pd\n",
    "import os \n",
    "import numpy as np\n",
    "import seaborn as sns\n",
    "import matplotlib.pyplot as plt\n",
    "from collections import defaultdict\n",
    "from sklearn.pipeline import Pipeline\n",
    "from sklearn import preprocessing, model_selection\n",
    "from sklearn.metrics import roc_curve, auc\n",
    "from sklearn.decomposition import PCA\n",
    "from sklearn.ensemble import RandomForestClassifier\n",
    "from sklearn.feature_selection import SelectFromModel\n",
    "from sklearn.linear_model import LogisticRegression\n",
    "from scipy.stats import chisquare\n",
    "import csv\n",
    "\n",
    "import datetime as dt\n",
    "\n",
    "np.seterr(divide='ignore', invalid='ignore')\n",
    "\n",
    "%matplotlib inline \n"
   ]
  },
  {
   "cell_type": "code",
   "execution_count": 2,
   "metadata": {},
   "outputs": [
    {
     "name": "stdout",
     "output_type": "stream",
     "text": [
      "89\n",
      "12\n"
     ]
    }
   ],
   "source": [
    "dir_path = os.getcwd()\n",
    "dir_path\n",
    "\n",
    "area_cols = []\n",
    "house_cols = []\n",
    "\n",
    "with open('area.properties', 'r') as csvfile:\n",
    "    file = csv.reader(csvfile, delimiter=' ')\n",
    "    for row in file:\n",
    "        area_cols.append(row[0])\n",
    "        \n",
    "with open('house.properties', 'r') as csvfile:\n",
    "    file = csv.reader(csvfile, delimiter=' ')\n",
    "    for row in file:\n",
    "        house_cols.append(row[0])\n",
    "        \n",
    "print(len(area_cols))\n",
    "print(len(house_cols))"
   ]
  },
  {
   "cell_type": "code",
   "execution_count": 3,
   "metadata": {},
   "outputs": [],
   "source": [
    "def fix_num_cols(dframe, skiplist, dropcol=1):\n",
    "    n = 0\n",
    "    m = 0\n",
    "    for col in dframe.columns.values:\n",
    "        if col not in skiplist:\n",
    "            if isinstance(dframe[col].dtype,((object))):\n",
    "                try:\n",
    "                    #dframe[col].fillna(dframe[col].mean(), inplace=True)\n",
    "                    dframe[col].fillna(dframe[col].median(), inplace=True)\n",
    "                    m+=1\n",
    "                except:\n",
    "                    print('error: ' + col)\n",
    "                    if dropcol:\n",
    "                        dframe.drop(col, inplace=True, axis=1)\n",
    "                    else:\n",
    "                        n+=1\n",
    "                        #print(col)\n",
    "                        #dframe[col] = dframe[col].astype('category').cat.codes\n",
    "                        dframe[col].fillna('NUL', inplace=True)\n",
    "    print(n)\n",
    "    print(m)\n",
    "    return dframe"
   ]
  },
  {
   "cell_type": "code",
   "execution_count": 5,
   "metadata": {},
   "outputs": [
    {
     "name": "stdout",
     "output_type": "stream",
     "text": [
      "2018-11-19 17:22:43.118781\n",
      "/Users/chadleonard/Springboard/work/springboard/capstone/projects/capstone1_Sberbank/../../../data/all/\n",
      "2018-11-19 17:22:55.079234\n"
     ]
    }
   ],
   "source": [
    "if __name__ == \"__main__\":\n",
    "    print (dt.datetime.now())\n",
    "    dir_path = os.getcwd() + '/../../../data/all/'\n",
    "    print (dir_path)\n",
    "    df = pd.read_csv(dir_path + 'train.csv')\n",
    "    df_macro = pd.read_csv(dir_path + 'macro.csv')\n",
    "\n",
    "    df['price_length'] = [7.5 if cat > 6e6 and cat < 1e7 else len(str(cat)) for cat in df['price_doc'] ]\n",
    "    \n",
    "    df['price_length'] = [l if l < 8 else 8 for l in df['price_length']]\n",
    "    \n",
    "    df['price_cat'] = df['price_length'].astype('category').cat.codes\n",
    "    \n",
    "    df['quarter'] = df['timestamp'].apply(lambda x: pd.Timestamp(x).quarter)\n",
    "    \n",
    "    df.loc[df.price_cat == 4, 'price_cat'] = 3\n",
    "    df_eda = pd.merge(df, df_macro, how='inner', on='timestamp', left_on=None, right_on=None,\n",
    "         left_index=False, right_index=False, sort=True,\n",
    "         suffixes=('_x', '_y'), copy=True, indicator=False,\n",
    "         validate=None)\n",
    "    \n",
    "    null_yr = 9999.0\n",
    "    yr = dt.datetime.now().year\n",
    "    # take care of bad dates, dates too old, too far out into the future, or NaN. Set them all to 9999.0\n",
    "    for i in df_eda['build_year'].index:\n",
    "        if df_eda.loc[i, 'build_year'] < 1700 \\\n",
    "                or np.isnan(df_eda.loc[i, 'build_year']) \\\n",
    "                or df_eda.loc[i, 'build_year'] > yr:\n",
    "            df_eda.loc[i, 'build_year'] = null_yr\n",
    "\n",
    "    df_eda.drop(['price_length','id', 'timestamp'], inplace=True, axis=1)\n",
    "    df_eda.loc[df_eda[df_eda['state'] == 33.0].index, 'state'] = 3.0\n",
    "    \n",
    "    print (dt.datetime.now())"
   ]
  },
  {
   "cell_type": "code",
   "execution_count": 6,
   "metadata": {
    "scrolled": false
   },
   "outputs": [
    {
     "name": "stdout",
     "output_type": "stream",
     "text": [
      "2018-11-19 17:23:16.975625\n"
     ]
    },
    {
     "name": "stderr",
     "output_type": "stream",
     "text": [
      "/Users/chadleonard/Springboard/anaconda3/lib/python3.7/site-packages/pandas/core/generic.py:5434: SettingWithCopyWarning: \n",
      "A value is trying to be set on a copy of a slice from a DataFrame\n",
      "\n",
      "See the caveats in the documentation: http://pandas.pydata.org/pandas-docs/stable/indexing.html#indexing-view-versus-copy\n",
      "  self._update_inplace(new_data)\n"
     ]
    },
    {
     "name": "stdout",
     "output_type": "stream",
     "text": [
      "0\n",
      "327\n",
      "62\n",
      "408\n",
      "327\n",
      "62\n",
      "735\n",
      "736\n",
      "2018-11-19 17:23:32.978226\n"
     ]
    }
   ],
   "source": [
    "print (dt.datetime.now())\n",
    "catlist = []\n",
    "rest = []\n",
    "m=0\n",
    "skip = ['price_cat','id','timestamp','price_doc']\n",
    "with open('cols.csv', 'r') as csvfile:\n",
    "    file = csv.reader(csvfile, delimiter=' ')\n",
    "    for row in file:\n",
    "        cl = row[0].split(\",\")[1].replace('\"','').replace(\"'\",'').replace('(','')\n",
    "        if cl not in skip:\n",
    "            tp = row[0].split(\",\")[0]\n",
    "            if tp == 'cat':\n",
    "                m+=1\n",
    "                catlist.append(cl)\n",
    "            else:\n",
    "                rest.append(cl)\n",
    "\n",
    "df_cat = df_eda[catlist]           \n",
    "for col in catlist:\n",
    "    df_cat = pd.merge(df_cat, pd.get_dummies(df_cat[col].astype('category').cat.codes, prefix=col)\\\n",
    "                         ,left_index=True, right_index=True)\n",
    "    df_cat.drop([col],inplace=True, axis=1)\n",
    "\n",
    "scaler = preprocessing.StandardScaler()\n",
    "\n",
    "df_new = fix_num_cols(df_eda[rest],skip)\n",
    "scaler.fit(df_new)\n",
    "df_new = pd.DataFrame(scaler.transform(df_new), columns=rest)\n",
    "df_new = pd.merge(df_new, df_cat,left_index=True, right_index=True)\n",
    "df_new['price_cat'] = df_eda['price_cat']\n",
    "\n",
    "all_list = list(df_new)\n",
    "    \n",
    "newcat = list(df_cat.columns)   \n",
    "x_list = [col for col in newcat + rest if col not in skip]\n",
    "print(len(catlist))\n",
    "print(len(newcat))\n",
    "print(len(rest))\n",
    "print(m)\n",
    "print(len(x_list))\n",
    "print(len(all_list))\n",
    "print (dt.datetime.now())"
   ]
  },
  {
   "cell_type": "code",
   "execution_count": 28,
   "metadata": {},
   "outputs": [
    {
     "name": "stdout",
     "output_type": "stream",
     "text": [
      "0.0\n",
      "5326.0\n",
      "38.031487324106465\n",
      "stdevs from the mean 138.616344024842\n",
      "count    30471.000000\n",
      "mean        54.214269\n",
      "std         38.031487\n",
      "min          0.000000\n",
      "25%         38.000000\n",
      "50%         49.000000\n",
      "75%         63.000000\n",
      "max       5326.000000\n",
      "Name: full_sq, dtype: float64\n"
     ]
    }
   ],
   "source": [
    "minx = df_eda['full_sq'].describe()[3]\n",
    "maxx = df_eda['full_sq'].describe()[7]\n",
    "stdx = df_eda['full_sq'].describe()[2]\n",
    "meanx = df_eda['full_sq'].describe()[1]\n",
    "print(minx)\n",
    "print(maxx)\n",
    "print(stdx)\n",
    "stddevs_from_mean = (maxx - meanx)/stdx\n",
    "print('stdevs from the mean ' +str(stddevs_from_mean))\n",
    "print(df_eda['full_sq'].describe())"
   ]
  },
  {
   "cell_type": "code",
   "execution_count": 39,
   "metadata": {},
   "outputs": [
    {
     "data": {
      "text/plain": [
       "54.21426930524105"
      ]
     },
     "execution_count": 39,
     "metadata": {},
     "output_type": "execute_result"
    }
   ],
   "source": [
    "df_eda['full_sq'].describe().loc['mean']"
   ]
  },
  {
   "cell_type": "code",
   "execution_count": 44,
   "metadata": {},
   "outputs": [
    {
     "name": "stdout",
     "output_type": "stream",
     "text": [
      "30471\n",
      "272\n"
     ]
    },
    {
     "data": {
      "text/plain": [
       "[(142.3638196084814, 'life_sq'),\n",
       " (138.616344024842, 'full_sq'),\n",
       " (71.02533672044444, 'kitch_sq'),\n",
       " (23.109653537330125, 'leisure_count_500'),\n",
       " (21.754321092397333, 'price_doc'),\n",
       " (20.871446422808138, 'cafe_count_1000_price_high'),\n",
       " (20.11275190625996, 'cafe_count_500_price_4000'),\n",
       " (20.063518722080325, 'num_room'),\n",
       " (19.55426274821817, 'church_synagogue_km'),\n",
       " (18.49609514027656, 'industrial_km'),\n",
       " (18.119636315409828, 'trc_sqm_500'),\n",
       " (16.760073361070585, 'cafe_count_500_price_1000'),\n",
       " (16.74381376031771, 'public_healthcare_km'),\n",
       " (16.541779133085225, 'fitness_km'),\n",
       " (16.302862308561995, 'cafe_count_500_price_high'),\n",
       " (16.223416670798166, 'leisure_count_1000'),\n",
       " (15.457743726838112, 'max_floor'),\n",
       " (15.17143422396022, 'office_sqm_1000'),\n",
       " (15.0803851790294, 'preschool_km'),\n",
       " (15.06493450496005, 'school_km'),\n",
       " (15.030425493126923, 'additional_education_km'),\n",
       " (14.565806213867646, 'office_count_500'),\n",
       " (14.509518796291909, 'big_church_km'),\n",
       " (14.265226150099384, 'mosque_count_500'),\n",
       " (14.011531488600907, 'office_sqm_500'),\n",
       " (13.903266793375526, 'hospice_morgue_km'),\n",
       " (13.776451872185707, 'catering_km'),\n",
       " (13.358759264097438, 'public_transport_station_km'),\n",
       " (13.35875926334313, 'public_transport_station_min_walk'),\n",
       " (13.244427743817438, 'kindergarten_km'),\n",
       " (13.031832153907008, 'floor'),\n",
       " (13.004442106807714, 'cafe_count_1500_price_high'),\n",
       " (12.861027922805695, 'leisure_count_1500'),\n",
       " (12.25878169029913, 'metro_km_avto'),\n",
       " (12.143976935354488, 'cafe_count_500_price_1500'),\n",
       " (11.588270554997303, 'university_km'),\n",
       " (11.203817579845373, 'cafe_count_1000_price_1000'),\n",
       " (11.1595323407688, 'park_km'),\n",
       " (10.983308787834675, 'shopping_centers_km'),\n",
       " (10.961684959537628, 'theater_km'),\n",
       " (10.774293977455281, 'market_shop_km'),\n",
       " (10.619649873962832, 'swim_pool_km'),\n",
       " (10.506320599212888, 'big_church_count_1000'),\n",
       " (10.463754761158434, 'workplaces_km'),\n",
       " (10.458081990352763, 'cafe_count_500_price_500'),\n",
       " (10.291473470975554, 'cafe_count_500'),\n",
       " (10.259772948757542, 'cafe_count_1000_price_2500'),\n",
       " (10.230446662356782, 'ts_km'),\n",
       " (10.039027468185612, 'cafe_count_500_price_2500'),\n",
       " (9.907128381169272, 'cafe_count_1000_price_4000'),\n",
       " (9.901328810607835, 'office_count_1000'),\n",
       " (9.678290860495041, 'stadium_km'),\n",
       " (9.66524605995826, 'market_count_500'),\n",
       " (9.645714346596652, 'metro_km_walk'),\n",
       " (9.645714346412005, 'metro_min_walk'),\n",
       " (9.622178263973431, 'basketball_km'),\n",
       " (9.591505796130756, 'cafe_sum_1500_max_price_avg'),\n",
       " (9.570045150039327, 'cafe_count_1000_price_1500'),\n",
       " (9.562403750690997, 'build_count_foam'),\n",
       " (9.553557945213623, 'cafe_sum_500_min_price_avg'),\n",
       " (9.543003080048681, 'trc_sqm_1000'),\n",
       " (9.514974256438572, 'cafe_avg_price_1500'),\n",
       " (9.317562227518046, 'cafe_count_500_na_price'),\n",
       " (9.289177048382209, 'cafe_sum_1500_min_price_avg'),\n",
       " (9.27862862653261, 'cemetery_km'),\n",
       " (9.261701515671907, 'cafe_avg_price_500'),\n",
       " (9.251890945989883, 'cafe_count_2000_price_high'),\n",
       " (9.215136737384313, 'exhibition_km'),\n",
       " (9.175060296161282, 'office_sqm_1500'),\n",
       " (9.142850701147058, 'museum_km'),\n",
       " (9.140134344744046, 'mkad_km'),\n",
       " (9.124374558074814, 'area_m'),\n",
       " (9.115771221790487, 'cafe_count_1500_price_2500'),\n",
       " (9.103102314583431, 'cafe_count_1000'),\n",
       " (9.038810733860725, 'big_church_count_500'),\n",
       " (9.026824357754306, 'cafe_sum_500_max_price_avg'),\n",
       " (8.842918705201004, 'radiation_km'),\n",
       " (8.838470791064122, 'bus_terminal_avto_km'),\n",
       " (8.811731607584008, 'thermal_power_plant_km'),\n",
       " (8.74956690017567, 'power_transmission_line_km'),\n",
       " (8.683941714721996, 'cafe_count_1500_na_price'),\n",
       " (8.617848765531303, 'metro_min_avto'),\n",
       " (8.550718512341225, 'ice_rink_km'),\n",
       " (8.522134215769718, 'cafe_count_1000_na_price'),\n",
       " (8.390263281365026, 'cafe_count_1500_price_4000'),\n",
       " (8.140846825527037, 'cafe_sum_1000_max_price_avg'),\n",
       " (8.106899084275058, 'cafe_avg_price_1000'),\n",
       " (8.092462209233094, 'cafe_count_2000_price_4000'),\n",
       " (8.060819592261977, 'prom_part_500'),\n",
       " (8.032021789665912, 'cafe_count_3000_price_high'),\n",
       " (7.9716650931024535, 'cafe_sum_1000_min_price_avg'),\n",
       " (7.9002095089418205, 'office_count_1500'),\n",
       " (7.855634700998904, 'railroad_km'),\n",
       " (7.781475002841043, 'cafe_count_1000_price_500'),\n",
       " (7.712380566901339, 'cafe_count_1500'),\n",
       " (7.686722659790236, 'trc_sqm_2000'),\n",
       " (7.664594147819354, 'market_count_1000'),\n",
       " (7.601984623103435, 'cafe_count_1500_price_1000'),\n",
       " (7.587112465719319, 'church_count_500'),\n",
       " (7.559092289339624, 'cafe_sum_2000_max_price_avg'),\n",
       " (7.503861098733266, 'cafe_count_1500_price_500'),\n",
       " (7.471117234984067, 'cafe_avg_price_2000'),\n",
       " (7.387422766295445, 'leisure_count_2000'),\n",
       " (7.353572605663875, 'nuclear_reactor_km'),\n",
       " (7.34808487912454, 'office_km'),\n",
       " (7.325795916459111, 'church_count_1500'),\n",
       " (7.293567350332254, 'cafe_avg_price_5000'),\n",
       " (7.289006520546557, 'cafe_sum_5000_max_price_avg'),\n",
       " (7.2823907281923, 'cafe_sum_5000_min_price_avg'),\n",
       " (7.256848241207483, 'cafe_count_1500_price_1500'),\n",
       " (7.25622550185963, 'cafe_sum_2000_min_price_avg'),\n",
       " (7.18406524664037, 'zd_vokzaly_avto_km'),\n",
       " (7.153648743985125, 'mosque_count_1000'),\n",
       " (7.082118151694859, 'church_count_1000'),\n",
       " (7.03236620638346, 'cafe_count_2000_price_2500'),\n",
       " (7.032324189525473, 'incineration_km'),\n",
       " (6.800381348733356, 'railroad_station_avto_min'),\n",
       " (6.782761557820832, 'ttk_km'),\n",
       " (6.752819661155334, 'detention_facility_km'),\n",
       " (6.752073691169876, 'cafe_count_2000_price_500'),\n",
       " (6.674924816308982, 'big_church_count_2000'),\n",
       " (6.664500171309735, 'office_sqm_2000'),\n",
       " (6.628200064298297, 'sport_count_1000'),\n",
       " (6.609027185203978, 'trc_sqm_1500'),\n",
       " (6.5699630956952335, 'church_count_2000'),\n",
       " (6.567812733217984, 'sadovoe_km'),\n",
       " (6.557820413954834, 'cafe_count_2000'),\n",
       " (6.495959930587893, 'cafe_count_2000_na_price'),\n",
       " (6.487451204560785, 'big_church_count_1500'),\n",
       " (6.4848754087798115, 'bulvar_ring_km'),\n",
       " (6.478819169208372, 'kremlin_km'),\n",
       " (6.459768687979979, 'build_count_after_1995'),\n",
       " (6.448239201732011, 'university_top_20_raion'),\n",
       " (6.430537534304317, 'culture_objects_top_25_raion'),\n",
       " (6.420047031303328, 'mosque_km'),\n",
       " (6.417325281516454, 'cafe_count_3000_price_4000'),\n",
       " (6.318782695452585, 'cafe_count_2000_price_1500'),\n",
       " (6.285877860647133, 'cafe_count_2000_price_1000'),\n",
       " (6.220267889638531, 'big_church_count_3000'),\n",
       " (6.166371292466754, 'build_count_frame'),\n",
       " (6.154179011085957, 'sport_count_500'),\n",
       " (6.150967288559943, 'leisure_count_3000'),\n",
       " (6.124488942364585, 'cafe_count_3000_na_price'),\n",
       " (6.120824854462637, 'cafe_count_3000_price_2500'),\n",
       " (6.112035179018477, 'office_count_2000'),\n",
       " (6.01085557980226, 'build_count_slag'),\n",
       " (5.971990094084538, 'trc_count_500'),\n",
       " (5.962776977176719, 'build_count_monolith'),\n",
       " (5.934585236679699, 'build_count_wood'),\n",
       " (5.92987211809952, 'heating_share'),\n",
       " (5.92987211802467, 'water_pipes_share'),\n",
       " (5.929872117681496, 'baths_share'),\n",
       " (5.917868715420797, 'cafe_count_3000_price_1500'),\n",
       " (5.904753131300159, 'cafe_count_3000_price_1000'),\n",
       " (5.883676768828409, 'church_count_3000'),\n",
       " (5.8735939286909025, 'cafe_count_3000'),\n",
       " (5.8643814186709395, 'cafe_count_3000_price_500'),\n",
       " (5.84772947920325, 'hot_water_share'),\n",
       " (5.806202258238351, 'sewerage_share'),\n",
       " (5.773726194410752, 'build_count_before_1920'),\n",
       " (5.746059159586144, '16_29_female'),\n",
       " (5.720822351193468, 'green_part_1000'),\n",
       " (5.699061846897623, 'office_count_3000'),\n",
       " (5.683339536544569, 'build_count_1921-1945'),\n",
       " (5.671049267161156, 'school_education_centers_top_20_raion'),\n",
       " (5.639920517649583, 'office_raion'),\n",
       " (5.63647863417351, 'green_zone_km'),\n",
       " (5.617661345527633, 'female_f'),\n",
       " (5.609390144337492, 'build_count_1946-1970'),\n",
       " (5.570292326322275, '16_29_all'),\n",
       " (5.563048380090111, 'market_count_1500'),\n",
       " (5.55843911683413, 'big_road2_km'),\n",
       " (5.551449260864204, 'trc_count_1000'),\n",
       " (5.548708339789126, 'full_all'),\n",
       " (5.507286949710528, 'build_count_mix'),\n",
       " (5.50601855575402, 'prom_part_1000'),\n",
       " (5.464711881514884, 'male_f'),\n",
       " (5.439191391163665, 'big_market_km'),\n",
       " (5.407391228035388, 'sport_count_1500'),\n",
       " (5.39674101468056, 'green_part_500'),\n",
       " (5.378697565804047, '16_29_male'),\n",
       " (5.282638630979274, 'railroad_station_walk_min'),\n",
       " (5.282638630443704, 'railroad_station_walk_km'),\n",
       " (5.267213818886404, 'office_sqm_3000'),\n",
       " (5.209304538629814, 'cafe_count_5000_price_high'),\n",
       " (5.189515365283526, 'trc_count_1500'),\n",
       " (5.1764938146683175, 'water_treatment_km'),\n",
       " (5.127250425875927, 'railroad_station_avto_km'),\n",
       " (5.097530981248403, 'oil_chemistry_km'),\n",
       " (5.044768140943196, 'mosque_count_1500'),\n",
       " (5.014870676302458, 'green_part_1500'),\n",
       " (4.963389579085228, 'trc_count_3000'),\n",
       " (4.913013545078061, 'water_km'),\n",
       " (4.906990455206861, 'office_sqm_5000'),\n",
       " (4.893639431091605, 'trc_count_2000'),\n",
       " (4.866210308729736, 'raion_build_count_with_material_info'),\n",
       " (4.863579258145883, 'raion_build_count_with_builddate_info'),\n",
       " (4.858949557970906, 'cafe_sum_3000_max_price_avg'),\n",
       " (4.830772899314462, 'cafe_avg_price_3000'),\n",
       " (4.798762748057668, 'cafe_count_5000_price_4000'),\n",
       " (4.7897642986044815, 'sport_count_2000'),\n",
       " (4.772604066912553, 'prom_part_1500'),\n",
       " (4.765166792500383, 'cafe_sum_3000_min_price_avg'),\n",
       " (4.759963728078406, 'market_count_2000'),\n",
       " (4.730208121681472, 'leisure_count_5000'),\n",
       " (4.717525159833885, 'trc_sqm_3000'),\n",
       " (4.7009481397091655, 'green_part_5000'),\n",
       " (4.6952809394016635, 'cafe_count_5000_price_2500'),\n",
       " (4.694846142935737, 'cafe_count_5000_na_price'),\n",
       " (4.668978925137076, 'big_church_count_5000'),\n",
       " (4.6546250620066605, 'cafe_count_5000_price_1500'),\n",
       " (4.654176352120605, 'prom_part_2000'),\n",
       " (4.651935755096287, 'grp_growth'),\n",
       " (4.641141526093921, 'church_count_5000'),\n",
       " (4.635775578007966, 'cafe_count_5000_price_500'),\n",
       " (4.624475599168259, 'cafe_count_5000'),\n",
       " (4.61978541484107, 'office_count_5000'),\n",
       " (4.553920801738424, 'cafe_count_5000_price_1000'),\n",
       " (4.305680642505491, 'build_count_brick'),\n",
       " (4.298498659679141, 'prom_part_3000'),\n",
       " (4.255587018536447, 'rent_price_3room_bus'),\n",
       " (4.232713449158578, 'sport_count_3000'),\n",
       " (4.208653014587979, 'power_clinics'),\n",
       " (4.021579448269917, 'mosque_count_3000'),\n",
       " (3.9887956107369886, 'preschool_quota'),\n",
       " (3.982789222359011, 'additional_education_raion'),\n",
       " (3.964523044669222, 'shopping_centers_raion'),\n",
       " (3.942480754310098, 'big_road1_km'),\n",
       " (3.8458353949802664, 'eurrub'),\n",
       " (3.836959036338648, 'green_part_2000'),\n",
       " (3.8289154044774567, 'school_quota'),\n",
       " (3.7932222572325243, 'micex'),\n",
       " (3.7600685213849316, 'deposits_growth'),\n",
       " (3.7563929254776034, 'trc_count_5000'),\n",
       " (3.72781458108461, '0_6_male'),\n",
       " (3.6899022899214837, 'children_preschool'),\n",
       " (3.6899022899214837, '0_6_all'),\n",
       " (3.6794051979401403, 'build_count_block'),\n",
       " (3.6683002063658985, 'build_count_panel'),\n",
       " (3.6591164314935782, 'green_part_3000'),\n",
       " (3.6429390919658124, '0_6_female'),\n",
       " (3.6209949137313853, 'green_zone_part'),\n",
       " (3.599474885908107, '0_13_male'),\n",
       " (3.5931244015837764, '0_13_all'),\n",
       " (3.5785970926364454, '0_13_female'),\n",
       " (3.568673897386067, 'sport_count_5000'),\n",
       " (3.567621748966942, 'young_male'),\n",
       " (3.5609726607592522, 'young_all'),\n",
       " (3.546778235432231, 'young_female'),\n",
       " (3.5263400025441403, '0_17_all'),\n",
       " (3.5243678710122293, '0_17_male'),\n",
       " (3.521897587721817, '0_17_female'),\n",
       " (3.4609360514892846, 'hospital_beds_raion'),\n",
       " (3.4568461036587252, '7_14_female'),\n",
       " (3.4410942205386847, 'children_school'),\n",
       " (3.4410942205386847, '7_14_all'),\n",
       " (3.4156515674186254, '7_14_male'),\n",
       " (3.403078395439588, 'sport_objects_raion'),\n",
       " (3.395435075876097, 'indust_part'),\n",
       " (3.3952749853101123, 'trc_sqm_5000'),\n",
       " (3.3905417972773946, 'ID_railroad_station_walk'),\n",
       " (3.3809921310662454, 'market_count_3000'),\n",
       " (3.337132772684873, 'mortgage_rate'),\n",
       " (3.3048475500878, 'ekder_male'),\n",
       " (3.290676958641808, 'usdrub'),\n",
       " (3.21818630445237, 'mosque_count_2000'),\n",
       " (3.2148976865567924, 'ID_big_road1'),\n",
       " (3.2125844104967203, 'prom_part_5000'),\n",
       " (3.1885055795556756, 'micex_cbi_tr'),\n",
       " (3.134232521565745, 'healthcare_centers_raion'),\n",
       " (3.070619457813393, 'market_count_5000'),\n",
       " (3.024185160557074, 'net_capital_export')]"
      ]
     },
     "execution_count": 44,
     "metadata": {},
     "output_type": "execute_result"
    }
   ],
   "source": [
    "# get better understanding of columns\n",
    "ln = df_eda.shape[0]\n",
    "print(ln)\n",
    "cols_w_outliers = []\n",
    "for col in df_eda.columns:\n",
    "    try:\n",
    "        desc = df_eda[col].describe()\n",
    "        #print(desc)\n",
    "        minx = desc.loc['min']\n",
    "        maxx = desc.loc['max']\n",
    "        stdx = desc.loc['std']\n",
    "        meanx = desc.loc['mean']\n",
    "        stddevs_from_mean = (maxx - meanx)/stdx\n",
    "        if stddevs_from_mean > 3:\n",
    "            cols_w_outliers.append((stddevs_from_mean,col))\n",
    "        #print('='*10)\n",
    "    except:\n",
    "        pass\n",
    "print(len(cols_w_outliers))\n",
    "sorted(cols_w_outliers, reverse=True)"
   ]
  },
  {
   "cell_type": "code",
   "execution_count": 54,
   "metadata": {},
   "outputs": [
    {
     "data": {
      "text/plain": [
       "[(2683, 'mosque_count_2000'),\n",
       " (1373, 'mortgage_rate'),\n",
       " (1351, 'cafe_count_5000_price_high'),\n",
       " (1315, 'male_f'),\n",
       " (1315, 'full_all'),\n",
       " (1315, 'female_f'),\n",
       " (1315, '16_29_male'),\n",
       " (1315, '16_29_female'),\n",
       " (1315, '16_29_all'),\n",
       " (1308, 'cafe_count_5000_price_4000'),\n",
       " (1301, 'park_km'),\n",
       " (1293, 'build_count_before_1920'),\n",
       " (1285, 'big_church_count_5000'),\n",
       " (1278, 'cafe_count_5000_price_2500'),\n",
       " (1276, 'church_count_5000'),\n",
       " (1258, 'leisure_count_5000'),\n",
       " (1252, 'cafe_count_5000_price_500'),\n",
       " (1239, 'office_sqm_2000'),\n",
       " (1228, 'cafe_count_5000'),\n",
       " (1218, 'metro_min_avto'),\n",
       " (1218, 'cafe_count_5000_price_1000'),\n",
       " (1211, 'cafe_count_5000_na_price'),\n",
       " (1190, 'cafe_count_5000_price_1500'),\n",
       " (1186, 'additional_education_raion'),\n",
       " (1185, 'office_sqm_5000'),\n",
       " (1183, 'office_count_5000'),\n",
       " (1153, 'office_sqm_3000'),\n",
       " (1152, 'mosque_count_1500'),\n",
       " (1136, 'office_sqm_1500'),\n",
       " (1116, 'mosque_km'),\n",
       " (1085, 'university_top_20_raion'),\n",
       " (1056, 'office_raion'),\n",
       " (1056, 'build_count_brick'),\n",
       " (1053, 'trc_count_500'),\n",
       " (1048, 'metro_min_walk'),\n",
       " (1048, 'metro_km_walk'),\n",
       " (1011, 'metro_km_avto'),\n",
       " (999, 'big_market_km'),\n",
       " (997, 'power_transmission_line_km'),\n",
       " (989, 'cafe_count_3000_price_high'),\n",
       " (982, 'trc_sqm_2000'),\n",
       " (980, 'office_sqm_1000'),\n",
       " (980, 'office_count_500'),\n",
       " (966, 'office_count_1500'),\n",
       " (959, 'school_quota'),\n",
       " (959, 'preschool_quota'),\n",
       " (939, 'office_count_1000'),\n",
       " (937, 'big_church_count_3000'),\n",
       " (929, 'cafe_count_500_price_1000'),\n",
       " (927, 'office_count_3000'),\n",
       " (919, 'cafe_sum_3000_min_price_avg'),\n",
       " (919, 'cafe_sum_3000_max_price_avg'),\n",
       " (919, 'cafe_avg_price_3000'),\n",
       " (914, 'church_count_3000'),\n",
       " (912, 'office_count_2000'),\n",
       " (906, 'cafe_count_3000_price_4000'),\n",
       " (898, 'cafe_count_2000_price_high'),\n",
       " (897, 'cafe_count_3000_price_2500'),\n",
       " (892, 'cafe_count_3000_price_1000'),\n",
       " (891, 'trc_sqm_1500'),\n",
       " (890, 'cafe_count_1500_price_high'),\n",
       " (884, 'cafe_count_3000_price_500'),\n",
       " (884, 'cafe_count_3000'),\n",
       " (882, 'cafe_count_500_price_1500'),\n",
       " (876, 'build_count_frame'),\n",
       " (868, 'sport_objects_raion'),\n",
       " (867, 'cafe_count_3000_na_price'),\n",
       " (863, 'radiation_km'),\n",
       " (861, 'prom_part_500'),\n",
       " (855, 'cafe_count_3000_price_1500'),\n",
       " (851, 'shopping_centers_raion'),\n",
       " (836, 'cafe_count_500_price_high'),\n",
       " (835, 'trc_count_3000'),\n",
       " (835, 'sport_count_1000'),\n",
       " (835, 'leisure_count_3000'),\n",
       " (834, 'trc_sqm_1000'),\n",
       " (822, 'cafe_count_1000_na_price'),\n",
       " (821, 'leisure_count_1500'),\n",
       " (812, 'sport_count_1500'),\n",
       " (812, 'cafe_count_500'),\n",
       " (812, 'cafe_count_1000_price_1000'),\n",
       " (809, 'trc_count_2000'),\n",
       " (802, 'railroad_station_walk_min'),\n",
       " (802, 'railroad_station_walk_km'),\n",
       " (800, 'cafe_count_2000_price_2500'),\n",
       " (798, 'cafe_count_2000_price_4000'),\n",
       " (797, 'cafe_count_1500_price_1000'),\n",
       " (796, 'trc_sqm_500'),\n",
       " (794, 'sport_count_3000'),\n",
       " (793, 'sport_count_500'),\n",
       " (793, 'railroad_station_avto_min'),\n",
       " (792, 'cafe_count_2000_price_1000'),\n",
       " (791, 'cafe_count_2000_price_500'),\n",
       " (790, 'cafe_count_2000_price_1500'),\n",
       " (789, 'cafe_count_2000'),\n",
       " (786, 'cafe_count_2000_na_price'),\n",
       " (784, 'leisure_count_2000'),\n",
       " (779, 'sport_count_2000'),\n",
       " (778, 'leisure_count_1000'),\n",
       " (772, 'cafe_count_1000_price_1500'),\n",
       " (770, 'cafe_count_1500_price_2500'),\n",
       " (767, 'cafe_count_1500_price_1500'),\n",
       " (767, 'cafe_count_1500_na_price'),\n",
       " (763, 'cafe_count_500_price_4000'),\n",
       " (758, 'cafe_count_1500'),\n",
       " (755, 'cafe_count_500_price_500'),\n",
       " (753, 'water_pipes_share'),\n",
       " (753, 'sewerage_share'),\n",
       " (753, 'power_clinics'),\n",
       " (753, 'hot_water_share'),\n",
       " (753, 'heating_share'),\n",
       " (753, 'grp_growth'),\n",
       " (753, 'baths_share'),\n",
       " (748, 'cafe_count_1500_price_500'),\n",
       " (736, 'exhibition_km'),\n",
       " (735, 'build_count_wood'),\n",
       " (734, 'church_count_2000'),\n",
       " (732, 'raion_build_count_with_material_info'),\n",
       " (732, 'raion_build_count_with_builddate_info'),\n",
       " (730, 'cafe_count_1500_price_4000'),\n",
       " (728, 'cafe_count_1000'),\n",
       " (726, 'cafe_count_500_price_2500'),\n",
       " (716, 'big_church_count_1000'),\n",
       " (715, 'cafe_count_1000_price_2500'),\n",
       " (714, 'ts_km'),\n",
       " (710, 'church_count_1500'),\n",
       " (709, 'big_church_count_2000'),\n",
       " (708, 'cafe_count_1000_price_500'),\n",
       " (707, 'sport_count_5000'),\n",
       " (700, 'cafe_sum_5000_max_price_avg'),\n",
       " (691, 'build_count_slag'),\n",
       " (691, 'build_count_1921-1945'),\n",
       " (687, 'cafe_sum_5000_min_price_avg'),\n",
       " (687, 'cafe_avg_price_5000'),\n",
       " (683, 'cafe_count_1000_price_4000'),\n",
       " (682, 'cafe_count_500_na_price'),\n",
       " (681, 'trc_count_1500'),\n",
       " (680, 'big_church_count_1500'),\n",
       " (678, 'culture_objects_top_25_raion'),\n",
       " (677, 'big_church_count_500'),\n",
       " (670, 'church_count_1000'),\n",
       " (650, 'green_zone_km'),\n",
       " (649, 'trc_count_1000'),\n",
       " (636, 'fitness_km'),\n",
       " (629, 'office_sqm_500'),\n",
       " (626, 'mosque_count_3000'),\n",
       " (622, 'railroad_km'),\n",
       " (622, 'church_count_500'),\n",
       " (607, 'market_count_1000'),\n",
       " (584, 'mosque_count_1000'),\n",
       " (576, 'railroad_station_avto_km'),\n",
       " (570, 'swim_pool_km'),\n",
       " (538, 'thermal_power_plant_km'),\n",
       " (535, 'shopping_centers_km'),\n",
       " (531, 'ice_rink_km'),\n",
       " (526, 'school_km'),\n",
       " (526, 'preschool_km'),\n",
       " (521, 'deposits_growth'),\n",
       " (521, 'build_count_block'),\n",
       " (519, 'prom_part_1000'),\n",
       " (513, 'build_count_monolith'),\n",
       " (511, 'workplaces_km'),\n",
       " (508, 'young_male'),\n",
       " (508, 'young_female'),\n",
       " (508, 'young_all'),\n",
       " (508, 'children_school'),\n",
       " (508, 'children_preschool'),\n",
       " (508, '7_14_male'),\n",
       " (508, '7_14_female'),\n",
       " (508, '7_14_all'),\n",
       " (508, '0_6_male'),\n",
       " (508, '0_6_female'),\n",
       " (508, '0_6_all'),\n",
       " (508, '0_17_male'),\n",
       " (508, '0_17_female'),\n",
       " (508, '0_17_all'),\n",
       " (508, '0_13_male'),\n",
       " (508, '0_13_female'),\n",
       " (508, '0_13_all'),\n",
       " (507, 'basketball_km'),\n",
       " (504, 'catering_km'),\n",
       " (498, 'big_road2_km'),\n",
       " (488, 'green_part_500'),\n",
       " (468, 'public_healthcare_km'),\n",
       " (461, 'price_doc'),\n",
       " (459, 'office_km'),\n",
       " (451, 'build_count_panel'),\n",
       " (451, 'build_count_after_1995'),\n",
       " (439, 'eurrub'),\n",
       " (435, 'green_part_1500'),\n",
       " (433, 'market_count_1500'),\n",
       " (430, 'build_count_mix'),\n",
       " (426, 'big_church_km'),\n",
       " (414, 'public_transport_station_min_walk'),\n",
       " (414, 'public_transport_station_km'),\n",
       " (413, 'rent_price_3room_bus'),\n",
       " (409, 'green_part_1000'),\n",
       " (397, 'museum_km'),\n",
       " (386, 'market_count_2000'),\n",
       " (384, 'market_count_500'),\n",
       " (381, 'market_shop_km'),\n",
       " (358, 'bus_terminal_avto_km'),\n",
       " (358, 'area_m'),\n",
       " (357, 'cafe_sum_2000_max_price_avg'),\n",
       " (357, 'cafe_avg_price_2000'),\n",
       " (340, 'usdrub'),\n",
       " (339, 'cafe_sum_2000_min_price_avg'),\n",
       " (336, 'university_km'),\n",
       " (331, 'micex'),\n",
       " (305, 'hospital_beds_raion'),\n",
       " (300, 'healthcare_centers_raion'),\n",
       " (283, 'detention_facility_km'),\n",
       " (277, 'prom_part_1500'),\n",
       " (277, 'hospice_morgue_km'),\n",
       " (272, 'floor'),\n",
       " (271, 'trc_sqm_3000'),\n",
       " (271, 'leisure_count_500'),\n",
       " (265, 'theater_km'),\n",
       " (264, 'ekder_male'),\n",
       " (262, 'build_count_foam'),\n",
       " (259, 'cafe_count_1000_price_high'),\n",
       " (256, 'zd_vokzaly_avto_km'),\n",
       " (253, 'mkad_km'),\n",
       " (253, 'cafe_avg_price_1000'),\n",
       " (252, 'cafe_sum_1000_max_price_avg'),\n",
       " (249, 'kindergarten_km'),\n",
       " (248, 'stadium_km'),\n",
       " (245, 'additional_education_km'),\n",
       " (239, 'net_capital_export'),\n",
       " (237, 'cafe_sum_1000_min_price_avg'),\n",
       " (231, 'trc_count_5000'),\n",
       " (229, 'prom_part_2000'),\n",
       " (224, 'incineration_km'),\n",
       " (205, 'school_education_centers_top_20_raion'),\n",
       " (205, 'prom_part_3000'),\n",
       " (197, 'nuclear_reactor_km'),\n",
       " (196, 'ttk_km'),\n",
       " (192, 'indust_part'),\n",
       " (191, 'sadovoe_km'),\n",
       " (191, 'kremlin_km'),\n",
       " (191, 'bulvar_ring_km'),\n",
       " (189, 'oil_chemistry_km'),\n",
       " (189, 'green_part_2000'),\n",
       " (183, 'water_treatment_km'),\n",
       " (183, 'industrial_km'),\n",
       " (176, 'church_synagogue_km'),\n",
       " (172, 'cafe_sum_1500_max_price_avg'),\n",
       " (172, 'cafe_avg_price_1500'),\n",
       " (158, 'cemetery_km'),\n",
       " (152, 'green_part_3000'),\n",
       " (150, 'green_part_5000'),\n",
       " (150, 'cafe_sum_1500_min_price_avg'),\n",
       " (149, 'mosque_count_500'),\n",
       " (128, 'water_km'),\n",
       " (122, 'cafe_sum_500_min_price_avg'),\n",
       " (113, 'prom_part_5000'),\n",
       " (112, 'cafe_avg_price_500'),\n",
       " (110, 'cafe_sum_500_max_price_avg'),\n",
       " (82, 'micex_cbi_tr'),\n",
       " (81, 'full_sq'),\n",
       " (69, 'ID_railroad_station_walk'),\n",
       " (68, 'trc_sqm_5000'),\n",
       " (64, 'max_floor'),\n",
       " (60, 'green_zone_part'),\n",
       " (58, 'num_room'),\n",
       " (44, 'build_count_1946-1970'),\n",
       " (39, 'big_road1_km'),\n",
       " (18, 'life_sq'),\n",
       " (12, 'kitch_sq'),\n",
       " (8, 'market_count_3000'),\n",
       " (5, 'ID_big_road1'),\n",
       " (1, 'market_count_5000')]"
      ]
     },
     "execution_count": 54,
     "metadata": {},
     "output_type": "execute_result"
    }
   ],
   "source": [
    "d = defaultdict(int)\n",
    "for a in cols_w_outliers:\n",
    "    mn = df_eda[a[1]].mean()\n",
    "    std = df_eda[a[1]].std()\n",
    "    for val in df_eda[a[1]]:\n",
    "        v = abs(val - mn)/std\n",
    "        if v > 3:\n",
    "            d[a[1]] += 1\n",
    "f = [(v,k )for k,v in d.items()]\n",
    "sorted(f,reverse=True)\n",
    "        "
   ]
  },
  {
   "cell_type": "code",
   "execution_count": 19,
   "metadata": {},
   "outputs": [
    {
     "name": "stdout",
     "output_type": "stream",
     "text": [
      "30471\n",
      "92\n"
     ]
    },
    {
     "data": {
      "text/plain": [
       "[('life_sq', 24088.0),\n",
       " ('floor', 30304.0),\n",
       " ('max_floor', 20899.0),\n",
       " ('material', 20899.0),\n",
       " ('num_room', 20899.0),\n",
       " ('kitch_sq', 20899.0),\n",
       " ('state', 16912.0),\n",
       " ('preschool_quota', 23783.0),\n",
       " ('school_quota', 23786.0),\n",
       " ('hospital_beds_raion', 16030.0),\n",
       " ('raion_build_count_with_material_info', 25480.0),\n",
       " ('build_count_block', 25480.0),\n",
       " ('build_count_wood', 25480.0),\n",
       " ('build_count_frame', 25480.0),\n",
       " ('build_count_brick', 25480.0),\n",
       " ('build_count_monolith', 25480.0),\n",
       " ('build_count_panel', 25480.0),\n",
       " ('build_count_foam', 25480.0),\n",
       " ('build_count_slag', 25480.0),\n",
       " ('build_count_mix', 25480.0),\n",
       " ('raion_build_count_with_builddate_info', 25480.0),\n",
       " ('build_count_before_1920', 25480.0),\n",
       " ('build_count_1921-1945', 25480.0),\n",
       " ('build_count_1946-1970', 25480.0),\n",
       " ('build_count_1971-1995', 25480.0),\n",
       " ('build_count_after_1995', 25480.0),\n",
       " ('metro_min_walk', 30446.0),\n",
       " ('metro_km_walk', 30446.0),\n",
       " ('railroad_station_walk_km', 30446.0),\n",
       " ('railroad_station_walk_min', 30446.0),\n",
       " ('ID_railroad_station_walk', 30446.0),\n",
       " ('cafe_sum_500_min_price_avg', 17190.0),\n",
       " ('cafe_sum_500_max_price_avg', 17190.0),\n",
       " ('cafe_avg_price_500', 17190.0),\n",
       " ('cafe_sum_1000_min_price_avg', 23947.0),\n",
       " ('cafe_sum_1000_max_price_avg', 23947.0),\n",
       " ('cafe_avg_price_1000', 23947.0),\n",
       " ('cafe_sum_1500_min_price_avg', 26272.0),\n",
       " ('cafe_sum_1500_max_price_avg', 26272.0),\n",
       " ('cafe_avg_price_1500', 26272.0),\n",
       " ('cafe_sum_2000_min_price_avg', 28746.0),\n",
       " ('cafe_sum_2000_max_price_avg', 28746.0),\n",
       " ('cafe_avg_price_2000', 28746.0),\n",
       " ('cafe_sum_3000_min_price_avg', 29480.0),\n",
       " ('cafe_sum_3000_max_price_avg', 29480.0),\n",
       " ('cafe_avg_price_3000', 29480.0),\n",
       " ('prom_part_5000', 30293.0),\n",
       " ('cafe_sum_5000_min_price_avg', 30174.0),\n",
       " ('cafe_sum_5000_max_price_avg', 30174.0),\n",
       " ('cafe_avg_price_5000', 30174.0),\n",
       " ('grp', 27232.0),\n",
       " ('grp_growth', 27232.0),\n",
       " ('real_dispos_income_per_cap_growth', 27232.0),\n",
       " ('profitable_enterpr_share', 27232.0),\n",
       " ('unprofitable_enterpr_share', 27232.0),\n",
       " ('share_own_revenues', 27232.0),\n",
       " ('overdue_wages_per_cap', 27232.0),\n",
       " ('fin_res_per_cap', 27232.0),\n",
       " ('marriages_per_1000_cap', 27232.0),\n",
       " ('divorce_rate', 27232.0),\n",
       " ('construction_value', 27232.0),\n",
       " ('invest_fixed_assets_phys', 27232.0),\n",
       " ('pop_migration', 27232.0),\n",
       " ('pop_total_inc', 27232.0),\n",
       " ('housing_fund_sqm', 27232.0),\n",
       " ('lodging_sqm_per_cap', 27232.0),\n",
       " ('water_pipes_share', 27232.0),\n",
       " ('baths_share', 27232.0),\n",
       " ('sewerage_share', 27232.0),\n",
       " ('gas_share', 27232.0),\n",
       " ('hot_water_share', 27232.0),\n",
       " ('electric_stove_share', 27232.0),\n",
       " ('heating_share', 27232.0),\n",
       " ('old_house_share', 27232.0),\n",
       " ('infant_mortarity_per_1000_cap', 27232.0),\n",
       " ('perinatal_mort_per_1000_cap', 27232.0),\n",
       " ('incidence_population', 27232.0),\n",
       " ('load_of_teachers_preschool_per_teacher', 13570.0),\n",
       " ('child_on_acc_pre_school', 27232),\n",
       " ('modern_education_share', 24879),\n",
       " ('old_education_build_share', 24879),\n",
       " ('provision_doctors', 27232.0),\n",
       " ('power_clinics', 27232.0),\n",
       " ('hospital_beds_available_per_cap', 27232.0),\n",
       " ('hospital_bed_occupancy_per_year', 27232.0),\n",
       " ('provision_retail_space_sqm', 5592.0),\n",
       " ('provision_retail_space_modern_sqm', 753.0),\n",
       " ('theaters_viewers_per_1000_cap', 13570.0),\n",
       " ('museum_visitis_per_100_cap', 13570.0),\n",
       " ('population_reg_sports_share', 27232.0),\n",
       " ('students_reg_sports_share', 13570.0),\n",
       " ('apartment_build', 27232.0)]"
      ]
     },
     "execution_count": 19,
     "metadata": {},
     "output_type": "execute_result"
    }
   ],
   "source": [
    "# get better understanding of columns\n",
    "ln = df_eda.shape[0]\n",
    "print(ln)\n",
    "cols_with_nulls = []\n",
    "for col in df_eda.columns:\n",
    "    #print(col)\n",
    "    collen = df_eda[col].describe()[0]\n",
    "    #print(collen)\n",
    "    if collen < ln:\n",
    "        cols_with_nulls.append((col,collen))\n",
    "    #print('='*10)\n",
    "print(len(cols_with_nulls))\n",
    "cols_with_nulls"
   ]
  },
  {
   "cell_type": "code",
   "execution_count": 28,
   "metadata": {},
   "outputs": [
    {
     "data": {
      "text/html": [
       "<div>\n",
       "<style scoped>\n",
       "    .dataframe tbody tr th:only-of-type {\n",
       "        vertical-align: middle;\n",
       "    }\n",
       "\n",
       "    .dataframe tbody tr th {\n",
       "        vertical-align: top;\n",
       "    }\n",
       "\n",
       "    .dataframe thead th {\n",
       "        text-align: right;\n",
       "    }\n",
       "</style>\n",
       "<table border=\"1\" class=\"dataframe\">\n",
       "  <thead>\n",
       "    <tr style=\"text-align: right;\">\n",
       "      <th>state</th>\n",
       "      <th>1.0</th>\n",
       "      <th>2.0</th>\n",
       "      <th>3.0</th>\n",
       "      <th>4.0</th>\n",
       "      <th>5.0</th>\n",
       "      <th>6.0</th>\n",
       "    </tr>\n",
       "    <tr>\n",
       "      <th>price_cat</th>\n",
       "      <th></th>\n",
       "      <th></th>\n",
       "      <th></th>\n",
       "      <th></th>\n",
       "      <th></th>\n",
       "      <th></th>\n",
       "    </tr>\n",
       "  </thead>\n",
       "  <tbody>\n",
       "    <tr>\n",
       "      <th>0</th>\n",
       "      <td>0.545455</td>\n",
       "      <td>0.207792</td>\n",
       "      <td>0.000000</td>\n",
       "      <td>0.038961</td>\n",
       "      <td>0.168831</td>\n",
       "      <td>0.038961</td>\n",
       "    </tr>\n",
       "    <tr>\n",
       "      <th>1</th>\n",
       "      <td>0.696302</td>\n",
       "      <td>0.128780</td>\n",
       "      <td>0.000000</td>\n",
       "      <td>0.059872</td>\n",
       "      <td>0.070233</td>\n",
       "      <td>0.044814</td>\n",
       "    </tr>\n",
       "    <tr>\n",
       "      <th>2</th>\n",
       "      <td>0.705423</td>\n",
       "      <td>0.125212</td>\n",
       "      <td>0.000113</td>\n",
       "      <td>0.047209</td>\n",
       "      <td>0.093173</td>\n",
       "      <td>0.028869</td>\n",
       "    </tr>\n",
       "    <tr>\n",
       "      <th>3</th>\n",
       "      <td>0.581345</td>\n",
       "      <td>0.217462</td>\n",
       "      <td>0.000000</td>\n",
       "      <td>0.115781</td>\n",
       "      <td>0.038503</td>\n",
       "      <td>0.046909</td>\n",
       "    </tr>\n",
       "  </tbody>\n",
       "</table>\n",
       "</div>"
      ],
      "text/plain": [
       "state           1.0       2.0       3.0       4.0       5.0       6.0\n",
       "price_cat                                                            \n",
       "0          0.545455  0.207792  0.000000  0.038961  0.168831  0.038961\n",
       "1          0.696302  0.128780  0.000000  0.059872  0.070233  0.044814\n",
       "2          0.705423  0.125212  0.000113  0.047209  0.093173  0.028869\n",
       "3          0.581345  0.217462  0.000000  0.115781  0.038503  0.046909"
      ]
     },
     "execution_count": 28,
     "metadata": {},
     "output_type": "execute_result"
    }
   ],
   "source": [
    "#pd.crosstab(a, [b, c], rownames=['a'], colnames=['b', 'c'])\n",
    "y = df_eda['price_cat']\n",
    "#b = df_eda['material']\n",
    "c = df_eda['material']\n",
    "x_tab = pd.crosstab(y, [c], rownames=['price_cat'], colnames=['state']).apply(lambda r: r/r.sum(), axis=1)\n",
    "x_tab"
   ]
  },
  {
   "cell_type": "code",
   "execution_count": 31,
   "metadata": {},
   "outputs": [],
   "source": [
    "chsq = chisquare(x_tab)"
   ]
  },
  {
   "cell_type": "code",
   "execution_count": 72,
   "metadata": {},
   "outputs": [],
   "source": [
    "with open('cols.csv', 'w') as f:\n",
    "    writer = csv.writer(f)\n",
    "    for col in sorted(coltypes):\n",
    "        writer.writerows([col])"
   ]
  },
  {
   "cell_type": "code",
   "execution_count": 7,
   "metadata": {},
   "outputs": [
    {
     "data": {
      "text/html": [
       "<div>\n",
       "<style scoped>\n",
       "    .dataframe tbody tr th:only-of-type {\n",
       "        vertical-align: middle;\n",
       "    }\n",
       "\n",
       "    .dataframe tbody tr th {\n",
       "        vertical-align: top;\n",
       "    }\n",
       "\n",
       "    .dataframe thead th {\n",
       "        text-align: right;\n",
       "    }\n",
       "</style>\n",
       "<table border=\"1\" class=\"dataframe\">\n",
       "  <thead>\n",
       "    <tr style=\"text-align: right;\">\n",
       "      <th></th>\n",
       "      <th>ID_railroad_station_walk</th>\n",
       "      <th>additional_education_km</th>\n",
       "      <th>apartment_build</th>\n",
       "      <th>area_m</th>\n",
       "      <th>average_provision_of_build_contract</th>\n",
       "      <th>average_provision_of_build_contract_moscow</th>\n",
       "      <th>balance_trade</th>\n",
       "      <th>balance_trade_growth</th>\n",
       "      <th>basketball_km</th>\n",
       "      <th>baths_share</th>\n",
       "      <th>...</th>\n",
       "      <th>unemployment_2</th>\n",
       "      <th>unemployment_3</th>\n",
       "      <th>unemployment_4</th>\n",
       "      <th>university_top_20_raion_0</th>\n",
       "      <th>university_top_20_raion_1</th>\n",
       "      <th>university_top_20_raion_2</th>\n",
       "      <th>university_top_20_raion_3</th>\n",
       "      <th>water_1line_0</th>\n",
       "      <th>water_1line_1</th>\n",
       "      <th>price_cat</th>\n",
       "    </tr>\n",
       "  </thead>\n",
       "  <tbody>\n",
       "    <tr>\n",
       "      <th>0</th>\n",
       "      <td>-1.363813</td>\n",
       "      <td>-0.249330</td>\n",
       "      <td>-5.857459</td>\n",
       "      <td>-0.544788</td>\n",
       "      <td>-1.774799</td>\n",
       "      <td>1.093412</td>\n",
       "      <td>-0.836632</td>\n",
       "      <td>-0.681054</td>\n",
       "      <td>-0.235595</td>\n",
       "      <td>6.282208</td>\n",
       "      <td>...</td>\n",
       "      <td>0</td>\n",
       "      <td>0</td>\n",
       "      <td>0</td>\n",
       "      <td>1</td>\n",
       "      <td>0</td>\n",
       "      <td>0</td>\n",
       "      <td>0</td>\n",
       "      <td>1</td>\n",
       "      <td>0</td>\n",
       "      <td>1</td>\n",
       "    </tr>\n",
       "    <tr>\n",
       "      <th>1</th>\n",
       "      <td>-1.327783</td>\n",
       "      <td>-0.167851</td>\n",
       "      <td>-5.857459</td>\n",
       "      <td>-0.390702</td>\n",
       "      <td>-1.774799</td>\n",
       "      <td>1.093412</td>\n",
       "      <td>-0.836632</td>\n",
       "      <td>-0.681054</td>\n",
       "      <td>-0.672067</td>\n",
       "      <td>6.282208</td>\n",
       "      <td>...</td>\n",
       "      <td>0</td>\n",
       "      <td>0</td>\n",
       "      <td>0</td>\n",
       "      <td>1</td>\n",
       "      <td>0</td>\n",
       "      <td>0</td>\n",
       "      <td>0</td>\n",
       "      <td>1</td>\n",
       "      <td>0</td>\n",
       "      <td>1</td>\n",
       "    </tr>\n",
       "    <tr>\n",
       "      <th>2</th>\n",
       "      <td>-1.291753</td>\n",
       "      <td>-0.613638</td>\n",
       "      <td>-5.857459</td>\n",
       "      <td>-0.622239</td>\n",
       "      <td>-1.774799</td>\n",
       "      <td>1.093412</td>\n",
       "      <td>-0.836632</td>\n",
       "      <td>-0.681054</td>\n",
       "      <td>-0.525425</td>\n",
       "      <td>6.282208</td>\n",
       "      <td>...</td>\n",
       "      <td>0</td>\n",
       "      <td>0</td>\n",
       "      <td>0</td>\n",
       "      <td>1</td>\n",
       "      <td>0</td>\n",
       "      <td>0</td>\n",
       "      <td>0</td>\n",
       "      <td>1</td>\n",
       "      <td>0</td>\n",
       "      <td>1</td>\n",
       "    </tr>\n",
       "    <tr>\n",
       "      <th>3</th>\n",
       "      <td>-1.255724</td>\n",
       "      <td>-0.285556</td>\n",
       "      <td>-5.857459</td>\n",
       "      <td>-0.245700</td>\n",
       "      <td>-1.774799</td>\n",
       "      <td>1.093412</td>\n",
       "      <td>-0.866722</td>\n",
       "      <td>-0.681054</td>\n",
       "      <td>0.025245</td>\n",
       "      <td>6.282208</td>\n",
       "      <td>...</td>\n",
       "      <td>0</td>\n",
       "      <td>0</td>\n",
       "      <td>0</td>\n",
       "      <td>1</td>\n",
       "      <td>0</td>\n",
       "      <td>0</td>\n",
       "      <td>0</td>\n",
       "      <td>1</td>\n",
       "      <td>0</td>\n",
       "      <td>3</td>\n",
       "    </tr>\n",
       "    <tr>\n",
       "      <th>4</th>\n",
       "      <td>-1.219694</td>\n",
       "      <td>-0.339201</td>\n",
       "      <td>-5.857459</td>\n",
       "      <td>-0.448374</td>\n",
       "      <td>-1.774799</td>\n",
       "      <td>1.093412</td>\n",
       "      <td>-0.866722</td>\n",
       "      <td>-0.681054</td>\n",
       "      <td>-0.830288</td>\n",
       "      <td>6.282208</td>\n",
       "      <td>...</td>\n",
       "      <td>0</td>\n",
       "      <td>0</td>\n",
       "      <td>0</td>\n",
       "      <td>0</td>\n",
       "      <td>0</td>\n",
       "      <td>1</td>\n",
       "      <td>0</td>\n",
       "      <td>1</td>\n",
       "      <td>0</td>\n",
       "      <td>3</td>\n",
       "    </tr>\n",
       "  </tbody>\n",
       "</table>\n",
       "<p>5 rows × 736 columns</p>\n",
       "</div>"
      ],
      "text/plain": [
       "   ID_railroad_station_walk  additional_education_km  apartment_build  \\\n",
       "0                 -1.363813                -0.249330        -5.857459   \n",
       "1                 -1.327783                -0.167851        -5.857459   \n",
       "2                 -1.291753                -0.613638        -5.857459   \n",
       "3                 -1.255724                -0.285556        -5.857459   \n",
       "4                 -1.219694                -0.339201        -5.857459   \n",
       "\n",
       "     area_m  average_provision_of_build_contract  \\\n",
       "0 -0.544788                            -1.774799   \n",
       "1 -0.390702                            -1.774799   \n",
       "2 -0.622239                            -1.774799   \n",
       "3 -0.245700                            -1.774799   \n",
       "4 -0.448374                            -1.774799   \n",
       "\n",
       "   average_provision_of_build_contract_moscow  balance_trade  \\\n",
       "0                                    1.093412      -0.836632   \n",
       "1                                    1.093412      -0.836632   \n",
       "2                                    1.093412      -0.836632   \n",
       "3                                    1.093412      -0.866722   \n",
       "4                                    1.093412      -0.866722   \n",
       "\n",
       "   balance_trade_growth  basketball_km  baths_share    ...      \\\n",
       "0             -0.681054      -0.235595     6.282208    ...       \n",
       "1             -0.681054      -0.672067     6.282208    ...       \n",
       "2             -0.681054      -0.525425     6.282208    ...       \n",
       "3             -0.681054       0.025245     6.282208    ...       \n",
       "4             -0.681054      -0.830288     6.282208    ...       \n",
       "\n",
       "   unemployment_2  unemployment_3  unemployment_4  university_top_20_raion_0  \\\n",
       "0               0               0               0                          1   \n",
       "1               0               0               0                          1   \n",
       "2               0               0               0                          1   \n",
       "3               0               0               0                          1   \n",
       "4               0               0               0                          0   \n",
       "\n",
       "   university_top_20_raion_1  university_top_20_raion_2  \\\n",
       "0                          0                          0   \n",
       "1                          0                          0   \n",
       "2                          0                          0   \n",
       "3                          0                          0   \n",
       "4                          0                          1   \n",
       "\n",
       "   university_top_20_raion_3  water_1line_0  water_1line_1  price_cat  \n",
       "0                          0              1              0          1  \n",
       "1                          0              1              0          1  \n",
       "2                          0              1              0          1  \n",
       "3                          0              1              0          3  \n",
       "4                          0              1              0          3  \n",
       "\n",
       "[5 rows x 736 columns]"
      ]
     },
     "execution_count": 7,
     "metadata": {},
     "output_type": "execute_result"
    }
   ],
   "source": [
    "df_new.head()"
   ]
  },
  {
   "cell_type": "code",
   "execution_count": 7,
   "metadata": {},
   "outputs": [
    {
     "data": {
      "text/plain": [
       "(21329, 735)"
      ]
     },
     "execution_count": 7,
     "metadata": {},
     "output_type": "execute_result"
    }
   ],
   "source": [
    "X_train, X_test, y_train, y_test = model_selection.train_test_split(df_new[x_list], \\\n",
    "                                                                df_new['price_cat'], test_size=0.3)\n",
    "X_train.shape"
   ]
  },
  {
   "cell_type": "code",
   "execution_count": 171,
   "metadata": {},
   "outputs": [],
   "source": [
    "for col in X_train.columns:\n",
    "    pass"
   ]
  },
  {
   "cell_type": "code",
   "execution_count": 174,
   "metadata": {},
   "outputs": [
    {
     "name": "stdout",
     "output_type": "stream",
     "text": [
      "2018-11-17 14:10:53.509799\n",
      "Fitting 5 folds for each of 1 candidates, totalling 5 fits\n",
      "[CV] clf__n_estimators=500 ...........................................\n",
      "[CV] clf__n_estimators=500 ...........................................\n",
      "[CV] clf__n_estimators=500 ...........................................\n",
      "[CV] clf__n_estimators=500 ...........................................\n",
      "[CV] clf__n_estimators=500 ...........................................\n",
      "[CV] .. clf__n_estimators=500, score=0.7597280825128926, total= 1.3min\n",
      "[CV] .. clf__n_estimators=500, score=0.7723863103609939, total= 1.3min\n",
      "[CV] .. clf__n_estimators=500, score=0.7648851383028599, total= 1.3min\n",
      "[CV] ... clf__n_estimators=500, score=0.763244256915143, total= 1.3min\n"
     ]
    },
    {
     "name": "stderr",
     "output_type": "stream",
     "text": [
      "[Parallel(n_jobs=5)]: Done   2 out of   5 | elapsed:  1.5min remaining:  2.2min\n"
     ]
    },
    {
     "name": "stdout",
     "output_type": "stream",
     "text": [
      "[CV] .. clf__n_estimators=500, score=0.7578527894983591, total= 1.4min\n"
     ]
    },
    {
     "name": "stderr",
     "output_type": "stream",
     "text": [
      "[Parallel(n_jobs=5)]: Done   5 out of   5 | elapsed:  1.5min finished\n"
     ]
    },
    {
     "name": "stdout",
     "output_type": "stream",
     "text": [
      "{'clf__n_estimators': 500}\n",
      "0.7731349814045066\n",
      "2018-11-17 14:13:39.186551\n"
     ]
    }
   ],
   "source": [
    "print (dt.datetime.now())\n",
    "pipe = Pipeline([\n",
    "  #('fs', SelectFromModel(LogisticRegression(multi_class='ovr'))),\n",
    "  ('clf', RandomForestClassifier())\n",
    "])\n",
    "\n",
    "cv = model_selection.ShuffleSplit(n_splits=5, test_size=0.2)\n",
    "param_grid = { \"clf__n_estimators\": [500]  }\n",
    "pipe_est_cv = model_selection.GridSearchCV(pipe, param_grid=param_grid, cv=cv, scoring='accuracy', \\\n",
    "                                           verbose=3, n_jobs=5)\n",
    "\n",
    "pipe_est_cv.fit(X_train, y_train)\n",
    "print(pipe_est_cv.best_params_)\n",
    "print(pipe_est_cv.score(X_test, y_test))\n",
    "print (dt.datetime.now())"
   ]
  },
  {
   "cell_type": "code",
   "execution_count": null,
   "metadata": {},
   "outputs": [
    {
     "name": "stdout",
     "output_type": "stream",
     "text": [
      "2018-11-17 17:37:07.592485\n",
      "Fitting 5 folds for each of 2 candidates, totalling 10 fits\n",
      "[CV] clf__max_depth=10, clf__n_estimators=200, clf__objective=multi:softmax \n",
      "[CV] clf__max_depth=10, clf__n_estimators=200, clf__objective=multi:softmax \n"
     ]
    },
    {
     "name": "stderr",
     "output_type": "stream",
     "text": [
      "/Users/chadleonard/Springboard/anaconda3/lib/python3.7/site-packages/sklearn/preprocessing/label.py:151: DeprecationWarning: The truth value of an empty array is ambiguous. Returning False, but in future this will result in an error. Use `array.size > 0` to check that an array is not empty.\n",
      "  if diff:\n",
      "/Users/chadleonard/Springboard/anaconda3/lib/python3.7/site-packages/sklearn/preprocessing/label.py:151: DeprecationWarning: The truth value of an empty array is ambiguous. Returning False, but in future this will result in an error. Use `array.size > 0` to check that an array is not empty.\n",
      "  if diff:\n"
     ]
    },
    {
     "name": "stdout",
     "output_type": "stream",
     "text": [
      "[CV]  clf__max_depth=10, clf__n_estimators=200, clf__objective=multi:softmax, score=0.8077824660103141, total=17.7min\n",
      "[CV] clf__max_depth=10, clf__n_estimators=200, clf__objective=multi:softmax \n"
     ]
    },
    {
     "name": "stderr",
     "output_type": "stream",
     "text": [
      "/Users/chadleonard/Springboard/anaconda3/lib/python3.7/site-packages/sklearn/preprocessing/label.py:151: DeprecationWarning: The truth value of an empty array is ambiguous. Returning False, but in future this will result in an error. Use `array.size > 0` to check that an array is not empty.\n",
      "  if diff:\n",
      "/Users/chadleonard/Springboard/anaconda3/lib/python3.7/site-packages/sklearn/preprocessing/label.py:151: DeprecationWarning: The truth value of an empty array is ambiguous. Returning False, but in future this will result in an error. Use `array.size > 0` to check that an array is not empty.\n",
      "  if diff:\n"
     ]
    },
    {
     "name": "stdout",
     "output_type": "stream",
     "text": [
      "[CV]  clf__max_depth=10, clf__n_estimators=200, clf__objective=multi:softmax, score=0.8105954055321144, total=17.8min\n",
      "[CV] clf__max_depth=10, clf__n_estimators=200, clf__objective=multi:softmax \n"
     ]
    },
    {
     "name": "stderr",
     "output_type": "stream",
     "text": [
      "/Users/chadleonard/Springboard/anaconda3/lib/python3.7/site-packages/sklearn/preprocessing/label.py:151: DeprecationWarning: The truth value of an empty array is ambiguous. Returning False, but in future this will result in an error. Use `array.size > 0` to check that an array is not empty.\n",
      "  if diff:\n",
      "/Users/chadleonard/Springboard/anaconda3/lib/python3.7/site-packages/sklearn/preprocessing/label.py:151: DeprecationWarning: The truth value of an empty array is ambiguous. Returning False, but in future this will result in an error. Use `array.size > 0` to check that an array is not empty.\n",
      "  if diff:\n"
     ]
    },
    {
     "name": "stdout",
     "output_type": "stream",
     "text": [
      "[CV]  clf__max_depth=10, clf__n_estimators=200, clf__objective=multi:softmax, score=0.7991092358180966, total=17.6min\n",
      "[CV] clf__max_depth=10, clf__n_estimators=200, clf__objective=multi:softmax \n"
     ]
    },
    {
     "name": "stderr",
     "output_type": "stream",
     "text": [
      "/Users/chadleonard/Springboard/anaconda3/lib/python3.7/site-packages/sklearn/preprocessing/label.py:151: DeprecationWarning: The truth value of an empty array is ambiguous. Returning False, but in future this will result in an error. Use `array.size > 0` to check that an array is not empty.\n",
      "  if diff:\n",
      "/Users/chadleonard/Springboard/anaconda3/lib/python3.7/site-packages/sklearn/preprocessing/label.py:151: DeprecationWarning: The truth value of an empty array is ambiguous. Returning False, but in future this will result in an error. Use `array.size > 0` to check that an array is not empty.\n",
      "  if diff:\n"
     ]
    },
    {
     "name": "stdout",
     "output_type": "stream",
     "text": [
      "[CV]  clf__max_depth=10, clf__n_estimators=200, clf__objective=multi:softmax, score=0.7993436474449133, total=17.7min\n",
      "[CV] clf__max_depth=10, clf__n_estimators=200, clf__objective=multi:softprob \n"
     ]
    }
   ],
   "source": [
    "# First XGBoost Classifier model\n",
    "from xgboost import XGBClassifier\n",
    "from sklearn.metrics import accuracy_score\n",
    "# load data\n",
    "\n",
    "print (dt.datetime.now())\n",
    "pipe = Pipeline([\n",
    "      # ('scaling', preprocessing.StandardScaler()),\n",
    "       #('pca', PCA(whiten=True)),\n",
    "       ('clf', XGBClassifier()) \n",
    "    ])\n",
    "\n",
    "cv = model_selection.ShuffleSplit(n_splits=5, test_size=0.2)\n",
    "param_grid = { \"clf__n_estimators\": [200], \\\n",
    "              \"clf__objective\": ['multi:softmax', 'multi:softprob'] , \"clf__max_depth\": [10]}\n",
    "pipe_est_cv = model_selection.GridSearchCV(pipe, param_grid=param_grid, cv=cv, \\\n",
    "                                           scoring='accuracy', verbose=3, n_jobs=2)\n",
    "\n",
    "pipe_est_cv.fit(X_train, y_train)\n",
    "pipe_est_cv_results = pipe_est_cv.cv_results_\n",
    "\n",
    "print(pipe_est_cv.best_params_)\n",
    "print(pipe_est_cv.best_score_)\n",
    "\n",
    "print(pipe_est_cv_results['mean_train_score'])\n",
    "print(pipe_est_cv_results['mean_test_score'])\n",
    "print (dt.datetime.now())"
   ]
  },
  {
   "cell_type": "code",
   "execution_count": 160,
   "metadata": {},
   "outputs": [
    {
     "name": "stdout",
     "output_type": "stream",
     "text": [
      "1.0\n"
     ]
    }
   ],
   "source": [
    "print(pipe_est_cv.score(X_test, y_test))"
   ]
  },
  {
   "cell_type": "markdown",
   "metadata": {},
   "source": [
    "Possible values for **palette** are: Accent, Accent_r, Blues, Blues_r, BrBG, BrBG_r, BuGn, BuGn_r, BuPu, BuPu_r, \n",
    "    CMRmap, CMRmap_r, Dark2, Dark2_r, GnBu, GnBu_r, Greens, Greens_r, Greys, Greys_r, OrRd, OrRd_r, \n",
    "    Oranges, Oranges_r, PRGn, PRGn_r, Paired, Paired_r, Pastel1, Pastel1_r, Pastel2, Pastel2_r, PiYG,\n",
    "    PiYG_r, PuBu, PuBuGn, PuBuGn_r, PuBu_r, PuOr, PuOr_r, PuRd, PuRd_r, Purples, Purples_r, RdBu, \n",
    "    RdBu_r, RdGy, RdGy_r, RdPu, RdPu_r, RdYlBu, RdYlBu_r, RdYlGn, RdYlGn_r, Reds, Reds_r, Set1, Set1_r, \n",
    "    Set2, Set2_r, Set3, Set3_r, Spectral, Spectral_r, Wistia, Wistia_r, YlGn, YlGnBu, YlGnBu_r, YlGn_r, \n",
    "    YlOrBr, YlOrBr_r, YlOrRd, YlOrRd_r, afmhot, afmhot_r, autumn, autumn_r, binary, binary_r, bone, \n",
    "    bone_r, brg, brg_r, bwr, bwr_r, cividis, cividis_r, cool, cool_r, coolwarm, coolwarm_r, copper, \n",
    "    copper_r, cubehelix, cubehelix_r, flag, flag_r, gist_earth, gist_earth_r, gist_gray, gist_gray_r, \n",
    "    gist_heat, gist_heat_r, gist_ncar, gist_ncar_r, gist_rainbow, gist_rainbow_r, gist_stern, gist_stern_r, \n",
    "    gist_yarg, gist_yarg_r, gnuplot, gnuplot2, gnuplot2_r, gnuplot_r, gray, gray_r, hot, hot_r, hsv, \n",
    "    hsv_r, icefire, icefire_r, inferno, inferno_r, jet, jet_r, magma, magma_r, mako, mako_r, \n",
    "    nipy_spectral, nipy_spectral_r, ocean, ocean_r, pink, pink_r, plasma, plasma_r, prism, prism_r, \n",
    "    rainbow, rainbow_r, rocket, rocket_r, seismic, seismic_r, spring, spring_r, summer, summer_r, \n",
    "    tab10, tab10_r, tab20, tab20_r, tab20b, tab20b_r, tab20c, tab20c_r, terrain, terrain_r, viridis, \n",
    "    viridis_r, vlag, vlag_r, winter, winter_r"
   ]
  },
  {
   "cell_type": "code",
   "execution_count": 4,
   "metadata": {},
   "outputs": [
    {
     "data": {
      "text/plain": [
       "[Text(0.5,1,'Distribution of build year with Bad Dates')]"
      ]
     },
     "execution_count": 4,
     "metadata": {},
     "output_type": "execute_result"
    },
    {
     "data": {
      "image/png": "[encoded data removed]",
      "text/plain": [
       "<Figure size 1152x576 with 1 Axes>"
      ]
     },
     "metadata": {
      "needs_background": "light"
     },
     "output_type": "display_data"
    }
   ],
   "source": [
    "f, ax = plt.subplots(figsize=(16, 8))\n",
    "plt.xticks(rotation='90')\n",
    "by_df = df_eda.sort_values(by=['build_year'])\n",
    "sns.countplot(x=by_df['build_year'],palette=\"viridis_r\")\n",
    "ax.set(title='Distribution of build year with Bad Dates')"
   ]
  },
  {
   "cell_type": "code",
   "execution_count": 108,
   "metadata": {},
   "outputs": [],
   "source": [
    "#l = list(set(df_eda.loc[not_ind].sort_values(by=['build_year'])['build_year']))\n",
    "l = list(set(df_eda.loc[not_ind].sort_values(by=['build_year'])['build_year']))\n",
    "v=0\n",
    "al = []\n",
    "a2 = []\n",
    "for a in range(5,len(l),5):\n",
    "    #print(a)\n",
    "    al.append(l[v:a])\n",
    "    a2.append(l[v:a])\n",
    "    v=a\n",
    "al.append(l[-5:])\n",
    "a2.append(l[-5:])\n",
    "al.append([9999.0])"
   ]
  },
  {
   "cell_type": "code",
   "execution_count": 109,
   "metadata": {},
   "outputs": [
    {
     "data": {
      "text/plain": [
       "[[1860.0, 1876.0, 1886.0, 1890.0, 1895.0],\n",
       " [1896.0, 1900.0, 1904.0, 1905.0, 1906.0],\n",
       " [1907.0, 1910.0, 1911.0, 1912.0, 1914.0],\n",
       " [1915.0, 1917.0, 1920.0, 1924.0, 1925.0],\n",
       " [1926.0, 1927.0, 1928.0, 1929.0, 1930.0],\n",
       " [1931.0, 1932.0, 1933.0, 1934.0, 1935.0],\n",
       " [1936.0, 1937.0, 1938.0, 1939.0, 1940.0],\n",
       " [1941.0, 1943.0, 1946.0, 1947.0, 1948.0],\n",
       " [1949.0, 1950.0, 1951.0, 1952.0, 1953.0],\n",
       " [1954.0, 1955.0, 1956.0, 1957.0, 1958.0],\n",
       " [1959.0, 1960.0, 1961.0, 1962.0, 1963.0],\n",
       " [1964.0, 1965.0, 1966.0, 1967.0, 1968.0],\n",
       " [1969.0, 1970.0, 1971.0, 1972.0, 1973.0],\n",
       " [1974.0, 1975.0, 1976.0, 1977.0, 1978.0],\n",
       " [1979.0, 1980.0, 1981.0, 1982.0, 1983.0],\n",
       " [1984.0, 1985.0, 1986.0, 1987.0, 1988.0],\n",
       " [1989.0, 1990.0, 1991.0, 1992.0, 1993.0],\n",
       " [1994.0, 1995.0, 1996.0, 1997.0, 1998.0],\n",
       " [1999.0, 2000.0, 2001.0, 2002.0, 2003.0],\n",
       " [2004.0, 2005.0, 2006.0, 2007.0, 2008.0],\n",
       " [2009.0, 2010.0, 2011.0, 2012.0, 2013.0],\n",
       " [2014.0, 2015.0, 2016.0, 2017.0, 2018.0]]"
      ]
     },
     "execution_count": 109,
     "metadata": {},
     "output_type": "execute_result"
    }
   ],
   "source": [
    "a2"
   ]
  },
  {
   "cell_type": "code",
   "execution_count": 129,
   "metadata": {},
   "outputs": [
    {
     "data": {
      "text/plain": [
       "(15960,)"
      ]
     },
     "execution_count": 129,
     "metadata": {},
     "output_type": "execute_result"
    }
   ],
   "source": [
    "n=0\n",
    "tl = []\n",
    "for yr in df_eda['build_year'].values:\n",
    "    for a in al:\n",
    "        if yr in a:\n",
    "            tl.append(sum(a))\n",
    "\n",
    "n=0\n",
    "t2 = []\n",
    "for yr in df_eda['build_year'].values:\n",
    "    for a in a2:\n",
    "        if yr in a:\n",
    "            t2.append(sum(a))\n",
    "\n",
    "\n",
    "ser = pd.Series(sorted(tl)).astype('category').cat.codes\n",
    "ser[ser == 18] = 99\n",
    "ser[ser == 19] = 18\n",
    "ser[ser == 20] = 19\n",
    "ser[ser == 21] = 20\n",
    "ser[ser == 22] = 21\n",
    "ser[ser == 99] = 22\n",
    "ser2 = pd.Series(sorted(t2)).astype('category').cat.codes\n",
    "ser2.shape"
   ]
  },
  {
   "cell_type": "code",
   "execution_count": 130,
   "metadata": {},
   "outputs": [
    {
     "data": {
      "text/plain": [
       "25101    18\n",
       "25102    18\n",
       "25103    18\n",
       "25104    18\n",
       "25105    18\n",
       "25106    18\n",
       "25107    18\n",
       "25108    18\n",
       "25109    18\n",
       "25110    18\n",
       "25111    18\n",
       "25112    18\n",
       "25113    18\n",
       "25114    18\n",
       "25115    18\n",
       "25116    18\n",
       "25117    18\n",
       "25118    18\n",
       "25119    18\n",
       "25120    18\n",
       "25121    18\n",
       "25122    18\n",
       "25123    18\n",
       "25124    18\n",
       "25125    18\n",
       "25126    18\n",
       "25127    18\n",
       "25128    18\n",
       "25129    18\n",
       "25130    18\n",
       "         ..\n",
       "25910    18\n",
       "25911    18\n",
       "25912    18\n",
       "25913    18\n",
       "25914    18\n",
       "25915    18\n",
       "25916    18\n",
       "25917    18\n",
       "25918    18\n",
       "25919    18\n",
       "25920    18\n",
       "25921    18\n",
       "25922    18\n",
       "25923    18\n",
       "25924    18\n",
       "25925    18\n",
       "25926    18\n",
       "25927    18\n",
       "25928    18\n",
       "25929    18\n",
       "25930    18\n",
       "25931    18\n",
       "25932    18\n",
       "25933    18\n",
       "25934    18\n",
       "25935    18\n",
       "25936    18\n",
       "25937    18\n",
       "25938    18\n",
       "25939    18\n",
       "Length: 839, dtype: int8"
      ]
     },
     "execution_count": 130,
     "metadata": {},
     "output_type": "execute_result"
    }
   ],
   "source": [
    "ser[ser == 18]"
   ]
  },
  {
   "cell_type": "code",
   "execution_count": 131,
   "metadata": {},
   "outputs": [
    {
     "data": {
      "text/plain": [
       "['1860_to_1895',\n",
       " '1896_to_1906',\n",
       " '1907_to_1914',\n",
       " '1915_to_1925',\n",
       " '1926_to_1930',\n",
       " '1931_to_1935',\n",
       " '1936_to_1940',\n",
       " '1941_to_1948',\n",
       " '1949_to_1953',\n",
       " '1954_to_1958',\n",
       " '1959_to_1963',\n",
       " '1964_to_1968',\n",
       " '1969_to_1973',\n",
       " '1974_to_1978',\n",
       " '1979_to_1983',\n",
       " '1984_to_1988',\n",
       " '1989_to_1993',\n",
       " '1994_to_1998',\n",
       " '1999_to_2003',\n",
       " '2004_to_2008',\n",
       " '2009_to_2013',\n",
       " '2014_to_2018']"
      ]
     },
     "execution_count": 131,
     "metadata": {},
     "output_type": "execute_result"
    }
   ],
   "source": [
    "desc_list = []\n",
    "n=0\n",
    "for a in al[:-1]:\n",
    "    desc_list.append(str(int(a[0]))+'_to_'+str(int(a[-1])))\n",
    "desc_list.append(\"bad_years\")\n",
    "desc_list\n",
    "\n",
    "desc_list2 = []\n",
    "for a in a2:\n",
    "    desc_list2.append(str(int(a[0]))+'_to_'+str(int(a[-1])))\n",
    "desc_list2"
   ]
  },
  {
   "cell_type": "code",
   "execution_count": null,
   "metadata": {},
   "outputs": [],
   "source": []
  },
  {
   "cell_type": "code",
   "execution_count": 132,
   "metadata": {},
   "outputs": [
    {
     "data": {
      "text/plain": [
       "[Text(0.5,1,'Build year counts with Bad Years and NULLs')]"
      ]
     },
     "execution_count": 132,
     "metadata": {},
     "output_type": "execute_result"
    },
    {
     "data": {
      "image/png": "[encoded data removed]",
      "text/plain": [
       "<Figure size 1008x576 with 1 Axes>"
      ]
     },
     "metadata": {
      "needs_background": "light"
     },
     "output_type": "display_data"
    }
   ],
   "source": [
    "f, ax = plt.subplots(figsize=(14, 8))\n",
    "plt.xticks(rotation='90')\n",
    "sns.countplot(x=ser,palette=\"viridis_r\")\n",
    "ax.set_xticklabels(desc_list)\n",
    "ax.set(title='Build year counts with Bad Years and NULLs')\n"
   ]
  },
  {
   "cell_type": "code",
   "execution_count": 119,
   "metadata": {},
   "outputs": [
    {
     "data": {
      "text/plain": [
       "[Text(0.5,1,'Build year counts without Bad Years and NULLs')]"
      ]
     },
     "execution_count": 119,
     "metadata": {},
     "output_type": "execute_result"
    },
    {
     "data": {
      "image/png": "[encoded data removed]",
      "text/plain": [
       "<Figure size 1008x576 with 1 Axes>"
      ]
     },
     "metadata": {
      "needs_background": "light"
     },
     "output_type": "display_data"
    }
   ],
   "source": [
    "f, ax = plt.subplots(figsize=(14, 8))\n",
    "plt.xticks(rotation='90')\n",
    "sns.countplot(x=ser2,palette=\"viridis_r\")\n",
    "ax.set_xticklabels(desc_list2)\n",
    "ax.set(title='Build year counts without Bad Years and NULLs')\n"
   ]
  },
  {
   "cell_type": "code",
   "execution_count": 5,
   "metadata": {},
   "outputs": [
    {
     "name": "stdout",
     "output_type": "stream",
     "text": [
      "15960\n"
     ]
    },
    {
     "data": {
      "text/plain": [
       "[Text(0.5,1,'Distribution of build years without Bad Dates')]"
      ]
     },
     "execution_count": 5,
     "metadata": {},
     "output_type": "execute_result"
    },
    {
     "data": {
      "image/png": "[encoded data removed]",
      "text/plain": [
       "<Figure size 1152x576 with 1 Axes>"
      ]
     },
     "metadata": {
      "needs_background": "light"
     },
     "output_type": "display_data"
    }
   ],
   "source": [
    "f, ax = plt.subplots(figsize=(16, 8))\n",
    "plt.xticks(rotation='90')\n",
    "not_ind = df_eda[(df_eda['build_year'] != null_yr)].index\n",
    "print(len(not_ind))\n",
    "by_df = df_eda.loc[not_ind].sort_values(by=['build_year'])\n",
    "sns.countplot(x=by_df['build_year'],palette=\"winter_r\")\n",
    "ax.set(title='Distribution of build years without Bad Dates')"
   ]
  },
  {
   "cell_type": "code",
   "execution_count": 19,
   "metadata": {},
   "outputs": [
    {
     "name": "stdout",
     "output_type": "stream",
     "text": [
      "15777\n"
     ]
    },
    {
     "data": {
      "text/plain": [
       "[Text(0.5,1,'Distribution of build years 1940 to Present')]"
      ]
     },
     "execution_count": 19,
     "metadata": {},
     "output_type": "execute_result"
    },
    {
     "data": {
      "image/png": "[encoded data removed]",
      "text/plain": [
       "<Figure size 1152x576 with 1 Axes>"
      ]
     },
     "metadata": {
      "needs_background": "light"
     },
     "output_type": "display_data"
    }
   ],
   "source": [
    "f, ax = plt.subplots(figsize=(16, 8))\n",
    "plt.xticks(rotation='90')\n",
    "not_ind = df_eda[((df_eda['build_year'] != null_yr)) & (df_eda['build_year'] >= 1940.0)].index\n",
    "print(len(not_ind))\n",
    "by_df = df_eda.loc[not_ind].sort_values(by=['build_year'])\n",
    "sns.countplot(x=by_df['build_year'],palette=\"rocket_r\")\n",
    "ax.set(title='Distribution of build years 1940 to Present')"
   ]
  },
  {
   "cell_type": "code",
   "execution_count": 17,
   "metadata": {},
   "outputs": [
    {
     "name": "stdout",
     "output_type": "stream",
     "text": [
      "183\n"
     ]
    },
    {
     "data": {
      "text/plain": [
       "[Text(0.5,1,'Distribution of build years before 1940')]"
      ]
     },
     "execution_count": 17,
     "metadata": {},
     "output_type": "execute_result"
    },
    {
     "data": {
      "image/png": "[encoded data removed]",
      "text/plain": [
       "<Figure size 1152x576 with 1 Axes>"
      ]
     },
     "metadata": {
      "needs_background": "light"
     },
     "output_type": "display_data"
    }
   ],
   "source": [
    "f, ax = plt.subplots(figsize=(16, 8))\n",
    "plt.xticks(rotation='90')\n",
    "not_ind = df_eda[(df_eda['build_year'] < 1940.0)].index\n",
    "print(len(not_ind))\n",
    "by_df = df_eda.loc[not_ind].sort_values(by=['build_year'])\n",
    "sns.countplot(x=by_df['build_year'],palette=\"inferno_r\")\n",
    "ax.set(title='Distribution of build years before 1940')"
   ]
  },
  {
   "cell_type": "code",
   "execution_count": 128,
   "metadata": {},
   "outputs": [],
   "source": [
    "df_eda['build_year'].value_counts()\n",
    "pass"
   ]
  },
  {
   "cell_type": "code",
   "execution_count": 51,
   "metadata": {},
   "outputs": [],
   "source": [
    "dt.datetime.now().year\n",
    "for k in bad_yr.keys():\n",
    "    df_eda[df_eda['build_year'] == k] = null_yr"
   ]
  },
  {
   "cell_type": "code",
   "execution_count": 6,
   "metadata": {},
   "outputs": [
    {
     "name": "stdout",
     "output_type": "stream",
     "text": [
      "9999.0\n",
      "1860.0\n"
     ]
    }
   ],
   "source": [
    "print(df_eda['build_year'].max())\n",
    "print(df_eda['build_year'].min())\n",
    "df_eda['build_year'].value_counts()\n",
    "pass"
   ]
  },
  {
   "cell_type": "code",
   "execution_count": 21,
   "metadata": {},
   "outputs": [
    {
     "name": "stdout",
     "output_type": "stream",
     "text": [
      "27744\n"
     ]
    },
    {
     "data": {
      "text/plain": [
       "[Text(0.5,1,'Distribution of full square meters 0 to 79 units')]"
      ]
     },
     "execution_count": 21,
     "metadata": {},
     "output_type": "execute_result"
    },
    {
     "data": {
      "image/png": "[encoded data removed]",
      "text/plain": [
       "<Figure size 1152x576 with 1 Axes>"
      ]
     },
     "metadata": {
      "needs_background": "light"
     },
     "output_type": "display_data"
    }
   ],
   "source": [
    "#df_eda['full_sq'].value_counts()\n",
    "f, ax = plt.subplots(figsize=(16, 8))\n",
    "plt.xticks(rotation='90')\n",
    "ind = df_eda[df_eda['full_sq'] < 80 ].index\n",
    "print(len(ind))\n",
    "by_df = df_eda.loc[ind].sort_values(by=['full_sq'])\n",
    "sns.countplot(x=by_df['full_sq'],palette=\"inferno_r\")\n",
    "ax.set(title='Distribution of full square meters 0 to 79 units')"
   ]
  },
  {
   "cell_type": "code",
   "execution_count": 22,
   "metadata": {},
   "outputs": [
    {
     "name": "stdout",
     "output_type": "stream",
     "text": [
      "2727\n"
     ]
    },
    {
     "data": {
      "text/plain": [
       "[Text(0.5,1,'Distribution of full square meters greater than 79 units')]"
      ]
     },
     "execution_count": 22,
     "metadata": {},
     "output_type": "execute_result"
    },
    {
     "data": {
      "image/png": "[encoded data removed]",
      "text/plain": [
       "<Figure size 1152x576 with 1 Axes>"
      ]
     },
     "metadata": {
      "needs_background": "light"
     },
     "output_type": "display_data"
    }
   ],
   "source": [
    "#df_eda['full_sq'].value_counts()\n",
    "f, ax = plt.subplots(figsize=(16, 8))\n",
    "plt.xticks(rotation='90')\n",
    "ind = df_eda[df_eda['full_sq'] > 79 ].index\n",
    "print(len(ind))\n",
    "by_df = df_eda.loc[ind].sort_values(by=['full_sq'])\n",
    "sns.countplot(x=by_df['full_sq'],palette=\"inferno\")\n",
    "ax.set(title='Distribution of full square meters greater than 79 units')"
   ]
  },
  {
   "cell_type": "code",
   "execution_count": 14,
   "metadata": {},
   "outputs": [
    {
     "name": "stdout",
     "output_type": "stream",
     "text": [
      "5326\n",
      "0\n",
      "54.21426930524105\n"
     ]
    }
   ],
   "source": [
    "print(df_eda['full_sq'].max())\n",
    "print(df_eda['full_sq'].min())\n",
    "print(df_eda['full_sq'].mean())"
   ]
  },
  {
   "cell_type": "code",
   "execution_count": 24,
   "metadata": {},
   "outputs": [
    {
     "name": "stdout",
     "output_type": "stream",
     "text": [
      "0\n",
      "6383\n",
      "9572\n"
     ]
    }
   ],
   "source": [
    "print(sum(df_eda['full_sq'].isnull()))\n",
    "print(sum(df_eda['life_sq'].isnull()))\n",
    "print(sum(df_eda['kitch_sq'].isnull()))"
   ]
  },
  {
   "cell_type": "code",
   "execution_count": 26,
   "metadata": {},
   "outputs": [
    {
     "data": {
      "text/plain": [
       "NaN       6383\n",
       " 19.0     2138\n",
       " 30.0     1565\n",
       " 18.0     1544\n",
       " 20.0     1208\n",
       " 28.0     1067\n",
       " 29.0      804\n",
       " 32.0      701\n",
       " 27.0      700\n",
       " 17.0      699\n",
       " 44.0      695\n",
       " 43.0      626\n",
       " 45.0      626\n",
       " 38.0      534\n",
       " 31.0      520\n",
       " 21.0      518\n",
       " 34.0      503\n",
       " 33.0      461\n",
       " 37.0      402\n",
       " 1.0       390\n",
       " 46.0      386\n",
       " 22.0      379\n",
       " 26.0      373\n",
       " 40.0      367\n",
       " 42.0      346\n",
       " 23.0      317\n",
       " 41.0      293\n",
       " 16.0      282\n",
       " 39.0      280\n",
       " 36.0      263\n",
       "          ... \n",
       " 189.0       1\n",
       " 802.0       1\n",
       " 637.0       1\n",
       " 166.0       1\n",
       " 325.0       1\n",
       " 162.0       1\n",
       " 163.0       1\n",
       " 7.0         1\n",
       " 349.0       1\n",
       " 232.0       1\n",
       " 191.0       1\n",
       " 109.0       1\n",
       " 130.0       1\n",
       " 176.0       1\n",
       " 259.0       1\n",
       " 179.0       1\n",
       " 111.0       1\n",
       " 174.0       1\n",
       " 136.0       1\n",
       " 172.0       1\n",
       " 458.0       1\n",
       " 150.0       1\n",
       " 301.0       1\n",
       " 426.0       1\n",
       " 143.0       1\n",
       " 145.0       1\n",
       " 435.0       1\n",
       " 157.0       1\n",
       " 195.0       1\n",
       " 147.0       1\n",
       "Name: life_sq, Length: 176, dtype: int64"
      ]
     },
     "execution_count": 26,
     "metadata": {},
     "output_type": "execute_result"
    }
   ],
   "source": [
    "df_eda['life_sq'].value_counts(dropna=False)"
   ]
  },
  {
   "cell_type": "markdown",
   "metadata": {},
   "source": [
    "**IMPORTANT NOTES ABOUT FEATURES**\n",
    "\n",
    "THESE ARE SOME OF THE SUMMARY NOTES GAINED FROM KAGGLE DISCUSSIONS, QUESTIONS AND ANSWERS FROM SBERBANK\n",
    "\n",
    "- CHECK LIFE SQ, FULL SQ, KITCH SQ FOR CONSISTENCY (DONE)\n",
    "\n",
    "- BUILD YEAR CAN BE IN FUTURE - PRE INVESTMENT TYPE (DONE)\n",
    "\n",
    "- BUILD YEAR 0 AND 1 ARE MISTAKES (DONE)\n",
    "\n",
    "- CHECK TRAIN AND TEST PRODUCT TYPES (DONE)\n",
    "\n",
    "- CHECK NUM OF ROOMS FOR CONSISTENCY (DONE)\n",
    "\n",
    "- MATERIAL EXPLAINED: 1 - panel, 2 - brick, 3 - wood, 4 - mass concrete, 5 - breezeblock, 6 - mass concrete plus brick\n",
    "\n",
    "- STATE EXPLAINED: 4 BEST 1 WORST\n",
    "\n",
    "- KITCHEN INCLUDED IN LIFE SQ CHECK INCONSISTENCY (DONE)\n",
    "\n",
    "- FULL SQ > LIFE SQ (MOST PROBABLY) (DONE)\n",
    "\n",
    "- KM DISTANCES ARE AIRLINE DISTANCES\n",
    "\n",
    "- RAION POPUL AND FULL ALL ARE SAME CALC FROM DIFF SOURCES"
   ]
  },
  {
   "cell_type": "markdown",
   "metadata": {},
   "source": [
    "**website:**    https://www.kaggle.com/c/sberbank-russian-housing-market/discussion/35755\n",
    "\n",
    "https://www.kaggle.com/captcalculator/a-very-extensive-sberbank-exploratory-analysis\n",
    "\n",
    "https://www.kaggle.com/agzamovr/a-very-extensive-exploratory-analysis-in-python\n",
    "\n",
    "https://www.kaggle.com/keremt/very-extensive-cleaning-by-sberbank-discussions\n",
    "\n",
    "\n",
    "**Feature Engineering**\n",
    "\n",
    "Yes, just one feature and you might get 0.03-0.045 jump in your score.\n",
    "\n",
    "**areadiff = fullsq - kitch_sq, this feature.**\n",
    "\n",
    "\n",
    "\n",
    "I don't know how many of you found out about this feature, because all the public kernels didn't mention this feature and even still the top participants haven't talked about this. \n",
    "\n",
    "In all the public kernels, i saw that:\n",
    "1.  fullsq was divided either by lifesq or by kitchsq, but no one seemed to be interested in \n",
    "2. taking the difference between fullsq and lifesq, which would not only tell us the true lifesq but also it greatly characterises the missing or false fullsq values by giving it negative sign, if fullsq is less than kitchsq. \n",
    "3. This feature brought me from 32.00 to 31.603 on Pub.LB and gave me 31.710 on Pvt.LB. This feature had the second highest correlation(even greater than fullsq) after num_room(i think!) with the target variable. You can make this feature in your kernel and verify everything what i said."
   ]
  },
  {
   "cell_type": "code",
   "execution_count": 27,
   "metadata": {},
   "outputs": [
    {
     "data": {
      "text/plain": [
       "0    30238\n",
       "1      233\n",
       "Name: target, dtype: int64"
      ]
     },
     "execution_count": 27,
     "metadata": {},
     "output_type": "execute_result"
    }
   ],
   "source": [
    "df_eda['target'] = pd.Series([0 if t != 0 else 1 for t in df_eda['price_cat'] ])\n",
    "df_eda['target'].value_counts()"
   ]
  },
  {
   "cell_type": "code",
   "execution_count": 36,
   "metadata": {},
   "outputs": [
    {
     "data": {
      "text/plain": [
       "0    16721\n",
       "1    13750\n",
       "Name: target_1, dtype: int64"
      ]
     },
     "execution_count": 36,
     "metadata": {},
     "output_type": "execute_result"
    }
   ],
   "source": [
    "df_eda['target_1'] = pd.Series([0 if t != 1 else 1 for t in df_eda['price_cat'] ])\n",
    "df_eda['target_1'].value_counts()"
   ]
  },
  {
   "cell_type": "code",
   "execution_count": 40,
   "metadata": {},
   "outputs": [
    {
     "data": {
      "text/plain": [
       "0    18793\n",
       "1    11678\n",
       "Name: target_2, dtype: int64"
      ]
     },
     "execution_count": 40,
     "metadata": {},
     "output_type": "execute_result"
    }
   ],
   "source": [
    "df_eda['target_2'] = pd.Series([0 if t != 2 else 1 for t in df_eda['price_cat'] ])\n",
    "df_eda['target_2'].value_counts()"
   ]
  },
  {
   "cell_type": "code",
   "execution_count": 4,
   "metadata": {},
   "outputs": [
    {
     "data": {
      "text/plain": [
       "0    25661\n",
       "1     4810\n",
       "Name: target_3, dtype: int64"
      ]
     },
     "execution_count": 4,
     "metadata": {},
     "output_type": "execute_result"
    }
   ],
   "source": [
    "df_eda['target_3'] = pd.Series([0 if t != 3 else 1 for t in df_eda['price_cat'] ])\n",
    "df_eda['target_3'].value_counts()"
   ]
  },
  {
   "cell_type": "code",
   "execution_count": 9,
   "metadata": {},
   "outputs": [
    {
     "name": "stdout",
     "output_type": "stream",
     "text": [
      "0    18793\n",
      "1    11678\n",
      "Name: target_2, dtype: int64\n",
      "0\n",
      "1\n"
     ]
    },
    {
     "data": {
      "text/plain": [
       "{0: 0.6167503527944603, 1: 0.38324964720553967}"
      ]
     },
     "execution_count": 9,
     "metadata": {},
     "output_type": "execute_result"
    }
   ],
   "source": [
    "av = df_eda['target_2'].value_counts()\n",
    "weights = dict()\n",
    "print(av)\n",
    "for a in av.index:\n",
    "    print(a)\n",
    "    weights.update({a: av.loc[a]/sum(av)})\n",
    "weights"
   ]
  },
  {
   "cell_type": "code",
   "execution_count": 28,
   "metadata": {},
   "outputs": [
    {
     "data": {
      "text/plain": [
       "0    16.0\n",
       "1    15.0\n",
       "2    14.0\n",
       "3    39.0\n",
       "4     0.0\n",
       "Name: areadiff, dtype: float64"
      ]
     },
     "execution_count": 28,
     "metadata": {},
     "output_type": "execute_result"
    }
   ],
   "source": [
    "df_eda['areadiff'] = df_eda['full_sq'] - df_eda['life_sq']\n",
    "df_eda['areadiff'].head()"
   ]
  },
  {
   "cell_type": "code",
   "execution_count": 29,
   "metadata": {},
   "outputs": [
    {
     "name": "stdout",
     "output_type": "stream",
     "text": [
      "error: product_type\n",
      "error: sub_area\n",
      "error: culture_objects_top_25\n",
      "error: thermal_power_plant_raion\n",
      "error: incineration_raion\n",
      "error: oil_chemistry_raion\n",
      "error: radiation_raion\n",
      "error: railroad_terminal_raion\n",
      "error: big_market_raion\n",
      "error: nuclear_reactor_raion\n",
      "error: detention_facility_raion\n",
      "error: water_1line\n",
      "error: big_road1_1line\n",
      "error: railroad_1line\n",
      "error: ecology\n",
      "error: child_on_acc_pre_school\n",
      "error: modern_education_share\n",
      "error: old_education_build_share\n",
      "18\n",
      "372\n",
      "565\n"
     ]
    },
    {
     "data": {
      "text/html": [
       "<div>\n",
       "<style scoped>\n",
       "    .dataframe tbody tr th:only-of-type {\n",
       "        vertical-align: middle;\n",
       "    }\n",
       "\n",
       "    .dataframe tbody tr th {\n",
       "        vertical-align: top;\n",
       "    }\n",
       "\n",
       "    .dataframe thead th {\n",
       "        text-align: right;\n",
       "    }\n",
       "</style>\n",
       "<table border=\"1\" class=\"dataframe\">\n",
       "  <thead>\n",
       "    <tr style=\"text-align: right;\">\n",
       "      <th></th>\n",
       "      <th>full_sq</th>\n",
       "      <th>life_sq</th>\n",
       "      <th>floor</th>\n",
       "      <th>max_floor</th>\n",
       "      <th>material</th>\n",
       "      <th>build_year</th>\n",
       "      <th>num_room</th>\n",
       "      <th>kitch_sq</th>\n",
       "      <th>state</th>\n",
       "      <th>area_m</th>\n",
       "      <th>...</th>\n",
       "      <th>child_on_acc_pre_school_7,311</th>\n",
       "      <th>child_on_acc_pre_school_NUL</th>\n",
       "      <th>modern_education_share_90,92</th>\n",
       "      <th>modern_education_share_93,08</th>\n",
       "      <th>modern_education_share_95,4918</th>\n",
       "      <th>modern_education_share_NUL</th>\n",
       "      <th>old_education_build_share_23,14</th>\n",
       "      <th>old_education_build_share_25,47</th>\n",
       "      <th>old_education_build_share_8,2517</th>\n",
       "      <th>old_education_build_share_NUL</th>\n",
       "    </tr>\n",
       "  </thead>\n",
       "  <tbody>\n",
       "    <tr>\n",
       "      <th>0</th>\n",
       "      <td>43</td>\n",
       "      <td>27.0</td>\n",
       "      <td>4.0</td>\n",
       "      <td>12.0</td>\n",
       "      <td>1.0</td>\n",
       "      <td>9999.0</td>\n",
       "      <td>2.0</td>\n",
       "      <td>6.0</td>\n",
       "      <td>2.0</td>\n",
       "      <td>6.407578e+06</td>\n",
       "      <td>...</td>\n",
       "      <td>0</td>\n",
       "      <td>0</td>\n",
       "      <td>0</td>\n",
       "      <td>0</td>\n",
       "      <td>0</td>\n",
       "      <td>1</td>\n",
       "      <td>0</td>\n",
       "      <td>0</td>\n",
       "      <td>0</td>\n",
       "      <td>1</td>\n",
       "    </tr>\n",
       "    <tr>\n",
       "      <th>1</th>\n",
       "      <td>34</td>\n",
       "      <td>19.0</td>\n",
       "      <td>3.0</td>\n",
       "      <td>12.0</td>\n",
       "      <td>1.0</td>\n",
       "      <td>9999.0</td>\n",
       "      <td>2.0</td>\n",
       "      <td>6.0</td>\n",
       "      <td>2.0</td>\n",
       "      <td>9.589337e+06</td>\n",
       "      <td>...</td>\n",
       "      <td>0</td>\n",
       "      <td>0</td>\n",
       "      <td>0</td>\n",
       "      <td>0</td>\n",
       "      <td>0</td>\n",
       "      <td>1</td>\n",
       "      <td>0</td>\n",
       "      <td>0</td>\n",
       "      <td>0</td>\n",
       "      <td>1</td>\n",
       "    </tr>\n",
       "    <tr>\n",
       "      <th>2</th>\n",
       "      <td>43</td>\n",
       "      <td>29.0</td>\n",
       "      <td>2.0</td>\n",
       "      <td>12.0</td>\n",
       "      <td>1.0</td>\n",
       "      <td>9999.0</td>\n",
       "      <td>2.0</td>\n",
       "      <td>6.0</td>\n",
       "      <td>2.0</td>\n",
       "      <td>4.808270e+06</td>\n",
       "      <td>...</td>\n",
       "      <td>0</td>\n",
       "      <td>0</td>\n",
       "      <td>0</td>\n",
       "      <td>0</td>\n",
       "      <td>0</td>\n",
       "      <td>1</td>\n",
       "      <td>0</td>\n",
       "      <td>0</td>\n",
       "      <td>0</td>\n",
       "      <td>1</td>\n",
       "    </tr>\n",
       "    <tr>\n",
       "      <th>3</th>\n",
       "      <td>89</td>\n",
       "      <td>50.0</td>\n",
       "      <td>9.0</td>\n",
       "      <td>12.0</td>\n",
       "      <td>1.0</td>\n",
       "      <td>9999.0</td>\n",
       "      <td>2.0</td>\n",
       "      <td>6.0</td>\n",
       "      <td>2.0</td>\n",
       "      <td>1.258354e+07</td>\n",
       "      <td>...</td>\n",
       "      <td>0</td>\n",
       "      <td>0</td>\n",
       "      <td>0</td>\n",
       "      <td>0</td>\n",
       "      <td>0</td>\n",
       "      <td>1</td>\n",
       "      <td>0</td>\n",
       "      <td>0</td>\n",
       "      <td>0</td>\n",
       "      <td>1</td>\n",
       "    </tr>\n",
       "    <tr>\n",
       "      <th>4</th>\n",
       "      <td>77</td>\n",
       "      <td>77.0</td>\n",
       "      <td>4.0</td>\n",
       "      <td>12.0</td>\n",
       "      <td>1.0</td>\n",
       "      <td>9999.0</td>\n",
       "      <td>2.0</td>\n",
       "      <td>6.0</td>\n",
       "      <td>2.0</td>\n",
       "      <td>8.398461e+06</td>\n",
       "      <td>...</td>\n",
       "      <td>0</td>\n",
       "      <td>0</td>\n",
       "      <td>0</td>\n",
       "      <td>0</td>\n",
       "      <td>0</td>\n",
       "      <td>1</td>\n",
       "      <td>0</td>\n",
       "      <td>0</td>\n",
       "      <td>0</td>\n",
       "      <td>1</td>\n",
       "    </tr>\n",
       "  </tbody>\n",
       "</table>\n",
       "<p>5 rows × 565 columns</p>\n",
       "</div>"
      ],
      "text/plain": [
       "   full_sq  life_sq  floor  max_floor  material  build_year  num_room  \\\n",
       "0       43     27.0    4.0       12.0       1.0      9999.0       2.0   \n",
       "1       34     19.0    3.0       12.0       1.0      9999.0       2.0   \n",
       "2       43     29.0    2.0       12.0       1.0      9999.0       2.0   \n",
       "3       89     50.0    9.0       12.0       1.0      9999.0       2.0   \n",
       "4       77     77.0    4.0       12.0       1.0      9999.0       2.0   \n",
       "\n",
       "   kitch_sq  state        area_m              ...                \\\n",
       "0       6.0    2.0  6.407578e+06              ...                 \n",
       "1       6.0    2.0  9.589337e+06              ...                 \n",
       "2       6.0    2.0  4.808270e+06              ...                 \n",
       "3       6.0    2.0  1.258354e+07              ...                 \n",
       "4       6.0    2.0  8.398461e+06              ...                 \n",
       "\n",
       "   child_on_acc_pre_school_7,311  child_on_acc_pre_school_NUL  \\\n",
       "0                              0                            0   \n",
       "1                              0                            0   \n",
       "2                              0                            0   \n",
       "3                              0                            0   \n",
       "4                              0                            0   \n",
       "\n",
       "   modern_education_share_90,92  modern_education_share_93,08  \\\n",
       "0                             0                             0   \n",
       "1                             0                             0   \n",
       "2                             0                             0   \n",
       "3                             0                             0   \n",
       "4                             0                             0   \n",
       "\n",
       "   modern_education_share_95,4918  modern_education_share_NUL  \\\n",
       "0                               0                           1   \n",
       "1                               0                           1   \n",
       "2                               0                           1   \n",
       "3                               0                           1   \n",
       "4                               0                           1   \n",
       "\n",
       "   old_education_build_share_23,14  old_education_build_share_25,47  \\\n",
       "0                                0                                0   \n",
       "1                                0                                0   \n",
       "2                                0                                0   \n",
       "3                                0                                0   \n",
       "4                                0                                0   \n",
       "\n",
       "   old_education_build_share_8,2517  old_education_build_share_NUL  \n",
       "0                                 0                              1  \n",
       "1                                 0                              1  \n",
       "2                                 0                              1  \n",
       "3                                 0                              1  \n",
       "4                                 0                              1  \n",
       "\n",
       "[5 rows x 565 columns]"
      ]
     },
     "execution_count": 29,
     "metadata": {},
     "output_type": "execute_result"
    }
   ],
   "source": [
    "skip = ['timestamp', 'price_doc', 'price_cat','target','target_1','target_2','target_3']\n",
    "df_train = fix_num_cols(df_eda, skip, 0)\n",
    "#print(len(df_train.columns.values))\n",
    "#df_train = fix_num_cols(df_train, skip, 0)\n",
    "df_train = pd.get_dummies(df_train)\n",
    "\n",
    "print(len(df_train.columns.values))\n",
    "df_train.head()"
   ]
  },
  {
   "cell_type": "code",
   "execution_count": 41,
   "metadata": {},
   "outputs": [
    {
     "data": {
      "text/plain": [
       "(21329, 562)"
      ]
     },
     "execution_count": 41,
     "metadata": {},
     "output_type": "execute_result"
    }
   ],
   "source": [
    "#skip = ['timestamp', 'price_doc', 'price_cat','target', 'target_1']\n",
    "tgt = 'target_2'\n",
    "df_train[tgt] = df_eda[tgt]\n",
    "X_train, X_test, y_train, y_test = model_selection.train_test_split(df_train.loc[:,~df_train.columns.isin(skip)], \\\n",
    "                                                                df_train[tgt], test_size=0.3)\n",
    "X_train.shape"
   ]
  },
  {
   "cell_type": "code",
   "execution_count": 61,
   "metadata": {},
   "outputs": [
    {
     "name": "stdout",
     "output_type": "stream",
     "text": [
      "2018-11-15 16:01:08.795797\n",
      "Fitting 5 folds for each of 1 candidates, totalling 5 fits\n",
      "[CV] clf__n_estimators=500 ...........................................\n",
      "[CV] clf__n_estimators=500 ...........................................\n",
      "[CV] .. clf__n_estimators=500, score=0.6413502109704642, total=  35.7s\n",
      "[CV] clf__n_estimators=500 ...........................................\n",
      "[CV] .. clf__n_estimators=500, score=0.7845757149554617, total=  41.8s\n",
      "[CV] clf__n_estimators=500 ...........................................\n",
      "[CV] .. clf__n_estimators=500, score=0.6324425691514299, total=  38.6s\n",
      "[CV] clf__n_estimators=500 ...........................................\n",
      "[CV] .. clf__n_estimators=500, score=0.6383028598218472, total=  39.0s\n",
      "[CV] ... clf__n_estimators=500, score=0.636896390060947, total=  33.7s\n"
     ]
    },
    {
     "name": "stderr",
     "output_type": "stream",
     "text": [
      "[Parallel(n_jobs=2)]: Done   5 out of   5 | elapsed:  2.0min finished\n"
     ]
    },
    {
     "name": "stdout",
     "output_type": "stream",
     "text": [
      "{'clf__n_estimators': 500}\n",
      "0.7933712535550208\n",
      "2018-11-15 16:03:51.122283\n"
     ]
    }
   ],
   "source": [
    "# target 2\n",
    "print (dt.datetime.now())\n",
    "pipe = Pipeline([\n",
    "  ('fs', SelectFromModel(LogisticRegression(multi_class='ovr'))),\n",
    "  ('clf', RandomForestClassifier())\n",
    "])\n",
    "\n",
    "cv = model_selection.ShuffleSplit(n_splits=5, test_size=0.2)\n",
    "param_grid = { \"clf__n_estimators\": [500]  }\n",
    "pipe_est_cv = model_selection.GridSearchCV(pipe, param_grid=param_grid, cv=cv, scoring='accuracy', \\\n",
    "                                           verbose=3, n_jobs=2)\n",
    "\n",
    "pipe_est_cv.fit(X_train, y_train)\n",
    "print(pipe_est_cv.best_params_)\n",
    "print(pipe_est_cv.score(X_test, y_test))\n",
    "print (dt.datetime.now())"
   ]
  },
  {
   "cell_type": "code",
   "execution_count": 66,
   "metadata": {},
   "outputs": [],
   "source": [
    "X_train['old_education_build_share_NUL']\n",
    "pass"
   ]
  },
  {
   "cell_type": "code",
   "execution_count": 69,
   "metadata": {},
   "outputs": [
    {
     "name": "stdout",
     "output_type": "stream",
     "text": [
      "<bound method BaseEstimator.get_params of SelectFromModel(estimator=LogisticRegression(C=1.0, class_weight=None, dual=False, fit_intercept=True,\n",
      "          intercept_scaling=1, max_iter=100, multi_class='ovr', n_jobs=1,\n",
      "          penalty='l2', random_state=None, solver='liblinear', tol=0.0001,\n",
      "          verbose=0, warm_start=False),\n",
      "        norm_order=1, prefit=False, threshold=None)>\n"
     ]
    }
   ],
   "source": [
    "fs = pipe_est_cv.best_estimator_.named_steps['fs']\n",
    "feature_names_example = [X_train.columns]\n",
    "#selected_features = fs.transform(feature_names_example)\n",
    "\n",
    "#print (selected_features[0])\n",
    "print(fs.get_params)"
   ]
  },
  {
   "cell_type": "code",
   "execution_count": 39,
   "metadata": {},
   "outputs": [
    {
     "name": "stdout",
     "output_type": "stream",
     "text": [
      "2018-11-15 15:43:18.562866\n"
     ]
    },
    {
     "name": "stderr",
     "output_type": "stream",
     "text": [
      "/Users/chadleonard/Springboard/anaconda3/lib/python3.7/site-packages/sklearn/linear_model/logistic.py:1232: UserWarning: 'n_jobs' > 1 does not have any effect when 'solver' is set to 'liblinear'. Got 'n_jobs' = 2.\n",
      "  \" = {}.\".format(self.n_jobs))\n"
     ]
    },
    {
     "name": "stdout",
     "output_type": "stream",
     "text": [
      "0.831109166484358\n",
      "2018-11-15 15:43:41.739833\n"
     ]
    }
   ],
   "source": [
    "# target 1\n",
    "print (dt.datetime.now())\n",
    "clf = Pipeline([\n",
    "  ('feature_selection', SelectFromModel(LogisticRegression(multi_class='ovr', n_jobs=2))),\n",
    "  ('classification', RandomForestClassifier())\n",
    "])\n",
    "clf.fit(X_train, y_train)\n",
    "print(clf.score(X_test, y_test))\n",
    "print (dt.datetime.now())"
   ]
  },
  {
   "cell_type": "code",
   "execution_count": 31,
   "metadata": {},
   "outputs": [
    {
     "name": "stdout",
     "output_type": "stream",
     "text": [
      "2018-11-15 15:36:28.652110\n"
     ]
    },
    {
     "name": "stderr",
     "output_type": "stream",
     "text": [
      "/Users/chadleonard/Springboard/anaconda3/lib/python3.7/site-packages/sklearn/linear_model/logistic.py:1232: UserWarning: 'n_jobs' > 1 does not have any effect when 'solver' is set to 'liblinear'. Got 'n_jobs' = 2.\n",
      "  \" = {}.\".format(self.n_jobs))\n"
     ]
    },
    {
     "name": "stdout",
     "output_type": "stream",
     "text": [
      "0.9924524174141326\n",
      "2018-11-15 15:36:45.347673\n"
     ]
    }
   ],
   "source": [
    "# target 0\n",
    "print (dt.datetime.now())\n",
    "clf = Pipeline([\n",
    "  ('feature_selection', SelectFromModel(LogisticRegression(multi_class='ovr', n_jobs=2))),\n",
    "  ('classification', RandomForestClassifier())\n",
    "])\n",
    "clf.fit(X_train, y_train)\n",
    "print(clf.score(X_test, y_test))\n",
    "print (dt.datetime.now())"
   ]
  },
  {
   "cell_type": "code",
   "execution_count": 35,
   "metadata": {},
   "outputs": [
    {
     "name": "stdout",
     "output_type": "stream",
     "text": [
      "cafe_sum_500_min_price_avg\n",
      "cafe_sum_500_max_price_avg\n",
      "cafe_avg_price_500\n",
      "cafe_count_500_na_price\n",
      "cafe_count_500_price_500\n",
      "cafe_count_500_price_1000\n",
      "cafe_count_500_price_1500\n",
      "cafe_count_500_price_2500\n",
      "cafe_count_500_price_4000\n",
      "cafe_count_500_price_high\n",
      "cafe_sum_1000_min_price_avg\n",
      "cafe_sum_1000_max_price_avg\n",
      "cafe_avg_price_1000\n",
      "cafe_count_1000_na_price\n",
      "cafe_count_1000_price_500\n",
      "cafe_count_1000_price_1000\n",
      "cafe_count_1000_price_1500\n",
      "cafe_count_1000_price_2500\n",
      "cafe_count_1000_price_4000\n",
      "cafe_count_1000_price_high\n",
      "cafe_sum_1500_min_price_avg\n",
      "cafe_sum_1500_max_price_avg\n",
      "cafe_avg_price_1500\n",
      "cafe_count_1500_na_price\n",
      "cafe_count_1500_price_500\n",
      "cafe_count_1500_price_1000\n",
      "cafe_count_1500_price_1500\n",
      "cafe_count_1500_price_2500\n",
      "cafe_count_1500_price_4000\n",
      "cafe_count_1500_price_high\n",
      "cafe_sum_2000_min_price_avg\n",
      "cafe_sum_2000_max_price_avg\n",
      "cafe_avg_price_2000\n",
      "cafe_count_2000_na_price\n",
      "cafe_count_2000_price_500\n",
      "cafe_count_2000_price_1000\n",
      "cafe_count_2000_price_1500\n",
      "cafe_count_2000_price_2500\n",
      "cafe_count_2000_price_4000\n",
      "cafe_count_2000_price_high\n",
      "cafe_sum_3000_min_price_avg\n",
      "cafe_sum_3000_max_price_avg\n",
      "cafe_avg_price_3000\n",
      "cafe_count_3000_na_price\n",
      "cafe_count_3000_price_500\n",
      "cafe_count_3000_price_1000\n",
      "cafe_count_3000_price_1500\n",
      "cafe_count_3000_price_2500\n",
      "cafe_count_3000_price_4000\n",
      "cafe_count_3000_price_high\n",
      "cafe_sum_5000_min_price_avg\n",
      "cafe_sum_5000_max_price_avg\n",
      "cafe_avg_price_5000\n",
      "cafe_count_5000_na_price\n",
      "cafe_count_5000_price_500\n",
      "cafe_count_5000_price_1000\n",
      "cafe_count_5000_price_1500\n",
      "cafe_count_5000_price_2500\n",
      "cafe_count_5000_price_4000\n",
      "cafe_count_5000_price_high\n",
      "rent_price_4+room_bus\n",
      "rent_price_3room_bus\n",
      "rent_price_2room_bus\n",
      "rent_price_1room_bus\n",
      "rent_price_3room_eco\n",
      "rent_price_2room_eco\n",
      "rent_price_1room_eco\n"
     ]
    }
   ],
   "source": [
    "for col in X_train.columns:\n",
    "    if \"price\" in col:\n",
    "        print(col)"
   ]
  },
  {
   "cell_type": "code",
   "execution_count": 18,
   "metadata": {},
   "outputs": [
    {
     "name": "stderr",
     "output_type": "stream",
     "text": [
      "/Users/chadleonard/Springboard/anaconda3/lib/python3.7/site-packages/sklearn/linear_model/logistic.py:1232: UserWarning: 'n_jobs' > 1 does not have any effect when 'solver' is set to 'liblinear'. Got 'n_jobs' = 2.\n",
      "  \" = {}.\".format(self.n_jobs))\n"
     ]
    },
    {
     "data": {
      "text/plain": [
       "(21329, 85)"
      ]
     },
     "execution_count": 18,
     "metadata": {},
     "output_type": "execute_result"
    }
   ],
   "source": [
    "clf = LogisticRegression(multi_class='ovr', n_jobs=2).fit(X_train, y_train)\n",
    "model = SelectFromModel(clf, prefit=True)\n",
    "X_new = model.transform(X_train)\n",
    "X_new.shape"
   ]
  },
  {
   "cell_type": "code",
   "execution_count": 23,
   "metadata": {},
   "outputs": [
    {
     "ename": "NotFittedError",
     "evalue": "Since 'prefit=True', call transform directly",
     "output_type": "error",
     "traceback": [
      "\u001b[0;31m---------------------------------------------------------------------------\u001b[0m",
      "\u001b[0;31mNotFittedError\u001b[0m                            Traceback (most recent call last)",
      "\u001b[0;32m<ipython-input-23-a4a8eb0539f5>\u001b[0m in \u001b[0;36m<module>\u001b[0;34m()\u001b[0m\n\u001b[0;32m----> 1\u001b[0;31m \u001b[0mmodel\u001b[0m\u001b[0;34m.\u001b[0m\u001b[0mfit\u001b[0m\u001b[0;34m(\u001b[0m\u001b[0mX_new\u001b[0m\u001b[0;34m,\u001b[0m \u001b[0my_test\u001b[0m\u001b[0;34m)\u001b[0m\u001b[0;34m\u001b[0m\u001b[0m\n\u001b[0m",
      "\u001b[0;32m~/Springboard/anaconda3/lib/python3.7/site-packages/sklearn/feature_selection/from_model.py\u001b[0m in \u001b[0;36mfit\u001b[0;34m(self, X, y, **fit_params)\u001b[0m\n\u001b[1;32m    165\u001b[0m         \u001b[0;32mif\u001b[0m \u001b[0mself\u001b[0m\u001b[0;34m.\u001b[0m\u001b[0mprefit\u001b[0m\u001b[0;34m:\u001b[0m\u001b[0;34m\u001b[0m\u001b[0m\n\u001b[1;32m    166\u001b[0m             raise NotFittedError(\n\u001b[0;32m--> 167\u001b[0;31m                 \"Since 'prefit=True', call transform directly\")\n\u001b[0m\u001b[1;32m    168\u001b[0m         \u001b[0mself\u001b[0m\u001b[0;34m.\u001b[0m\u001b[0mestimator_\u001b[0m \u001b[0;34m=\u001b[0m \u001b[0mclone\u001b[0m\u001b[0;34m(\u001b[0m\u001b[0mself\u001b[0m\u001b[0;34m.\u001b[0m\u001b[0mestimator\u001b[0m\u001b[0;34m)\u001b[0m\u001b[0;34m\u001b[0m\u001b[0m\n\u001b[1;32m    169\u001b[0m         \u001b[0mself\u001b[0m\u001b[0;34m.\u001b[0m\u001b[0mestimator_\u001b[0m\u001b[0;34m.\u001b[0m\u001b[0mfit\u001b[0m\u001b[0;34m(\u001b[0m\u001b[0mX\u001b[0m\u001b[0;34m,\u001b[0m \u001b[0my\u001b[0m\u001b[0;34m,\u001b[0m \u001b[0;34m**\u001b[0m\u001b[0mfit_params\u001b[0m\u001b[0;34m)\u001b[0m\u001b[0;34m\u001b[0m\u001b[0m\n",
      "\u001b[0;31mNotFittedError\u001b[0m: Since 'prefit=True', call transform directly"
     ]
    }
   ],
   "source": [
    "model.fit(X_new, y_test)"
   ]
  },
  {
   "cell_type": "code",
   "execution_count": 21,
   "metadata": {},
   "outputs": [
    {
     "data": {
      "text/plain": [
       "(30471, 562)"
      ]
     },
     "execution_count": 21,
     "metadata": {},
     "output_type": "execute_result"
    }
   ],
   "source": [
    "X_train = df_train.loc[:,~df_train.columns.isin(skip)]\n",
    "y_train = df_train['target_2']\n",
    "X_train.shape"
   ]
  },
  {
   "cell_type": "code",
   "execution_count": 26,
   "metadata": {},
   "outputs": [],
   "source": [
    "y_tn = df_eda['price_doc']"
   ]
  },
  {
   "cell_type": "code",
   "execution_count": 28,
   "metadata": {},
   "outputs": [
    {
     "name": "stdout",
     "output_type": "stream",
     "text": [
      "(0.27909329382102877, 'areadiff')\n",
      "(0.011558935835008348, 'areadiff')\n"
     ]
    }
   ],
   "source": [
    "corlist_cont = []\n",
    "corlist_discrete = []\n",
    "\n",
    "for col in X_train.columns.values:\n",
    "    if col not in skip:\n",
    "        X_corr = np.corrcoef(X_train[col],y_train)\n",
    "        X_disc = np.corrcoef(X_train[col],y_tn)\n",
    "        corlist_cont.append((np.abs(X_corr[1][0]), col))\n",
    "        corlist_discrete.append((np.abs(X_disc[1][0]), col))\n",
    "corlist_discrete = sorted(corlist_discrete, reverse=True)\n",
    "corlist_cont = sorted(corlist_cont, reverse=True)\n",
    "\n",
    "for a in corlist_discrete:\n",
    "    if 'areadiff' in a:\n",
    "        print(a)\n",
    "        \n",
    "for a in corlist_cont:\n",
    "    if 'areadiff' in a:\n",
    "        print(a)"
   ]
  },
  {
   "cell_type": "code",
   "execution_count": 221,
   "metadata": {},
   "outputs": [
    {
     "name": "stdout",
     "output_type": "stream",
     "text": [
      "2018-11-02 19:34:01.323956\n",
      "Fitting 5 folds for each of 2 candidates, totalling 10 fits\n",
      "[CV] clf__fit_intercept=False, clf__solver=liblinear .................\n",
      "[CV] clf__fit_intercept=False, clf__solver=liblinear .................\n"
     ]
    },
    {
     "name": "stderr",
     "output_type": "stream",
     "text": [
      "/Users/chadleonard/Springboard/anaconda3/lib/python3.7/site-packages/sklearn/linear_model/logistic.py:1232: UserWarning: 'n_jobs' > 1 does not have any effect when 'solver' is set to 'liblinear'. Got 'n_jobs' = 2.\n",
      "  \" = {}.\".format(self.n_jobs))\n",
      "/Users/chadleonard/Springboard/anaconda3/lib/python3.7/site-packages/sklearn/linear_model/logistic.py:1232: UserWarning: 'n_jobs' > 1 does not have any effect when 'solver' is set to 'liblinear'. Got 'n_jobs' = 2.\n",
      "  \" = {}.\".format(self.n_jobs))\n"
     ]
    },
    {
     "name": "stdout",
     "output_type": "stream",
     "text": [
      "[CV]  clf__fit_intercept=False, clf__solver=liblinear, score=0.9052977027660571, total=  47.4s\n",
      "[CV] clf__fit_intercept=False, clf__solver=liblinear .................\n"
     ]
    },
    {
     "name": "stderr",
     "output_type": "stream",
     "text": [
      "/Users/chadleonard/Springboard/anaconda3/lib/python3.7/site-packages/sklearn/linear_model/logistic.py:1232: UserWarning: 'n_jobs' > 1 does not have any effect when 'solver' is set to 'liblinear'. Got 'n_jobs' = 2.\n",
      "  \" = {}.\".format(self.n_jobs))\n"
     ]
    },
    {
     "name": "stdout",
     "output_type": "stream",
     "text": [
      "[CV]  clf__fit_intercept=False, clf__solver=liblinear, score=0.9085794655414908, total=  53.1s\n",
      "[CV] clf__fit_intercept=False, clf__solver=liblinear .................\n"
     ]
    },
    {
     "name": "stderr",
     "output_type": "stream",
     "text": [
      "/Users/chadleonard/Springboard/anaconda3/lib/python3.7/site-packages/sklearn/linear_model/logistic.py:1232: UserWarning: 'n_jobs' > 1 does not have any effect when 'solver' is set to 'liblinear'. Got 'n_jobs' = 2.\n",
      "  \" = {}.\".format(self.n_jobs))\n"
     ]
    },
    {
     "name": "stdout",
     "output_type": "stream",
     "text": [
      "[CV]  clf__fit_intercept=False, clf__solver=liblinear, score=0.9104547585560244, total=  32.9s\n",
      "[CV] clf__fit_intercept=False, clf__solver=liblinear .................\n"
     ]
    },
    {
     "name": "stderr",
     "output_type": "stream",
     "text": [
      "/Users/chadleonard/Springboard/anaconda3/lib/python3.7/site-packages/sklearn/linear_model/logistic.py:1232: UserWarning: 'n_jobs' > 1 does not have any effect when 'solver' is set to 'liblinear'. Got 'n_jobs' = 2.\n",
      "  \" = {}.\".format(self.n_jobs))\n"
     ]
    },
    {
     "name": "stdout",
     "output_type": "stream",
     "text": [
      "[CV]  clf__fit_intercept=False, clf__solver=liblinear, score=0.9106891701828411, total=  52.3s\n",
      "[CV] clf__fit_intercept=False, clf__solver=sag .......................\n"
     ]
    },
    {
     "name": "stderr",
     "output_type": "stream",
     "text": [
      "/Users/chadleonard/Springboard/anaconda3/lib/python3.7/site-packages/sklearn/linear_model/sag.py:326: ConvergenceWarning: The max_iter was reached which means the coef_ did not converge\n",
      "  \"the coef_ did not converge\", ConvergenceWarning)\n"
     ]
    },
    {
     "name": "stdout",
     "output_type": "stream",
     "text": [
      "[CV]  clf__fit_intercept=False, clf__solver=sag, score=0.8595874355368026, total=  10.4s\n",
      "[CV] clf__fit_intercept=False, clf__solver=sag .......................\n",
      "[CV]  clf__fit_intercept=False, clf__solver=liblinear, score=0.9144397562119081, total=  45.4s\n",
      "[CV] clf__fit_intercept=False, clf__solver=sag .......................\n"
     ]
    },
    {
     "name": "stderr",
     "output_type": "stream",
     "text": [
      "/Users/chadleonard/Springboard/anaconda3/lib/python3.7/site-packages/sklearn/linear_model/sag.py:326: ConvergenceWarning: The max_iter was reached which means the coef_ did not converge\n",
      "  \"the coef_ did not converge\", ConvergenceWarning)\n"
     ]
    },
    {
     "name": "stdout",
     "output_type": "stream",
     "text": [
      "[CV]  clf__fit_intercept=False, clf__solver=sag, score=0.8534927332395686, total=  10.1s\n",
      "[CV] clf__fit_intercept=False, clf__solver=sag .......................\n"
     ]
    },
    {
     "name": "stderr",
     "output_type": "stream",
     "text": [
      "/Users/chadleonard/Springboard/anaconda3/lib/python3.7/site-packages/sklearn/linear_model/sag.py:326: ConvergenceWarning: The max_iter was reached which means the coef_ did not converge\n",
      "  \"the coef_ did not converge\", ConvergenceWarning)\n"
     ]
    },
    {
     "name": "stdout",
     "output_type": "stream",
     "text": [
      "[CV]  clf__fit_intercept=False, clf__solver=sag, score=0.8448195030473511, total=   9.7s\n"
     ]
    },
    {
     "name": "stderr",
     "output_type": "stream",
     "text": [
      "/Users/chadleonard/Springboard/anaconda3/lib/python3.7/site-packages/sklearn/linear_model/sag.py:326: ConvergenceWarning: The max_iter was reached which means the coef_ did not converge\n",
      "  \"the coef_ did not converge\", ConvergenceWarning)\n"
     ]
    },
    {
     "name": "stdout",
     "output_type": "stream",
     "text": [
      "[CV] clf__fit_intercept=False, clf__solver=sag .......................\n",
      "[CV]  clf__fit_intercept=False, clf__solver=sag, score=0.8384903891233005, total=   9.6s\n"
     ]
    },
    {
     "name": "stderr",
     "output_type": "stream",
     "text": [
      "/Users/chadleonard/Springboard/anaconda3/lib/python3.7/site-packages/sklearn/linear_model/sag.py:326: ConvergenceWarning: The max_iter was reached which means the coef_ did not converge\n",
      "  \"the coef_ did not converge\", ConvergenceWarning)\n"
     ]
    },
    {
     "name": "stdout",
     "output_type": "stream",
     "text": [
      "[CV]  clf__fit_intercept=False, clf__solver=sag, score=0.843413033286451, total=   9.5s\n"
     ]
    },
    {
     "name": "stderr",
     "output_type": "stream",
     "text": [
      "[Parallel(n_jobs=2)]: Done  10 out of  10 | elapsed:  2.5min finished\n",
      "/Users/chadleonard/Springboard/anaconda3/lib/python3.7/site-packages/sklearn/linear_model/logistic.py:1232: UserWarning: 'n_jobs' > 1 does not have any effect when 'solver' is set to 'liblinear'. Got 'n_jobs' = 2.\n",
      "  \" = {}.\".format(self.n_jobs))\n"
     ]
    },
    {
     "name": "stdout",
     "output_type": "stream",
     "text": [
      "{'clf__fit_intercept': False, 'clf__solver': 'liblinear'}\n",
      "0.9098921706516643\n",
      "[0.91575925 0.85757487]\n",
      "[0.90989217 0.84796062]\n",
      "2018-11-02 19:37:14.090918\n"
     ]
    },
    {
     "name": "stderr",
     "output_type": "stream",
     "text": [
      "/Users/chadleonard/Springboard/anaconda3/lib/python3.7/site-packages/sklearn/utils/deprecation.py:122: FutureWarning: You are accessing a training score ('mean_train_score'), which will not be available by default any more in 0.21. If you need training scores, please set return_train_score=True\n",
      "  warnings.warn(*warn_args, **warn_kwargs)\n"
     ]
    }
   ],
   "source": [
    "# Logistic Regression Multi-class Classifier ==> class 3\n",
    "from sklearn.linear_model import LogisticRegression\n",
    "\n",
    "print (dt.datetime.now())\n",
    "pipe = Pipeline([\n",
    "       ('scaling', preprocessing.StandardScaler()),\n",
    "       #('pca', PCA(whiten=True)),\n",
    "       ('clf', LogisticRegression(multi_class='ovr', n_jobs=2)) \n",
    "    ])\n",
    "\n",
    "cv = model_selection.ShuffleSplit(n_splits=5, test_size=0.2)\n",
    "param_grid = { \"clf__fit_intercept\": [False]  , \"clf__solver\": ['liblinear', 'sag'] }\n",
    "pipe_est_cv = model_selection.GridSearchCV(pipe, param_grid=param_grid, cv=cv, scoring='accuracy', \\\n",
    "                                           verbose=3, n_jobs=2)\n",
    "\n",
    "pipe_est_cv.fit(X_train, y_train)\n",
    "pipe_est_cv_results = pipe_est_cv.cv_results_\n",
    "\n",
    "print(pipe_est_cv.best_params_)\n",
    "print(pipe_est_cv.best_score_)\n",
    "\n",
    "print(pipe_est_cv_results['mean_train_score'])\n",
    "print(pipe_est_cv_results['mean_test_score'])\n",
    "print (dt.datetime.now())"
   ]
  },
  {
   "cell_type": "code",
   "execution_count": 212,
   "metadata": {},
   "outputs": [
    {
     "name": "stdout",
     "output_type": "stream",
     "text": [
      "2018-11-02 19:13:28.620684\n",
      "Fitting 5 folds for each of 2 candidates, totalling 10 fits\n",
      "[CV] clf__fit_intercept=False, clf__solver=liblinear .................\n",
      "[CV] clf__fit_intercept=False, clf__solver=liblinear .................\n"
     ]
    },
    {
     "name": "stderr",
     "output_type": "stream",
     "text": [
      "/Users/chadleonard/Springboard/anaconda3/lib/python3.7/site-packages/sklearn/linear_model/logistic.py:1232: UserWarning: 'n_jobs' > 1 does not have any effect when 'solver' is set to 'liblinear'. Got 'n_jobs' = 2.\n",
      "  \" = {}.\".format(self.n_jobs))\n",
      "/Users/chadleonard/Springboard/anaconda3/lib/python3.7/site-packages/sklearn/linear_model/logistic.py:1232: UserWarning: 'n_jobs' > 1 does not have any effect when 'solver' is set to 'liblinear'. Got 'n_jobs' = 2.\n",
      "  \" = {}.\".format(self.n_jobs))\n"
     ]
    },
    {
     "name": "stdout",
     "output_type": "stream",
     "text": [
      "[CV]  clf__fit_intercept=False, clf__solver=liblinear, score=0.6289263947491796, total=  18.9s\n",
      "[CV] clf__fit_intercept=False, clf__solver=liblinear .................\n"
     ]
    },
    {
     "name": "stderr",
     "output_type": "stream",
     "text": [
      "/Users/chadleonard/Springboard/anaconda3/lib/python3.7/site-packages/sklearn/linear_model/logistic.py:1232: UserWarning: 'n_jobs' > 1 does not have any effect when 'solver' is set to 'liblinear'. Got 'n_jobs' = 2.\n",
      "  \" = {}.\".format(self.n_jobs))\n"
     ]
    },
    {
     "name": "stdout",
     "output_type": "stream",
     "text": [
      "[CV]  clf__fit_intercept=False, clf__solver=liblinear, score=0.6108766994842945, total=  19.7s\n",
      "[CV] clf__fit_intercept=False, clf__solver=liblinear .................\n"
     ]
    },
    {
     "name": "stderr",
     "output_type": "stream",
     "text": [
      "/Users/chadleonard/Springboard/anaconda3/lib/python3.7/site-packages/sklearn/linear_model/logistic.py:1232: UserWarning: 'n_jobs' > 1 does not have any effect when 'solver' is set to 'liblinear'. Got 'n_jobs' = 2.\n",
      "  \" = {}.\".format(self.n_jobs))\n"
     ]
    },
    {
     "name": "stdout",
     "output_type": "stream",
     "text": [
      "[CV]  clf__fit_intercept=False, clf__solver=liblinear, score=0.6082981715893109, total=  19.7s\n",
      "[CV] clf__fit_intercept=False, clf__solver=liblinear .................\n"
     ]
    },
    {
     "name": "stderr",
     "output_type": "stream",
     "text": [
      "/Users/chadleonard/Springboard/anaconda3/lib/python3.7/site-packages/sklearn/linear_model/logistic.py:1232: UserWarning: 'n_jobs' > 1 does not have any effect when 'solver' is set to 'liblinear'. Got 'n_jobs' = 2.\n",
      "  \" = {}.\".format(self.n_jobs))\n"
     ]
    },
    {
     "name": "stdout",
     "output_type": "stream",
     "text": [
      "[CV]  clf__fit_intercept=False, clf__solver=liblinear, score=0.6169714017815283, total=  20.8s\n",
      "[CV] clf__fit_intercept=False, clf__solver=sag .......................\n"
     ]
    },
    {
     "name": "stderr",
     "output_type": "stream",
     "text": [
      "/Users/chadleonard/Springboard/anaconda3/lib/python3.7/site-packages/sklearn/linear_model/sag.py:326: ConvergenceWarning: The max_iter was reached which means the coef_ did not converge\n",
      "  \"the coef_ did not converge\", ConvergenceWarning)\n"
     ]
    },
    {
     "name": "stdout",
     "output_type": "stream",
     "text": [
      "[CV]  clf__fit_intercept=False, clf__solver=sag, score=0.6247069854664792, total=  10.3s\n",
      "[CV] clf__fit_intercept=False, clf__solver=sag .......................\n",
      "[CV]  clf__fit_intercept=False, clf__solver=liblinear, score=0.6148616971401781, total=  18.6s\n",
      "[CV] clf__fit_intercept=False, clf__solver=sag .......................\n"
     ]
    },
    {
     "name": "stderr",
     "output_type": "stream",
     "text": [
      "/Users/chadleonard/Springboard/anaconda3/lib/python3.7/site-packages/sklearn/linear_model/sag.py:326: ConvergenceWarning: The max_iter was reached which means the coef_ did not converge\n",
      "  \"the coef_ did not converge\", ConvergenceWarning)\n"
     ]
    },
    {
     "name": "stdout",
     "output_type": "stream",
     "text": [
      "[CV]  clf__fit_intercept=False, clf__solver=sag, score=0.6022034692920769, total=  10.7s\n",
      "[CV] clf__fit_intercept=False, clf__solver=sag .......................\n"
     ]
    },
    {
     "name": "stderr",
     "output_type": "stream",
     "text": [
      "/Users/chadleonard/Springboard/anaconda3/lib/python3.7/site-packages/sklearn/linear_model/sag.py:326: ConvergenceWarning: The max_iter was reached which means the coef_ did not converge\n",
      "  \"the coef_ did not converge\", ConvergenceWarning)\n"
     ]
    },
    {
     "name": "stdout",
     "output_type": "stream",
     "text": [
      "[CV]  clf__fit_intercept=False, clf__solver=sag, score=0.6118143459915611, total=  10.1s\n",
      "[CV] clf__fit_intercept=False, clf__solver=sag .......................\n"
     ]
    },
    {
     "name": "stderr",
     "output_type": "stream",
     "text": [
      "/Users/chadleonard/Springboard/anaconda3/lib/python3.7/site-packages/sklearn/linear_model/sag.py:326: ConvergenceWarning: The max_iter was reached which means the coef_ did not converge\n",
      "  \"the coef_ did not converge\", ConvergenceWarning)\n"
     ]
    },
    {
     "name": "stdout",
     "output_type": "stream",
     "text": [
      "[CV]  clf__fit_intercept=False, clf__solver=sag, score=0.616502578527895, total=   9.9s\n"
     ]
    },
    {
     "name": "stderr",
     "output_type": "stream",
     "text": [
      "/Users/chadleonard/Springboard/anaconda3/lib/python3.7/site-packages/sklearn/linear_model/sag.py:326: ConvergenceWarning: The max_iter was reached which means the coef_ did not converge\n",
      "  \"the coef_ did not converge\", ConvergenceWarning)\n"
     ]
    },
    {
     "name": "stdout",
     "output_type": "stream",
     "text": [
      "[CV]  clf__fit_intercept=False, clf__solver=sag, score=0.6108766994842945, total=   9.7s\n"
     ]
    },
    {
     "name": "stderr",
     "output_type": "stream",
     "text": [
      "[Parallel(n_jobs=2)]: Done  10 out of  10 | elapsed:  1.3min finished\n",
      "/Users/chadleonard/Springboard/anaconda3/lib/python3.7/site-packages/sklearn/linear_model/logistic.py:1232: UserWarning: 'n_jobs' > 1 does not have any effect when 'solver' is set to 'liblinear'. Got 'n_jobs' = 2.\n",
      "  \" = {}.\".format(self.n_jobs))\n"
     ]
    },
    {
     "name": "stdout",
     "output_type": "stream",
     "text": [
      "{'clf__fit_intercept': False, 'clf__solver': 'liblinear'}\n",
      "0.6159868729488983\n",
      "[0.64286468 0.63907871]\n",
      "[0.61598687 0.61322082]\n",
      "2018-11-02 19:15:19.046551\n"
     ]
    },
    {
     "name": "stderr",
     "output_type": "stream",
     "text": [
      "/Users/chadleonard/Springboard/anaconda3/lib/python3.7/site-packages/sklearn/utils/deprecation.py:122: FutureWarning: You are accessing a training score ('mean_train_score'), which will not be available by default any more in 0.21. If you need training scores, please set return_train_score=True\n",
      "  warnings.warn(*warn_args, **warn_kwargs)\n"
     ]
    }
   ],
   "source": [
    "# Logistic Regression Multi-class Classifier ==> class 2\n",
    "from sklearn.linear_model import LogisticRegression\n",
    "\n",
    "print (dt.datetime.now())\n",
    "pipe = Pipeline([\n",
    "       ('scaling', preprocessing.StandardScaler()),\n",
    "       #('pca', PCA(whiten=True)),\n",
    "       ('clf', LogisticRegression(multi_class='ovr', n_jobs=2)) \n",
    "    ])\n",
    "\n",
    "cv = model_selection.ShuffleSplit(n_splits=5, test_size=0.2)\n",
    "param_grid = { \"clf__fit_intercept\": [False]  , \"clf__solver\": ['liblinear', 'sag'] }\n",
    "pipe_est_cv = model_selection.GridSearchCV(pipe, param_grid=param_grid, cv=cv, scoring='accuracy', \\\n",
    "                                           verbose=3, n_jobs=2)\n",
    "\n",
    "pipe_est_cv.fit(X_train, y_train)\n",
    "pipe_est_cv_results = pipe_est_cv.cv_results_\n",
    "\n",
    "print(pipe_est_cv.best_params_)\n",
    "print(pipe_est_cv.best_score_)\n",
    "\n",
    "print(pipe_est_cv_results['mean_train_score'])\n",
    "print(pipe_est_cv_results['mean_test_score'])\n",
    "print (dt.datetime.now())"
   ]
  },
  {
   "cell_type": "code",
   "execution_count": 214,
   "metadata": {},
   "outputs": [
    {
     "name": "stdout",
     "output_type": "stream",
     "text": [
      "2018-11-02 19:16:42.760329\n",
      "Fitting 5 folds for each of 2 candidates, totalling 10 fits\n",
      "[CV] clf__fit_intercept=False, clf__solver=liblinear .................\n",
      "[CV] clf__fit_intercept=False, clf__solver=liblinear .................\n"
     ]
    },
    {
     "name": "stderr",
     "output_type": "stream",
     "text": [
      "/Users/chadleonard/Springboard/anaconda3/lib/python3.7/site-packages/sklearn/linear_model/logistic.py:1232: UserWarning: 'n_jobs' > 1 does not have any effect when 'solver' is set to 'liblinear'. Got 'n_jobs' = 2.\n",
      "  \" = {}.\".format(self.n_jobs))\n",
      "/Users/chadleonard/Springboard/anaconda3/lib/python3.7/site-packages/sklearn/linear_model/logistic.py:1232: UserWarning: 'n_jobs' > 1 does not have any effect when 'solver' is set to 'liblinear'. Got 'n_jobs' = 2.\n",
      "  \" = {}.\".format(self.n_jobs))\n"
     ]
    },
    {
     "name": "stdout",
     "output_type": "stream",
     "text": [
      "[CV]  clf__fit_intercept=False, clf__solver=liblinear, score=0.829817158931083, total=  30.6s\n",
      "[CV] clf__fit_intercept=False, clf__solver=liblinear .................\n"
     ]
    },
    {
     "name": "stderr",
     "output_type": "stream",
     "text": [
      "/Users/chadleonard/Springboard/anaconda3/lib/python3.7/site-packages/sklearn/linear_model/logistic.py:1232: UserWarning: 'n_jobs' > 1 does not have any effect when 'solver' is set to 'liblinear'. Got 'n_jobs' = 2.\n",
      "  \" = {}.\".format(self.n_jobs))\n"
     ]
    },
    {
     "name": "stdout",
     "output_type": "stream",
     "text": [
      "[CV]  clf__fit_intercept=False, clf__solver=liblinear, score=0.8195030473511487, total=  32.8s\n",
      "[CV] clf__fit_intercept=False, clf__solver=liblinear .................\n"
     ]
    },
    {
     "name": "stderr",
     "output_type": "stream",
     "text": [
      "/Users/chadleonard/Springboard/anaconda3/lib/python3.7/site-packages/sklearn/linear_model/logistic.py:1232: UserWarning: 'n_jobs' > 1 does not have any effect when 'solver' is set to 'liblinear'. Got 'n_jobs' = 2.\n",
      "  \" = {}.\".format(self.n_jobs))\n"
     ]
    },
    {
     "name": "stdout",
     "output_type": "stream",
     "text": [
      "[CV]  clf__fit_intercept=False, clf__solver=liblinear, score=0.8248945147679325, total=  19.6s\n",
      "[CV] clf__fit_intercept=False, clf__solver=liblinear .................\n"
     ]
    },
    {
     "name": "stderr",
     "output_type": "stream",
     "text": [
      "/Users/chadleonard/Springboard/anaconda3/lib/python3.7/site-packages/sklearn/linear_model/logistic.py:1232: UserWarning: 'n_jobs' > 1 does not have any effect when 'solver' is set to 'liblinear'. Got 'n_jobs' = 2.\n",
      "  \" = {}.\".format(self.n_jobs))\n"
     ]
    },
    {
     "name": "stdout",
     "output_type": "stream",
     "text": [
      "[CV]  clf__fit_intercept=False, clf__solver=liblinear, score=0.8347398030942335, total=  27.5s\n",
      "[CV] clf__fit_intercept=False, clf__solver=sag .......................\n"
     ]
    },
    {
     "name": "stderr",
     "output_type": "stream",
     "text": [
      "/Users/chadleonard/Springboard/anaconda3/lib/python3.7/site-packages/sklearn/linear_model/sag.py:326: ConvergenceWarning: The max_iter was reached which means the coef_ did not converge\n",
      "  \"the coef_ did not converge\", ConvergenceWarning)\n"
     ]
    },
    {
     "name": "stdout",
     "output_type": "stream",
     "text": [
      "[CV]  clf__fit_intercept=False, clf__solver=sag, score=0.8185654008438819, total=  10.2s\n",
      "[CV] clf__fit_intercept=False, clf__solver=sag .......................\n",
      "[CV]  clf__fit_intercept=False, clf__solver=liblinear, score=0.8288795124238162, total=  21.2s\n",
      "[CV] clf__fit_intercept=False, clf__solver=sag .......................\n"
     ]
    },
    {
     "name": "stderr",
     "output_type": "stream",
     "text": [
      "/Users/chadleonard/Springboard/anaconda3/lib/python3.7/site-packages/sklearn/linear_model/sag.py:326: ConvergenceWarning: The max_iter was reached which means the coef_ did not converge\n",
      "  \"the coef_ did not converge\", ConvergenceWarning)\n"
     ]
    },
    {
     "name": "stdout",
     "output_type": "stream",
     "text": [
      "[CV]  clf__fit_intercept=False, clf__solver=sag, score=0.813173933427098, total=  10.2s\n",
      "[CV] clf__fit_intercept=False, clf__solver=sag .......................\n"
     ]
    },
    {
     "name": "stderr",
     "output_type": "stream",
     "text": [
      "/Users/chadleonard/Springboard/anaconda3/lib/python3.7/site-packages/sklearn/linear_model/sag.py:326: ConvergenceWarning: The max_iter was reached which means the coef_ did not converge\n",
      "  \"the coef_ did not converge\", ConvergenceWarning)\n"
     ]
    },
    {
     "name": "stdout",
     "output_type": "stream",
     "text": [
      "[CV]  clf__fit_intercept=False, clf__solver=sag, score=0.8134083450539147, total=  10.2s\n",
      "[CV] clf__fit_intercept=False, clf__solver=sag .......................\n"
     ]
    },
    {
     "name": "stderr",
     "output_type": "stream",
     "text": [
      "/Users/chadleonard/Springboard/anaconda3/lib/python3.7/site-packages/sklearn/linear_model/sag.py:326: ConvergenceWarning: The max_iter was reached which means the coef_ did not converge\n",
      "  \"the coef_ did not converge\", ConvergenceWarning)\n"
     ]
    },
    {
     "name": "stdout",
     "output_type": "stream",
     "text": [
      "[CV]  clf__fit_intercept=False, clf__solver=sag, score=0.8227848101265823, total=  10.1s\n"
     ]
    },
    {
     "name": "stderr",
     "output_type": "stream",
     "text": [
      "/Users/chadleonard/Springboard/anaconda3/lib/python3.7/site-packages/sklearn/linear_model/sag.py:326: ConvergenceWarning: The max_iter was reached which means the coef_ did not converge\n",
      "  \"the coef_ did not converge\", ConvergenceWarning)\n"
     ]
    },
    {
     "name": "stdout",
     "output_type": "stream",
     "text": [
      "[CV]  clf__fit_intercept=False, clf__solver=sag, score=0.8263009845288326, total=   9.9s\n"
     ]
    },
    {
     "name": "stderr",
     "output_type": "stream",
     "text": [
      "[Parallel(n_jobs=2)]: Done  10 out of  10 | elapsed:  1.6min finished\n",
      "/Users/chadleonard/Springboard/anaconda3/lib/python3.7/site-packages/sklearn/linear_model/logistic.py:1232: UserWarning: 'n_jobs' > 1 does not have any effect when 'solver' is set to 'liblinear'. Got 'n_jobs' = 2.\n",
      "  \" = {}.\".format(self.n_jobs))\n"
     ]
    },
    {
     "name": "stdout",
     "output_type": "stream",
     "text": [
      "{'clf__fit_intercept': False, 'clf__solver': 'liblinear'}\n",
      "0.8275668073136427\n",
      "[0.8395124  0.82659556]\n",
      "[0.82756681 0.81884669]\n",
      "2018-11-02 19:18:49.943877\n"
     ]
    },
    {
     "name": "stderr",
     "output_type": "stream",
     "text": [
      "/Users/chadleonard/Springboard/anaconda3/lib/python3.7/site-packages/sklearn/utils/deprecation.py:122: FutureWarning: You are accessing a training score ('mean_train_score'), which will not be available by default any more in 0.21. If you need training scores, please set return_train_score=True\n",
      "  warnings.warn(*warn_args, **warn_kwargs)\n"
     ]
    }
   ],
   "source": [
    "# Logistic Regression Multi-class Classifier ==> class 1\n",
    "from sklearn.linear_model import LogisticRegression\n",
    "\n",
    "print (dt.datetime.now())\n",
    "pipe = Pipeline([\n",
    "       ('scaling', preprocessing.StandardScaler()),\n",
    "       #('pca', PCA(whiten=True)),\n",
    "       ('clf', LogisticRegression(multi_class='ovr', n_jobs=2, class_weight=weights)) \n",
    "    ])\n",
    "\n",
    "cv = model_selection.ShuffleSplit(n_splits=5, test_size=0.2)\n",
    "param_grid = { \"clf__fit_intercept\": [False]  , \"clf__solver\": ['liblinear', 'sag'] }\n",
    "pipe_est_cv = model_selection.GridSearchCV(pipe, param_grid=param_grid, cv=cv, scoring='accuracy', \\\n",
    "                                           verbose=3, n_jobs=2)\n",
    "\n",
    "pipe_est_cv.fit(X_train, y_train)\n",
    "pipe_est_cv_results = pipe_est_cv.cv_results_\n",
    "\n",
    "print(pipe_est_cv.best_params_)\n",
    "print(pipe_est_cv.best_score_)\n",
    "\n",
    "print(pipe_est_cv_results['mean_train_score'])\n",
    "print(pipe_est_cv_results['mean_test_score'])\n",
    "print (dt.datetime.now())"
   ]
  },
  {
   "cell_type": "code",
   "execution_count": 219,
   "metadata": {},
   "outputs": [
    {
     "name": "stdout",
     "output_type": "stream",
     "text": [
      "2018-11-02 19:24:02.339697\n",
      "Fitting 5 folds for each of 2 candidates, totalling 10 fits\n",
      "[CV] clf__fit_intercept=False, clf__solver=liblinear .................\n",
      "[CV] clf__fit_intercept=False, clf__solver=liblinear .................\n"
     ]
    },
    {
     "name": "stderr",
     "output_type": "stream",
     "text": [
      "/Users/chadleonard/Springboard/anaconda3/lib/python3.7/site-packages/sklearn/linear_model/logistic.py:1232: UserWarning: 'n_jobs' > 1 does not have any effect when 'solver' is set to 'liblinear'. Got 'n_jobs' = 2.\n",
      "  \" = {}.\".format(self.n_jobs))\n",
      "/Users/chadleonard/Springboard/anaconda3/lib/python3.7/site-packages/sklearn/linear_model/logistic.py:1232: UserWarning: 'n_jobs' > 1 does not have any effect when 'solver' is set to 'liblinear'. Got 'n_jobs' = 2.\n",
      "  \" = {}.\".format(self.n_jobs))\n"
     ]
    },
    {
     "name": "stdout",
     "output_type": "stream",
     "text": [
      "[CV]  clf__fit_intercept=False, clf__solver=liblinear, score=0.8940459446788561, total=  29.5s\n",
      "[CV] clf__fit_intercept=False, clf__solver=liblinear .................\n"
     ]
    },
    {
     "name": "stderr",
     "output_type": "stream",
     "text": [
      "/Users/chadleonard/Springboard/anaconda3/lib/python3.7/site-packages/sklearn/linear_model/logistic.py:1232: UserWarning: 'n_jobs' > 1 does not have any effect when 'solver' is set to 'liblinear'. Got 'n_jobs' = 2.\n",
      "  \" = {}.\".format(self.n_jobs))\n"
     ]
    },
    {
     "name": "stdout",
     "output_type": "stream",
     "text": [
      "[CV]  clf__fit_intercept=False, clf__solver=liblinear, score=0.9102203469292077, total=  48.7s\n",
      "[CV] clf__fit_intercept=False, clf__solver=liblinear .................\n"
     ]
    },
    {
     "name": "stderr",
     "output_type": "stream",
     "text": [
      "/Users/chadleonard/Springboard/anaconda3/lib/python3.7/site-packages/sklearn/linear_model/logistic.py:1232: UserWarning: 'n_jobs' > 1 does not have any effect when 'solver' is set to 'liblinear'. Got 'n_jobs' = 2.\n",
      "  \" = {}.\".format(self.n_jobs))\n"
     ]
    },
    {
     "name": "stdout",
     "output_type": "stream",
     "text": [
      "[CV]  clf__fit_intercept=False, clf__solver=liblinear, score=0.9104547585560244, total=  32.2s\n",
      "[CV] clf__fit_intercept=False, clf__solver=liblinear .................\n"
     ]
    },
    {
     "name": "stderr",
     "output_type": "stream",
     "text": [
      "/Users/chadleonard/Springboard/anaconda3/lib/python3.7/site-packages/sklearn/linear_model/logistic.py:1232: UserWarning: 'n_jobs' > 1 does not have any effect when 'solver' is set to 'liblinear'. Got 'n_jobs' = 2.\n",
      "  \" = {}.\".format(self.n_jobs))\n"
     ]
    },
    {
     "name": "stdout",
     "output_type": "stream",
     "text": [
      "[CV]  clf__fit_intercept=False, clf__solver=liblinear, score=0.9027191748710736, total=  42.0s\n",
      "[CV] clf__fit_intercept=False, clf__solver=sag .......................\n"
     ]
    },
    {
     "name": "stderr",
     "output_type": "stream",
     "text": [
      "/Users/chadleonard/Springboard/anaconda3/lib/python3.7/site-packages/sklearn/linear_model/sag.py:326: ConvergenceWarning: The max_iter was reached which means the coef_ did not converge\n",
      "  \"the coef_ did not converge\", ConvergenceWarning)\n"
     ]
    },
    {
     "name": "stdout",
     "output_type": "stream",
     "text": [
      "[CV]  clf__fit_intercept=False, clf__solver=sag, score=0.8105954055321144, total=  10.0s\n",
      "[CV] clf__fit_intercept=False, clf__solver=sag .......................\n"
     ]
    },
    {
     "name": "stderr",
     "output_type": "stream",
     "text": [
      "/Users/chadleonard/Springboard/anaconda3/lib/python3.7/site-packages/sklearn/linear_model/sag.py:326: ConvergenceWarning: The max_iter was reached which means the coef_ did not converge\n",
      "  \"the coef_ did not converge\", ConvergenceWarning)\n"
     ]
    },
    {
     "name": "stdout",
     "output_type": "stream",
     "text": [
      "[CV]  clf__fit_intercept=False, clf__solver=sag, score=0.8255977496483825, total=  10.0s\n",
      "[CV] clf__fit_intercept=False, clf__solver=sag .......................\n",
      "[CV]  clf__fit_intercept=False, clf__solver=liblinear, score=0.9123300515705579, total=  50.7s\n",
      "[CV] clf__fit_intercept=False, clf__solver=sag .......................\n"
     ]
    },
    {
     "name": "stderr",
     "output_type": "stream",
     "text": [
      "/Users/chadleonard/Springboard/anaconda3/lib/python3.7/site-packages/sklearn/linear_model/sag.py:326: ConvergenceWarning: The max_iter was reached which means the coef_ did not converge\n",
      "  \"the coef_ did not converge\", ConvergenceWarning)\n"
     ]
    },
    {
     "name": "stdout",
     "output_type": "stream",
     "text": [
      "[CV]  clf__fit_intercept=False, clf__solver=sag, score=0.8075480543834974, total=   9.9s\n",
      "[CV] clf__fit_intercept=False, clf__solver=sag .......................\n"
     ]
    },
    {
     "name": "stderr",
     "output_type": "stream",
     "text": [
      "/Users/chadleonard/Springboard/anaconda3/lib/python3.7/site-packages/sklearn/linear_model/sag.py:326: ConvergenceWarning: The max_iter was reached which means the coef_ did not converge\n",
      "  \"the coef_ did not converge\", ConvergenceWarning)\n"
     ]
    },
    {
     "name": "stdout",
     "output_type": "stream",
     "text": [
      "[CV]  clf__fit_intercept=False, clf__solver=sag, score=0.8021565869667135, total=   9.9s\n"
     ]
    },
    {
     "name": "stderr",
     "output_type": "stream",
     "text": [
      "/Users/chadleonard/Springboard/anaconda3/lib/python3.7/site-packages/sklearn/linear_model/sag.py:326: ConvergenceWarning: The max_iter was reached which means the coef_ did not converge\n",
      "  \"the coef_ did not converge\", ConvergenceWarning)\n"
     ]
    },
    {
     "name": "stdout",
     "output_type": "stream",
     "text": [
      "[CV]  clf__fit_intercept=False, clf__solver=sag, score=0.8204406938584153, total=   9.5s\n"
     ]
    },
    {
     "name": "stderr",
     "output_type": "stream",
     "text": [
      "[Parallel(n_jobs=2)]: Done  10 out of  10 | elapsed:  2.2min finished\n",
      "/Users/chadleonard/Springboard/anaconda3/lib/python3.7/site-packages/sklearn/linear_model/logistic.py:1232: UserWarning: 'n_jobs' > 1 does not have any effect when 'solver' is set to 'liblinear'. Got 'n_jobs' = 2.\n",
      "  \" = {}.\".format(self.n_jobs))\n"
     ]
    },
    {
     "name": "stdout",
     "output_type": "stream",
     "text": [
      "{'clf__fit_intercept': False, 'clf__solver': 'liblinear'}\n",
      "0.9059540553211439\n",
      "[0.91747055 0.82248139]\n",
      "[0.90595406 0.8132677 ]\n",
      "2018-11-02 19:26:57.816390\n"
     ]
    },
    {
     "name": "stderr",
     "output_type": "stream",
     "text": [
      "/Users/chadleonard/Springboard/anaconda3/lib/python3.7/site-packages/sklearn/utils/deprecation.py:122: FutureWarning: You are accessing a training score ('mean_train_score'), which will not be available by default any more in 0.21. If you need training scores, please set return_train_score=True\n",
      "  warnings.warn(*warn_args, **warn_kwargs)\n"
     ]
    }
   ],
   "source": [
    "# Logistic Regression Multi-class Classifier ==> class 0\n",
    "from sklearn.linear_model import LogisticRegression\n",
    "\n",
    "print (dt.datetime.now())\n",
    "pipe = Pipeline([\n",
    "       ('scaling', preprocessing.StandardScaler()),\n",
    "       #('pca', PCA(whiten=True)),\n",
    "       ('clf', LogisticRegression(multi_class='ovr', n_jobs=2, class_weight=weights)) \n",
    "    ])\n",
    "\n",
    "cv = model_selection.ShuffleSplit(n_splits=5, test_size=0.2)\n",
    "param_grid = { \"clf__fit_intercept\": [False]  , \"clf__solver\": ['liblinear', 'sag'] }\n",
    "pipe_est_cv = model_selection.GridSearchCV(pipe, param_grid=param_grid, cv=cv, scoring='accuracy', \\\n",
    "                                           verbose=3, n_jobs=2)\n",
    "\n",
    "pipe_est_cv.fit(X_train, y_train)\n",
    "pipe_est_cv_results = pipe_est_cv.cv_results_\n",
    "\n",
    "print(pipe_est_cv.best_params_)\n",
    "print(pipe_est_cv.best_score_)\n",
    "\n",
    "print(pipe_est_cv_results['mean_train_score'])\n",
    "print(pipe_est_cv_results['mean_test_score'])\n",
    "print (dt.datetime.now())"
   ]
  },
  {
   "cell_type": "code",
   "execution_count": 187,
   "metadata": {},
   "outputs": [
    {
     "name": "stdout",
     "output_type": "stream",
     "text": [
      "2018-11-02 16:11:25.852977\n",
      "561\n",
      "Fitting 5 folds for each of 1 candidates, totalling 5 fits\n",
      "[CV] clf__max_depth=10, clf__n_estimators=500 ........................\n",
      "[CV] clf__max_depth=10, clf__n_estimators=500 ........................\n",
      "[CV]  clf__max_depth=10, clf__n_estimators=500, score=0.7121425222691046, total=  21.3s\n",
      "[CV]  clf__max_depth=10, clf__n_estimators=500, score=0.7149554617909049, total=  21.3s\n",
      "[CV] clf__max_depth=10, clf__n_estimators=500 ........................\n",
      "[CV] clf__max_depth=10, clf__n_estimators=500 ........................\n",
      "[CV]  clf__max_depth=10, clf__n_estimators=500, score=0.710267229254571, total=  19.5s\n",
      "[CV]  clf__max_depth=10, clf__n_estimators=500, score=0.710267229254571, total=  19.5s\n",
      "[CV] clf__max_depth=10, clf__n_estimators=500 ........................\n",
      "[CV]  clf__max_depth=10, clf__n_estimators=500, score=0.7069854664791374, total=  19.9s\n"
     ]
    },
    {
     "name": "stderr",
     "output_type": "stream",
     "text": [
      "[Parallel(n_jobs=2)]: Done   5 out of   5 | elapsed:  1.1min finished\n"
     ]
    },
    {
     "name": "stdout",
     "output_type": "stream",
     "text": [
      "{'clf__max_depth': 10, 'clf__n_estimators': 500}\n",
      "0.7109235818096578\n",
      "[0.79915607]\n",
      "[0.71092358]\n",
      "2018-11-02 16:12:56.086487\n"
     ]
    },
    {
     "name": "stderr",
     "output_type": "stream",
     "text": [
      "/Users/chadleonard/Springboard/anaconda3/lib/python3.7/site-packages/sklearn/utils/deprecation.py:122: FutureWarning: You are accessing a training score ('mean_train_score'), which will not be available by default any more in 0.21. If you need training scores, please set return_train_score=True\n",
      "  warnings.warn(*warn_args, **warn_kwargs)\n"
     ]
    }
   ],
   "source": [
    "print (dt.datetime.now())\n",
    "pipe = Pipeline([\n",
    "       #('scaling', preprocessing.StandardScaler()),\n",
    "       #('pca', PCA(whiten=True)),\n",
    "       ('clf', RandomForestClassifier(random_state=0, n_jobs=2,class_weight=weights )) \n",
    "    ])\n",
    "\n",
    "\n",
    "print(len(X_train.columns.values))\n",
    "\n",
    "cv = model_selection.ShuffleSplit(n_splits=5, test_size=0.2)\n",
    "param_grid = { \"clf__n_estimators\": [500] , \"clf__max_depth\": [10]} #, \"pca__n_components\": [5, 10]}\n",
    "pipe_est_cv = model_selection.GridSearchCV(pipe, param_grid=param_grid, cv=cv, \\\n",
    "                                           scoring='accuracy', verbose=3, n_jobs=2)\n",
    "\n",
    "pipe_est_cv.fit(X_train, y_train)\n",
    "pipe_est_cv_results = pipe_est_cv.cv_results_\n",
    "\n",
    "print(pipe_est_cv.best_params_)\n",
    "print(pipe_est_cv.best_score_)\n",
    "\n",
    "print(pipe_est_cv_results['mean_train_score'])\n",
    "print(pipe_est_cv_results['mean_test_score'])\n",
    "print (dt.datetime.now())"
   ]
  },
  {
   "cell_type": "code",
   "execution_count": 188,
   "metadata": {},
   "outputs": [
    {
     "data": {
      "text/plain": [
       "561"
      ]
     },
     "execution_count": 188,
     "metadata": {},
     "output_type": "execute_result"
    }
   ],
   "source": [
    "len(X_train.columns.values)"
   ]
  },
  {
   "cell_type": "code",
   "execution_count": null,
   "metadata": {},
   "outputs": [],
   "source": []
  }
 ],
 "metadata": {
  "kernelspec": {
   "display_name": "Python 3",
   "language": "python",
   "name": "python3"
  },
  "language_info": {
   "codemirror_mode": {
    "name": "ipython",
    "version": 3
   },
   "file_extension": ".py",
   "mimetype": "text/x-python",
   "name": "python",
   "nbconvert_exporter": "python",
   "pygments_lexer": "ipython3",
   "version": "3.7.0"
  }
 },
 "nbformat": 4,
 "nbformat_minor": 2
}
