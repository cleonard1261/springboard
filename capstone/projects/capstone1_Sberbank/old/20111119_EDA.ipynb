{
 "cells": [
  {
   "cell_type": "code",
   "execution_count": 1,
   "metadata": {},
   "outputs": [
    {
     "name": "stderr",
     "output_type": "stream",
     "text": [
      "/Users/chadleonard/Springboard/anaconda3/lib/python3.7/site-packages/sklearn/ensemble/weight_boosting.py:29: DeprecationWarning: numpy.core.umath_tests is an internal NumPy module and should not be imported. It will be removed in a future NumPy release.\n",
      "  from numpy.core.umath_tests import inner1d\n"
     ]
    }
   ],
   "source": [
    "import pandas as pd\n",
    "import os \n",
    "import numpy as np\n",
    "import seaborn as sns\n",
    "import matplotlib.pyplot as plt\n",
    "from collections import defaultdict\n",
    "from sklearn.pipeline import Pipeline\n",
    "from sklearn import preprocessing, model_selection\n",
    "from sklearn.metrics import roc_curve, auc\n",
    "from sklearn.decomposition import PCA\n",
    "from sklearn.ensemble import RandomForestClassifier\n",
    "from sklearn.feature_selection import SelectFromModel\n",
    "from sklearn.linear_model import LogisticRegression\n",
    "from scipy.stats import chisquare\n",
    "import csv\n",
    "from xgboost import XGBClassifier\n",
    "from sklearn.feature_selection import mutual_info_classif, f_classif, SelectKBest\n",
    "\n",
    "import datetime as dt\n",
    "\n",
    "import warnings\n",
    "warnings.filterwarnings(\"ignore\", category=DeprecationWarning) \n",
    "\n",
    "np.seterr(divide='ignore', invalid='ignore')\n",
    "\n",
    "%matplotlib inline \n"
   ]
  },
  {
   "cell_type": "code",
   "execution_count": 2,
   "metadata": {},
   "outputs": [],
   "source": [
    "def fix_num_cols(dframe, skiplist, dropcol=1):\n",
    "    n = 0\n",
    "    m = 0\n",
    "    df_tmp = dframe.copy()\n",
    "    for col in dframe.columns.values:\n",
    "        if col not in skiplist:\n",
    "            if isinstance(df_tmp[col].dtype,((object))):\n",
    "                try:\n",
    "                    df_tmp[col].fillna(df_tmp[col].median(), inplace=True)\n",
    "                except:\n",
    "                    if dropcol:\n",
    "                        df_tmp.drop(col, inplace=True, axis=1)\n",
    "                    else:\n",
    "                        df_tmp[col].fillna('NUL', inplace=True)\n",
    "    return df_tmp"
   ]
  },
  {
   "cell_type": "code",
   "execution_count": 3,
   "metadata": {},
   "outputs": [],
   "source": [
    "def fix_data(df_, skip):\n",
    "    catlist = []\n",
    "    rest = []\n",
    "    df_temp = df_.copy()\n",
    "    \n",
    "    # create 2 new lists: one for categorical data and the other for numerical\n",
    "    with open('cols.csv', 'r') as csvfile:\n",
    "        file = csv.reader(csvfile, delimiter=' ')\n",
    "        for row in file:\n",
    "            cl = row[0].split(\",\")[1].replace('\"','').replace(\"'\",'').replace('(','')\n",
    "            if cl not in skip:\n",
    "                tp = row[0].split(\",\")[0]\n",
    "                if tp == 'cat':\n",
    "                    catlist.append(cl)\n",
    "                else:\n",
    "                    rest.append(cl)\n",
    "    # cat data turned into dummy variables and old cat column dropped\n",
    "    df_cat = df_temp[catlist].copy()           \n",
    "    for col in catlist:\n",
    "        df_cat = pd.merge(df_cat, pd.get_dummies(df_cat[col].astype('category').cat.codes, prefix=col)\\\n",
    "                             ,left_index=True, right_index=True)\n",
    "        df_cat.drop([col],inplace=True, axis=1)\n",
    "        \n",
    "    # continous numeric data scaled ... \n",
    "    scaler = preprocessing.StandardScaler()\n",
    "    df_ = fix_num_cols(df_temp[rest],skip)\n",
    "    scaler.fit(df_)\n",
    "    df_new = pd.merge(pd.DataFrame(scaler.transform(df_), columns=rest), \\\n",
    "                      df_cat,left_index=True, right_index=True)\n",
    "    df_new['price_cat'] = df_temp['price_cat']\n",
    "    \n",
    "    return (df_new, rest)\n"
   ]
  },
  {
   "cell_type": "code",
   "execution_count": 4,
   "metadata": {},
   "outputs": [
    {
     "data": {
      "text/plain": [
       "53"
      ]
     },
     "execution_count": 4,
     "metadata": {},
     "output_type": "execute_result"
    }
   ],
   "source": [
    "km_list = ['additional_education_km', 'basketball_km', 'big_church_km', 'big_market_km', 'big_road1_km', \\\n",
    "           'big_road2_km', 'bulvar_ring_km', 'bus_terminal_avto_km', 'catering_km', 'cemetery_km', \\\n",
    "           'church_synagogue_km', 'detention_facility_km', 'exhibition_km', 'fitness_km', 'green_zone_km', \\\n",
    "           'hospice_morgue_km', 'ice_rink_km', 'incineration_km', 'industrial_km', 'kindergarten_km', 'kremlin_km', \\\n",
    "           'market_shop_km', 'metro_km_avto', 'metro_km_walk', 'mkad_km', 'mosque_km', 'museum_km',\\\n",
    "           'nuclear_reactor_km', 'office_km', 'oil_chemistry_km', 'park_km', 'power_transmission_line_km',\\\n",
    "           'preschool_km', 'public_healthcare_km', 'public_transport_station_km', 'radiation_km', 'railroad_km', \\\n",
    "           'railroad_station_avto_km', 'railroad_station_walk_km', 'sadovoe_km', 'school_km', 'shopping_centers_km', \\\n",
    "           'stadium_km', 'swim_pool_km', 'theater_km', 'thermal_power_plant_km', 'ts_km', 'ttk_km', \\\n",
    "           'university_km', 'water_km', 'water_treatment_km', 'workplaces_km', 'zd_vokzaly_avto_km']\n",
    "len(km_list)"
   ]
  },
  {
   "cell_type": "code",
   "execution_count": 5,
   "metadata": {},
   "outputs": [
    {
     "data": {
      "text/plain": [
       "162"
      ]
     },
     "execution_count": 5,
     "metadata": {},
     "output_type": "execute_result"
    }
   ],
   "source": [
    "ig_list = ['ID_railroad_station_walk', 'additional_education_km', 'area_m', 'basketball_km', 'big_church_km', \\\n",
    "           'big_market_km', 'big_road1_km', 'big_road2_km', 'build_count_1946-1970', 'build_count_1971-1995',\\\n",
    "           'build_count_after_1995', 'build_count_block', 'build_count_brick', 'build_count_panel', 'bulvar_ring_km',\\\n",
    "           'bus_terminal_avto_km', 'cafe_avg_price_1000', 'cafe_avg_price_1500', 'cafe_avg_price_2000', \\\n",
    "           'cafe_avg_price_3000', 'cafe_avg_price_5000', 'cafe_sum_1000_min_price_avg',\\\n",
    "           'cafe_sum_1500_max_price_avg', 'cafe_sum_1500_min_price_avg', 'cafe_sum_2000_max_price_avg',\\\n",
    "           'cafe_sum_2000_min_price_avg', 'cafe_sum_3000_max_price_avg', 'cafe_sum_3000_min_price_avg',\\\n",
    "           'cafe_sum_5000_max_price_avg', 'cafe_sum_5000_min_price_avg', 'catering_km', 'cemetery_km', \\\n",
    "           'church_synagogue_km', 'detention_facility_km', 'exhibition_km', 'fitness_km', 'green_part_1000',\\\n",
    "           'green_part_1500', 'green_part_2000', 'green_part_3000', 'green_part_500', 'green_part_5000', \\\n",
    "           'green_zone_km', 'green_zone_part', 'hospice_morgue_km', 'ice_rink_km', 'incineration_km',\\\n",
    "           'indust_part', 'industrial_km', 'kindergarten_km', 'kremlin_km', 'life_sq', 'market_shop_km',\\\n",
    "           'metro_km_avto', 'metro_km_walk', 'metro_min_avto', 'metro_min_walk', 'mkad_km', 'mosque_km',\\\n",
    "           'museum_km', 'nuclear_reactor_km', 'num_room', 'office_km', 'oil_chemistry_km', 'park_km', \\\n",
    "           'power_transmission_line_km', 'preschool_km', 'preschool_quota', 'prom_part_1000', 'prom_part_1500',\\\n",
    "           'prom_part_2000', 'prom_part_3000', 'prom_part_5000', 'public_healthcare_km', \\\n",
    "           'public_transport_station_km', 'public_transport_station_min_walk', 'radiation_km', 'railroad_km', \\\n",
    "           'railroad_station_avto_km', 'railroad_station_avto_min', 'railroad_station_walk_km', \\\n",
    "           'railroad_station_walk_min', 'raion_build_count_with_builddate_info', \\\n",
    "           'raion_build_count_with_material_info', 'sadovoe_km', 'school_km', 'school_quota', \\\n",
    "           'shopping_centers_km', 'stadium_km', 'swim_pool_km', 'theater_km', 'thermal_power_plant_km',\\\n",
    "           'ts_km', 'ttk_km', 'university_km', 'water_km', 'water_treatment_km', 'workplaces_km', \\\n",
    "           'zd_vokzaly_avto_km', '0_13_all', '0_13_female', '0_13_male', '0_17_all', '0_17_female', \\\n",
    "           '0_17_male', '0_6_all', '0_6_female', '0_6_male', '16_29_all', '16_29_female', '16_29_male',\\\n",
    "           '7_14_all', '7_14_female', '7_14_male', 'ID_metro', 'ID_railroad_station_avto', 'cafe_count_1500',\\\n",
    "           'cafe_count_2000', 'cafe_count_2000_price_1000', 'cafe_count_3000', 'cafe_count_3000_price_1000', \\\n",
    "           'cafe_count_3000_price_1500', 'cafe_count_3000_price_2500', 'cafe_count_3000_price_500', \\\n",
    "           'cafe_count_5000', 'cafe_count_5000_price_1000', 'cafe_count_5000_price_1500', \\\n",
    "           'cafe_count_5000_price_2500', 'cafe_count_5000_price_500', 'children_preschool', \\\n",
    "           'children_school', 'ekder_all', 'ekder_female', 'ekder_male', 'female_f', 'full_all', \\\n",
    "           'full_sq', 'male_f', 'office_count_5000', 'office_sqm_1500', 'office_sqm_2000', \\\n",
    "           'office_sqm_3000', 'office_sqm_5000', 'raion_popul', 'sport_count_3000', 'sport_count_5000',\\\n",
    "           'trc_count_3000', 'trc_count_5000', 'trc_sqm_1000', 'trc_sqm_1500', 'trc_sqm_2000', 'trc_sqm_3000',\\\n",
    "           'trc_sqm_5000', 'work_all', 'work_female', 'work_male', 'young_all', 'young_female', 'young_male',\\\n",
    "           'diff_sq', 'plus_sq', 'km_sum']\n",
    "len(ig_list)"
   ]
  },
  {
   "cell_type": "code",
   "execution_count": 6,
   "metadata": {},
   "outputs": [
    {
     "data": {
      "text/plain": [
       "['ID_railroad_terminal',\n",
       " 'ID_railroad_station_walk',\n",
       " 'ID_big_road1',\n",
       " 'ID_big_road2',\n",
       " 'ID_bus_terminal',\n",
       " 'ID_metro',\n",
       " 'ID_railroad_station_avto']"
      ]
     },
     "execution_count": 6,
     "metadata": {},
     "output_type": "execute_result"
    }
   ],
   "source": [
    "ID_list = ['ID_railroad_terminal' ,\n",
    "'ID_railroad_station_walk' ,\n",
    "'ID_big_road1' ,\n",
    "'ID_big_road2' ,\n",
    "'ID_bus_terminal' ,\n",
    "'ID_metro' ,\n",
    "'ID_railroad_station_avto' ]\n",
    "\n",
    "ID_list"
   ]
  },
  {
   "cell_type": "code",
   "execution_count": 7,
   "metadata": {},
   "outputs": [
    {
     "ename": "NameError",
     "evalue": "name 'df_train' is not defined",
     "output_type": "error",
     "traceback": [
      "\u001b[0;31m---------------------------------------------------------------------------\u001b[0m",
      "\u001b[0;31mNameError\u001b[0m                                 Traceback (most recent call last)",
      "\u001b[0;32m<ipython-input-7-4c82db493dda>\u001b[0m in \u001b[0;36m<module>\u001b[0;34m()\u001b[0m\n\u001b[1;32m      4\u001b[0m         \u001b[0mmin_price_avg_list\u001b[0m\u001b[0;34m.\u001b[0m\u001b[0mappend\u001b[0m\u001b[0;34m(\u001b[0m\u001b[0mcol\u001b[0m\u001b[0;34m)\u001b[0m\u001b[0;34m\u001b[0m\u001b[0m\n\u001b[1;32m      5\u001b[0m \u001b[0mmin_price_avg_list\u001b[0m\u001b[0;34m\u001b[0m\u001b[0m\n\u001b[0;32m----> 6\u001b[0;31m \u001b[0mdf_train\u001b[0m\u001b[0;34m[\u001b[0m\u001b[0;34m'cafe_sum_min_price_avg_ALL'\u001b[0m\u001b[0;34m]\u001b[0m \u001b[0;34m=\u001b[0m \u001b[0mpd\u001b[0m\u001b[0;34m.\u001b[0m\u001b[0mSeries\u001b[0m\u001b[0;34m(\u001b[0m\u001b[0;34m[\u001b[0m\u001b[0msum\u001b[0m\u001b[0;34m(\u001b[0m\u001b[0mdf_train\u001b[0m\u001b[0;34m.\u001b[0m\u001b[0mloc\u001b[0m\u001b[0;34m[\u001b[0m\u001b[0mi\u001b[0m\u001b[0;34m,\u001b[0m \u001b[0mmin_price_avg_list\u001b[0m\u001b[0;34m]\u001b[0m\u001b[0;34m)\u001b[0m                                                    \u001b[0;32mfor\u001b[0m \u001b[0mi\u001b[0m \u001b[0;32min\u001b[0m \u001b[0mrange\u001b[0m\u001b[0;34m(\u001b[0m\u001b[0mdf_train\u001b[0m\u001b[0;34m.\u001b[0m\u001b[0mshape\u001b[0m\u001b[0;34m[\u001b[0m\u001b[0;36m0\u001b[0m\u001b[0;34m]\u001b[0m\u001b[0;34m)\u001b[0m\u001b[0;34m]\u001b[0m\u001b[0;34m)\u001b[0m\u001b[0;34m\u001b[0m\u001b[0m\n\u001b[0m",
      "\u001b[0;31mNameError\u001b[0m: name 'df_train' is not defined"
     ]
    }
   ],
   "source": [
    "min_price_avg_list = []\n",
    "for col in ig_list:\n",
    "    if '_min_price_avg' in col:\n",
    "        min_price_avg_list.append(col)\n",
    "min_price_avg_list\n",
    "df_train['cafe_sum_min_price_avg_ALL'] = pd.Series([sum(df_train.loc[i, min_price_avg_list])\\\n",
    "                                                    for i in range(df_train.shape[0])])"
   ]
  },
  {
   "cell_type": "code",
   "execution_count": null,
   "metadata": {},
   "outputs": [],
   "source": [
    "max_price_avg_list = []\n",
    "for col in ig_list:\n",
    "    if '_max_price_avg' in col:\n",
    "        max_price_avg_list.append(col)\n",
    "max_price_avg_list\n",
    "df_train['cafe_sum_max_price_avg_ALL'] = pd.Series([sum(df_train.loc[i, max_price_avg_list])\\\n",
    "                                                    for i in range(df_train.shape[0])])"
   ]
  },
  {
   "cell_type": "code",
   "execution_count": 95,
   "metadata": {},
   "outputs": [
    {
     "name": "stdout",
     "output_type": "stream",
     "text": [
      "731\n"
     ]
    }
   ],
   "source": [
    "new_xlist = []\n",
    "for col in x_list:\n",
    "    if col not in max_price_avg_list + min_price_avg_list:\n",
    "        new_xlist.append(col)\n",
    "        \n",
    "print(len(new_xlist))"
   ]
  },
  {
   "cell_type": "code",
   "execution_count": 22,
   "metadata": {},
   "outputs": [
    {
     "name": "stdout",
     "output_type": "stream",
     "text": [
      "2018-11-20 17:08:55.937226\n",
      "[(0.1765988731256436, 'prom_part_sum')]\n",
      "2018-11-20 17:09:52.687095\n"
     ]
    }
   ],
   "source": [
    "# information gain --> want to verify that 1.0 is the highest value for info gain... \n",
    "# answer is 1.05 but that's probably just a rounding error. For all intents and purposes it's 1.0 ...\n",
    "print (dt.datetime.now())\n",
    "colz = ['prom_part_1000', 'prom_part_1500',\\\n",
    "           'prom_part_2000', 'prom_part_3000', 'prom_part_5000']\n",
    "colx = ['prom_part_sum']\n",
    "df_train['prom_part_sum'] = pd.Series([sum(df_train.loc[i, colz]) for i in range(df_train.shape[0])])\n",
    "#colx = ['price_cat','diff_sq', 'plus_sq', 'cafe_sum_min_price_avg_ALL', 'cafe_sum_max_price_avg_ALL']\n",
    "res = list(zip(mutual_info_classif(df_train[colx], df_train['price_cat']), colx))\n",
    "print(sorted(res,reverse=True))\n",
    "print (dt.datetime.now())"
   ]
  },
  {
   "cell_type": "code",
   "execution_count": 84,
   "metadata": {},
   "outputs": [
    {
     "data": {
      "text/plain": [
       "1343"
      ]
     },
     "execution_count": 84,
     "metadata": {},
     "output_type": "execute_result"
    }
   ],
   "source": [
    "x_list = [col for col in list(df_train.columns) if col not in skip]\n",
    "len(x_list)"
   ]
  },
  {
   "cell_type": "code",
   "execution_count": 10,
   "metadata": {},
   "outputs": [
    {
     "name": "stdout",
     "output_type": "stream",
     "text": [
      "2018-11-21 07:35:22.022139\n",
      "/Users/chadleonard/Springboard/work/springboard/capstone/projects/capstone1_Sberbank/../../../data/all/\n",
      "2018-11-21 07:36:13.730565\n"
     ]
    }
   ],
   "source": [
    "if __name__ == \"__main__\":\n",
    "    print (dt.datetime.now())\n",
    "    skip = ['price_cat','id','timestamp','price_doc']\n",
    "    dir_path = os.getcwd() + '/../../../data/all/'\n",
    "    print (dir_path)\n",
    "    df = pd.read_csv(dir_path + 'train.csv')\n",
    "    df_macro = pd.read_csv(dir_path + 'macro.csv')\n",
    "\n",
    "    df['price_length'] = [7.5 if cat > 6e6 and cat < 1e7 else len(str(cat)) for cat in df['price_doc'] ]    \n",
    "    df['price_length'] = [l if l < 8 else 8 for l in df['price_length']]    \n",
    "    df['price_cat'] = df['price_length'].astype('category').cat.codes    \n",
    "    df['quarter'] = df['timestamp'].apply(lambda x: pd.Timestamp(x).quarter)\n",
    "    \n",
    "    df.loc[df.price_cat == 4, 'price_cat'] = 3\n",
    "    df_eda = pd.merge(df, df_macro, how='inner', on='timestamp', left_on=None, right_on=None,\n",
    "         left_index=False, right_index=False, sort=True,\n",
    "         suffixes=('_x', '_y'), copy=True, indicator=False,\n",
    "         validate=None)\n",
    "    \n",
    "    null_yr = 9999.0\n",
    "    yr = dt.datetime.now().year\n",
    "    # take care of bad dates, dates too old, too far out into the future, or NaN. Set them all to 9999.0\n",
    "    for i in df_eda['build_year'].index:\n",
    "        if df_eda.loc[i, 'build_year'] < 1700 \\\n",
    "                or np.isnan(df_eda.loc[i, 'build_year']) \\\n",
    "                or df_eda.loc[i, 'build_year'] > yr:\n",
    "            df_eda.loc[i, 'build_year'] = null_yr\n",
    "\n",
    "    df_eda.drop(['price_length','id', 'timestamp'], inplace=True, axis=1)\n",
    "    df_eda.loc[df_eda[df_eda['state'] == 33.0].index, 'state'] = 3.0\n",
    "    df_eda['diff_sq'] = df_eda['full_sq'] - df_eda['kitch_sq']\n",
    "    df_eda['plus_sq'] = df_eda['full_sq'] + df_eda['life_sq'] \n",
    "    df_eda['km_sum'] = pd.Series([sum(df_eda.loc[i, km_list]) for i in range(df_eda.shape[0])])\n",
    "\n",
    "    df_train, rest = fix_data(df_eda, skip)\n",
    "    \n",
    "    x_list = [col for col in list(df_train.columns) if col not in skip]\n",
    "    \n",
    "    print (dt.datetime.now())"
   ]
  },
  {
   "cell_type": "code",
   "execution_count": 11,
   "metadata": {},
   "outputs": [
    {
     "data": {
      "text/plain": [
       "1339"
      ]
     },
     "execution_count": 11,
     "metadata": {},
     "output_type": "execute_result"
    }
   ],
   "source": [
    "len(x_list)"
   ]
  },
  {
   "cell_type": "code",
   "execution_count": 41,
   "metadata": {},
   "outputs": [],
   "source": [
    "# set all outliers greater than 3 (abs value) std devs from the mean to 3 or -3, respectively.\n",
    "for col in rest:\n",
    "    iz = df_train.loc[df_train[col] > 3, col].index\n",
    "    iy = df_train.loc[df_train[col] < -3, col].index\n",
    "    df_train.loc[iz, col] = 3.0\n",
    "    df_train.loc[iy, col] = -3.0"
   ]
  },
  {
   "cell_type": "code",
   "execution_count": 10,
   "metadata": {},
   "outputs": [
    {
     "name": "stdout",
     "output_type": "stream",
     "text": [
      "156\n"
     ]
    }
   ],
   "source": [
    "ig_list = []\n",
    "for l in res:\n",
    "    if l[0] >= .1:\n",
    "    #if l[0] >= .2:\n",
    "        ig_list.append(l[1])\n",
    "        \n",
    "print(len(ig_list))"
   ]
  },
  {
   "cell_type": "code",
   "execution_count": 14,
   "metadata": {},
   "outputs": [
    {
     "data": {
      "text/plain": [
       "(10264, 1339)"
      ]
     },
     "execution_count": 14,
     "metadata": {},
     "output_type": "execute_result"
    }
   ],
   "source": [
    "#x_list = ig_list\n",
    "X_train, X_test, y_train, y_test = model_selection.train_test_split(df_train.loc[idx_list, x_list], \\\n",
    "                                                                df_train.loc[idx_list, 'price_cat'], test_size=0.3)\n",
    "X_train.shape"
   ]
  },
  {
   "cell_type": "code",
   "execution_count": 74,
   "metadata": {},
   "outputs": [
    {
     "data": {
      "text/plain": [
       "(30471, 1344)"
      ]
     },
     "execution_count": 74,
     "metadata": {},
     "output_type": "execute_result"
    }
   ],
   "source": [
    "df_train.shape"
   ]
  },
  {
   "cell_type": "code",
   "execution_count": 15,
   "metadata": {},
   "outputs": [
    {
     "name": "stderr",
     "output_type": "stream",
     "text": [
      "/Users/chadleonard/Springboard/anaconda3/lib/python3.7/site-packages/sklearn/feature_selection/univariate_selection.py:113: UserWarning: Features [ 144  355  443  622  645  649  838  846  849  850  854  855  856  859\n",
      "  862  909 1153 1177 1190 1199 1202 1204 1306 1312 1319 1322 1327 1328\n",
      " 1329 1332 1335] are constant.\n",
      "  UserWarning)\n"
     ]
    },
    {
     "name": "stdout",
     "output_type": "stream",
     "text": [
      "after transform:              0         1         2         3         4         5         6   \\\n",
      "0     -0.573194 -0.486942 -1.098719 -0.411000 -0.858599 -0.606832 -0.415409   \n",
      "1     -0.666008 -0.335458 -0.900141 -0.367530 -0.738967 -0.935876 -0.381212   \n",
      "2      0.193925  0.612701  0.580736  0.988028  0.956019  0.476411  0.188508   \n",
      "3      0.141843  0.539300  0.586753  1.590874  0.993931  0.509350  0.592347   \n",
      "4      1.989855  2.420513  1.576572 -0.769783  2.036549  1.639480  3.130781   \n",
      "5      2.111069  2.610440  1.528059  2.968344  2.119274  1.276311  2.860829   \n",
      "6      1.989855  2.420513  1.576572 -0.769783  2.036549  1.639480  3.130781   \n",
      "7     -0.181883 -0.038692 -0.451330 -0.159060  0.388005 -0.728355  0.037833   \n",
      "8     -0.646126 -0.662453 -0.582857 -0.489278 -0.946327 -0.621807 -0.480438   \n",
      "9     -0.797055 -0.601601 -1.437017 -0.215297 -0.891702 -0.826477 -0.627587   \n",
      "10     0.193925  0.612701  0.580736  0.988028  0.956019  0.476411  0.188508   \n",
      "11    -0.811470 -0.436490 -0.916028 -0.158455 -0.899604 -0.898134  0.070426   \n",
      "12    -0.571618 -0.389798 -0.373461  0.241024 -0.417618 -0.402653 -0.280008   \n",
      "13    -0.659354  0.198141 -0.833404  0.340811  0.079167 -0.477597  0.027985   \n",
      "14    -0.481889 -0.132332 -0.743003 -0.113986 -1.078622 -0.467312 -0.434845   \n",
      "15    -0.527212 -0.395803 -0.189151 -0.655967  0.899541 -0.504269 -0.320292   \n",
      "16    -0.012433  0.309590  0.200596  0.749016  0.155902  0.051577  0.077961   \n",
      "17    -0.531198 -0.434179 -0.834688 -0.455676  0.172005 -0.880420 -0.274174   \n",
      "18    -0.279621 -0.557118 -0.206394 -0.390073 -1.087328 -0.490352 -0.596095   \n",
      "19    -0.788630 -0.601753 -1.525666 -0.704742 -0.783388 -0.704128 -0.529982   \n",
      "20     0.732541 -0.705715  1.033661 -0.637620  0.930514  1.118979 -0.685038   \n",
      "21    -0.689279 -0.657546 -0.710725 -0.579321  0.055869 -0.470869 -0.608879   \n",
      "22    -0.393282 -0.413180 -0.661417 -0.289614 -0.873365 -0.633820 -0.699155   \n",
      "23    -0.156056  0.360801  0.127197 -0.104241  0.512486 -0.961810 -0.383104   \n",
      "24    -0.502526 -0.709329 -0.575817 -0.670961 -0.818103 -0.249104 -0.566432   \n",
      "25    -0.854004 -0.052915 -0.714663 -0.624709 -0.442627 -0.466606 -0.219416   \n",
      "26     1.786045  1.916248  1.318487  0.880279  1.846471  0.871642  1.779347   \n",
      "27    -0.665355 -0.713139 -1.490619 -0.804804 -0.701320 -0.863338 -0.738900   \n",
      "28    -0.042255  0.383434  0.120270 -0.373800  0.608039 -0.774521 -0.022315   \n",
      "29    -0.406522 -0.457553 -0.754508 -0.457422  0.249788 -0.698263  0.016781   \n",
      "...         ...       ...       ...       ...       ...       ...       ...   \n",
      "10234 -0.416424 -0.287947 -0.531634  0.616836 -0.407321 -0.184372  0.226349   \n",
      "10235  0.964072 -0.250317  1.164549  0.752696  1.121932  1.409792 -0.307882   \n",
      "10236 -0.670227 -0.719194 -1.712811 -0.696630 -0.957765 -0.823495 -0.574069   \n",
      "10237 -0.463702 -0.245418  0.446508 -0.625612 -0.053887 -0.682049 -0.420182   \n",
      "10238 -0.247207 -0.363526 -0.470634 -0.257098 -0.048392 -0.731946 -0.366987   \n",
      "10239 -0.127041 -0.722695  0.300066 -0.729441 -0.617236 -0.274626 -0.527815   \n",
      "10240 -0.492535 -0.251795 -0.326629 -0.184240 -1.207722 -0.086393 -0.347732   \n",
      "10241  0.078505  0.381080  0.501368  1.378405 -0.208664  0.348783  0.868463   \n",
      "10242  0.661242 -0.380832  0.709744 -0.746163  0.950724 -0.187943  0.236776   \n",
      "10243  0.193925  0.612701  0.580736  0.988028  0.956019  0.476411  0.188508   \n",
      "10244 -0.792766 -0.541236 -1.039395 -0.560173  0.071109 -0.718329 -0.366170   \n",
      "10245 -0.639606 -0.623277 -0.746692 -0.298973 -0.672004 -0.927815 -0.459425   \n",
      "10246 -0.493323 -0.306436 -0.194828 -0.402763 -0.360604  0.150704 -0.700803   \n",
      "10247 -0.664109 -0.241846 -0.535793 -0.539795 -0.679971 -0.310959 -0.749050   \n",
      "10248 -0.813885 -0.421357 -0.880188 -0.147831 -0.815293 -0.739107 -0.551786   \n",
      "10249 -0.849414 -0.700791 -1.698075 -0.760840 -1.047573 -0.909644 -0.286485   \n",
      "10250 -0.670227 -0.719194 -1.712811 -0.696630 -0.957765 -0.823495 -0.574069   \n",
      "10251 -0.686548 -0.303532 -0.605700 -0.489116 -0.362341 -0.662684 -0.444144   \n",
      "10252 -0.264618 -0.533177 -0.065294  0.381850 -0.586664 -0.090877 -0.107354   \n",
      "10253 -0.645470  0.230730 -0.382547 -0.492844 -0.519779 -0.463844 -0.467524   \n",
      "10254  2.107542  2.581806  1.525926  2.921274  2.109098  1.268456  2.846333   \n",
      "10255 -0.723119 -0.277424 -0.750039 -0.186779 -0.651035 -0.753673 -0.421016   \n",
      "10256 -0.722655 -0.167949 -0.908628 -0.651776  0.062429 -0.656361 -0.398650   \n",
      "10257  0.990422 -0.205921  1.180948  0.918385  1.138356  1.432300 -0.215559   \n",
      "10258 -0.635307 -0.364479 -0.540073 -0.677269 -0.379037 -0.775413 -0.629349   \n",
      "10259  0.078505  0.381080  0.501368  1.378405 -0.208664  0.348783  0.868463   \n",
      "10260 -0.644820 -0.323465 -0.326821 -0.222166 -1.181811 -0.161945 -0.365128   \n",
      "10261 -0.843891 -0.581422 -1.685995 -0.801550 -1.055835 -0.705079 -0.184397   \n",
      "10262  0.506631 -0.272781  0.899050 -0.129217  0.719870  0.831938 -0.344474   \n",
      "10263  0.371656 -0.053386  0.813908 -0.716304  0.621351  0.719813 -0.523566   \n",
      "\n",
      "             7         8         9  ...         30        31        32  \\\n",
      "0     -1.067861  0.204618 -0.489480 ...   1.420151  1.451731 -0.400956   \n",
      "1     -0.841058 -0.225291 -0.348473 ...   0.571054  0.782068  0.207699   \n",
      "2      0.547513 -0.074823  0.331294 ...  -1.021002 -0.708474 -0.857446   \n",
      "3      0.552627 -0.074823  0.222999 ...  -1.021002 -0.622065 -0.857446   \n",
      "4      1.550489 -0.031832  1.659927 ...  -1.074070 -1.140515 -1.009610   \n",
      "5      1.505664 -0.698191  1.753546 ...  -1.074070 -1.140515 -1.009610   \n",
      "6      1.550489 -0.332768  1.659927 ...  -1.074070 -1.140515 -1.009610   \n",
      "7     -0.489208 -0.096319 -0.030861 ...   0.464917  0.630853  0.664190   \n",
      "8     -0.531085 -0.311273 -0.530829 ...   0.783328  0.587649 -0.400956   \n",
      "9     -1.408301  0.204618 -0.534153 ...   1.314014  1.883772  2.642316   \n",
      "10     0.547513 -0.074823  0.331294 ...  -1.021002 -0.708474 -0.857446   \n",
      "11    -0.828476  0.999949 -0.453531 ...   1.048671  0.976486  0.207699   \n",
      "12    -0.283788 -0.311273 -0.376219 ...  -0.012700 -0.319637 -0.248792   \n",
      "13    -0.862866 -0.289778  0.031108 ...  -0.012700  0.242017 -0.096628   \n",
      "14    -0.764717 -0.117814 -0.508642 ...   0.093437  0.263619 -0.400956   \n",
      "15    -0.220558  0.204618 -0.277631 ...   0.411848  0.025996 -0.553119   \n",
      "16     0.252496 -0.311273 -0.127239 ...  -1.021002 -0.902892 -0.400956   \n",
      "17    -0.886573  0.548545 -0.742351 ...   0.677191  0.501241 -0.705283   \n",
      "18    -0.238271  0.247609 -0.544008 ...   0.358780  0.025996  1.425008   \n",
      "19    -1.552443 -0.375759 -0.570911 ...   2.163110  2.510232  0.512026   \n",
      "20     0.998621 -0.354264 -0.297149 ...  -0.490317 -0.794882  0.968517   \n",
      "21    -0.746353  0.269104 -0.336300 ...   0.730260  0.760466 -0.096628   \n",
      "22    -0.615399  0.183122 -0.569266 ...   0.942534  0.803670 -0.400956   \n",
      "23     0.108075 -0.074823 -0.246912 ...  -0.808728 -0.773280 -0.400956   \n",
      "24    -0.522485 -0.311273 -0.424656 ...   0.411848  0.566047  0.512026   \n",
      "25    -0.695870 -0.117814 -0.295990 ...   0.358780  0.198812  0.055535   \n",
      "26     1.297824 -0.160805  4.561286 ...  -1.074070 -1.097311 -1.009610   \n",
      "27    -1.548440  0.226113 -0.604151 ...   2.110042  2.078191  2.033662   \n",
      "28     0.098246  0.204618 -0.319636 ...  -0.808728 -0.557259 -0.400956   \n",
      "29    -0.795870 -0.117814 -0.278203 ...   0.730260  0.609251 -0.096628   \n",
      "...         ...       ...       ... ...        ...       ...       ...   \n",
      "10234 -0.551704  0.247609 -0.039224 ...  -0.012700  0.220415  0.055535   \n",
      "10235  1.131410  0.054150  0.096748 ...  -0.808728 -0.881290 -1.009610   \n",
      "10236 -1.891997 -0.074823 -0.530797 ...   3.595960  3.244702  3.403134   \n",
      "10237  0.391206 -0.117814 -0.046949 ...  -0.649522 -0.665270 -0.705283   \n",
      "10238 -0.522010 -0.074823 -0.409210 ...  -0.012700  0.047598 -0.705283   \n",
      "10239  0.320788 -0.074823 -0.747952 ...  -0.065768 -0.449249  1.577171   \n",
      "10240 -0.276639  0.011159 -0.032859 ...   0.624123  0.436435 -0.400956   \n",
      "10241  0.533612 -0.698191 -0.036657 ...  -1.021002 -1.010902 -1.009610   \n",
      "10242  0.694279  0.656022 -0.428553 ...  -0.755659 -0.902892 -1.009610   \n",
      "10243  0.547513 -0.074823  0.331294 ...  -1.021002 -0.708474 -0.857446   \n",
      "10244 -1.096844  0.570040 -0.622134 ...   0.624123  0.825272 -0.705283   \n",
      "10245 -0.658246 -0.074823 -0.389752 ...   0.783328  0.609251  1.425008   \n",
      "10246 -0.146677 -0.010337 -0.003735 ...   0.093437  0.025996 -0.553119   \n",
      "10247 -0.483456 -0.311273 -0.541606 ...   0.199574  0.609251 -0.553119   \n",
      "10248 -0.799025 -0.074823 -0.440932 ...   0.146506  0.933282  0.207699   \n",
      "10249 -1.772593  0.570040 -0.588555 ...   3.224481  3.417518  2.794480   \n",
      "10250 -1.891997  2.870053 -0.530797 ...   3.595960  3.244702  3.403134   \n",
      "10251 -0.581991 -0.225291 -0.432602 ...   0.199574  0.263619  0.055535   \n",
      "10252 -0.020821  0.247609 -0.315381 ...  -0.118837 -0.319637 -0.553119   \n",
      "10253 -0.362614  0.097140 -0.453469 ...   0.358780  0.544445  0.512026   \n",
      "10254  1.503624  0.032654  1.706314 ...  -1.074070 -1.140515 -1.009610   \n",
      "10255 -0.691479  0.140131 -0.554282 ...   0.730260  0.242017  0.055535   \n",
      "10256 -0.971944 -0.074823 -0.504347 ...   0.517986  0.350027  0.512026   \n",
      "10257  1.147909 -0.332768 -0.280729 ...  -0.808728 -0.881290 -1.009610   \n",
      "10258 -0.513590  0.204618 -0.545584 ...   0.146506  0.263619  0.664190   \n",
      "10259  0.533612 -0.074823 -0.036657 ...  -1.021002 -1.010902 -1.009610   \n",
      "10260 -0.279255 -0.311273 -0.268938 ...   0.411848  0.414833 -0.400956   \n",
      "10261 -1.604348  1.451353 -0.560380 ...   3.065275  3.309508  0.207699   \n",
      "10262  0.861932 -0.074823 -0.508307 ...  -0.384180 -0.730076  0.968517   \n",
      "10263  0.776112  0.183122 -0.466857 ...  -0.278042 -0.730076  0.968517   \n",
      "\n",
      "             33        34        35        36        37   38   39  \n",
      "0      0.382304  0.914080  0.695152  0.922814 -0.237902  0.0  1.0  \n",
      "1     -0.442306  0.036288  0.705877  0.031190 -0.825583  0.0  0.0  \n",
      "2     -1.083670 -0.465308 -0.932743 -0.570158 -1.268113  1.0  1.0  \n",
      "3     -0.992047 -0.507107 -0.866747 -0.689586 -1.268113  1.0  1.0  \n",
      "4     -1.083670 -1.259501 -0.932743 -1.168271 -1.190494  1.0  1.0  \n",
      "5     -1.083670 -1.259501 -0.932743 -1.168271 -1.393463  1.0  1.0  \n",
      "6     -1.083670 -1.259501 -0.932743 -1.168271 -1.190494  1.0  1.0  \n",
      "7      1.023667  0.997679  0.325550  0.351992  1.489131  0.0  0.0  \n",
      "8      0.107434 -0.047311  0.829497  1.433613 -0.382261  0.0  0.0  \n",
      "9      2.398017  2.753264  1.348099  2.523322  0.444505  0.0  0.0  \n",
      "10    -1.083670 -0.465308 -0.932743 -0.570158 -1.268113  1.0  1.0  \n",
      "11     0.107434  0.161687 -0.586459 -0.341418  0.190213  0.0  0.0  \n",
      "12    -0.167436 -0.548907  0.056085 -0.621725 -0.138846  0.0  1.0  \n",
      "13    -0.259060  0.705082 -0.414853  0.936934  0.441865  0.0  0.0  \n",
      "14    -0.717176  0.496084 -0.907441  0.321882 -0.067670  0.0  1.0  \n",
      "15     0.748797  0.412484  0.039522  0.056081  0.583796  0.0  0.0  \n",
      "16    -1.083670 -0.841504 -0.932743 -0.940347 -0.139797  0.0  0.0  \n",
      "17     0.199057  0.872280  0.406917  1.163974 -0.139955  0.0  0.0  \n",
      "18     1.115290  0.287086  0.353496  0.140840  2.765133  0.0  0.0  \n",
      "19     1.023667  1.833672  1.199759  2.161119 -0.163082  0.0  0.0  \n",
      "20    -0.717176 -0.841504 -0.747528 -0.861189  1.683546  0.0  0.0  \n",
      "21     0.657174  0.788681  0.345881  0.145317 -0.171002  0.0  0.0  \n",
      "22     0.473927  0.161687  1.031254  0.133525 -0.382261  0.0  0.0  \n",
      "23    -0.442306 -0.632506 -0.306098 -0.697478  0.574714  0.0  0.0  \n",
      "24     0.565550  0.663282  0.494383  0.425981  1.680959  0.0  0.0  \n",
      "25    -0.350683 -0.130911 -0.358180 -0.223530  1.029229  0.0  0.0  \n",
      "26    -1.083670 -1.217701 -0.932743 -1.051531 -1.393463  1.0  1.0  \n",
      "27     1.206914  2.293468  1.906321  2.343223 -0.999247  0.0  0.0  \n",
      "28    -0.442306 -0.381708 -0.306098 -0.510375  0.574714  0.0  0.0  \n",
      "29     0.382304  0.872280  0.181252  0.746515  0.335417  0.0  0.0  \n",
      "...         ...       ...       ...       ...       ...  ...  ...  \n",
      "10234 -0.075813  0.245286 -0.590572 -0.224185  0.918716  0.0  1.0  \n",
      "10235 -1.083670 -1.050502 -0.932743 -0.907521 -1.311568  1.0  1.0  \n",
      "10236  3.863991  2.962262  2.691980  2.162329 -0.282625  0.0  0.0  \n",
      "10237 -0.992047 -0.548907 -0.929124 -0.415318  0.037986  0.0  1.0  \n",
      "10238  0.565550  0.746881  0.416135  0.627466 -0.139955  0.0  0.0  \n",
      "10239  0.473927 -0.130911 -0.261591 -0.153575  1.731173  0.0  0.0  \n",
      "10240  1.298537  0.663282  2.060658  2.722947 -0.029177  0.0  1.0  \n",
      "10241 -0.900423 -1.092302 -0.845245 -1.124046 -1.086845  0.0  1.0  \n",
      "10242 -0.900423 -1.092302 -0.885907 -0.967931 -1.367432  1.0  1.0  \n",
      "10243 -1.083670 -0.465308 -0.932743 -0.570158 -1.268113  1.0  1.0  \n",
      "10244  1.023667  0.788681  2.346886  1.365110 -0.139955  0.0  0.0  \n",
      "10245  0.290680 -0.005512 -0.300337 -0.617250  0.365039  0.0  0.0  \n",
      "10246  0.382304  0.454284  0.125323  0.124345 -0.090744  0.0  1.0  \n",
      "10247  0.657174  0.496084  0.220562  0.159695 -0.268421  0.0  0.0  \n",
      "10248 -0.625553  0.036288 -0.835665 -0.035928  0.190213  0.0  0.0  \n",
      "10249  4.047238  3.338458  3.297613  2.460355  0.368682  0.0  0.0  \n",
      "10250  3.863991  2.962262  2.691980  2.162329 -0.282625  0.0  0.0  \n",
      "10251 -0.167436 -0.005512 -0.723933 -0.258080  0.179917  0.0  1.0  \n",
      "10252  0.107434  0.245286 -0.329114  0.031475 -0.090744  0.0  1.0  \n",
      "10253  0.015810  0.788681 -0.259635  0.695464 -0.552863  0.0  0.0  \n",
      "10254 -1.083670 -1.259501 -0.932743 -1.168271 -1.393463  1.0  1.0  \n",
      "10255 -0.533930  0.078087 -0.849490  0.233840 -0.001826  0.0  0.0  \n",
      "10256  0.840420  0.537883  1.484358  1.151693 -0.212821  0.0  0.0  \n",
      "10257 -1.083670 -1.050502 -0.932743 -0.907521 -1.311568  1.0  1.0  \n",
      "10258  0.107434  0.036288 -0.586109 -0.149202  2.328886  0.0  0.0  \n",
      "10259 -0.900423 -1.092302 -0.845245 -1.124046 -1.086845  0.0  1.0  \n",
      "10260  0.840420  0.579683  1.428960  2.579136 -0.029177  0.0  1.0  \n",
      "10261  3.039381  3.547456  3.402162  2.434699 -0.645002  0.0  0.0  \n",
      "10262 -0.442306 -0.674306 -0.668405 -0.824216  1.683546  0.0  0.0  \n",
      "10263 -0.167436 -0.632506 -0.633197 -0.978398  1.683546  0.0  0.0  \n",
      "\n",
      "[10264 rows x 40 columns]\n"
     ]
    }
   ],
   "source": [
    "selector=SelectKBest(score_func=f_classif,k=40)\n",
    "selector.fit(X_train,y_train)\n",
    "#print(\"scores_:\",selector.scores_)\n",
    "#print(\"pvalues_:\",selector.pvalues_)\n",
    "#print(\"selected index:\",selector.get_support(True))\n",
    "new_df = pd.DataFrame(selector.transform(X_train))\n",
    "print(\"after transform:\",new_df) "
   ]
  },
  {
   "cell_type": "code",
   "execution_count": 16,
   "metadata": {},
   "outputs": [
    {
     "data": {
      "text/plain": [
       "1105"
      ]
     },
     "execution_count": 16,
     "metadata": {},
     "output_type": "execute_result"
    }
   ],
   "source": [
    "import collections\n",
    "od = collections.OrderedDict(sorted(dict(zip(selector.scores_, x_list)).items(),reverse=True))\n",
    "len(od)"
   ]
  },
  {
   "cell_type": "code",
   "execution_count": 54,
   "metadata": {},
   "outputs": [
    {
     "data": {
      "text/plain": [
       "2    3428\n",
       "3    3343\n",
       "1    3343\n",
       "0     150\n",
       "Name: price_cat, dtype: int64"
      ]
     },
     "execution_count": 54,
     "metadata": {},
     "output_type": "execute_result"
    }
   ],
   "source": [
    "y_train.value_counts()"
   ]
  },
  {
   "cell_type": "code",
   "execution_count": 12,
   "metadata": {},
   "outputs": [
    {
     "name": "stdout",
     "output_type": "stream",
     "text": [
      "13750\n",
      "11678\n"
     ]
    }
   ],
   "source": [
    "idx0 = df_train[df_train['price_cat'] == 0].index\n",
    "idx1 = df_train[df_train['price_cat'] == 1].index\n",
    "idx2 = df_train[df_train['price_cat'] == 2].index\n",
    "idx3 = df_train[df_train['price_cat'] == 3].index\n",
    "print(len(idx1))\n",
    "print(len(idx2))"
   ]
  },
  {
   "cell_type": "code",
   "execution_count": 13,
   "metadata": {},
   "outputs": [
    {
     "data": {
      "text/plain": [
       "14663"
      ]
     },
     "execution_count": 13,
     "metadata": {},
     "output_type": "execute_result"
    }
   ],
   "source": [
    "idx_list = list(df_train.loc[idx1].sample(4810).index) + \\\n",
    "list(df_train.loc[idx2].sample(4810).index) + \\\n",
    "list(df_train.loc[idx3].sample(4810).index) + \\\n",
    "list(df_train.loc[idx0].sample(233).index)\n",
    "\n",
    "len(idx_list)"
   ]
  },
  {
   "cell_type": "code",
   "execution_count": 107,
   "metadata": {},
   "outputs": [
    {
     "data": {
      "text/plain": [
       "1    13750\n",
       "2    11678\n",
       "3     4810\n",
       "0      233\n",
       "Name: price_cat, dtype: int64"
      ]
     },
     "execution_count": 107,
     "metadata": {},
     "output_type": "execute_result"
    }
   ],
   "source": [
    "df_train['price_cat'].value_counts()"
   ]
  },
  {
   "cell_type": "code",
   "execution_count": 9,
   "metadata": {},
   "outputs": [
    {
     "name": "stdout",
     "output_type": "stream",
     "text": [
      "2018-11-20 16:17:56.885355\n",
      "[(0.2942888824757721, 'plus_sq'), (0.2764085914332337, 'diff_sq'), (0.2064760726605448, 'full_sq'), (0.20191972925437596, 'bulvar_ring_km'), (0.20104612871902194, 'trc_sqm_5000'), (0.20067771048941685, 'sadovoe_km'), (0.19728027035254492, 'kremlin_km'), (0.1958285017214807, 'zd_vokzaly_avto_km'), (0.19500805572137048, 'km_sum'), (0.19383762751939204, 'park_km'), (0.1931876403485293, 'cafe_avg_price_5000'), (0.19222991469254969, 'big_church_km'), (0.18987566908548348, 'oil_chemistry_km'), (0.18948060595818794, 'ts_km'), (0.18928974148154887, 'ttk_km'), (0.18912420970326282, 'swim_pool_km'), (0.1890306196801932, 'mosque_km'), (0.18894454364771174, 'school_km'), (0.18861186633883809, 'catering_km'), (0.1886113606362425, 'nuclear_reactor_km'), (0.1885839884238878, 'detention_facility_km'), (0.18836335078359223, 'power_transmission_line_km'), (0.18827305437748865, 'metro_km_walk'), (0.18704231967821672, 'office_km'), (0.1864907514084111, 'metro_km_avto'), (0.18637937757647038, 'trc_sqm_3000'), (0.1862653906178866, 'theater_km'), (0.18536712415823686, 'cafe_sum_5000_max_price_avg'), (0.18512654615280155, 'mkad_km'), (0.18510946322138633, 'metro_min_walk'), (0.18460468882730452, 'workplaces_km'), (0.18429497523436877, 'preschool_km'), (0.18414430280435767, 'incineration_km'), (0.18386706255281515, 'metro_min_avto'), (0.18341710626617713, 'thermal_power_plant_km'), (0.18278327853850307, 'radiation_km'), (0.18249530177839124, 'cafe_sum_5000_min_price_avg'), (0.1824952626712033, 'public_healthcare_km'), (0.18245163213203908, 'kindergarten_km'), (0.18204935841545433, 'office_sqm_5000'), (0.18199005637667276, 'fitness_km'), (0.18159347663741943, 'basketball_km'), (0.18061291776912336, 'stadium_km'), (0.18014720861386935, 'university_km'), (0.1801080067937133, 'exhibition_km'), (0.18003553880916257, 'hospice_morgue_km'), (0.17924042607753732, 'shopping_centers_km'), (0.17920537964744776, 'railroad_km'), (0.17904588619299155, 'big_road2_km'), (0.17874982581560706, 'water_treatment_km'), (0.17834541919812041, 'bus_terminal_avto_km'), (0.17824693177608708, 'museum_km'), (0.17814179736999836, 'big_market_km'), (0.17809878688237823, 'market_shop_km'), (0.177472651823539, 'public_transport_station_min_walk'), (0.17725189374560935, 'trc_sqm_2000'), (0.1769838504467245, 'additional_education_km'), (0.1767393884123969, 'ice_rink_km'), (0.17649559379304192, 'public_transport_station_km'), (0.17558759552841186, 'railroad_station_avto_min'), (0.17544194746445685, 'big_road1_km'), (0.1749954417446331, 'church_synagogue_km'), (0.174418887694197, 'railroad_station_avto_km'), (0.17253214143020323, 'railroad_station_walk_min'), (0.1721620166100286, 'railroad_station_walk_km'), (0.171551045032174, 'cafe_avg_price_3000'), (0.1707256052540349, 'water_km'), (0.1703290387731109, 'industrial_km'), (0.1689395970281371, 'cemetery_km'), (0.16889234965616207, 'cafe_sum_3000_min_price_avg'), (0.16812666215513206, 'office_sqm_3000'), (0.16559481436522594, 'green_zone_km'), (0.16356833526252101, 'children_school'), (0.16346880125700425, '7_14_female'), (0.1634250416929688, 'cafe_avg_price_2000'), (0.16265535321081415, 'children_preschool'), (0.16173890776761302, 'area_m'), (0.16152291152117426, '0_17_male'), (0.161322462089039, 'ekder_male'), (0.1613007715736905, 'young_all'), (0.16111117380591078, '16_29_male'), (0.16083365005293904, 'ekder_female'), (0.1607283564327988, '0_6_male'), (0.16068983520174918, '0_13_male'), (0.16065153872246074, 'raion_popul'), (0.16059887003574191, '0_17_all'), (0.16036184631433614, 'young_male'), (0.15870683035613609, 'green_zone_part'), (0.1585739017525929, 'ekder_all'), (0.15851142685070907, 'work_female'), (0.15798812268376072, '16_29_all'), (0.1578588517888495, 'female_f'), (0.15753983317766407, '0_17_female'), (0.1575285473560002, '7_14_all'), (0.15738264502107246, '0_13_female'), (0.15730731259544095, '16_29_female'), (0.15688470002088306, 'young_female'), (0.15677444061606804, '7_14_male'), (0.1565858891228793, '0_6_female'), (0.1564941078428277, 'full_all'), (0.1564682767517671, 'trc_sqm_1500'), (0.15627143118521158, '0_13_all'), (0.15605751015572933, 'male_f'), (0.15582655777986454, 'work_male'), (0.15512178415675248, 'cafe_sum_2000_min_price_avg'), (0.15431802418755947, 'green_part_3000'), (0.1536531565997472, '0_6_all'), (0.15091618376245997, 'work_all'), (0.14995958260139575, 'indust_part'), (0.1490992059172198, 'office_sqm_2000'), (0.14894152478365785, 'green_part_5000'), (0.14823998222233392, 'cafe_sum_3000_max_price_avg'), (0.14822518173754617, 'cafe_avg_price_1500'), (0.1478008690744137, 'green_part_2000'), (0.14643134267667213, 'green_part_1500'), (0.1413256885198546, 'preschool_quota'), (0.14131117179539032, 'cafe_count_5000'), (0.1410275823611178, 'school_quota'), (0.14090839596061722, 'prom_part_3000'), (0.1392158479613652, 'office_sqm_1500'), (0.13809552570814465, 'green_part_1000'), (0.13736551551175458, 'raion_build_count_with_builddate_info'), (0.13618812730962904, 'life_sq'), (0.13580269642479337, 'prom_part_5000'), (0.1331305723953642, 'prom_part_2000'), (0.13241777041171487, 'build_count_panel'), (0.12897729425841487, 'cafe_sum_2000_max_price_avg'), (0.12883734304720496, 'raion_build_count_with_material_info'), (0.12872911331623227, 'cafe_sum_1500_min_price_avg'), (0.12647961629449722, 'cafe_count_5000_price_1000'), (0.12563858199217037, 'build_count_1971-1995'), (0.12454767137230571, 'prom_part_1500'), (0.12381183028321407, 'cafe_count_3000'), (0.12213623905128812, 'cafe_count_2000'), (0.12106097727414422, 'build_count_1946-1970'), (0.11973264479113199, 'green_part_500'), (0.11591767250774243, 'cafe_count_5000_price_500'), (0.11554527518885038, 'trc_sqm_1000'), (0.11519179814273461, 'cafe_count_3000_price_1500'), (0.11170261099408552, 'cafe_count_3000_price_1000'), (0.11132963396128659, 'cafe_sum_1500_max_price_avg'), (0.11108810014893566, 'num_room'), (0.11100941056953495, 'cafe_count_5000_price_1500'), (0.11075406365387463, 'sport_count_3000'), (0.11013353160574435, 'build_count_brick'), (0.1091154224187818, 'cafe_avg_price_1000'), (0.10762716916043025, 'sport_count_5000'), (0.1050300783856497, 'build_count_block'), (0.10448740800201262, 'office_count_5000'), (0.10430603514763881, 'trc_count_5000'), (0.10430588869405621, 'cafe_count_5000_price_2500'), (0.10303704874297326, 'cafe_count_2000_price_1000'), (0.10301393197912856, 'cafe_sum_1000_min_price_avg'), (0.10286221689251085, 'cafe_count_1500'), (0.10232841011361371, 'build_count_after_1995'), (0.10051821003562744, 'prom_part_1000'), (0.09971052738655017, 'cafe_count_3000_price_2500'), (0.0995184475398414, 'cafe_count_3000_price_500'), (0.0983002995304485, 'cafe_count_5000_na_price'), (0.09782070792968733, 'trc_count_3000'), (0.09770530729526561, 'cafe_count_2000_price_1500'), (0.09699460249454517, 'office_sqm_1000'), (0.09476427571797497, 'sport_count_2000'), (0.09347530141139537, 'office_count_3000'), (0.0932597834922575, 'cafe_count_2000_price_500'), (0.09243991314642286, 'cafe_count_1500_price_1000'), (0.08956853227228745, 'cafe_count_1000'), (0.08761051891346905, 'trc_count_2000'), (0.08661164525926335, 'big_church_count_5000'), (0.08573691075102463, 'cafe_count_2000_price_2500'), (0.08376558224538244, 'build_count_monolith'), (0.08238930332534222, 'cafe_count_1500_price_1500'), (0.08235171902366445, 'cafe_sum_1000_max_price_avg'), (0.08196743755723523, 'cafe_count_5000_price_4000'), (0.08158297673794457, 'sport_count_1500'), (0.07979065253392048, 'leisure_count_5000'), (0.07957813602312358, 'office_count_2000'), (0.078462161881246, 'sport_objects_raion'), (0.07740955151760431, 'cafe_count_3000_na_price'), (0.07706701909334845, 'big_church_count_3000'), (0.07554787263729024, 'cafe_count_1500_price_500'), (0.07519824317308754, 'cafe_count_1500_price_2500'), (0.07503715301940361, 'hospital_beds_raion'), (0.0742455526868091, 'school_education_centers_raion'), (0.07272146449677819, 'cafe_count_5000_price_high'), (0.07257690752303203, 'church_count_5000'), (0.07255812903260273, 'cafe_count_1000_price_1000'), (0.07047663992526321, 'office_count_1500'), (0.06934708616005847, 'prom_part_500'), (0.06682782282570221, 'church_count_3000'), (0.06679049618833144, 'trc_count_1500'), (0.06604111079163566, 'preschool_education_centers_raion'), (0.06501066787963494, 'cafe_avg_price_500'), (0.0639079559612612, 'build_year'), (0.06305241895967462, 'office_raion'), (0.06173287245653181, 'cafe_count_1000_price_1500'), (0.06088446014662985, 'cafe_count_1000_price_500'), (0.06083925413272384, 'cafe_count_2000_na_price'), (0.058812866298197264, 'cafe_count_500'), (0.05876164577331333, 'cafe_sum_500_max_price_avg'), (0.05868685707404864, 'ecology_2'), (0.05732848844989724, 'cafe_sum_500_min_price_avg'), (0.05685968604506764, 'big_church_count_2000'), (0.05593683720609355, 'kitch_sq'), (0.055126835941762486, 'sport_count_1000'), (0.05479577354395371, 'shopping_centers_raion'), (0.054219792270211675, 'big_church_count_1500'), (0.05402660728608377, 'build_count_1921-1945'), (0.05195631970209891, 'market_count_5000'), (0.04975411757589088, 'trc_sqm_500'), (0.04878553411675135, 'cafe_count_1000_price_2500'), (0.04845481515216199, 'church_count_2000'), (0.047718894499204634, 'office_sqm_500'), (0.04737623465512053, 'cafe_count_3000_price_4000'), (0.04642487668351847, 'office_count_1000'), (0.045495876991271667, 'leisure_count_3000'), (0.043253684064965325, 'cafe_count_500_price_1000'), (0.043141216525255155, 'cafe_count_2000_price_4000'), (0.042369913558833794, 'healthcare_centers_raion_0'), (0.04136722026198747, 'market_count_3000'), (0.04027624663006324, 'trc_count_1000'), (0.040137589060760925, 'cafe_count_1500_na_price'), (0.038783624062386224, 'build_count_wood'), (0.03778323000614514, 'cafe_count_500_price_500'), (0.03730819167207322, 'max_floor'), (0.03705468121010225, 'church_count_1500'), (0.03573272221926671, 'cafe_count_3000_price_high'), (0.03448040872722613, 'cafe_count_1000_na_price'), (0.03414642016585656, 'office_count_500'), (0.033482267480337446, 'big_church_count_1000'), (0.03338907864287188, 'build_count_before_1920'), (0.031103556538577326, 'cafe_count_1500_price_4000'), (0.03092891306717016, 'average_provision_of_build_contract'), (0.030239140350884153, 'oil_urals'), (0.029468057032845607, 'cpi'), (0.02943372511590403, 'deposits_growth'), (0.029359510389182608, 'additional_education_raion'), (0.028888535114719227, 'leisure_count_2000'), (0.02826370992691185, 'ppi'), (0.028147119665416387, 'micex_rgbi_tr'), (0.027983216109479736, 'deposits_value'), (0.0274784837873443, 'product_type_1'), (0.02727501424457346, 'rent_price_3room_bus'), (0.02673253284020416, 'rent_price_3room_eco'), (0.026589941440087417, 'rent_price_1room_bus'), (0.026125824323888436, 'rent_price_4+room_bus'), (0.02583674884553555, 'mortgage_growth'), (0.025833142687905042, 'electric_stove_share'), (0.025646054435030985, 'usdrub'), (0.025584768143110503, 'rts'), (0.025179397230866485, 'net_capital_export'), (0.025172082712632715, 'cafe_count_500_price_1500'), (0.0248850124631399, 'leisure_count_1500'), (0.0247650498161478, 'ID_big_road1_37'), (0.024617336120303035, 'state'), (0.02446753524743661, 'average_provision_of_build_contract_moscow'), (0.024208395107970127, 'micex_cbi_tr'), (0.024201654908916348, 'build_count_frame'), (0.02387569189460681, 'rent_price_1room_eco'), (0.023766709545569364, 'product_type_0'), (0.023759853844799173, 'leisure_count_1000'), (0.023641813464833517, 'cafe_count_2000_price_high'), (0.023544959139260024, 'income_per_cap'), (0.023304924087651058, 'rent_price_2room_bus'), (0.023249273211260357, 'gdp_quart'), (0.022718904678214136, 'rent_price_2room_eco'), (0.02261810045129975, 'brent'), (0.022582596394117305, 'sport_count_500'), (0.02258232403629168, 'mortgage_value'), (0.022517983837920585, 'ID_metro_44'), (0.022427466226977444, 'fin_res_per_cap'), (0.022375003984878905, 'build_count_slag'), (0.022157801103562136, 'perinatal_mort_per_1000_cap'), (0.021758113235610832, 'housing_fund_sqm'), (0.02161986766155355, 'hospital_beds_available_per_cap'), (0.021358522695629656, 'balance_trade_growth'), (0.02084402163772059, 'profitable_enterpr_share'), (0.02083373634248531, 'fixed_basket'), (0.02083024265221889, 'share_own_revenues'), (0.020827532284846573, 'market_count_2000_0'), (0.020808571707691792, 'overdue_wages_per_cap'), (0.02060067074542271, 'provision_doctors'), (0.020576998375691824, 'gdp_quart_growth'), (0.02052623857321234, 'infant_mortarity_per_1000_cap'), (0.020316782518495557, 'church_count_1000'), (0.020192585963215492, 'deposits_rate'), (0.019728776421502614, 'construction_value'), (0.019346412036456373, 'cafe_count_500_price_2500'), (0.019248721539637526, 'hospital_bed_occupancy_per_year'), (0.01922046553258916, 'balance_trade'), (0.019140668326493193, 'grp'), (0.019066334530509765, 'invest_fixed_assets_phys'), (0.019023673851374934, 'sewerage_share'), (0.0189674429917166, 'gas_share'), (0.018728084925973443, 'eurrub'), (0.018517401584272175, 'power_clinics'), (0.018263500711019676, 'ID_metro_205'), (0.017901747993157135, 'unprofitable_enterpr_share'), (0.017790355085154586, 'pop_total_inc'), (0.01762126526825658, 'marriages_per_1000_cap'), (0.017323513240364408, 'university_top_20_raion_0'), (0.01684323428725487, 'museum_visitis_per_100_cap'), (0.01680195489079339, 'market_count_1500_0'), (0.016598320347511075, 'incidence_population'), (0.016586861563490096, 'cafe_count_500_na_price'), (0.01624528504679379, 'ID_railroad_station_walk_23'), (0.01610519086416229, 'apartment_build'), (0.015822462065306686, 'trc_count_500_0'), (0.015470605450175423, 'ID_railroad_station_avto_18'), (0.015456280539759115, 'micex'), (0.01541666713180323, 'ID_big_road1_15'), (0.015373210639210377, 'population_reg_sports_share'), (0.015316729156879871, 'theaters_viewers_per_1000_cap'), (0.015256424054830742, 'build_count_mix'), (0.015124627762294285, 'material'), (0.015123935312665315, 'lodging_sqm_per_cap'), (0.014955522735492943, 'cafe_count_1500_price_high'), (0.014949158086927872, 'floor'), (0.014900466078844987, 'mosque_count_5000_0'), (0.014884634660618179, 'hot_water_share'), (0.014763551291118615, 'cafe_count_1000_price_4000'), (0.014410092021162058, 'sub_area_102'), (0.014200349303555182, 'ID_big_road2_26'), (0.014029685900799116, 'real_dispos_income_per_cap_growth'), (0.013790749429953841, 'cafe_count_500_price_4000'), (0.013684942092522467, 'ID_railroad_terminal_3'), (0.013500976413020505, 'invest_fixed_capital_per_cap_2'), (0.013372874555701575, 'grp_growth'), (0.01321939166642827, 'employment_4'), (0.01304549178148573, 'ID_big_road1_12'), (0.012947261689846723, 'market_count_1000_0'), (0.012937509677509063, 'ecology_3'), (0.012911634942819772, 'invest_fixed_capital_per_cap_3'), (0.012825010434953654, 'ID_railroad_station_avto_37'), (0.01277564448085089, 'ID_railroad_station_avto_40'), (0.012709709777490641, 'ID_bus_terminal_12'), (0.01243413312255992, 'load_on_doctors_3'), (0.01230585669076878, 'university_top_20_raion_1'), (0.012290402680817047, 'ID_big_road1_3'), (0.012096345362558436, 'apartment_fund_sqm_0'), (0.011862117013968554, 'load_of_teachers_preschool_per_teacher'), (0.011708783962803837, 'seats_theather_rfmin_per_100000_cap_1'), (0.011591175145820865, 'retail_trade_turnover_growth_2'), (0.011558733613567851, 'mosque_count_3000_1'), (0.0113792431427171, 'divorce_rate'), (0.01118431808002951, 'church_count_500'), (0.011177459182825089, 'culture_objects_top_25_raion_1'), (0.011090827335577202, 'unemployment_2'), (0.010926642398264796, 'child_on_acc_pre_school_3'), (0.010791130709042251, 'ID_railroad_station_walk_11'), (0.01074445198050622, 'ID_big_road2_37'), (0.010721396997018795, 'old_education_build_share_2'), (0.010650020702779539, 'sub_area_86'), (0.010625525483331622, 'average_life_exp_0'), (0.01051348635407301, 'students_reg_sports_share'), (0.010509758680781855, 'child_on_acc_pre_school_1'), (0.010371416556867352, 'ID_big_road2_12'), (0.010365962183884081, 'salary_1'), (0.010334727300722157, 'pop_natural_increase_4'), (0.010278188768097607, 'apartment_fund_sqm_3'), (0.010260220005779308, 'ID_bus_terminal_1'), (0.01022204970738727, 'mortality_1'), (0.010169911284663824, 'pop_migration'), (0.010124035665902253, 'gdp_annual_4'), (0.010064965528548075, 'apartment_fund_sqm_1'), (0.009979674564948082, 'gdp_deflator_3'), (0.009959288141726308, 'ID_railroad_station_walk_46'), (0.00988358243808607, 'ID_railroad_station_avto_72'), (0.009828821092043638, 'ID_big_road2_54'), (0.009823165438494152, 'ID_railroad_station_walk_104'), (0.00981654329251791, 'ID_big_road1_10'), (0.009815793685072904, 'big_church_count_500'), (0.009723990128802429, 'ID_railroad_station_walk_74'), (0.009705763228359032, 'culture_objects_top_25_0'), (0.009638678987108795, 'ID_railroad_station_avto_32'), (0.009626926274913572, 'ID_bus_terminal_7'), (0.009619415783002072, 'load_of_teachers_school_per_teacher_3'), (0.009587958721825718, 'invest_fixed_assets_1'), (0.009517388415247074, 'turnover_catering_per_cap_3'), (0.009409273639054305, 'bandwidth_sports_3'), (0.009398373351665601, 'radiation_raion_0'), (0.009340876010427657, 'mosque_count_5000_1'), (0.009305180081132569, 'sub_area_101'), (0.009287205430301482, 'market_count_1500_1'), (0.009241766120108519, 'ID_bus_terminal_8'), (0.009215887709293824, 'mortgage_rate'), (0.009194890711274883, 'ID_metro_107'), (0.009190489447043593, 'retail_trade_turnover_per_cap_4'), (0.009188327967455834, 'labor_force_4'), (0.009144618719918896, 'sub_area_31'), (0.008910430306614758, 'modern_education_share_1'), (0.008893562053259751, 'big_road1_1line_0'), (0.00882899488099076, 'salary_2'), (0.008816233799570972, 'average_life_exp_3'), (0.0087873807687322, 'students_state_oneshift_0'), (0.008743358237421228, 'ID_railroad_station_walk_1'), (0.0086435756463219, 'big_market_raion_0'), (0.008549619451396318, 'cafe_count_1000_price_high_4'), (0.008547655351865302, 'ID_railroad_station_avto_48'), (0.008542257721843916, 'ID_bus_terminal_13'), (0.008477990005598235, 'healthcare_centers_raion_1'), (0.00831947662811472, 'gdp_deflator_1'), (0.008305448314713582, 'ID_railroad_station_avto_3'), (0.008264736032365105, 'unemployment_0'), (0.008240345414507466, 'ID_bus_terminal_4'), (0.008141902204310991, 'ID_railroad_station_avto_106'), (0.008116095682946467, 'incineration_raion_1'), (0.008066610017516851, 'school_education_centers_top_20_raion_0'), (0.008040961465349383, 'gdp_deflator_4'), (0.007931848737778191, 'load_on_doctors_1'), (0.007908485361258766, 'provision_nurse_1'), (0.007830074870896375, 'pop_natural_increase_1'), (0.007683900162672286, 'mortality_3'), (0.0076412113243231605, 'retail_trade_turnover_per_cap_1'), (0.007593451331111778, 'unemployment_4'), (0.007590431852861901, 'ID_railroad_station_walk_122'), (0.00753278765186538, 'turnover_catering_per_cap_0'), (0.007521164902555499, 'modern_education_share_-1'), (0.007516081661357088, 'mosque_count_500_0'), (0.007502965199980727, 'old_house_share'), (0.007423603229345099, 'mosque_count_2000_0'), (0.007422368749189667, 'incineration_raion_0'), (0.007420603782947399, 'retail_trade_turnover_1'), (0.007416967390370344, 'sub_area_29'), (0.007416665062389249, 'ID_metro_157'), (0.007398904282123864, 'ID_railroad_station_avto_80'), (0.00739851223126653, 'ID_railroad_station_walk_128'), (0.00737807886172126, 'ID_railroad_station_walk_32'), (0.0073772103177105475, 'invest_fixed_assets_3'), (0.0073744321088355935, 'mosque_count_3000_0'), (0.007371481398452673, 'mosque_count_1000_1'), (0.007328553257167636, 'old_education_build_share_0'), (0.007322751353118884, 'sub_area_87'), (0.007305606747557647, 'turnover_catering_per_cap_1'), (0.007278279740176918, 'salary_3'), (0.007191931609493496, 'labor_force_2'), (0.007190650334766513, 'gdp_annual_growth_1'), (0.007153619279724355, 'ID_railroad_terminal_0'), (0.00706422581491295, 'ID_railroad_station_walk_38'), (0.0070528007703367646, 'ID_railroad_station_walk_115'), (0.006949385867791591, 'sub_area_30'), (0.006905199925201, 'ID_railroad_station_walk_95'), (0.00687498657810881, 'ID_big_road2_15'), (0.006873167076089093, 'ID_railroad_station_avto_61'), (0.006865931378680523, 'market_count_500_3'), (0.0068409819401571426, 'retail_trade_turnover_growth_1'), (0.0067707349721173316, 'thermal_power_plant_raion_0'), (0.0067400516468021365, 'water_1line_1'), (0.006667850539359366, 'gdp_annual_3'), (0.006666865451078641, 'ID_big_road2_8'), (0.006614998900958957, 'sub_area_50'), (0.006516892903765559, 'sub_area_109'), (0.006488531603602743, 'ID_railroad_station_walk_102'), (0.006487269469914514, 'sub_area_6'), (0.006485096443308747, 'gdp_annual_growth_0'), (0.006471370047533176, 'sub_area_134'), (0.006470810151073536, 'sub_area_72'), (0.006431368556582218, 'ID_railroad_station_walk_2'), (0.006423770961194286, 'students_state_oneshift_1'), (0.006409458359684539, 'sub_area_143'), (0.006391379851522938, 'old_education_build_share_1'), (0.00638014868971859, 'market_count_500_4'), (0.006379012301506393, 'employment_2'), (0.0063323739528009515, 'cafe_count_500_price_high_0'), (0.006326303175234305, 'seats_theather_rfmin_per_100000_cap_4'), (0.0063040102049254365, 'ID_big_road2_1'), (0.006269525525540054, 'ID_metro_102'), (0.006259752791756057, 'sub_area_123'), (0.0061751589932892426, 'culture_objects_top_25_1'), (0.006149119303510586, 'market_count_1500_2'), (0.006130580510980588, 'ID_metro_34'), (0.006122076754067729, 'market_count_2000_2'), (0.006083631395796152, 'students_state_oneshift_2'), (0.006070648313530436, 'sub_area_19'), (0.006047393666619882, 'ID_railroad_station_walk_107'), (0.005983383439049028, 'seats_theather_rfmin_per_100000_cap_2'), (0.005954747040816333, 'load_of_teachers_school_per_teacher_2'), (0.005905136010768697, 'salary_growth_1'), (0.005885716905793981, 'ID_big_road1_18'), (0.005848487180495576, 'mosque_count_5000_2'), (0.005823335901230298, 'ID_railroad_station_avto_1'), (0.005819986414370426, 'sub_area_103'), (0.0058115896182093785, 'students_state_oneshift_4'), (0.005794084785946785, 'ID_metro_133'), (0.0057592664095540425, 'salary_growth_2'), (0.005717070634355448, 'labor_force_3'), (0.005700629806307589, 'mosque_count_1500_0'), (0.005700610663000871, 'old_education_build_share_-1'), (0.005693919839208972, 'ID_metro_36'), (0.005684132770580774, 'gdp_annual_growth_3'), (0.005658124753069593, 'ID_big_road1_33'), (0.005648152230619541, 'sub_area_99'), (0.0056365730753646925, 'ID_railroad_station_walk_54'), (0.005636554218601653, 'sub_area_11'), (0.005513423607830914, 'childbirth_1'), (0.005511722863364765, 'average_life_exp_2'), (0.005509816511101162, 'seats_theather_rfmin_per_100000_cap_3'), (0.00549753813702103, 'ID_metro_13'), (0.005461813586899789, 'salary_0'), (0.005450023974191476, 'load_of_teachers_school_per_teacher_1'), (0.005393757754917683, 'employment_0'), (0.005393384420274039, 'load_on_doctors_4'), (0.005373289080321086, 'ID_railroad_station_avto_105'), (0.005360751039992451, 'sub_area_65'), (0.005360436128029056, 'trc_count_500_1'), (0.0053489497840018, 'ID_metro_114'), (0.005347488266652656, 'ID_metro_91'), (0.00532996344099379, 'thermal_power_plant_raion_1'), (0.005319987586547725, 'retail_trade_turnover_growth_3'), (0.0053031621504486814, 'gdp_annual_0'), (0.005303035415928914, 'ID_metro_12'), (0.005302020713022104, 'ID_metro_40'), (0.0052955502319453895, 'students_state_oneshift_3'), (0.005273032395828103, 'ID_railroad_station_walk_63'), (0.005267385570406846, 'ID_railroad_station_avto_102'), (0.005259531525790617, 'ID_railroad_station_avto_125'), (0.005253327701415289, 'sub_area_46'), (0.005235035795270404, 'trc_count_500_3'), (0.005182932100191051, 'nuclear_reactor_raion_1'), (0.00511997510286899, 'retail_trade_turnover_3'), (0.005115199818460869, 'ID_railroad_station_walk_35'), (0.005107105557267788, 'ID_big_road1_25'), (0.005103577460147557, 'bandwidth_sports_4'), (0.005039995353983251, 'retail_trade_turnover_2'), (0.005029862960297615, 'ID_metro_169'), (0.005020450035399193, 'ID_railroad_station_avto_66'), (0.005018335202993995, 'ID_metro_152'), (0.00500188614102659, 'ID_metro_51'), (0.0050012236480292405, 'sub_area_26'), (0.004990617651452256, 'nuclear_reactor_raion_0'), (0.004956135746271961, 'ID_railroad_station_walk_90'), (0.0049515642166715335, 'invest_fixed_capital_per_cap_1'), (0.0049508908845428135, 'ID_railroad_station_avto_21'), (0.004900351239301326, 'sub_area_133'), (0.004896652476197527, 'sub_area_132'), (0.004895617065280744, 'retail_trade_turnover_growth_0'), (0.004894857158134425, 'leisure_count_500'), (0.004862877497988416, 'bandwidth_sports_1'), (0.004855630059487304, 'market_count_2000_7'), (0.0048494646729473345, 'unemployment_1'), (0.004841098588240111, 'sub_area_142'), (0.004792567904069012, 'ID_railroad_station_avto_94'), (0.004786614716661308, 'water_pipes_share'), (0.004757879820754818, 'sub_area_94'), (0.004746030828176817, 'sub_area_57'), (0.004723311761226201, 'turnover_catering_per_cap_4'), (0.0046803256278229455, 'apartment_fund_sqm_4'), (0.004674409435976967, 'healthcare_centers_raion_4'), (0.004658246034042968, 'ID_metro_160'), (0.0046342151215779115, 'market_count_1500_3'), (0.004633046232247029, 'big_market_raion_1'), (0.0046160030398934015, 'ID_railroad_station_avto_41'), (0.004609019518679203, 'ID_railroad_station_avto_124'), (0.004601841092861436, 'sub_area_52'), (0.0045963454290580685, 'ID_metro_183'), (0.004594589877363164, 'water_1line_0'), (0.004572946207118234, 'ID_railroad_station_avto_99'), (0.004567532882024272, 'ID_metro_194'), (0.00453595473697499, 'ID_metro_2'), (0.0045226075471662686, 'ID_bus_terminal_3'), (0.00452218367338042, 'ID_railroad_station_avto_25'), (0.004521733005486306, 'ID_railroad_station_avto_88'), (0.004495130755606258, 'average_life_exp_4'), (0.0044917269177060515, 'ID_metro_166'), (0.004491422600420458, 'ID_big_road2_32'), (0.004479103664556838, 'sub_area_25'), (0.004405459373187037, 'ID_railroad_station_walk_53'), (0.004397307896975677, 'ID_railroad_station_walk_3'), (0.004391395823764244, 'ID_railroad_station_walk_112'), (0.004385226349350679, 'ID_railroad_station_avto_16'), (0.004239219826853935, 'ID_big_road2_17'), (0.004229042095609259, 'mosque_count_1000_0'), (0.004197947686548353, 'market_count_1000_5'), (0.004197714688559007, 'ID_railroad_station_walk_4'), (0.004170694577072087, 'invest_fixed_capital_per_cap_4'), (0.004155753762675296, 'ID_metro_7'), (0.0041452424454042625, 'sub_area_68'), (0.004140823499228619, 'ID_metro_89'), (0.004140713047965372, 'load_of_teachers_school_per_teacher_4'), (0.00413689884788182, 'cafe_count_500_price_high_1'), (0.004117052791201781, 'radiation_raion_1'), (0.004100336573371166, 'childbirth_0'), (0.00408008730479259, 'ID_metro_11'), (0.003974639920496736, 'ID_railroad_station_avto_108'), (0.00396270436101287, 'sub_area_126'), (0.003957847162662231, 'sub_area_20'), (0.0039164898865324815, 'ID_metro_79'), (0.003900859636405407, 'ID_big_road2_51'), (0.0038976958696834707, 'ID_railroad_station_avto_67'), (0.003863421551383084, 'ID_metro_63'), (0.0038557813998858492, 'gdp_deflator_2'), (0.0038192093995896848, 'ID_railroad_station_walk_52'), (0.0038141195064500533, 'ID_railroad_station_walk_50'), (0.0038121582601355897, 'ID_railroad_station_walk_70'), (0.00380892437791025, 'ID_railroad_station_avto_92'), (0.003787248536740506, 'ID_railroad_station_walk_89'), (0.0037843226857623424, 'sub_area_75'), (0.003769855281796408, 'market_count_2000_1'), (0.0037683446770873097, 'ID_railroad_station_walk_114'), (0.003761834147221199, 'childbirth_2'), (0.003748855181137767, 'ID_metro_138'), (0.00372884392431172, 'employment_3'), (0.003718884570562686, 'sub_area_9'), (0.003712688564814659, 'ID_railroad_station_avto_23'), (0.0037105861983597332, 'ID_big_road2_16'), (0.003702576228183707, 'ID_big_road2_19'), (0.003661419029726609, 'ID_metro_222'), (0.0036463284145353825, 'ID_railroad_station_walk_118'), (0.0036448469516279225, 'ID_metro_218'), (0.0036355923005888524, 'ID_big_road2_9'), (0.0036295444735225946, 'ID_big_road2_29'), (0.003627687815242364, 'market_count_1500_6'), (0.0036215441167966045, 'market_count_500_0'), (0.0036070985428577895, 'ID_railroad_station_avto_11'), (0.003598230059648433, 'culture_objects_top_25_raion_0'), (0.00358146024976147, 'sub_area_59'), (0.003576601167244453, 'ID_railroad_station_walk_98'), (0.0035765422522398005, 'gdp_annual_growth_2'), (0.003570340196845656, 'sub_area_81'), (0.003566371352699438, 'provision_nurse_0'), (0.0035568798906724375, 'ID_railroad_station_avto_116'), (0.0035488107009697956, 'ID_railroad_station_walk_69'), (0.003540960485898026, 'ID_metro_139'), (0.0035359457188361976, 'ID_metro_180'), (0.003527084507969347, 'ID_metro_208'), (0.0035266681315844206, 'healthcare_centers_raion_5'), (0.003510491254798964, 'ID_railroad_station_walk_9'), (0.003502180600636562, 'provision_nurse_3'), (0.0034900877188848156, 'ID_metro_213'), (0.0034783619929519283, 'ID_big_road2_5'), (0.003463485528263588, 'ID_railroad_station_avto_119'), (0.0034361369330953018, 'ID_railroad_station_avto_30'), (0.0034352495478437994, 'pop_natural_increase_2'), (0.0034337970061539824, 'ID_metro_209'), (0.003427494893609717, 'mosque_count_3000_2'), (0.003405060354082279, 'ID_metro_64'), (0.0033912633684054505, 'ID_railroad_station_avto_63'), (0.0033801928754313426, 'ID_railroad_station_walk_27'), (0.003371457900956054, 'ID_metro_94'), (0.0033712553717091254, 'ID_metro_0'), (0.0033634591761098065, 'ID_railroad_station_walk_88'), (0.0033395589830704786, 'mortality_0'), (0.0033305463535802105, 'ID_metro_99'), (0.003329871514405003, 'railroad_1line_0'), (0.003305748827020061, 'ID_metro_111'), (0.00329732623445822, 'ID_metro_39'), (0.0032898149842666147, 'sub_area_141'), (0.0032693733265443115, 'cafe_count_1000_price_high_2'), (0.0032691448732051764, 'ID_metro_75'), (0.0032522181005356643, 'sub_area_2'), (0.0032475153317339522, 'ID_railroad_station_walk_57'), (0.0032355044746132933, 'ID_railroad_station_avto_12'), (0.0031868724885339983, 'ID_metro_164'), (0.003184717351416122, 'sub_area_73'), (0.0031566573240129348, 'ID_big_road1_13'), (0.003115586686857741, 'sub_area_114'), (0.0031086574737246853, 'ID_railroad_station_walk_103'), (0.003104200553972314, 'ecology_4'), (0.0031024587447030516, 'bandwidth_sports_2'), (0.003102264836660318, 'mortality_2'), (0.0030919556831456863, 'sub_area_27'), (0.003091725727994321, 'ID_railroad_station_avto_64'), (0.00307810163605593, 'sub_area_22'), (0.0030751463384814937, 'ID_railroad_station_avto_79'), (0.0030681047009089024, 'school_education_centers_top_20_raion_1'), (0.0030626625240981475, 'ID_railroad_station_avto_97'), (0.0030597031312740164, 'salary_4'), (0.0030566642957501333, 'ID_big_road2_25'), (0.0030377772742027354, 'ID_metro_206'), (0.003035567202196443, 'culture_objects_top_25_raion_3'), (0.003032644259491679, 'ID_big_road2_46'), (0.0030175333022928186, 'modern_education_share_0'), (0.0030139400345554623, 'ID_railroad_station_walk_15'), (0.0030053392663642597, 'ID_big_road2_36'), (0.0029692128514489102, 'ID_railroad_station_walk_82'), (0.0029448024941056694, 'sub_area_136'), (0.0029407183122576175, 'ID_metro_204'), (0.002916936933181846, 'ID_railroad_station_walk_24'), (0.002909186733900171, 'ID_railroad_station_avto_112'), (0.0028994963193325063, 'ID_big_road2_56'), (0.002897470457811302, 'ID_big_road1_45'), (0.002893441240330974, 'cafe_count_1000_price_high_3'), (0.002874318376480778, 'ID_big_road2_6'), (0.002873747735836485, 'trc_count_500_2'), (0.002868537226119905, 'salary_growth_0'), (0.0028595281983205822, 'ID_metro_210'), (0.0028447763979735363, 'ID_railroad_station_avto_91'), (0.0028283005351428248, 'ID_big_road2_45'), (0.0028220802745699824, 'load_on_doctors_0'), (0.0028220157488334507, 'ID_railroad_station_avto_33'), (0.0028168136555575263, 'sub_area_113'), (0.0027750498359508935, 'railroad_terminal_raion_1'), (0.002768134444424586, 'ID_metro_181'), (0.002756151100192117, 'trc_count_500_5'), (0.002728547413224147, 'apartment_fund_sqm_2'), (0.0027219834347145255, 'ID_bus_terminal_2'), (0.0027189754050940262, 'ID_big_road1_30'), (0.002716416743354211, 'ID_big_road2_0'), (0.002712963977725913, 'ID_metro_184'), (0.0026994763675387556, 'sub_area_70'), (0.0026774303275050038, 'ID_big_road1_17'), (0.002673690160861719, 'ID_metro_8'), (0.0026602642360160633, 'ID_railroad_station_walk_126'), (0.002658649290463444, 'ID_metro_54'), (0.002657885493901224, 'ID_metro_110'), (0.0026440838151069457, 'sub_area_139'), (0.002633394551408319, 'ID_big_road1_41'), (0.0026316769059575584, 'sub_area_92'), (0.002629722424377645, 'cafe_count_1000_price_high_0'), (0.0026277822993021616, 'ID_metro_71'), (0.002621687590096844, 'ID_railroad_station_avto_44'), (0.0026197226055031386, 'ID_big_road2_33'), (0.002604529261293287, 'ID_metro_69'), (0.0025897721688354913, 'retail_trade_turnover_4'), (0.002583998664605236, 'turnover_catering_per_cap_2'), (0.0025794002372632185, 'sub_area_64'), (0.002578566611760591, 'sub_area_55'), (0.002571521771807417, 'market_count_1000_3'), (0.00256687792920407, 'ID_bus_terminal_10'), (0.002563312661635786, 'ID_metro_87'), (0.002550523274759575, 'ID_big_road1_42'), (0.0025485032140042385, 'ID_railroad_station_walk_130'), (0.002545479903133696, 'pop_natural_increase_0'), (0.002540288536426294, 'ID_big_road1_21'), (0.0025339423241312886, 'ID_railroad_station_walk_72'), (0.0025327922278735038, 'ID_metro_19'), (0.0025324777886510663, 'ID_railroad_station_walk_28'), (0.0025308566712913816, 'ID_railroad_station_walk_22'), (0.0025183851694945414, 'market_count_2000_4'), (0.0025122778319395245, 'ID_metro_131'), (0.0025013419152064564, 'ID_metro_150'), (0.002483983105348475, 'sub_area_54'), (0.002460928388951844, 'ID_railroad_station_walk_44'), (0.002452733689755515, 'ID_railroad_station_avto_98'), (0.002441092179835014, 'ID_metro_196'), (0.002436182679985688, 'ID_metro_67'), (0.002389043924744483, 'ID_metro_59'), (0.002386598784896332, 'quarter_1'), (0.002374253532244186, 'ID_railroad_station_avto_24'), (0.0023742322950954797, 'sub_area_49'), (0.002372322180883568, 'trc_count_500_8'), (0.002358234684749716, 'ID_railroad_station_avto_89'), (0.002357226697351278, 'ID_railroad_station_walk_78'), (0.0023492136787697238, 'ID_big_road1_38'), (0.0023467714544664897, 'ID_railroad_station_avto_46'), (0.0023367692260778394, 'ID_railroad_station_walk_6'), (0.002329195999216438, 'ID_railroad_station_walk_25'), (0.00232907001248428, 'ID_railroad_station_avto_55'), (0.0023007607848331, 'ID_railroad_station_walk_61'), (0.0022978003019238358, 'ID_railroad_station_avto_73'), (0.0022939880307850657, 'ID_metro_3'), (0.002286473673329681, 'ID_railroad_station_avto_86'), (0.0022814883691690824, 'ID_metro_125'), (0.002257022154367183, 'gdp_annual_1'), (0.0022454783212284557, 'ID_metro_153'), (0.0022436100512528423, 'sub_area_125'), (0.0022386419910811473, 'ID_big_road2_3'), (0.002237046124451192, 'ID_metro_220'), (0.0022227935443899227, 'ID_metro_129'), (0.002195112114360187, 'pop_natural_increase_3'), (0.0021873878740397146, 'ID_big_road1_11'), (0.0021367937498937284, 'ID_metro_154'), (0.0021298470334063513, 'market_count_2000_5'), (0.0021159062159124, 'gdp_annual_2'), (0.0021156079816642137, 'ID_big_road2_21'), (0.0021115149161898827, 'ID_metro_58'), (0.0021081266231088858, 'ID_metro_118'), (0.00210405262078317, 'sub_area_112'), (0.0020978970918097417, 'ID_metro_17'), (0.0020912211058645713, 'sub_area_128'), (0.0020884694615883603, 'ID_metro_21'), (0.002087537330468958, 'ID_big_road1_20'), (0.0020680570845132973, 'ID_big_road1_9'), (0.002059066223872419, 'sub_area_95'), (0.0020305692435562683, 'ID_railroad_station_walk_68'), (0.0020303389013553996, 'ID_metro_122'), (0.002029851244245373, 'ID_metro_43'), (0.002022079928958087, 'ID_bus_terminal_5'), (0.0020181098751632653, 'ID_railroad_station_avto_20'), (0.0020088641642674876, 'ID_big_road2_14'), (0.0020017218760004507, 'sub_area_98'), (0.0019872983508062436, 'detention_facility_raion_1'), (0.0019776169640912666, 'ID_railroad_station_walk_84'), (0.001974292214620643, 'ID_metro_203'), (0.0019611781182733434, 'ID_railroad_station_walk_5'), (0.0019386062074673305, 'seats_theather_rfmin_per_100000_cap_0'), (0.0019378327980981158, 'ID_railroad_station_walk_73'), (0.0019169567371866147, 'ID_railroad_station_avto_70'), (0.0019019898923711143, 'ID_metro_47'), (0.0018997227038823894, 'sub_area_43'), (0.0018876453620808586, 'child_on_acc_pre_school_2'), (0.0018792591435683459, 'ID_railroad_station_avto_14'), (0.001862506049856938, 'bandwidth_sports_0'), (0.0018614005255541688, 'ID_metro_134'), (0.0018602051084175564, 'ID_railroad_station_walk_129'), (0.0018530992255669787, 'ID_railroad_station_walk_79'), (0.0018502068254788728, 'provision_nurse_2'), (0.0018465424398135255, 'oil_chemistry_raion_1'), (0.0018164687901922605, 'ID_metro_96'), (0.0018079875631642484, 'retail_trade_turnover_per_cap_2'), (0.001802834475247872, 'ID_railroad_station_avto_39'), (0.0017947542792764448, 'ID_big_road1_28'), (0.001793530746365235, 'ID_railroad_station_avto_0'), (0.0017919096879170926, 'ID_railroad_station_avto_19'), (0.0017864847857178567, 'sub_area_14'), (0.0017766805470096347, 'sub_area_60'), (0.001775999019742791, 'ID_railroad_station_walk_127'), (0.0017741009047811396, 'ID_metro_127'), (0.0017612324769498144, 'ID_railroad_station_avto_75'), (0.0017538186205920958, 'ID_metro_202'), (0.0017524746234611754, 'ID_railroad_station_walk_66'), (0.001748164636861782, 'ID_big_road1_14'), (0.0017453558540261316, 'ID_metro_25'), (0.0017333765758145159, 'ID_metro_113'), (0.0017313386299180333, 'cafe_count_500_price_high_2'), (0.0017086455619577112, 'ID_metro_201'), (0.001692732931705354, 'ID_metro_20'), (0.0016911368446987929, 'ID_railroad_station_walk_43'), (0.0016892794685754442, 'ID_railroad_station_walk_30'), (0.0016851316761277157, 'baths_share'), (0.0016582858535758582, 'sub_area_105'), (0.0016516129427874837, 'sub_area_89'), (0.0016511149075142395, 'ID_metro_124'), (0.0016502265978948216, 'ID_railroad_station_avto_131'), (0.0016493628530396265, 'provision_retail_space_sqm'), (0.001626049712461164, 'sub_area_58'), (0.0015990921805788538, 'ID_big_road2_48'), (0.0015954736904761901, 'ID_railroad_station_walk_56'), (0.0015863909118105646, 'ID_railroad_station_avto_53'), (0.001580819458493865, 'ID_railroad_station_walk_105'), (0.0015502593940082132, 'ID_big_road2_22'), (0.0015483012691477338, 'ID_railroad_terminal_2'), (0.0015416182169161186, 'detention_facility_raion_0'), (0.001532999221467879, 'sub_area_77'), (0.0015321665247867156, 'ID_metro_70'), (0.001530462780621411, 'ID_metro_211'), (0.0015215214260067, 'ID_big_road1_31'), (0.001517555429642492, 'ID_metro_193'), (0.0015131090410922532, 'average_life_exp_1'), (0.0014880049448451338, 'sub_area_91'), (0.001481957431339831, 'ID_metro_188'), (0.0014807879922309475, 'ID_railroad_station_avto_60'), (0.001480227892515451, 'ID_railroad_station_walk_49'), (0.001466588677888181, 'sub_area_110'), (0.001462368514251633, 'ID_metro_199'), (0.0014359386879774227, 'ID_big_road1_44'), (0.0014308728426219997, 'ID_railroad_station_avto_36'), (0.001417209944661435, 'sub_area_23'), (0.0014154056207571486, 'sub_area_140'), (0.0013893742754720328, 'sub_area_38'), (0.0013767143611145283, 'ID_metro_106'), (0.0013686663843384128, 'sub_area_129'), (0.001361615800169913, 'ID_metro_162'), (0.001360014032630863, 'ID_metro_30'), (0.0013033384788259106, 'school_education_centers_top_20_raion_2'), (0.0012831448835601833, 'sub_area_144'), (0.0012713640066657206, 'ID_bus_terminal_11'), (0.001262197658553621, 'ID_railroad_station_walk_31'), (0.0012551203257042953, 'healthcare_centers_raion_6'), (0.0012320696443743895, 'ID_railroad_station_walk_67'), (0.0012311401674760525, 'sub_area_71'), (0.001225912432662568, 'sub_area_135'), (0.0012177414601324266, 'labor_force_1'), (0.0012151195675405013, 'sub_area_127'), (0.0011977857243257173, 'ID_metro_197'), (0.0011949860942053192, 'ID_railroad_station_avto_107'), (0.0011886052312788387, 'unemployment_3'), (0.0011780224150501617, 'ID_big_road2_55'), (0.0011745280213164566, 'sub_area_66'), (0.001136334626571367, 'ID_big_road1_43'), (0.0011183404528301022, 'ID_metro_130'), (0.001112017446175173, 'ID_railroad_station_walk_111'), (0.0011099103683664957, 'ID_metro_177'), (0.0011071278440368815, 'sub_area_130'), (0.0010893978058295062, 'ID_metro_10'), (0.0010621644056800772, 'ID_metro_186'), (0.0010422995494019371, 'ID_metro_80'), (0.0010045964435867472, 'ID_metro_24'), (0.0009959997228643491, 'ID_metro_190'), (0.000989893200625147, 'ID_metro_31'), (0.0009894585922671784, 'ID_big_road1_27'), (0.0009685218354995584, 'ID_metro_16'), (0.000959610143717482, 'ID_railroad_station_avto_50'), (0.0009273604936095303, 'ID_metro_98'), (0.0009147978033097193, 'ID_railroad_station_walk_47'), (0.0009076543975883311, 'ID_railroad_station_walk_19'), (0.0008995221597336567, 'ID_metro_140'), (0.0008911679791421268, 'ID_railroad_station_avto_123'), (0.000886625047755274, 'ID_railroad_station_avto_113'), (0.0008802322083696357, 'ID_metro_156'), (0.0008711850056415393, 'ID_big_road2_35'), (0.0008565865552174756, 'ID_railroad_station_avto_71'), (0.0008451954169745868, 'sub_area_88'), (0.0008335015843883298, 'labor_force_0'), (0.0008200548995318524, 'ID_railroad_station_avto_129'), (0.0008180032461766462, 'ID_railroad_station_walk_131'), (0.0007914720179726942, 'sub_area_28'), (0.0007881496002004607, 'ID_metro_57'), (0.0007794712051982788, 'invest_fixed_assets_4'), (0.000754028814899721, 'ID_railroad_station_walk_87'), (0.0007531083617620116, 'sub_area_138'), (0.0007389810429490051, 'sub_area_80'), (0.000719221806185999, 'ID_railroad_station_walk_85'), (0.0007081192784919033, 'mosque_count_2000_1'), (0.0006979756486815702, 'ID_railroad_station_avto_31'), (0.0006967966400261982, 'ID_railroad_station_walk_101'), (0.0006783886816050799, 'ID_metro_35'), (0.0006666331955147431, 'university_top_20_raion_2'), (0.0006590096643301901, 'sub_area_63'), (0.0006486403810446184, 'sub_area_107'), (0.0006456082826111764, 'ID_railroad_station_avto_65'), (0.0006426763080413789, 'ID_railroad_station_avto_110'), (0.0006420471684933649, 'ID_big_road1_8'), (0.0006396675520967676, 'ID_big_road2_34'), (0.0006190318049905663, 'ID_metro_103'), (0.0006152333018374367, 'ID_big_road2_18'), (0.000613912605936795, 'ID_metro_84'), (0.0005942067125963568, 'sub_area_48'), (0.0005803786734668304, 'employment_1'), (0.0005567572343259108, 'sub_area_69'), (0.0005486881041847358, 'sub_area_62'), (0.0005388292670587269, 'ID_metro_119'), (0.0005194903858323219, 'ID_big_road2_40'), (0.0004952686190515809, 'salary_growth_4'), (0.0004946446840667917, 'ID_metro_207'), (0.0004908281714857132, 'ID_railroad_station_walk_71'), (0.00048675437534795307, 'gdp_annual_growth_4'), (0.0004810990170853735, 'ID_big_road1_24'), (0.0004711264849059926, 'provision_nurse_4'), (0.00046884606197306056, 'sub_area_10'), (0.0004222713023356306, 'sub_area_35'), (0.0004092364662959813, 'retail_trade_turnover_per_cap_0'), (0.000402920537814655, 'ID_big_road2_24'), (0.0003990433950471495, 'ID_big_road2_50'), (0.0003982467530294631, 'ID_railroad_station_avto_42'), (0.00037856276018799484, 'market_count_1000_1'), (0.0003751378236440672, 'ID_railroad_station_walk_91'), (0.000370167093849183, 'sub_area_45'), (0.0003641167121954947, 'ID_metro_109'), (0.000358862990904818, 'ID_metro_175'), (0.00035728423067049597, 'ID_metro_185'), (0.0003553764708590368, 'trc_count_500_4'), (0.0003478605161169046, 'ID_metro_120'), (0.00033869174100842336, 'ID_metro_168'), (0.0003361540111557204, 'market_count_1500_5'), (0.0003348830894469579, 'ID_railroad_station_walk_33'), (0.00030403454745764336, 'ID_railroad_station_walk_117'), (0.0003016768348249599, 'sub_area_18'), (0.0003015034633595537, 'ID_big_road1_7'), (0.00026555556345875253, 'ID_big_road2_53'), (0.00026033390342994345, 'ID_metro_145'), (0.0002578407699125318, 'gdp_deflator_0'), (0.00025454897917764896, 'ID_metro_191'), (0.0002525987259127671, 'market_count_2000_6'), (0.00024799723066859514, 'healthcare_centers_raion_3'), (0.0002323722137724804, 'ID_big_road1_40'), (0.0002179215076021368, 'ID_metro_215'), (0.00021406035349613717, 'ID_railroad_station_avto_103'), (0.00020947390919801023, 'ID_metro_104'), (0.00020936222813361383, 'ID_metro_136'), (0.00019600625138349592, 'modern_education_share_2'), (0.0001945477136493512, 'ecology_0'), (0.0001853314541206963, 'ID_railroad_station_walk_41'), (0.00017677356774070674, 'mosque_count_500_1'), (0.00017549241221770373, 'ID_railroad_station_walk_29'), (0.00017296643785558174, 'ID_railroad_station_walk_96'), (0.0001653897310440744, 'ID_big_road1_46'), (0.0001626946721988709, 'ID_railroad_station_avto_47'), (0.00014887258095774847, 'sub_area_1'), (0.0001414452057135751, 'ID_railroad_station_avto_68'), (0.00012086507931607926, 'sub_area_32'), (0.00011655168036561747, 'ID_railroad_station_avto_22'), (0.00011316407541883677, 'sub_area_131'), (0.00010899459776281262, 'sub_area_51'), (9.618337015115941e-05, 'ID_railroad_station_walk_110'), (8.487920521971226e-05, 'retail_trade_turnover_0'), (8.45895343994929e-05, 'ID_metro_49'), (5.995448158158112e-05, 'ID_railroad_station_walk_124'), (5.5311947255498595e-05, 'ID_metro_76'), (4.449992990473994e-05, 'ID_railroad_station_walk_36'), (3.1423970911825805e-05, 'ID_metro_216'), (1.921399387860845e-05, 'ID_metro_90'), (1.0824450512147976e-05, 'sub_area_7'), (1.7087174444263553e-06, 'ID_metro_163'), (0.0, 'university_top_20_raion_3'), (0.0, 'trc_count_500_7'), (0.0, 'trc_count_500_6'), (0.0, 'sub_area_97'), (0.0, 'sub_area_96'), (0.0, 'sub_area_93'), (0.0, 'sub_area_90'), (0.0, 'sub_area_85'), (0.0, 'sub_area_84'), (0.0, 'sub_area_83'), (0.0, 'sub_area_82'), (0.0, 'sub_area_8'), (0.0, 'sub_area_79'), (0.0, 'sub_area_78'), (0.0, 'sub_area_76'), (0.0, 'sub_area_74'), (0.0, 'sub_area_67'), (0.0, 'sub_area_61'), (0.0, 'sub_area_56'), (0.0, 'sub_area_53'), (0.0, 'sub_area_5'), (0.0, 'sub_area_47'), (0.0, 'sub_area_44'), (0.0, 'sub_area_42'), (0.0, 'sub_area_41'), (0.0, 'sub_area_40'), (0.0, 'sub_area_4'), (0.0, 'sub_area_39'), (0.0, 'sub_area_37'), (0.0, 'sub_area_36'), (0.0, 'sub_area_34'), (0.0, 'sub_area_33'), (0.0, 'sub_area_3'), (0.0, 'sub_area_24'), (0.0, 'sub_area_21'), (0.0, 'sub_area_17'), (0.0, 'sub_area_16'), (0.0, 'sub_area_15'), (0.0, 'sub_area_145'), (0.0, 'sub_area_137'), (0.0, 'sub_area_13'), (0.0, 'sub_area_124'), (0.0, 'sub_area_122'), (0.0, 'sub_area_121'), (0.0, 'sub_area_120'), (0.0, 'sub_area_12'), (0.0, 'sub_area_119'), (0.0, 'sub_area_118'), (0.0, 'sub_area_117'), (0.0, 'sub_area_116'), (0.0, 'sub_area_115'), (0.0, 'sub_area_111'), (0.0, 'sub_area_108'), (0.0, 'sub_area_106'), (0.0, 'sub_area_104'), (0.0, 'sub_area_100'), (0.0, 'sub_area_0'), (0.0, 'salary_growth_3'), (0.0, 'retail_trade_turnover_per_cap_3'), (0.0, 'retail_trade_turnover_growth_4'), (0.0, 'railroad_terminal_raion_0'), (0.0, 'railroad_1line_1'), (0.0, 'quarter_3'), (0.0, 'quarter_2'), (0.0, 'quarter_0'), (0.0, 'provision_retail_space_modern_sqm'), (0.0, 'oil_chemistry_raion_0'), (0.0, 'mosque_count_1500_1'), (0.0, 'market_count_500_2'), (0.0, 'market_count_500_1'), (0.0, 'market_count_2000_8'), (0.0, 'market_count_2000_3'), (0.0, 'market_count_1500_7'), (0.0, 'market_count_1500_4'), (0.0, 'market_count_1000_6'), (0.0, 'market_count_1000_4'), (0.0, 'market_count_1000_2'), (0.0, 'load_on_doctors_2'), (0.0, 'load_of_teachers_school_per_teacher_0'), (0.0, 'invest_fixed_capital_per_cap_0'), (0.0, 'invest_fixed_assets_2'), (0.0, 'invest_fixed_assets_0'), (0.0, 'heating_share'), (0.0, 'healthcare_centers_raion_2'), (0.0, 'ecology_1'), (0.0, 'culture_objects_top_25_raion_5'), (0.0, 'culture_objects_top_25_raion_4'), (0.0, 'culture_objects_top_25_raion_2'), (0.0, 'child_on_acc_pre_school_0'), (0.0, 'child_on_acc_pre_school_-1'), (0.0, 'cafe_count_500_price_high_3'), (0.0, 'cafe_count_1000_price_high_7'), (0.0, 'cafe_count_1000_price_high_6'), (0.0, 'cafe_count_1000_price_high_5'), (0.0, 'cafe_count_1000_price_high_1'), (0.0, 'build_count_foam'), (0.0, 'big_road1_1line_1'), (0.0, 'ID_railroad_terminal_7'), (0.0, 'ID_railroad_terminal_6'), (0.0, 'ID_railroad_terminal_5'), (0.0, 'ID_railroad_terminal_4'), (0.0, 'ID_railroad_terminal_1'), (0.0, 'ID_railroad_station_walk_99'), (0.0, 'ID_railroad_station_walk_97'), (0.0, 'ID_railroad_station_walk_94'), (0.0, 'ID_railroad_station_walk_93'), (0.0, 'ID_railroad_station_walk_92'), (0.0, 'ID_railroad_station_walk_86'), (0.0, 'ID_railroad_station_walk_83'), (0.0, 'ID_railroad_station_walk_81'), (0.0, 'ID_railroad_station_walk_80'), (0.0, 'ID_railroad_station_walk_8'), (0.0, 'ID_railroad_station_walk_77'), (0.0, 'ID_railroad_station_walk_76'), (0.0, 'ID_railroad_station_walk_75'), (0.0, 'ID_railroad_station_walk_7'), (0.0, 'ID_railroad_station_walk_65'), (0.0, 'ID_railroad_station_walk_64'), (0.0, 'ID_railroad_station_walk_62'), (0.0, 'ID_railroad_station_walk_60'), (0.0, 'ID_railroad_station_walk_59'), (0.0, 'ID_railroad_station_walk_58'), (0.0, 'ID_railroad_station_walk_55'), (0.0, 'ID_railroad_station_walk_51'), (0.0, 'ID_railroad_station_walk_48'), (0.0, 'ID_railroad_station_walk_45'), (0.0, 'ID_railroad_station_walk_42'), (0.0, 'ID_railroad_station_walk_40'), (0.0, 'ID_railroad_station_walk_39'), (0.0, 'ID_railroad_station_walk_37'), (0.0, 'ID_railroad_station_walk_34'), (0.0, 'ID_railroad_station_walk_26'), (0.0, 'ID_railroad_station_walk_21'), (0.0, 'ID_railroad_station_walk_20'), (0.0, 'ID_railroad_station_walk_18'), (0.0, 'ID_railroad_station_walk_17'), (0.0, 'ID_railroad_station_walk_16'), (0.0, 'ID_railroad_station_walk_14'), (0.0, 'ID_railroad_station_walk_132'), (0.0, 'ID_railroad_station_walk_13'), (0.0, 'ID_railroad_station_walk_125'), (0.0, 'ID_railroad_station_walk_123'), (0.0, 'ID_railroad_station_walk_121'), (0.0, 'ID_railroad_station_walk_120'), (0.0, 'ID_railroad_station_walk_12'), (0.0, 'ID_railroad_station_walk_119'), (0.0, 'ID_railroad_station_walk_116'), (0.0, 'ID_railroad_station_walk_113'), (0.0, 'ID_railroad_station_walk_109'), (0.0, 'ID_railroad_station_walk_108'), (0.0, 'ID_railroad_station_walk_106'), (0.0, 'ID_railroad_station_walk_100'), (0.0, 'ID_railroad_station_walk_10'), (0.0, 'ID_railroad_station_walk_0'), (0.0, 'ID_railroad_station_walk_-1'), (0.0, 'ID_railroad_station_avto_96'), (0.0, 'ID_railroad_station_avto_95'), (0.0, 'ID_railroad_station_avto_93'), (0.0, 'ID_railroad_station_avto_90'), (0.0, 'ID_railroad_station_avto_9'), (0.0, 'ID_railroad_station_avto_87'), (0.0, 'ID_railroad_station_avto_85'), (0.0, 'ID_railroad_station_avto_84'), (0.0, 'ID_railroad_station_avto_83'), (0.0, 'ID_railroad_station_avto_82'), (0.0, 'ID_railroad_station_avto_81'), (0.0, 'ID_railroad_station_avto_8'), (0.0, 'ID_railroad_station_avto_78'), (0.0, 'ID_railroad_station_avto_77'), (0.0, 'ID_railroad_station_avto_76'), (0.0, 'ID_railroad_station_avto_74'), (0.0, 'ID_railroad_station_avto_7'), (0.0, 'ID_railroad_station_avto_69'), (0.0, 'ID_railroad_station_avto_62'), (0.0, 'ID_railroad_station_avto_6'), (0.0, 'ID_railroad_station_avto_59'), (0.0, 'ID_railroad_station_avto_58'), (0.0, 'ID_railroad_station_avto_57'), (0.0, 'ID_railroad_station_avto_56'), (0.0, 'ID_railroad_station_avto_54'), (0.0, 'ID_railroad_station_avto_52'), (0.0, 'ID_railroad_station_avto_51'), (0.0, 'ID_railroad_station_avto_5'), (0.0, 'ID_railroad_station_avto_49'), (0.0, 'ID_railroad_station_avto_45'), (0.0, 'ID_railroad_station_avto_43'), (0.0, 'ID_railroad_station_avto_4'), (0.0, 'ID_railroad_station_avto_38'), (0.0, 'ID_railroad_station_avto_35'), (0.0, 'ID_railroad_station_avto_34'), (0.0, 'ID_railroad_station_avto_29'), (0.0, 'ID_railroad_station_avto_28'), (0.0, 'ID_railroad_station_avto_27'), (0.0, 'ID_railroad_station_avto_26'), (0.0, 'ID_railroad_station_avto_2'), (0.0, 'ID_railroad_station_avto_17'), (0.0, 'ID_railroad_station_avto_15'), (0.0, 'ID_railroad_station_avto_132'), (0.0, 'ID_railroad_station_avto_130'), (0.0, 'ID_railroad_station_avto_13'), (0.0, 'ID_railroad_station_avto_128'), (0.0, 'ID_railroad_station_avto_127'), (0.0, 'ID_railroad_station_avto_126'), (0.0, 'ID_railroad_station_avto_122'), (0.0, 'ID_railroad_station_avto_121'), (0.0, 'ID_railroad_station_avto_120'), (0.0, 'ID_railroad_station_avto_118'), (0.0, 'ID_railroad_station_avto_117'), (0.0, 'ID_railroad_station_avto_115'), (0.0, 'ID_railroad_station_avto_114'), (0.0, 'ID_railroad_station_avto_111'), (0.0, 'ID_railroad_station_avto_109'), (0.0, 'ID_railroad_station_avto_104'), (0.0, 'ID_railroad_station_avto_101'), (0.0, 'ID_railroad_station_avto_100'), (0.0, 'ID_railroad_station_avto_10'), (0.0, 'ID_metro_97'), (0.0, 'ID_metro_95'), (0.0, 'ID_metro_93'), (0.0, 'ID_metro_92'), (0.0, 'ID_metro_9'), (0.0, 'ID_metro_88'), (0.0, 'ID_metro_86'), (0.0, 'ID_metro_85'), (0.0, 'ID_metro_83'), (0.0, 'ID_metro_82'), (0.0, 'ID_metro_81'), (0.0, 'ID_metro_78'), (0.0, 'ID_metro_77'), (0.0, 'ID_metro_74'), (0.0, 'ID_metro_73'), (0.0, 'ID_metro_72'), (0.0, 'ID_metro_68'), (0.0, 'ID_metro_66'), (0.0, 'ID_metro_65'), (0.0, 'ID_metro_62'), (0.0, 'ID_metro_61'), (0.0, 'ID_metro_60'), (0.0, 'ID_metro_6'), (0.0, 'ID_metro_56'), (0.0, 'ID_metro_55'), (0.0, 'ID_metro_53'), (0.0, 'ID_metro_52'), (0.0, 'ID_metro_50'), (0.0, 'ID_metro_5'), (0.0, 'ID_metro_48'), (0.0, 'ID_metro_46'), (0.0, 'ID_metro_45'), (0.0, 'ID_metro_42'), (0.0, 'ID_metro_41'), (0.0, 'ID_metro_4'), (0.0, 'ID_metro_38'), (0.0, 'ID_metro_37'), (0.0, 'ID_metro_33'), (0.0, 'ID_metro_32'), (0.0, 'ID_metro_29'), (0.0, 'ID_metro_28'), (0.0, 'ID_metro_27'), (0.0, 'ID_metro_26'), (0.0, 'ID_metro_23'), (0.0, 'ID_metro_221'), (0.0, 'ID_metro_22'), (0.0, 'ID_metro_219'), (0.0, 'ID_metro_217'), (0.0, 'ID_metro_214'), (0.0, 'ID_metro_212'), (0.0, 'ID_metro_200'), (0.0, 'ID_metro_198'), (0.0, 'ID_metro_195'), (0.0, 'ID_metro_192'), (0.0, 'ID_metro_189'), (0.0, 'ID_metro_187'), (0.0, 'ID_metro_182'), (0.0, 'ID_metro_18'), (0.0, 'ID_metro_179'), (0.0, 'ID_metro_178'), (0.0, 'ID_metro_176'), (0.0, 'ID_metro_174'), (0.0, 'ID_metro_173'), (0.0, 'ID_metro_172'), (0.0, 'ID_metro_171'), (0.0, 'ID_metro_170'), (0.0, 'ID_metro_167'), (0.0, 'ID_metro_165'), (0.0, 'ID_metro_161'), (0.0, 'ID_metro_159'), (0.0, 'ID_metro_158'), (0.0, 'ID_metro_155'), (0.0, 'ID_metro_151'), (0.0, 'ID_metro_15'), (0.0, 'ID_metro_149'), (0.0, 'ID_metro_148'), (0.0, 'ID_metro_147'), (0.0, 'ID_metro_146'), (0.0, 'ID_metro_144'), (0.0, 'ID_metro_143'), (0.0, 'ID_metro_142'), (0.0, 'ID_metro_141'), (0.0, 'ID_metro_14'), (0.0, 'ID_metro_137'), (0.0, 'ID_metro_135'), (0.0, 'ID_metro_132'), (0.0, 'ID_metro_128'), (0.0, 'ID_metro_126'), (0.0, 'ID_metro_123'), (0.0, 'ID_metro_121'), (0.0, 'ID_metro_117'), (0.0, 'ID_metro_116'), (0.0, 'ID_metro_115'), (0.0, 'ID_metro_112'), (0.0, 'ID_metro_108'), (0.0, 'ID_metro_105'), (0.0, 'ID_metro_101'), (0.0, 'ID_metro_100'), (0.0, 'ID_metro_1'), (0.0, 'ID_bus_terminal_9'), (0.0, 'ID_bus_terminal_6'), (0.0, 'ID_bus_terminal_0'), (0.0, 'ID_big_road2_7'), (0.0, 'ID_big_road2_57'), (0.0, 'ID_big_road2_52'), (0.0, 'ID_big_road2_49'), (0.0, 'ID_big_road2_47'), (0.0, 'ID_big_road2_44'), (0.0, 'ID_big_road2_43'), (0.0, 'ID_big_road2_42'), (0.0, 'ID_big_road2_41'), (0.0, 'ID_big_road2_4'), (0.0, 'ID_big_road2_39'), (0.0, 'ID_big_road2_38'), (0.0, 'ID_big_road2_31'), (0.0, 'ID_big_road2_30'), (0.0, 'ID_big_road2_28'), (0.0, 'ID_big_road2_27'), (0.0, 'ID_big_road2_23'), (0.0, 'ID_big_road2_20'), (0.0, 'ID_big_road2_2'), (0.0, 'ID_big_road2_13'), (0.0, 'ID_big_road2_11'), (0.0, 'ID_big_road2_10'), (0.0, 'ID_big_road1_6'), (0.0, 'ID_big_road1_5'), (0.0, 'ID_big_road1_47'), (0.0, 'ID_big_road1_4'), (0.0, 'ID_big_road1_39'), (0.0, 'ID_big_road1_36'), (0.0, 'ID_big_road1_35'), (0.0, 'ID_big_road1_34'), (0.0, 'ID_big_road1_32'), (0.0, 'ID_big_road1_29'), (0.0, 'ID_big_road1_26'), (0.0, 'ID_big_road1_23'), (0.0, 'ID_big_road1_22'), (0.0, 'ID_big_road1_2'), (0.0, 'ID_big_road1_19'), (0.0, 'ID_big_road1_16'), (0.0, 'ID_big_road1_1'), (0.0, 'ID_big_road1_0')]\n",
      "2018-11-20 16:28:02.885070\n"
     ]
    }
   ],
   "source": [
    "# information gain\n",
    "print (dt.datetime.now())\n",
    "res = list(zip(mutual_info_classif(df_train[x_list], df_train['price_cat']), x_list))\n",
    "print(sorted(res,reverse=True))\n",
    "print (dt.datetime.now())"
   ]
  },
  {
   "cell_type": "code",
   "execution_count": 161,
   "metadata": {},
   "outputs": [
    {
     "name": "stdout",
     "output_type": "stream",
     "text": [
      "2018-11-20 13:03:44.361024\n",
      "2018-11-20 13:09:24.102185\n"
     ]
    }
   ],
   "source": [
    "# information gain --> want to verify that 1.0 is the highest value for info gain... \n",
    "# answer is 1.05 but that's probably just a rounding error. For all intents and purposes it's 1.0 ...\n",
    "print (dt.datetime.now())\n",
    "for c in new_idlist:\n",
    "    #colx = ['price_cat','diff_sq', 'plus_sq', 'km_sum', c] \n",
    "    colx = [c]\n",
    "    res = list(zip(mutual_info_classif(df_train[colx], df_train['price_cat'], discrete_features=False), colx))\n",
    "    #print(sorted(res,reverse=True))\n",
    "    #print(res[4][0])\n",
    "    if res[0][0] >= .1:\n",
    "        print(res[0])\n",
    "print (dt.datetime.now())"
   ]
  },
  {
   "cell_type": "code",
   "execution_count": 26,
   "metadata": {},
   "outputs": [
    {
     "data": {
      "text/plain": [
       "(10264, 156)"
      ]
     },
     "execution_count": 26,
     "metadata": {},
     "output_type": "execute_result"
    }
   ],
   "source": [
    "X_train.shape"
   ]
  },
  {
   "cell_type": "code",
   "execution_count": 17,
   "metadata": {},
   "outputs": [
    {
     "name": "stdout",
     "output_type": "stream",
     "text": [
      "2018-11-21 07:37:49.398792\n",
      "score 0.6040009092975677\n",
      "pred label [3 3 3 ... 3 1 2]\n",
      "2018-11-21 07:38:32.216767\n"
     ]
    }
   ],
   "source": [
    "print (dt.datetime.now())\n",
    "pca = PCA(n_components=20)# adjust yourself\n",
    "pca.fit(X_train)\n",
    "X_t_train = pca.transform(X_train)\n",
    "X_t_test = pca.transform(X_test)\n",
    "clf = RandomForestClassifier(criterion='entropy', n_estimators=500)\n",
    "clf.fit(X_t_train, y_train)\n",
    "print ('score', clf.score(X_t_test, y_test))\n",
    "print ('pred label', clf.predict(X_t_test))\n",
    "print (dt.datetime.now())"
   ]
  },
  {
   "cell_type": "code",
   "execution_count": 41,
   "metadata": {},
   "outputs": [
    {
     "name": "stdout",
     "output_type": "stream",
     "text": [
      "2018-11-20 18:31:57.285884\n",
      "score 0.758808820186406\n",
      "pred label [2 2 2 ... 2 1 2]\n",
      "2018-11-20 18:35:55.206863\n"
     ]
    }
   ],
   "source": [
    "print (dt.datetime.now())\n",
    "pca = PCA(n_components=150)# adjust yourself\n",
    "pca.fit(X_train)\n",
    "X_t_train = pca.transform(X_train)\n",
    "X_t_test = pca.transform(X_test)\n",
    "clf = XGBClassifier(objective='multi:softmax', n_estimators=500)\n",
    "clf.fit(X_t_train, y_train)\n",
    "print ('score', clf.score(X_t_test, y_test))\n",
    "print ('pred label', clf.predict(X_t_test))\n",
    "print (dt.datetime.now())"
   ]
  },
  {
   "cell_type": "code",
   "execution_count": 19,
   "metadata": {},
   "outputs": [
    {
     "name": "stdout",
     "output_type": "stream",
     "text": [
      "2018-11-21 07:41:08.403754\n",
      "Fitting 10 folds for each of 1 candidates, totalling 10 fits\n",
      "[CV] clf__n_estimators=500 ...........................................\n",
      "[CV] clf__n_estimators=500 ...........................................\n",
      "[CV] clf__n_estimators=500 ...........................................\n",
      "[CV] clf__n_estimators=500 ...........................................\n",
      "[CV] clf__n_estimators=500 ...........................................\n",
      "[CV] .. clf__n_estimators=500, score=0.7792207792207793, total=  15.6s\n",
      "[CV] .. clf__n_estimators=500, score=0.7681818181818182, total=  15.6s\n",
      "[CV] .. clf__n_estimators=500, score=0.7834415584415585, total=  15.9s\n",
      "[CV] clf__n_estimators=500 ...........................................\n",
      "[CV] clf__n_estimators=500 ...........................................\n",
      "[CV] .. clf__n_estimators=500, score=0.7766233766233767, total=  15.9s\n",
      "[CV] ... clf__n_estimators=500, score=0.775974025974026, total=  15.8s\n",
      "[CV] clf__n_estimators=500 ...........................................\n",
      "[CV] clf__n_estimators=500 ...........................................\n"
     ]
    },
    {
     "name": "stderr",
     "output_type": "stream",
     "text": [
      "[Parallel(n_jobs=5)]: Done   5 out of  10 | elapsed:   17.3s remaining:   17.3s\n"
     ]
    },
    {
     "name": "stdout",
     "output_type": "stream",
     "text": [
      "[CV] clf__n_estimators=500 ...........................................\n",
      "[CV] .. clf__n_estimators=500, score=0.7785714285714286, total=  15.0s\n",
      "[CV] .. clf__n_estimators=500, score=0.7740259740259741, total=  15.2s\n",
      "[CV] .. clf__n_estimators=500, score=0.7808441558441559, total=  15.2s\n",
      "[CV] .. clf__n_estimators=500, score=0.7733766233766234, total=  15.4s\n",
      "[CV] ... clf__n_estimators=500, score=0.775974025974026, total=  15.4s\n"
     ]
    },
    {
     "name": "stderr",
     "output_type": "stream",
     "text": [
      "[Parallel(n_jobs=5)]: Done  10 out of  10 | elapsed:   33.9s finished\n"
     ]
    },
    {
     "name": "stdout",
     "output_type": "stream",
     "text": [
      "{'clf__n_estimators': 500}\n",
      "0.9887957911145752\n",
      "0.7760854739713571\n",
      "2018-11-21 07:42:01.608883\n"
     ]
    }
   ],
   "source": [
    "# test model\n",
    "print (dt.datetime.now())\n",
    "pipe = Pipeline([\n",
    "  ('clf', RandomForestClassifier(criterion='gini'))\n",
    "])\n",
    "\n",
    "cv = model_selection.ShuffleSplit(n_splits=10, test_size=0.3)\n",
    "param_grid = { \"clf__n_estimators\": [500] } \n",
    "pipe_est_cv = model_selection.GridSearchCV(pipe, param_grid=param_grid, cv=cv, scoring='accuracy', \\\n",
    "                                           verbose=3, n_jobs=5)\n",
    "\n",
    "pipe_est_cv.fit(X_train, y_train)\n",
    "print(pipe_est_cv.best_params_)\n",
    "print(pipe_est_cv.score(X_train, y_train)) # 1.0  10 splits\n",
    "print(pipe_est_cv.score(selector.transform(X_test), y_test))\n",
    "print (dt.datetime.now())"
   ]
  },
  {
   "cell_type": "code",
   "execution_count": 81,
   "metadata": {},
   "outputs": [
    {
     "name": "stderr",
     "output_type": "stream",
     "text": [
      "/Users/chadleonard/Springboard/anaconda3/lib/python3.7/site-packages/sklearn/utils/deprecation.py:122: FutureWarning: You are accessing a training score ('mean_train_score'), which will not be available by default any more in 0.21. If you need training scores, please set return_train_score=True\n",
      "  warnings.warn(*warn_args, **warn_kwargs)\n"
     ]
    },
    {
     "name": "stdout",
     "output_type": "stream",
     "text": [
      "[0.9877046]\n",
      "[0.78536031]\n",
      "0.9847692657422141\n"
     ]
    }
   ],
   "source": [
    "pipe_est_cv_results = pipe_est_cv.cv_results_\n",
    "print(pipe_est_cv_results['mean_train_score'])\n",
    "print(pipe_est_cv_results['mean_test_score'])\n",
    "print(pipe_est_cv.score(selector.transform(X_test), y_test))"
   ]
  },
  {
   "cell_type": "code",
   "execution_count": null,
   "metadata": {},
   "outputs": [],
   "source": []
  },
  {
   "cell_type": "code",
   "execution_count": 93,
   "metadata": {},
   "outputs": [
    {
     "name": "stdout",
     "output_type": "stream",
     "text": [
      "2018-11-20 10:55:12.922932\n",
      "Fitting 5 folds for each of 1 candidates, totalling 5 fits\n",
      "[CV] clf__max_depth=20, clf__n_estimators=200, clf__objective=multi:softmax \n",
      "[CV] clf__max_depth=20, clf__n_estimators=200, clf__objective=multi:softmax \n",
      "[CV] clf__max_depth=20, clf__n_estimators=200, clf__objective=multi:softmax \n",
      "[CV] clf__max_depth=20, clf__n_estimators=200, clf__objective=multi:softmax \n",
      "[CV] clf__max_depth=20, clf__n_estimators=200, clf__objective=multi:softmax \n",
      "[CV]  clf__max_depth=20, clf__n_estimators=200, clf__objective=multi:softmax, score=0.7986404125644632, total=33.4min\n",
      "[CV]  clf__max_depth=20, clf__n_estimators=200, clf__objective=multi:softmax, score=0.8082512892639475, total=33.5min\n"
     ]
    },
    {
     "name": "stderr",
     "output_type": "stream",
     "text": [
      "[Parallel(n_jobs=5)]: Done   2 out of   5 | elapsed: 33.6min remaining: 50.4min\n"
     ]
    },
    {
     "name": "stdout",
     "output_type": "stream",
     "text": [
      "[CV]  clf__max_depth=20, clf__n_estimators=200, clf__objective=multi:softmax, score=0.8089545241443976, total=33.6min\n",
      "[CV]  clf__max_depth=20, clf__n_estimators=200, clf__objective=multi:softmax, score=0.8087201125175809, total=33.6min\n",
      "[CV]  clf__max_depth=20, clf__n_estimators=200, clf__objective=multi:softmax, score=0.8037974683544303, total=33.7min\n"
     ]
    },
    {
     "name": "stderr",
     "output_type": "stream",
     "text": [
      "[Parallel(n_jobs=5)]: Done   5 out of   5 | elapsed: 33.8min finished\n"
     ]
    },
    {
     "name": "stdout",
     "output_type": "stream",
     "text": [
      "{'clf__max_depth': 20, 'clf__n_estimators': 200, 'clf__objective': 'multi:softmax'}\n",
      "0.8056727613689639\n",
      "[1.]\n",
      "[0.80567276]\n",
      "2018-11-20 12:03:47.110039\n"
     ]
    },
    {
     "name": "stderr",
     "output_type": "stream",
     "text": [
      "/Users/chadleonard/Springboard/anaconda3/lib/python3.7/site-packages/sklearn/utils/deprecation.py:122: FutureWarning: You are accessing a training score ('mean_train_score'), which will not be available by default any more in 0.21. If you need training scores, please set return_train_score=True\n",
      "  warnings.warn(*warn_args, **warn_kwargs)\n"
     ]
    }
   ],
   "source": [
    "# First XGBoost Classifier model\n",
    "print (dt.datetime.now())\n",
    "pipe = Pipeline([\n",
    "      # ('scaling', preprocessing.StandardScaler()),\n",
    "       #('pca', PCA(whiten=True)),\n",
    "       ('clf', XGBClassifier()) \n",
    "    ])\n",
    "\n",
    "cv = model_selection.ShuffleSplit(n_splits=5, test_size=0.2)\n",
    "param_grid = { \"clf__n_estimators\": [200], \\\n",
    "              \"clf__objective\": ['multi:softmax'] , \"clf__max_depth\": [20]}\n",
    "pipe_est_cv = model_selection.GridSearchCV(pipe, param_grid=param_grid, cv=cv, \\\n",
    "                                           scoring='accuracy', verbose=3, n_jobs=5)\n",
    "\n",
    "pipe_est_cv.fit(X_train, y_train)\n",
    "pipe_est_cv_results = pipe_est_cv.cv_results_\n",
    "\n",
    "print(pipe_est_cv.best_params_)\n",
    "print(pipe_est_cv.best_score_)\n",
    "\n",
    "print(pipe_est_cv_results['mean_train_score'])\n",
    "print(pipe_est_cv_results['mean_test_score'])\n",
    "print (dt.datetime.now())"
   ]
  },
  {
   "cell_type": "code",
   "execution_count": 16,
   "metadata": {},
   "outputs": [
    {
     "data": {
      "text/plain": [
       "[1, 3, 2, 2, 3]"
      ]
     },
     "execution_count": 16,
     "metadata": {},
     "output_type": "execute_result"
    }
   ],
   "source": [
    "y_out = list(pipe_est_cv.predict(X_test))\n",
    "y_out[:5]"
   ]
  },
  {
   "cell_type": "code",
   "execution_count": 17,
   "metadata": {},
   "outputs": [
    {
     "name": "stdout",
     "output_type": "stream",
     "text": [
      "919\n"
     ]
    }
   ],
   "source": [
    "result = []\n",
    "y_in = list(y_test)\n",
    "for a in range(len(y_in)):\n",
    "    if y_in[a] != y_out[a]:\n",
    "        result.append((y_in[a], y_out[a]))\n",
    "print(len(result))\n",
    "#sorted(result)"
   ]
  },
  {
   "cell_type": "code",
   "execution_count": 18,
   "metadata": {},
   "outputs": [
    {
     "data": {
      "text/plain": [
       "[(289, (1, 2)),\n",
       " (215, (2, 1)),\n",
       " (129, (3, 2)),\n",
       " (119, (2, 3)),\n",
       " (72, (1, 3)),\n",
       " (29, (0, 1)),\n",
       " (28, (0, 2)),\n",
       " (12, (3, 1)),\n",
       " (9, (3, 0)),\n",
       " (9, (0, 3)),\n",
       " (4, (2, 0)),\n",
       " (4, (1, 0))]"
      ]
     },
     "execution_count": 18,
     "metadata": {},
     "output_type": "execute_result"
    }
   ],
   "source": [
    "d = defaultdict(int)\n",
    "for a in result:\n",
    "    d[a] += 1\n",
    "    \n",
    "ys = [(v,k) for k,v in d.items()]\n",
    "sorted(ys,reverse=True)"
   ]
  },
  {
   "cell_type": "code",
   "execution_count": 105,
   "metadata": {},
   "outputs": [
    {
     "name": "stdout",
     "output_type": "stream",
     "text": [
      "2018-11-19 13:36:21.710964\n",
      "[(1.0578597018780778, 'price_cat'), (1.054515396339213, 'price_doc'), (0.15398174695474132, 'area_m'), (0.13284162703609503, 'diff_sq')]\n",
      "2018-11-19 13:36:24.936279\n"
     ]
    }
   ],
   "source": [
    "# information gain --> want to verify that 1.0 is the highest value for info gain... \n",
    "# answer is 1.05 but that's probably just a rounding error. For all intents and purposes it's 1.0 ...\n",
    "print (dt.datetime.now())\n",
    "df1['diff_sq'] = df1['full_sq'] - df1['life_sq']\n",
    "colx = ['price_cat','price_doc', 'area_m', 'diff_sq']\n",
    "res = list(zip(mutual_info_classif(df1[colx], df1['price_cat']), colx))\n",
    "print(sorted(res,reverse=True))\n",
    "print (dt.datetime.now())"
   ]
  },
  {
   "cell_type": "code",
   "execution_count": null,
   "metadata": {},
   "outputs": [],
   "source": [
    "price_doc: sale price (this is the target variable)\n",
    "id: transaction id\n",
    "timestamp: date of transaction\n",
    "full_sq: total area in square meters, including loggias, balconies and other non-residential areas\n",
    "life_sq: living area in square meters, excluding loggias, balconies and other non-residential areas\n",
    "floor: for apartments, floor of the building\n",
    "max_floor: number of floors in the building\n",
    "material: wall material\n",
    "build_year: year built\n",
    "num_room: number of living rooms\n",
    "kitch_sq: kitchen area\n",
    "state: apartment condition\n",
    "product_type: owner-occupier purchase or investment\n",
    "sub_area: name of the district\n"
   ]
  },
  {
   "cell_type": "code",
   "execution_count": 124,
   "metadata": {},
   "outputs": [],
   "source": [
    "df1['product_type'] = df['product_type'].astype('category').cat.codes"
   ]
  },
  {
   "cell_type": "code",
   "execution_count": 157,
   "metadata": {},
   "outputs": [
    {
     "name": "stdout",
     "output_type": "stream",
     "text": [
      "2018-11-19 14:20:24.339551\n",
      "[(1.0577776566547508, 'price_cat'), (1.0544989872945476, 'price_doc'), (0.19406288855386378, 'plus_sq'), (0.18125053277230507, 'diff_sq'), (0.1601665206825107, 'sub_area'), (0.11116952979989203, 'num_room')]\n",
      "2018-11-19 14:20:26.912005\n"
     ]
    }
   ],
   "source": [
    "# information gain --> want to verify that 1.0 is the highest value for info gain... \n",
    "# answer is 1.05 but that's probably just a rounding error. For all intents and purposes it's 1.0 ...\n",
    "print (dt.datetime.now())\n",
    "df1['diff_sq'] = df1['full_sq'] - df1['kitch_sq']\n",
    "df1['plus_sq'] = df1['full_sq'] + df1['life_sq'] #+ df1['kitch_sq']\n",
    "df1['sub_area'] = df['sub_area'].astype('category').cat.codes\n",
    "colx = ['price_cat','price_doc', 'diff_sq', 'plus_sq'\\\n",
    "       ,'num_room', 'sub_area']\n",
    "res = list(zip(mutual_info_classif(df1[colx], df1['price_cat'], discrete_features=False), colx))\n",
    "print(sorted(res,reverse=True))\n",
    "print (dt.datetime.now())"
   ]
  },
  {
   "cell_type": "code",
   "execution_count": 130,
   "metadata": {},
   "outputs": [],
   "source": [
    "df1['build_year'].value_counts()\n",
    "pass"
   ]
  },
  {
   "cell_type": "code",
   "execution_count": null,
   "metadata": {},
   "outputs": [],
   "source": []
  }
 ],
 "metadata": {
  "kernelspec": {
   "display_name": "Python 3",
   "language": "python",
   "name": "python3"
  },
  "language_info": {
   "codemirror_mode": {
    "name": "ipython",
    "version": 3
   },
   "file_extension": ".py",
   "mimetype": "text/x-python",
   "name": "python",
   "nbconvert_exporter": "python",
   "pygments_lexer": "ipython3",
   "version": "3.7.1"
  }
 },
 "nbformat": 4,
 "nbformat_minor": 2
}
