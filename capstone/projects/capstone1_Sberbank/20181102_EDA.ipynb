{
 "cells": [
  {
   "cell_type": "code",
   "execution_count": 1,
   "metadata": {},
   "outputs": [
    {
     "name": "stderr",
     "output_type": "stream",
     "text": [
      "/Users/chadleonard/Springboard/anaconda3/lib/python3.7/site-packages/sklearn/ensemble/weight_boosting.py:29: DeprecationWarning: numpy.core.umath_tests is an internal NumPy module and should not be imported. It will be removed in a future NumPy release.\n",
      "  from numpy.core.umath_tests import inner1d\n"
     ]
    }
   ],
   "source": [
    "import pandas as pd\n",
    "import os \n",
    "import numpy as np\n",
    "import seaborn as sns\n",
    "import matplotlib.pyplot as plt\n",
    "from collections import defaultdict\n",
    "from sklearn.pipeline import Pipeline\n",
    "from sklearn import preprocessing, model_selection\n",
    "from sklearn.metrics import roc_curve, auc\n",
    "from sklearn.decomposition import PCA\n",
    "from sklearn.ensemble import RandomForestClassifier\n",
    "from sklearn.feature_selection import SelectFromModel\n",
    "from sklearn.linear_model import LogisticRegression\n",
    "\n",
    "\n",
    "import datetime as dt\n",
    "\n",
    "np.seterr(divide='ignore', invalid='ignore')\n",
    "\n",
    "%matplotlib inline \n"
   ]
  },
  {
   "cell_type": "code",
   "execution_count": 2,
   "metadata": {},
   "outputs": [],
   "source": [
    "def fix_num_cols(dframe, skiplist, dropcol=1):\n",
    "    n = 0\n",
    "    m = 0\n",
    "    for col in dframe.columns.values:\n",
    "        if col not in skiplist:\n",
    "            if isinstance(dframe[col].dtype,((object))):\n",
    "                try:\n",
    "                    #dframe[col].fillna(dframe[col].mean(), inplace=True)\n",
    "                    dframe[col].fillna(dframe[col].median(), inplace=True)\n",
    "                    m+=1\n",
    "                except:\n",
    "                    print('error: ' + col)\n",
    "                    if dropcol:\n",
    "                        dframe.drop(col, inplace=True, axis=1)\n",
    "                    else:\n",
    "                        n+=1\n",
    "                        #print(col)\n",
    "                        #dframe[col] = dframe[col].astype('category').cat.codes\n",
    "                        dframe[col].fillna('NUL', inplace=True)\n",
    "    print(n)\n",
    "    print(m)\n",
    "    return dframe"
   ]
  },
  {
   "cell_type": "code",
   "execution_count": 3,
   "metadata": {},
   "outputs": [
    {
     "name": "stdout",
     "output_type": "stream",
     "text": [
      "2018-11-15 10:18:23.329166\n",
      "/Users/chadleonard/Springboard/work/springboard/capstone/projects/capstone1_Sberbank/../../../data/all/\n",
      "2018-11-15 10:18:34.559679\n"
     ]
    }
   ],
   "source": [
    "if __name__ == \"__main__\":\n",
    "    print (dt.datetime.now())\n",
    "    dir_path = os.getcwd() + '/../../../data/all/'\n",
    "    print (dir_path)\n",
    "    df = pd.read_csv(dir_path + 'train.csv')\n",
    "    df_macro = pd.read_csv(dir_path + 'macro.csv')\n",
    "\n",
    "    df['price_length'] = [7.5 if cat > 6e6 and cat < 1e7 else len(str(cat)) for cat in df['price_doc'] ]\n",
    "    \n",
    "    df['price_length'] = [l if l < 8 else 8 for l in df['price_length']]\n",
    "    \n",
    "    df['price_cat'] = df['price_length'].astype('category').cat.codes\n",
    "    \n",
    "    df['quarter'] = df['timestamp'].apply(lambda x: pd.Timestamp(x).quarter)\n",
    "    \n",
    "    df.loc[df.price_cat == 4, 'price_cat'] = 3\n",
    "    df_eda = pd.merge(df, df_macro, how='inner', on='timestamp', left_on=None, right_on=None,\n",
    "         left_index=False, right_index=False, sort=True,\n",
    "         suffixes=('_x', '_y'), copy=True, indicator=False,\n",
    "         validate=None)\n",
    "    \n",
    "    null_yr = 9999.0\n",
    "    yr = dt.datetime.now().year\n",
    "    # take care of bad dates, dates too old, too far out into the future, or NaN. Set them all to 9999.0\n",
    "    for i in df_eda['build_year'].index:\n",
    "        if df_eda.loc[i, 'build_year'] < 1700 \\\n",
    "                or np.isnan(df_eda.loc[i, 'build_year']) \\\n",
    "                or df_eda.loc[i, 'build_year'] > yr:\n",
    "            df_eda.loc[i, 'build_year'] = null_yr\n",
    "\n",
    "    df_eda.drop(['price_length','id', 'timestamp'], inplace=True, axis=1)\n",
    "    \n",
    "    print (dt.datetime.now())"
   ]
  },
  {
   "cell_type": "markdown",
   "metadata": {},
   "source": [
    "Possible values for **palette** are: Accent, Accent_r, Blues, Blues_r, BrBG, BrBG_r, BuGn, BuGn_r, BuPu, BuPu_r, \n",
    "    CMRmap, CMRmap_r, Dark2, Dark2_r, GnBu, GnBu_r, Greens, Greens_r, Greys, Greys_r, OrRd, OrRd_r, \n",
    "    Oranges, Oranges_r, PRGn, PRGn_r, Paired, Paired_r, Pastel1, Pastel1_r, Pastel2, Pastel2_r, PiYG,\n",
    "    PiYG_r, PuBu, PuBuGn, PuBuGn_r, PuBu_r, PuOr, PuOr_r, PuRd, PuRd_r, Purples, Purples_r, RdBu, \n",
    "    RdBu_r, RdGy, RdGy_r, RdPu, RdPu_r, RdYlBu, RdYlBu_r, RdYlGn, RdYlGn_r, Reds, Reds_r, Set1, Set1_r, \n",
    "    Set2, Set2_r, Set3, Set3_r, Spectral, Spectral_r, Wistia, Wistia_r, YlGn, YlGnBu, YlGnBu_r, YlGn_r, \n",
    "    YlOrBr, YlOrBr_r, YlOrRd, YlOrRd_r, afmhot, afmhot_r, autumn, autumn_r, binary, binary_r, bone, \n",
    "    bone_r, brg, brg_r, bwr, bwr_r, cividis, cividis_r, cool, cool_r, coolwarm, coolwarm_r, copper, \n",
    "    copper_r, cubehelix, cubehelix_r, flag, flag_r, gist_earth, gist_earth_r, gist_gray, gist_gray_r, \n",
    "    gist_heat, gist_heat_r, gist_ncar, gist_ncar_r, gist_rainbow, gist_rainbow_r, gist_stern, gist_stern_r, \n",
    "    gist_yarg, gist_yarg_r, gnuplot, gnuplot2, gnuplot2_r, gnuplot_r, gray, gray_r, hot, hot_r, hsv, \n",
    "    hsv_r, icefire, icefire_r, inferno, inferno_r, jet, jet_r, magma, magma_r, mako, mako_r, \n",
    "    nipy_spectral, nipy_spectral_r, ocean, ocean_r, pink, pink_r, plasma, plasma_r, prism, prism_r, \n",
    "    rainbow, rainbow_r, rocket, rocket_r, seismic, seismic_r, spring, spring_r, summer, summer_r, \n",
    "    tab10, tab10_r, tab20, tab20_r, tab20b, tab20b_r, tab20c, tab20c_r, terrain, terrain_r, viridis, \n",
    "    viridis_r, vlag, vlag_r, winter, winter_r"
   ]
  },
  {
   "cell_type": "code",
   "execution_count": 12,
   "metadata": {},
   "outputs": [
    {
     "data": {
      "text/plain": [
       "[Text(0.5,1,'Distribution of build year with Bad Dates')]"
      ]
     },
     "execution_count": 12,
     "metadata": {},
     "output_type": "execute_result"
    },
    {
     "data": {
      "image/png": "[encoded data removed]",
      "text/plain": [
       "<Figure size 1152x576 with 1 Axes>"
      ]
     },
     "metadata": {
      "needs_background": "light"
     },
     "output_type": "display_data"
    }
   ],
   "source": [
    "f, ax = plt.subplots(figsize=(16, 8))\n",
    "plt.xticks(rotation='90')\n",
    "by_df = df_eda.sort_values(by=['build_year'])\n",
    "sns.countplot(x=by_df['build_year'],palette=\"viridis_r\")\n",
    "ax.set(title='Distribution of build year with Bad Dates')"
   ]
  },
  {
   "cell_type": "code",
   "execution_count": 13,
   "metadata": {},
   "outputs": [
    {
     "name": "stdout",
     "output_type": "stream",
     "text": [
      "15960\n",
      "14158    1860.0\n",
      "27751    1860.0\n",
      "17212    1876.0\n",
      "29517    1886.0\n",
      "23174    1890.0\n",
      "Name: build_year, dtype: float64\n"
     ]
    },
    {
     "data": {
      "text/plain": [
       "[Text(0.5,1,'Distribution of build year without Bad Dates')]"
      ]
     },
     "execution_count": 13,
     "metadata": {},
     "output_type": "execute_result"
    },
    {
     "data": {
      "image/png": "[encoded data removed]",
      "text/plain": [
       "<Figure size 1152x1152 with 1 Axes>"
      ]
     },
     "metadata": {
      "needs_background": "light"
     },
     "output_type": "display_data"
    }
   ],
   "source": [
    "f, ax = plt.subplots(figsize=(16, 16))\n",
    "plt.xticks(rotation='90')\n",
    "not_ind = df_eda[(df_eda['build_year'] != null_yr)].index\n",
    "print(len(not_ind))\n",
    "by_df = df_eda.loc[not_ind].sort_values(by=['build_year'])\n",
    "print(by_df['build_year'].head())\n",
    "sns.countplot(y=by_df['build_year'],palette=\"viridis_r\")\n",
    "ax.set(title='Distribution of build year without Bad Dates')"
   ]
  },
  {
   "cell_type": "code",
   "execution_count": 14,
   "metadata": {},
   "outputs": [
    {
     "name": "stdout",
     "output_type": "stream",
     "text": [
      "15960\n"
     ]
    },
    {
     "data": {
      "text/plain": [
       "[Text(0.5,1,'Distribution of build years without Bad Dates')]"
      ]
     },
     "execution_count": 14,
     "metadata": {},
     "output_type": "execute_result"
    },
    {
     "data": {
      "image/png": "[encoded data removed]",
      "text/plain": [
       "<Figure size 1152x576 with 1 Axes>"
      ]
     },
     "metadata": {
      "needs_background": "light"
     },
     "output_type": "display_data"
    }
   ],
   "source": [
    "f, ax = plt.subplots(figsize=(16, 8))\n",
    "plt.xticks(rotation='90')\n",
    "not_ind = df_eda[(df_eda['build_year'] != null_yr)].index\n",
    "print(len(not_ind))\n",
    "by_df = df_eda.loc[not_ind].sort_values(by=['build_year'])\n",
    "sns.countplot(x=by_df['build_year'],palette=\"winter_r\")\n",
    "ax.set(title='Distribution of build years without Bad Dates')"
   ]
  },
  {
   "cell_type": "code",
   "execution_count": 19,
   "metadata": {},
   "outputs": [
    {
     "name": "stdout",
     "output_type": "stream",
     "text": [
      "15777\n"
     ]
    },
    {
     "data": {
      "text/plain": [
       "[Text(0.5,1,'Distribution of build years 1940 to Present')]"
      ]
     },
     "execution_count": 19,
     "metadata": {},
     "output_type": "execute_result"
    },
    {
     "data": {
      "image/png": "[encoded data removed]",
      "text/plain": [
       "<Figure size 1152x576 with 1 Axes>"
      ]
     },
     "metadata": {
      "needs_background": "light"
     },
     "output_type": "display_data"
    }
   ],
   "source": [
    "f, ax = plt.subplots(figsize=(16, 8))\n",
    "plt.xticks(rotation='90')\n",
    "not_ind = df_eda[((df_eda['build_year'] != null_yr)) & (df_eda['build_year'] >= 1940.0)].index\n",
    "print(len(not_ind))\n",
    "by_df = df_eda.loc[not_ind].sort_values(by=['build_year'])\n",
    "sns.countplot(x=by_df['build_year'],palette=\"rocket_r\")\n",
    "ax.set(title='Distribution of build years 1940 to Present')"
   ]
  },
  {
   "cell_type": "code",
   "execution_count": 17,
   "metadata": {},
   "outputs": [
    {
     "name": "stdout",
     "output_type": "stream",
     "text": [
      "183\n"
     ]
    },
    {
     "data": {
      "text/plain": [
       "[Text(0.5,1,'Distribution of build years before 1940')]"
      ]
     },
     "execution_count": 17,
     "metadata": {},
     "output_type": "execute_result"
    },
    {
     "data": {
      "image/png": "[encoded data removed]",
      "text/plain": [
       "<Figure size 1152x576 with 1 Axes>"
      ]
     },
     "metadata": {
      "needs_background": "light"
     },
     "output_type": "display_data"
    }
   ],
   "source": [
    "f, ax = plt.subplots(figsize=(16, 8))\n",
    "plt.xticks(rotation='90')\n",
    "not_ind = df_eda[(df_eda['build_year'] < 1940.0)].index\n",
    "print(len(not_ind))\n",
    "by_df = df_eda.loc[not_ind].sort_values(by=['build_year'])\n",
    "sns.countplot(x=by_df['build_year'],palette=\"inferno_r\")\n",
    "ax.set(title='Distribution of build years before 1940')"
   ]
  },
  {
   "cell_type": "code",
   "execution_count": 128,
   "metadata": {},
   "outputs": [],
   "source": [
    "df_eda['build_year'].value_counts()\n",
    "pass"
   ]
  },
  {
   "cell_type": "code",
   "execution_count": 51,
   "metadata": {},
   "outputs": [],
   "source": [
    "dt.datetime.now().year\n",
    "for k in bad_yr.keys():\n",
    "    df_eda[df_eda['build_year'] == k] = null_yr"
   ]
  },
  {
   "cell_type": "code",
   "execution_count": 43,
   "metadata": {},
   "outputs": [
    {
     "name": "stdout",
     "output_type": "stream",
     "text": [
      "20052009.0\n",
      "0.0\n"
     ]
    },
    {
     "data": {
      "text/plain": [
       "9999.9        13605\n",
       "2014.0          919\n",
       "2015.0          824\n",
       "0.0             530\n",
       "2013.0          464\n",
       "1970.0          418\n",
       "1969.0          407\n",
       "1968.0          389\n",
       "1967.0          384\n",
       "1965.0          378\n",
       "2016.0          375\n",
       "1.0             368\n",
       "1972.0          360\n",
       "1974.0          357\n",
       "1971.0          352\n",
       "1966.0          348\n",
       "1960.0          344\n",
       "1962.0          338\n",
       "1973.0          333\n",
       "1963.0          325\n",
       "1964.0          315\n",
       "1975.0          309\n",
       "1961.0          297\n",
       "1976.0          263\n",
       "1977.0          260\n",
       "2006.0          242\n",
       "1979.0          236\n",
       "1978.0          235\n",
       "2008.0          234\n",
       "2012.0          233\n",
       "              ...  \n",
       "1912.0            5\n",
       "1947.0            4\n",
       "1949.0            3\n",
       "1914.0            3\n",
       "1924.0            3\n",
       "1941.0            2\n",
       "3.0               2\n",
       "1943.0            2\n",
       "1860.0            2\n",
       "1896.0            2\n",
       "1946.0            2\n",
       "1907.0            2\n",
       "1900.0            2\n",
       "1895.0            1\n",
       "1691.0            1\n",
       "20052009.0        1\n",
       "1911.0            1\n",
       "2018.0            1\n",
       "215.0             1\n",
       "1886.0            1\n",
       "1905.0            1\n",
       "4965.0            1\n",
       "1906.0            1\n",
       "1920.0            1\n",
       "1925.0            1\n",
       "1948.0            1\n",
       "1904.0            1\n",
       "71.0              1\n",
       "20.0              1\n",
       "1876.0            1\n",
       "Name: build_year, Length: 120, dtype: int64"
      ]
     },
     "execution_count": 43,
     "metadata": {},
     "output_type": "execute_result"
    }
   ],
   "source": [
    "print(df_eda['build_year'].max())\n",
    "print(df_eda['build_year'].min())\n",
    "df_eda['build_year'].value_counts()"
   ]
  },
  {
   "cell_type": "markdown",
   "metadata": {},
   "source": [
    "**IMPORTANT NOTES ABOUT FEATURES**\n",
    "\n",
    "THESE ARE SOME OF THE SUMMARY NOTES GAINED FROM KAGGLE DISCUSSIONS, QUESTIONS AND ANSWERS FROM SBERBANK\n",
    "\n",
    "- CHECK LIFE SQ, FULL SQ, KITCH SQ FOR CONSISTENCY (DONE)\n",
    "\n",
    "- BUILD YEAR CAN BE IN FUTURE - PRE INVESTMENT TYPE (DONE)\n",
    "\n",
    "- BUILD YEAR 0 AND 1 ARE MISTAKES (DONE)\n",
    "\n",
    "- CHECK TRAIN AND TEST PRODUCT TYPES (DONE)\n",
    "\n",
    "- CHECK NUM OF ROOMS FOR CONSISTENCY (DONE)\n",
    "\n",
    "- MATERIAL EXPLAINED: 1 - panel, 2 - brick, 3 - wood, 4 - mass concrete, 5 - breezeblock, 6 - mass concrete plus brick\n",
    "\n",
    "- STATE EXPLAINED: 4 BEST 1 WORST\n",
    "\n",
    "- KITCHEN INCLUDED IN LIFE SQ CHECK INCONSISTENCY (DONE)\n",
    "\n",
    "- FULL SQ > LIFE SQ (MOST PROBABLY) (DONE)\n",
    "\n",
    "- KM DISTANCES ARE AIRLINE DISTANCES\n",
    "\n",
    "- RAION POPUL AND FULL ALL ARE SAME CALC FROM DIFF SOURCES"
   ]
  },
  {
   "cell_type": "markdown",
   "metadata": {},
   "source": [
    "**website:**    https://www.kaggle.com/c/sberbank-russian-housing-market/discussion/35755\n",
    "\n",
    "https://www.kaggle.com/captcalculator/a-very-extensive-sberbank-exploratory-analysis\n",
    "\n",
    "https://www.kaggle.com/agzamovr/a-very-extensive-exploratory-analysis-in-python\n",
    "\n",
    "https://www.kaggle.com/keremt/very-extensive-cleaning-by-sberbank-discussions\n",
    "\n",
    "\n",
    "**Feature Engineering**\n",
    "\n",
    "Yes, just one feature and you might get 0.03-0.045 jump in your score.\n",
    "\n",
    "**areadiff = fullsq - kitch_sq, this feature.**\n",
    "\n",
    "\n",
    "\n",
    "I don't know how many of you found out about this feature, because all the public kernels didn't mention this feature and even still the top participants haven't talked about this. \n",
    "\n",
    "In all the public kernels, i saw that:\n",
    "1.  fullsq was divided either by lifesq or by kitchsq, but no one seemed to be interested in \n",
    "2. taking the difference between fullsq and lifesq, which would not only tell us the true lifesq but also it greatly characterises the missing or false fullsq values by giving it negative sign, if fullsq is less than kitchsq. \n",
    "3. This feature brought me from 32.00 to 31.603 on Pub.LB and gave me 31.710 on Pvt.LB. This feature had the second highest correlation(even greater than fullsq) after num_room(i think!) with the target variable. You can make this feature in your kernel and verify everything what i said."
   ]
  },
  {
   "cell_type": "code",
   "execution_count": 20,
   "metadata": {},
   "outputs": [
    {
     "data": {
      "text/plain": [
       "0    30238\n",
       "1      233\n",
       "Name: target, dtype: int64"
      ]
     },
     "execution_count": 20,
     "metadata": {},
     "output_type": "execute_result"
    }
   ],
   "source": [
    "df_eda['target'] = pd.Series([0 if t != 0 else 1 for t in df_eda['price_cat'] ])\n",
    "df_eda['target'].value_counts()"
   ]
  },
  {
   "cell_type": "code",
   "execution_count": 6,
   "metadata": {},
   "outputs": [
    {
     "data": {
      "text/plain": [
       "0    16721\n",
       "1    13750\n",
       "Name: target_1, dtype: int64"
      ]
     },
     "execution_count": 6,
     "metadata": {},
     "output_type": "execute_result"
    }
   ],
   "source": [
    "df_eda['target_1'] = pd.Series([0 if t != 1 else 1 for t in df_eda['price_cat'] ])\n",
    "df_eda['target_1'].value_counts()"
   ]
  },
  {
   "cell_type": "code",
   "execution_count": 8,
   "metadata": {},
   "outputs": [
    {
     "data": {
      "text/plain": [
       "0    18793\n",
       "1    11678\n",
       "Name: target_2, dtype: int64"
      ]
     },
     "execution_count": 8,
     "metadata": {},
     "output_type": "execute_result"
    }
   ],
   "source": [
    "df_eda['target_2'] = pd.Series([0 if t != 2 else 1 for t in df_eda['price_cat'] ])\n",
    "df_eda['target_2'].value_counts()"
   ]
  },
  {
   "cell_type": "code",
   "execution_count": 4,
   "metadata": {},
   "outputs": [
    {
     "data": {
      "text/plain": [
       "0    25661\n",
       "1     4810\n",
       "Name: target_3, dtype: int64"
      ]
     },
     "execution_count": 4,
     "metadata": {},
     "output_type": "execute_result"
    }
   ],
   "source": [
    "df_eda['target_3'] = pd.Series([0 if t != 3 else 1 for t in df_eda['price_cat'] ])\n",
    "df_eda['target_3'].value_counts()"
   ]
  },
  {
   "cell_type": "code",
   "execution_count": 9,
   "metadata": {},
   "outputs": [
    {
     "name": "stdout",
     "output_type": "stream",
     "text": [
      "0    18793\n",
      "1    11678\n",
      "Name: target_2, dtype: int64\n",
      "0\n",
      "1\n"
     ]
    },
    {
     "data": {
      "text/plain": [
       "{0: 0.6167503527944603, 1: 0.38324964720553967}"
      ]
     },
     "execution_count": 9,
     "metadata": {},
     "output_type": "execute_result"
    }
   ],
   "source": [
    "av = df_eda['target_2'].value_counts()\n",
    "weights = dict()\n",
    "print(av)\n",
    "for a in av.index:\n",
    "    print(a)\n",
    "    weights.update({a: av.loc[a]/sum(av)})\n",
    "weights"
   ]
  },
  {
   "cell_type": "code",
   "execution_count": 4,
   "metadata": {},
   "outputs": [
    {
     "data": {
      "text/plain": [
       "0   NaN\n",
       "1   NaN\n",
       "2   NaN\n",
       "3   NaN\n",
       "4   NaN\n",
       "Name: areadiff, dtype: float64"
      ]
     },
     "execution_count": 4,
     "metadata": {},
     "output_type": "execute_result"
    }
   ],
   "source": [
    "df_eda['areadiff'] = df_eda['full_sq'] - df_eda['kitch_sq']\n",
    "df_eda['areadiff'].head()"
   ]
  },
  {
   "cell_type": "code",
   "execution_count": 6,
   "metadata": {},
   "outputs": [
    {
     "name": "stdout",
     "output_type": "stream",
     "text": [
      "error: product_type\n",
      "error: sub_area\n",
      "error: culture_objects_top_25\n",
      "error: thermal_power_plant_raion\n",
      "error: incineration_raion\n",
      "error: oil_chemistry_raion\n",
      "error: radiation_raion\n",
      "error: railroad_terminal_raion\n",
      "error: big_market_raion\n",
      "error: nuclear_reactor_raion\n",
      "error: detention_facility_raion\n",
      "error: water_1line\n",
      "error: big_road1_1line\n",
      "error: railroad_1line\n",
      "error: ecology\n",
      "error: child_on_acc_pre_school\n",
      "error: modern_education_share\n",
      "error: old_education_build_share\n",
      "18\n",
      "372\n",
      "564\n"
     ]
    },
    {
     "data": {
      "text/html": [
       "<div>\n",
       "<style scoped>\n",
       "    .dataframe tbody tr th:only-of-type {\n",
       "        vertical-align: middle;\n",
       "    }\n",
       "\n",
       "    .dataframe tbody tr th {\n",
       "        vertical-align: top;\n",
       "    }\n",
       "\n",
       "    .dataframe thead th {\n",
       "        text-align: right;\n",
       "    }\n",
       "</style>\n",
       "<table border=\"1\" class=\"dataframe\">\n",
       "  <thead>\n",
       "    <tr style=\"text-align: right;\">\n",
       "      <th></th>\n",
       "      <th>full_sq</th>\n",
       "      <th>life_sq</th>\n",
       "      <th>floor</th>\n",
       "      <th>max_floor</th>\n",
       "      <th>material</th>\n",
       "      <th>build_year</th>\n",
       "      <th>num_room</th>\n",
       "      <th>kitch_sq</th>\n",
       "      <th>state</th>\n",
       "      <th>area_m</th>\n",
       "      <th>...</th>\n",
       "      <th>child_on_acc_pre_school_7,311</th>\n",
       "      <th>child_on_acc_pre_school_NUL</th>\n",
       "      <th>modern_education_share_90,92</th>\n",
       "      <th>modern_education_share_93,08</th>\n",
       "      <th>modern_education_share_95,4918</th>\n",
       "      <th>modern_education_share_NUL</th>\n",
       "      <th>old_education_build_share_23,14</th>\n",
       "      <th>old_education_build_share_25,47</th>\n",
       "      <th>old_education_build_share_8,2517</th>\n",
       "      <th>old_education_build_share_NUL</th>\n",
       "    </tr>\n",
       "  </thead>\n",
       "  <tbody>\n",
       "    <tr>\n",
       "      <th>0</th>\n",
       "      <td>43</td>\n",
       "      <td>27.0</td>\n",
       "      <td>4.0</td>\n",
       "      <td>12.0</td>\n",
       "      <td>1.0</td>\n",
       "      <td>1979.0</td>\n",
       "      <td>2.0</td>\n",
       "      <td>6.0</td>\n",
       "      <td>2.0</td>\n",
       "      <td>6.407578e+06</td>\n",
       "      <td>...</td>\n",
       "      <td>0</td>\n",
       "      <td>0</td>\n",
       "      <td>0</td>\n",
       "      <td>0</td>\n",
       "      <td>0</td>\n",
       "      <td>1</td>\n",
       "      <td>0</td>\n",
       "      <td>0</td>\n",
       "      <td>0</td>\n",
       "      <td>1</td>\n",
       "    </tr>\n",
       "    <tr>\n",
       "      <th>1</th>\n",
       "      <td>34</td>\n",
       "      <td>19.0</td>\n",
       "      <td>3.0</td>\n",
       "      <td>12.0</td>\n",
       "      <td>1.0</td>\n",
       "      <td>1979.0</td>\n",
       "      <td>2.0</td>\n",
       "      <td>6.0</td>\n",
       "      <td>2.0</td>\n",
       "      <td>9.589337e+06</td>\n",
       "      <td>...</td>\n",
       "      <td>0</td>\n",
       "      <td>0</td>\n",
       "      <td>0</td>\n",
       "      <td>0</td>\n",
       "      <td>0</td>\n",
       "      <td>1</td>\n",
       "      <td>0</td>\n",
       "      <td>0</td>\n",
       "      <td>0</td>\n",
       "      <td>1</td>\n",
       "    </tr>\n",
       "    <tr>\n",
       "      <th>2</th>\n",
       "      <td>43</td>\n",
       "      <td>29.0</td>\n",
       "      <td>2.0</td>\n",
       "      <td>12.0</td>\n",
       "      <td>1.0</td>\n",
       "      <td>1979.0</td>\n",
       "      <td>2.0</td>\n",
       "      <td>6.0</td>\n",
       "      <td>2.0</td>\n",
       "      <td>4.808270e+06</td>\n",
       "      <td>...</td>\n",
       "      <td>0</td>\n",
       "      <td>0</td>\n",
       "      <td>0</td>\n",
       "      <td>0</td>\n",
       "      <td>0</td>\n",
       "      <td>1</td>\n",
       "      <td>0</td>\n",
       "      <td>0</td>\n",
       "      <td>0</td>\n",
       "      <td>1</td>\n",
       "    </tr>\n",
       "    <tr>\n",
       "      <th>3</th>\n",
       "      <td>89</td>\n",
       "      <td>50.0</td>\n",
       "      <td>9.0</td>\n",
       "      <td>12.0</td>\n",
       "      <td>1.0</td>\n",
       "      <td>1979.0</td>\n",
       "      <td>2.0</td>\n",
       "      <td>6.0</td>\n",
       "      <td>2.0</td>\n",
       "      <td>1.258354e+07</td>\n",
       "      <td>...</td>\n",
       "      <td>0</td>\n",
       "      <td>0</td>\n",
       "      <td>0</td>\n",
       "      <td>0</td>\n",
       "      <td>0</td>\n",
       "      <td>1</td>\n",
       "      <td>0</td>\n",
       "      <td>0</td>\n",
       "      <td>0</td>\n",
       "      <td>1</td>\n",
       "    </tr>\n",
       "    <tr>\n",
       "      <th>4</th>\n",
       "      <td>77</td>\n",
       "      <td>77.0</td>\n",
       "      <td>4.0</td>\n",
       "      <td>12.0</td>\n",
       "      <td>1.0</td>\n",
       "      <td>1979.0</td>\n",
       "      <td>2.0</td>\n",
       "      <td>6.0</td>\n",
       "      <td>2.0</td>\n",
       "      <td>8.398461e+06</td>\n",
       "      <td>...</td>\n",
       "      <td>0</td>\n",
       "      <td>0</td>\n",
       "      <td>0</td>\n",
       "      <td>0</td>\n",
       "      <td>0</td>\n",
       "      <td>1</td>\n",
       "      <td>0</td>\n",
       "      <td>0</td>\n",
       "      <td>0</td>\n",
       "      <td>1</td>\n",
       "    </tr>\n",
       "  </tbody>\n",
       "</table>\n",
       "<p>5 rows × 564 columns</p>\n",
       "</div>"
      ],
      "text/plain": [
       "   full_sq  life_sq  floor  max_floor  material  build_year  num_room  \\\n",
       "0       43     27.0    4.0       12.0       1.0      1979.0       2.0   \n",
       "1       34     19.0    3.0       12.0       1.0      1979.0       2.0   \n",
       "2       43     29.0    2.0       12.0       1.0      1979.0       2.0   \n",
       "3       89     50.0    9.0       12.0       1.0      1979.0       2.0   \n",
       "4       77     77.0    4.0       12.0       1.0      1979.0       2.0   \n",
       "\n",
       "   kitch_sq  state        area_m              ...                \\\n",
       "0       6.0    2.0  6.407578e+06              ...                 \n",
       "1       6.0    2.0  9.589337e+06              ...                 \n",
       "2       6.0    2.0  4.808270e+06              ...                 \n",
       "3       6.0    2.0  1.258354e+07              ...                 \n",
       "4       6.0    2.0  8.398461e+06              ...                 \n",
       "\n",
       "   child_on_acc_pre_school_7,311  child_on_acc_pre_school_NUL  \\\n",
       "0                              0                            0   \n",
       "1                              0                            0   \n",
       "2                              0                            0   \n",
       "3                              0                            0   \n",
       "4                              0                            0   \n",
       "\n",
       "   modern_education_share_90,92  modern_education_share_93,08  \\\n",
       "0                             0                             0   \n",
       "1                             0                             0   \n",
       "2                             0                             0   \n",
       "3                             0                             0   \n",
       "4                             0                             0   \n",
       "\n",
       "   modern_education_share_95,4918  modern_education_share_NUL  \\\n",
       "0                               0                           1   \n",
       "1                               0                           1   \n",
       "2                               0                           1   \n",
       "3                               0                           1   \n",
       "4                               0                           1   \n",
       "\n",
       "   old_education_build_share_23,14  old_education_build_share_25,47  \\\n",
       "0                                0                                0   \n",
       "1                                0                                0   \n",
       "2                                0                                0   \n",
       "3                                0                                0   \n",
       "4                                0                                0   \n",
       "\n",
       "   old_education_build_share_8,2517  old_education_build_share_NUL  \n",
       "0                                 0                              1  \n",
       "1                                 0                              1  \n",
       "2                                 0                              1  \n",
       "3                                 0                              1  \n",
       "4                                 0                              1  \n",
       "\n",
       "[5 rows x 564 columns]"
      ]
     },
     "execution_count": 6,
     "metadata": {},
     "output_type": "execute_result"
    }
   ],
   "source": [
    "skip = ['timestamp', 'price_doc', 'price_cat','target','target_1','target_2','target_3']\n",
    "df_train = fix_num_cols(df_eda, skip, 0)\n",
    "#print(len(df_train.columns.values))\n",
    "#df_train = fix_num_cols(df_train, skip, 0)\n",
    "df_train = pd.get_dummies(df_train)\n",
    "\n",
    "print(len(df_train.columns.values))\n",
    "df_train.head()"
   ]
  },
  {
   "cell_type": "code",
   "execution_count": 7,
   "metadata": {},
   "outputs": [
    {
     "data": {
      "text/plain": [
       "(21329, 562)"
      ]
     },
     "execution_count": 7,
     "metadata": {},
     "output_type": "execute_result"
    }
   ],
   "source": [
    "#skip = ['timestamp', 'price_doc', 'price_cat','target', 'target_1']\n",
    "tgt = 'price_cat'\n",
    "X_train, X_test, y_train, y_test = model_selection.train_test_split(df_train.loc[:,~df_train.columns.isin(skip)], \\\n",
    "                                                                df_train[tgt], test_size=0.3)\n",
    "X_train.shape"
   ]
  },
  {
   "cell_type": "code",
   "execution_count": 14,
   "metadata": {},
   "outputs": [
    {
     "name": "stdout",
     "output_type": "stream",
     "text": [
      "2018-11-08 10:43:50.972763\n"
     ]
    },
    {
     "name": "stderr",
     "output_type": "stream",
     "text": [
      "/Users/chadleonard/Springboard/anaconda3/lib/python3.7/site-packages/sklearn/linear_model/logistic.py:1232: UserWarning: 'n_jobs' > 1 does not have any effect when 'solver' is set to 'liblinear'. Got 'n_jobs' = 2.\n",
      "  \" = {}.\".format(self.n_jobs))\n"
     ]
    },
    {
     "name": "stdout",
     "output_type": "stream",
     "text": [
      "0.7638372347407569\n",
      "2018-11-08 10:44:38.484273\n"
     ]
    }
   ],
   "source": [
    "print (dt.datetime.now())\n",
    "clf = Pipeline([\n",
    "  ('feature_selection', SelectFromModel(LogisticRegression(multi_class='ovr', n_jobs=2))),\n",
    "  ('classification', RandomForestClassifier())\n",
    "])\n",
    "clf.fit(X_train, y_train)\n",
    "print(clf.score(X_test, y_test))\n",
    "print (dt.datetime.now())"
   ]
  },
  {
   "cell_type": "code",
   "execution_count": 18,
   "metadata": {},
   "outputs": [
    {
     "name": "stderr",
     "output_type": "stream",
     "text": [
      "/Users/chadleonard/Springboard/anaconda3/lib/python3.7/site-packages/sklearn/linear_model/logistic.py:1232: UserWarning: 'n_jobs' > 1 does not have any effect when 'solver' is set to 'liblinear'. Got 'n_jobs' = 2.\n",
      "  \" = {}.\".format(self.n_jobs))\n"
     ]
    },
    {
     "data": {
      "text/plain": [
       "(21329, 85)"
      ]
     },
     "execution_count": 18,
     "metadata": {},
     "output_type": "execute_result"
    }
   ],
   "source": [
    "clf = LogisticRegression(multi_class='ovr', n_jobs=2).fit(X_train, y_train)\n",
    "model = SelectFromModel(clf, prefit=True)\n",
    "X_new = model.transform(X_train)\n",
    "X_new.shape"
   ]
  },
  {
   "cell_type": "code",
   "execution_count": 23,
   "metadata": {},
   "outputs": [
    {
     "ename": "NotFittedError",
     "evalue": "Since 'prefit=True', call transform directly",
     "output_type": "error",
     "traceback": [
      "\u001b[0;31m---------------------------------------------------------------------------\u001b[0m",
      "\u001b[0;31mNotFittedError\u001b[0m                            Traceback (most recent call last)",
      "\u001b[0;32m<ipython-input-23-a4a8eb0539f5>\u001b[0m in \u001b[0;36m<module>\u001b[0;34m()\u001b[0m\n\u001b[0;32m----> 1\u001b[0;31m \u001b[0mmodel\u001b[0m\u001b[0;34m.\u001b[0m\u001b[0mfit\u001b[0m\u001b[0;34m(\u001b[0m\u001b[0mX_new\u001b[0m\u001b[0;34m,\u001b[0m \u001b[0my_test\u001b[0m\u001b[0;34m)\u001b[0m\u001b[0;34m\u001b[0m\u001b[0m\n\u001b[0m",
      "\u001b[0;32m~/Springboard/anaconda3/lib/python3.7/site-packages/sklearn/feature_selection/from_model.py\u001b[0m in \u001b[0;36mfit\u001b[0;34m(self, X, y, **fit_params)\u001b[0m\n\u001b[1;32m    165\u001b[0m         \u001b[0;32mif\u001b[0m \u001b[0mself\u001b[0m\u001b[0;34m.\u001b[0m\u001b[0mprefit\u001b[0m\u001b[0;34m:\u001b[0m\u001b[0;34m\u001b[0m\u001b[0m\n\u001b[1;32m    166\u001b[0m             raise NotFittedError(\n\u001b[0;32m--> 167\u001b[0;31m                 \"Since 'prefit=True', call transform directly\")\n\u001b[0m\u001b[1;32m    168\u001b[0m         \u001b[0mself\u001b[0m\u001b[0;34m.\u001b[0m\u001b[0mestimator_\u001b[0m \u001b[0;34m=\u001b[0m \u001b[0mclone\u001b[0m\u001b[0;34m(\u001b[0m\u001b[0mself\u001b[0m\u001b[0;34m.\u001b[0m\u001b[0mestimator\u001b[0m\u001b[0;34m)\u001b[0m\u001b[0;34m\u001b[0m\u001b[0m\n\u001b[1;32m    169\u001b[0m         \u001b[0mself\u001b[0m\u001b[0;34m.\u001b[0m\u001b[0mestimator_\u001b[0m\u001b[0;34m.\u001b[0m\u001b[0mfit\u001b[0m\u001b[0;34m(\u001b[0m\u001b[0mX\u001b[0m\u001b[0;34m,\u001b[0m \u001b[0my\u001b[0m\u001b[0;34m,\u001b[0m \u001b[0;34m**\u001b[0m\u001b[0mfit_params\u001b[0m\u001b[0;34m)\u001b[0m\u001b[0;34m\u001b[0m\u001b[0m\n",
      "\u001b[0;31mNotFittedError\u001b[0m: Since 'prefit=True', call transform directly"
     ]
    }
   ],
   "source": [
    "model.fit(X_new, y_test)"
   ]
  },
  {
   "cell_type": "code",
   "execution_count": 21,
   "metadata": {},
   "outputs": [
    {
     "data": {
      "text/plain": [
       "(30471, 562)"
      ]
     },
     "execution_count": 21,
     "metadata": {},
     "output_type": "execute_result"
    }
   ],
   "source": [
    "X_train = df_train.loc[:,~df_train.columns.isin(skip)]\n",
    "y_train = df_train['target_2']\n",
    "X_train.shape"
   ]
  },
  {
   "cell_type": "code",
   "execution_count": 26,
   "metadata": {},
   "outputs": [],
   "source": [
    "y_tn = df_eda['price_doc']"
   ]
  },
  {
   "cell_type": "code",
   "execution_count": 28,
   "metadata": {},
   "outputs": [
    {
     "name": "stdout",
     "output_type": "stream",
     "text": [
      "(0.27909329382102877, 'areadiff')\n",
      "(0.011558935835008348, 'areadiff')\n"
     ]
    }
   ],
   "source": [
    "corlist_cont = []\n",
    "corlist_discrete = []\n",
    "\n",
    "for col in X_train.columns.values:\n",
    "    if col not in skip:\n",
    "        X_corr = np.corrcoef(X_train[col],y_train)\n",
    "        X_disc = np.corrcoef(X_train[col],y_tn)\n",
    "        corlist_cont.append((np.abs(X_corr[1][0]), col))\n",
    "        corlist_discrete.append((np.abs(X_disc[1][0]), col))\n",
    "corlist_discrete = sorted(corlist_discrete, reverse=True)\n",
    "corlist_cont = sorted(corlist_cont, reverse=True)\n",
    "\n",
    "for a in corlist_discrete:\n",
    "    if 'areadiff' in a:\n",
    "        print(a)\n",
    "        \n",
    "for a in corlist_cont:\n",
    "    if 'areadiff' in a:\n",
    "        print(a)"
   ]
  },
  {
   "cell_type": "code",
   "execution_count": 221,
   "metadata": {},
   "outputs": [
    {
     "name": "stdout",
     "output_type": "stream",
     "text": [
      "2018-11-02 19:34:01.323956\n",
      "Fitting 5 folds for each of 2 candidates, totalling 10 fits\n",
      "[CV] clf__fit_intercept=False, clf__solver=liblinear .................\n",
      "[CV] clf__fit_intercept=False, clf__solver=liblinear .................\n"
     ]
    },
    {
     "name": "stderr",
     "output_type": "stream",
     "text": [
      "/Users/chadleonard/Springboard/anaconda3/lib/python3.7/site-packages/sklearn/linear_model/logistic.py:1232: UserWarning: 'n_jobs' > 1 does not have any effect when 'solver' is set to 'liblinear'. Got 'n_jobs' = 2.\n",
      "  \" = {}.\".format(self.n_jobs))\n",
      "/Users/chadleonard/Springboard/anaconda3/lib/python3.7/site-packages/sklearn/linear_model/logistic.py:1232: UserWarning: 'n_jobs' > 1 does not have any effect when 'solver' is set to 'liblinear'. Got 'n_jobs' = 2.\n",
      "  \" = {}.\".format(self.n_jobs))\n"
     ]
    },
    {
     "name": "stdout",
     "output_type": "stream",
     "text": [
      "[CV]  clf__fit_intercept=False, clf__solver=liblinear, score=0.9052977027660571, total=  47.4s\n",
      "[CV] clf__fit_intercept=False, clf__solver=liblinear .................\n"
     ]
    },
    {
     "name": "stderr",
     "output_type": "stream",
     "text": [
      "/Users/chadleonard/Springboard/anaconda3/lib/python3.7/site-packages/sklearn/linear_model/logistic.py:1232: UserWarning: 'n_jobs' > 1 does not have any effect when 'solver' is set to 'liblinear'. Got 'n_jobs' = 2.\n",
      "  \" = {}.\".format(self.n_jobs))\n"
     ]
    },
    {
     "name": "stdout",
     "output_type": "stream",
     "text": [
      "[CV]  clf__fit_intercept=False, clf__solver=liblinear, score=0.9085794655414908, total=  53.1s\n",
      "[CV] clf__fit_intercept=False, clf__solver=liblinear .................\n"
     ]
    },
    {
     "name": "stderr",
     "output_type": "stream",
     "text": [
      "/Users/chadleonard/Springboard/anaconda3/lib/python3.7/site-packages/sklearn/linear_model/logistic.py:1232: UserWarning: 'n_jobs' > 1 does not have any effect when 'solver' is set to 'liblinear'. Got 'n_jobs' = 2.\n",
      "  \" = {}.\".format(self.n_jobs))\n"
     ]
    },
    {
     "name": "stdout",
     "output_type": "stream",
     "text": [
      "[CV]  clf__fit_intercept=False, clf__solver=liblinear, score=0.9104547585560244, total=  32.9s\n",
      "[CV] clf__fit_intercept=False, clf__solver=liblinear .................\n"
     ]
    },
    {
     "name": "stderr",
     "output_type": "stream",
     "text": [
      "/Users/chadleonard/Springboard/anaconda3/lib/python3.7/site-packages/sklearn/linear_model/logistic.py:1232: UserWarning: 'n_jobs' > 1 does not have any effect when 'solver' is set to 'liblinear'. Got 'n_jobs' = 2.\n",
      "  \" = {}.\".format(self.n_jobs))\n"
     ]
    },
    {
     "name": "stdout",
     "output_type": "stream",
     "text": [
      "[CV]  clf__fit_intercept=False, clf__solver=liblinear, score=0.9106891701828411, total=  52.3s\n",
      "[CV] clf__fit_intercept=False, clf__solver=sag .......................\n"
     ]
    },
    {
     "name": "stderr",
     "output_type": "stream",
     "text": [
      "/Users/chadleonard/Springboard/anaconda3/lib/python3.7/site-packages/sklearn/linear_model/sag.py:326: ConvergenceWarning: The max_iter was reached which means the coef_ did not converge\n",
      "  \"the coef_ did not converge\", ConvergenceWarning)\n"
     ]
    },
    {
     "name": "stdout",
     "output_type": "stream",
     "text": [
      "[CV]  clf__fit_intercept=False, clf__solver=sag, score=0.8595874355368026, total=  10.4s\n",
      "[CV] clf__fit_intercept=False, clf__solver=sag .......................\n",
      "[CV]  clf__fit_intercept=False, clf__solver=liblinear, score=0.9144397562119081, total=  45.4s\n",
      "[CV] clf__fit_intercept=False, clf__solver=sag .......................\n"
     ]
    },
    {
     "name": "stderr",
     "output_type": "stream",
     "text": [
      "/Users/chadleonard/Springboard/anaconda3/lib/python3.7/site-packages/sklearn/linear_model/sag.py:326: ConvergenceWarning: The max_iter was reached which means the coef_ did not converge\n",
      "  \"the coef_ did not converge\", ConvergenceWarning)\n"
     ]
    },
    {
     "name": "stdout",
     "output_type": "stream",
     "text": [
      "[CV]  clf__fit_intercept=False, clf__solver=sag, score=0.8534927332395686, total=  10.1s\n",
      "[CV] clf__fit_intercept=False, clf__solver=sag .......................\n"
     ]
    },
    {
     "name": "stderr",
     "output_type": "stream",
     "text": [
      "/Users/chadleonard/Springboard/anaconda3/lib/python3.7/site-packages/sklearn/linear_model/sag.py:326: ConvergenceWarning: The max_iter was reached which means the coef_ did not converge\n",
      "  \"the coef_ did not converge\", ConvergenceWarning)\n"
     ]
    },
    {
     "name": "stdout",
     "output_type": "stream",
     "text": [
      "[CV]  clf__fit_intercept=False, clf__solver=sag, score=0.8448195030473511, total=   9.7s\n"
     ]
    },
    {
     "name": "stderr",
     "output_type": "stream",
     "text": [
      "/Users/chadleonard/Springboard/anaconda3/lib/python3.7/site-packages/sklearn/linear_model/sag.py:326: ConvergenceWarning: The max_iter was reached which means the coef_ did not converge\n",
      "  \"the coef_ did not converge\", ConvergenceWarning)\n"
     ]
    },
    {
     "name": "stdout",
     "output_type": "stream",
     "text": [
      "[CV] clf__fit_intercept=False, clf__solver=sag .......................\n",
      "[CV]  clf__fit_intercept=False, clf__solver=sag, score=0.8384903891233005, total=   9.6s\n"
     ]
    },
    {
     "name": "stderr",
     "output_type": "stream",
     "text": [
      "/Users/chadleonard/Springboard/anaconda3/lib/python3.7/site-packages/sklearn/linear_model/sag.py:326: ConvergenceWarning: The max_iter was reached which means the coef_ did not converge\n",
      "  \"the coef_ did not converge\", ConvergenceWarning)\n"
     ]
    },
    {
     "name": "stdout",
     "output_type": "stream",
     "text": [
      "[CV]  clf__fit_intercept=False, clf__solver=sag, score=0.843413033286451, total=   9.5s\n"
     ]
    },
    {
     "name": "stderr",
     "output_type": "stream",
     "text": [
      "[Parallel(n_jobs=2)]: Done  10 out of  10 | elapsed:  2.5min finished\n",
      "/Users/chadleonard/Springboard/anaconda3/lib/python3.7/site-packages/sklearn/linear_model/logistic.py:1232: UserWarning: 'n_jobs' > 1 does not have any effect when 'solver' is set to 'liblinear'. Got 'n_jobs' = 2.\n",
      "  \" = {}.\".format(self.n_jobs))\n"
     ]
    },
    {
     "name": "stdout",
     "output_type": "stream",
     "text": [
      "{'clf__fit_intercept': False, 'clf__solver': 'liblinear'}\n",
      "0.9098921706516643\n",
      "[0.91575925 0.85757487]\n",
      "[0.90989217 0.84796062]\n",
      "2018-11-02 19:37:14.090918\n"
     ]
    },
    {
     "name": "stderr",
     "output_type": "stream",
     "text": [
      "/Users/chadleonard/Springboard/anaconda3/lib/python3.7/site-packages/sklearn/utils/deprecation.py:122: FutureWarning: You are accessing a training score ('mean_train_score'), which will not be available by default any more in 0.21. If you need training scores, please set return_train_score=True\n",
      "  warnings.warn(*warn_args, **warn_kwargs)\n"
     ]
    }
   ],
   "source": [
    "# Logistic Regression Multi-class Classifier ==> class 3\n",
    "from sklearn.linear_model import LogisticRegression\n",
    "\n",
    "print (dt.datetime.now())\n",
    "pipe = Pipeline([\n",
    "       ('scaling', preprocessing.StandardScaler()),\n",
    "       #('pca', PCA(whiten=True)),\n",
    "       ('clf', LogisticRegression(multi_class='ovr', n_jobs=2)) \n",
    "    ])\n",
    "\n",
    "cv = model_selection.ShuffleSplit(n_splits=5, test_size=0.2)\n",
    "param_grid = { \"clf__fit_intercept\": [False]  , \"clf__solver\": ['liblinear', 'sag'] }\n",
    "pipe_est_cv = model_selection.GridSearchCV(pipe, param_grid=param_grid, cv=cv, scoring='accuracy', \\\n",
    "                                           verbose=3, n_jobs=2)\n",
    "\n",
    "pipe_est_cv.fit(X_train, y_train)\n",
    "pipe_est_cv_results = pipe_est_cv.cv_results_\n",
    "\n",
    "print(pipe_est_cv.best_params_)\n",
    "print(pipe_est_cv.best_score_)\n",
    "\n",
    "print(pipe_est_cv_results['mean_train_score'])\n",
    "print(pipe_est_cv_results['mean_test_score'])\n",
    "print (dt.datetime.now())"
   ]
  },
  {
   "cell_type": "code",
   "execution_count": 212,
   "metadata": {},
   "outputs": [
    {
     "name": "stdout",
     "output_type": "stream",
     "text": [
      "2018-11-02 19:13:28.620684\n",
      "Fitting 5 folds for each of 2 candidates, totalling 10 fits\n",
      "[CV] clf__fit_intercept=False, clf__solver=liblinear .................\n",
      "[CV] clf__fit_intercept=False, clf__solver=liblinear .................\n"
     ]
    },
    {
     "name": "stderr",
     "output_type": "stream",
     "text": [
      "/Users/chadleonard/Springboard/anaconda3/lib/python3.7/site-packages/sklearn/linear_model/logistic.py:1232: UserWarning: 'n_jobs' > 1 does not have any effect when 'solver' is set to 'liblinear'. Got 'n_jobs' = 2.\n",
      "  \" = {}.\".format(self.n_jobs))\n",
      "/Users/chadleonard/Springboard/anaconda3/lib/python3.7/site-packages/sklearn/linear_model/logistic.py:1232: UserWarning: 'n_jobs' > 1 does not have any effect when 'solver' is set to 'liblinear'. Got 'n_jobs' = 2.\n",
      "  \" = {}.\".format(self.n_jobs))\n"
     ]
    },
    {
     "name": "stdout",
     "output_type": "stream",
     "text": [
      "[CV]  clf__fit_intercept=False, clf__solver=liblinear, score=0.6289263947491796, total=  18.9s\n",
      "[CV] clf__fit_intercept=False, clf__solver=liblinear .................\n"
     ]
    },
    {
     "name": "stderr",
     "output_type": "stream",
     "text": [
      "/Users/chadleonard/Springboard/anaconda3/lib/python3.7/site-packages/sklearn/linear_model/logistic.py:1232: UserWarning: 'n_jobs' > 1 does not have any effect when 'solver' is set to 'liblinear'. Got 'n_jobs' = 2.\n",
      "  \" = {}.\".format(self.n_jobs))\n"
     ]
    },
    {
     "name": "stdout",
     "output_type": "stream",
     "text": [
      "[CV]  clf__fit_intercept=False, clf__solver=liblinear, score=0.6108766994842945, total=  19.7s\n",
      "[CV] clf__fit_intercept=False, clf__solver=liblinear .................\n"
     ]
    },
    {
     "name": "stderr",
     "output_type": "stream",
     "text": [
      "/Users/chadleonard/Springboard/anaconda3/lib/python3.7/site-packages/sklearn/linear_model/logistic.py:1232: UserWarning: 'n_jobs' > 1 does not have any effect when 'solver' is set to 'liblinear'. Got 'n_jobs' = 2.\n",
      "  \" = {}.\".format(self.n_jobs))\n"
     ]
    },
    {
     "name": "stdout",
     "output_type": "stream",
     "text": [
      "[CV]  clf__fit_intercept=False, clf__solver=liblinear, score=0.6082981715893109, total=  19.7s\n",
      "[CV] clf__fit_intercept=False, clf__solver=liblinear .................\n"
     ]
    },
    {
     "name": "stderr",
     "output_type": "stream",
     "text": [
      "/Users/chadleonard/Springboard/anaconda3/lib/python3.7/site-packages/sklearn/linear_model/logistic.py:1232: UserWarning: 'n_jobs' > 1 does not have any effect when 'solver' is set to 'liblinear'. Got 'n_jobs' = 2.\n",
      "  \" = {}.\".format(self.n_jobs))\n"
     ]
    },
    {
     "name": "stdout",
     "output_type": "stream",
     "text": [
      "[CV]  clf__fit_intercept=False, clf__solver=liblinear, score=0.6169714017815283, total=  20.8s\n",
      "[CV] clf__fit_intercept=False, clf__solver=sag .......................\n"
     ]
    },
    {
     "name": "stderr",
     "output_type": "stream",
     "text": [
      "/Users/chadleonard/Springboard/anaconda3/lib/python3.7/site-packages/sklearn/linear_model/sag.py:326: ConvergenceWarning: The max_iter was reached which means the coef_ did not converge\n",
      "  \"the coef_ did not converge\", ConvergenceWarning)\n"
     ]
    },
    {
     "name": "stdout",
     "output_type": "stream",
     "text": [
      "[CV]  clf__fit_intercept=False, clf__solver=sag, score=0.6247069854664792, total=  10.3s\n",
      "[CV] clf__fit_intercept=False, clf__solver=sag .......................\n",
      "[CV]  clf__fit_intercept=False, clf__solver=liblinear, score=0.6148616971401781, total=  18.6s\n",
      "[CV] clf__fit_intercept=False, clf__solver=sag .......................\n"
     ]
    },
    {
     "name": "stderr",
     "output_type": "stream",
     "text": [
      "/Users/chadleonard/Springboard/anaconda3/lib/python3.7/site-packages/sklearn/linear_model/sag.py:326: ConvergenceWarning: The max_iter was reached which means the coef_ did not converge\n",
      "  \"the coef_ did not converge\", ConvergenceWarning)\n"
     ]
    },
    {
     "name": "stdout",
     "output_type": "stream",
     "text": [
      "[CV]  clf__fit_intercept=False, clf__solver=sag, score=0.6022034692920769, total=  10.7s\n",
      "[CV] clf__fit_intercept=False, clf__solver=sag .......................\n"
     ]
    },
    {
     "name": "stderr",
     "output_type": "stream",
     "text": [
      "/Users/chadleonard/Springboard/anaconda3/lib/python3.7/site-packages/sklearn/linear_model/sag.py:326: ConvergenceWarning: The max_iter was reached which means the coef_ did not converge\n",
      "  \"the coef_ did not converge\", ConvergenceWarning)\n"
     ]
    },
    {
     "name": "stdout",
     "output_type": "stream",
     "text": [
      "[CV]  clf__fit_intercept=False, clf__solver=sag, score=0.6118143459915611, total=  10.1s\n",
      "[CV] clf__fit_intercept=False, clf__solver=sag .......................\n"
     ]
    },
    {
     "name": "stderr",
     "output_type": "stream",
     "text": [
      "/Users/chadleonard/Springboard/anaconda3/lib/python3.7/site-packages/sklearn/linear_model/sag.py:326: ConvergenceWarning: The max_iter was reached which means the coef_ did not converge\n",
      "  \"the coef_ did not converge\", ConvergenceWarning)\n"
     ]
    },
    {
     "name": "stdout",
     "output_type": "stream",
     "text": [
      "[CV]  clf__fit_intercept=False, clf__solver=sag, score=0.616502578527895, total=   9.9s\n"
     ]
    },
    {
     "name": "stderr",
     "output_type": "stream",
     "text": [
      "/Users/chadleonard/Springboard/anaconda3/lib/python3.7/site-packages/sklearn/linear_model/sag.py:326: ConvergenceWarning: The max_iter was reached which means the coef_ did not converge\n",
      "  \"the coef_ did not converge\", ConvergenceWarning)\n"
     ]
    },
    {
     "name": "stdout",
     "output_type": "stream",
     "text": [
      "[CV]  clf__fit_intercept=False, clf__solver=sag, score=0.6108766994842945, total=   9.7s\n"
     ]
    },
    {
     "name": "stderr",
     "output_type": "stream",
     "text": [
      "[Parallel(n_jobs=2)]: Done  10 out of  10 | elapsed:  1.3min finished\n",
      "/Users/chadleonard/Springboard/anaconda3/lib/python3.7/site-packages/sklearn/linear_model/logistic.py:1232: UserWarning: 'n_jobs' > 1 does not have any effect when 'solver' is set to 'liblinear'. Got 'n_jobs' = 2.\n",
      "  \" = {}.\".format(self.n_jobs))\n"
     ]
    },
    {
     "name": "stdout",
     "output_type": "stream",
     "text": [
      "{'clf__fit_intercept': False, 'clf__solver': 'liblinear'}\n",
      "0.6159868729488983\n",
      "[0.64286468 0.63907871]\n",
      "[0.61598687 0.61322082]\n",
      "2018-11-02 19:15:19.046551\n"
     ]
    },
    {
     "name": "stderr",
     "output_type": "stream",
     "text": [
      "/Users/chadleonard/Springboard/anaconda3/lib/python3.7/site-packages/sklearn/utils/deprecation.py:122: FutureWarning: You are accessing a training score ('mean_train_score'), which will not be available by default any more in 0.21. If you need training scores, please set return_train_score=True\n",
      "  warnings.warn(*warn_args, **warn_kwargs)\n"
     ]
    }
   ],
   "source": [
    "# Logistic Regression Multi-class Classifier ==> class 2\n",
    "from sklearn.linear_model import LogisticRegression\n",
    "\n",
    "print (dt.datetime.now())\n",
    "pipe = Pipeline([\n",
    "       ('scaling', preprocessing.StandardScaler()),\n",
    "       #('pca', PCA(whiten=True)),\n",
    "       ('clf', LogisticRegression(multi_class='ovr', n_jobs=2)) \n",
    "    ])\n",
    "\n",
    "cv = model_selection.ShuffleSplit(n_splits=5, test_size=0.2)\n",
    "param_grid = { \"clf__fit_intercept\": [False]  , \"clf__solver\": ['liblinear', 'sag'] }\n",
    "pipe_est_cv = model_selection.GridSearchCV(pipe, param_grid=param_grid, cv=cv, scoring='accuracy', \\\n",
    "                                           verbose=3, n_jobs=2)\n",
    "\n",
    "pipe_est_cv.fit(X_train, y_train)\n",
    "pipe_est_cv_results = pipe_est_cv.cv_results_\n",
    "\n",
    "print(pipe_est_cv.best_params_)\n",
    "print(pipe_est_cv.best_score_)\n",
    "\n",
    "print(pipe_est_cv_results['mean_train_score'])\n",
    "print(pipe_est_cv_results['mean_test_score'])\n",
    "print (dt.datetime.now())"
   ]
  },
  {
   "cell_type": "code",
   "execution_count": 214,
   "metadata": {},
   "outputs": [
    {
     "name": "stdout",
     "output_type": "stream",
     "text": [
      "2018-11-02 19:16:42.760329\n",
      "Fitting 5 folds for each of 2 candidates, totalling 10 fits\n",
      "[CV] clf__fit_intercept=False, clf__solver=liblinear .................\n",
      "[CV] clf__fit_intercept=False, clf__solver=liblinear .................\n"
     ]
    },
    {
     "name": "stderr",
     "output_type": "stream",
     "text": [
      "/Users/chadleonard/Springboard/anaconda3/lib/python3.7/site-packages/sklearn/linear_model/logistic.py:1232: UserWarning: 'n_jobs' > 1 does not have any effect when 'solver' is set to 'liblinear'. Got 'n_jobs' = 2.\n",
      "  \" = {}.\".format(self.n_jobs))\n",
      "/Users/chadleonard/Springboard/anaconda3/lib/python3.7/site-packages/sklearn/linear_model/logistic.py:1232: UserWarning: 'n_jobs' > 1 does not have any effect when 'solver' is set to 'liblinear'. Got 'n_jobs' = 2.\n",
      "  \" = {}.\".format(self.n_jobs))\n"
     ]
    },
    {
     "name": "stdout",
     "output_type": "stream",
     "text": [
      "[CV]  clf__fit_intercept=False, clf__solver=liblinear, score=0.829817158931083, total=  30.6s\n",
      "[CV] clf__fit_intercept=False, clf__solver=liblinear .................\n"
     ]
    },
    {
     "name": "stderr",
     "output_type": "stream",
     "text": [
      "/Users/chadleonard/Springboard/anaconda3/lib/python3.7/site-packages/sklearn/linear_model/logistic.py:1232: UserWarning: 'n_jobs' > 1 does not have any effect when 'solver' is set to 'liblinear'. Got 'n_jobs' = 2.\n",
      "  \" = {}.\".format(self.n_jobs))\n"
     ]
    },
    {
     "name": "stdout",
     "output_type": "stream",
     "text": [
      "[CV]  clf__fit_intercept=False, clf__solver=liblinear, score=0.8195030473511487, total=  32.8s\n",
      "[CV] clf__fit_intercept=False, clf__solver=liblinear .................\n"
     ]
    },
    {
     "name": "stderr",
     "output_type": "stream",
     "text": [
      "/Users/chadleonard/Springboard/anaconda3/lib/python3.7/site-packages/sklearn/linear_model/logistic.py:1232: UserWarning: 'n_jobs' > 1 does not have any effect when 'solver' is set to 'liblinear'. Got 'n_jobs' = 2.\n",
      "  \" = {}.\".format(self.n_jobs))\n"
     ]
    },
    {
     "name": "stdout",
     "output_type": "stream",
     "text": [
      "[CV]  clf__fit_intercept=False, clf__solver=liblinear, score=0.8248945147679325, total=  19.6s\n",
      "[CV] clf__fit_intercept=False, clf__solver=liblinear .................\n"
     ]
    },
    {
     "name": "stderr",
     "output_type": "stream",
     "text": [
      "/Users/chadleonard/Springboard/anaconda3/lib/python3.7/site-packages/sklearn/linear_model/logistic.py:1232: UserWarning: 'n_jobs' > 1 does not have any effect when 'solver' is set to 'liblinear'. Got 'n_jobs' = 2.\n",
      "  \" = {}.\".format(self.n_jobs))\n"
     ]
    },
    {
     "name": "stdout",
     "output_type": "stream",
     "text": [
      "[CV]  clf__fit_intercept=False, clf__solver=liblinear, score=0.8347398030942335, total=  27.5s\n",
      "[CV] clf__fit_intercept=False, clf__solver=sag .......................\n"
     ]
    },
    {
     "name": "stderr",
     "output_type": "stream",
     "text": [
      "/Users/chadleonard/Springboard/anaconda3/lib/python3.7/site-packages/sklearn/linear_model/sag.py:326: ConvergenceWarning: The max_iter was reached which means the coef_ did not converge\n",
      "  \"the coef_ did not converge\", ConvergenceWarning)\n"
     ]
    },
    {
     "name": "stdout",
     "output_type": "stream",
     "text": [
      "[CV]  clf__fit_intercept=False, clf__solver=sag, score=0.8185654008438819, total=  10.2s\n",
      "[CV] clf__fit_intercept=False, clf__solver=sag .......................\n",
      "[CV]  clf__fit_intercept=False, clf__solver=liblinear, score=0.8288795124238162, total=  21.2s\n",
      "[CV] clf__fit_intercept=False, clf__solver=sag .......................\n"
     ]
    },
    {
     "name": "stderr",
     "output_type": "stream",
     "text": [
      "/Users/chadleonard/Springboard/anaconda3/lib/python3.7/site-packages/sklearn/linear_model/sag.py:326: ConvergenceWarning: The max_iter was reached which means the coef_ did not converge\n",
      "  \"the coef_ did not converge\", ConvergenceWarning)\n"
     ]
    },
    {
     "name": "stdout",
     "output_type": "stream",
     "text": [
      "[CV]  clf__fit_intercept=False, clf__solver=sag, score=0.813173933427098, total=  10.2s\n",
      "[CV] clf__fit_intercept=False, clf__solver=sag .......................\n"
     ]
    },
    {
     "name": "stderr",
     "output_type": "stream",
     "text": [
      "/Users/chadleonard/Springboard/anaconda3/lib/python3.7/site-packages/sklearn/linear_model/sag.py:326: ConvergenceWarning: The max_iter was reached which means the coef_ did not converge\n",
      "  \"the coef_ did not converge\", ConvergenceWarning)\n"
     ]
    },
    {
     "name": "stdout",
     "output_type": "stream",
     "text": [
      "[CV]  clf__fit_intercept=False, clf__solver=sag, score=0.8134083450539147, total=  10.2s\n",
      "[CV] clf__fit_intercept=False, clf__solver=sag .......................\n"
     ]
    },
    {
     "name": "stderr",
     "output_type": "stream",
     "text": [
      "/Users/chadleonard/Springboard/anaconda3/lib/python3.7/site-packages/sklearn/linear_model/sag.py:326: ConvergenceWarning: The max_iter was reached which means the coef_ did not converge\n",
      "  \"the coef_ did not converge\", ConvergenceWarning)\n"
     ]
    },
    {
     "name": "stdout",
     "output_type": "stream",
     "text": [
      "[CV]  clf__fit_intercept=False, clf__solver=sag, score=0.8227848101265823, total=  10.1s\n"
     ]
    },
    {
     "name": "stderr",
     "output_type": "stream",
     "text": [
      "/Users/chadleonard/Springboard/anaconda3/lib/python3.7/site-packages/sklearn/linear_model/sag.py:326: ConvergenceWarning: The max_iter was reached which means the coef_ did not converge\n",
      "  \"the coef_ did not converge\", ConvergenceWarning)\n"
     ]
    },
    {
     "name": "stdout",
     "output_type": "stream",
     "text": [
      "[CV]  clf__fit_intercept=False, clf__solver=sag, score=0.8263009845288326, total=   9.9s\n"
     ]
    },
    {
     "name": "stderr",
     "output_type": "stream",
     "text": [
      "[Parallel(n_jobs=2)]: Done  10 out of  10 | elapsed:  1.6min finished\n",
      "/Users/chadleonard/Springboard/anaconda3/lib/python3.7/site-packages/sklearn/linear_model/logistic.py:1232: UserWarning: 'n_jobs' > 1 does not have any effect when 'solver' is set to 'liblinear'. Got 'n_jobs' = 2.\n",
      "  \" = {}.\".format(self.n_jobs))\n"
     ]
    },
    {
     "name": "stdout",
     "output_type": "stream",
     "text": [
      "{'clf__fit_intercept': False, 'clf__solver': 'liblinear'}\n",
      "0.8275668073136427\n",
      "[0.8395124  0.82659556]\n",
      "[0.82756681 0.81884669]\n",
      "2018-11-02 19:18:49.943877\n"
     ]
    },
    {
     "name": "stderr",
     "output_type": "stream",
     "text": [
      "/Users/chadleonard/Springboard/anaconda3/lib/python3.7/site-packages/sklearn/utils/deprecation.py:122: FutureWarning: You are accessing a training score ('mean_train_score'), which will not be available by default any more in 0.21. If you need training scores, please set return_train_score=True\n",
      "  warnings.warn(*warn_args, **warn_kwargs)\n"
     ]
    }
   ],
   "source": [
    "# Logistic Regression Multi-class Classifier ==> class 1\n",
    "from sklearn.linear_model import LogisticRegression\n",
    "\n",
    "print (dt.datetime.now())\n",
    "pipe = Pipeline([\n",
    "       ('scaling', preprocessing.StandardScaler()),\n",
    "       #('pca', PCA(whiten=True)),\n",
    "       ('clf', LogisticRegression(multi_class='ovr', n_jobs=2, class_weight=weights)) \n",
    "    ])\n",
    "\n",
    "cv = model_selection.ShuffleSplit(n_splits=5, test_size=0.2)\n",
    "param_grid = { \"clf__fit_intercept\": [False]  , \"clf__solver\": ['liblinear', 'sag'] }\n",
    "pipe_est_cv = model_selection.GridSearchCV(pipe, param_grid=param_grid, cv=cv, scoring='accuracy', \\\n",
    "                                           verbose=3, n_jobs=2)\n",
    "\n",
    "pipe_est_cv.fit(X_train, y_train)\n",
    "pipe_est_cv_results = pipe_est_cv.cv_results_\n",
    "\n",
    "print(pipe_est_cv.best_params_)\n",
    "print(pipe_est_cv.best_score_)\n",
    "\n",
    "print(pipe_est_cv_results['mean_train_score'])\n",
    "print(pipe_est_cv_results['mean_test_score'])\n",
    "print (dt.datetime.now())"
   ]
  },
  {
   "cell_type": "code",
   "execution_count": 219,
   "metadata": {},
   "outputs": [
    {
     "name": "stdout",
     "output_type": "stream",
     "text": [
      "2018-11-02 19:24:02.339697\n",
      "Fitting 5 folds for each of 2 candidates, totalling 10 fits\n",
      "[CV] clf__fit_intercept=False, clf__solver=liblinear .................\n",
      "[CV] clf__fit_intercept=False, clf__solver=liblinear .................\n"
     ]
    },
    {
     "name": "stderr",
     "output_type": "stream",
     "text": [
      "/Users/chadleonard/Springboard/anaconda3/lib/python3.7/site-packages/sklearn/linear_model/logistic.py:1232: UserWarning: 'n_jobs' > 1 does not have any effect when 'solver' is set to 'liblinear'. Got 'n_jobs' = 2.\n",
      "  \" = {}.\".format(self.n_jobs))\n",
      "/Users/chadleonard/Springboard/anaconda3/lib/python3.7/site-packages/sklearn/linear_model/logistic.py:1232: UserWarning: 'n_jobs' > 1 does not have any effect when 'solver' is set to 'liblinear'. Got 'n_jobs' = 2.\n",
      "  \" = {}.\".format(self.n_jobs))\n"
     ]
    },
    {
     "name": "stdout",
     "output_type": "stream",
     "text": [
      "[CV]  clf__fit_intercept=False, clf__solver=liblinear, score=0.8940459446788561, total=  29.5s\n",
      "[CV] clf__fit_intercept=False, clf__solver=liblinear .................\n"
     ]
    },
    {
     "name": "stderr",
     "output_type": "stream",
     "text": [
      "/Users/chadleonard/Springboard/anaconda3/lib/python3.7/site-packages/sklearn/linear_model/logistic.py:1232: UserWarning: 'n_jobs' > 1 does not have any effect when 'solver' is set to 'liblinear'. Got 'n_jobs' = 2.\n",
      "  \" = {}.\".format(self.n_jobs))\n"
     ]
    },
    {
     "name": "stdout",
     "output_type": "stream",
     "text": [
      "[CV]  clf__fit_intercept=False, clf__solver=liblinear, score=0.9102203469292077, total=  48.7s\n",
      "[CV] clf__fit_intercept=False, clf__solver=liblinear .................\n"
     ]
    },
    {
     "name": "stderr",
     "output_type": "stream",
     "text": [
      "/Users/chadleonard/Springboard/anaconda3/lib/python3.7/site-packages/sklearn/linear_model/logistic.py:1232: UserWarning: 'n_jobs' > 1 does not have any effect when 'solver' is set to 'liblinear'. Got 'n_jobs' = 2.\n",
      "  \" = {}.\".format(self.n_jobs))\n"
     ]
    },
    {
     "name": "stdout",
     "output_type": "stream",
     "text": [
      "[CV]  clf__fit_intercept=False, clf__solver=liblinear, score=0.9104547585560244, total=  32.2s\n",
      "[CV] clf__fit_intercept=False, clf__solver=liblinear .................\n"
     ]
    },
    {
     "name": "stderr",
     "output_type": "stream",
     "text": [
      "/Users/chadleonard/Springboard/anaconda3/lib/python3.7/site-packages/sklearn/linear_model/logistic.py:1232: UserWarning: 'n_jobs' > 1 does not have any effect when 'solver' is set to 'liblinear'. Got 'n_jobs' = 2.\n",
      "  \" = {}.\".format(self.n_jobs))\n"
     ]
    },
    {
     "name": "stdout",
     "output_type": "stream",
     "text": [
      "[CV]  clf__fit_intercept=False, clf__solver=liblinear, score=0.9027191748710736, total=  42.0s\n",
      "[CV] clf__fit_intercept=False, clf__solver=sag .......................\n"
     ]
    },
    {
     "name": "stderr",
     "output_type": "stream",
     "text": [
      "/Users/chadleonard/Springboard/anaconda3/lib/python3.7/site-packages/sklearn/linear_model/sag.py:326: ConvergenceWarning: The max_iter was reached which means the coef_ did not converge\n",
      "  \"the coef_ did not converge\", ConvergenceWarning)\n"
     ]
    },
    {
     "name": "stdout",
     "output_type": "stream",
     "text": [
      "[CV]  clf__fit_intercept=False, clf__solver=sag, score=0.8105954055321144, total=  10.0s\n",
      "[CV] clf__fit_intercept=False, clf__solver=sag .......................\n"
     ]
    },
    {
     "name": "stderr",
     "output_type": "stream",
     "text": [
      "/Users/chadleonard/Springboard/anaconda3/lib/python3.7/site-packages/sklearn/linear_model/sag.py:326: ConvergenceWarning: The max_iter was reached which means the coef_ did not converge\n",
      "  \"the coef_ did not converge\", ConvergenceWarning)\n"
     ]
    },
    {
     "name": "stdout",
     "output_type": "stream",
     "text": [
      "[CV]  clf__fit_intercept=False, clf__solver=sag, score=0.8255977496483825, total=  10.0s\n",
      "[CV] clf__fit_intercept=False, clf__solver=sag .......................\n",
      "[CV]  clf__fit_intercept=False, clf__solver=liblinear, score=0.9123300515705579, total=  50.7s\n",
      "[CV] clf__fit_intercept=False, clf__solver=sag .......................\n"
     ]
    },
    {
     "name": "stderr",
     "output_type": "stream",
     "text": [
      "/Users/chadleonard/Springboard/anaconda3/lib/python3.7/site-packages/sklearn/linear_model/sag.py:326: ConvergenceWarning: The max_iter was reached which means the coef_ did not converge\n",
      "  \"the coef_ did not converge\", ConvergenceWarning)\n"
     ]
    },
    {
     "name": "stdout",
     "output_type": "stream",
     "text": [
      "[CV]  clf__fit_intercept=False, clf__solver=sag, score=0.8075480543834974, total=   9.9s\n",
      "[CV] clf__fit_intercept=False, clf__solver=sag .......................\n"
     ]
    },
    {
     "name": "stderr",
     "output_type": "stream",
     "text": [
      "/Users/chadleonard/Springboard/anaconda3/lib/python3.7/site-packages/sklearn/linear_model/sag.py:326: ConvergenceWarning: The max_iter was reached which means the coef_ did not converge\n",
      "  \"the coef_ did not converge\", ConvergenceWarning)\n"
     ]
    },
    {
     "name": "stdout",
     "output_type": "stream",
     "text": [
      "[CV]  clf__fit_intercept=False, clf__solver=sag, score=0.8021565869667135, total=   9.9s\n"
     ]
    },
    {
     "name": "stderr",
     "output_type": "stream",
     "text": [
      "/Users/chadleonard/Springboard/anaconda3/lib/python3.7/site-packages/sklearn/linear_model/sag.py:326: ConvergenceWarning: The max_iter was reached which means the coef_ did not converge\n",
      "  \"the coef_ did not converge\", ConvergenceWarning)\n"
     ]
    },
    {
     "name": "stdout",
     "output_type": "stream",
     "text": [
      "[CV]  clf__fit_intercept=False, clf__solver=sag, score=0.8204406938584153, total=   9.5s\n"
     ]
    },
    {
     "name": "stderr",
     "output_type": "stream",
     "text": [
      "[Parallel(n_jobs=2)]: Done  10 out of  10 | elapsed:  2.2min finished\n",
      "/Users/chadleonard/Springboard/anaconda3/lib/python3.7/site-packages/sklearn/linear_model/logistic.py:1232: UserWarning: 'n_jobs' > 1 does not have any effect when 'solver' is set to 'liblinear'. Got 'n_jobs' = 2.\n",
      "  \" = {}.\".format(self.n_jobs))\n"
     ]
    },
    {
     "name": "stdout",
     "output_type": "stream",
     "text": [
      "{'clf__fit_intercept': False, 'clf__solver': 'liblinear'}\n",
      "0.9059540553211439\n",
      "[0.91747055 0.82248139]\n",
      "[0.90595406 0.8132677 ]\n",
      "2018-11-02 19:26:57.816390\n"
     ]
    },
    {
     "name": "stderr",
     "output_type": "stream",
     "text": [
      "/Users/chadleonard/Springboard/anaconda3/lib/python3.7/site-packages/sklearn/utils/deprecation.py:122: FutureWarning: You are accessing a training score ('mean_train_score'), which will not be available by default any more in 0.21. If you need training scores, please set return_train_score=True\n",
      "  warnings.warn(*warn_args, **warn_kwargs)\n"
     ]
    }
   ],
   "source": [
    "# Logistic Regression Multi-class Classifier ==> class 0\n",
    "from sklearn.linear_model import LogisticRegression\n",
    "\n",
    "print (dt.datetime.now())\n",
    "pipe = Pipeline([\n",
    "       ('scaling', preprocessing.StandardScaler()),\n",
    "       #('pca', PCA(whiten=True)),\n",
    "       ('clf', LogisticRegression(multi_class='ovr', n_jobs=2, class_weight=weights)) \n",
    "    ])\n",
    "\n",
    "cv = model_selection.ShuffleSplit(n_splits=5, test_size=0.2)\n",
    "param_grid = { \"clf__fit_intercept\": [False]  , \"clf__solver\": ['liblinear', 'sag'] }\n",
    "pipe_est_cv = model_selection.GridSearchCV(pipe, param_grid=param_grid, cv=cv, scoring='accuracy', \\\n",
    "                                           verbose=3, n_jobs=2)\n",
    "\n",
    "pipe_est_cv.fit(X_train, y_train)\n",
    "pipe_est_cv_results = pipe_est_cv.cv_results_\n",
    "\n",
    "print(pipe_est_cv.best_params_)\n",
    "print(pipe_est_cv.best_score_)\n",
    "\n",
    "print(pipe_est_cv_results['mean_train_score'])\n",
    "print(pipe_est_cv_results['mean_test_score'])\n",
    "print (dt.datetime.now())"
   ]
  },
  {
   "cell_type": "code",
   "execution_count": 187,
   "metadata": {},
   "outputs": [
    {
     "name": "stdout",
     "output_type": "stream",
     "text": [
      "2018-11-02 16:11:25.852977\n",
      "561\n",
      "Fitting 5 folds for each of 1 candidates, totalling 5 fits\n",
      "[CV] clf__max_depth=10, clf__n_estimators=500 ........................\n",
      "[CV] clf__max_depth=10, clf__n_estimators=500 ........................\n",
      "[CV]  clf__max_depth=10, clf__n_estimators=500, score=0.7121425222691046, total=  21.3s\n",
      "[CV]  clf__max_depth=10, clf__n_estimators=500, score=0.7149554617909049, total=  21.3s\n",
      "[CV] clf__max_depth=10, clf__n_estimators=500 ........................\n",
      "[CV] clf__max_depth=10, clf__n_estimators=500 ........................\n",
      "[CV]  clf__max_depth=10, clf__n_estimators=500, score=0.710267229254571, total=  19.5s\n",
      "[CV]  clf__max_depth=10, clf__n_estimators=500, score=0.710267229254571, total=  19.5s\n",
      "[CV] clf__max_depth=10, clf__n_estimators=500 ........................\n",
      "[CV]  clf__max_depth=10, clf__n_estimators=500, score=0.7069854664791374, total=  19.9s\n"
     ]
    },
    {
     "name": "stderr",
     "output_type": "stream",
     "text": [
      "[Parallel(n_jobs=2)]: Done   5 out of   5 | elapsed:  1.1min finished\n"
     ]
    },
    {
     "name": "stdout",
     "output_type": "stream",
     "text": [
      "{'clf__max_depth': 10, 'clf__n_estimators': 500}\n",
      "0.7109235818096578\n",
      "[0.79915607]\n",
      "[0.71092358]\n",
      "2018-11-02 16:12:56.086487\n"
     ]
    },
    {
     "name": "stderr",
     "output_type": "stream",
     "text": [
      "/Users/chadleonard/Springboard/anaconda3/lib/python3.7/site-packages/sklearn/utils/deprecation.py:122: FutureWarning: You are accessing a training score ('mean_train_score'), which will not be available by default any more in 0.21. If you need training scores, please set return_train_score=True\n",
      "  warnings.warn(*warn_args, **warn_kwargs)\n"
     ]
    }
   ],
   "source": [
    "print (dt.datetime.now())\n",
    "pipe = Pipeline([\n",
    "       #('scaling', preprocessing.StandardScaler()),\n",
    "       #('pca', PCA(whiten=True)),\n",
    "       ('clf', RandomForestClassifier(random_state=0, n_jobs=2,class_weight=weights )) \n",
    "    ])\n",
    "\n",
    "\n",
    "print(len(X_train.columns.values))\n",
    "\n",
    "cv = model_selection.ShuffleSplit(n_splits=5, test_size=0.2)\n",
    "param_grid = { \"clf__n_estimators\": [500] , \"clf__max_depth\": [10]} #, \"pca__n_components\": [5, 10]}\n",
    "pipe_est_cv = model_selection.GridSearchCV(pipe, param_grid=param_grid, cv=cv, \\\n",
    "                                           scoring='accuracy', verbose=3, n_jobs=2)\n",
    "\n",
    "pipe_est_cv.fit(X_train, y_train)\n",
    "pipe_est_cv_results = pipe_est_cv.cv_results_\n",
    "\n",
    "print(pipe_est_cv.best_params_)\n",
    "print(pipe_est_cv.best_score_)\n",
    "\n",
    "print(pipe_est_cv_results['mean_train_score'])\n",
    "print(pipe_est_cv_results['mean_test_score'])\n",
    "print (dt.datetime.now())"
   ]
  },
  {
   "cell_type": "code",
   "execution_count": 188,
   "metadata": {},
   "outputs": [
    {
     "data": {
      "text/plain": [
       "561"
      ]
     },
     "execution_count": 188,
     "metadata": {},
     "output_type": "execute_result"
    }
   ],
   "source": [
    "len(X_train.columns.values)"
   ]
  },
  {
   "cell_type": "code",
   "execution_count": null,
   "metadata": {},
   "outputs": [],
   "source": []
  }
 ],
 "metadata": {
  "kernelspec": {
   "display_name": "Python 3",
   "language": "python",
   "name": "python3"
  },
  "language_info": {
   "codemirror_mode": {
    "name": "ipython",
    "version": 3
   },
   "file_extension": ".py",
   "mimetype": "text/x-python",
   "name": "python",
   "nbconvert_exporter": "python",
   "pygments_lexer": "ipython3",
   "version": "3.7.0"
  }
 },
 "nbformat": 4,
 "nbformat_minor": 2
}
