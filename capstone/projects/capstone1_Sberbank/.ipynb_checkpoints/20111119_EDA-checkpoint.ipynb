{
 "cells": [
  {
   "cell_type": "code",
   "execution_count": 43,
   "metadata": {},
   "outputs": [],
   "source": [
    "import pandas as pd\n",
    "import os \n",
    "import numpy as np\n",
    "import seaborn as sns\n",
    "import matplotlib.pyplot as plt\n",
    "from collections import defaultdict\n",
    "from sklearn.pipeline import Pipeline\n",
    "from sklearn import preprocessing, model_selection\n",
    "from sklearn.metrics import roc_curve, auc\n",
    "from sklearn.decomposition import PCA\n",
    "from sklearn.ensemble import RandomForestClassifier\n",
    "from sklearn.feature_selection import SelectFromModel\n",
    "from sklearn.linear_model import LogisticRegression\n",
    "from scipy.stats import chisquare\n",
    "import csv\n",
    "from xgboost import XGBClassifier\n",
    "from sklearn.feature_selection import mutual_info_classif, f_classif, SelectKBest\n",
    "\n",
    "import datetime as dt\n",
    "\n",
    "import warnings\n",
    "warnings.filterwarnings(\"ignore\", category=DeprecationWarning) \n",
    "\n",
    "np.seterr(divide='ignore', invalid='ignore')\n",
    "\n",
    "%matplotlib inline \n"
   ]
  },
  {
   "cell_type": "code",
   "execution_count": 2,
   "metadata": {},
   "outputs": [],
   "source": [
    "def fix_num_cols(dframe, skiplist, dropcol=1):\n",
    "    n = 0\n",
    "    m = 0\n",
    "    df_tmp = dframe.copy()\n",
    "    for col in dframe.columns.values:\n",
    "        if col not in skiplist:\n",
    "            if isinstance(df_tmp[col].dtype,((object))):\n",
    "                try:\n",
    "                    df_tmp[col].fillna(df_tmp[col].median(), inplace=True)\n",
    "                except:\n",
    "                    if dropcol:\n",
    "                        df_tmp.drop(col, inplace=True, axis=1)\n",
    "                    else:\n",
    "                        df_tmp[col].fillna('NUL', inplace=True)\n",
    "    return df_tmp"
   ]
  },
  {
   "cell_type": "code",
   "execution_count": 3,
   "metadata": {},
   "outputs": [],
   "source": [
    "def fix_data(df_, skip):\n",
    "    catlist = []\n",
    "    rest = []\n",
    "    df_temp = df_.copy()\n",
    "    \n",
    "    # create 2 new lists: one for categorical data and the other for numerical\n",
    "    with open('cols.csv', 'r') as csvfile:\n",
    "        file = csv.reader(csvfile, delimiter=' ')\n",
    "        for row in file:\n",
    "            cl = row[0].split(\",\")[1].replace('\"','').replace(\"'\",'').replace('(','')\n",
    "            if cl not in skip:\n",
    "                tp = row[0].split(\",\")[0]\n",
    "                if tp == 'cat':\n",
    "                    catlist.append(cl)\n",
    "                else:\n",
    "                    rest.append(cl)\n",
    "    # cat data turned into dummy variables and old cat column dropped\n",
    "    df_cat = df_temp[catlist].copy()           \n",
    "    for col in catlist:\n",
    "        df_cat = pd.merge(df_cat, pd.get_dummies(df_cat[col].astype('category').cat.codes, prefix=col)\\\n",
    "                             ,left_index=True, right_index=True)\n",
    "        df_cat.drop([col],inplace=True, axis=1)\n",
    "        \n",
    "    # continous numeric data scaled ... \n",
    "    scaler = preprocessing.StandardScaler()\n",
    "    df_ = fix_num_cols(df_temp[rest],skip)\n",
    "    scaler.fit(df_)\n",
    "    df_new = pd.merge(pd.DataFrame(scaler.transform(df_), columns=rest), \\\n",
    "                      df_cat,left_index=True, right_index=True)\n",
    "    df_new['price_cat'] = df_temp['price_cat']\n",
    "    \n",
    "    return (df_new, rest)\n"
   ]
  },
  {
   "cell_type": "code",
   "execution_count": 4,
   "metadata": {},
   "outputs": [
    {
     "data": {
      "text/plain": [
       "53"
      ]
     },
     "execution_count": 4,
     "metadata": {},
     "output_type": "execute_result"
    }
   ],
   "source": [
    "km_list = ['additional_education_km', 'basketball_km', 'big_church_km', 'big_market_km', 'big_road1_km', \\\n",
    "           'big_road2_km', 'bulvar_ring_km', 'bus_terminal_avto_km', 'catering_km', 'cemetery_km', \\\n",
    "           'church_synagogue_km', 'detention_facility_km', 'exhibition_km', 'fitness_km', 'green_zone_km', \\\n",
    "           'hospice_morgue_km', 'ice_rink_km', 'incineration_km', 'industrial_km', 'kindergarten_km', 'kremlin_km', \\\n",
    "           'market_shop_km', 'metro_km_avto', 'metro_km_walk', 'mkad_km', 'mosque_km', 'museum_km',\\\n",
    "           'nuclear_reactor_km', 'office_km', 'oil_chemistry_km', 'park_km', 'power_transmission_line_km',\\\n",
    "           'preschool_km', 'public_healthcare_km', 'public_transport_station_km', 'radiation_km', 'railroad_km', \\\n",
    "           'railroad_station_avto_km', 'railroad_station_walk_km', 'sadovoe_km', 'school_km', 'shopping_centers_km', \\\n",
    "           'stadium_km', 'swim_pool_km', 'theater_km', 'thermal_power_plant_km', 'ts_km', 'ttk_km', \\\n",
    "           'university_km', 'water_km', 'water_treatment_km', 'workplaces_km', 'zd_vokzaly_avto_km']\n",
    "len(km_list)"
   ]
  },
  {
   "cell_type": "code",
   "execution_count": 5,
   "metadata": {},
   "outputs": [
    {
     "data": {
      "text/plain": [
       "162"
      ]
     },
     "execution_count": 5,
     "metadata": {},
     "output_type": "execute_result"
    }
   ],
   "source": [
    "ig_list = ['ID_railroad_station_walk', 'additional_education_km', 'area_m', 'basketball_km', 'big_church_km', \\\n",
    "           'big_market_km', 'big_road1_km', 'big_road2_km', 'build_count_1946-1970', 'build_count_1971-1995',\\\n",
    "           'build_count_after_1995', 'build_count_block', 'build_count_brick', 'build_count_panel', 'bulvar_ring_km',\\\n",
    "           'bus_terminal_avto_km', 'cafe_avg_price_1000', 'cafe_avg_price_1500', 'cafe_avg_price_2000', \\\n",
    "           'cafe_avg_price_3000', 'cafe_avg_price_5000', 'cafe_sum_1000_min_price_avg',\\\n",
    "           'cafe_sum_1500_max_price_avg', 'cafe_sum_1500_min_price_avg', 'cafe_sum_2000_max_price_avg',\\\n",
    "           'cafe_sum_2000_min_price_avg', 'cafe_sum_3000_max_price_avg', 'cafe_sum_3000_min_price_avg',\\\n",
    "           'cafe_sum_5000_max_price_avg', 'cafe_sum_5000_min_price_avg', 'catering_km', 'cemetery_km', \\\n",
    "           'church_synagogue_km', 'detention_facility_km', 'exhibition_km', 'fitness_km', 'green_part_1000',\\\n",
    "           'green_part_1500', 'green_part_2000', 'green_part_3000', 'green_part_500', 'green_part_5000', \\\n",
    "           'green_zone_km', 'green_zone_part', 'hospice_morgue_km', 'ice_rink_km', 'incineration_km',\\\n",
    "           'indust_part', 'industrial_km', 'kindergarten_km', 'kremlin_km', 'life_sq', 'market_shop_km',\\\n",
    "           'metro_km_avto', 'metro_km_walk', 'metro_min_avto', 'metro_min_walk', 'mkad_km', 'mosque_km',\\\n",
    "           'museum_km', 'nuclear_reactor_km', 'num_room', 'office_km', 'oil_chemistry_km', 'park_km', \\\n",
    "           'power_transmission_line_km', 'preschool_km', 'preschool_quota', 'prom_part_1000', 'prom_part_1500',\\\n",
    "           'prom_part_2000', 'prom_part_3000', 'prom_part_5000', 'public_healthcare_km', \\\n",
    "           'public_transport_station_km', 'public_transport_station_min_walk', 'radiation_km', 'railroad_km', \\\n",
    "           'railroad_station_avto_km', 'railroad_station_avto_min', 'railroad_station_walk_km', \\\n",
    "           'railroad_station_walk_min', 'raion_build_count_with_builddate_info', \\\n",
    "           'raion_build_count_with_material_info', 'sadovoe_km', 'school_km', 'school_quota', \\\n",
    "           'shopping_centers_km', 'stadium_km', 'swim_pool_km', 'theater_km', 'thermal_power_plant_km',\\\n",
    "           'ts_km', 'ttk_km', 'university_km', 'water_km', 'water_treatment_km', 'workplaces_km', \\\n",
    "           'zd_vokzaly_avto_km', '0_13_all', '0_13_female', '0_13_male', '0_17_all', '0_17_female', \\\n",
    "           '0_17_male', '0_6_all', '0_6_female', '0_6_male', '16_29_all', '16_29_female', '16_29_male',\\\n",
    "           '7_14_all', '7_14_female', '7_14_male', 'ID_metro', 'ID_railroad_station_avto', 'cafe_count_1500',\\\n",
    "           'cafe_count_2000', 'cafe_count_2000_price_1000', 'cafe_count_3000', 'cafe_count_3000_price_1000', \\\n",
    "           'cafe_count_3000_price_1500', 'cafe_count_3000_price_2500', 'cafe_count_3000_price_500', \\\n",
    "           'cafe_count_5000', 'cafe_count_5000_price_1000', 'cafe_count_5000_price_1500', \\\n",
    "           'cafe_count_5000_price_2500', 'cafe_count_5000_price_500', 'children_preschool', \\\n",
    "           'children_school', 'ekder_all', 'ekder_female', 'ekder_male', 'female_f', 'full_all', \\\n",
    "           'full_sq', 'male_f', 'office_count_5000', 'office_sqm_1500', 'office_sqm_2000', \\\n",
    "           'office_sqm_3000', 'office_sqm_5000', 'raion_popul', 'sport_count_3000', 'sport_count_5000',\\\n",
    "           'trc_count_3000', 'trc_count_5000', 'trc_sqm_1000', 'trc_sqm_1500', 'trc_sqm_2000', 'trc_sqm_3000',\\\n",
    "           'trc_sqm_5000', 'work_all', 'work_female', 'work_male', 'young_all', 'young_female', 'young_male',\\\n",
    "           'diff_sq', 'plus_sq', 'km_sum']\n",
    "len(ig_list)"
   ]
  },
  {
   "cell_type": "code",
   "execution_count": 6,
   "metadata": {},
   "outputs": [
    {
     "data": {
      "text/plain": [
       "['ID_railroad_terminal',\n",
       " 'ID_railroad_station_walk',\n",
       " 'ID_big_road1',\n",
       " 'ID_big_road2',\n",
       " 'ID_bus_terminal',\n",
       " 'ID_metro',\n",
       " 'ID_railroad_station_avto']"
      ]
     },
     "execution_count": 6,
     "metadata": {},
     "output_type": "execute_result"
    }
   ],
   "source": [
    "ID_list = ['ID_railroad_terminal' ,\n",
    "'ID_railroad_station_walk' ,\n",
    "'ID_big_road1' ,\n",
    "'ID_big_road2' ,\n",
    "'ID_bus_terminal' ,\n",
    "'ID_metro' ,\n",
    "'ID_railroad_station_avto' ]\n",
    "\n",
    "ID_list"
   ]
  },
  {
   "cell_type": "code",
   "execution_count": 84,
   "metadata": {},
   "outputs": [],
   "source": [
    "min_price_avg_list = []\n",
    "for col in ig_list:\n",
    "    if '_min_price_avg' in col:\n",
    "        min_price_avg_list.append(col)\n",
    "min_price_avg_list\n",
    "df_train['cafe_sum_min_price_avg_ALL'] = pd.Series([sum(df_train.loc[i, min_price_avg_list])\\\n",
    "                                                    for i in range(df_train.shape[0])])"
   ]
  },
  {
   "cell_type": "code",
   "execution_count": 87,
   "metadata": {},
   "outputs": [],
   "source": [
    "max_price_avg_list = []\n",
    "for col in ig_list:\n",
    "    if '_max_price_avg' in col:\n",
    "        max_price_avg_list.append(col)\n",
    "max_price_avg_list\n",
    "df_train['cafe_sum_max_price_avg_ALL'] = pd.Series([sum(df_train.loc[i, max_price_avg_list])\\\n",
    "                                                    for i in range(df_train.shape[0])])"
   ]
  },
  {
   "cell_type": "code",
   "execution_count": 95,
   "metadata": {},
   "outputs": [
    {
     "name": "stdout",
     "output_type": "stream",
     "text": [
      "731\n"
     ]
    }
   ],
   "source": [
    "new_xlist = []\n",
    "for col in x_list:\n",
    "    if col not in max_price_avg_list + min_price_avg_list:\n",
    "        new_xlist.append(col)\n",
    "        \n",
    "print(len(new_xlist))"
   ]
  },
  {
   "cell_type": "code",
   "execution_count": 22,
   "metadata": {},
   "outputs": [
    {
     "name": "stdout",
     "output_type": "stream",
     "text": [
      "2018-11-20 17:08:55.937226\n",
      "[(0.1765988731256436, 'prom_part_sum')]\n",
      "2018-11-20 17:09:52.687095\n"
     ]
    }
   ],
   "source": [
    "# information gain --> want to verify that 1.0 is the highest value for info gain... \n",
    "# answer is 1.05 but that's probably just a rounding error. For all intents and purposes it's 1.0 ...\n",
    "print (dt.datetime.now())\n",
    "colz = ['prom_part_1000', 'prom_part_1500',\\\n",
    "           'prom_part_2000', 'prom_part_3000', 'prom_part_5000']\n",
    "colx = ['prom_part_sum']\n",
    "df_train['prom_part_sum'] = pd.Series([sum(df_train.loc[i, colz]) for i in range(df_train.shape[0])])\n",
    "#colx = ['price_cat','diff_sq', 'plus_sq', 'cafe_sum_min_price_avg_ALL', 'cafe_sum_max_price_avg_ALL']\n",
    "res = list(zip(mutual_info_classif(df_train[colx], df_train['price_cat']), colx))\n",
    "print(sorted(res,reverse=True))\n",
    "print (dt.datetime.now())"
   ]
  },
  {
   "cell_type": "code",
   "execution_count": 84,
   "metadata": {},
   "outputs": [
    {
     "data": {
      "text/plain": [
       "1343"
      ]
     },
     "execution_count": 84,
     "metadata": {},
     "output_type": "execute_result"
    }
   ],
   "source": [
    "x_list = [col for col in list(df_train.columns) if col not in skip]\n",
    "len(x_list)"
   ]
  },
  {
   "cell_type": "code",
   "execution_count": 7,
   "metadata": {},
   "outputs": [
    {
     "name": "stdout",
     "output_type": "stream",
     "text": [
      "2018-11-20 16:13:09.293405\n",
      "/Users/chadleonard/Springboard/work/springboard/capstone/projects/capstone1_Sberbank/../../../data/all/\n",
      "2018-11-20 16:14:26.647829\n"
     ]
    }
   ],
   "source": [
    "if __name__ == \"__main__\":\n",
    "    print (dt.datetime.now())\n",
    "    skip = ['price_cat','id','timestamp','price_doc']\n",
    "    dir_path = os.getcwd() + '/../../../data/all/'\n",
    "    print (dir_path)\n",
    "    df = pd.read_csv(dir_path + 'train.csv')\n",
    "    df_macro = pd.read_csv(dir_path + 'macro.csv')\n",
    "\n",
    "    df['price_length'] = [7.5 if cat > 6e6 and cat < 1e7 else len(str(cat)) for cat in df['price_doc'] ]    \n",
    "    df['price_length'] = [l if l < 8 else 8 for l in df['price_length']]    \n",
    "    df['price_cat'] = df['price_length'].astype('category').cat.codes    \n",
    "    df['quarter'] = df['timestamp'].apply(lambda x: pd.Timestamp(x).quarter)\n",
    "    \n",
    "    df.loc[df.price_cat == 4, 'price_cat'] = 3\n",
    "    df_eda = pd.merge(df, df_macro, how='inner', on='timestamp', left_on=None, right_on=None,\n",
    "         left_index=False, right_index=False, sort=True,\n",
    "         suffixes=('_x', '_y'), copy=True, indicator=False,\n",
    "         validate=None)\n",
    "    \n",
    "    null_yr = 9999.0\n",
    "    yr = dt.datetime.now().year\n",
    "    # take care of bad dates, dates too old, too far out into the future, or NaN. Set them all to 9999.0\n",
    "    for i in df_eda['build_year'].index:\n",
    "        if df_eda.loc[i, 'build_year'] < 1700 \\\n",
    "                or np.isnan(df_eda.loc[i, 'build_year']) \\\n",
    "                or df_eda.loc[i, 'build_year'] > yr:\n",
    "            df_eda.loc[i, 'build_year'] = null_yr\n",
    "\n",
    "    df_eda.drop(['price_length','id', 'timestamp'], inplace=True, axis=1)\n",
    "    df_eda.loc[df_eda[df_eda['state'] == 33.0].index, 'state'] = 3.0\n",
    "    \n",
    "    df_train, rest = fix_data(df_eda, skip)\n",
    "    df_train['diff_sq'] = df_train['full_sq'] - df_train['kitch_sq']\n",
    "    df_train['plus_sq'] = df_train['full_sq'] + df_train['life_sq'] \n",
    "    df_train['km_sum'] = pd.Series([sum(df_train.loc[i, km_list]) for i in range(df_train.shape[0])])\n",
    "\n",
    "    x_list = [col for col in list(df_train.columns) if col not in skip]\n",
    "    \n",
    "    print (dt.datetime.now())"
   ]
  },
  {
   "cell_type": "code",
   "execution_count": 8,
   "metadata": {},
   "outputs": [
    {
     "data": {
      "text/plain": [
       "1342"
      ]
     },
     "execution_count": 8,
     "metadata": {},
     "output_type": "execute_result"
    }
   ],
   "source": [
    "len(x_list)"
   ]
  },
  {
   "cell_type": "code",
   "execution_count": 41,
   "metadata": {},
   "outputs": [],
   "source": [
    "# set all outliers greater than 3 (abs value) std devs from the mean to 3 or -3, respectively.\n",
    "for col in rest:\n",
    "    iz = df_train.loc[df_train[col] > 3, col].index\n",
    "    iy = df_train.loc[df_train[col] < -3, col].index\n",
    "    df_train.loc[iz, col] = 3.0\n",
    "    df_train.loc[iy, col] = -3.0"
   ]
  },
  {
   "cell_type": "code",
   "execution_count": 10,
   "metadata": {},
   "outputs": [
    {
     "name": "stdout",
     "output_type": "stream",
     "text": [
      "156\n"
     ]
    }
   ],
   "source": [
    "ig_list = []\n",
    "for l in res:\n",
    "    if l[0] >= .1:\n",
    "    #if l[0] >= .2:\n",
    "        ig_list.append(l[1])\n",
    "        \n",
    "print(len(ig_list))"
   ]
  },
  {
   "cell_type": "code",
   "execution_count": 87,
   "metadata": {},
   "outputs": [
    {
     "data": {
      "text/plain": [
       "(10264, 1343)"
      ]
     },
     "execution_count": 87,
     "metadata": {},
     "output_type": "execute_result"
    }
   ],
   "source": [
    "#x_list = ig_list\n",
    "X_train, X_test, y_train, y_test = model_selection.train_test_split(df_train.loc[idx_list, x_list], \\\n",
    "                                                                df_train.loc[idx_list, 'price_cat'], test_size=0.3)\n",
    "X_train.shape"
   ]
  },
  {
   "cell_type": "code",
   "execution_count": 74,
   "metadata": {},
   "outputs": [
    {
     "data": {
      "text/plain": [
       "(30471, 1344)"
      ]
     },
     "execution_count": 74,
     "metadata": {},
     "output_type": "execute_result"
    }
   ],
   "source": [
    "df_train.shape"
   ]
  },
  {
   "cell_type": "code",
   "execution_count": 89,
   "metadata": {},
   "outputs": [
    {
     "name": "stdout",
     "output_type": "stream",
     "text": [
      "after transform:              0         1         2         3         4         5         6   \\\n",
      "0     -0.598095  0.246350 -0.380028 -0.454934 -0.531762 -0.498352 -0.550915   \n",
      "1      1.764354  1.146256  2.650169  0.856621  1.525071  3.291423 -0.674468   \n",
      "2     -0.264618 -0.533177 -0.065294  0.381850 -0.586664 -0.090877 -0.107354   \n",
      "3     -0.202229 -0.202437 -0.516727 -0.671815 -1.010969 -0.672010 -0.551041   \n",
      "4     -0.736765 -0.619212 -0.565733 -0.606498 -0.512912 -0.579773 -0.217714   \n",
      "5     -0.458995  0.063459 -0.913468 -0.450465 -0.599099 -0.177221 -0.559539   \n",
      "6      1.197128  0.665173  1.076640  3.001402  1.104286  0.501977  2.412182   \n",
      "7      0.562008  0.182523  0.490431  1.544852  1.261182  0.282735  1.439806   \n",
      "8     -0.517981 -0.319179 -0.602200 -0.816760  0.005472 -0.542088 -0.583607   \n",
      "9     -0.834567 -0.415037 -0.612953 -0.497681 -0.548011 -0.781185 -0.531015   \n",
      "10    -0.638568 -0.523315 -0.291144 -0.355237  0.079372 -0.587832 -0.517865   \n",
      "11    -0.541029 -0.552813 -0.275420 -0.501467  0.179832 -0.408483 -0.570655   \n",
      "12    -0.244736  0.012876 -0.641752  0.030060 -0.540401 -0.589869 -0.493991   \n",
      "13    -0.751654 -0.431763 -1.187891 -0.705445 -0.502308 -0.849771 -0.117300   \n",
      "14    -0.664344 -0.422534 -0.700965 -0.467101 -0.472593 -0.511297 -0.498335   \n",
      "15    -0.798265 -0.471453 -1.191183 -0.427320 -0.946220 -0.688885 -0.276965   \n",
      "16    -0.246205  0.041074 -0.012004  0.358521  0.584451 -0.636904 -0.201025   \n",
      "17    -0.769729  0.074513 -0.853373  0.239240 -0.034648 -0.497062 -0.404962   \n",
      "18    -0.646646 -0.588331  0.290720 -0.624530 -0.066683 -0.726831 -0.677159   \n",
      "19     1.401234  0.635576  1.469673  0.765609  1.149001  1.442820  1.179151   \n",
      "20    -0.449293 -0.662766 -1.207416 -0.591209 -1.156205 -0.321200 -0.546333   \n",
      "21     0.372834 -0.408768  0.521361 -0.375263  0.834966 -0.485947 -0.494641   \n",
      "22    -0.664109 -0.241846 -0.535793 -0.539795 -0.679971 -0.310959 -0.749050   \n",
      "23    -0.593088 -0.251474 -0.162166 -0.657638  0.090764  0.243708 -0.416229   \n",
      "24    -0.670227 -0.719194 -1.712811 -0.696630 -0.957765 -0.823495 -0.574069   \n",
      "25    -0.346585 -0.685141  0.182939 -0.220384 -0.134790  0.848167  0.311126   \n",
      "26    -0.401099 -0.227821 -0.455996 -0.128110 -0.497768 -0.390269 -0.383677   \n",
      "27     0.711827 -0.335492  0.746793 -0.429411  0.982754 -0.123054  0.473824   \n",
      "28    -0.248024  0.217600 -0.742916 -0.279577 -0.414292 -0.485195 -0.581096   \n",
      "29    -0.154208 -0.161316 -0.250995 -0.466098  0.284314 -0.871826 -0.318301   \n",
      "...         ...       ...       ...       ...       ...       ...       ...   \n",
      "10234 -0.628063 -0.696323 -1.073453 -0.266337  0.060384 -0.724530 -0.542286   \n",
      "10235  0.964072 -0.250317  1.164549  0.752696  1.121932  1.409792 -0.307882   \n",
      "10236  0.376932 -0.564221  0.547726 -0.017662  0.802405 -0.368829 -0.564068   \n",
      "10237 -0.792399 -0.264140 -0.857883 -0.638443 -0.899966 -0.531814 -0.451541   \n",
      "10238  0.243329 -0.027664  0.224031  0.519434 -0.917407 -0.000271 -0.436726   \n",
      "10239 -0.282352 -0.300876 -0.369992 -0.538187 -0.835899  0.066090 -0.604061   \n",
      "10240 -0.264618 -0.533177 -0.065294  0.381850 -0.586664 -0.090877 -0.107354   \n",
      "10241 -0.846959 -0.519553 -0.939700 -0.283008 -0.870729 -0.740567 -0.578445   \n",
      "10242  0.078505  0.381080  0.501368  1.378405 -0.208664  0.348783  0.868463   \n",
      "10243  0.661242 -0.380832  0.709744 -0.746163  0.950724 -0.187943  0.236776   \n",
      "10244 -0.584124 -0.221113 -0.762804 -0.788909 -0.759519 -0.896935 -0.251116   \n",
      "10245 -0.578816 -0.285527 -0.301450  0.380562 -0.333286 -0.293638 -0.623333   \n",
      "10246  0.447168  0.928481  0.654876  0.266197  1.215436  0.567808 -0.452192   \n",
      "10247 -0.796163 -0.650609 -1.432071 -0.620814 -1.091165 -0.199723 -0.428162   \n",
      "10248 -0.719859 -0.200802  0.129628 -0.438281 -0.503456 -0.616121 -0.092500   \n",
      "10249 -0.640927 -0.475957 -0.934356 -0.501636 -0.757388 -0.672384 -0.347864   \n",
      "10250 -0.529933 -0.521265 -1.354912 -0.631896 -0.536708 -0.993558 -0.589057   \n",
      "10251 -0.302478 -0.336887 -0.113092  0.246601 -0.772115 -0.225870 -0.517320   \n",
      "10252 -0.616826 -0.149585  0.057400 -0.353458  0.604258  0.133214  0.041356   \n",
      "10253 -0.060180 -0.460437 -0.415964 -0.352666 -0.798890 -0.647585 -0.172457   \n",
      "10254 -0.528879 -0.295871 -0.443235 -0.292401 -0.604090 -0.177797 -0.216196   \n",
      "10255 -0.221559 -0.641920  0.534639 -0.667885 -0.067544 -0.038585 -0.413589   \n",
      "10256 -0.509365 -0.335768 -1.004520 -0.727033 -0.303101 -0.641815 -0.458003   \n",
      "10257 -0.790603 -0.241187 -0.576203 -0.505435 -0.552435 -0.567225 -0.441929   \n",
      "10258 -0.685665 -0.158795 -0.882433 -0.382036  0.083923 -0.694484 -0.553064   \n",
      "10259  1.071070  0.716980  0.887952 -0.180320  1.422599  0.141875  0.463761   \n",
      "10260 -0.542484 -0.390342 -0.088754 -0.124818 -0.739242 -0.498025 -0.585178   \n",
      "10261 -0.769729  0.074513 -0.853373  0.239240 -0.034648 -0.497062 -0.404962   \n",
      "10262 -0.756068 -0.655935 -1.148286 -0.794133 -1.046673 -0.438120 -0.691952   \n",
      "10263 -0.767632 -0.360527 -0.148685  0.208027 -0.572816 -0.827106 -0.291962   \n",
      "\n",
      "             7         8         9     ...            30        31        32  \\\n",
      "0     -0.358717 -0.074823 -1.007899    ...      0.512026  0.473927  0.830481   \n",
      "1      2.687222 -0.053328  1.889917    ...     -0.400956 -0.625553 -0.966903   \n",
      "2     -0.020821 -0.074823 -1.180982    ...     -0.553119  0.107434  0.245286   \n",
      "3     -0.539455  0.011159 -0.601425    ...     -0.248792  0.199057  0.078087   \n",
      "4     -0.501336 -0.117814  0.470891    ...      0.055535  0.107434 -0.339909   \n",
      "5     -0.913709  1.150417 -0.418877    ...     -0.248792 -0.167436  0.245286   \n",
      "6      1.064230 -0.074823  1.382697    ...     -1.009610 -0.992047 -1.217701   \n",
      "7      0.460091 -0.074823  0.451901    ...     -0.857446 -1.083670 -1.050502   \n",
      "8     -0.636492  0.290599 -0.791305    ...      0.664190  1.023667  0.705082   \n",
      "9     -0.524319 -0.332768  0.818464    ...      1.425008  0.107434 -0.339909   \n",
      "10    -0.323146  2.612107 -0.422770    ...      0.664190  1.206914  0.496084   \n",
      "11    -0.323516 -0.289778 -0.826953    ...      0.512026  0.657174  0.705082   \n",
      "12    -0.660891 -0.225291 -0.443751    ...      0.055535 -0.075813  0.203486   \n",
      "13    -1.233411  0.355086 -0.771207    ...      0.816353  1.023667  1.750072   \n",
      "14    -0.668483 -0.246787 -0.022643    ...      0.055535  0.015810  0.119887   \n",
      "15    -1.144052 -0.096319 -0.752370    ...      0.816353  0.565550  0.454284   \n",
      "16    -0.034893 -0.074823 -0.006056    ...     -0.553119 -0.259060 -0.381708   \n",
      "17    -0.889894  0.462563 -0.882239    ...     -0.096628 -0.075813  0.579683   \n",
      "18     0.233708 -0.289778 -0.619699    ...      0.207699 -0.992047 -0.089111   \n",
      "19     1.434140  0.075645  1.040771    ...     -1.009610 -0.992047 -1.217701   \n",
      "20    -1.214383  0.226113 -0.799090    ...      3.403134  0.565550  0.663282   \n",
      "21     0.505104 -0.311273  0.673735    ...     -0.096628 -0.900423 -0.925104   \n",
      "22    -0.483456 -0.311273 -1.209372    ...     -0.553119  0.657174  0.496084   \n",
      "23    -0.112305 -0.418750 -1.257536    ...     -0.096628  0.382304  0.663282   \n",
      "24    -1.891997 -0.074823 -0.590655    ...      3.403134  3.863991  2.962262   \n",
      "25     0.239079 -0.053328 -1.065387    ...     -0.857446 -0.259060 -0.047311   \n",
      "26    -0.365412 -0.246787  0.738499    ...     -0.248792 -0.167436 -0.507107   \n",
      "27     0.731788 -0.074823  0.938649    ...     -1.009610 -0.900423 -1.092302   \n",
      "28    -0.762419 -0.117814 -0.587241    ...      0.055535 -0.167436  0.328885   \n",
      "29    -0.285852 -0.246787 -0.437777    ...      0.664190  0.657174  0.537883   \n",
      "...         ...       ...       ...    ...           ...       ...       ...   \n",
      "10234 -1.117045  0.355086 -1.385146    ...      0.055535  0.107434  0.955880   \n",
      "10235  1.131410 -0.074823  0.849475    ...     -1.009610 -1.083670 -1.050502   \n",
      "10236  0.532754 -0.031832  0.742330    ...     -0.096628 -0.992047 -0.925104   \n",
      "10237 -0.826567 -0.311273 -0.991387    ...      0.055535  0.199057  0.621483   \n",
      "10238  0.188602 -0.311273 -0.622731    ...      0.055535  0.199057 -0.089111   \n",
      "10239 -0.315990 -0.096319 -0.882363    ...      0.512026  1.390160  0.955880   \n",
      "10240 -0.020821  0.505554 -1.180982    ...     -0.553119  0.107434  0.245286   \n",
      "10241 -0.857835 -0.354264  0.098268    ...      0.207699 -0.625553  0.203486   \n",
      "10242  0.533612 -0.074823  0.748611    ...     -1.009610 -0.900423 -1.092302   \n",
      "10243  0.694279 -0.074823  0.890019    ...     -1.009610 -0.900423 -1.092302   \n",
      "10244 -0.689559 -0.332768  0.492909    ...      0.968517 -0.442306 -0.047311   \n",
      "10245 -0.213277 -0.246787  1.163611    ...     -0.096628 -0.350683 -0.674306   \n",
      "10246  0.623587 -0.074823  0.569577    ...     -0.857446 -1.083670 -1.217701   \n",
      "10247 -1.384747  0.419572 -0.397876    ...      0.055535  0.748797  2.084470   \n",
      "10248  0.068907  0.204618 -0.837521    ...      0.207699 -0.717176  0.454284   \n",
      "10249 -0.907456 -0.096319 -1.031332    ...     -0.400956  0.840420  0.788681   \n",
      "10250 -1.406448 -0.074823 -1.221648    ...      0.816353  0.657174  1.750072   \n",
      "10251 -0.070330  0.226113 -1.074049    ...      0.512026  0.107434  0.245286   \n",
      "10252  0.012540  0.075645 -0.532029    ...     -0.553119  1.023667  0.412484   \n",
      "10253 -0.436081 -0.332768 -0.392203    ...     -0.248792  0.382304 -0.089111   \n",
      "10254 -0.391022  0.247609 -1.205935    ...     -0.553119  0.473927  0.579683   \n",
      "10255  0.569191  0.763499 -0.414676    ...      0.055535 -0.533930 -0.674306   \n",
      "10256 -1.043785 -0.268282 -1.323868    ...      0.055535  0.565550  0.537883   \n",
      "10257 -0.510733 -0.139309 -0.191087    ...      0.968517 -0.259060 -0.507107   \n",
      "10258 -0.944998  0.290599 -0.962939    ...      0.512026  0.748797  0.537883   \n",
      "10259  0.868164  0.570040  1.017949    ...     -0.553119 -0.992047 -1.134102   \n",
      "10260 -0.050377  0.032654 -0.886472    ...     -0.553119  0.382304  0.119887   \n",
      "10261 -0.889894  0.140131 -0.882239    ...     -0.096628 -0.075813  0.579683   \n",
      "10262 -1.061350 -0.010337  0.254919    ...      1.120680  1.023667  0.997679   \n",
      "10263 -0.125550  0.204618 -0.747957    ...      0.512026 -0.075813  1.081278   \n",
      "\n",
      "             33        34   35   36        37        38         39  \n",
      "0      0.716115  0.755178  0.0  0.0  0.689720  0.603198 -15.984364  \n",
      "1     -0.895061 -1.118808  1.0  0.0 -0.020229 -0.085256  65.937257  \n",
      "2     -0.329114  0.031475  0.0  1.0 -0.440940 -0.527463 -10.965470  \n",
      "3      0.046771  0.291763  0.0  1.0  0.292068  0.505119  -9.649923  \n",
      "4      0.227562 -0.524781  0.0  0.0 -0.309468 -0.438981 -24.367938  \n",
      "5     -0.340740  0.454441  0.0  0.0  0.873781  2.012499 -27.911360  \n",
      "6     -0.896551 -1.151352  1.0  1.0  1.997807  1.654975  47.484290  \n",
      "7     -0.932743 -0.697452  1.0  1.0  0.163832  0.077309  19.915712  \n",
      "8      0.386745 -0.028350  0.0  0.0  0.439964  0.889737 -15.170790  \n",
      "9     -0.615416 -0.405760  0.0  0.0 -0.582283 -0.969469 -18.366446  \n",
      "10     0.217499  0.143661  0.0  0.0  2.661803  5.262211 -16.160435  \n",
      "11     0.951349  0.387311  0.0  1.0 -0.414646 -0.716123 -16.671366  \n",
      "12    -0.426247 -0.009931  0.0  1.0 -0.309468 -0.546459 -16.774043  \n",
      "13     1.797774  1.510306  0.0  0.0  0.466258  0.980518 -31.729498  \n",
      "14    -0.246576 -0.061642  0.0  1.0 -0.398222 -0.699426 -20.223565  \n",
      "15    -0.179123  0.269104  0.0  0.0  0.298540 -0.023069 -30.059297  \n",
      "16    -0.267778 -0.510375  1.0  1.0  1.771028  1.470914 -12.252616  \n",
      "17    -0.345877  0.743409  0.0  0.0  0.272245  0.509518 -12.702626  \n",
      "18    -0.929124  0.761344  0.0  0.0 -0.473788 -0.689828 -14.046793  \n",
      "19    -0.560184 -0.994106  1.0  1.0 -0.227349 -0.376994  34.636863  \n",
      "20     1.476262  1.193087  0.0  0.0  0.407116  0.877840 -27.123183  \n",
      "21    -0.790106 -0.928073  0.0  0.0 -0.500082 -0.737618   6.347076  \n",
      "22     0.220562  0.159695  0.0  0.0 -0.457364 -0.737618 -21.673768  \n",
      "23     0.174288  0.296809  0.0  0.0 -0.661166 -1.134334 -17.180041  \n",
      "24     2.691980  2.162329  0.0  0.0 -0.174760 -0.474874 -22.962081  \n",
      "25     0.308350 -0.066260  0.0  1.0 -0.066183  0.125099  -7.108000  \n",
      "26     0.030753 -0.614758  0.0  0.0 -0.414646 -0.673132 -12.469193  \n",
      "27    -0.885907 -0.967931  1.0  1.0  0.919735  0.576904  19.699282  \n",
      "28    -0.473926 -0.077009  0.0  1.0 -0.230585 -0.360098 -12.179419  \n",
      "29    -0.068299  0.155609  0.0  0.0 -0.388351 -0.646837 -13.401610  \n",
      "...         ...       ...  ...  ...       ...       ...        ...  \n",
      "10234  0.624257  1.417116  0.0  0.0  0.482682  0.954224 -27.095424  \n",
      "10235 -0.932743 -0.907521  1.0  1.0  0.163832  0.077309  24.029736  \n",
      "10236 -0.922098 -1.025107  0.0  0.0 -0.020229 -0.063761  10.241910  \n",
      "10237  0.265721  0.874772  0.0  0.0 -0.457364 -0.737618 -20.976174  \n",
      "10238  0.783940  0.514117  0.0  0.0 -0.500082 -0.737618  -8.605254  \n",
      "10239  0.411302  1.174583  0.0  0.0 -0.069501 -0.049364 -14.879009  \n",
      "10240 -0.329114  0.031475  0.0  1.0  0.341258  0.578803 -10.965470  \n",
      "10241 -0.835665  0.165228  0.0  0.0 -0.555989 -0.964670 -19.352932  \n",
      "10242 -0.845245 -1.124046  0.0  1.0  0.482601  0.182487   6.151155  \n",
      "10243 -0.885907 -0.967931  1.0  1.0  0.877017  0.576904  17.398865  \n",
      "10244 -0.576989 -0.045843  0.0  0.0 -0.625001 -0.969469 -17.003199  \n",
      "10245  0.005562 -0.352704  0.0  0.0 -0.483659 -0.699426 -13.430831  \n",
      "10246 -0.932743 -0.980097  1.0  1.0 -0.263514 -0.606346  19.132989  \n",
      "10247  0.338476  1.558775  0.0  0.0  0.716015  1.123888 -33.290236  \n",
      "10248 -0.863340  1.060666  0.0  0.0  0.308492  0.672283 -17.595615  \n",
      "10249  1.549692  0.883003  0.0  1.0 -0.283174 -0.391191 -24.083285  \n",
      "10250  1.811925  1.935331  0.0  0.0  1.182680  0.839848 -31.082149  \n",
      "10251 -0.329114 -0.149657  0.0  1.0  0.663426  0.877840 -11.473712  \n",
      "10252  0.977667  0.000894  0.0  0.0  0.104690  0.254072 -12.400196  \n",
      "10253  1.066053  0.054758  0.0  1.0 -0.562542 -0.864291 -11.707294  \n",
      "10254  0.101360 -0.046722  0.0  0.0  0.407116  0.899335 -15.409770  \n",
      "10255 -0.288496 -0.593815  0.0  1.0  1.274833  2.282942   5.266554  \n",
      "10256  1.163680  0.856483  0.0  0.0 -0.138513 -0.247622 -25.693501  \n",
      "10257  0.282650  1.234896  0.0  0.0 -0.256879 -0.407888 -16.293424  \n",
      "10258  0.849943  1.190408  0.0  0.0  0.610837  0.889737 -23.968618  \n",
      "10259 -0.683022 -1.029636  1.0  1.0  0.163832  0.722173  30.146187  \n",
      "10260 -0.018169 -0.322727  0.0  1.0  0.111243  0.132198 -10.068804  \n",
      "10261 -0.345877  0.743409  0.0  0.0 -0.069501  0.187086 -12.702626  \n",
      "10262  0.001272  0.546694  0.0  0.0  0.183573  0.246973 -29.551448  \n",
      "10263 -0.132013  0.766399  0.0  1.0 -0.283174 -0.090255  -8.743501  \n",
      "\n",
      "[10264 rows x 40 columns]\n"
     ]
    },
    {
     "name": "stderr",
     "output_type": "stream",
     "text": [
      "/Users/chadleonard/Springboard/anaconda3/lib/python3.7/site-packages/sklearn/feature_selection/univariate_selection.py:113: UserWarning: Features [ 144  644  649  824  838  846  849  850  855  856  860  861  862  908\n",
      " 1153 1174 1190 1197 1200 1306 1312 1319 1322 1328 1329 1333 1334 1335] are constant.\n",
      "  UserWarning)\n"
     ]
    }
   ],
   "source": [
    "selector=SelectKBest(score_func=f_classif,k=40)\n",
    "selector.fit(X_train,y_train)\n",
    "#print(\"scores_:\",selector.scores_)\n",
    "#print(\"pvalues_:\",selector.pvalues_)\n",
    "#print(\"selected index:\",selector.get_support(True))\n",
    "new_df = pd.DataFrame(selector.transform(X_train))\n",
    "print(\"after transform:\",new_df) "
   ]
  },
  {
   "cell_type": "code",
   "execution_count": 90,
   "metadata": {},
   "outputs": [
    {
     "data": {
      "text/plain": [
       "1107"
      ]
     },
     "execution_count": 90,
     "metadata": {},
     "output_type": "execute_result"
    }
   ],
   "source": [
    "import collections\n",
    "od = collections.OrderedDict(sorted(dict(zip(selector.scores_, x_list)).items(),reverse=True))\n",
    "len(od)"
   ]
  },
  {
   "cell_type": "code",
   "execution_count": 54,
   "metadata": {},
   "outputs": [
    {
     "data": {
      "text/plain": [
       "2    3428\n",
       "3    3343\n",
       "1    3343\n",
       "0     150\n",
       "Name: price_cat, dtype: int64"
      ]
     },
     "execution_count": 54,
     "metadata": {},
     "output_type": "execute_result"
    }
   ],
   "source": [
    "y_train.value_counts()"
   ]
  },
  {
   "cell_type": "code",
   "execution_count": 56,
   "metadata": {},
   "outputs": [
    {
     "name": "stdout",
     "output_type": "stream",
     "text": [
      "13750\n",
      "11678\n"
     ]
    }
   ],
   "source": [
    "idx0 = df_train[df_train['price_cat'] == 0].index\n",
    "idx1 = df_train[df_train['price_cat'] == 1].index\n",
    "idx2 = df_train[df_train['price_cat'] == 2].index\n",
    "idx3 = df_train[df_train['price_cat'] == 3].index\n",
    "print(len(idx1))\n",
    "print(len(idx2))"
   ]
  },
  {
   "cell_type": "code",
   "execution_count": 57,
   "metadata": {},
   "outputs": [
    {
     "data": {
      "text/plain": [
       "14663"
      ]
     },
     "execution_count": 57,
     "metadata": {},
     "output_type": "execute_result"
    }
   ],
   "source": [
    "idx_list = list(df_train.loc[idx1].sample(4810).index) + \\\n",
    "list(df_train.loc[idx2].sample(4810).index) + \\\n",
    "list(df_train.loc[idx3].sample(4810).index) + \\\n",
    "list(df_train.loc[idx0].sample(233).index)\n",
    "\n",
    "len(idx_list)"
   ]
  },
  {
   "cell_type": "code",
   "execution_count": 107,
   "metadata": {},
   "outputs": [
    {
     "data": {
      "text/plain": [
       "1    13750\n",
       "2    11678\n",
       "3     4810\n",
       "0      233\n",
       "Name: price_cat, dtype: int64"
      ]
     },
     "execution_count": 107,
     "metadata": {},
     "output_type": "execute_result"
    }
   ],
   "source": [
    "df_train['price_cat'].value_counts()"
   ]
  },
  {
   "cell_type": "code",
   "execution_count": 9,
   "metadata": {},
   "outputs": [
    {
     "name": "stdout",
     "output_type": "stream",
     "text": [
      "2018-11-20 16:17:56.885355\n",
      "[(0.2942888824757721, 'plus_sq'), (0.2764085914332337, 'diff_sq'), (0.2064760726605448, 'full_sq'), (0.20191972925437596, 'bulvar_ring_km'), (0.20104612871902194, 'trc_sqm_5000'), (0.20067771048941685, 'sadovoe_km'), (0.19728027035254492, 'kremlin_km'), (0.1958285017214807, 'zd_vokzaly_avto_km'), (0.19500805572137048, 'km_sum'), (0.19383762751939204, 'park_km'), (0.1931876403485293, 'cafe_avg_price_5000'), (0.19222991469254969, 'big_church_km'), (0.18987566908548348, 'oil_chemistry_km'), (0.18948060595818794, 'ts_km'), (0.18928974148154887, 'ttk_km'), (0.18912420970326282, 'swim_pool_km'), (0.1890306196801932, 'mosque_km'), (0.18894454364771174, 'school_km'), (0.18861186633883809, 'catering_km'), (0.1886113606362425, 'nuclear_reactor_km'), (0.1885839884238878, 'detention_facility_km'), (0.18836335078359223, 'power_transmission_line_km'), (0.18827305437748865, 'metro_km_walk'), (0.18704231967821672, 'office_km'), (0.1864907514084111, 'metro_km_avto'), (0.18637937757647038, 'trc_sqm_3000'), (0.1862653906178866, 'theater_km'), (0.18536712415823686, 'cafe_sum_5000_max_price_avg'), (0.18512654615280155, 'mkad_km'), (0.18510946322138633, 'metro_min_walk'), (0.18460468882730452, 'workplaces_km'), (0.18429497523436877, 'preschool_km'), (0.18414430280435767, 'incineration_km'), (0.18386706255281515, 'metro_min_avto'), (0.18341710626617713, 'thermal_power_plant_km'), (0.18278327853850307, 'radiation_km'), (0.18249530177839124, 'cafe_sum_5000_min_price_avg'), (0.1824952626712033, 'public_healthcare_km'), (0.18245163213203908, 'kindergarten_km'), (0.18204935841545433, 'office_sqm_5000'), (0.18199005637667276, 'fitness_km'), (0.18159347663741943, 'basketball_km'), (0.18061291776912336, 'stadium_km'), (0.18014720861386935, 'university_km'), (0.1801080067937133, 'exhibition_km'), (0.18003553880916257, 'hospice_morgue_km'), (0.17924042607753732, 'shopping_centers_km'), (0.17920537964744776, 'railroad_km'), (0.17904588619299155, 'big_road2_km'), (0.17874982581560706, 'water_treatment_km'), (0.17834541919812041, 'bus_terminal_avto_km'), (0.17824693177608708, 'museum_km'), (0.17814179736999836, 'big_market_km'), (0.17809878688237823, 'market_shop_km'), (0.177472651823539, 'public_transport_station_min_walk'), (0.17725189374560935, 'trc_sqm_2000'), (0.1769838504467245, 'additional_education_km'), (0.1767393884123969, 'ice_rink_km'), (0.17649559379304192, 'public_transport_station_km'), (0.17558759552841186, 'railroad_station_avto_min'), (0.17544194746445685, 'big_road1_km'), (0.1749954417446331, 'church_synagogue_km'), (0.174418887694197, 'railroad_station_avto_km'), (0.17253214143020323, 'railroad_station_walk_min'), (0.1721620166100286, 'railroad_station_walk_km'), (0.171551045032174, 'cafe_avg_price_3000'), (0.1707256052540349, 'water_km'), (0.1703290387731109, 'industrial_km'), (0.1689395970281371, 'cemetery_km'), (0.16889234965616207, 'cafe_sum_3000_min_price_avg'), (0.16812666215513206, 'office_sqm_3000'), (0.16559481436522594, 'green_zone_km'), (0.16356833526252101, 'children_school'), (0.16346880125700425, '7_14_female'), (0.1634250416929688, 'cafe_avg_price_2000'), (0.16265535321081415, 'children_preschool'), (0.16173890776761302, 'area_m'), (0.16152291152117426, '0_17_male'), (0.161322462089039, 'ekder_male'), (0.1613007715736905, 'young_all'), (0.16111117380591078, '16_29_male'), (0.16083365005293904, 'ekder_female'), (0.1607283564327988, '0_6_male'), (0.16068983520174918, '0_13_male'), (0.16065153872246074, 'raion_popul'), (0.16059887003574191, '0_17_all'), (0.16036184631433614, 'young_male'), (0.15870683035613609, 'green_zone_part'), (0.1585739017525929, 'ekder_all'), (0.15851142685070907, 'work_female'), (0.15798812268376072, '16_29_all'), (0.1578588517888495, 'female_f'), (0.15753983317766407, '0_17_female'), (0.1575285473560002, '7_14_all'), (0.15738264502107246, '0_13_female'), (0.15730731259544095, '16_29_female'), (0.15688470002088306, 'young_female'), (0.15677444061606804, '7_14_male'), (0.1565858891228793, '0_6_female'), (0.1564941078428277, 'full_all'), (0.1564682767517671, 'trc_sqm_1500'), (0.15627143118521158, '0_13_all'), (0.15605751015572933, 'male_f'), (0.15582655777986454, 'work_male'), (0.15512178415675248, 'cafe_sum_2000_min_price_avg'), (0.15431802418755947, 'green_part_3000'), (0.1536531565997472, '0_6_all'), (0.15091618376245997, 'work_all'), (0.14995958260139575, 'indust_part'), (0.1490992059172198, 'office_sqm_2000'), (0.14894152478365785, 'green_part_5000'), (0.14823998222233392, 'cafe_sum_3000_max_price_avg'), (0.14822518173754617, 'cafe_avg_price_1500'), (0.1478008690744137, 'green_part_2000'), (0.14643134267667213, 'green_part_1500'), (0.1413256885198546, 'preschool_quota'), (0.14131117179539032, 'cafe_count_5000'), (0.1410275823611178, 'school_quota'), (0.14090839596061722, 'prom_part_3000'), (0.1392158479613652, 'office_sqm_1500'), (0.13809552570814465, 'green_part_1000'), (0.13736551551175458, 'raion_build_count_with_builddate_info'), (0.13618812730962904, 'life_sq'), (0.13580269642479337, 'prom_part_5000'), (0.1331305723953642, 'prom_part_2000'), (0.13241777041171487, 'build_count_panel'), (0.12897729425841487, 'cafe_sum_2000_max_price_avg'), (0.12883734304720496, 'raion_build_count_with_material_info'), (0.12872911331623227, 'cafe_sum_1500_min_price_avg'), (0.12647961629449722, 'cafe_count_5000_price_1000'), (0.12563858199217037, 'build_count_1971-1995'), (0.12454767137230571, 'prom_part_1500'), (0.12381183028321407, 'cafe_count_3000'), (0.12213623905128812, 'cafe_count_2000'), (0.12106097727414422, 'build_count_1946-1970'), (0.11973264479113199, 'green_part_500'), (0.11591767250774243, 'cafe_count_5000_price_500'), (0.11554527518885038, 'trc_sqm_1000'), (0.11519179814273461, 'cafe_count_3000_price_1500'), (0.11170261099408552, 'cafe_count_3000_price_1000'), (0.11132963396128659, 'cafe_sum_1500_max_price_avg'), (0.11108810014893566, 'num_room'), (0.11100941056953495, 'cafe_count_5000_price_1500'), (0.11075406365387463, 'sport_count_3000'), (0.11013353160574435, 'build_count_brick'), (0.1091154224187818, 'cafe_avg_price_1000'), (0.10762716916043025, 'sport_count_5000'), (0.1050300783856497, 'build_count_block'), (0.10448740800201262, 'office_count_5000'), (0.10430603514763881, 'trc_count_5000'), (0.10430588869405621, 'cafe_count_5000_price_2500'), (0.10303704874297326, 'cafe_count_2000_price_1000'), (0.10301393197912856, 'cafe_sum_1000_min_price_avg'), (0.10286221689251085, 'cafe_count_1500'), (0.10232841011361371, 'build_count_after_1995'), (0.10051821003562744, 'prom_part_1000'), (0.09971052738655017, 'cafe_count_3000_price_2500'), (0.0995184475398414, 'cafe_count_3000_price_500'), (0.0983002995304485, 'cafe_count_5000_na_price'), (0.09782070792968733, 'trc_count_3000'), (0.09770530729526561, 'cafe_count_2000_price_1500'), (0.09699460249454517, 'office_sqm_1000'), (0.09476427571797497, 'sport_count_2000'), (0.09347530141139537, 'office_count_3000'), (0.0932597834922575, 'cafe_count_2000_price_500'), (0.09243991314642286, 'cafe_count_1500_price_1000'), (0.08956853227228745, 'cafe_count_1000'), (0.08761051891346905, 'trc_count_2000'), (0.08661164525926335, 'big_church_count_5000'), (0.08573691075102463, 'cafe_count_2000_price_2500'), (0.08376558224538244, 'build_count_monolith'), (0.08238930332534222, 'cafe_count_1500_price_1500'), (0.08235171902366445, 'cafe_sum_1000_max_price_avg'), (0.08196743755723523, 'cafe_count_5000_price_4000'), (0.08158297673794457, 'sport_count_1500'), (0.07979065253392048, 'leisure_count_5000'), (0.07957813602312358, 'office_count_2000'), (0.078462161881246, 'sport_objects_raion'), (0.07740955151760431, 'cafe_count_3000_na_price'), (0.07706701909334845, 'big_church_count_3000'), (0.07554787263729024, 'cafe_count_1500_price_500'), (0.07519824317308754, 'cafe_count_1500_price_2500'), (0.07503715301940361, 'hospital_beds_raion'), (0.0742455526868091, 'school_education_centers_raion'), (0.07272146449677819, 'cafe_count_5000_price_high'), (0.07257690752303203, 'church_count_5000'), (0.07255812903260273, 'cafe_count_1000_price_1000'), (0.07047663992526321, 'office_count_1500'), (0.06934708616005847, 'prom_part_500'), (0.06682782282570221, 'church_count_3000'), (0.06679049618833144, 'trc_count_1500'), (0.06604111079163566, 'preschool_education_centers_raion'), (0.06501066787963494, 'cafe_avg_price_500'), (0.0639079559612612, 'build_year'), (0.06305241895967462, 'office_raion'), (0.06173287245653181, 'cafe_count_1000_price_1500'), (0.06088446014662985, 'cafe_count_1000_price_500'), (0.06083925413272384, 'cafe_count_2000_na_price'), (0.058812866298197264, 'cafe_count_500'), (0.05876164577331333, 'cafe_sum_500_max_price_avg'), (0.05868685707404864, 'ecology_2'), (0.05732848844989724, 'cafe_sum_500_min_price_avg'), (0.05685968604506764, 'big_church_count_2000'), (0.05593683720609355, 'kitch_sq'), (0.055126835941762486, 'sport_count_1000'), (0.05479577354395371, 'shopping_centers_raion'), (0.054219792270211675, 'big_church_count_1500'), (0.05402660728608377, 'build_count_1921-1945'), (0.05195631970209891, 'market_count_5000'), (0.04975411757589088, 'trc_sqm_500'), (0.04878553411675135, 'cafe_count_1000_price_2500'), (0.04845481515216199, 'church_count_2000'), (0.047718894499204634, 'office_sqm_500'), (0.04737623465512053, 'cafe_count_3000_price_4000'), (0.04642487668351847, 'office_count_1000'), (0.045495876991271667, 'leisure_count_3000'), (0.043253684064965325, 'cafe_count_500_price_1000'), (0.043141216525255155, 'cafe_count_2000_price_4000'), (0.042369913558833794, 'healthcare_centers_raion_0'), (0.04136722026198747, 'market_count_3000'), (0.04027624663006324, 'trc_count_1000'), (0.040137589060760925, 'cafe_count_1500_na_price'), (0.038783624062386224, 'build_count_wood'), (0.03778323000614514, 'cafe_count_500_price_500'), (0.03730819167207322, 'max_floor'), (0.03705468121010225, 'church_count_1500'), (0.03573272221926671, 'cafe_count_3000_price_high'), (0.03448040872722613, 'cafe_count_1000_na_price'), (0.03414642016585656, 'office_count_500'), (0.033482267480337446, 'big_church_count_1000'), (0.03338907864287188, 'build_count_before_1920'), (0.031103556538577326, 'cafe_count_1500_price_4000'), (0.03092891306717016, 'average_provision_of_build_contract'), (0.030239140350884153, 'oil_urals'), (0.029468057032845607, 'cpi'), (0.02943372511590403, 'deposits_growth'), (0.029359510389182608, 'additional_education_raion'), (0.028888535114719227, 'leisure_count_2000'), (0.02826370992691185, 'ppi'), (0.028147119665416387, 'micex_rgbi_tr'), (0.027983216109479736, 'deposits_value'), (0.0274784837873443, 'product_type_1'), (0.02727501424457346, 'rent_price_3room_bus'), (0.02673253284020416, 'rent_price_3room_eco'), (0.026589941440087417, 'rent_price_1room_bus'), (0.026125824323888436, 'rent_price_4+room_bus'), (0.02583674884553555, 'mortgage_growth'), (0.025833142687905042, 'electric_stove_share'), (0.025646054435030985, 'usdrub'), (0.025584768143110503, 'rts'), (0.025179397230866485, 'net_capital_export'), (0.025172082712632715, 'cafe_count_500_price_1500'), (0.0248850124631399, 'leisure_count_1500'), (0.0247650498161478, 'ID_big_road1_37'), (0.024617336120303035, 'state'), (0.02446753524743661, 'average_provision_of_build_contract_moscow'), (0.024208395107970127, 'micex_cbi_tr'), (0.024201654908916348, 'build_count_frame'), (0.02387569189460681, 'rent_price_1room_eco'), (0.023766709545569364, 'product_type_0'), (0.023759853844799173, 'leisure_count_1000'), (0.023641813464833517, 'cafe_count_2000_price_high'), (0.023544959139260024, 'income_per_cap'), (0.023304924087651058, 'rent_price_2room_bus'), (0.023249273211260357, 'gdp_quart'), (0.022718904678214136, 'rent_price_2room_eco'), (0.02261810045129975, 'brent'), (0.022582596394117305, 'sport_count_500'), (0.02258232403629168, 'mortgage_value'), (0.022517983837920585, 'ID_metro_44'), (0.022427466226977444, 'fin_res_per_cap'), (0.022375003984878905, 'build_count_slag'), (0.022157801103562136, 'perinatal_mort_per_1000_cap'), (0.021758113235610832, 'housing_fund_sqm'), (0.02161986766155355, 'hospital_beds_available_per_cap'), (0.021358522695629656, 'balance_trade_growth'), (0.02084402163772059, 'profitable_enterpr_share'), (0.02083373634248531, 'fixed_basket'), (0.02083024265221889, 'share_own_revenues'), (0.020827532284846573, 'market_count_2000_0'), (0.020808571707691792, 'overdue_wages_per_cap'), (0.02060067074542271, 'provision_doctors'), (0.020576998375691824, 'gdp_quart_growth'), (0.02052623857321234, 'infant_mortarity_per_1000_cap'), (0.020316782518495557, 'church_count_1000'), (0.020192585963215492, 'deposits_rate'), (0.019728776421502614, 'construction_value'), (0.019346412036456373, 'cafe_count_500_price_2500'), (0.019248721539637526, 'hospital_bed_occupancy_per_year'), (0.01922046553258916, 'balance_trade'), (0.019140668326493193, 'grp'), (0.019066334530509765, 'invest_fixed_assets_phys'), (0.019023673851374934, 'sewerage_share'), (0.0189674429917166, 'gas_share'), (0.018728084925973443, 'eurrub'), (0.018517401584272175, 'power_clinics'), (0.018263500711019676, 'ID_metro_205'), (0.017901747993157135, 'unprofitable_enterpr_share'), (0.017790355085154586, 'pop_total_inc'), (0.01762126526825658, 'marriages_per_1000_cap'), (0.017323513240364408, 'university_top_20_raion_0'), (0.01684323428725487, 'museum_visitis_per_100_cap'), (0.01680195489079339, 'market_count_1500_0'), (0.016598320347511075, 'incidence_population'), (0.016586861563490096, 'cafe_count_500_na_price'), (0.01624528504679379, 'ID_railroad_station_walk_23'), (0.01610519086416229, 'apartment_build'), (0.015822462065306686, 'trc_count_500_0'), (0.015470605450175423, 'ID_railroad_station_avto_18'), (0.015456280539759115, 'micex'), (0.01541666713180323, 'ID_big_road1_15'), (0.015373210639210377, 'population_reg_sports_share'), (0.015316729156879871, 'theaters_viewers_per_1000_cap'), (0.015256424054830742, 'build_count_mix'), (0.015124627762294285, 'material'), (0.015123935312665315, 'lodging_sqm_per_cap'), (0.014955522735492943, 'cafe_count_1500_price_high'), (0.014949158086927872, 'floor'), (0.014900466078844987, 'mosque_count_5000_0'), (0.014884634660618179, 'hot_water_share'), (0.014763551291118615, 'cafe_count_1000_price_4000'), (0.014410092021162058, 'sub_area_102'), (0.014200349303555182, 'ID_big_road2_26'), (0.014029685900799116, 'real_dispos_income_per_cap_growth'), (0.013790749429953841, 'cafe_count_500_price_4000'), (0.013684942092522467, 'ID_railroad_terminal_3'), (0.013500976413020505, 'invest_fixed_capital_per_cap_2'), (0.013372874555701575, 'grp_growth'), (0.01321939166642827, 'employment_4'), (0.01304549178148573, 'ID_big_road1_12'), (0.012947261689846723, 'market_count_1000_0'), (0.012937509677509063, 'ecology_3'), (0.012911634942819772, 'invest_fixed_capital_per_cap_3'), (0.012825010434953654, 'ID_railroad_station_avto_37'), (0.01277564448085089, 'ID_railroad_station_avto_40'), (0.012709709777490641, 'ID_bus_terminal_12'), (0.01243413312255992, 'load_on_doctors_3'), (0.01230585669076878, 'university_top_20_raion_1'), (0.012290402680817047, 'ID_big_road1_3'), (0.012096345362558436, 'apartment_fund_sqm_0'), (0.011862117013968554, 'load_of_teachers_preschool_per_teacher'), (0.011708783962803837, 'seats_theather_rfmin_per_100000_cap_1'), (0.011591175145820865, 'retail_trade_turnover_growth_2'), (0.011558733613567851, 'mosque_count_3000_1'), (0.0113792431427171, 'divorce_rate'), (0.01118431808002951, 'church_count_500'), (0.011177459182825089, 'culture_objects_top_25_raion_1'), (0.011090827335577202, 'unemployment_2'), (0.010926642398264796, 'child_on_acc_pre_school_3'), (0.010791130709042251, 'ID_railroad_station_walk_11'), (0.01074445198050622, 'ID_big_road2_37'), (0.010721396997018795, 'old_education_build_share_2'), (0.010650020702779539, 'sub_area_86'), (0.010625525483331622, 'average_life_exp_0'), (0.01051348635407301, 'students_reg_sports_share'), (0.010509758680781855, 'child_on_acc_pre_school_1'), (0.010371416556867352, 'ID_big_road2_12'), (0.010365962183884081, 'salary_1'), (0.010334727300722157, 'pop_natural_increase_4'), (0.010278188768097607, 'apartment_fund_sqm_3'), (0.010260220005779308, 'ID_bus_terminal_1'), (0.01022204970738727, 'mortality_1'), (0.010169911284663824, 'pop_migration'), (0.010124035665902253, 'gdp_annual_4'), (0.010064965528548075, 'apartment_fund_sqm_1'), (0.009979674564948082, 'gdp_deflator_3'), (0.009959288141726308, 'ID_railroad_station_walk_46'), (0.00988358243808607, 'ID_railroad_station_avto_72'), (0.009828821092043638, 'ID_big_road2_54'), (0.009823165438494152, 'ID_railroad_station_walk_104'), (0.00981654329251791, 'ID_big_road1_10'), (0.009815793685072904, 'big_church_count_500'), (0.009723990128802429, 'ID_railroad_station_walk_74'), (0.009705763228359032, 'culture_objects_top_25_0'), (0.009638678987108795, 'ID_railroad_station_avto_32'), (0.009626926274913572, 'ID_bus_terminal_7'), (0.009619415783002072, 'load_of_teachers_school_per_teacher_3'), (0.009587958721825718, 'invest_fixed_assets_1'), (0.009517388415247074, 'turnover_catering_per_cap_3'), (0.009409273639054305, 'bandwidth_sports_3'), (0.009398373351665601, 'radiation_raion_0'), (0.009340876010427657, 'mosque_count_5000_1'), (0.009305180081132569, 'sub_area_101'), (0.009287205430301482, 'market_count_1500_1'), (0.009241766120108519, 'ID_bus_terminal_8'), (0.009215887709293824, 'mortgage_rate'), (0.009194890711274883, 'ID_metro_107'), (0.009190489447043593, 'retail_trade_turnover_per_cap_4'), (0.009188327967455834, 'labor_force_4'), (0.009144618719918896, 'sub_area_31'), (0.008910430306614758, 'modern_education_share_1'), (0.008893562053259751, 'big_road1_1line_0'), (0.00882899488099076, 'salary_2'), (0.008816233799570972, 'average_life_exp_3'), (0.0087873807687322, 'students_state_oneshift_0'), (0.008743358237421228, 'ID_railroad_station_walk_1'), (0.0086435756463219, 'big_market_raion_0'), (0.008549619451396318, 'cafe_count_1000_price_high_4'), (0.008547655351865302, 'ID_railroad_station_avto_48'), (0.008542257721843916, 'ID_bus_terminal_13'), (0.008477990005598235, 'healthcare_centers_raion_1'), (0.00831947662811472, 'gdp_deflator_1'), (0.008305448314713582, 'ID_railroad_station_avto_3'), (0.008264736032365105, 'unemployment_0'), (0.008240345414507466, 'ID_bus_terminal_4'), (0.008141902204310991, 'ID_railroad_station_avto_106'), (0.008116095682946467, 'incineration_raion_1'), (0.008066610017516851, 'school_education_centers_top_20_raion_0'), (0.008040961465349383, 'gdp_deflator_4'), (0.007931848737778191, 'load_on_doctors_1'), (0.007908485361258766, 'provision_nurse_1'), (0.007830074870896375, 'pop_natural_increase_1'), (0.007683900162672286, 'mortality_3'), (0.0076412113243231605, 'retail_trade_turnover_per_cap_1'), (0.007593451331111778, 'unemployment_4'), (0.007590431852861901, 'ID_railroad_station_walk_122'), (0.00753278765186538, 'turnover_catering_per_cap_0'), (0.007521164902555499, 'modern_education_share_-1'), (0.007516081661357088, 'mosque_count_500_0'), (0.007502965199980727, 'old_house_share'), (0.007423603229345099, 'mosque_count_2000_0'), (0.007422368749189667, 'incineration_raion_0'), (0.007420603782947399, 'retail_trade_turnover_1'), (0.007416967390370344, 'sub_area_29'), (0.007416665062389249, 'ID_metro_157'), (0.007398904282123864, 'ID_railroad_station_avto_80'), (0.00739851223126653, 'ID_railroad_station_walk_128'), (0.00737807886172126, 'ID_railroad_station_walk_32'), (0.0073772103177105475, 'invest_fixed_assets_3'), (0.0073744321088355935, 'mosque_count_3000_0'), (0.007371481398452673, 'mosque_count_1000_1'), (0.007328553257167636, 'old_education_build_share_0'), (0.007322751353118884, 'sub_area_87'), (0.007305606747557647, 'turnover_catering_per_cap_1'), (0.007278279740176918, 'salary_3'), (0.007191931609493496, 'labor_force_2'), (0.007190650334766513, 'gdp_annual_growth_1'), (0.007153619279724355, 'ID_railroad_terminal_0'), (0.00706422581491295, 'ID_railroad_station_walk_38'), (0.0070528007703367646, 'ID_railroad_station_walk_115'), (0.006949385867791591, 'sub_area_30'), (0.006905199925201, 'ID_railroad_station_walk_95'), (0.00687498657810881, 'ID_big_road2_15'), (0.006873167076089093, 'ID_railroad_station_avto_61'), (0.006865931378680523, 'market_count_500_3'), (0.0068409819401571426, 'retail_trade_turnover_growth_1'), (0.0067707349721173316, 'thermal_power_plant_raion_0'), (0.0067400516468021365, 'water_1line_1'), (0.006667850539359366, 'gdp_annual_3'), (0.006666865451078641, 'ID_big_road2_8'), (0.006614998900958957, 'sub_area_50'), (0.006516892903765559, 'sub_area_109'), (0.006488531603602743, 'ID_railroad_station_walk_102'), (0.006487269469914514, 'sub_area_6'), (0.006485096443308747, 'gdp_annual_growth_0'), (0.006471370047533176, 'sub_area_134'), (0.006470810151073536, 'sub_area_72'), (0.006431368556582218, 'ID_railroad_station_walk_2'), (0.006423770961194286, 'students_state_oneshift_1'), (0.006409458359684539, 'sub_area_143'), (0.006391379851522938, 'old_education_build_share_1'), (0.00638014868971859, 'market_count_500_4'), (0.006379012301506393, 'employment_2'), (0.0063323739528009515, 'cafe_count_500_price_high_0'), (0.006326303175234305, 'seats_theather_rfmin_per_100000_cap_4'), (0.0063040102049254365, 'ID_big_road2_1'), (0.006269525525540054, 'ID_metro_102'), (0.006259752791756057, 'sub_area_123'), (0.0061751589932892426, 'culture_objects_top_25_1'), (0.006149119303510586, 'market_count_1500_2'), (0.006130580510980588, 'ID_metro_34'), (0.006122076754067729, 'market_count_2000_2'), (0.006083631395796152, 'students_state_oneshift_2'), (0.006070648313530436, 'sub_area_19'), (0.006047393666619882, 'ID_railroad_station_walk_107'), (0.005983383439049028, 'seats_theather_rfmin_per_100000_cap_2'), (0.005954747040816333, 'load_of_teachers_school_per_teacher_2'), (0.005905136010768697, 'salary_growth_1'), (0.005885716905793981, 'ID_big_road1_18'), (0.005848487180495576, 'mosque_count_5000_2'), (0.005823335901230298, 'ID_railroad_station_avto_1'), (0.005819986414370426, 'sub_area_103'), (0.0058115896182093785, 'students_state_oneshift_4'), (0.005794084785946785, 'ID_metro_133'), (0.0057592664095540425, 'salary_growth_2'), (0.005717070634355448, 'labor_force_3'), (0.005700629806307589, 'mosque_count_1500_0'), (0.005700610663000871, 'old_education_build_share_-1'), (0.005693919839208972, 'ID_metro_36'), (0.005684132770580774, 'gdp_annual_growth_3'), (0.005658124753069593, 'ID_big_road1_33'), (0.005648152230619541, 'sub_area_99'), (0.0056365730753646925, 'ID_railroad_station_walk_54'), (0.005636554218601653, 'sub_area_11'), (0.005513423607830914, 'childbirth_1'), (0.005511722863364765, 'average_life_exp_2'), (0.005509816511101162, 'seats_theather_rfmin_per_100000_cap_3'), (0.00549753813702103, 'ID_metro_13'), (0.005461813586899789, 'salary_0'), (0.005450023974191476, 'load_of_teachers_school_per_teacher_1'), (0.005393757754917683, 'employment_0'), (0.005393384420274039, 'load_on_doctors_4'), (0.005373289080321086, 'ID_railroad_station_avto_105'), (0.005360751039992451, 'sub_area_65'), (0.005360436128029056, 'trc_count_500_1'), (0.0053489497840018, 'ID_metro_114'), (0.005347488266652656, 'ID_metro_91'), (0.00532996344099379, 'thermal_power_plant_raion_1'), (0.005319987586547725, 'retail_trade_turnover_growth_3'), (0.0053031621504486814, 'gdp_annual_0'), (0.005303035415928914, 'ID_metro_12'), (0.005302020713022104, 'ID_metro_40'), (0.0052955502319453895, 'students_state_oneshift_3'), (0.005273032395828103, 'ID_railroad_station_walk_63'), (0.005267385570406846, 'ID_railroad_station_avto_102'), (0.005259531525790617, 'ID_railroad_station_avto_125'), (0.005253327701415289, 'sub_area_46'), (0.005235035795270404, 'trc_count_500_3'), (0.005182932100191051, 'nuclear_reactor_raion_1'), (0.00511997510286899, 'retail_trade_turnover_3'), (0.005115199818460869, 'ID_railroad_station_walk_35'), (0.005107105557267788, 'ID_big_road1_25'), (0.005103577460147557, 'bandwidth_sports_4'), (0.005039995353983251, 'retail_trade_turnover_2'), (0.005029862960297615, 'ID_metro_169'), (0.005020450035399193, 'ID_railroad_station_avto_66'), (0.005018335202993995, 'ID_metro_152'), (0.00500188614102659, 'ID_metro_51'), (0.0050012236480292405, 'sub_area_26'), (0.004990617651452256, 'nuclear_reactor_raion_0'), (0.004956135746271961, 'ID_railroad_station_walk_90'), (0.0049515642166715335, 'invest_fixed_capital_per_cap_1'), (0.0049508908845428135, 'ID_railroad_station_avto_21'), (0.004900351239301326, 'sub_area_133'), (0.004896652476197527, 'sub_area_132'), (0.004895617065280744, 'retail_trade_turnover_growth_0'), (0.004894857158134425, 'leisure_count_500'), (0.004862877497988416, 'bandwidth_sports_1'), (0.004855630059487304, 'market_count_2000_7'), (0.0048494646729473345, 'unemployment_1'), (0.004841098588240111, 'sub_area_142'), (0.004792567904069012, 'ID_railroad_station_avto_94'), (0.004786614716661308, 'water_pipes_share'), (0.004757879820754818, 'sub_area_94'), (0.004746030828176817, 'sub_area_57'), (0.004723311761226201, 'turnover_catering_per_cap_4'), (0.0046803256278229455, 'apartment_fund_sqm_4'), (0.004674409435976967, 'healthcare_centers_raion_4'), (0.004658246034042968, 'ID_metro_160'), (0.0046342151215779115, 'market_count_1500_3'), (0.004633046232247029, 'big_market_raion_1'), (0.0046160030398934015, 'ID_railroad_station_avto_41'), (0.004609019518679203, 'ID_railroad_station_avto_124'), (0.004601841092861436, 'sub_area_52'), (0.0045963454290580685, 'ID_metro_183'), (0.004594589877363164, 'water_1line_0'), (0.004572946207118234, 'ID_railroad_station_avto_99'), (0.004567532882024272, 'ID_metro_194'), (0.00453595473697499, 'ID_metro_2'), (0.0045226075471662686, 'ID_bus_terminal_3'), (0.00452218367338042, 'ID_railroad_station_avto_25'), (0.004521733005486306, 'ID_railroad_station_avto_88'), (0.004495130755606258, 'average_life_exp_4'), (0.0044917269177060515, 'ID_metro_166'), (0.004491422600420458, 'ID_big_road2_32'), (0.004479103664556838, 'sub_area_25'), (0.004405459373187037, 'ID_railroad_station_walk_53'), (0.004397307896975677, 'ID_railroad_station_walk_3'), (0.004391395823764244, 'ID_railroad_station_walk_112'), (0.004385226349350679, 'ID_railroad_station_avto_16'), (0.004239219826853935, 'ID_big_road2_17'), (0.004229042095609259, 'mosque_count_1000_0'), (0.004197947686548353, 'market_count_1000_5'), (0.004197714688559007, 'ID_railroad_station_walk_4'), (0.004170694577072087, 'invest_fixed_capital_per_cap_4'), (0.004155753762675296, 'ID_metro_7'), (0.0041452424454042625, 'sub_area_68'), (0.004140823499228619, 'ID_metro_89'), (0.004140713047965372, 'load_of_teachers_school_per_teacher_4'), (0.00413689884788182, 'cafe_count_500_price_high_1'), (0.004117052791201781, 'radiation_raion_1'), (0.004100336573371166, 'childbirth_0'), (0.00408008730479259, 'ID_metro_11'), (0.003974639920496736, 'ID_railroad_station_avto_108'), (0.00396270436101287, 'sub_area_126'), (0.003957847162662231, 'sub_area_20'), (0.0039164898865324815, 'ID_metro_79'), (0.003900859636405407, 'ID_big_road2_51'), (0.0038976958696834707, 'ID_railroad_station_avto_67'), (0.003863421551383084, 'ID_metro_63'), (0.0038557813998858492, 'gdp_deflator_2'), (0.0038192093995896848, 'ID_railroad_station_walk_52'), (0.0038141195064500533, 'ID_railroad_station_walk_50'), (0.0038121582601355897, 'ID_railroad_station_walk_70'), (0.00380892437791025, 'ID_railroad_station_avto_92'), (0.003787248536740506, 'ID_railroad_station_walk_89'), (0.0037843226857623424, 'sub_area_75'), (0.003769855281796408, 'market_count_2000_1'), (0.0037683446770873097, 'ID_railroad_station_walk_114'), (0.003761834147221199, 'childbirth_2'), (0.003748855181137767, 'ID_metro_138'), (0.00372884392431172, 'employment_3'), (0.003718884570562686, 'sub_area_9'), (0.003712688564814659, 'ID_railroad_station_avto_23'), (0.0037105861983597332, 'ID_big_road2_16'), (0.003702576228183707, 'ID_big_road2_19'), (0.003661419029726609, 'ID_metro_222'), (0.0036463284145353825, 'ID_railroad_station_walk_118'), (0.0036448469516279225, 'ID_metro_218'), (0.0036355923005888524, 'ID_big_road2_9'), (0.0036295444735225946, 'ID_big_road2_29'), (0.003627687815242364, 'market_count_1500_6'), (0.0036215441167966045, 'market_count_500_0'), (0.0036070985428577895, 'ID_railroad_station_avto_11'), (0.003598230059648433, 'culture_objects_top_25_raion_0'), (0.00358146024976147, 'sub_area_59'), (0.003576601167244453, 'ID_railroad_station_walk_98'), (0.0035765422522398005, 'gdp_annual_growth_2'), (0.003570340196845656, 'sub_area_81'), (0.003566371352699438, 'provision_nurse_0'), (0.0035568798906724375, 'ID_railroad_station_avto_116'), (0.0035488107009697956, 'ID_railroad_station_walk_69'), (0.003540960485898026, 'ID_metro_139'), (0.0035359457188361976, 'ID_metro_180'), (0.003527084507969347, 'ID_metro_208'), (0.0035266681315844206, 'healthcare_centers_raion_5'), (0.003510491254798964, 'ID_railroad_station_walk_9'), (0.003502180600636562, 'provision_nurse_3'), (0.0034900877188848156, 'ID_metro_213'), (0.0034783619929519283, 'ID_big_road2_5'), (0.003463485528263588, 'ID_railroad_station_avto_119'), (0.0034361369330953018, 'ID_railroad_station_avto_30'), (0.0034352495478437994, 'pop_natural_increase_2'), (0.0034337970061539824, 'ID_metro_209'), (0.003427494893609717, 'mosque_count_3000_2'), (0.003405060354082279, 'ID_metro_64'), (0.0033912633684054505, 'ID_railroad_station_avto_63'), (0.0033801928754313426, 'ID_railroad_station_walk_27'), (0.003371457900956054, 'ID_metro_94'), (0.0033712553717091254, 'ID_metro_0'), (0.0033634591761098065, 'ID_railroad_station_walk_88'), (0.0033395589830704786, 'mortality_0'), (0.0033305463535802105, 'ID_metro_99'), (0.003329871514405003, 'railroad_1line_0'), (0.003305748827020061, 'ID_metro_111'), (0.00329732623445822, 'ID_metro_39'), (0.0032898149842666147, 'sub_area_141'), (0.0032693733265443115, 'cafe_count_1000_price_high_2'), (0.0032691448732051764, 'ID_metro_75'), (0.0032522181005356643, 'sub_area_2'), (0.0032475153317339522, 'ID_railroad_station_walk_57'), (0.0032355044746132933, 'ID_railroad_station_avto_12'), (0.0031868724885339983, 'ID_metro_164'), (0.003184717351416122, 'sub_area_73'), (0.0031566573240129348, 'ID_big_road1_13'), (0.003115586686857741, 'sub_area_114'), (0.0031086574737246853, 'ID_railroad_station_walk_103'), (0.003104200553972314, 'ecology_4'), (0.0031024587447030516, 'bandwidth_sports_2'), (0.003102264836660318, 'mortality_2'), (0.0030919556831456863, 'sub_area_27'), (0.003091725727994321, 'ID_railroad_station_avto_64'), (0.00307810163605593, 'sub_area_22'), (0.0030751463384814937, 'ID_railroad_station_avto_79'), (0.0030681047009089024, 'school_education_centers_top_20_raion_1'), (0.0030626625240981475, 'ID_railroad_station_avto_97'), (0.0030597031312740164, 'salary_4'), (0.0030566642957501333, 'ID_big_road2_25'), (0.0030377772742027354, 'ID_metro_206'), (0.003035567202196443, 'culture_objects_top_25_raion_3'), (0.003032644259491679, 'ID_big_road2_46'), (0.0030175333022928186, 'modern_education_share_0'), (0.0030139400345554623, 'ID_railroad_station_walk_15'), (0.0030053392663642597, 'ID_big_road2_36'), (0.0029692128514489102, 'ID_railroad_station_walk_82'), (0.0029448024941056694, 'sub_area_136'), (0.0029407183122576175, 'ID_metro_204'), (0.002916936933181846, 'ID_railroad_station_walk_24'), (0.002909186733900171, 'ID_railroad_station_avto_112'), (0.0028994963193325063, 'ID_big_road2_56'), (0.002897470457811302, 'ID_big_road1_45'), (0.002893441240330974, 'cafe_count_1000_price_high_3'), (0.002874318376480778, 'ID_big_road2_6'), (0.002873747735836485, 'trc_count_500_2'), (0.002868537226119905, 'salary_growth_0'), (0.0028595281983205822, 'ID_metro_210'), (0.0028447763979735363, 'ID_railroad_station_avto_91'), (0.0028283005351428248, 'ID_big_road2_45'), (0.0028220802745699824, 'load_on_doctors_0'), (0.0028220157488334507, 'ID_railroad_station_avto_33'), (0.0028168136555575263, 'sub_area_113'), (0.0027750498359508935, 'railroad_terminal_raion_1'), (0.002768134444424586, 'ID_metro_181'), (0.002756151100192117, 'trc_count_500_5'), (0.002728547413224147, 'apartment_fund_sqm_2'), (0.0027219834347145255, 'ID_bus_terminal_2'), (0.0027189754050940262, 'ID_big_road1_30'), (0.002716416743354211, 'ID_big_road2_0'), (0.002712963977725913, 'ID_metro_184'), (0.0026994763675387556, 'sub_area_70'), (0.0026774303275050038, 'ID_big_road1_17'), (0.002673690160861719, 'ID_metro_8'), (0.0026602642360160633, 'ID_railroad_station_walk_126'), (0.002658649290463444, 'ID_metro_54'), (0.002657885493901224, 'ID_metro_110'), (0.0026440838151069457, 'sub_area_139'), (0.002633394551408319, 'ID_big_road1_41'), (0.0026316769059575584, 'sub_area_92'), (0.002629722424377645, 'cafe_count_1000_price_high_0'), (0.0026277822993021616, 'ID_metro_71'), (0.002621687590096844, 'ID_railroad_station_avto_44'), (0.0026197226055031386, 'ID_big_road2_33'), (0.002604529261293287, 'ID_metro_69'), (0.0025897721688354913, 'retail_trade_turnover_4'), (0.002583998664605236, 'turnover_catering_per_cap_2'), (0.0025794002372632185, 'sub_area_64'), (0.002578566611760591, 'sub_area_55'), (0.002571521771807417, 'market_count_1000_3'), (0.00256687792920407, 'ID_bus_terminal_10'), (0.002563312661635786, 'ID_metro_87'), (0.002550523274759575, 'ID_big_road1_42'), (0.0025485032140042385, 'ID_railroad_station_walk_130'), (0.002545479903133696, 'pop_natural_increase_0'), (0.002540288536426294, 'ID_big_road1_21'), (0.0025339423241312886, 'ID_railroad_station_walk_72'), (0.0025327922278735038, 'ID_metro_19'), (0.0025324777886510663, 'ID_railroad_station_walk_28'), (0.0025308566712913816, 'ID_railroad_station_walk_22'), (0.0025183851694945414, 'market_count_2000_4'), (0.0025122778319395245, 'ID_metro_131'), (0.0025013419152064564, 'ID_metro_150'), (0.002483983105348475, 'sub_area_54'), (0.002460928388951844, 'ID_railroad_station_walk_44'), (0.002452733689755515, 'ID_railroad_station_avto_98'), (0.002441092179835014, 'ID_metro_196'), (0.002436182679985688, 'ID_metro_67'), (0.002389043924744483, 'ID_metro_59'), (0.002386598784896332, 'quarter_1'), (0.002374253532244186, 'ID_railroad_station_avto_24'), (0.0023742322950954797, 'sub_area_49'), (0.002372322180883568, 'trc_count_500_8'), (0.002358234684749716, 'ID_railroad_station_avto_89'), (0.002357226697351278, 'ID_railroad_station_walk_78'), (0.0023492136787697238, 'ID_big_road1_38'), (0.0023467714544664897, 'ID_railroad_station_avto_46'), (0.0023367692260778394, 'ID_railroad_station_walk_6'), (0.002329195999216438, 'ID_railroad_station_walk_25'), (0.00232907001248428, 'ID_railroad_station_avto_55'), (0.0023007607848331, 'ID_railroad_station_walk_61'), (0.0022978003019238358, 'ID_railroad_station_avto_73'), (0.0022939880307850657, 'ID_metro_3'), (0.002286473673329681, 'ID_railroad_station_avto_86'), (0.0022814883691690824, 'ID_metro_125'), (0.002257022154367183, 'gdp_annual_1'), (0.0022454783212284557, 'ID_metro_153'), (0.0022436100512528423, 'sub_area_125'), (0.0022386419910811473, 'ID_big_road2_3'), (0.002237046124451192, 'ID_metro_220'), (0.0022227935443899227, 'ID_metro_129'), (0.002195112114360187, 'pop_natural_increase_3'), (0.0021873878740397146, 'ID_big_road1_11'), (0.0021367937498937284, 'ID_metro_154'), (0.0021298470334063513, 'market_count_2000_5'), (0.0021159062159124, 'gdp_annual_2'), (0.0021156079816642137, 'ID_big_road2_21'), (0.0021115149161898827, 'ID_metro_58'), (0.0021081266231088858, 'ID_metro_118'), (0.00210405262078317, 'sub_area_112'), (0.0020978970918097417, 'ID_metro_17'), (0.0020912211058645713, 'sub_area_128'), (0.0020884694615883603, 'ID_metro_21'), (0.002087537330468958, 'ID_big_road1_20'), (0.0020680570845132973, 'ID_big_road1_9'), (0.002059066223872419, 'sub_area_95'), (0.0020305692435562683, 'ID_railroad_station_walk_68'), (0.0020303389013553996, 'ID_metro_122'), (0.002029851244245373, 'ID_metro_43'), (0.002022079928958087, 'ID_bus_terminal_5'), (0.0020181098751632653, 'ID_railroad_station_avto_20'), (0.0020088641642674876, 'ID_big_road2_14'), (0.0020017218760004507, 'sub_area_98'), (0.0019872983508062436, 'detention_facility_raion_1'), (0.0019776169640912666, 'ID_railroad_station_walk_84'), (0.001974292214620643, 'ID_metro_203'), (0.0019611781182733434, 'ID_railroad_station_walk_5'), (0.0019386062074673305, 'seats_theather_rfmin_per_100000_cap_0'), (0.0019378327980981158, 'ID_railroad_station_walk_73'), (0.0019169567371866147, 'ID_railroad_station_avto_70'), (0.0019019898923711143, 'ID_metro_47'), (0.0018997227038823894, 'sub_area_43'), (0.0018876453620808586, 'child_on_acc_pre_school_2'), (0.0018792591435683459, 'ID_railroad_station_avto_14'), (0.001862506049856938, 'bandwidth_sports_0'), (0.0018614005255541688, 'ID_metro_134'), (0.0018602051084175564, 'ID_railroad_station_walk_129'), (0.0018530992255669787, 'ID_railroad_station_walk_79'), (0.0018502068254788728, 'provision_nurse_2'), (0.0018465424398135255, 'oil_chemistry_raion_1'), (0.0018164687901922605, 'ID_metro_96'), (0.0018079875631642484, 'retail_trade_turnover_per_cap_2'), (0.001802834475247872, 'ID_railroad_station_avto_39'), (0.0017947542792764448, 'ID_big_road1_28'), (0.001793530746365235, 'ID_railroad_station_avto_0'), (0.0017919096879170926, 'ID_railroad_station_avto_19'), (0.0017864847857178567, 'sub_area_14'), (0.0017766805470096347, 'sub_area_60'), (0.001775999019742791, 'ID_railroad_station_walk_127'), (0.0017741009047811396, 'ID_metro_127'), (0.0017612324769498144, 'ID_railroad_station_avto_75'), (0.0017538186205920958, 'ID_metro_202'), (0.0017524746234611754, 'ID_railroad_station_walk_66'), (0.001748164636861782, 'ID_big_road1_14'), (0.0017453558540261316, 'ID_metro_25'), (0.0017333765758145159, 'ID_metro_113'), (0.0017313386299180333, 'cafe_count_500_price_high_2'), (0.0017086455619577112, 'ID_metro_201'), (0.001692732931705354, 'ID_metro_20'), (0.0016911368446987929, 'ID_railroad_station_walk_43'), (0.0016892794685754442, 'ID_railroad_station_walk_30'), (0.0016851316761277157, 'baths_share'), (0.0016582858535758582, 'sub_area_105'), (0.0016516129427874837, 'sub_area_89'), (0.0016511149075142395, 'ID_metro_124'), (0.0016502265978948216, 'ID_railroad_station_avto_131'), (0.0016493628530396265, 'provision_retail_space_sqm'), (0.001626049712461164, 'sub_area_58'), (0.0015990921805788538, 'ID_big_road2_48'), (0.0015954736904761901, 'ID_railroad_station_walk_56'), (0.0015863909118105646, 'ID_railroad_station_avto_53'), (0.001580819458493865, 'ID_railroad_station_walk_105'), (0.0015502593940082132, 'ID_big_road2_22'), (0.0015483012691477338, 'ID_railroad_terminal_2'), (0.0015416182169161186, 'detention_facility_raion_0'), (0.001532999221467879, 'sub_area_77'), (0.0015321665247867156, 'ID_metro_70'), (0.001530462780621411, 'ID_metro_211'), (0.0015215214260067, 'ID_big_road1_31'), (0.001517555429642492, 'ID_metro_193'), (0.0015131090410922532, 'average_life_exp_1'), (0.0014880049448451338, 'sub_area_91'), (0.001481957431339831, 'ID_metro_188'), (0.0014807879922309475, 'ID_railroad_station_avto_60'), (0.001480227892515451, 'ID_railroad_station_walk_49'), (0.001466588677888181, 'sub_area_110'), (0.001462368514251633, 'ID_metro_199'), (0.0014359386879774227, 'ID_big_road1_44'), (0.0014308728426219997, 'ID_railroad_station_avto_36'), (0.001417209944661435, 'sub_area_23'), (0.0014154056207571486, 'sub_area_140'), (0.0013893742754720328, 'sub_area_38'), (0.0013767143611145283, 'ID_metro_106'), (0.0013686663843384128, 'sub_area_129'), (0.001361615800169913, 'ID_metro_162'), (0.001360014032630863, 'ID_metro_30'), (0.0013033384788259106, 'school_education_centers_top_20_raion_2'), (0.0012831448835601833, 'sub_area_144'), (0.0012713640066657206, 'ID_bus_terminal_11'), (0.001262197658553621, 'ID_railroad_station_walk_31'), (0.0012551203257042953, 'healthcare_centers_raion_6'), (0.0012320696443743895, 'ID_railroad_station_walk_67'), (0.0012311401674760525, 'sub_area_71'), (0.001225912432662568, 'sub_area_135'), (0.0012177414601324266, 'labor_force_1'), (0.0012151195675405013, 'sub_area_127'), (0.0011977857243257173, 'ID_metro_197'), (0.0011949860942053192, 'ID_railroad_station_avto_107'), (0.0011886052312788387, 'unemployment_3'), (0.0011780224150501617, 'ID_big_road2_55'), (0.0011745280213164566, 'sub_area_66'), (0.001136334626571367, 'ID_big_road1_43'), (0.0011183404528301022, 'ID_metro_130'), (0.001112017446175173, 'ID_railroad_station_walk_111'), (0.0011099103683664957, 'ID_metro_177'), (0.0011071278440368815, 'sub_area_130'), (0.0010893978058295062, 'ID_metro_10'), (0.0010621644056800772, 'ID_metro_186'), (0.0010422995494019371, 'ID_metro_80'), (0.0010045964435867472, 'ID_metro_24'), (0.0009959997228643491, 'ID_metro_190'), (0.000989893200625147, 'ID_metro_31'), (0.0009894585922671784, 'ID_big_road1_27'), (0.0009685218354995584, 'ID_metro_16'), (0.000959610143717482, 'ID_railroad_station_avto_50'), (0.0009273604936095303, 'ID_metro_98'), (0.0009147978033097193, 'ID_railroad_station_walk_47'), (0.0009076543975883311, 'ID_railroad_station_walk_19'), (0.0008995221597336567, 'ID_metro_140'), (0.0008911679791421268, 'ID_railroad_station_avto_123'), (0.000886625047755274, 'ID_railroad_station_avto_113'), (0.0008802322083696357, 'ID_metro_156'), (0.0008711850056415393, 'ID_big_road2_35'), (0.0008565865552174756, 'ID_railroad_station_avto_71'), (0.0008451954169745868, 'sub_area_88'), (0.0008335015843883298, 'labor_force_0'), (0.0008200548995318524, 'ID_railroad_station_avto_129'), (0.0008180032461766462, 'ID_railroad_station_walk_131'), (0.0007914720179726942, 'sub_area_28'), (0.0007881496002004607, 'ID_metro_57'), (0.0007794712051982788, 'invest_fixed_assets_4'), (0.000754028814899721, 'ID_railroad_station_walk_87'), (0.0007531083617620116, 'sub_area_138'), (0.0007389810429490051, 'sub_area_80'), (0.000719221806185999, 'ID_railroad_station_walk_85'), (0.0007081192784919033, 'mosque_count_2000_1'), (0.0006979756486815702, 'ID_railroad_station_avto_31'), (0.0006967966400261982, 'ID_railroad_station_walk_101'), (0.0006783886816050799, 'ID_metro_35'), (0.0006666331955147431, 'university_top_20_raion_2'), (0.0006590096643301901, 'sub_area_63'), (0.0006486403810446184, 'sub_area_107'), (0.0006456082826111764, 'ID_railroad_station_avto_65'), (0.0006426763080413789, 'ID_railroad_station_avto_110'), (0.0006420471684933649, 'ID_big_road1_8'), (0.0006396675520967676, 'ID_big_road2_34'), (0.0006190318049905663, 'ID_metro_103'), (0.0006152333018374367, 'ID_big_road2_18'), (0.000613912605936795, 'ID_metro_84'), (0.0005942067125963568, 'sub_area_48'), (0.0005803786734668304, 'employment_1'), (0.0005567572343259108, 'sub_area_69'), (0.0005486881041847358, 'sub_area_62'), (0.0005388292670587269, 'ID_metro_119'), (0.0005194903858323219, 'ID_big_road2_40'), (0.0004952686190515809, 'salary_growth_4'), (0.0004946446840667917, 'ID_metro_207'), (0.0004908281714857132, 'ID_railroad_station_walk_71'), (0.00048675437534795307, 'gdp_annual_growth_4'), (0.0004810990170853735, 'ID_big_road1_24'), (0.0004711264849059926, 'provision_nurse_4'), (0.00046884606197306056, 'sub_area_10'), (0.0004222713023356306, 'sub_area_35'), (0.0004092364662959813, 'retail_trade_turnover_per_cap_0'), (0.000402920537814655, 'ID_big_road2_24'), (0.0003990433950471495, 'ID_big_road2_50'), (0.0003982467530294631, 'ID_railroad_station_avto_42'), (0.00037856276018799484, 'market_count_1000_1'), (0.0003751378236440672, 'ID_railroad_station_walk_91'), (0.000370167093849183, 'sub_area_45'), (0.0003641167121954947, 'ID_metro_109'), (0.000358862990904818, 'ID_metro_175'), (0.00035728423067049597, 'ID_metro_185'), (0.0003553764708590368, 'trc_count_500_4'), (0.0003478605161169046, 'ID_metro_120'), (0.00033869174100842336, 'ID_metro_168'), (0.0003361540111557204, 'market_count_1500_5'), (0.0003348830894469579, 'ID_railroad_station_walk_33'), (0.00030403454745764336, 'ID_railroad_station_walk_117'), (0.0003016768348249599, 'sub_area_18'), (0.0003015034633595537, 'ID_big_road1_7'), (0.00026555556345875253, 'ID_big_road2_53'), (0.00026033390342994345, 'ID_metro_145'), (0.0002578407699125318, 'gdp_deflator_0'), (0.00025454897917764896, 'ID_metro_191'), (0.0002525987259127671, 'market_count_2000_6'), (0.00024799723066859514, 'healthcare_centers_raion_3'), (0.0002323722137724804, 'ID_big_road1_40'), (0.0002179215076021368, 'ID_metro_215'), (0.00021406035349613717, 'ID_railroad_station_avto_103'), (0.00020947390919801023, 'ID_metro_104'), (0.00020936222813361383, 'ID_metro_136'), (0.00019600625138349592, 'modern_education_share_2'), (0.0001945477136493512, 'ecology_0'), (0.0001853314541206963, 'ID_railroad_station_walk_41'), (0.00017677356774070674, 'mosque_count_500_1'), (0.00017549241221770373, 'ID_railroad_station_walk_29'), (0.00017296643785558174, 'ID_railroad_station_walk_96'), (0.0001653897310440744, 'ID_big_road1_46'), (0.0001626946721988709, 'ID_railroad_station_avto_47'), (0.00014887258095774847, 'sub_area_1'), (0.0001414452057135751, 'ID_railroad_station_avto_68'), (0.00012086507931607926, 'sub_area_32'), (0.00011655168036561747, 'ID_railroad_station_avto_22'), (0.00011316407541883677, 'sub_area_131'), (0.00010899459776281262, 'sub_area_51'), (9.618337015115941e-05, 'ID_railroad_station_walk_110'), (8.487920521971226e-05, 'retail_trade_turnover_0'), (8.45895343994929e-05, 'ID_metro_49'), (5.995448158158112e-05, 'ID_railroad_station_walk_124'), (5.5311947255498595e-05, 'ID_metro_76'), (4.449992990473994e-05, 'ID_railroad_station_walk_36'), (3.1423970911825805e-05, 'ID_metro_216'), (1.921399387860845e-05, 'ID_metro_90'), (1.0824450512147976e-05, 'sub_area_7'), (1.7087174444263553e-06, 'ID_metro_163'), (0.0, 'university_top_20_raion_3'), (0.0, 'trc_count_500_7'), (0.0, 'trc_count_500_6'), (0.0, 'sub_area_97'), (0.0, 'sub_area_96'), (0.0, 'sub_area_93'), (0.0, 'sub_area_90'), (0.0, 'sub_area_85'), (0.0, 'sub_area_84'), (0.0, 'sub_area_83'), (0.0, 'sub_area_82'), (0.0, 'sub_area_8'), (0.0, 'sub_area_79'), (0.0, 'sub_area_78'), (0.0, 'sub_area_76'), (0.0, 'sub_area_74'), (0.0, 'sub_area_67'), (0.0, 'sub_area_61'), (0.0, 'sub_area_56'), (0.0, 'sub_area_53'), (0.0, 'sub_area_5'), (0.0, 'sub_area_47'), (0.0, 'sub_area_44'), (0.0, 'sub_area_42'), (0.0, 'sub_area_41'), (0.0, 'sub_area_40'), (0.0, 'sub_area_4'), (0.0, 'sub_area_39'), (0.0, 'sub_area_37'), (0.0, 'sub_area_36'), (0.0, 'sub_area_34'), (0.0, 'sub_area_33'), (0.0, 'sub_area_3'), (0.0, 'sub_area_24'), (0.0, 'sub_area_21'), (0.0, 'sub_area_17'), (0.0, 'sub_area_16'), (0.0, 'sub_area_15'), (0.0, 'sub_area_145'), (0.0, 'sub_area_137'), (0.0, 'sub_area_13'), (0.0, 'sub_area_124'), (0.0, 'sub_area_122'), (0.0, 'sub_area_121'), (0.0, 'sub_area_120'), (0.0, 'sub_area_12'), (0.0, 'sub_area_119'), (0.0, 'sub_area_118'), (0.0, 'sub_area_117'), (0.0, 'sub_area_116'), (0.0, 'sub_area_115'), (0.0, 'sub_area_111'), (0.0, 'sub_area_108'), (0.0, 'sub_area_106'), (0.0, 'sub_area_104'), (0.0, 'sub_area_100'), (0.0, 'sub_area_0'), (0.0, 'salary_growth_3'), (0.0, 'retail_trade_turnover_per_cap_3'), (0.0, 'retail_trade_turnover_growth_4'), (0.0, 'railroad_terminal_raion_0'), (0.0, 'railroad_1line_1'), (0.0, 'quarter_3'), (0.0, 'quarter_2'), (0.0, 'quarter_0'), (0.0, 'provision_retail_space_modern_sqm'), (0.0, 'oil_chemistry_raion_0'), (0.0, 'mosque_count_1500_1'), (0.0, 'market_count_500_2'), (0.0, 'market_count_500_1'), (0.0, 'market_count_2000_8'), (0.0, 'market_count_2000_3'), (0.0, 'market_count_1500_7'), (0.0, 'market_count_1500_4'), (0.0, 'market_count_1000_6'), (0.0, 'market_count_1000_4'), (0.0, 'market_count_1000_2'), (0.0, 'load_on_doctors_2'), (0.0, 'load_of_teachers_school_per_teacher_0'), (0.0, 'invest_fixed_capital_per_cap_0'), (0.0, 'invest_fixed_assets_2'), (0.0, 'invest_fixed_assets_0'), (0.0, 'heating_share'), (0.0, 'healthcare_centers_raion_2'), (0.0, 'ecology_1'), (0.0, 'culture_objects_top_25_raion_5'), (0.0, 'culture_objects_top_25_raion_4'), (0.0, 'culture_objects_top_25_raion_2'), (0.0, 'child_on_acc_pre_school_0'), (0.0, 'child_on_acc_pre_school_-1'), (0.0, 'cafe_count_500_price_high_3'), (0.0, 'cafe_count_1000_price_high_7'), (0.0, 'cafe_count_1000_price_high_6'), (0.0, 'cafe_count_1000_price_high_5'), (0.0, 'cafe_count_1000_price_high_1'), (0.0, 'build_count_foam'), (0.0, 'big_road1_1line_1'), (0.0, 'ID_railroad_terminal_7'), (0.0, 'ID_railroad_terminal_6'), (0.0, 'ID_railroad_terminal_5'), (0.0, 'ID_railroad_terminal_4'), (0.0, 'ID_railroad_terminal_1'), (0.0, 'ID_railroad_station_walk_99'), (0.0, 'ID_railroad_station_walk_97'), (0.0, 'ID_railroad_station_walk_94'), (0.0, 'ID_railroad_station_walk_93'), (0.0, 'ID_railroad_station_walk_92'), (0.0, 'ID_railroad_station_walk_86'), (0.0, 'ID_railroad_station_walk_83'), (0.0, 'ID_railroad_station_walk_81'), (0.0, 'ID_railroad_station_walk_80'), (0.0, 'ID_railroad_station_walk_8'), (0.0, 'ID_railroad_station_walk_77'), (0.0, 'ID_railroad_station_walk_76'), (0.0, 'ID_railroad_station_walk_75'), (0.0, 'ID_railroad_station_walk_7'), (0.0, 'ID_railroad_station_walk_65'), (0.0, 'ID_railroad_station_walk_64'), (0.0, 'ID_railroad_station_walk_62'), (0.0, 'ID_railroad_station_walk_60'), (0.0, 'ID_railroad_station_walk_59'), (0.0, 'ID_railroad_station_walk_58'), (0.0, 'ID_railroad_station_walk_55'), (0.0, 'ID_railroad_station_walk_51'), (0.0, 'ID_railroad_station_walk_48'), (0.0, 'ID_railroad_station_walk_45'), (0.0, 'ID_railroad_station_walk_42'), (0.0, 'ID_railroad_station_walk_40'), (0.0, 'ID_railroad_station_walk_39'), (0.0, 'ID_railroad_station_walk_37'), (0.0, 'ID_railroad_station_walk_34'), (0.0, 'ID_railroad_station_walk_26'), (0.0, 'ID_railroad_station_walk_21'), (0.0, 'ID_railroad_station_walk_20'), (0.0, 'ID_railroad_station_walk_18'), (0.0, 'ID_railroad_station_walk_17'), (0.0, 'ID_railroad_station_walk_16'), (0.0, 'ID_railroad_station_walk_14'), (0.0, 'ID_railroad_station_walk_132'), (0.0, 'ID_railroad_station_walk_13'), (0.0, 'ID_railroad_station_walk_125'), (0.0, 'ID_railroad_station_walk_123'), (0.0, 'ID_railroad_station_walk_121'), (0.0, 'ID_railroad_station_walk_120'), (0.0, 'ID_railroad_station_walk_12'), (0.0, 'ID_railroad_station_walk_119'), (0.0, 'ID_railroad_station_walk_116'), (0.0, 'ID_railroad_station_walk_113'), (0.0, 'ID_railroad_station_walk_109'), (0.0, 'ID_railroad_station_walk_108'), (0.0, 'ID_railroad_station_walk_106'), (0.0, 'ID_railroad_station_walk_100'), (0.0, 'ID_railroad_station_walk_10'), (0.0, 'ID_railroad_station_walk_0'), (0.0, 'ID_railroad_station_walk_-1'), (0.0, 'ID_railroad_station_avto_96'), (0.0, 'ID_railroad_station_avto_95'), (0.0, 'ID_railroad_station_avto_93'), (0.0, 'ID_railroad_station_avto_90'), (0.0, 'ID_railroad_station_avto_9'), (0.0, 'ID_railroad_station_avto_87'), (0.0, 'ID_railroad_station_avto_85'), (0.0, 'ID_railroad_station_avto_84'), (0.0, 'ID_railroad_station_avto_83'), (0.0, 'ID_railroad_station_avto_82'), (0.0, 'ID_railroad_station_avto_81'), (0.0, 'ID_railroad_station_avto_8'), (0.0, 'ID_railroad_station_avto_78'), (0.0, 'ID_railroad_station_avto_77'), (0.0, 'ID_railroad_station_avto_76'), (0.0, 'ID_railroad_station_avto_74'), (0.0, 'ID_railroad_station_avto_7'), (0.0, 'ID_railroad_station_avto_69'), (0.0, 'ID_railroad_station_avto_62'), (0.0, 'ID_railroad_station_avto_6'), (0.0, 'ID_railroad_station_avto_59'), (0.0, 'ID_railroad_station_avto_58'), (0.0, 'ID_railroad_station_avto_57'), (0.0, 'ID_railroad_station_avto_56'), (0.0, 'ID_railroad_station_avto_54'), (0.0, 'ID_railroad_station_avto_52'), (0.0, 'ID_railroad_station_avto_51'), (0.0, 'ID_railroad_station_avto_5'), (0.0, 'ID_railroad_station_avto_49'), (0.0, 'ID_railroad_station_avto_45'), (0.0, 'ID_railroad_station_avto_43'), (0.0, 'ID_railroad_station_avto_4'), (0.0, 'ID_railroad_station_avto_38'), (0.0, 'ID_railroad_station_avto_35'), (0.0, 'ID_railroad_station_avto_34'), (0.0, 'ID_railroad_station_avto_29'), (0.0, 'ID_railroad_station_avto_28'), (0.0, 'ID_railroad_station_avto_27'), (0.0, 'ID_railroad_station_avto_26'), (0.0, 'ID_railroad_station_avto_2'), (0.0, 'ID_railroad_station_avto_17'), (0.0, 'ID_railroad_station_avto_15'), (0.0, 'ID_railroad_station_avto_132'), (0.0, 'ID_railroad_station_avto_130'), (0.0, 'ID_railroad_station_avto_13'), (0.0, 'ID_railroad_station_avto_128'), (0.0, 'ID_railroad_station_avto_127'), (0.0, 'ID_railroad_station_avto_126'), (0.0, 'ID_railroad_station_avto_122'), (0.0, 'ID_railroad_station_avto_121'), (0.0, 'ID_railroad_station_avto_120'), (0.0, 'ID_railroad_station_avto_118'), (0.0, 'ID_railroad_station_avto_117'), (0.0, 'ID_railroad_station_avto_115'), (0.0, 'ID_railroad_station_avto_114'), (0.0, 'ID_railroad_station_avto_111'), (0.0, 'ID_railroad_station_avto_109'), (0.0, 'ID_railroad_station_avto_104'), (0.0, 'ID_railroad_station_avto_101'), (0.0, 'ID_railroad_station_avto_100'), (0.0, 'ID_railroad_station_avto_10'), (0.0, 'ID_metro_97'), (0.0, 'ID_metro_95'), (0.0, 'ID_metro_93'), (0.0, 'ID_metro_92'), (0.0, 'ID_metro_9'), (0.0, 'ID_metro_88'), (0.0, 'ID_metro_86'), (0.0, 'ID_metro_85'), (0.0, 'ID_metro_83'), (0.0, 'ID_metro_82'), (0.0, 'ID_metro_81'), (0.0, 'ID_metro_78'), (0.0, 'ID_metro_77'), (0.0, 'ID_metro_74'), (0.0, 'ID_metro_73'), (0.0, 'ID_metro_72'), (0.0, 'ID_metro_68'), (0.0, 'ID_metro_66'), (0.0, 'ID_metro_65'), (0.0, 'ID_metro_62'), (0.0, 'ID_metro_61'), (0.0, 'ID_metro_60'), (0.0, 'ID_metro_6'), (0.0, 'ID_metro_56'), (0.0, 'ID_metro_55'), (0.0, 'ID_metro_53'), (0.0, 'ID_metro_52'), (0.0, 'ID_metro_50'), (0.0, 'ID_metro_5'), (0.0, 'ID_metro_48'), (0.0, 'ID_metro_46'), (0.0, 'ID_metro_45'), (0.0, 'ID_metro_42'), (0.0, 'ID_metro_41'), (0.0, 'ID_metro_4'), (0.0, 'ID_metro_38'), (0.0, 'ID_metro_37'), (0.0, 'ID_metro_33'), (0.0, 'ID_metro_32'), (0.0, 'ID_metro_29'), (0.0, 'ID_metro_28'), (0.0, 'ID_metro_27'), (0.0, 'ID_metro_26'), (0.0, 'ID_metro_23'), (0.0, 'ID_metro_221'), (0.0, 'ID_metro_22'), (0.0, 'ID_metro_219'), (0.0, 'ID_metro_217'), (0.0, 'ID_metro_214'), (0.0, 'ID_metro_212'), (0.0, 'ID_metro_200'), (0.0, 'ID_metro_198'), (0.0, 'ID_metro_195'), (0.0, 'ID_metro_192'), (0.0, 'ID_metro_189'), (0.0, 'ID_metro_187'), (0.0, 'ID_metro_182'), (0.0, 'ID_metro_18'), (0.0, 'ID_metro_179'), (0.0, 'ID_metro_178'), (0.0, 'ID_metro_176'), (0.0, 'ID_metro_174'), (0.0, 'ID_metro_173'), (0.0, 'ID_metro_172'), (0.0, 'ID_metro_171'), (0.0, 'ID_metro_170'), (0.0, 'ID_metro_167'), (0.0, 'ID_metro_165'), (0.0, 'ID_metro_161'), (0.0, 'ID_metro_159'), (0.0, 'ID_metro_158'), (0.0, 'ID_metro_155'), (0.0, 'ID_metro_151'), (0.0, 'ID_metro_15'), (0.0, 'ID_metro_149'), (0.0, 'ID_metro_148'), (0.0, 'ID_metro_147'), (0.0, 'ID_metro_146'), (0.0, 'ID_metro_144'), (0.0, 'ID_metro_143'), (0.0, 'ID_metro_142'), (0.0, 'ID_metro_141'), (0.0, 'ID_metro_14'), (0.0, 'ID_metro_137'), (0.0, 'ID_metro_135'), (0.0, 'ID_metro_132'), (0.0, 'ID_metro_128'), (0.0, 'ID_metro_126'), (0.0, 'ID_metro_123'), (0.0, 'ID_metro_121'), (0.0, 'ID_metro_117'), (0.0, 'ID_metro_116'), (0.0, 'ID_metro_115'), (0.0, 'ID_metro_112'), (0.0, 'ID_metro_108'), (0.0, 'ID_metro_105'), (0.0, 'ID_metro_101'), (0.0, 'ID_metro_100'), (0.0, 'ID_metro_1'), (0.0, 'ID_bus_terminal_9'), (0.0, 'ID_bus_terminal_6'), (0.0, 'ID_bus_terminal_0'), (0.0, 'ID_big_road2_7'), (0.0, 'ID_big_road2_57'), (0.0, 'ID_big_road2_52'), (0.0, 'ID_big_road2_49'), (0.0, 'ID_big_road2_47'), (0.0, 'ID_big_road2_44'), (0.0, 'ID_big_road2_43'), (0.0, 'ID_big_road2_42'), (0.0, 'ID_big_road2_41'), (0.0, 'ID_big_road2_4'), (0.0, 'ID_big_road2_39'), (0.0, 'ID_big_road2_38'), (0.0, 'ID_big_road2_31'), (0.0, 'ID_big_road2_30'), (0.0, 'ID_big_road2_28'), (0.0, 'ID_big_road2_27'), (0.0, 'ID_big_road2_23'), (0.0, 'ID_big_road2_20'), (0.0, 'ID_big_road2_2'), (0.0, 'ID_big_road2_13'), (0.0, 'ID_big_road2_11'), (0.0, 'ID_big_road2_10'), (0.0, 'ID_big_road1_6'), (0.0, 'ID_big_road1_5'), (0.0, 'ID_big_road1_47'), (0.0, 'ID_big_road1_4'), (0.0, 'ID_big_road1_39'), (0.0, 'ID_big_road1_36'), (0.0, 'ID_big_road1_35'), (0.0, 'ID_big_road1_34'), (0.0, 'ID_big_road1_32'), (0.0, 'ID_big_road1_29'), (0.0, 'ID_big_road1_26'), (0.0, 'ID_big_road1_23'), (0.0, 'ID_big_road1_22'), (0.0, 'ID_big_road1_2'), (0.0, 'ID_big_road1_19'), (0.0, 'ID_big_road1_16'), (0.0, 'ID_big_road1_1'), (0.0, 'ID_big_road1_0')]\n",
      "2018-11-20 16:28:02.885070\n"
     ]
    }
   ],
   "source": [
    "# information gain\n",
    "print (dt.datetime.now())\n",
    "res = list(zip(mutual_info_classif(df_train[x_list], df_train['price_cat']), x_list))\n",
    "print(sorted(res,reverse=True))\n",
    "print (dt.datetime.now())"
   ]
  },
  {
   "cell_type": "code",
   "execution_count": 161,
   "metadata": {},
   "outputs": [
    {
     "name": "stdout",
     "output_type": "stream",
     "text": [
      "2018-11-20 13:03:44.361024\n",
      "2018-11-20 13:09:24.102185\n"
     ]
    }
   ],
   "source": [
    "# information gain --> want to verify that 1.0 is the highest value for info gain... \n",
    "# answer is 1.05 but that's probably just a rounding error. For all intents and purposes it's 1.0 ...\n",
    "print (dt.datetime.now())\n",
    "for c in new_idlist:\n",
    "    #colx = ['price_cat','diff_sq', 'plus_sq', 'km_sum', c] \n",
    "    colx = [c]\n",
    "    res = list(zip(mutual_info_classif(df_train[colx], df_train['price_cat'], discrete_features=False), colx))\n",
    "    #print(sorted(res,reverse=True))\n",
    "    #print(res[4][0])\n",
    "    if res[0][0] >= .1:\n",
    "        print(res[0])\n",
    "print (dt.datetime.now())"
   ]
  },
  {
   "cell_type": "code",
   "execution_count": 26,
   "metadata": {},
   "outputs": [
    {
     "data": {
      "text/plain": [
       "(10264, 156)"
      ]
     },
     "execution_count": 26,
     "metadata": {},
     "output_type": "execute_result"
    }
   ],
   "source": [
    "X_train.shape"
   ]
  },
  {
   "cell_type": "code",
   "execution_count": 29,
   "metadata": {},
   "outputs": [
    {
     "name": "stdout",
     "output_type": "stream",
     "text": [
      "[0.91631618 0.01936983 0.0146216  0.00632571]\n"
     ]
    },
    {
     "data": {
      "text/html": [
       "<div>\n",
       "<style scoped>\n",
       "    .dataframe tbody tr th:only-of-type {\n",
       "        vertical-align: middle;\n",
       "    }\n",
       "\n",
       "    .dataframe tbody tr th {\n",
       "        vertical-align: top;\n",
       "    }\n",
       "\n",
       "    .dataframe thead th {\n",
       "        text-align: right;\n",
       "    }\n",
       "</style>\n",
       "<table border=\"1\" class=\"dataframe\">\n",
       "  <thead>\n",
       "    <tr style=\"text-align: right;\">\n",
       "      <th></th>\n",
       "      <th>0</th>\n",
       "      <th>1</th>\n",
       "      <th>2</th>\n",
       "      <th>3</th>\n",
       "      <th>price_cat</th>\n",
       "    </tr>\n",
       "  </thead>\n",
       "  <tbody>\n",
       "    <tr>\n",
       "      <th>0</th>\n",
       "      <td>0.018874</td>\n",
       "      <td>0.018434</td>\n",
       "      <td>0.003948</td>\n",
       "      <td>0.037242</td>\n",
       "      <td>NaN</td>\n",
       "    </tr>\n",
       "    <tr>\n",
       "      <th>1</th>\n",
       "      <td>0.018723</td>\n",
       "      <td>0.009193</td>\n",
       "      <td>-0.002402</td>\n",
       "      <td>0.101526</td>\n",
       "      <td>NaN</td>\n",
       "    </tr>\n",
       "    <tr>\n",
       "      <th>2</th>\n",
       "      <td>0.025314</td>\n",
       "      <td>0.001319</td>\n",
       "      <td>-0.001615</td>\n",
       "      <td>-0.004686</td>\n",
       "      <td>NaN</td>\n",
       "    </tr>\n",
       "    <tr>\n",
       "      <th>3</th>\n",
       "      <td>0.022988</td>\n",
       "      <td>0.007974</td>\n",
       "      <td>0.003869</td>\n",
       "      <td>0.005698</td>\n",
       "      <td>3.0</td>\n",
       "    </tr>\n",
       "    <tr>\n",
       "      <th>4</th>\n",
       "      <td>0.013424</td>\n",
       "      <td>-0.023305</td>\n",
       "      <td>0.027166</td>\n",
       "      <td>-0.072643</td>\n",
       "      <td>3.0</td>\n",
       "    </tr>\n",
       "  </tbody>\n",
       "</table>\n",
       "</div>"
      ],
      "text/plain": [
       "          0         1         2         3  price_cat\n",
       "0  0.018874  0.018434  0.003948  0.037242        NaN\n",
       "1  0.018723  0.009193 -0.002402  0.101526        NaN\n",
       "2  0.025314  0.001319 -0.001615 -0.004686        NaN\n",
       "3  0.022988  0.007974  0.003869  0.005698        3.0\n",
       "4  0.013424 -0.023305  0.027166 -0.072643        3.0"
      ]
     },
     "execution_count": 29,
     "metadata": {},
     "output_type": "execute_result"
    }
   ],
   "source": [
    "pca = PCA(n_components=4)\n",
    "pca.fit(X_train, y_train)\n",
    "print(pca.explained_variance_ratio_) \n",
    "df_pca = pd.DataFrame(pca.components_)\n",
    "df_pca = df_pca.T\n",
    "df_pca.head()\n",
    "df_pca['price_cat'] = y_train\n",
    "df_pca.head()"
   ]
  },
  {
   "cell_type": "code",
   "execution_count": 92,
   "metadata": {},
   "outputs": [
    {
     "name": "stdout",
     "output_type": "stream",
     "text": [
      "2018-11-20 21:50:05.670015\n",
      "score 0.7515344396453739\n",
      "pred label [3 3 1 ... 2 3 3]\n",
      "2018-11-20 21:50:43.682135\n"
     ]
    }
   ],
   "source": [
    "print (dt.datetime.now())\n",
    "pca = PCA(n_components=20)# adjust yourself\n",
    "pca.fit(X_train)\n",
    "X_t_train = pca.transform(X_train)\n",
    "X_t_test = pca.transform(X_test)\n",
    "clf = RandomForestClassifier(criterion='entropy', n_estimators=500)\n",
    "clf.fit(X_t_train, y_train)\n",
    "print ('score', clf.score(X_t_test, y_test))\n",
    "print ('pred label', clf.predict(X_t_test))\n",
    "print (dt.datetime.now())"
   ]
  },
  {
   "cell_type": "code",
   "execution_count": 41,
   "metadata": {},
   "outputs": [
    {
     "name": "stdout",
     "output_type": "stream",
     "text": [
      "2018-11-20 18:31:57.285884\n",
      "score 0.758808820186406\n",
      "pred label [2 2 2 ... 2 1 2]\n",
      "2018-11-20 18:35:55.206863\n"
     ]
    }
   ],
   "source": [
    "print (dt.datetime.now())\n",
    "pca = PCA(n_components=150)# adjust yourself\n",
    "pca.fit(X_train)\n",
    "X_t_train = pca.transform(X_train)\n",
    "X_t_test = pca.transform(X_test)\n",
    "clf = XGBClassifier(objective='multi:softmax', n_estimators=500)\n",
    "clf.fit(X_t_train, y_train)\n",
    "print ('score', clf.score(X_t_test, y_test))\n",
    "print ('pred label', clf.predict(X_t_test))\n",
    "print (dt.datetime.now())"
   ]
  },
  {
   "cell_type": "code",
   "execution_count": 91,
   "metadata": {},
   "outputs": [
    {
     "name": "stdout",
     "output_type": "stream",
     "text": [
      "2018-11-20 21:46:34.847649\n",
      "Fitting 10 folds for each of 1 candidates, totalling 10 fits\n",
      "[CV] clf__n_estimators=500 ...........................................\n",
      "[CV] clf__n_estimators=500 ...........................................\n",
      "[CV] clf__n_estimators=500 ...........................................\n",
      "[CV] clf__n_estimators=500 ...........................................\n",
      "[CV] clf__n_estimators=500 ...........................................\n",
      "[CV] .. clf__n_estimators=500, score=0.7840909090909091, total=  23.6s\n",
      "[CV] clf__n_estimators=500 ...........................................\n",
      "[CV] .. clf__n_estimators=500, score=0.7782467532467533, total=  23.9s\n",
      "[CV] .. clf__n_estimators=500, score=0.7918831168831169, total=  23.8s\n",
      "[CV] clf__n_estimators=500 ...........................................\n",
      "[CV] .. clf__n_estimators=500, score=0.7892857142857143, total=  23.8s\n",
      "[CV] clf__n_estimators=500 ...........................................\n",
      "[CV] clf__n_estimators=500 ...........................................\n",
      "[CV] .. clf__n_estimators=500, score=0.7977272727272727, total=  24.9s\n",
      "[CV] clf__n_estimators=500 ...........................................\n"
     ]
    },
    {
     "name": "stderr",
     "output_type": "stream",
     "text": [
      "[Parallel(n_jobs=5)]: Done   5 out of  10 | elapsed:   26.3s remaining:   26.3s\n"
     ]
    },
    {
     "name": "stdout",
     "output_type": "stream",
     "text": [
      "[CV] ... clf__n_estimators=500, score=0.797077922077922, total=  23.7s\n",
      "[CV] .. clf__n_estimators=500, score=0.7902597402597402, total=  23.7s\n",
      "[CV] .. clf__n_estimators=500, score=0.7831168831168831, total=  23.6s\n",
      "[CV] .. clf__n_estimators=500, score=0.7948051948051948, total=  23.6s\n",
      "[CV] .. clf__n_estimators=500, score=0.7909090909090909, total=  23.4s\n"
     ]
    },
    {
     "name": "stderr",
     "output_type": "stream",
     "text": [
      "[Parallel(n_jobs=5)]: Done  10 out of  10 | elapsed:   50.5s finished\n"
     ]
    },
    {
     "name": "stdout",
     "output_type": "stream",
     "text": [
      "{'clf__n_estimators': 500}\n",
      "0.9928877630553391\n",
      "0.7842691520800182\n",
      "2018-11-20 21:47:54.870393\n"
     ]
    }
   ],
   "source": [
    "# test model where data is no more than 3 std devs (in either direction) from mean for continuous data\n",
    "print (dt.datetime.now())\n",
    "pipe = Pipeline([\n",
    "  #('pca', PCA()),\n",
    "  ('clf', RandomForestClassifier(criterion='entropy'))\n",
    "])\n",
    "\n",
    "cv = model_selection.ShuffleSplit(n_splits=10, test_size=0.3)\n",
    "param_grid = { \"clf__n_estimators\": [500]} #, \"pca__n_components\": [5,10] , \"pca__whiten\": [True,False] }\n",
    "pipe_est_cv = model_selection.GridSearchCV(pipe, param_grid=param_grid, cv=cv, scoring='accuracy', \\\n",
    "                                           verbose=3, n_jobs=5)\n",
    "\n",
    "#pipe_est_cv.fit(X_train, y_train)\n",
    "pipe_est_cv.fit(new_df, y_train)\n",
    "#pipe_est_cv.fit(df_train[ig_list], df_train['price_cat'])\n",
    "print(pipe_est_cv.best_params_)\n",
    "print(pipe_est_cv.score(new_df, y_train)) # 1.0  10 splits\n",
    "print(pipe_est_cv.score(selector.transform(X_test), y_test))\n",
    "#print(pipe_est_cv.score(X_test, y_test))   # 0.7908553926930649\n",
    "print (dt.datetime.now())"
   ]
  },
  {
   "cell_type": "code",
   "execution_count": 81,
   "metadata": {},
   "outputs": [
    {
     "name": "stderr",
     "output_type": "stream",
     "text": [
      "/Users/chadleonard/Springboard/anaconda3/lib/python3.7/site-packages/sklearn/utils/deprecation.py:122: FutureWarning: You are accessing a training score ('mean_train_score'), which will not be available by default any more in 0.21. If you need training scores, please set return_train_score=True\n",
      "  warnings.warn(*warn_args, **warn_kwargs)\n"
     ]
    },
    {
     "name": "stdout",
     "output_type": "stream",
     "text": [
      "[0.9877046]\n",
      "[0.78536031]\n",
      "0.9847692657422141\n"
     ]
    }
   ],
   "source": [
    "pipe_est_cv_results = pipe_est_cv.cv_results_\n",
    "print(pipe_est_cv_results['mean_train_score'])\n",
    "print(pipe_est_cv_results['mean_test_score'])\n",
    "print(pipe_est_cv.score(selector.transform(X_test), y_test))"
   ]
  },
  {
   "cell_type": "code",
   "execution_count": null,
   "metadata": {},
   "outputs": [],
   "source": []
  },
  {
   "cell_type": "code",
   "execution_count": 93,
   "metadata": {},
   "outputs": [
    {
     "name": "stdout",
     "output_type": "stream",
     "text": [
      "2018-11-20 10:55:12.922932\n",
      "Fitting 5 folds for each of 1 candidates, totalling 5 fits\n",
      "[CV] clf__max_depth=20, clf__n_estimators=200, clf__objective=multi:softmax \n",
      "[CV] clf__max_depth=20, clf__n_estimators=200, clf__objective=multi:softmax \n",
      "[CV] clf__max_depth=20, clf__n_estimators=200, clf__objective=multi:softmax \n",
      "[CV] clf__max_depth=20, clf__n_estimators=200, clf__objective=multi:softmax \n",
      "[CV] clf__max_depth=20, clf__n_estimators=200, clf__objective=multi:softmax \n",
      "[CV]  clf__max_depth=20, clf__n_estimators=200, clf__objective=multi:softmax, score=0.7986404125644632, total=33.4min\n",
      "[CV]  clf__max_depth=20, clf__n_estimators=200, clf__objective=multi:softmax, score=0.8082512892639475, total=33.5min\n"
     ]
    },
    {
     "name": "stderr",
     "output_type": "stream",
     "text": [
      "[Parallel(n_jobs=5)]: Done   2 out of   5 | elapsed: 33.6min remaining: 50.4min\n"
     ]
    },
    {
     "name": "stdout",
     "output_type": "stream",
     "text": [
      "[CV]  clf__max_depth=20, clf__n_estimators=200, clf__objective=multi:softmax, score=0.8089545241443976, total=33.6min\n",
      "[CV]  clf__max_depth=20, clf__n_estimators=200, clf__objective=multi:softmax, score=0.8087201125175809, total=33.6min\n",
      "[CV]  clf__max_depth=20, clf__n_estimators=200, clf__objective=multi:softmax, score=0.8037974683544303, total=33.7min\n"
     ]
    },
    {
     "name": "stderr",
     "output_type": "stream",
     "text": [
      "[Parallel(n_jobs=5)]: Done   5 out of   5 | elapsed: 33.8min finished\n"
     ]
    },
    {
     "name": "stdout",
     "output_type": "stream",
     "text": [
      "{'clf__max_depth': 20, 'clf__n_estimators': 200, 'clf__objective': 'multi:softmax'}\n",
      "0.8056727613689639\n",
      "[1.]\n",
      "[0.80567276]\n",
      "2018-11-20 12:03:47.110039\n"
     ]
    },
    {
     "name": "stderr",
     "output_type": "stream",
     "text": [
      "/Users/chadleonard/Springboard/anaconda3/lib/python3.7/site-packages/sklearn/utils/deprecation.py:122: FutureWarning: You are accessing a training score ('mean_train_score'), which will not be available by default any more in 0.21. If you need training scores, please set return_train_score=True\n",
      "  warnings.warn(*warn_args, **warn_kwargs)\n"
     ]
    }
   ],
   "source": [
    "# First XGBoost Classifier model\n",
    "print (dt.datetime.now())\n",
    "pipe = Pipeline([\n",
    "      # ('scaling', preprocessing.StandardScaler()),\n",
    "       #('pca', PCA(whiten=True)),\n",
    "       ('clf', XGBClassifier()) \n",
    "    ])\n",
    "\n",
    "cv = model_selection.ShuffleSplit(n_splits=5, test_size=0.2)\n",
    "param_grid = { \"clf__n_estimators\": [200], \\\n",
    "              \"clf__objective\": ['multi:softmax'] , \"clf__max_depth\": [20]}\n",
    "pipe_est_cv = model_selection.GridSearchCV(pipe, param_grid=param_grid, cv=cv, \\\n",
    "                                           scoring='accuracy', verbose=3, n_jobs=5)\n",
    "\n",
    "pipe_est_cv.fit(X_train, y_train)\n",
    "pipe_est_cv_results = pipe_est_cv.cv_results_\n",
    "\n",
    "print(pipe_est_cv.best_params_)\n",
    "print(pipe_est_cv.best_score_)\n",
    "\n",
    "print(pipe_est_cv_results['mean_train_score'])\n",
    "print(pipe_est_cv_results['mean_test_score'])\n",
    "print (dt.datetime.now())"
   ]
  },
  {
   "cell_type": "code",
   "execution_count": 16,
   "metadata": {},
   "outputs": [
    {
     "data": {
      "text/plain": [
       "[1, 3, 2, 2, 3]"
      ]
     },
     "execution_count": 16,
     "metadata": {},
     "output_type": "execute_result"
    }
   ],
   "source": [
    "y_out = list(pipe_est_cv.predict(X_test))\n",
    "y_out[:5]"
   ]
  },
  {
   "cell_type": "code",
   "execution_count": 17,
   "metadata": {},
   "outputs": [
    {
     "name": "stdout",
     "output_type": "stream",
     "text": [
      "919\n"
     ]
    }
   ],
   "source": [
    "result = []\n",
    "y_in = list(y_test)\n",
    "for a in range(len(y_in)):\n",
    "    if y_in[a] != y_out[a]:\n",
    "        result.append((y_in[a], y_out[a]))\n",
    "print(len(result))\n",
    "#sorted(result)"
   ]
  },
  {
   "cell_type": "code",
   "execution_count": 18,
   "metadata": {},
   "outputs": [
    {
     "data": {
      "text/plain": [
       "[(289, (1, 2)),\n",
       " (215, (2, 1)),\n",
       " (129, (3, 2)),\n",
       " (119, (2, 3)),\n",
       " (72, (1, 3)),\n",
       " (29, (0, 1)),\n",
       " (28, (0, 2)),\n",
       " (12, (3, 1)),\n",
       " (9, (3, 0)),\n",
       " (9, (0, 3)),\n",
       " (4, (2, 0)),\n",
       " (4, (1, 0))]"
      ]
     },
     "execution_count": 18,
     "metadata": {},
     "output_type": "execute_result"
    }
   ],
   "source": [
    "d = defaultdict(int)\n",
    "for a in result:\n",
    "    d[a] += 1\n",
    "    \n",
    "ys = [(v,k) for k,v in d.items()]\n",
    "sorted(ys,reverse=True)"
   ]
  },
  {
   "cell_type": "code",
   "execution_count": 105,
   "metadata": {},
   "outputs": [
    {
     "name": "stdout",
     "output_type": "stream",
     "text": [
      "2018-11-19 13:36:21.710964\n",
      "[(1.0578597018780778, 'price_cat'), (1.054515396339213, 'price_doc'), (0.15398174695474132, 'area_m'), (0.13284162703609503, 'diff_sq')]\n",
      "2018-11-19 13:36:24.936279\n"
     ]
    }
   ],
   "source": [
    "# information gain --> want to verify that 1.0 is the highest value for info gain... \n",
    "# answer is 1.05 but that's probably just a rounding error. For all intents and purposes it's 1.0 ...\n",
    "print (dt.datetime.now())\n",
    "df1['diff_sq'] = df1['full_sq'] - df1['life_sq']\n",
    "colx = ['price_cat','price_doc', 'area_m', 'diff_sq']\n",
    "res = list(zip(mutual_info_classif(df1[colx], df1['price_cat']), colx))\n",
    "print(sorted(res,reverse=True))\n",
    "print (dt.datetime.now())"
   ]
  },
  {
   "cell_type": "code",
   "execution_count": null,
   "metadata": {},
   "outputs": [],
   "source": [
    "price_doc: sale price (this is the target variable)\n",
    "id: transaction id\n",
    "timestamp: date of transaction\n",
    "full_sq: total area in square meters, including loggias, balconies and other non-residential areas\n",
    "life_sq: living area in square meters, excluding loggias, balconies and other non-residential areas\n",
    "floor: for apartments, floor of the building\n",
    "max_floor: number of floors in the building\n",
    "material: wall material\n",
    "build_year: year built\n",
    "num_room: number of living rooms\n",
    "kitch_sq: kitchen area\n",
    "state: apartment condition\n",
    "product_type: owner-occupier purchase or investment\n",
    "sub_area: name of the district\n"
   ]
  },
  {
   "cell_type": "code",
   "execution_count": 124,
   "metadata": {},
   "outputs": [],
   "source": [
    "df1['product_type'] = df['product_type'].astype('category').cat.codes"
   ]
  },
  {
   "cell_type": "code",
   "execution_count": 157,
   "metadata": {},
   "outputs": [
    {
     "name": "stdout",
     "output_type": "stream",
     "text": [
      "2018-11-19 14:20:24.339551\n",
      "[(1.0577776566547508, 'price_cat'), (1.0544989872945476, 'price_doc'), (0.19406288855386378, 'plus_sq'), (0.18125053277230507, 'diff_sq'), (0.1601665206825107, 'sub_area'), (0.11116952979989203, 'num_room')]\n",
      "2018-11-19 14:20:26.912005\n"
     ]
    }
   ],
   "source": [
    "# information gain --> want to verify that 1.0 is the highest value for info gain... \n",
    "# answer is 1.05 but that's probably just a rounding error. For all intents and purposes it's 1.0 ...\n",
    "print (dt.datetime.now())\n",
    "df1['diff_sq'] = df1['full_sq'] - df1['kitch_sq']\n",
    "df1['plus_sq'] = df1['full_sq'] + df1['life_sq'] #+ df1['kitch_sq']\n",
    "df1['sub_area'] = df['sub_area'].astype('category').cat.codes\n",
    "colx = ['price_cat','price_doc', 'diff_sq', 'plus_sq'\\\n",
    "       ,'num_room', 'sub_area']\n",
    "res = list(zip(mutual_info_classif(df1[colx], df1['price_cat'], discrete_features=False), colx))\n",
    "print(sorted(res,reverse=True))\n",
    "print (dt.datetime.now())"
   ]
  },
  {
   "cell_type": "code",
   "execution_count": 130,
   "metadata": {},
   "outputs": [],
   "source": [
    "df1['build_year'].value_counts()\n",
    "pass"
   ]
  },
  {
   "cell_type": "code",
   "execution_count": null,
   "metadata": {},
   "outputs": [],
   "source": []
  }
 ],
 "metadata": {
  "kernelspec": {
   "display_name": "Python 3",
   "language": "python",
   "name": "python3"
  },
  "language_info": {
   "codemirror_mode": {
    "name": "ipython",
    "version": 3
   },
   "file_extension": ".py",
   "mimetype": "text/x-python",
   "name": "python",
   "nbconvert_exporter": "python",
   "pygments_lexer": "ipython3",
   "version": "3.7.0"
  }
 },
 "nbformat": 4,
 "nbformat_minor": 2
}
