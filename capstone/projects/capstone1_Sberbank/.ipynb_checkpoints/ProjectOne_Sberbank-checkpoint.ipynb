{
 "cells": [
  {
   "cell_type": "markdown",
   "metadata": {},
   "source": [
    "Housing costs demand a significant investment from both consumers and developers. And when it comes to planning a \n",
    "budget—whether personal or corporate—the last thing anyone needs is uncertainty about one of their biggets expenses. \n",
    "**Sberbank**, Russia’s oldest and largest bank, helps their customers by making predictions about realty prices so renters, \n",
    "developers, and lenders are more confident when they sign a lease or purchase a building.\n",
    "\n",
    "Although the housing market is relatively stable in Russia, the country’s volatile economy makes forecasting prices \n",
    "as a function of apartment characteristics a unique challenge. Complex interactions between housing features such \n",
    "as number of bedrooms and location are enough to make pricing predictions complicated. Adding an unstable economy \n",
    "to the mix means Sberbank and their customers need more than simple regression models in their arsenal.\n",
    "\n",
    "In this competition, Sberbank is challenging Kagglers to develop algorithms which use a broad spectrum of features \n",
    "to predict realty prices. Competitors will rely on a rich dataset that includes housing data and macroeconomic \n",
    "patterns. An accurate forecasting model will allow Sberbank to provide more certainty to their customers in \n",
    "an uncertain economy."
   ]
  },
  {
   "cell_type": "code",
   "execution_count": 1,
   "metadata": {},
   "outputs": [
    {
     "data": {
      "text/plain": [
       "'/Users/chadleonard/Springboard/work/springboard/capstone/projects/capstone1_Sberbank'"
      ]
     },
     "execution_count": 1,
     "metadata": {},
     "output_type": "execute_result"
    }
   ],
   "source": [
    "import pandas as pd\n",
    "import os \n",
    "import numpy as np\n",
    "import seaborn as sns\n",
    "import matplotlib.pyplot as plt\n",
    "from collections import defaultdict\n",
    "%matplotlib inline \n",
    "os.getcwd()"
   ]
  },
  {
   "cell_type": "code",
   "execution_count": 2,
   "metadata": {},
   "outputs": [
    {
     "name": "stdout",
     "output_type": "stream",
     "text": [
      "/Users/chadleonard/Springboard/work/springboard/capstone/projects/capstone1_Sberbank/../../../data/all/\n"
     ]
    }
   ],
   "source": [
    "dir_path = os.getcwd() + '/../../../data/all/'\n",
    "print (dir_path)\n",
    "df = pd.read_csv(dir_path + 'train.csv')\n",
    "df_macro = pd.read_csv(dir_path + 'macro.csv')"
   ]
  },
  {
   "cell_type": "code",
   "execution_count": null,
   "metadata": {
    "collapsed": true
   },
   "outputs": [],
   "source": []
  },
  {
   "cell_type": "code",
   "execution_count": 3,
   "metadata": {},
   "outputs": [
    {
     "name": "stdout",
     "output_type": "stream",
     "text": [
      "Index(['id', 'timestamp', 'full_sq', 'life_sq', 'floor', 'max_floor',\n",
      "       'material', 'build_year', 'num_room', 'kitch_sq'],\n",
      "      dtype='object')\n"
     ]
    }
   ],
   "source": [
    "print (df.columns[:10])"
   ]
  },
  {
   "cell_type": "code",
   "execution_count": 4,
   "metadata": {},
   "outputs": [
    {
     "data": {
      "text/plain": [
       "(30471, 292)"
      ]
     },
     "execution_count": 4,
     "metadata": {},
     "output_type": "execute_result"
    }
   ],
   "source": [
    "df.shape"
   ]
  },
  {
   "cell_type": "code",
   "execution_count": 5,
   "metadata": {},
   "outputs": [
    {
     "data": {
      "text/plain": [
       "(2485, 100)"
      ]
     },
     "execution_count": 5,
     "metadata": {},
     "output_type": "execute_result"
    }
   ],
   "source": [
    "df_macro.columns\n",
    "df_macro.shape"
   ]
  },
  {
   "cell_type": "code",
   "execution_count": 6,
   "metadata": {},
   "outputs": [
    {
     "data": {
      "text/plain": [
       "defaultdict(int, {7.5: 16809, 8: 4809, 7: 8619, 6: 233, 9: 1})"
      ]
     },
     "execution_count": 6,
     "metadata": {},
     "output_type": "execute_result"
    }
   ],
   "source": [
    "d = defaultdict(int)\n",
    "\n",
    "for k in df['price_doc']:\n",
    "    cat = len(str(k))\n",
    "    if cat == 7 and k > 5e6 :\n",
    "        d[7.5] += 1\n",
    "    else:\n",
    "        d[cat] += 1\n",
    "\n",
    "df['price_cat'] = pd.Series([7.5 if cat > 5e6 and cat < 1e7 else len(str(cat)) \\\n",
    "                             for cat in df['price_doc'] ]).astype('category').cat.codes\n",
    "#df['gender_4'] = df['Gender'].astype('category').cat.codes\n",
    "d"
   ]
  },
  {
   "cell_type": "code",
   "execution_count": 10,
   "metadata": {},
   "outputs": [
    {
     "data": {
      "text/plain": [
       "{0, 1, 2, 3, 4}"
      ]
     },
     "execution_count": 10,
     "metadata": {},
     "output_type": "execute_result"
    }
   ],
   "source": [
    "set(df['price_cat'])"
   ]
  },
  {
   "cell_type": "code",
   "execution_count": 12,
   "metadata": {},
   "outputs": [
    {
     "name": "stdout",
     "output_type": "stream",
     "text": [
      "['full_sq', 'life_sq', 'floor', 'max_floor', 'material', 'build_year', 'num_room', 'kitch_sq', 'state', 'product_type', 'sub_area']\n"
     ]
    }
   ],
   "source": [
    "x_vars = ['full_sq','life_sq','floor','max_floor','material',\\\n",
    "        'build_year','num_room','kitch_sq','state','product_type','sub_area']\n",
    "cols = ['price_cat','price_doc','id','timestamp','full_sq','life_sq','floor','max_floor','material',\\\n",
    "        'build_year','num_room','kitch_sq','state','product_type','sub_area']\n",
    "cols1 = ['price_cat','price_doc','full_sq','life_sq','floor','max_floor','material',\\\n",
    "        'build_year','num_room','kitch_sq','state','product_type','sub_area']\n",
    "\n",
    "print (x_vars)"
   ]
  },
  {
   "cell_type": "code",
   "execution_count": 13,
   "metadata": {},
   "outputs": [
    {
     "name": "stdout",
     "output_type": "stream",
     "text": [
      "1000000\n",
      "5000000\n",
      "5000050\n",
      "9991069\n"
     ]
    }
   ],
   "source": [
    "print (df[df['price_cat'] == 1]['price_doc'].min())\n",
    "print (df[df['price_cat'] == 1]['price_doc'].max())\n",
    "print (df[df['price_cat'] == 2]['price_doc'].min())\n",
    "print (df[df['price_cat'] == 2]['price_doc'].max())"
   ]
  },
  {
   "cell_type": "code",
   "execution_count": 14,
   "metadata": {},
   "outputs": [
    {
     "name": "stdout",
     "output_type": "stream",
     "text": [
      "100000\n",
      "111111112\n",
      "2011-08-20\n",
      "2015-06-30\n"
     ]
    }
   ],
   "source": [
    "df['price_doc']\n",
    "print (df['price_doc'].min())\n",
    "print (df['price_doc'].max())\n",
    "print (df['timestamp'].min())\n",
    "print (df['timestamp'].max())"
   ]
  },
  {
   "cell_type": "code",
   "execution_count": 15,
   "metadata": {},
   "outputs": [
    {
     "name": "stdout",
     "output_type": "stream",
     "text": [
      "20899\n",
      "9572\n"
     ]
    },
    {
     "data": {
      "text/plain": [
       "(30471, 293)"
      ]
     },
     "execution_count": 15,
     "metadata": {},
     "output_type": "execute_result"
    }
   ],
   "source": [
    "col = 'max_floor'\n",
    "print (sum(df[col].value_counts()))\n",
    "print (sum(df[col].isnull()))\n",
    "df.shape"
   ]
  },
  {
   "cell_type": "code",
   "execution_count": 16,
   "metadata": {},
   "outputs": [
    {
     "data": {
      "text/html": [
       "<div>\n",
       "<style scoped>\n",
       "    .dataframe tbody tr th:only-of-type {\n",
       "        vertical-align: middle;\n",
       "    }\n",
       "\n",
       "    .dataframe tbody tr th {\n",
       "        vertical-align: top;\n",
       "    }\n",
       "\n",
       "    .dataframe thead th {\n",
       "        text-align: right;\n",
       "    }\n",
       "</style>\n",
       "<table border=\"1\" class=\"dataframe\">\n",
       "  <thead>\n",
       "    <tr style=\"text-align: right;\">\n",
       "      <th></th>\n",
       "      <th>price_cat</th>\n",
       "      <th>price_doc</th>\n",
       "      <th>full_sq</th>\n",
       "      <th>life_sq</th>\n",
       "      <th>floor</th>\n",
       "      <th>max_floor</th>\n",
       "      <th>material</th>\n",
       "      <th>build_year</th>\n",
       "      <th>num_room</th>\n",
       "      <th>kitch_sq</th>\n",
       "      <th>state</th>\n",
       "      <th>product_type</th>\n",
       "      <th>sub_area</th>\n",
       "    </tr>\n",
       "  </thead>\n",
       "  <tbody>\n",
       "    <tr>\n",
       "      <th>0</th>\n",
       "      <td>2</td>\n",
       "      <td>5850000</td>\n",
       "      <td>43</td>\n",
       "      <td>27.0</td>\n",
       "      <td>4.0</td>\n",
       "      <td>NaN</td>\n",
       "      <td>NaN</td>\n",
       "      <td>NaN</td>\n",
       "      <td>NaN</td>\n",
       "      <td>NaN</td>\n",
       "      <td>NaN</td>\n",
       "      <td>Investment</td>\n",
       "      <td>Bibirevo</td>\n",
       "    </tr>\n",
       "    <tr>\n",
       "      <th>1</th>\n",
       "      <td>2</td>\n",
       "      <td>6000000</td>\n",
       "      <td>34</td>\n",
       "      <td>19.0</td>\n",
       "      <td>3.0</td>\n",
       "      <td>NaN</td>\n",
       "      <td>NaN</td>\n",
       "      <td>NaN</td>\n",
       "      <td>NaN</td>\n",
       "      <td>NaN</td>\n",
       "      <td>NaN</td>\n",
       "      <td>Investment</td>\n",
       "      <td>Nagatinskij Zaton</td>\n",
       "    </tr>\n",
       "    <tr>\n",
       "      <th>2</th>\n",
       "      <td>2</td>\n",
       "      <td>5700000</td>\n",
       "      <td>43</td>\n",
       "      <td>29.0</td>\n",
       "      <td>2.0</td>\n",
       "      <td>NaN</td>\n",
       "      <td>NaN</td>\n",
       "      <td>NaN</td>\n",
       "      <td>NaN</td>\n",
       "      <td>NaN</td>\n",
       "      <td>NaN</td>\n",
       "      <td>Investment</td>\n",
       "      <td>Tekstil'shhiki</td>\n",
       "    </tr>\n",
       "    <tr>\n",
       "      <th>3</th>\n",
       "      <td>3</td>\n",
       "      <td>13100000</td>\n",
       "      <td>89</td>\n",
       "      <td>50.0</td>\n",
       "      <td>9.0</td>\n",
       "      <td>NaN</td>\n",
       "      <td>NaN</td>\n",
       "      <td>NaN</td>\n",
       "      <td>NaN</td>\n",
       "      <td>NaN</td>\n",
       "      <td>NaN</td>\n",
       "      <td>Investment</td>\n",
       "      <td>Mitino</td>\n",
       "    </tr>\n",
       "    <tr>\n",
       "      <th>4</th>\n",
       "      <td>3</td>\n",
       "      <td>16331452</td>\n",
       "      <td>77</td>\n",
       "      <td>77.0</td>\n",
       "      <td>4.0</td>\n",
       "      <td>NaN</td>\n",
       "      <td>NaN</td>\n",
       "      <td>NaN</td>\n",
       "      <td>NaN</td>\n",
       "      <td>NaN</td>\n",
       "      <td>NaN</td>\n",
       "      <td>Investment</td>\n",
       "      <td>Basmannoe</td>\n",
       "    </tr>\n",
       "  </tbody>\n",
       "</table>\n",
       "</div>"
      ],
      "text/plain": [
       "   price_cat  price_doc  full_sq  life_sq  floor  max_floor  material  \\\n",
       "0          2    5850000       43     27.0    4.0        NaN       NaN   \n",
       "1          2    6000000       34     19.0    3.0        NaN       NaN   \n",
       "2          2    5700000       43     29.0    2.0        NaN       NaN   \n",
       "3          3   13100000       89     50.0    9.0        NaN       NaN   \n",
       "4          3   16331452       77     77.0    4.0        NaN       NaN   \n",
       "\n",
       "   build_year  num_room  kitch_sq  state product_type           sub_area  \n",
       "0         NaN       NaN       NaN    NaN   Investment           Bibirevo  \n",
       "1         NaN       NaN       NaN    NaN   Investment  Nagatinskij Zaton  \n",
       "2         NaN       NaN       NaN    NaN   Investment     Tekstil'shhiki  \n",
       "3         NaN       NaN       NaN    NaN   Investment             Mitino  \n",
       "4         NaN       NaN       NaN    NaN   Investment          Basmannoe  "
      ]
     },
     "execution_count": 16,
     "metadata": {},
     "output_type": "execute_result"
    }
   ],
   "source": [
    "#sns.pairplot(df[:5])\n",
    "df[cols1].head()"
   ]
  },
  {
   "cell_type": "code",
   "execution_count": 39,
   "metadata": {},
   "outputs": [
    {
     "data": {
      "image/png": "[encoded data removed]",
      "text/plain": [
       "<matplotlib.figure.Figure at 0x111b51bd0>"
      ]
     },
     "metadata": {},
     "output_type": "display_data"
    }
   ],
   "source": [
    "col = 'life_sq'\n",
    "plt.plot(df[col],df['price_doc'], 'ro' )\n",
    "plt.ylabel('Price')\n",
    "plt.xlabel(col)\n",
    "plt.show()"
   ]
  },
  {
   "cell_type": "code",
   "execution_count": null,
   "metadata": {},
   "outputs": [],
   "source": [
    "plt.hist(df['price_doc'],bins=60, range=[0.0,1e7])\n",
    "plt.show()"
   ]
  },
  {
   "cell_type": "code",
   "execution_count": null,
   "metadata": {},
   "outputs": [],
   "source": [
    "#df.columns[:100]"
   ]
  },
  {
   "cell_type": "code",
   "execution_count": null,
   "metadata": {
    "collapsed": true
   },
   "outputs": [],
   "source": []
  }
 ],
 "metadata": {
  "kernelspec": {
   "display_name": "Python 3",
   "language": "python",
   "name": "python3"
  },
  "language_info": {
   "codemirror_mode": {
    "name": "ipython",
    "version": 3
   },
   "file_extension": ".py",
   "mimetype": "text/x-python",
   "name": "python",
   "nbconvert_exporter": "python",
   "pygments_lexer": "ipython3",
   "version": "3.7.0"
  }
 },
 "nbformat": 4,
 "nbformat_minor": 1
}
