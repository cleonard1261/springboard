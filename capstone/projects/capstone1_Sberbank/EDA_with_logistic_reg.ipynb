{
 "cells": [
  {
   "cell_type": "code",
   "execution_count": 58,
   "metadata": {},
   "outputs": [],
   "source": [
    "# Code source: Chad Leoanrd\n",
    "\n",
    "import pandas as pd\n",
    "import os \n",
    "import numpy as np\n",
    "import seaborn as sns\n",
    "import collections\n",
    "from sklearn.pipeline import Pipeline\n",
    "from sklearn import preprocessing, model_selection\n",
    "import matplotlib.pyplot as plt\n",
    "from sklearn.model_selection import train_test_split\n",
    "from sklearn.preprocessing import StandardScaler\n",
    "import csv\n",
    "from sklearn.feature_selection import mutual_info_classif, f_classif, SelectKBest\n",
    "from sklearn.linear_model import SGDClassifier, LogisticRegression, RidgeClassifier\n",
    "from sklearn.decomposition import PCA\n",
    "import missingno as msno\n",
    "from sklearn.ensemble import RandomForestClassifier, AdaBoostClassifier, GradientBoostingClassifier, ExtraTreesClassifier\n",
    "from sklearn.neural_network import MLPClassifier\n",
    "from sklearn.neighbors import KNeighborsClassifier\n",
    "from sklearn.svm import SVC\n",
    "from sklearn.gaussian_process import GaussianProcessClassifier\n",
    "from sklearn.gaussian_process.kernels import RBF\n",
    "from sklearn.tree import DecisionTreeClassifier\n",
    "\n",
    "\n",
    "import datetime as dt\n",
    "\n",
    "\n",
    "%matplotlib inline "
   ]
  },
  {
   "cell_type": "code",
   "execution_count": 2,
   "metadata": {},
   "outputs": [],
   "source": [
    "def fix_num_cols(dframe, skiplist, dropcol=1):\n",
    "    n = 0\n",
    "    m = 0\n",
    "    df_tmp = dframe.copy()\n",
    "    for col in dframe.columns.values:\n",
    "        if col not in skiplist:\n",
    "            if isinstance(df_tmp[col].dtype,((object))):\n",
    "                try:\n",
    "                    df_tmp[col].fillna(df_tmp[col].median(), inplace=True)\n",
    "                except:\n",
    "                    if dropcol:\n",
    "                        df_tmp.drop(col, inplace=True, axis=1)\n",
    "                    else:\n",
    "                        df_tmp[col].fillna('NUL', inplace=True)\n",
    "    return df_tmp"
   ]
  },
  {
   "cell_type": "code",
   "execution_count": null,
   "metadata": {},
   "outputs": [],
   "source": []
  },
  {
   "cell_type": "code",
   "execution_count": 3,
   "metadata": {},
   "outputs": [],
   "source": [
    "def fix_data(df_, skip):\n",
    "    catlist = []\n",
    "    rest = []\n",
    "    df_temp = df_.copy()\n",
    "    \n",
    "    # create 2 new lists: one for categorical data and the other for numerical\n",
    "    with open('cols.csv', 'r') as csvfile:\n",
    "        file = csv.reader(csvfile, delimiter=' ')\n",
    "        for row in file:\n",
    "            cl = row[0].split(\",\")[1].replace('\"','').replace(\"'\",'').replace('(','')\n",
    "            if cl not in skip:\n",
    "                tp = row[0].split(\",\")[0]\n",
    "                if tp == 'cat':\n",
    "                    catlist.append(cl)\n",
    "                else:\n",
    "                    rest.append(cl)\n",
    "    # cat data turned into dummy variables and old cat column dropped\n",
    "    df_cat = df_temp[catlist].copy()           \n",
    "    for col in catlist:\n",
    "        df_cat = pd.merge(df_cat, pd.get_dummies(df_cat[col].astype('category').cat.codes, prefix=col)\\\n",
    "                             ,left_index=True, right_index=True)\n",
    "        df_cat.drop([col],inplace=True, axis=1)\n",
    "        \n",
    "    # continous numeric data scaled ... \n",
    "    scaler = preprocessing.StandardScaler()\n",
    "    df_ = fix_num_cols(df_temp[rest],skip)\n",
    "    scaler.fit(df_)\n",
    "    df_new = pd.merge(pd.DataFrame(scaler.transform(df_), columns=rest), \\\n",
    "                      df_cat,left_index=True, right_index=True)\n",
    "    df_new['price_cat'] = df_temp['price_cat']\n",
    "    \n",
    "    return (df_new, rest)\n"
   ]
  },
  {
   "cell_type": "code",
   "execution_count": 3,
   "metadata": {},
   "outputs": [
    {
     "data": {
      "text/plain": [
       "53"
      ]
     },
     "execution_count": 3,
     "metadata": {},
     "output_type": "execute_result"
    }
   ],
   "source": [
    "km_list = ['additional_education_km', 'basketball_km', 'big_church_km', 'big_market_km', 'big_road1_km', \\\n",
    "           'big_road2_km', 'bulvar_ring_km', 'bus_terminal_avto_km', 'catering_km', 'cemetery_km', \\\n",
    "           'church_synagogue_km', 'detention_facility_km', 'exhibition_km', 'fitness_km', 'green_zone_km', \\\n",
    "           'hospice_morgue_km', 'ice_rink_km', 'incineration_km', 'industrial_km', 'kindergarten_km', 'kremlin_km', \\\n",
    "           'market_shop_km', 'metro_km_avto', 'metro_km_walk', 'mkad_km', 'mosque_km', 'museum_km',\\\n",
    "           'nuclear_reactor_km', 'office_km', 'oil_chemistry_km', 'park_km', 'power_transmission_line_km',\\\n",
    "           'preschool_km', 'public_healthcare_km', 'public_transport_station_km', 'radiation_km', 'railroad_km', \\\n",
    "           'railroad_station_avto_km', 'railroad_station_walk_km', 'sadovoe_km', 'school_km', 'shopping_centers_km', \\\n",
    "           'stadium_km', 'swim_pool_km', 'theater_km', 'thermal_power_plant_km', 'ts_km', 'ttk_km', \\\n",
    "           'university_km', 'water_km', 'water_treatment_km', 'workplaces_km', 'zd_vokzaly_avto_km']\n",
    "len(km_list)"
   ]
  },
  {
   "cell_type": "code",
   "execution_count": 4,
   "metadata": {},
   "outputs": [
    {
     "name": "stdout",
     "output_type": "stream",
     "text": [
      "2018-11-25 14:12:01.439620\n",
      "/Users/chadleonard/Springboard/work/springboard/capstone/projects/capstone1_Sberbank/../../../data/all/\n",
      "2018-11-25 14:12:03.955319\n"
     ]
    }
   ],
   "source": [
    "if __name__ == \"__main__\":\n",
    "    print (dt.datetime.now())\n",
    "    skip = ['price_cat','id','timestamp','price_doc']\n",
    "    dir_path = os.getcwd() + '/../../../data/all/'\n",
    "    print (dir_path)\n",
    "    df = pd.read_csv(dir_path + 'train.csv')\n",
    "    df_macro = pd.read_csv(dir_path + 'macro.csv')\n",
    "\n",
    "    df['price_length'] = [7.5 if cat > 6e6 and cat < 1e7 else len(str(cat)) for cat in df['price_doc'] ]    \n",
    "    df['price_length'] = [l if l < 8 else 8 for l in df['price_length']]    \n",
    "    df['price_cat'] = df['price_length'].astype('category').cat.codes    \n",
    "    df['quarter'] = df['timestamp'].apply(lambda x: pd.Timestamp(x).quarter)\n",
    "    \n",
    "    df.loc[df.price_cat == 4, 'price_cat'] = 3\n",
    "    print (dt.datetime.now())    "
   ]
  },
  {
   "cell_type": "code",
   "execution_count": 5,
   "metadata": {},
   "outputs": [
    {
     "data": {
      "text/plain": [
       "(30471, 295)"
      ]
     },
     "execution_count": 5,
     "metadata": {},
     "output_type": "execute_result"
    }
   ],
   "source": [
    "df.shape"
   ]
  },
  {
   "cell_type": "code",
   "execution_count": 6,
   "metadata": {},
   "outputs": [
    {
     "name": "stdout",
     "output_type": "stream",
     "text": [
      "68\n",
      "336\n"
     ]
    }
   ],
   "source": [
    "catlist = []\n",
    "rest = []\n",
    "with open('cols.csv', 'r') as csvfile:\n",
    "    file = csv.reader(csvfile, delimiter=' ')\n",
    "    for row in file:\n",
    "        cl = row[0].split(\",\")[1].replace('\"','').replace(\"'\",'').replace('(','')\n",
    "        if cl not in skip:\n",
    "            tp = row[0].split(\",\")[0]\n",
    "            if tp == 'cat':\n",
    "                catlist.append(cl)\n",
    "            else:\n",
    "                rest.append(cl)\n",
    "print(len(catlist))\n",
    "print(len(rest))"
   ]
  },
  {
   "cell_type": "code",
   "execution_count": 8,
   "metadata": {},
   "outputs": [
    {
     "name": "stdout",
     "output_type": "stream",
     "text": [
      "250\n"
     ]
    }
   ],
   "source": [
    "newlist = []\n",
    "for col in rest:\n",
    "    if col in df.columns:\n",
    "        newlist.append(col)\n",
    "print(len(newlist))"
   ]
  },
  {
   "cell_type": "code",
   "execution_count": 8,
   "metadata": {},
   "outputs": [
    {
     "name": "stdout",
     "output_type": "stream",
     "text": [
      "2018-11-25 14:13:48.704869\n",
      "2018-11-25 14:13:57.192795\n"
     ]
    }
   ],
   "source": [
    "print (dt.datetime.now())    \n",
    "df_eda = pd.merge(df, df_macro, how='inner', on='timestamp', left_on=None, right_on=None,\n",
    "     left_index=False, right_index=False, sort=True,\n",
    "     suffixes=('_x', '_y'), copy=True, indicator=False,\n",
    "     validate=None)\n",
    "\n",
    "null_yr = 9999.0\n",
    "yr = dt.datetime.now().year\n",
    "# take care of bad dates, dates too old, too far out into the future, or NaN. Set them all to 9999.0\n",
    "for i in df_eda['build_year'].index:\n",
    "    if df_eda.loc[i, 'build_year'] < 1700 \\\n",
    "            or np.isnan(df_eda.loc[i, 'build_year']) \\\n",
    "            or df_eda.loc[i, 'build_year'] > yr:\n",
    "        df_eda.loc[i, 'build_year'] = null_yr\n",
    "\n",
    "df_eda.drop(['price_length','id', 'timestamp'], inplace=True, axis=1)\n",
    "df_eda.loc[df_eda[df_eda['state'] == 33.0].index, 'state'] = 3.0\n",
    "print (dt.datetime.now())    "
   ]
  },
  {
   "cell_type": "code",
   "execution_count": 18,
   "metadata": {},
   "outputs": [],
   "source": [
    "df_eda['diff_sq'] = df_eda['full_sq'] - df_eda['kitch_sq']\n",
    "df_eda['plus_sq'] = df_eda['full_sq'] + df_eda['life_sq'] \n",
    "df_eda['km_sum'] = df_eda[km_list].apply(lambda x: sum(x), axis=1)\n"
   ]
  },
  {
   "cell_type": "code",
   "execution_count": 11,
   "metadata": {},
   "outputs": [
    {
     "name": "stdout",
     "output_type": "stream",
     "text": [
      "233\n",
      "13750\n",
      "11678\n",
      "4810\n"
     ]
    }
   ],
   "source": [
    "ind0 = df[df['price_cat'] == 0].index\n",
    "ind1 = df[df['price_cat'] == 1].index\n",
    "ind2 = df[df['price_cat'] == 2].index\n",
    "ind3 = df[df['price_cat'] == 3].index\n",
    "print(len(ind0))\n",
    "print(len(ind1))\n",
    "print(len(ind2))\n",
    "print(len(ind3))"
   ]
  },
  {
   "cell_type": "code",
   "execution_count": 12,
   "metadata": {},
   "outputs": [],
   "source": [
    "slist = ['full_sq','trc_sqm_5000',  'metro_min_avto', 'trc_sqm_2000'\\\n",
    "        , 'area_m','raion_popul','diff_sq', 'life_sq', 'plus_sq', 'km_sum']"
   ]
  },
  {
   "cell_type": "code",
   "execution_count": 13,
   "metadata": {},
   "outputs": [
    {
     "name": "stdout",
     "output_type": "stream",
     "text": [
      "full_sq\n",
      "[[1.         0.28547947]\n",
      " [0.28547947 1.        ]]\n",
      "[(1.057990974235401, 'price_cat'), (0.20613615424193066, 'full_sq')]\n",
      "trc_sqm_5000\n",
      "[[1.         0.29201334]\n",
      " [0.29201334 1.        ]]\n",
      "[(1.058187882771386, 'price_cat'), (0.1990637125439525, 'trc_sqm_5000')]\n",
      "metro_min_avto\n",
      "[[ 1.         -0.22972209]\n",
      " [-0.22972209  1.        ]]\n",
      "[(1.0575807481187656, 'price_cat'), (0.1827027796438625, 'metro_min_avto')]\n",
      "trc_sqm_2000\n",
      "[[1.         0.16673561]\n",
      " [0.16673561 1.        ]]\n",
      "[(1.0578104747440813, 'price_cat'), (0.17423163139986309, 'trc_sqm_2000')]\n",
      "area_m\n",
      "[[ 1.         -0.21789212]\n",
      " [-0.21789212  1.        ]]\n",
      "[(1.0577284295207545, 'price_cat'), (0.1598995742369973, 'area_m')]\n",
      "raion_popul\n",
      "[[1.         0.23936253]\n",
      " [0.23936253 1.        ]]\n",
      "[(1.057761247610085, 'price_cat'), (0.16515422082572173, 'raion_popul')]\n",
      "diff_sq\n",
      "[[1.         0.24319148]\n",
      " [0.24319148 1.        ]]\n",
      "[(1.0578104747440813, 'price_cat'), (0.14059652240351905, 'diff_sq')]\n",
      "life_sq\n",
      "[[1.         0.12739177]\n",
      " [0.12739177 1.        ]]\n",
      "[(1.058105837548059, 'price_cat'), (0.14208423846277074, 'life_sq')]\n",
      "plus_sq\n",
      "[[1.         0.23621973]\n",
      " [0.23621973 1.        ]]\n",
      "[(1.0579581561460702, 'price_cat'), (0.18193232472101517, 'plus_sq')]\n",
      "km_sum\n",
      "[[ 1.         -0.27160761]\n",
      " [-0.27160761  1.        ]]\n",
      "[(1.0577776566547508, 'price_cat'), (0.19692876695409933, 'km_sum')]\n"
     ]
    }
   ],
   "source": [
    "df_tst = fix_num_cols(df_eda[slist],['price_cat'])\n",
    "df_tst['price_cat'] = df_eda['price_cat'].copy()\n",
    "\n",
    "for col in slist:\n",
    "    print(col)\n",
    "    print(np.corrcoef(df_tst.loc[:, col], df_tst.loc[:,'price_cat']))\n",
    "    print(list(zip(mutual_info_classif(df_tst.loc[:,['price_cat',col]], \\\n",
    "                                       df_tst.loc[:,'price_cat']), ['price_cat',col])))"
   ]
  },
  {
   "cell_type": "code",
   "execution_count": null,
   "metadata": {},
   "outputs": [],
   "source": []
  },
  {
   "cell_type": "code",
   "execution_count": 14,
   "metadata": {},
   "outputs": [],
   "source": [
    "def make_list(grep_name, ignore_name='ignore'):\n",
    "    count_list = []\n",
    "    for col in df_eda.columns:\n",
    "        if grep_name in col and ignore_name not in col:\n",
    "            count_list.append(col)\n",
    "            \n",
    "    return count_list"
   ]
  },
  {
   "cell_type": "code",
   "execution_count": 15,
   "metadata": {},
   "outputs": [
    {
     "name": "stdout",
     "output_type": "stream",
     "text": [
      "6\n",
      "6\n",
      "6\n",
      "6\n"
     ]
    }
   ],
   "source": [
    "cafe_sum_min_list = ['cafe_sum_500_min_price_avg', 'cafe_sum_1000_min_price_avg', 'cafe_sum_1500_min_price_avg', \\\n",
    " 'cafe_sum_2000_min_price_avg', 'cafe_sum_3000_min_price_avg', 'cafe_sum_5000_min_price_avg']\n",
    "cafe_sum_max_list = ['cafe_sum_500_max_price_avg', 'cafe_sum_1000_max_price_avg', 'cafe_sum_1500_max_price_avg', '\\\n",
    "cafe_sum_2000_max_price_avg', 'cafe_sum_3000_max_price_avg', 'cafe_sum_5000_max_price_avg']\n",
    "build_count_list = ['build_count_block', 'build_count_wood', 'build_count_frame', 'build_count_brick', \\\n",
    " 'build_count_monolith','build_count_panel', 'build_count_foam', 'build_count_slag', 'build_count_mix', \\\n",
    " 'build_count_before_1920','build_count_1921-1945', 'build_count_1946-1970', 'build_count_1971-1995',\\\n",
    " 'build_count_after_1995']\n",
    "raion_build_list = ['raion_build_count_with_material_info', 'raion_build_count_with_builddate_info']\n",
    "big_church_count_list = ['big_church_count_500', 'big_church_count_1000', 'big_church_count_1500',\\\n",
    "                         'big_church_count_2000', 'big_church_count_3000', 'big_church_count_5000']\n",
    "cafe_count_list = make_list('cafe_count')\n",
    "church_count_list = make_list('church_count', 'big_church')\n",
    "leisure_count_list = make_list('leisure_count')\n",
    "market_count_list = make_list('market_count')\n",
    "office_count_list = make_list('office_count')\n",
    "sport_count_list = make_list('sport_count')\n",
    "trc_count_list = make_list('trc_count')\n",
    "print(len(leisure_count_list))\n",
    "print(len(office_count_list))\n",
    "print(len(sport_count_list))\n",
    "print(len(trc_count_list))"
   ]
  },
  {
   "cell_type": "code",
   "execution_count": 16,
   "metadata": {},
   "outputs": [
    {
     "name": "stdout",
     "output_type": "stream",
     "text": [
      "2018-11-25 14:18:59.504182\n",
      "2018-11-25 14:19:08.723234\n"
     ]
    }
   ],
   "source": [
    "# feature engineering \n",
    "print (dt.datetime.now())\n",
    "\n",
    "df_eda['cafe_sum_min_total'] = df_eda[cafe_sum_min_list].apply(lambda x: sum(x), axis=1)\n",
    "df_eda['cafe_sum_max_total'] = df_eda[cafe_sum_max_list].apply(lambda x: sum(x), axis=1)    \n",
    "df_eda['build_count_total'] = df_eda[build_count_list].apply(lambda x: sum(x), axis=1)\n",
    "df_eda['raion_build_count_total'] = df_eda[raion_build_list].apply(lambda x: sum(x), axis=1)\n",
    "df_eda['big_church_count_total'] = df_eda[big_church_count_list].apply(lambda x: sum(x), axis=1)\n",
    "df_eda['cafe_count_total'] = df_eda[cafe_count_list].apply(lambda x: sum(x), axis=1)\n",
    "df_eda['church_count_total'] = df_eda[church_count_list].apply(lambda x: sum(x), axis=1)\n",
    "df_eda['leisure_count_total'] = df_eda[leisure_count_list].apply(lambda x: sum(x), axis=1)\n",
    "df_eda['market_count_total'] = df_eda[market_count_list].apply(lambda x: sum(x), axis=1)\n",
    "df_eda['office_count_total'] = df_eda[office_count_list].apply(lambda x: sum(x), axis=1)\n",
    "df_eda['sport_count_total'] = df_eda[sport_count_list].apply(lambda x: sum(x), axis=1)\n",
    "df_eda['trc_count_total'] = df_eda[trc_count_list].apply(lambda x: sum(x), axis=1)\n",
    "\n",
    "df_train = fix_num_cols(df_eda,skip)\n",
    "\n",
    "x_list = [col for col in list(df_train.columns) if col not in skip]\n",
    "\n",
    "print (dt.datetime.now())"
   ]
  },
  {
   "cell_type": "code",
   "execution_count": 21,
   "metadata": {},
   "outputs": [],
   "source": [
    "df_train['diff_sq'] = df_train['full_sq'] - df_train['kitch_sq']"
   ]
  },
  {
   "cell_type": "code",
   "execution_count": 26,
   "metadata": {},
   "outputs": [
    {
     "data": {
      "text/html": [
       "<div>\n",
       "<style scoped>\n",
       "    .dataframe tbody tr th:only-of-type {\n",
       "        vertical-align: middle;\n",
       "    }\n",
       "\n",
       "    .dataframe tbody tr th {\n",
       "        vertical-align: top;\n",
       "    }\n",
       "\n",
       "    .dataframe thead th {\n",
       "        text-align: right;\n",
       "    }\n",
       "</style>\n",
       "<table border=\"1\" class=\"dataframe\">\n",
       "  <thead>\n",
       "    <tr style=\"text-align: right;\">\n",
       "      <th></th>\n",
       "      <th>full_sq</th>\n",
       "      <th>trc_sqm_5000</th>\n",
       "      <th>metro_min_avto</th>\n",
       "      <th>trc_sqm_2000</th>\n",
       "      <th>area_m</th>\n",
       "      <th>raion_popul</th>\n",
       "      <th>diff_sq</th>\n",
       "      <th>life_sq</th>\n",
       "      <th>plus_sq</th>\n",
       "      <th>km_sum</th>\n",
       "      <th>price_cat</th>\n",
       "    </tr>\n",
       "  </thead>\n",
       "  <tbody>\n",
       "    <tr>\n",
       "      <th>0</th>\n",
       "      <td>43</td>\n",
       "      <td>4036616</td>\n",
       "      <td>2.590241</td>\n",
       "      <td>1244891</td>\n",
       "      <td>6.407578e+06</td>\n",
       "      <td>155572</td>\n",
       "      <td>37.0</td>\n",
       "      <td>27.0</td>\n",
       "      <td>70.0</td>\n",
       "      <td>263.886239</td>\n",
       "      <td>1</td>\n",
       "    </tr>\n",
       "    <tr>\n",
       "      <th>1</th>\n",
       "      <td>34</td>\n",
       "      <td>2034942</td>\n",
       "      <td>0.936700</td>\n",
       "      <td>179065</td>\n",
       "      <td>9.589337e+06</td>\n",
       "      <td>115352</td>\n",
       "      <td>28.0</td>\n",
       "      <td>19.0</td>\n",
       "      <td>53.0</td>\n",
       "      <td>171.319659</td>\n",
       "      <td>1</td>\n",
       "    </tr>\n",
       "    <tr>\n",
       "      <th>2</th>\n",
       "      <td>43</td>\n",
       "      <td>1572990</td>\n",
       "      <td>2.120999</td>\n",
       "      <td>52550</td>\n",
       "      <td>4.808270e+06</td>\n",
       "      <td>101708</td>\n",
       "      <td>37.0</td>\n",
       "      <td>29.0</td>\n",
       "      <td>72.0</td>\n",
       "      <td>157.314113</td>\n",
       "      <td>1</td>\n",
       "    </tr>\n",
       "    <tr>\n",
       "      <th>3</th>\n",
       "      <td>89</td>\n",
       "      <td>942180</td>\n",
       "      <td>1.489049</td>\n",
       "      <td>89492</td>\n",
       "      <td>1.258354e+07</td>\n",
       "      <td>178473</td>\n",
       "      <td>83.0</td>\n",
       "      <td>50.0</td>\n",
       "      <td>139.0</td>\n",
       "      <td>340.857760</td>\n",
       "      <td>3</td>\n",
       "    </tr>\n",
       "    <tr>\n",
       "      <th>4</th>\n",
       "      <td>77</td>\n",
       "      <td>3503058</td>\n",
       "      <td>1.257186</td>\n",
       "      <td>564843</td>\n",
       "      <td>8.398461e+06</td>\n",
       "      <td>108171</td>\n",
       "      <td>71.0</td>\n",
       "      <td>77.0</td>\n",
       "      <td>154.0</td>\n",
       "      <td>123.800872</td>\n",
       "      <td>3</td>\n",
       "    </tr>\n",
       "  </tbody>\n",
       "</table>\n",
       "</div>"
      ],
      "text/plain": [
       "   full_sq  trc_sqm_5000  metro_min_avto  trc_sqm_2000        area_m  \\\n",
       "0       43       4036616        2.590241       1244891  6.407578e+06   \n",
       "1       34       2034942        0.936700        179065  9.589337e+06   \n",
       "2       43       1572990        2.120999         52550  4.808270e+06   \n",
       "3       89        942180        1.489049         89492  1.258354e+07   \n",
       "4       77       3503058        1.257186        564843  8.398461e+06   \n",
       "\n",
       "   raion_popul  diff_sq  life_sq  plus_sq      km_sum  price_cat  \n",
       "0       155572     37.0     27.0     70.0  263.886239          1  \n",
       "1       115352     28.0     19.0     53.0  171.319659          1  \n",
       "2       101708     37.0     29.0     72.0  157.314113          1  \n",
       "3       178473     83.0     50.0    139.0  340.857760          3  \n",
       "4       108171     71.0     77.0    154.0  123.800872          3  "
      ]
     },
     "execution_count": 26,
     "metadata": {},
     "output_type": "execute_result"
    }
   ],
   "source": [
    "df_log = df_train.loc[:,slist + ['price_cat']].copy()\n",
    "df_log.head()"
   ]
  },
  {
   "cell_type": "code",
   "execution_count": 27,
   "metadata": {},
   "outputs": [],
   "source": [
    "with open('all_cols.csv', 'w') as f:\n",
    "    writer = csv.writer(f)\n",
    "    for col in sorted(x_list):\n",
    "        #print(col)\n",
    "        writer.writerow([col])"
   ]
  },
  {
   "cell_type": "code",
   "execution_count": 24,
   "metadata": {},
   "outputs": [
    {
     "data": {
      "text/plain": [
       "['full_sq',\n",
       " 'trc_sqm_5000',\n",
       " 'metro_min_avto',\n",
       " 'trc_sqm_2000',\n",
       " 'area_m',\n",
       " 'raion_popul',\n",
       " 'diff_sq',\n",
       " 'life_sq',\n",
       " 'plus_sq',\n",
       " 'km_sum']"
      ]
     },
     "execution_count": 24,
     "metadata": {},
     "output_type": "execute_result"
    }
   ],
   "source": [
    "slist"
   ]
  },
  {
   "cell_type": "code",
   "execution_count": 8,
   "metadata": {},
   "outputs": [
    {
     "name": "stdout",
     "output_type": "stream",
     "text": [
      "2018-11-23 09:59:11.120210\n",
      "2018-11-23 09:59:11.339842\n"
     ]
    }
   ],
   "source": [
    "# information gain\n",
    "print (dt.datetime.now())\n",
    "nlist = []\n",
    "alist = ['full_sq','trc_sqm_5000', 'cafe_avg_price_5000', 'metro_min_avto', 'trc_sqm_2000'\\\n",
    "        ,'16_29_male', 'area_m','raion_popul','km_sum', 'diff_sq', 'plus_sq', 'cafe_sum_min_total' \\\n",
    "        ,'cafe_sum_max_total', 'build_count_total', 'raion_build_count_total', 'big_church_count_total'\\\n",
    "        ,'cafe_count_total', 'church_count_total', 'leisure_count_total', 'market_count_total', 'office_count_total'\\\n",
    "        ,'sport_count_total', 'trc_count_total']\n",
    "for col in alist:\n",
    "    for c in alist:\n",
    "        v = str(col + ' <==> '+ c)\n",
    "        t = np.cov(df_train[c], df_train[col])\n",
    "        #print(v)\n",
    "        #print(t[1][0])\n",
    "        nlist.append((t[1][0],v))\n",
    "\n",
    "print (dt.datetime.now())\n",
    "#sorted(nlist,reverse=True)"
   ]
  },
  {
   "cell_type": "code",
   "execution_count": 31,
   "metadata": {},
   "outputs": [],
   "source": [
    "#llist = alist\n",
    "llist = slist"
   ]
  },
  {
   "cell_type": "code",
   "execution_count": 25,
   "metadata": {},
   "outputs": [
    {
     "data": {
      "text/plain": [
       "386"
      ]
     },
     "execution_count": 25,
     "metadata": {},
     "output_type": "execute_result"
    }
   ],
   "source": [
    "len(x_list)"
   ]
  },
  {
   "cell_type": "code",
   "execution_count": 28,
   "metadata": {},
   "outputs": [
    {
     "name": "stdout",
     "output_type": "stream",
     "text": [
      "2018-11-25 14:26:11.197425\n",
      "2018-11-25 14:26:20.937027\n"
     ]
    },
    {
     "data": {
      "text/plain": [
       "[(0.2020699057291795, 'trc_sqm_5000'),\n",
       " (0.20093991533583266, 'full_sq'),\n",
       " (0.1958238302975237, 'km_sum'),\n",
       " (0.18228312773341093, 'metro_min_avto'),\n",
       " (0.177991536143997, 'trc_sqm_2000'),\n",
       " (0.1775910750679892, 'plus_sq'),\n",
       " (0.17434816381873208, 'diff_sq'),\n",
       " (0.16356533178026167, 'raion_popul'),\n",
       " (0.15685028258338862, 'area_m'),\n",
       " (0.1351067156179857, 'life_sq')]"
      ]
     },
     "execution_count": 28,
     "metadata": {},
     "output_type": "execute_result"
    }
   ],
   "source": [
    "# information gain\n",
    "print (dt.datetime.now())\n",
    "flist = []\n",
    "for col in slist:\n",
    "    res = list(zip(mutual_info_classif(df_log[['price_cat',col]], df_log['price_cat']), ['price_cat',col]))\n",
    "    #print(sorted(res,reverse=True))\n",
    "    flist.append(res[1])\n",
    "\n",
    "print (dt.datetime.now())\n",
    "sorted(flist,reverse=True)[:100]"
   ]
  },
  {
   "cell_type": "code",
   "execution_count": 32,
   "metadata": {},
   "outputs": [
    {
     "data": {
      "text/html": [
       "<div>\n",
       "<style scoped>\n",
       "    .dataframe tbody tr th:only-of-type {\n",
       "        vertical-align: middle;\n",
       "    }\n",
       "\n",
       "    .dataframe tbody tr th {\n",
       "        vertical-align: top;\n",
       "    }\n",
       "\n",
       "    .dataframe thead th {\n",
       "        text-align: right;\n",
       "    }\n",
       "</style>\n",
       "<table border=\"1\" class=\"dataframe\">\n",
       "  <thead>\n",
       "    <tr style=\"text-align: right;\">\n",
       "      <th></th>\n",
       "      <th>full_sq</th>\n",
       "      <th>trc_sqm_5000</th>\n",
       "      <th>metro_min_avto</th>\n",
       "      <th>trc_sqm_2000</th>\n",
       "      <th>area_m</th>\n",
       "      <th>raion_popul</th>\n",
       "      <th>diff_sq</th>\n",
       "      <th>life_sq</th>\n",
       "      <th>plus_sq</th>\n",
       "      <th>km_sum</th>\n",
       "      <th>price_cat</th>\n",
       "      <th>price_cat_test1</th>\n",
       "    </tr>\n",
       "  </thead>\n",
       "  <tbody>\n",
       "    <tr>\n",
       "      <th>0</th>\n",
       "      <td>43</td>\n",
       "      <td>4036616</td>\n",
       "      <td>2.590241</td>\n",
       "      <td>1244891</td>\n",
       "      <td>6.407578e+06</td>\n",
       "      <td>155572</td>\n",
       "      <td>37.0</td>\n",
       "      <td>27.0</td>\n",
       "      <td>70.0</td>\n",
       "      <td>263.886239</td>\n",
       "      <td>1</td>\n",
       "      <td>1</td>\n",
       "    </tr>\n",
       "    <tr>\n",
       "      <th>1</th>\n",
       "      <td>34</td>\n",
       "      <td>2034942</td>\n",
       "      <td>0.936700</td>\n",
       "      <td>179065</td>\n",
       "      <td>9.589337e+06</td>\n",
       "      <td>115352</td>\n",
       "      <td>28.0</td>\n",
       "      <td>19.0</td>\n",
       "      <td>53.0</td>\n",
       "      <td>171.319659</td>\n",
       "      <td>1</td>\n",
       "      <td>1</td>\n",
       "    </tr>\n",
       "    <tr>\n",
       "      <th>2</th>\n",
       "      <td>43</td>\n",
       "      <td>1572990</td>\n",
       "      <td>2.120999</td>\n",
       "      <td>52550</td>\n",
       "      <td>4.808270e+06</td>\n",
       "      <td>101708</td>\n",
       "      <td>37.0</td>\n",
       "      <td>29.0</td>\n",
       "      <td>72.0</td>\n",
       "      <td>157.314113</td>\n",
       "      <td>1</td>\n",
       "      <td>1</td>\n",
       "    </tr>\n",
       "    <tr>\n",
       "      <th>3</th>\n",
       "      <td>89</td>\n",
       "      <td>942180</td>\n",
       "      <td>1.489049</td>\n",
       "      <td>89492</td>\n",
       "      <td>1.258354e+07</td>\n",
       "      <td>178473</td>\n",
       "      <td>83.0</td>\n",
       "      <td>50.0</td>\n",
       "      <td>139.0</td>\n",
       "      <td>340.857760</td>\n",
       "      <td>3</td>\n",
       "      <td>0</td>\n",
       "    </tr>\n",
       "    <tr>\n",
       "      <th>4</th>\n",
       "      <td>77</td>\n",
       "      <td>3503058</td>\n",
       "      <td>1.257186</td>\n",
       "      <td>564843</td>\n",
       "      <td>8.398461e+06</td>\n",
       "      <td>108171</td>\n",
       "      <td>71.0</td>\n",
       "      <td>77.0</td>\n",
       "      <td>154.0</td>\n",
       "      <td>123.800872</td>\n",
       "      <td>3</td>\n",
       "      <td>0</td>\n",
       "    </tr>\n",
       "  </tbody>\n",
       "</table>\n",
       "</div>"
      ],
      "text/plain": [
       "   full_sq  trc_sqm_5000  metro_min_avto  trc_sqm_2000        area_m  \\\n",
       "0       43       4036616        2.590241       1244891  6.407578e+06   \n",
       "1       34       2034942        0.936700        179065  9.589337e+06   \n",
       "2       43       1572990        2.120999         52550  4.808270e+06   \n",
       "3       89        942180        1.489049         89492  1.258354e+07   \n",
       "4       77       3503058        1.257186        564843  8.398461e+06   \n",
       "\n",
       "   raion_popul  diff_sq  life_sq  plus_sq      km_sum  price_cat  \\\n",
       "0       155572     37.0     27.0     70.0  263.886239          1   \n",
       "1       115352     28.0     19.0     53.0  171.319659          1   \n",
       "2       101708     37.0     29.0     72.0  157.314113          1   \n",
       "3       178473     83.0     50.0    139.0  340.857760          3   \n",
       "4       108171     71.0     77.0    154.0  123.800872          3   \n",
       "\n",
       "   price_cat_test1  \n",
       "0                1  \n",
       "1                1  \n",
       "2                1  \n",
       "3                0  \n",
       "4                0  "
      ]
     },
     "execution_count": 32,
     "metadata": {},
     "output_type": "execute_result"
    }
   ],
   "source": [
    "df_log['price_cat_test1'] = pd.Series([1 if cd == 1 else 0 for cd in df_log['price_cat']], index=df_log.index)\n",
    "df_log.head()"
   ]
  },
  {
   "cell_type": "code",
   "execution_count": 60,
   "metadata": {},
   "outputs": [
    {
     "data": {
      "text/html": [
       "<div>\n",
       "<style scoped>\n",
       "    .dataframe tbody tr th:only-of-type {\n",
       "        vertical-align: middle;\n",
       "    }\n",
       "\n",
       "    .dataframe tbody tr th {\n",
       "        vertical-align: top;\n",
       "    }\n",
       "\n",
       "    .dataframe thead th {\n",
       "        text-align: right;\n",
       "    }\n",
       "</style>\n",
       "<table border=\"1\" class=\"dataframe\">\n",
       "  <thead>\n",
       "    <tr style=\"text-align: right;\">\n",
       "      <th></th>\n",
       "      <th>full_sq</th>\n",
       "      <th>trc_sqm_5000</th>\n",
       "      <th>metro_min_avto</th>\n",
       "      <th>trc_sqm_2000</th>\n",
       "      <th>area_m</th>\n",
       "      <th>raion_popul</th>\n",
       "      <th>diff_sq</th>\n",
       "      <th>life_sq</th>\n",
       "      <th>plus_sq</th>\n",
       "      <th>km_sum</th>\n",
       "      <th>price_cat</th>\n",
       "      <th>price_cat_test1</th>\n",
       "      <th>price_cat_test2</th>\n",
       "    </tr>\n",
       "  </thead>\n",
       "  <tbody>\n",
       "    <tr>\n",
       "      <th>0</th>\n",
       "      <td>43</td>\n",
       "      <td>4036616</td>\n",
       "      <td>2.590241</td>\n",
       "      <td>1244891</td>\n",
       "      <td>6.407578e+06</td>\n",
       "      <td>155572</td>\n",
       "      <td>37.0</td>\n",
       "      <td>27.0</td>\n",
       "      <td>70.0</td>\n",
       "      <td>263.886239</td>\n",
       "      <td>1</td>\n",
       "      <td>1</td>\n",
       "      <td>0</td>\n",
       "    </tr>\n",
       "    <tr>\n",
       "      <th>1</th>\n",
       "      <td>34</td>\n",
       "      <td>2034942</td>\n",
       "      <td>0.936700</td>\n",
       "      <td>179065</td>\n",
       "      <td>9.589337e+06</td>\n",
       "      <td>115352</td>\n",
       "      <td>28.0</td>\n",
       "      <td>19.0</td>\n",
       "      <td>53.0</td>\n",
       "      <td>171.319659</td>\n",
       "      <td>1</td>\n",
       "      <td>1</td>\n",
       "      <td>0</td>\n",
       "    </tr>\n",
       "    <tr>\n",
       "      <th>2</th>\n",
       "      <td>43</td>\n",
       "      <td>1572990</td>\n",
       "      <td>2.120999</td>\n",
       "      <td>52550</td>\n",
       "      <td>4.808270e+06</td>\n",
       "      <td>101708</td>\n",
       "      <td>37.0</td>\n",
       "      <td>29.0</td>\n",
       "      <td>72.0</td>\n",
       "      <td>157.314113</td>\n",
       "      <td>1</td>\n",
       "      <td>1</td>\n",
       "      <td>0</td>\n",
       "    </tr>\n",
       "    <tr>\n",
       "      <th>3</th>\n",
       "      <td>89</td>\n",
       "      <td>942180</td>\n",
       "      <td>1.489049</td>\n",
       "      <td>89492</td>\n",
       "      <td>1.258354e+07</td>\n",
       "      <td>178473</td>\n",
       "      <td>83.0</td>\n",
       "      <td>50.0</td>\n",
       "      <td>139.0</td>\n",
       "      <td>340.857760</td>\n",
       "      <td>3</td>\n",
       "      <td>0</td>\n",
       "      <td>0</td>\n",
       "    </tr>\n",
       "    <tr>\n",
       "      <th>4</th>\n",
       "      <td>77</td>\n",
       "      <td>3503058</td>\n",
       "      <td>1.257186</td>\n",
       "      <td>564843</td>\n",
       "      <td>8.398461e+06</td>\n",
       "      <td>108171</td>\n",
       "      <td>71.0</td>\n",
       "      <td>77.0</td>\n",
       "      <td>154.0</td>\n",
       "      <td>123.800872</td>\n",
       "      <td>3</td>\n",
       "      <td>0</td>\n",
       "      <td>0</td>\n",
       "    </tr>\n",
       "  </tbody>\n",
       "</table>\n",
       "</div>"
      ],
      "text/plain": [
       "   full_sq  trc_sqm_5000  metro_min_avto  trc_sqm_2000        area_m  \\\n",
       "0       43       4036616        2.590241       1244891  6.407578e+06   \n",
       "1       34       2034942        0.936700        179065  9.589337e+06   \n",
       "2       43       1572990        2.120999         52550  4.808270e+06   \n",
       "3       89        942180        1.489049         89492  1.258354e+07   \n",
       "4       77       3503058        1.257186        564843  8.398461e+06   \n",
       "\n",
       "   raion_popul  diff_sq  life_sq  plus_sq      km_sum  price_cat  \\\n",
       "0       155572     37.0     27.0     70.0  263.886239          1   \n",
       "1       115352     28.0     19.0     53.0  171.319659          1   \n",
       "2       101708     37.0     29.0     72.0  157.314113          1   \n",
       "3       178473     83.0     50.0    139.0  340.857760          3   \n",
       "4       108171     71.0     77.0    154.0  123.800872          3   \n",
       "\n",
       "   price_cat_test1  price_cat_test2  \n",
       "0                1                0  \n",
       "1                1                0  \n",
       "2                1                0  \n",
       "3                0                0  \n",
       "4                0                0  "
      ]
     },
     "execution_count": 60,
     "metadata": {},
     "output_type": "execute_result"
    }
   ],
   "source": [
    "df_log['price_cat_test2'] = pd.Series([1 if cd == 2 else 0 for cd in df_log['price_cat']], index=df_log.index)\n",
    "df_log.head()"
   ]
  },
  {
   "cell_type": "code",
   "execution_count": 61,
   "metadata": {},
   "outputs": [
    {
     "data": {
      "text/plain": [
       "0    18793\n",
       "1    11678\n",
       "Name: price_cat_test2, dtype: int64"
      ]
     },
     "execution_count": 61,
     "metadata": {},
     "output_type": "execute_result"
    }
   ],
   "source": [
    "df_log['price_cat_test2'].value_counts()"
   ]
  },
  {
   "cell_type": "code",
   "execution_count": 62,
   "metadata": {},
   "outputs": [
    {
     "data": {
      "text/plain": [
       "(21329, 10)"
      ]
     },
     "execution_count": 62,
     "metadata": {},
     "output_type": "execute_result"
    }
   ],
   "source": [
    "col = 'price_cat_test1'\n",
    "#x_list = ig_list\n",
    "X_train, X_test, y_train, y_test = model_selection.train_test_split(df_log.loc[:, slist], \\\n",
    "                                                                df_log.loc[:, col], test_size=0.3)\n",
    "X_train.shape"
   ]
  },
  {
   "cell_type": "code",
   "execution_count": 62,
   "metadata": {},
   "outputs": [
    {
     "data": {
      "text/plain": [
       "(21329, 10)"
      ]
     },
     "execution_count": 62,
     "metadata": {},
     "output_type": "execute_result"
    }
   ],
   "source": [
    "col = 'price_cat'\n",
    "#x_list = ig_list\n",
    "X_train_f, X_test_f, y_train_f, y_test_f = model_selection.train_test_split(df_log.loc[:, slist], \\\n",
    "                                                                df_log.loc[:, col], test_size=0.3)\n",
    "X_train_f.shape"
   ]
  },
  {
   "cell_type": "code",
   "execution_count": null,
   "metadata": {},
   "outputs": [],
   "source": []
  },
  {
   "cell_type": "code",
   "execution_count": 50,
   "metadata": {},
   "outputs": [
    {
     "data": {
      "text/plain": [
       "(9142, 10)"
      ]
     },
     "execution_count": 50,
     "metadata": {},
     "output_type": "execute_result"
    }
   ],
   "source": [
    "X_test.shape"
   ]
  },
  {
   "cell_type": "code",
   "execution_count": 63,
   "metadata": {},
   "outputs": [
    {
     "name": "stdout",
     "output_type": "stream",
     "text": [
      "2018-11-25 15:17:40.493572\n",
      "train score:  0.8062731492334381\n",
      "test score:  0.7700721942682126\n"
     ]
    }
   ],
   "source": [
    "print (dt.datetime.now())\n",
    "h = .02  # step size in the mesh\n",
    "\n",
    "#solver : str, {‘newton-cg’, ‘lbfgs’, ‘liblinear’, ‘sag’, ‘saga’}, \n",
    "names = [\"LogReg: newton-cg \"\n",
    "        ]\n",
    "\n",
    "classifiers = [\n",
    "    LogisticRegression(random_state=0, solver='newton-cg',multi_class='ovr'),\n",
    "    ]\n",
    "clf.fit(X_train, y_train)\n",
    "\n",
    "model = RandomForestClassifier(max_depth=10, n_estimators=100)\n",
    "#MLPClassifier(alpha=1,hidden_layer_sizes=(100,100,)),\n",
    "#MLPClassifier(alpha=1,hidden_layer_sizes=(100,100,), solver='lbfgs'),\n",
    "#MLPClassifier(alpha=1,hidden_layer_sizes=(100,100,), activation='tanh'),\n",
    "\n",
    "X_train['test_score_proba'] = [p[0] for p in clf.predict_proba(X_train)]\n",
    "X_test['test_score_proba'] = [p[0] for p in clf.predict_proba(X_test)]\n",
    "y_train = df_log.loc[X_train.index, 'price_cat']\n",
    "y_test = df_log.loc[X_test.index, 'price_cat']\n",
    "model.fit(X_train,y_train)\n",
    "\n",
    "print(\"train score: \", model.score(X_train,y_train))\n",
    "print(\"test score: \", model.score(X_test,y_test))\n",
    "\n",
    "#plt.tight_layout()\n",
    "#plt.show()"
   ]
  },
  {
   "cell_type": "code",
   "execution_count": null,
   "metadata": {},
   "outputs": [],
   "source": [
    "col = 'price_cat'\n",
    "#x_list = ig_list\n",
    "X_train_f, X_test_f, y_train_f, y_test_f = model_selection.train_test_split(df_log.loc[:, slist], \\\n",
    "                                                                df_log.loc[:, col], test_size=0.3)\n",
    "X_train_f.shape"
   ]
  },
  {
   "cell_type": "code",
   "execution_count": 64,
   "metadata": {},
   "outputs": [
    {
     "name": "stdout",
     "output_type": "stream",
     "text": [
      "2018-11-25 15:18:09.315366\n",
      "Nearest Neighbors\n",
      "train score:  0.7389469736040133\n",
      "test score:  0.6368409538394224\n",
      "2018-11-25 15:18:09.904820\n",
      "==========\n",
      "Extra Tree Clf\n",
      "train score:  0.9864034882085424\n",
      "test score:  0.7656967840735069\n",
      "2018-11-25 15:18:13.525477\n",
      "==========\n",
      "Gradient Boost Clf\n",
      "train score:  0.799803085001641\n",
      "test score:  0.6761102603369066\n",
      "2018-11-25 15:18:24.738097\n",
      "==========\n",
      "Ridge Classifier\n",
      "train score:  0.6139997186928595\n",
      "test score:  0.607197549770291\n",
      "2018-11-25 15:18:24.839262\n",
      "==========\n",
      "Decision Tree\n",
      "train score:  0.7935205588635191\n"
     ]
    },
    {
     "name": "stderr",
     "output_type": "stream",
     "text": [
      "/Users/chadleonard/Springboard/anaconda3/lib/python3.7/site-packages/sklearn/linear_model/ridge.py:112: LinAlgWarning: scipy.linalg.solve\n",
      "Ill-conditioned matrix detected. Result is not guaranteed to be accurate.\n",
      "Reciprocal condition number6.730101e-18\n",
      "  overwrite_a=True).T\n"
     ]
    },
    {
     "name": "stdout",
     "output_type": "stream",
     "text": [
      "test score:  0.7456792824327281\n",
      "2018-11-25 15:18:24.942278\n",
      "==========\n",
      "Random Forest\n",
      "train score:  0.8052885742416428\n",
      "test score:  0.7700721942682126\n",
      "2018-11-25 15:18:27.711286\n",
      "==========\n",
      "Neural Net: adam\n",
      "train score:  0.4005344835669745\n",
      "test score:  0.4070225333625027\n",
      "2018-11-25 15:18:28.995513\n",
      "==========\n",
      "Neural N: lbfgs\n",
      "train score:  0.15120258802569272\n",
      "test score:  0.1618901772041129\n",
      "2018-11-25 15:18:31.001690\n",
      "==========\n",
      "Neural Net: tanh\n",
      "train score:  0.49355337802991234\n",
      "test score:  0.4922336469043973\n",
      "2018-11-25 15:18:35.470508\n",
      "==========\n",
      "2018-11-25 15:18:35.470724\n",
      "['full_sq', 'trc_sqm_5000', 'metro_min_avto', 'trc_sqm_2000', 'area_m', 'raion_popul', 'diff_sq', 'life_sq', 'plus_sq', 'km_sum']\n"
     ]
    },
    {
     "data": {
      "text/plain": [
       "OrderedDict([(0.7700721942682126, ('Random Forest', 0.8052885742416428)),\n",
       "             (0.7656967840735069, ('Extra Tree Clf', 0.9864034882085424)),\n",
       "             (0.7456792824327281, ('Decision Tree', 0.7935205588635191)),\n",
       "             (0.6761102603369066, ('Gradient Boost Clf', 0.799803085001641)),\n",
       "             (0.6368409538394224, ('Nearest Neighbors', 0.7389469736040133)),\n",
       "             (0.607197549770291, ('Ridge Classifier', 0.6139997186928595)),\n",
       "             (0.4922336469043973, ('Neural Net: tanh', 0.49355337802991234)),\n",
       "             (0.4070225333625027, ('Neural Net: adam', 0.4005344835669745)),\n",
       "             (0.1618901772041129, ('Neural N: lbfgs', 0.15120258802569272))])"
      ]
     },
     "execution_count": 64,
     "metadata": {},
     "output_type": "execute_result"
    }
   ],
   "source": [
    "print (dt.datetime.now())\n",
    "h = .02  # step size in the mesh\n",
    "\n",
    "names = [\"Nearest Neighbors\",  \n",
    "         \"Extra Tree Clf\",\n",
    "         \"Gradient Boost Clf\",\n",
    "         \"Ridge Classifier\",\n",
    "         \"Decision Tree\", \n",
    "         \"Random Forest\", \n",
    "         \"Neural Net: adam\",\n",
    "         \"Neural N: lbfgs\",\n",
    "         \"Neural Net: tanh\"        ]\n",
    "\n",
    "classifiers = [\n",
    "    KNeighborsClassifier(7),\n",
    "    ExtraTreesClassifier(n_estimators=100),\n",
    "    GradientBoostingClassifier(n_estimators=100, learning_rate=1.0,max_depth=5, random_state=0),\n",
    "    RidgeClassifier(),\n",
    "    DecisionTreeClassifier(max_depth=10),\n",
    "    RandomForestClassifier(max_depth=10, n_estimators=100),\n",
    "    MLPClassifier(alpha=1,hidden_layer_sizes=(100,100,)),\n",
    "    MLPClassifier(alpha=1,hidden_layer_sizes=(100,100,), solver='lbfgs'),\n",
    "    MLPClassifier(alpha=1,hidden_layer_sizes=(100,100,), activation='tanh'),\n",
    "    ]\n",
    "\n",
    "score_dict = dict()\n",
    "score_list = []\n",
    "# iterate over classifiers\n",
    "for name, clf in zip(names, classifiers):\n",
    "    clf.fit(X_train, y_train)\n",
    "    print(name)\n",
    "    print(\"train score: \", clf.score(X_train,y_train))\n",
    "    train_score = clf.score(X_train,y_train)\n",
    "    test_score = clf.score(X_test, y_test)\n",
    "    print(\"test score: \", str(test_score))\n",
    "    score_dict.update({test_score: (name, train_score)})\n",
    "    print (dt.datetime.now())\n",
    "    print('='*10)\n",
    "\n",
    "\n",
    "od = collections.OrderedDict(sorted(score_dict.items(),reverse=True))    \n",
    "\n",
    "print (dt.datetime.now())\n",
    "print(slist)\n",
    "od"
   ]
  },
  {
   "cell_type": "code",
   "execution_count": 40,
   "metadata": {},
   "outputs": [
    {
     "data": {
      "text/plain": [
       "array([0.52984921, 0.47015079])"
      ]
     },
     "execution_count": 40,
     "metadata": {},
     "output_type": "execute_result"
    }
   ],
   "source": [
    "test_score_proba[0]"
   ]
  },
  {
   "cell_type": "code",
   "execution_count": null,
   "metadata": {},
   "outputs": [],
   "source": []
  },
  {
   "cell_type": "code",
   "execution_count": 37,
   "metadata": {},
   "outputs": [
    {
     "name": "stdout",
     "output_type": "stream",
     "text": [
      "after transform:            0          1          2          3             4         5      6\n",
      "0       36.0   396866.0   1.113451    81104.0  8.889467e+06   90114.0   44.0\n",
      "1       76.0  1946680.0   5.309669    13626.0  9.629358e+06   89467.0   44.0\n",
      "2       56.0   835272.0   1.131661    60634.0  1.504557e+07  102828.0   51.0\n",
      "3       48.0    17000.0   9.984238        0.0  2.553630e+07    4001.0   47.0\n",
      "4       30.0  1722066.0   2.364080   367091.0  4.787424e+06   96959.0   24.0\n",
      "5       42.0  1137771.0   2.338630    27000.0  8.659075e+06  104410.0   44.0\n",
      "6       39.0  1061263.0   1.584286   650124.0  1.675112e+07  155427.0   44.0\n",
      "7       30.0  1530115.0   3.004164   727003.0  6.879020e+06  112221.0   44.0\n",
      "8       38.0  1060726.0   3.594263   231496.0  8.392316e+06  130396.0   28.0\n",
      "9       43.0   262000.0   3.121542        0.0  2.149409e+07    7122.0   44.0\n",
      "10      51.0   768507.0   1.564507   115788.0  1.504557e+07  102828.0   44.0\n",
      "11      43.0  1725130.0   2.226595   427100.0  6.206099e+06  111874.0   38.0\n",
      "12      78.0   985497.0   1.826404   128499.0  5.264734e+06   80791.0   66.0\n",
      "13      50.0  1530824.0   1.910893   374770.0  5.391434e+06  123000.0   42.0\n",
      "14      44.0   890448.0   3.412817    59660.0  7.984444e+06  142243.0   39.0\n",
      "15      44.0  2073755.0   3.441248    11326.0  1.803644e+07  166803.0   38.0\n",
      "16      60.0   177600.0   9.894780        0.0  2.615514e+07  178264.0   49.0\n",
      "17      64.0  1019560.0   0.059641   137756.0  1.258354e+07  178473.0   44.0\n",
      "18      31.0   252076.0   7.581461        0.0  6.677245e+07    9553.0   44.0\n",
      "19      60.0   262000.0   5.595301        0.0  2.149409e+07    7122.0   44.0\n",
      "20      56.0        0.0  23.635815        0.0  1.631523e+07   39873.0   37.0\n",
      "21      38.0   139300.0   2.857265    17000.0  2.553630e+07    4001.0   44.0\n",
      "22      37.0  1153661.0   3.515953    49602.0  2.104405e+06   26943.0   44.0\n",
      "23      48.0  1043785.0   0.905898   174990.0  1.504557e+07  102828.0   38.0\n",
      "24      63.0  1056603.0   2.394978   650124.0  1.675112e+07  155427.0   57.0\n",
      "25      32.0  1764460.0   3.925303   203354.0  5.467178e+06  102618.0   27.0\n",
      "26      55.0  2813166.0   1.295563   254220.0  1.007156e+07  102726.0   50.0\n",
      "27      52.0  1490455.0   9.713127    34100.0  8.097032e+06   31167.0   44.0\n",
      "28      44.0   832579.0   1.800178    94949.0  1.509487e+07  219609.0   44.0\n",
      "29      64.0   922752.0   6.384859     1931.0  1.752651e+07  118843.0   55.0\n",
      "...      ...        ...        ...        ...           ...       ...    ...\n",
      "21299   36.0  3913870.0   3.609713   158957.0  3.879802e+06   81980.0   44.0\n",
      "21300   51.0    43437.0   0.913144        0.0  1.139168e+07   19940.0   44.0\n",
      "21301   40.0   262000.0   5.595301        0.0  2.149409e+07    7122.0   28.0\n",
      "21302   40.0  1473394.0   3.989115   148600.0  7.632940e+06   78810.0   31.0\n",
      "21303  142.0  2144136.0   3.424156     9626.0  1.803644e+07  166803.0  141.0\n",
      "21304   44.0  1014976.0   2.214528    39106.0  9.946335e+06  139322.0   39.0\n",
      "21305   51.0   335876.0   6.115405        0.0  6.677245e+07    9553.0   37.0\n",
      "21306   38.0  1311493.0   5.843294   412164.0  7.126815e+06   87713.0   44.0\n",
      "21307   39.0  1380020.0   3.430963    49602.0  2.104405e+06   26943.0   34.0\n",
      "21308   76.0  2084560.0   2.020484   240955.0  7.905261e+06   85956.0   68.0\n",
      "21309   89.0   942180.0   1.489049    89492.0  1.258354e+07  178473.0   44.0\n",
      "21310   53.0  1027733.0   2.016772    60081.0  1.216448e+07   78507.0   44.0\n",
      "21311   49.0  2818257.0   0.517641  1087000.0  1.249544e+07   91100.0   44.0\n",
      "21312   48.0  2438486.0   6.711134   507423.0  8.338438e+06   94236.0   40.0\n",
      "21313   61.0   262000.0   3.239717        0.0  2.149409e+07    7122.0   54.0\n",
      "21314   55.0   676395.0   3.768942   217356.0  1.051837e+07  118945.0   44.0\n",
      "21315   86.0  1489525.0   2.274961   223956.0  6.377883e+06  101982.0   75.0\n",
      "21316  167.0        0.0  60.941737        0.0  1.762464e+08    2693.0  166.0\n",
      "21317   44.0    73000.0   8.233955        0.0  6.677245e+07    9553.0   43.0\n",
      "21318   36.0   986281.0   2.740255    39106.0  4.395333e+06   94561.0   27.0\n",
      "21319   64.0   252076.0   7.581461        0.0  6.677245e+07    9553.0   44.0\n",
      "21320   56.0    49700.0  26.209349     3800.0  4.389199e+06   28537.0   44.0\n",
      "21321   32.0   452982.0   1.922765   123392.0  1.051837e+07  118945.0   26.0\n",
      "21322   40.0  3205186.0   1.642815   975800.0  4.512002e+06   57999.0   31.0\n",
      "21323   33.0  3393929.0   1.296706   525343.0  8.398461e+06  108171.0   44.0\n",
      "21324  128.0  2239350.0   3.951491   127626.0  1.803644e+07  166803.0  128.0\n",
      "21325   43.0   540252.0   1.488589    44700.0  5.586343e+06   83502.0   44.0\n",
      "21326   31.0   949270.0   2.770454    48450.0  7.984444e+06  142243.0   26.0\n",
      "21327   43.0  1585968.0   2.204339    20550.0  4.808270e+06  101708.0   38.0\n",
      "21328   36.0   965903.0   4.281506     1700.0  8.464344e+06   85721.0   44.0\n",
      "\n",
      "[21329 rows x 7 columns]\n"
     ]
    }
   ],
   "source": [
    "selector=SelectKBest(score_func=f_classif,k='all')\n",
    "selector.fit(X_train,y_train)\n",
    "#print(\"scores_:\",selector.scores_)\n",
    "#print(\"pvalues_:\",selector.pvalues_)\n",
    "#print(\"selected index:\",selector.get_support(True))\n",
    "X_train = pd.DataFrame(selector.transform(X_train))\n",
    "#X_test = selector.transform(X_test)\n",
    "print(\"after transform:\",X_train) "
   ]
  },
  {
   "cell_type": "code",
   "execution_count": 79,
   "metadata": {},
   "outputs": [
    {
     "data": {
      "text/plain": [
       "OrderedDict([(0.791316208229143, 'Random Forest'),\n",
       "             (0.7892702887019777, 'Neural Net: lbfgs'),\n",
       "             (0.7865423959990907, 'Extra Tree Classifier'),\n",
       "             (0.7654012275517162, 'Decision Tree'),\n",
       "             (0.7558536030916118, 'Nearest Neighbors'),\n",
       "             (0.7538076835644465, 'Neural Net: adam'),\n",
       "             (0.7460786542396, 'Gradient Boosting Classifier'),\n",
       "             (0.7331211639008866, 'Neural Net: tanh'),\n",
       "             (0.7092521027506251, 'Linear SVM'),\n",
       "             (0.696521936803819, 'Logistic Regression Multinomial'),\n",
       "             (0.6803819049784042, 'AdaBoost'),\n",
       "             (0.6333257558536031, 'Ridge Classifier'),\n",
       "             (0.6030916117299386, 'Stochastic Gradient Descent')])"
      ]
     },
     "execution_count": 79,
     "metadata": {},
     "output_type": "execute_result"
    }
   ],
   "source": [
    "# od = collections.OrderedDict(sorted(dict(zip(selector.scores_, x_list)).items(),reverse=True))\n",
    "od = collections.OrderedDict(sorted(score_dict.items(),reverse=True))\n",
    "od"
   ]
  },
  {
   "cell_type": "code",
   "execution_count": 116,
   "metadata": {},
   "outputs": [
    {
     "name": "stdout",
     "output_type": "stream",
     "text": [
      "2018-11-21 21:34:50.696204\n",
      "train score 0.7965705378020265\n",
      "test score 0.7933621277563082\n",
      "pred label [3 3 2 ... 2 3 3]\n",
      "2018-11-21 21:34:56.825105\n"
     ]
    }
   ],
   "source": [
    "print (dt.datetime.now())\n",
    "pca = PCA(n_components=2)# adjust yourself\n",
    "pca.fit(X_train)\n",
    "X_t_train = pca.transform(X_train)\n",
    "X_t_test = pca.transform(X_test)\n",
    "X_train['pca1'] = pd.Series(X_t_train[:,0], index=X_train.index)\n",
    "X_train['pca2'] = pd.Series(X_t_train[:,1], index=X_train.index)\n",
    "X_test['pca1'] = pd.Series(X_t_test[:,0], index=X_test.index)\n",
    "X_test['pca2'] = pd.Series(X_t_test[:,1], index=X_test.index)\n",
    "\n",
    "clf = MLPClassifier(alpha=1,hidden_layer_sizes=(100,100,))\n",
    "clf.fit(X_train[llist + ['pca1', 'pca2']], y_train)\n",
    "print ('train score', clf.score(X_train[llist + ['pca1', 'pca2']], y_train))\n",
    "print ('test score', clf.score(X_test[llist + ['pca1', 'pca2']], y_test))\n",
    "print ('pred label', clf.predict(X_test[llist + ['pca1', 'pca2']]))\n",
    "print (dt.datetime.now())"
   ]
  },
  {
   "cell_type": "code",
   "execution_count": 122,
   "metadata": {},
   "outputs": [
    {
     "name": "stdout",
     "output_type": "stream",
     "text": [
      "2018-11-21 21:40:46.028874\n",
      "train score 1.0\n",
      "test score 0.7744942032280063\n",
      "pred label [3 2 3 ... 1 2 1]\n",
      "2018-11-21 21:41:31.654223\n"
     ]
    }
   ],
   "source": [
    "print (dt.datetime.now())\n",
    "pca = PCA(n_components=4)# adjust yourself\n",
    "pca.fit(X_train)\n",
    "X_t_train = pca.transform(X_train)\n",
    "X_t_test = pca.transform(X_test)\n",
    "X_train['pca1'] = pd.Series(X_t_train[:,0], index=X_train.index)\n",
    "X_train['pca2'] = pd.Series(X_t_train[:,1], index=X_train.index)\n",
    "X_train['pca3'] = pd.Series(X_t_train[:,2], index=X_train.index)\n",
    "X_train['pca4'] = pd.Series(X_t_train[:,3], index=X_train.index)\n",
    "X_test['pca1'] = pd.Series(X_t_test[:,0], index=X_test.index)\n",
    "X_test['pca2'] = pd.Series(X_t_test[:,1], index=X_test.index)\n",
    "X_test['pca3'] = pd.Series(X_t_test[:,2], index=X_test.index)\n",
    "X_test['pca4'] = pd.Series(X_t_test[:,3], index=X_test.index)\n",
    "\n",
    "clf = RandomForestClassifier(criterion='entropy', n_estimators=500)\n",
    "clf.fit(X_train, y_train)\n",
    "print ('train score', clf.score(X_train, y_train))\n",
    "print ('test score', clf.score(X_test, y_test))\n",
    "print ('pred label', clf.predict(X_test))\n",
    "print (dt.datetime.now())"
   ]
  },
  {
   "cell_type": "code",
   "execution_count": 112,
   "metadata": {},
   "outputs": [
    {
     "name": "stdout",
     "output_type": "stream",
     "text": [
      "(10264, 2)\n",
      "(10264, 1344)\n"
     ]
    },
    {
     "data": {
      "text/html": [
       "<div>\n",
       "<style scoped>\n",
       "    .dataframe tbody tr th:only-of-type {\n",
       "        vertical-align: middle;\n",
       "    }\n",
       "\n",
       "    .dataframe tbody tr th {\n",
       "        vertical-align: top;\n",
       "    }\n",
       "\n",
       "    .dataframe thead th {\n",
       "        text-align: right;\n",
       "    }\n",
       "</style>\n",
       "<table border=\"1\" class=\"dataframe\">\n",
       "  <thead>\n",
       "    <tr style=\"text-align: right;\">\n",
       "      <th></th>\n",
       "      <th>additional_education_km</th>\n",
       "      <th>apartment_build</th>\n",
       "      <th>area_m</th>\n",
       "      <th>average_provision_of_build_contract</th>\n",
       "      <th>average_provision_of_build_contract_moscow</th>\n",
       "      <th>balance_trade</th>\n",
       "      <th>balance_trade_growth</th>\n",
       "      <th>basketball_km</th>\n",
       "      <th>baths_share</th>\n",
       "      <th>big_church_km</th>\n",
       "      <th>...</th>\n",
       "      <th>ID_railroad_station_avto_125</th>\n",
       "      <th>ID_railroad_station_avto_126</th>\n",
       "      <th>ID_railroad_station_avto_127</th>\n",
       "      <th>ID_railroad_station_avto_128</th>\n",
       "      <th>ID_railroad_station_avto_129</th>\n",
       "      <th>ID_railroad_station_avto_130</th>\n",
       "      <th>ID_railroad_station_avto_131</th>\n",
       "      <th>ID_railroad_station_avto_132</th>\n",
       "      <th>pca1</th>\n",
       "      <th>pca2</th>\n",
       "    </tr>\n",
       "  </thead>\n",
       "  <tbody>\n",
       "    <tr>\n",
       "      <th>19741</th>\n",
       "      <td>-0.603766</td>\n",
       "      <td>0.285407</td>\n",
       "      <td>0.018373</td>\n",
       "      <td>0.514518</td>\n",
       "      <td>-0.796481</td>\n",
       "      <td>1.026054</td>\n",
       "      <td>1.354684</td>\n",
       "      <td>-0.692734</td>\n",
       "      <td>-0.15918</td>\n",
       "      <td>-0.127809</td>\n",
       "      <td>...</td>\n",
       "      <td>0</td>\n",
       "      <td>0</td>\n",
       "      <td>0</td>\n",
       "      <td>0</td>\n",
       "      <td>0</td>\n",
       "      <td>0</td>\n",
       "      <td>0</td>\n",
       "      <td>0</td>\n",
       "      <td>-0.533318</td>\n",
       "      <td>-2.710021</td>\n",
       "    </tr>\n",
       "    <tr>\n",
       "      <th>5865</th>\n",
       "      <td>1.509271</td>\n",
       "      <td>0.359691</td>\n",
       "      <td>2.378554</td>\n",
       "      <td>-1.028282</td>\n",
       "      <td>-1.538939</td>\n",
       "      <td>0.698363</td>\n",
       "      <td>-0.789917</td>\n",
       "      <td>0.193925</td>\n",
       "      <td>-0.15918</td>\n",
       "      <td>0.612701</td>\n",
       "      <td>...</td>\n",
       "      <td>0</td>\n",
       "      <td>0</td>\n",
       "      <td>0</td>\n",
       "      <td>0</td>\n",
       "      <td>0</td>\n",
       "      <td>0</td>\n",
       "      <td>0</td>\n",
       "      <td>0</td>\n",
       "      <td>2.497065</td>\n",
       "      <td>0.179142</td>\n",
       "    </tr>\n",
       "    <tr>\n",
       "      <th>5897</th>\n",
       "      <td>-0.680836</td>\n",
       "      <td>0.359691</td>\n",
       "      <td>-0.695663</td>\n",
       "      <td>-1.028282</td>\n",
       "      <td>-1.538939</td>\n",
       "      <td>0.698363</td>\n",
       "      <td>-0.789917</td>\n",
       "      <td>-0.698257</td>\n",
       "      <td>-0.15918</td>\n",
       "      <td>-0.311110</td>\n",
       "      <td>...</td>\n",
       "      <td>0</td>\n",
       "      <td>0</td>\n",
       "      <td>0</td>\n",
       "      <td>0</td>\n",
       "      <td>0</td>\n",
       "      <td>0</td>\n",
       "      <td>0</td>\n",
       "      <td>0</td>\n",
       "      <td>-0.405151</td>\n",
       "      <td>0.904009</td>\n",
       "    </tr>\n",
       "    <tr>\n",
       "      <th>24576</th>\n",
       "      <td>1.157144</td>\n",
       "      <td>0.285407</td>\n",
       "      <td>2.378554</td>\n",
       "      <td>1.708945</td>\n",
       "      <td>0.890924</td>\n",
       "      <td>-0.391055</td>\n",
       "      <td>-0.838905</td>\n",
       "      <td>0.346047</td>\n",
       "      <td>-0.15918</td>\n",
       "      <td>0.584331</td>\n",
       "      <td>...</td>\n",
       "      <td>0</td>\n",
       "      <td>0</td>\n",
       "      <td>0</td>\n",
       "      <td>0</td>\n",
       "      <td>0</td>\n",
       "      <td>0</td>\n",
       "      <td>0</td>\n",
       "      <td>0</td>\n",
       "      <td>2.517122</td>\n",
       "      <td>-1.158595</td>\n",
       "    </tr>\n",
       "    <tr>\n",
       "      <th>27974</th>\n",
       "      <td>0.163022</td>\n",
       "      <td>0.285407</td>\n",
       "      <td>-0.345711</td>\n",
       "      <td>1.061964</td>\n",
       "      <td>0.587191</td>\n",
       "      <td>-0.247201</td>\n",
       "      <td>2.895095</td>\n",
       "      <td>-0.791540</td>\n",
       "      <td>-0.15918</td>\n",
       "      <td>-0.220482</td>\n",
       "      <td>...</td>\n",
       "      <td>0</td>\n",
       "      <td>0</td>\n",
       "      <td>0</td>\n",
       "      <td>0</td>\n",
       "      <td>0</td>\n",
       "      <td>0</td>\n",
       "      <td>0</td>\n",
       "      <td>0</td>\n",
       "      <td>-0.253964</td>\n",
       "      <td>0.702686</td>\n",
       "    </tr>\n",
       "  </tbody>\n",
       "</table>\n",
       "<p>5 rows × 1344 columns</p>\n",
       "</div>"
      ],
      "text/plain": [
       "       additional_education_km  apartment_build    area_m  \\\n",
       "19741                -0.603766         0.285407  0.018373   \n",
       "5865                  1.509271         0.359691  2.378554   \n",
       "5897                 -0.680836         0.359691 -0.695663   \n",
       "24576                 1.157144         0.285407  2.378554   \n",
       "27974                 0.163022         0.285407 -0.345711   \n",
       "\n",
       "       average_provision_of_build_contract  \\\n",
       "19741                             0.514518   \n",
       "5865                             -1.028282   \n",
       "5897                             -1.028282   \n",
       "24576                             1.708945   \n",
       "27974                             1.061964   \n",
       "\n",
       "       average_provision_of_build_contract_moscow  balance_trade  \\\n",
       "19741                                   -0.796481       1.026054   \n",
       "5865                                    -1.538939       0.698363   \n",
       "5897                                    -1.538939       0.698363   \n",
       "24576                                    0.890924      -0.391055   \n",
       "27974                                    0.587191      -0.247201   \n",
       "\n",
       "       balance_trade_growth  basketball_km  baths_share  big_church_km  \\\n",
       "19741              1.354684      -0.692734     -0.15918      -0.127809   \n",
       "5865              -0.789917       0.193925     -0.15918       0.612701   \n",
       "5897              -0.789917      -0.698257     -0.15918      -0.311110   \n",
       "24576             -0.838905       0.346047     -0.15918       0.584331   \n",
       "27974              2.895095      -0.791540     -0.15918      -0.220482   \n",
       "\n",
       "         ...     ID_railroad_station_avto_125  ID_railroad_station_avto_126  \\\n",
       "19741    ...                                0                             0   \n",
       "5865     ...                                0                             0   \n",
       "5897     ...                                0                             0   \n",
       "24576    ...                                0                             0   \n",
       "27974    ...                                0                             0   \n",
       "\n",
       "       ID_railroad_station_avto_127  ID_railroad_station_avto_128  \\\n",
       "19741                             0                             0   \n",
       "5865                              0                             0   \n",
       "5897                              0                             0   \n",
       "24576                             0                             0   \n",
       "27974                             0                             0   \n",
       "\n",
       "       ID_railroad_station_avto_129  ID_railroad_station_avto_130  \\\n",
       "19741                             0                             0   \n",
       "5865                              0                             0   \n",
       "5897                              0                             0   \n",
       "24576                             0                             0   \n",
       "27974                             0                             0   \n",
       "\n",
       "       ID_railroad_station_avto_131  ID_railroad_station_avto_132      pca1  \\\n",
       "19741                             0                             0 -0.533318   \n",
       "5865                              0                             0  2.497065   \n",
       "5897                              0                             0 -0.405151   \n",
       "24576                             0                             0  2.517122   \n",
       "27974                             0                             0 -0.253964   \n",
       "\n",
       "           pca2  \n",
       "19741 -2.710021  \n",
       "5865   0.179142  \n",
       "5897   0.904009  \n",
       "24576 -1.158595  \n",
       "27974  0.702686  \n",
       "\n",
       "[5 rows x 1344 columns]"
      ]
     },
     "execution_count": 112,
     "metadata": {},
     "output_type": "execute_result"
    }
   ],
   "source": [
    "print(X_t_train.shape)\n",
    "print(X_train.shape)\n",
    "X_train['pca1'] = pd.Series(X_t_train[:,0], index=X_train.index)\n",
    "X_train['pca2'] = pd.Series(X_t_train[:,1], index=X_train.index)\n",
    "X_train.head()"
   ]
  },
  {
   "cell_type": "code",
   "execution_count": 89,
   "metadata": {},
   "outputs": [
    {
     "name": "stdout",
     "output_type": "stream",
     "text": [
      "2018-11-21 21:08:02.431628\n"
     ]
    },
    {
     "name": "stderr",
     "output_type": "stream",
     "text": [
      "/Users/chadleonard/Springboard/anaconda3/lib/python3.7/site-packages/sklearn/preprocessing/label.py:151: DeprecationWarning: The truth value of an empty array is ambiguous. Returning False, but in future this will result in an error. Use `array.size > 0` to check that an array is not empty.\n",
      "  if diff:\n"
     ]
    },
    {
     "name": "stdout",
     "output_type": "stream",
     "text": [
      "score 0.7128892930211411\n",
      "pred label [3 3 2 ... 2 3 3]\n",
      "2018-11-21 21:08:08.589426\n"
     ]
    },
    {
     "name": "stderr",
     "output_type": "stream",
     "text": [
      "/Users/chadleonard/Springboard/anaconda3/lib/python3.7/site-packages/sklearn/preprocessing/label.py:151: DeprecationWarning: The truth value of an empty array is ambiguous. Returning False, but in future this will result in an error. Use `array.size > 0` to check that an array is not empty.\n",
      "  if diff:\n"
     ]
    }
   ],
   "source": [
    "print (dt.datetime.now())\n",
    "pca = PCA(n_components=2)# adjust yourself\n",
    "pca.fit(X_train[llist])\n",
    "X_t_train = pca.transform(X_train[llist])\n",
    "X_t_test = pca.transform(X_test[llist])\n",
    "clf = XGBClassifier(objective='multi:softmax', n_estimators=500)\n",
    "clf.fit(X_t_train, y_train)\n",
    "print ('score', clf.score(X_t_test, y_test))\n",
    "print ('pred label', clf.predict(X_t_test))\n",
    "print (dt.datetime.now())"
   ]
  },
  {
   "cell_type": "code",
   "execution_count": 377,
   "metadata": {},
   "outputs": [],
   "source": [
    "col = 'full_sq'\n",
    "iz = df_train.loc[df_train[col] > 3, col].index\n",
    "iy = df_train.loc[df_train[col] < -3, col].index\n",
    "df_train.loc[iz, col] = 3.0\n",
    "df_train.loc[iy, col] = -3.0"
   ]
  },
  {
   "cell_type": "code",
   "execution_count": 379,
   "metadata": {},
   "outputs": [
    {
     "name": "stdout",
     "output_type": "stream",
     "text": [
      "2018-11-22 15:48:22.205515\n",
      "train score 0.7901402961808262\n",
      "test score 0.7804046374175949\n",
      "pred label [3 2 1 ... 1 3 2]\n",
      "2018-11-22 15:48:28.688381\n"
     ]
    }
   ],
   "source": [
    "print (dt.datetime.now())\n",
    "pca = PCA(n_components=2)# adjust yourself\n",
    "pca.fit(X_train)\n",
    "X_t_train = pca.transform(X_train)\n",
    "X_t_test = pca.transform(X_test)\n",
    "X_train['pca1'] = pd.Series(X_t_train[:,0], index=X_train.index)\n",
    "X_train['pca2'] = pd.Series(X_t_train[:,1], index=X_train.index)\n",
    "X_test['pca1'] = pd.Series(X_t_test[:,0], index=X_test.index)\n",
    "X_test['pca2'] = pd.Series(X_t_test[:,1], index=X_test.index)\n",
    "\n",
    "clf = MLPClassifier(alpha=1,hidden_layer_sizes=(100,100,))\n",
    "clf.fit(X_train[llist + ['pca1', 'pca2']], y_train)\n",
    "print ('train score', clf.score(X_train[llist + ['pca1', 'pca2']], y_train))\n",
    "print ('test score', clf.score(X_test[llist + ['pca1', 'pca2']], y_test))\n",
    "print ('pred label', clf.predict(X_test[llist + ['pca1', 'pca2']]))\n",
    "print (dt.datetime.now())"
   ]
  },
  {
   "cell_type": "code",
   "execution_count": 391,
   "metadata": {},
   "outputs": [],
   "source": [
    "X_train['price_cat'] = y_train.copy()"
   ]
  },
  {
   "cell_type": "code",
   "execution_count": 396,
   "metadata": {},
   "outputs": [
    {
     "data": {
      "text/plain": [
       "<matplotlib.axes._subplots.AxesSubplot at 0x1a29c68c50>"
      ]
     },
     "execution_count": 396,
     "metadata": {},
     "output_type": "execute_result"
    },
    {
     "data": {
      "image/png": "[encoded data removed]",
      "text/plain": [
       "<Figure size 432x288 with 1 Axes>"
      ]
     },
     "metadata": {
      "needs_background": "light"
     },
     "output_type": "display_data"
    }
   ],
   "source": [
    "sns.stripplot(x=col, y=\"price_cat\", data=X_train)"
   ]
  },
  {
   "cell_type": "code",
   "execution_count": 395,
   "metadata": {},
   "outputs": [
    {
     "data": {
      "image/png": "[encoded data removed]",
      "text/plain": [
       "<Figure size 360x360 with 1 Axes>"
      ]
     },
     "metadata": {
      "needs_background": "light"
     },
     "output_type": "display_data"
    }
   ],
   "source": [
    "sns.catplot(x=col, y=\"price_cat\", data=X_train);"
   ]
  },
  {
   "cell_type": "code",
   "execution_count": 412,
   "metadata": {},
   "outputs": [
    {
     "data": {
      "text/plain": [
       "9276"
      ]
     },
     "execution_count": 412,
     "metadata": {},
     "output_type": "execute_result"
    }
   ],
   "source": [
    "hi_out_indx = X_train[(X_train['pca1'] > -10) & (X_train['pca1'] < 7.6)].index\n",
    "len(hi_out_indx)"
   ]
  },
  {
   "cell_type": "code",
   "execution_count": 420,
   "metadata": {},
   "outputs": [
    {
     "data": {
      "text/plain": [
       "9123"
      ]
     },
     "execution_count": 420,
     "metadata": {},
     "output_type": "execute_result"
    }
   ],
   "source": [
    "idx3 = list(X_train[(X_train['pca1'] > -6) & (X_train['pca1'] < 6) & (X_train['price_cat'] == 3)].index)\n",
    "idx2 = list(X_train[(X_train['pca1'] > -10) & (X_train['pca1'] < 6) & (X_train['price_cat'] == 2)].index)\n",
    "idx1 = list(X_train[(X_train['pca1'] > -10) & (X_train['pca1'] < 7.6) & (X_train['price_cat'] == 1)].index)\n",
    "idx0 = list(X_train[(X_train['pca1'] > -7.6) & (X_train['pca1'] < 3) & (X_train['price_cat'] == 0)].index)\n",
    "\n",
    "idxlist = idx0 + idx1 + idx2 + idx3\n",
    "len(idxlist)"
   ]
  },
  {
   "cell_type": "code",
   "execution_count": 401,
   "metadata": {},
   "outputs": [
    {
     "data": {
      "text/plain": [
       "(10264, 1357)"
      ]
     },
     "execution_count": 401,
     "metadata": {},
     "output_type": "execute_result"
    }
   ],
   "source": [
    "X_train.shape"
   ]
  },
  {
   "cell_type": "code",
   "execution_count": 421,
   "metadata": {},
   "outputs": [
    {
     "data": {
      "text/plain": [
       "<seaborn.axisgrid.FacetGrid at 0x1a509c6eb8>"
      ]
     },
     "execution_count": 421,
     "metadata": {},
     "output_type": "execute_result"
    },
    {
     "data": {
      "image/png": "[encoded data removed]",
      "text/plain": [
       "<Figure size 360x360 with 1 Axes>"
      ]
     },
     "metadata": {
      "needs_background": "light"
     },
     "output_type": "display_data"
    }
   ],
   "source": [
    "col='pca1'\n",
    "sns.catplot(x=\"price_cat\", y=col, kind=\"box\", data=X_train.loc[idxlist][['price_cat','pca1']])"
   ]
  },
  {
   "cell_type": "code",
   "execution_count": 393,
   "metadata": {},
   "outputs": [
    {
     "data": {
      "text/plain": [
       "<seaborn.axisgrid.FacetGrid at 0x1a66b3a3c8>"
      ]
     },
     "execution_count": 393,
     "metadata": {},
     "output_type": "execute_result"
    },
    {
     "data": {
      "image/png": "[encoded data removed]",
      "text/plain": [
       "<Figure size 360x360 with 1 Axes>"
      ]
     },
     "metadata": {
      "needs_background": "light"
     },
     "output_type": "display_data"
    }
   ],
   "source": [
    "col='pca2'\n",
    "sns.catplot(x=\"price_cat\", y=col, kind=\"box\", data=X_train)"
   ]
  },
  {
   "cell_type": "code",
   "execution_count": 47,
   "metadata": {},
   "outputs": [
    {
     "ename": "NameError",
     "evalue": "name 'df_train' is not defined",
     "output_type": "error",
     "traceback": [
      "\u001b[0;31m---------------------------------------------------------------------------\u001b[0m",
      "\u001b[0;31mNameError\u001b[0m                                 Traceback (most recent call last)",
      "\u001b[0;32m<ipython-input-47-eecb3d9f3481>\u001b[0m in \u001b[0;36m<module>\u001b[0;34m()\u001b[0m\n\u001b[0;32m----> 1\u001b[0;31m \u001b[0msns\u001b[0m\u001b[0;34m.\u001b[0m\u001b[0mcatplot\u001b[0m\u001b[0;34m(\u001b[0m\u001b[0mx\u001b[0m\u001b[0;34m=\u001b[0m\u001b[0;34m\"price_cat\"\u001b[0m\u001b[0;34m,\u001b[0m \u001b[0my\u001b[0m\u001b[0;34m=\u001b[0m\u001b[0mcol\u001b[0m\u001b[0;34m,\u001b[0m \u001b[0mkind\u001b[0m\u001b[0;34m=\u001b[0m\u001b[0;34m\"box\"\u001b[0m\u001b[0;34m,\u001b[0m \u001b[0mdata\u001b[0m\u001b[0;34m=\u001b[0m\u001b[0mdf_train\u001b[0m\u001b[0;34m[\u001b[0m\u001b[0;34m[\u001b[0m\u001b[0;34m'price_cat'\u001b[0m\u001b[0;34m,\u001b[0m\u001b[0mcol\u001b[0m\u001b[0;34m]\u001b[0m\u001b[0;34m]\u001b[0m\u001b[0;34m)\u001b[0m\u001b[0;34m\u001b[0m\u001b[0m\n\u001b[0m",
      "\u001b[0;31mNameError\u001b[0m: name 'df_train' is not defined"
     ]
    }
   ],
   "source": [
    "sns.catplot(x=\"price_cat\", y=col, kind=\"box\", data=df_train[['price_cat',col]])"
   ]
  },
  {
   "cell_type": "code",
   "execution_count": 46,
   "metadata": {},
   "outputs": [
    {
     "data": {
      "text/plain": [
       "<seaborn.axisgrid.FacetGrid at 0x1a28708f98>"
      ]
     },
     "execution_count": 46,
     "metadata": {},
     "output_type": "execute_result"
    },
    {
     "data": {
      "image/png": "[encoded data removed]",
      "text/plain": [
       "<Figure size 360x360 with 1 Axes>"
      ]
     },
     "metadata": {
      "needs_background": "light"
     },
     "output_type": "display_data"
    }
   ],
   "source": [
    "sns.catplot(x=\"price_cat\", y='full_sq', kind=\"box\", data=df[['price_cat','full_sq']])"
   ]
  },
  {
   "cell_type": "code",
   "execution_count": 376,
   "metadata": {},
   "outputs": [
    {
     "name": "stderr",
     "output_type": "stream",
     "text": [
      "/Users/chadleonard/Springboard/anaconda3/lib/python3.7/site-packages/matplotlib/pyplot.py:522: RuntimeWarning: More than 20 figures have been opened. Figures created through the pyplot interface (`matplotlib.pyplot.figure`) are retained until explicitly closed and may consume too much memory. (To control this warning, see the rcParam `figure.max_open_warning`).\n",
      "  max_open_warning, RuntimeWarning)\n"
     ]
    },
    {
     "data": {
      "image/png": "[encoded data removed]",
      "text/plain": [
       "<Figure size 360x360 with 1 Axes>"
      ]
     },
     "metadata": {
      "needs_background": "light"
     },
     "output_type": "display_data"
    },
    {
     "data": {
      "image/png": "[encoded data removed]",
      "text/plain": [
       "<Figure size 360x360 with 1 Axes>"
      ]
     },
     "metadata": {
      "needs_background": "light"
     },
     "output_type": "display_data"
    },
    {
     "data": {
      "image/png": "[encoded data removed]",
      "text/plain": [
       "<Figure size 360x360 with 1 Axes>"
      ]
     },
     "metadata": {
      "needs_background": "light"
     },
     "output_type": "display_data"
    },
    {
     "data": {
      "image/png": "[encoded data removed]",
      "text/plain": [
       "<Figure size 360x360 with 1 Axes>"
      ]
     },
     "metadata": {
      "needs_background": "light"
     },
     "output_type": "display_data"
    },
    {
     "data": {
      "image/png": "[encoded data removed]",
      "text/plain": [
       "<Figure size 360x360 with 1 Axes>"
      ]
     },
     "metadata": {
      "needs_background": "light"
     },
     "output_type": "display_data"
    },
    {
     "data": {
      "image/png": "[encoded data removed]",
      "text/plain": [
       "<Figure size 360x360 with 1 Axes>"
      ]
     },
     "metadata": {
      "needs_background": "light"
     },
     "output_type": "display_data"
    },
    {
     "data": {
      "image/png": "[encoded data removed]",
      "text/plain": [
       "<Figure size 360x360 with 1 Axes>"
      ]
     },
     "metadata": {
      "needs_background": "light"
     },
     "output_type": "display_data"
    },
    {
     "data": {
      "image/png": "[encoded data removed]",
      "text/plain": [
       "<Figure size 360x360 with 1 Axes>"
      ]
     },
     "metadata": {
      "needs_background": "light"
     },
     "output_type": "display_data"
    },
    {
     "data": {
      "image/png": "[encoded data removed]",
      "text/plain": [
       "<Figure size 360x360 with 1 Axes>"
      ]
     },
     "metadata": {
      "needs_background": "light"
     },
     "output_type": "display_data"
    },
    {
     "data": {
      "image/png": "[encoded data removed]",
      "text/plain": [
       "<Figure size 360x360 with 1 Axes>"
      ]
     },
     "metadata": {
      "needs_background": "light"
     },
     "output_type": "display_data"
    },
    {
     "data": {
      "image/png": "[encoded data removed]",
      "text/plain": [
       "<Figure size 360x360 with 1 Axes>"
      ]
     },
     "metadata": {
      "needs_background": "light"
     },
     "output_type": "display_data"
    },
    {
     "data": {
      "image/png": "[encoded data removed]",
      "text/plain": [
       "<Figure size 360x360 with 1 Axes>"
      ]
     },
     "metadata": {
      "needs_background": "light"
     },
     "output_type": "display_data"
    },
    {
     "data": {
      "image/png": "[encoded data removed]",
      "text/plain": [
       "<Figure size 360x360 with 1 Axes>"
      ]
     },
     "metadata": {
      "needs_background": "light"
     },
     "output_type": "display_data"
    },
    {
     "data": {
      "image/png": "[encoded data removed]",
      "text/plain": [
       "<Figure size 360x360 with 1 Axes>"
      ]
     },
     "metadata": {
      "needs_background": "light"
     },
     "output_type": "display_data"
    },
    {
     "data": {
      "image/png": "[encoded data removed]",
      "text/plain": [
       "<Figure size 360x360 with 1 Axes>"
      ]
     },
     "metadata": {
      "needs_background": "light"
     },
     "output_type": "display_data"
    },
    {
     "data": {
      "image/png": "[encoded data removed]",
      "text/plain": [
       "<Figure size 360x360 with 1 Axes>"
      ]
     },
     "metadata": {
      "needs_background": "light"
     },
     "output_type": "display_data"
    },
    {
     "data": {
      "image/png": "[encoded data removed]",
      "text/plain": [
       "<Figure size 360x360 with 1 Axes>"
      ]
     },
     "metadata": {
      "needs_background": "light"
     },
     "output_type": "display_data"
    },
    {
     "data": {
      "image/png": "[encoded data removed]",
      "text/plain": [
       "<Figure size 360x360 with 1 Axes>"
      ]
     },
     "metadata": {
      "needs_background": "light"
     },
     "output_type": "display_data"
    },
    {
     "data": {
      "image/png": "[encoded data removed]",
      "text/plain": [
       "<Figure size 360x360 with 1 Axes>"
      ]
     },
     "metadata": {
      "needs_background": "light"
     },
     "output_type": "display_data"
    },
    {
     "data": {
      "image/png": "[encoded data removed]",
      "text/plain": [
       "<Figure size 360x360 with 1 Axes>"
      ]
     },
     "metadata": {
      "needs_background": "light"
     },
     "output_type": "display_data"
    },
    {
     "data": {
      "image/png": "[encoded data removed]",
      "text/plain": [
       "<Figure size 360x360 with 1 Axes>"
      ]
     },
     "metadata": {
      "needs_background": "light"
     },
     "output_type": "display_data"
    },
    {
     "data": {
      "image/png": "[encoded data removed]",
      "text/plain": [
       "<Figure size 360x360 with 1 Axes>"
      ]
     },
     "metadata": {
      "needs_background": "light"
     },
     "output_type": "display_data"
    },
    {
     "data": {
      "image/png": "[encoded data removed]",
      "text/plain": [
       "<Figure size 360x360 with 1 Axes>"
      ]
     },
     "metadata": {
      "needs_background": "light"
     },
     "output_type": "display_data"
    }
   ],
   "source": [
    "sk = ['timestamp', 'price_cat','price_doc']\n",
    "for col in llist:\n",
    "    if col not in sk:\n",
    "        sns.catplot(x=\"price_cat\", y=col, kind=\"box\", data=df_train[['price_cat',col]])"
   ]
  },
  {
   "cell_type": "code",
   "execution_count": null,
   "metadata": {},
   "outputs": [],
   "source": []
  }
 ],
 "metadata": {
  "kernelspec": {
   "display_name": "Python 3",
   "language": "python",
   "name": "python3"
  },
  "language_info": {
   "codemirror_mode": {
    "name": "ipython",
    "version": 3
   },
   "file_extension": ".py",
   "mimetype": "text/x-python",
   "name": "python",
   "nbconvert_exporter": "python",
   "pygments_lexer": "ipython3",
   "version": "3.7.0"
  }
 },
 "nbformat": 4,
 "nbformat_minor": 2
}
