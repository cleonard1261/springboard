{
 "cells": [
  {
   "cell_type": "markdown",
   "metadata": {},
   "source": [
    "# What is the True Normal Human Body Temperature? \n",
    "\n",
    "#### Background\n",
    "\n",
    "The mean normal body temperature was held to be 37$^{\\circ}$C or 98.6$^{\\circ}$F for more than 120 years since it was first conceptualized and reported by Carl Wunderlich in a famous 1868 book. But, is this value statistically correct?"
   ]
  },
  {
   "cell_type": "markdown",
   "metadata": {},
   "source": [
    "<h3>Exercises</h3>\n",
    "\n",
    "<p>In this exercise, you will analyze a dataset of human body temperatures and employ the concepts of hypothesis testing, confidence intervals, and statistical significance.</p>\n",
    "\n",
    "<p>Answer the following questions <b>in this notebook below and submit to your Github account</b>.</p> \n",
    "\n",
    "<ol>\n",
    "<li>  Is the distribution of body temperatures normal? \n",
    "    <ul>\n",
    "    <li> Although this is not a requirement for the Central Limit Theorem to hold (read the introduction on Wikipedia's page about the CLT carefully: https://en.wikipedia.org/wiki/Central_limit_theorem), it gives us some peace of mind that the population may also be normally distributed if we assume that this sample is representative of the population.\n",
    "    <li> Think about the way you're going to check for the normality of the distribution. Graphical methods are usually used first, but there are also other ways: https://en.wikipedia.org/wiki/Normality_test\n",
    "    </ul>\n",
    "<li>  Is the sample size large? Are the observations independent?\n",
    "    <ul>\n",
    "    <li> Remember that this is a condition for the Central Limit Theorem, and hence the statistical tests we are using, to apply.\n",
    "    </ul>\n",
    "<li>  Is the true population mean really 98.6 degrees F?\n",
    "    <ul>\n",
    "    <li> First, try a bootstrap hypothesis test.\n",
    "    <li> Now, let's try frequentist statistical testing. Would you use a one-sample or two-sample test? Why?\n",
    "    <li> In this situation, is it appropriate to use the $t$ or $z$ statistic? \n",
    "    <li> Now try using the other test. How is the result be different? Why?\n",
    "    </ul>\n",
    "<li>  Draw a small sample of size 10 from the data and repeat both frequentist tests. \n",
    "    <ul>\n",
    "    <li> Which one is the correct one to use? \n",
    "    <li> What do you notice? What does this tell you about the difference in application of the $t$ and $z$ statistic?\n",
    "    </ul>\n",
    "<li>  At what temperature should we consider someone's temperature to be \"abnormal\"?\n",
    "    <ul>\n",
    "    <li> As in the previous example, try calculating everything using the boostrap approach, as well as the frequentist approach.\n",
    "    <li> Start by computing the margin of error and confidence interval. When calculating the confidence interval, keep in mind that you should use the appropriate formula for one draw, and not N draws.\n",
    "    </ul>\n",
    "<li>  Is there a significant difference between males and females in normal temperature?\n",
    "    <ul>\n",
    "    <li> What testing approach did you use and why?\n",
    "    <li> Write a story with your conclusion in the context of the original problem.\n",
    "    </ul>\n",
    "</ol>\n",
    "\n",
    "You can include written notes in notebook cells using Markdown: \n",
    "   - In the control panel at the top, choose Cell > Cell Type > Markdown\n",
    "   - Markdown syntax: http://nestacms.com/docs/creating-content/markdown-cheat-sheet\n",
    "\n",
    "#### Resources\n",
    "\n",
    "+ Information and data sources: http://www.amstat.org/publications/jse/datasets/normtemp.txt, http://www.amstat.org/publications/jse/jse_data_archive.htm\n",
    "+ Markdown syntax: http://nestacms.com/docs/creating-content/markdown-cheat-sheet\n",
    "\n",
    "****"
   ]
  },
  {
   "cell_type": "code",
   "execution_count": 1,
   "metadata": {},
   "outputs": [],
   "source": [
    "import pandas as pd\n",
    "import matplotlib.pyplot as plt\n",
    "import seaborn as sns\n",
    "import numpy as np\n",
    "import scipy.stats as stats\n",
    "import datetime as dt\n",
    "\n",
    "%matplotlib inline\n",
    "\n",
    "df = pd.read_csv('data/human_body_temperature.csv')"
   ]
  },
  {
   "cell_type": "code",
   "execution_count": 2,
   "metadata": {},
   "outputs": [
    {
     "data": {
      "text/html": [
       "<div>\n",
       "<style scoped>\n",
       "    .dataframe tbody tr th:only-of-type {\n",
       "        vertical-align: middle;\n",
       "    }\n",
       "\n",
       "    .dataframe tbody tr th {\n",
       "        vertical-align: top;\n",
       "    }\n",
       "\n",
       "    .dataframe thead th {\n",
       "        text-align: right;\n",
       "    }\n",
       "</style>\n",
       "<table border=\"1\" class=\"dataframe\">\n",
       "  <thead>\n",
       "    <tr style=\"text-align: right;\">\n",
       "      <th></th>\n",
       "      <th>temperature</th>\n",
       "      <th>gender</th>\n",
       "      <th>heart_rate</th>\n",
       "    </tr>\n",
       "  </thead>\n",
       "  <tbody>\n",
       "    <tr>\n",
       "      <th>0</th>\n",
       "      <td>99.3</td>\n",
       "      <td>F</td>\n",
       "      <td>68.0</td>\n",
       "    </tr>\n",
       "    <tr>\n",
       "      <th>1</th>\n",
       "      <td>98.4</td>\n",
       "      <td>F</td>\n",
       "      <td>81.0</td>\n",
       "    </tr>\n",
       "    <tr>\n",
       "      <th>2</th>\n",
       "      <td>97.8</td>\n",
       "      <td>M</td>\n",
       "      <td>73.0</td>\n",
       "    </tr>\n",
       "    <tr>\n",
       "      <th>3</th>\n",
       "      <td>99.2</td>\n",
       "      <td>F</td>\n",
       "      <td>66.0</td>\n",
       "    </tr>\n",
       "    <tr>\n",
       "      <th>4</th>\n",
       "      <td>98.0</td>\n",
       "      <td>F</td>\n",
       "      <td>73.0</td>\n",
       "    </tr>\n",
       "  </tbody>\n",
       "</table>\n",
       "</div>"
      ],
      "text/plain": [
       "   temperature gender  heart_rate\n",
       "0         99.3      F        68.0\n",
       "1         98.4      F        81.0\n",
       "2         97.8      M        73.0\n",
       "3         99.2      F        66.0\n",
       "4         98.0      F        73.0"
      ]
     },
     "execution_count": 2,
     "metadata": {},
     "output_type": "execute_result"
    }
   ],
   "source": [
    "# Your work here.\n",
    "df.head()"
   ]
  },
  {
   "cell_type": "code",
   "execution_count": 3,
   "metadata": {},
   "outputs": [
    {
     "data": {
      "image/png": "[encoded data removed]",
      "text/plain": [
       "<Figure size 432x288 with 1 Axes>"
      ]
     },
     "metadata": {
      "needs_background": "light"
     },
     "output_type": "display_data"
    }
   ],
   "source": [
    "_ = sns.swarmplot(x='gender', y='temperature',hue='gender', data=df )\n",
    "plt.xlabel('gender')\n",
    "plt.show()"
   ]
  },
  {
   "cell_type": "code",
   "execution_count": 4,
   "metadata": {},
   "outputs": [
    {
     "name": "stdout",
     "output_type": "stream",
     "text": [
      "96.3\n",
      "100.8\n",
      "0.4090909090909091\n",
      "98.24923076923078\n"
     ]
    }
   ],
   "source": [
    "print(df.temperature.min())\n",
    "print(df.temperature.max())\n",
    "print((df.temperature.max() - df.temperature.min()) / 11)\n",
    "print(df.temperature.mean())"
   ]
  },
  {
   "cell_type": "markdown",
   "metadata": {},
   "source": [
    "### Is the distribution of body temperatures normal?\n",
    "The short answer is: yes, pretty much! There is a slight skew to the left but nothing that should preclude the data from being considered normally distributed. \n",
    "\n",
    "Here are some [some quick and dirty ways](https://www.qimacros.com/histogram-excel/how-to-determine-histogram-bin-interval/) to determine the bin width and how many bins to use. Essentially, the number of bins is roughly determined to be the square root of the number of records. There are 130 records and the square root of 130 is about 11. The site actually says to ***round up*** regardless of the size of the decimal. Below there are two plots. One with 11 bins and the other with 12. Both are plotted to show that with either 11 or 12 bins the distribution is approximately normal.\n",
    "\n",
    "The bin width is determined by \"dividing the \\[...\\] (Max - Min) value by the # of bins.\" (100.8 - 96.3) / 11 is approximately 0.4. The same bin width was used for both the 11 bins and 12 bins.\n",
    "\n"
   ]
  },
  {
   "cell_type": "code",
   "execution_count": 5,
   "metadata": {},
   "outputs": [
    {
     "name": "stdout",
     "output_type": "stream",
     "text": [
      "2018-12-21 05:35:23.563701\n",
      "2018-12-21 05:35:24.490115\n"
     ]
    },
    {
     "data": {
      "image/png": "[encoded data removed]",
      "text/plain": [
       "<Figure size 864x432 with 2 Axes>"
      ]
     },
     "metadata": {
      "needs_background": "light"
     },
     "output_type": "display_data"
    }
   ],
   "source": [
    "# Is the distribution of body temperatures normal?\n",
    "print(dt.datetime.now())\n",
    "fig, axes = plt.subplots(nrows=1, ncols=2, figsize=(12,6))\n",
    "\n",
    "def mlist(start_n, increment, n):\n",
    "    llist = []\n",
    "    for i in range(n):\n",
    "        llist.append(start_n + (increment*i))\n",
    "    \n",
    "    return llist\n",
    "\n",
    "def hist_plots(dframe, b_edges, axx):\n",
    "    density = stats.gaussian_kde(dframe.temperature)\n",
    "    n_bins = len(b_edges)\n",
    "    n, x, _ = axes[axx].hist(dframe.temperature, bins=b_edges, density=True)\n",
    "    axes[axx].set_title(\"Histogram with \" +str(n_bins)+ \" bins\", size=16)\n",
    "    axes[axx].plot(x,density(x))\n",
    "    axes[axx].set_xlabel('temperature')\n",
    "    axes[axx].set_ylabel('density')\n",
    "    axes[axx].xaxis.label.set_fontsize(16)\n",
    "    axes[axx].yaxis.label.set_fontsize(16)\n",
    "    axes[axx].tick_params(axis = 'x', which = 'major', labelsize = 16)\n",
    "    axes[axx].tick_params(axis = 'y', which = 'major', labelsize = 16)\n",
    "    plt.tight_layout()\n",
    "    \n",
    "    return 0\n",
    "\n",
    "lbin = []\n",
    "lbin.append(mlist(96.0,.4,11))\n",
    "lbin.append(mlist(96.0,.4,12))\n",
    "\n",
    "for i in range(len(lbin)):\n",
    "    _ = hist_plots(df,lbin[i],i)\n",
    "print(dt.datetime.now())"
   ]
  },
  {
   "cell_type": "markdown",
   "metadata": {},
   "source": [
    "### Is the sample size large? Are the observations independent?\n",
    "* The number of records in the sample is 130. That easily exceeds the \"n is greater than or equal to 30\" condition for Normality. \n",
    "* The observations are independent because they most certainly do not exceed 10% of the entire population of humans. \n",
    "\n"
   ]
  },
  {
   "cell_type": "code",
   "execution_count": 6,
   "metadata": {},
   "outputs": [
    {
     "name": "stdout",
     "output_type": "stream",
     "text": [
      "(130, 3)\n"
     ]
    }
   ],
   "source": [
    "print(df.shape)"
   ]
  },
  {
   "cell_type": "markdown",
   "metadata": {},
   "source": [
    "### Is the true population mean really 98.6 degrees F?\n",
    "1. First, try a bootstrap hypothesis test.\n",
    "2. Now, let's try frequentist statistical testing. \n",
    "   * Would you use a one-sample or two-sample test? Why?\n",
    "   * In this situation, is it appropriate to use the  t  or  z  statistic?\n",
    "3. Now try using the other test. How is the result be different? Why?"
   ]
  },
  {
   "cell_type": "code",
   "execution_count": 7,
   "metadata": {},
   "outputs": [
    {
     "name": "stdout",
     "output_type": "stream",
     "text": [
      "98.28692307692307\n",
      "0.7459004327799396\n"
     ]
    }
   ],
   "source": [
    "bs_sample = np.random.choice(df.temperature, size=len(df))\n",
    "bs_sample[:5]\n",
    "print(np.mean(bs_sample))\n",
    "print(np.std(bs_sample))"
   ]
  },
  {
   "cell_type": "code",
   "execution_count": 8,
   "metadata": {},
   "outputs": [],
   "source": [
    "# Empirical cumulative distribution functions (ECDF)\n",
    "\n",
    "def ecdf(data):\n",
    "    \"\"\"Compute ECDF for a one-dimensional array of measurements.\"\"\"\n",
    "    # Number of data points: n\n",
    "    n = len(data)\n",
    "\n",
    "    # x-data for the ECDF: x\n",
    "    x = np.sort(data)\n",
    "\n",
    "    # y-data for the ECDF: y\n",
    "    y = np.arange(1, n+1) / n\n",
    "\n",
    "    return x, y\n"
   ]
  },
  {
   "cell_type": "code",
   "execution_count": 9,
   "metadata": {},
   "outputs": [
    {
     "data": {
      "image/png": "[encoded data removed]",
      "text/plain": [
       "<Figure size 864x432 with 1 Axes>"
      ]
     },
     "metadata": {
      "needs_background": "light"
     },
     "output_type": "display_data"
    }
   ],
   "source": [
    "# Compute ECDF for versicolor data: x_vers, y_vers\n",
    "fig, axes = plt.subplots(nrows=1, ncols=1, figsize=(12,6))\n",
    "\n",
    "x_temp, y_temp = ecdf(df.temperature)\n",
    "\n",
    "# Generate plot\n",
    "_ = plt.plot(x_temp, y_temp, marker='.', linestyle='none')\n",
    "\n",
    "# Label the axes\n",
    "_ = plt.xlabel('Body Temperatures')\n",
    "_ = plt.ylabel('ECDF')\n",
    "\n",
    "# Display the plot\n",
    "plt.show()"
   ]
  },
  {
   "cell_type": "code",
   "execution_count": 10,
   "metadata": {},
   "outputs": [],
   "source": [
    "def bootstrap_replicate_1d(data, func):\n",
    "    return func(np.random.choice(data, size=len(data)))\n",
    "\n",
    "def draw_bs_reps(data, func, size=1):\n",
    "    \"\"\"Draw bootstrap replicates.\"\"\"\n",
    "\n",
    "    # Initialize array of replicates: bs_replicates\n",
    "    bs_replicates = np.empty(size)\n",
    "\n",
    "    # Generate replicates\n",
    "    for i in range(size):\n",
    "        bs_replicates[i] = bootstrap_replicate_1d(data,func)\n",
    "\n",
    "    return bs_replicates\n",
    "\n",
    "def diff_from_wund(data,wund_value = 98.6):\n",
    "    return np.mean(data) - wund_value\n",
    "\n",
    "\n"
   ]
  },
  {
   "cell_type": "markdown",
   "metadata": {},
   "source": [
    "### Bootstrap Hypothesis Test\n",
    "**Null Hypothesis:** The true mean temperature of the human body is 98.6$^{\\circ}$F.\n",
    "\n",
    "**Alternative Hypothesis** The true mean temperature of the human body is not 98.6$^{\\circ}$F."
   ]
  },
  {
   "cell_type": "code",
   "execution_count": 11,
   "metadata": {},
   "outputs": [
    {
     "name": "stdout",
     "output_type": "stream",
     "text": [
      "the mean temp of the dataset:  98.24923076923078\n",
      "Wunderlich's mean:  98.6\n",
      "-0.35076923076921673\n",
      "observed difference:  -0.35076923076921673\n",
      "0    99.650769\n",
      "1    98.750769\n",
      "2    98.150769\n",
      "3    99.550769\n",
      "4    98.350769\n",
      "Name: temperature, dtype: float64\n",
      "[-0.00846154  0.00846154  0.01461538  0.00076923 -0.03615385]\n"
     ]
    },
    {
     "data": {
      "text/plain": [
       "0"
      ]
     },
     "execution_count": 11,
     "metadata": {},
     "output_type": "execute_result"
    }
   ],
   "source": [
    "temp_mean = np.mean(df.temperature)\n",
    "print('the mean temp of the dataset: ', temp_mean)\n",
    "\n",
    "Wunderlich_value = 98.6 # degrees Fahrenheit\n",
    "print('Wunderlich\\'s mean: ', Wunderlich_value)\n",
    "\n",
    "print(diff_from_wund(df.temperature))\n",
    "\n",
    "diff_observed = diff_from_wund(df.temperature)\n",
    "print(\"observed difference: \", diff_observed)\n",
    "# shift the dataset\n",
    "data_shifted = (df.temperature - temp_mean) + Wunderlich_value\n",
    "\n",
    "print(data_shifted[:5])\n",
    "\n",
    "boot_reps = draw_bs_reps(data_shifted, diff_from_wund, 100000)\n",
    "print(boot_reps[:5])\n",
    "p_value = np.sum(boot_reps <= diff_observed)\n",
    "p_value"
   ]
  },
  {
   "cell_type": "code",
   "execution_count": 53,
   "metadata": {},
   "outputs": [
    {
     "name": "stdout",
     "output_type": "stream",
     "text": [
      "2018-12-21 08:07:41.227333\n",
      "0.06405661469519336\n",
      "0.06405661469519337\n",
      "z score one:  5.475925202077007\n",
      "z score two:  -5.475925202077006\n",
      "t score one:  5.475925202077007\n",
      "t score two:  -5.475925202077006\n",
      "frequentist (z score) p_value one:  4.352315165909453e-08\n",
      "frequentist (z score) p_value two:  4.352315165909465e-08\n",
      "frequentist (t score) p_value one:  2.1887464624206398e-07\n",
      "frequentist (t score) p_value two:  2.188746462420644e-07\n",
      "[98.26230769 98.23461538 98.15307692 98.13230769 98.32769231]\n",
      "max value for bs_reps:  98.53769230769231\n",
      "[98.63384615 98.67461538 98.58076923 98.60538462 98.50615385]\n",
      "min value for bs_reps1:  98.3207692307692\n",
      "bootstrap one: no values greater than  98.59999999999992  in  100000 trials\n",
      "bootstrap two: no values less than  98.24923076923078  in  100000 trials\n",
      "2018-12-21 08:07:53.664879\n"
     ]
    },
    {
     "data": {
      "image/png": "[encoded data removed]",
      "text/plain": [
       "<Figure size 864x432 with 1 Axes>"
      ]
     },
     "metadata": {
      "needs_background": "light"
     },
     "output_type": "display_data"
    }
   ],
   "source": [
    "print(dt.datetime.now())\n",
    "\n",
    "# Compute ECDF for versicolor data: x_vers, y_vers\n",
    "fig, axes = plt.subplots(nrows=1, ncols=1, figsize=(12,6))\n",
    "\n",
    "x_temp, y_temp = ecdf(df.temperature)\n",
    "x_2, y_2 = ecdf(data_shifted)\n",
    "\n",
    "# Generate plot\n",
    "_ = plt.plot(x_temp, y_temp, marker='.', linestyle='none', color='b')\n",
    "_ = plt.plot(x_2, y_2, marker='.', linestyle='none', color='g')\n",
    "\n",
    "# Plot the means of both the original data set and the shifted data set\n",
    "_ = plt.axvline(x=temp_mean,color='b', linestyle='--', label='DataFrame Mean: 98.2' )\n",
    "#plt.annotate('DataFrame Mean: 98.2 ', \n",
    "#             xy=(98.25, 0.6),  \n",
    "#             xytext=(-145, -5),\n",
    "#             textcoords='offset points',\n",
    "#             arrowprops=dict(facecolor='blue' ))\n",
    "\n",
    "data_shifted_mean = np.mean(data_shifted)\n",
    "_ = plt.axvline(x=data_shifted_mean,color='g', linestyle='--',label='Wunderlich Mean: 98.6' )\n",
    "_ = plt.plot(98.6,0.46,'ko', markersize=10.0,mfc='none')\n",
    "_ = plt.plot(temp_mean,0.46,'ko',markersize=10.0,mfc='none')\n",
    "_ = plt.plot(98.6,0.46,'wo', markersize=8.0)\n",
    "_ = plt.plot(temp_mean,0.46,'wo',markersize=8.0)\n",
    "\n",
    "sem = np.std(df.temperature) / np.sqrt(len(df.temperature))\n",
    "print(sem)\n",
    "\n",
    "sem1 = np.std(data_shifted) / np.sqrt(len(data_shifted))\n",
    "print(sem1)\n",
    "\n",
    "z_scr = (data_shifted_mean - temp_mean) / sem\n",
    "z_scr1 = (temp_mean - data_shifted_mean) / sem1\n",
    "\n",
    "t_scr = (data_shifted_mean - temp_mean) / sem\n",
    "t_scr1 = (temp_mean - data_shifted_mean) / sem1\n",
    "\n",
    "n = df.shape[0]\n",
    "\n",
    "\n",
    "print('z score one: ',z_scr)\n",
    "print('z score two: ',z_scr1)\n",
    "\n",
    "print('t score one: ',t_scr)\n",
    "print('t score two: ',t_scr1)\n",
    "\n",
    "print('frequentist (z score) p_value one: ', stats.norm.sf(abs(z_scr))*2)\n",
    "print('frequentist (z score) p_value two: ', stats.norm.sf(abs(z_scr1))*2)\n",
    "\n",
    "print('frequentist (t score) p_value one: ', stats.t.sf(np.abs(t_scr), n-1)*2 )\n",
    "print('frequentist (t score) p_value two: ', stats.t.sf(np.abs(t_scr1), n-1)*2 )\n",
    "\n",
    "\n",
    "n_trails = int(1e5)\n",
    "\n",
    "bs_reps = draw_bs_reps(df.temperature,np.mean,n_trails)\n",
    "bs_reps1 = draw_bs_reps(data_shifted,np.mean,n_trails)\n",
    "\n",
    "print(bs_reps[:5])\n",
    "print('max value for bs_reps: ', np.max(bs_reps))\n",
    "print(bs_reps1[:5])\n",
    "print('min value for bs_reps1: ', np.min(bs_reps1))\n",
    "\n",
    "p_value = np.sum(bs_reps >= data_shifted_mean)\n",
    "p_value1 = np.sum(bs_reps1 <= temp_mean)\n",
    "\n",
    "if p_value == 0.0:\n",
    "    print('bootstrap one: no values greater than ', data_shifted_mean, ' in ', n_trails, 'trials')\n",
    "else:\n",
    "    print('bootstrap hypothesis p_value one: ', p_value / n_trails)\n",
    "    \n",
    "if p_value1 == 0.0:\n",
    "    print('bootstrap two: no values less than ', temp_mean, ' in ', n_trails, 'trials')\n",
    "else:\n",
    "    print('bootstrap hypothesis p_value two: ', p_value1 / n_trails)\n",
    "\n",
    "\n",
    "\n",
    "#plt.annotate(' Wunderlich Mean: 98.6 ', \n",
    "#             xy=(98.6, 0.375),  \n",
    "#             xytext=(25, -5),\n",
    "#             textcoords='offset points',\n",
    "#             arrowprops=dict(facecolor='green'))\n",
    "\n",
    "# Label the axes\n",
    "_ = plt.xlabel('Body Temperatures')\n",
    "_ = plt.ylabel('ECDF')\n",
    "\n",
    "print(dt.datetime.now())\n",
    "\n",
    "# Display the plot\n",
    "plt.legend(loc='upper left')\n",
    "plt.show()"
   ]
  },
  {
   "cell_type": "code",
   "execution_count": 13,
   "metadata": {},
   "outputs": [
    {
     "data": {
      "text/plain": [
       "98.59999999999992"
      ]
     },
     "execution_count": 13,
     "metadata": {},
     "output_type": "execute_result"
    }
   ],
   "source": [
    "np.mean(data_shifted)"
   ]
  },
  {
   "cell_type": "code",
   "execution_count": 52,
   "metadata": {},
   "outputs": [
    {
     "name": "stdout",
     "output_type": "stream",
     "text": [
      "0.43185645763378366\n",
      "0.1365650028374766\n",
      "z score one:  0.3473376334854326\n",
      "z score two:  -0.3473376334854326\n",
      "t score one:  1.0983780389067361\n",
      "t score two:  -1.0983780389067361\n",
      "frequentist (z score) p_value one:  0.7283376811669164\n",
      "frequentist (z score) p_value two:  0.7283376811669164\n",
      "frequentist (t score) p_value one:  0.2740852829291519\n",
      "frequentist (t score) p_value two:  0.2740852829291519\n"
     ]
    }
   ],
   "source": [
    "df_ten = np.random.choice(df.temperature,10)\n",
    "data_shifted_ten = np.random.choice(data_shifted,10)\n",
    "\n",
    "sem = np.std(df_ten)\n",
    "print(sem)\n",
    "\n",
    "sem1 = np.std(df_ten) / np.sqrt(len(df_ten))\n",
    "print(sem1)\n",
    "\n",
    "df_ten_mean = np.mean(df_ten)\n",
    "data_shifted_ten_mean = np.mean(data_shifted_ten)\n",
    "\n",
    "z_scr = (data_shifted_mean - df_ten_mean) / sem\n",
    "z_scr1 = (df_ten_mean - data_shifted_mean) / sem\n",
    "\n",
    "t_scr = (data_shifted_mean - df_ten_mean) / sem1\n",
    "t_scr1 = (df_ten_mean - data_shifted_mean) / sem1\n",
    "\n",
    "n = df.shape[0]\n",
    "print('z score one: ',z_scr)\n",
    "print('z score two: ',z_scr1)\n",
    "\n",
    "print('t score one: ',t_scr)\n",
    "print('t score two: ',t_scr1)\n",
    "\n",
    "print('frequentist (z score) p_value one: ', stats.norm.sf(abs(z_scr))*2)\n",
    "print('frequentist (z score) p_value two: ', stats.norm.sf(abs(z_scr1))*2)\n",
    "\n",
    "print('frequentist (t score) p_value one: ', stats.t.sf(np.abs(t_scr), n-1)*2 )\n",
    "print('frequentist (t score) p_value two: ', stats.t.sf(np.abs(t_scr1), n-1)*2 )\n"
   ]
  },
  {
   "cell_type": "code",
   "execution_count": null,
   "metadata": {},
   "outputs": [],
   "source": []
  },
  {
   "cell_type": "code",
   "execution_count": null,
   "metadata": {},
   "outputs": [],
   "source": []
  },
  {
   "cell_type": "code",
   "execution_count": null,
   "metadata": {},
   "outputs": [],
   "source": []
  },
  {
   "cell_type": "code",
   "execution_count": null,
   "metadata": {},
   "outputs": [],
   "source": []
  },
  {
   "cell_type": "code",
   "execution_count": null,
   "metadata": {},
   "outputs": [],
   "source": []
  },
  {
   "cell_type": "code",
   "execution_count": 14,
   "metadata": {},
   "outputs": [
    {
     "name": "stdout",
     "output_type": "stream",
     "text": [
      "98.24864592307694\n",
      "98.48461538461538\n",
      "97.9923076923077\n",
      "0.004923076923076764\n",
      "[97.9923076923077, 97.99723076923078, 98.00215384615386, 98.00707692307694, 98.01200000000001]\n",
      "95% CI:  [98.12230769 98.37230769]\n",
      "99% CI:  [98.08230769 98.41      ]\n",
      "0.06405661469519336\n",
      "0.06393568811963608\n"
     ]
    },
    {
     "data": {
      "image/png": "[encoded data removed]",
      "text/plain": [
       "<Figure size 864x432 with 1 Axes>"
      ]
     },
     "metadata": {
      "needs_background": "light"
     },
     "output_type": "display_data"
    }
   ],
   "source": [
    "fig, axes = plt.subplots(nrows=1, ncols=1, figsize=(12,6))\n",
    "\n",
    "# Take 10,000 bootstrap replicates of the mean: bs_replicates\n",
    "bs_replicates = draw_bs_reps(df.temperature,np.mean,10000)\n",
    "\n",
    "print(np.mean(bs_replicates))\n",
    "print(np.max(bs_replicates))\n",
    "print(np.min(bs_replicates))\n",
    "\n",
    "print((np.max(bs_replicates) - np.min(bs_replicates)) / np.sqrt(10000))\n",
    "\n",
    "bin_edges = mlist(np.min(bs_replicates),\\\n",
    "                 (np.max(bs_replicates) - np.min(bs_replicates)) / np.sqrt(10000), int(np.sqrt(10000)))\n",
    "\n",
    "print(bin_edges[:5])\n",
    "\n",
    "conf_int_95 = np.percentile(bs_replicates,[2.5,97.5])\n",
    "conf_int_99 = np.percentile(bs_replicates,[0.5,99.5])\n",
    "\n",
    "print('95% CI: ', str(conf_int_95))\n",
    "print('99% CI: ', str(conf_int_99))\n",
    "\n",
    "\n",
    "# Compute and print SEM\n",
    "sem = np.std(df.temperature) / np.sqrt(len(df.temperature))\n",
    "print(sem)\n",
    "\n",
    "# Compute and print standard deviation of bootstrap replicates\n",
    "bs_std = np.std(bs_replicates)\n",
    "print(bs_std)\n",
    "\n",
    "# Make a histogram of the results\n",
    "density = stats.gaussian_kde(bs_replicates)\n",
    "_, x, _ = plt.hist(bs_replicates, bins=bin_edges, density=True)\n",
    "_ = plt.plot(x,density(x))\n",
    "_ = plt.xlabel('mean body temperature (F)')\n",
    "_ = plt.ylabel('PDF')\n",
    "\n",
    "# Show the plot\n",
    "plt.show()"
   ]
  },
  {
   "cell_type": "markdown",
   "metadata": {},
   "source": [
    "### The true population mean does not seem to be 98.6 degrees F according to our bootstrap hypothesis. \n",
    "It looks like it's much closer to 98.2 degrees F. With an SEM and Standard Deviation of about 0.064 it would take at least 6 standard deviations or SEMs from the mean to include 98.6 degrees F in the confidence interval. That makes it highly unlikely that a mean temperature of 98.2 deg F would be recorded if the true population mean were 98.6. "
   ]
  },
  {
   "cell_type": "markdown",
   "metadata": {},
   "source": [
    "### Now, let's try frequentist statistical testing.\n",
    "1. Would you use a one-sample or two-sample test? Why?\n",
    "* In this situation, is it appropriate to use the t or z statistic?"
   ]
  },
  {
   "cell_type": "code",
   "execution_count": null,
   "metadata": {},
   "outputs": [],
   "source": []
  },
  {
   "cell_type": "code",
   "execution_count": 15,
   "metadata": {},
   "outputs": [],
   "source": [
    "# pairs bootstrap ..."
   ]
  }
 ],
 "metadata": {
  "kernelspec": {
   "display_name": "Python 3",
   "language": "python",
   "name": "python3"
  },
  "language_info": {
   "codemirror_mode": {
    "name": "ipython",
    "version": 3
   },
   "file_extension": ".py",
   "mimetype": "text/x-python",
   "name": "python",
   "nbconvert_exporter": "python",
   "pygments_lexer": "ipython3",
   "version": "3.7.0"
  }
 },
 "nbformat": 4,
 "nbformat_minor": 1
}
