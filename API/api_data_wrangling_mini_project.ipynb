{
 "cells": [
  {
   "cell_type": "markdown",
   "metadata": {},
   "source": [
    "This exercise will require you to pull some data from the Qunadl API. Qaundl is currently the most widely used aggregator of financial market data."
   ]
  },
  {
   "cell_type": "markdown",
   "metadata": {},
   "source": [
    "As a first step, you will need to register a free account on the http://www.quandl.com website."
   ]
  },
  {
   "cell_type": "markdown",
   "metadata": {},
   "source": [
    "After you register, you will be provided with a unique API key, that you should store:"
   ]
  },
  {
   "cell_type": "code",
   "execution_count": 5,
   "metadata": {
    "collapsed": false
   },
   "outputs": [],
   "source": [
    "import os\n",
    "import pandas as pd"
   ]
  },
  {
   "cell_type": "code",
   "execution_count": 4,
   "metadata": {
    "collapsed": false
   },
   "outputs": [],
   "source": [
    "# Store the API key as a string - according to PEP8, constants are always named in all upper case\n",
    "# created env var QUANDL and set it to key in .bash_profile \n",
    "API_KEY = os.environ['QUANDL']"
   ]
  },
  {
   "cell_type": "markdown",
   "metadata": {},
   "source": [
    "Qaundl has a large number of data sources, but, unfortunately, most of them require a Premium subscription. Still, there are also a good number of free datasets."
   ]
  },
  {
   "cell_type": "markdown",
   "metadata": {},
   "source": [
    "For this mini project, we will focus on equities data from the Frankfurt Stock Exhange (FSE), which is available for free. We'll try and analyze the stock prices of a company called Carl Zeiss Meditec, which manufactures tools for eye examinations, as well as medical lasers for laser eye surgery: https://www.zeiss.com/meditec/int/home.html. The company is listed under the stock ticker AFX_X."
   ]
  },
  {
   "cell_type": "markdown",
   "metadata": {},
   "source": [
    "You can find the detailed Quandl API instructions here: https://docs.quandl.com/docs/time-series"
   ]
  },
  {
   "cell_type": "markdown",
   "metadata": {},
   "source": [
    "While there is a dedicated Python package for connecting to the Quandl API, we would prefer that you use the *requests* package, which can be easily downloaded using *pip* or *conda*. You can find the documentation for the package here: http://docs.python-requests.org/en/master/ "
   ]
  },
  {
   "cell_type": "markdown",
   "metadata": {},
   "source": [
    "Finally, apart from the *requests* package, you are encouraged to not use any third party Python packages, such as *pandas*, and instead focus on what's available in the Python Standard Library (the *collections* module might come in handy: https://pymotw.com/3/collections/).\n",
    "Also, since you won't have access to DataFrames, you are encouraged to us Python's native data structures - preferably dictionaries, though some questions can also be answered using lists.\n",
    "You can read more on these data structures here: https://docs.python.org/3/tutorial/datastructures.html"
   ]
  },
  {
   "cell_type": "markdown",
   "metadata": {},
   "source": [
    "Keep in mind that the JSON responses you will be getting from the API map almost one-to-one to Python's dictionaries. Unfortunately, they can be very nested, so make sure you read up on indexing dictionaries in the documentation provided above."
   ]
  },
  {
   "cell_type": "code",
   "execution_count": 7,
   "metadata": {
    "collapsed": false
   },
   "outputs": [],
   "source": [
    "# First, import the relevant modules\n",
    "import requests\n"
   ]
  },
  {
   "cell_type": "code",
   "execution_count": null,
   "metadata": {
    "collapsed": true
   },
   "outputs": [],
   "source": [
    "# Now, call the Quandl API and pull out a small sample of the data (only one day) to get a glimpse\n",
    "# into the JSON structure that will be returned\n",
    "url='https://www.quandl.com/api/v3/datasets/FSE/AFX_X?start_date=2018-10-11&end_date=2018-10-11&api_key='\n",
    "r = requests.get(url+API_KEY)"
   ]
  },
  {
   "cell_type": "code",
   "execution_count": 36,
   "metadata": {
    "collapsed": false
   },
   "outputs": [
    {
     "name": "stdout",
     "output_type": "stream",
     "text": [
      "application/json; charset=utf-8\n",
      "[u'Date', u'Open', u'High', u'Low', u'Close', u'Change', u'Traded Volume', u'Turnover', u'Last Price of the Day', u'Daily Traded Units', u'Daily Turnover']\n"
     ]
    }
   ],
   "source": [
    "# Inspect the JSON structure of the object you created, and take note of how nested it is,\n",
    "# as well as the overall structure\n",
    "print r.headers['content-type']\n",
    "print r.json()['dataset']['column_names']"
   ]
  },
  {
   "cell_type": "markdown",
   "metadata": {},
   "source": [
    "These are your tasks for this mini project:\n",
    "\n",
    "1. Collect data from the Franfurt Stock Exchange, for the ticker AFX_X, for the whole year 2017 (keep in mind that the date format is YYYY-MM-DD).\n",
    "2. Convert the returned JSON object into a Python dictionary.\n",
    "3. Calculate what the highest and lowest opening prices were for the stock in this period.\n",
    "4. What was the largest change in any one day (based on High and Low price)?\n",
    "5. What was the largest change between any two days (based on Closing Price)?\n",
    "6. What was the average daily trading volume during this year?\n",
    "7. (Optional) What was the median trading volume during this year. (Note: you may need to implement your own function for calculating the median.)"
   ]
  },
  {
   "cell_type": "code",
   "execution_count": null,
   "metadata": {
    "collapsed": true
   },
   "outputs": [],
   "source": []
  },
  {
   "cell_type": "markdown",
   "metadata": {},
   "source": [
    "1) Collect data from the Franfurt Stock Exchange, for the ticker AFX_X, for the whole year 2017 (keep in mind that the date format is YYYY-MM-DD)."
   ]
  },
  {
   "cell_type": "code",
   "execution_count": 29,
   "metadata": {
    "collapsed": true
   },
   "outputs": [],
   "source": [
    "url='https://www.quandl.com/api/v3/datasets/FSE/AFX_X?start_date=2017-01-01&end_date=2017-12-31&api_key='\n",
    "r = requests.get(url+API_KEY)"
   ]
  },
  {
   "cell_type": "markdown",
   "metadata": {},
   "source": [
    "2) Convert the returned JSON object into a Python dictionary."
   ]
  },
  {
   "cell_type": "code",
   "execution_count": 37,
   "metadata": {
    "collapsed": false
   },
   "outputs": [
    {
     "data": {
      "text/plain": [
       "dict"
      ]
     },
     "execution_count": 37,
     "metadata": {},
     "output_type": "execute_result"
    }
   ],
   "source": [
    "afx_dict = r.json()\n",
    "type(afx_dict)"
   ]
  },
  {
   "cell_type": "markdown",
   "metadata": {},
   "source": [
    "3) Calculate what the highest and lowest opening prices were for the stock in this period.\n"
   ]
  },
  {
   "cell_type": "code",
   "execution_count": 69,
   "metadata": {
    "collapsed": false
   },
   "outputs": [
    {
     "name": "stdout",
     "output_type": "stream",
     "text": [
      "[51.76, 51.65, 51.45, 51.05, 51.16, 51.88, 52.73, 52.37, 52.7, 53.11]\n",
      "max opening price for AFX_X: 53.11\n",
      "min opening price for AFX_X: None\n",
      "min opening price with Nones removed: 34.0\n"
     ]
    }
   ],
   "source": [
    "ldate = [l[0] for l in afx_dict['dataset']['data']]\n",
    "lopen = [l[1] for l in afx_dict['dataset']['data']]\n",
    "print lopen[:10]\n",
    "print \"max opening price for AFX_X: \" + str(max(lopen))\n",
    "print \"min opening price for AFX_X: \" + str(min(lopen))\n",
    "lopen_no_nulls = a = list(filter(lambda x: x!= None, lopen))\n",
    "print \"min opening price with Nones removed: \" + str(min(lopen_no_nulls))"
   ]
  },
  {
   "cell_type": "markdown",
   "metadata": {},
   "source": [
    "4) What was the largest change in any one day (based on High and Low price)?"
   ]
  },
  {
   "cell_type": "code",
   "execution_count": 82,
   "metadata": {
    "collapsed": false
   },
   "outputs": [
    {
     "name": "stdout",
     "output_type": "stream",
     "text": [
      "largest one day diff in High/Low price: $2.81\n",
      "ditto:                                  $2.81\n"
     ]
    }
   ],
   "source": [
    "llow = [l[3] for l in afx_dict['dataset']['data']]\n",
    "lhigh = [l[2] for l in afx_dict['dataset']['data']]\n",
    "\n",
    "ldiff = []\n",
    "for i in range(len(llow)):\n",
    "    ldiff.append(lhigh[i]-llow[i])\n",
    "#print ldiff[:10]\n",
    "print \"largest one day diff in High/Low price: $\" + str(sorted(ldiff, reverse=True)[0])\n",
    "print \"ditto:                                  $\" + str(max(ldiff))"
   ]
  },
  {
   "cell_type": "markdown",
   "metadata": {},
   "source": [
    "5) What was the largest change between any two days (based on Closing Price)?\n"
   ]
  },
  {
   "cell_type": "code",
   "execution_count": 89,
   "metadata": {
    "collapsed": false
   },
   "outputs": [
    {
     "name": "stdout",
     "output_type": "stream",
     "text": [
      "[51.76, 51.6, 51.82, 51.32, 51.4, 51.27, 51.66, 52.62, 52.01, 52.67]\n",
      "[53.09, 52.67, 52.62, 52.43, 52.14, 52.12, 52.01, 51.82, 51.76, 51.66]\n",
      "the largest change between any 2 closing prices: $19.03\n",
      "ditto:                                           $19.03\n"
     ]
    }
   ],
   "source": [
    "lclose = [l[4] for l in afx_dict['dataset']['data']]\n",
    "print lclose[:10]\n",
    "lclose = sorted(lclose,reverse=True)\n",
    "print lclose[:10]\n",
    "print \"the largest change between any 2 closing prices: $\" + str(lclose[0] - lclose[-1])\n",
    "print \"ditto:                                           $\" + str(max(lclose) - min(lclose))"
   ]
  },
  {
   "cell_type": "markdown",
   "metadata": {},
   "source": [
    "6) What was the average daily trading volume during this year?\n"
   ]
  },
  {
   "cell_type": "code",
   "execution_count": 92,
   "metadata": {
    "collapsed": false
   },
   "outputs": [
    {
     "name": "stdout",
     "output_type": "stream",
     "text": [
      "[34640.0, 40660.0, 57452.0, 71165.0, 120649.0, 50587.0, 137313.0, 129733.0, 204080.0, 132981.0]\n",
      "Average daily trading volume for the year: 89124.3372549\n"
     ]
    }
   ],
   "source": [
    "tvol = [l[6] for l in afx_dict['dataset']['data']]\n",
    "print tvol[:10]\n",
    "print \"Average daily trading volume for the year: \" + str(sum(tvol)/ len(tvol))"
   ]
  },
  {
   "cell_type": "markdown",
   "metadata": {},
   "source": [
    "7)  (Optional) What was the median trading volume during this year. (Note: you may need to implement your own function for calculating the median.)"
   ]
  },
  {
   "cell_type": "code",
   "execution_count": 123,
   "metadata": {
    "collapsed": false
   },
   "outputs": [
    {
     "name": "stdout",
     "output_type": "stream",
     "text": [
      "255\n",
      "76286.0\n",
      "254\n",
      "75630.5\n",
      "median trading volume for 2017 was: 76286.0\n",
      "median trading volume for 2017 was: 75630.5\n"
     ]
    }
   ],
   "source": [
    "tvol = sorted(tvol)\n",
    "print len(tvol)\n",
    "\n",
    "def my_median(vlist):\n",
    "    if len(vlist) % 2 <> 0:\n",
    "        return vlist[int(len(vlist) / 2.0)]\n",
    "    else:\n",
    "        l = len(vlist)/2\n",
    "        return(vlist[l] + vlist[l-1]) / 2.0\n",
    "        \n",
    "print my_median(tvol)\n",
    "print len(tvol[:len(tvol)-1])\n",
    "t2 = tvol[:len(tvol)-1]\n",
    "print my_median(t2)\n",
    "\n",
    "t2[126:129]\n",
    "\n",
    "print \"median trading volume for 2017 was: \" + str(my_median(tvol))\n",
    "print \"median trading volume for 2017 was: \" + str(my_median(t2))"
   ]
  },
  {
   "cell_type": "code",
   "execution_count": null,
   "metadata": {
    "collapsed": true
   },
   "outputs": [],
   "source": []
  }
 ],
 "metadata": {
  "kernelspec": {
   "display_name": "Python 2",
   "language": "python",
   "name": "python2"
  },
  "language_info": {
   "codemirror_mode": {
    "name": "ipython",
    "version": 2
   },
   "file_extension": ".py",
   "mimetype": "text/x-python",
   "name": "python",
   "nbconvert_exporter": "python",
   "pygments_lexer": "ipython2",
   "version": "2.7.11"
  }
 },
 "nbformat": 4,
 "nbformat_minor": 2
}
