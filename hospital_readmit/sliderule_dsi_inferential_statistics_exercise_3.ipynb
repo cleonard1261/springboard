{
 "cells": [
  {
   "cell_type": "markdown",
   "metadata": {},
   "source": [
    "# Hospital Readmissions Data Analysis and Recommendations for Reduction\n",
    "\n",
    "### Background\n",
    "In October 2012, the US government's Center for Medicare and Medicaid Services (CMS) began reducing Medicare payments for Inpatient Prospective Payment System hospitals with excess readmissions. Excess readmissions are measured by a ratio, by dividing a hospital’s number of “predicted” 30-day readmissions for heart attack, heart failure, and pneumonia by the number that would be “expected,” based on an average hospital with similar patients. A ratio greater than 1 indicates excess readmissions.\n",
    "\n",
    "### Exercise Directions\n",
    "\n",
    "In this exercise, you will:\n",
    "+ critique a preliminary analysis of readmissions data and recommendations (provided below) for reducing the readmissions rate\n",
    "+ construct a statistically sound analysis and make recommendations of your own \n",
    "\n",
    "More instructions provided below. Include your work **in this notebook and submit to your Github account**. \n",
    "\n",
    "### Resources\n",
    "+ Data source: https://data.medicare.gov/Hospital-Compare/Hospital-Readmission-Reduction/9n3s-kdb3\n",
    "+ More information: http://www.cms.gov/Medicare/medicare-fee-for-service-payment/acuteinpatientPPS/readmissions-reduction-program.html\n",
    "+ Markdown syntax: http://nestacms.com/docs/creating-content/markdown-cheat-sheet\n",
    "****"
   ]
  },
  {
   "cell_type": "code",
   "execution_count": null,
   "metadata": {},
   "outputs": [],
   "source": [
    "%matplotlib inline\n",
    "\n",
    "import pandas as pd\n",
    "import numpy as np\n",
    "import matplotlib.pyplot as plt\n",
    "import seaborn as sns\n",
    "import bokeh.plotting as bkp\n",
    "import scipy.stats as stats\n",
    "import warnings\n",
    "import datetime as dt\n",
    "from mpl_toolkits.axes_grid1 import make_axes_locatable"
   ]
  },
  {
   "cell_type": "code",
   "execution_count": null,
   "metadata": {},
   "outputs": [],
   "source": [
    "# read in readmissions data provided\n",
    "hospital_read_df = pd.read_csv('data/cms_hospital_readmissions.csv')"
   ]
  },
  {
   "cell_type": "markdown",
   "metadata": {},
   "source": [
    "****\n",
    "## Preliminary Analysis"
   ]
  },
  {
   "cell_type": "code",
   "execution_count": null,
   "metadata": {},
   "outputs": [],
   "source": [
    "# deal with missing and inconvenient portions of data \n",
    "clean_hospital_read_df = hospital_read_df[hospital_read_df['Number of Discharges'] != 'Not Available']\n",
    "clean_hospital_read_df.loc[:, 'Number of Discharges'] = clean_hospital_read_df['Number of Discharges'].astype(int)\n",
    "clean_hospital_read_df = clean_hospital_read_df.sort_values('Number of Discharges')"
   ]
  },
  {
   "cell_type": "code",
   "execution_count": null,
   "metadata": {},
   "outputs": [],
   "source": [
    "# generate a scatterplot for number of discharges vs. excess rate of readmissions\n",
    "# lists work better with matplotlib scatterplot function\n",
    "x = [a for a in clean_hospital_read_df['Number of Discharges'][81:-3]]\n",
    "y = list(clean_hospital_read_df['Excess Readmission Ratio'][81:-3])\n",
    "\n",
    "fig, ax = plt.subplots(figsize=(8,5))\n",
    "ax.scatter(x, y,alpha=0.2)\n",
    "\n",
    "ax.fill_between([0,350], 1.15, 2, facecolor='red', alpha = .15, interpolate=True)\n",
    "ax.fill_between([800,2500], .5, .95, facecolor='green', alpha = .15, interpolate=True)\n",
    "\n",
    "ax.set_xlim([0, max(x)])\n",
    "ax.set_xlabel('Number of discharges', fontsize=12)\n",
    "ax.set_ylabel('Excess rate of readmissions', fontsize=12)\n",
    "ax.set_title('Scatterplot of number of discharges vs. excess rate of readmissions', fontsize=14)\n",
    "\n",
    "ax.grid(True)\n",
    "fig.tight_layout()"
   ]
  },
  {
   "cell_type": "code",
   "execution_count": null,
   "metadata": {},
   "outputs": [],
   "source": [
    "clean_hospital_read_df.head()"
   ]
  },
  {
   "cell_type": "code",
   "execution_count": null,
   "metadata": {},
   "outputs": [],
   "source": [
    "clean_hospital_read_df = pd.concat([clean_hospital_read_df, pd.get_dummies( clean_hospital_read_df['Measure Name'])],\\\n",
    "          sort=False, axis=1).drop(['Measure Name'], axis=1)"
   ]
  },
  {
   "cell_type": "code",
   "execution_count": null,
   "metadata": {},
   "outputs": [],
   "source": [
    "clean_hospital_read_df.columns"
   ]
  },
  {
   "cell_type": "code",
   "execution_count": null,
   "metadata": {},
   "outputs": [],
   "source": [
    "notnull_idx = clean_hospital_read_df['Excess Readmission Ratio'].isnull() == False"
   ]
  },
  {
   "cell_type": "code",
   "execution_count": null,
   "metadata": {},
   "outputs": [],
   "source": [
    "cols = ['Number of Discharges','Excess Readmission Ratio', 'Predicted Readmission Rate',\n",
    "       'Expected Readmission Rate', 'Number of Readmissions', 'Start Date',\n",
    "       'End Date', 'READM-30-AMI-HRRP', 'READM-30-COPD-HRRP',\n",
    "       'READM-30-HF-HRRP', 'READM-30-HIP-KNEE-HRRP', 'READM-30-PN-HRRP']\n",
    "df_not_null = clean_hospital_read_df.loc[notnull_idx,cols].copy()\n",
    "df_not_null.loc[:,'End Date'] = df_not_null.loc[:,'End Date'].apply(lambda x: dt.datetime.strptime(x,'%m/%d/%Y'))\n",
    "df_not_null.loc[:,'Start Date'] = df_not_null.loc[:,'Start Date'].apply(lambda x: dt.datetime.strptime(x,'%m/%d/%Y'))\n",
    "df_not_null['LengthOfStayInDays'] = df_not_null.apply(lambda row: (row['End Date'] - row['Start Date']).days, axis=1)\n",
    "df_not_null.head()"
   ]
  },
  {
   "cell_type": "code",
   "execution_count": null,
   "metadata": {},
   "outputs": [],
   "source": [
    "df_not_null['Start Date'].value_counts()"
   ]
  },
  {
   "cell_type": "code",
   "execution_count": null,
   "metadata": {},
   "outputs": [],
   "source": [
    "np.corrcoef(df_not_null[['LengthOfStayInDays', 'LengthOfStayInDays']].T)[0]"
   ]
  },
  {
   "cell_type": "code",
   "execution_count": null,
   "metadata": {},
   "outputs": [],
   "source": [
    "cols1 = ['Number of Discharges','Excess Readmission Ratio', 'Predicted Readmission Rate',\n",
    "       'Expected Readmission Rate', 'Number of Readmissions', 'READM-30-AMI-HRRP', 'READM-30-COPD-HRRP',\n",
    "       'READM-30-HF-HRRP', 'READM-30-HIP-KNEE-HRRP', 'READM-30-PN-HRRP']\n",
    "\n",
    "\n",
    "cov_mat = np.corrcoef(df_not_null[cols1].T)\n",
    "cov_mat[0]"
   ]
  },
  {
   "cell_type": "code",
   "execution_count": null,
   "metadata": {},
   "outputs": [],
   "source": [
    "colz = ['NumOfDischarges       ', 'ExcessReadmissRatio ', 'PredictReadmissRate   ', 'ExpectedReadmRate    ',\n",
    "        'NumbOfReadmissions    ', 'READM-30-AMI-HRRP   ', 'READM-30-COPD-HRRP    ', 'READM-30-HF-HRRP     ', \n",
    "        'READM-30-HIP-KNEE-HRRP', 'READM-30-PN-HRRP    ']\n",
    "\n",
    "def format_cov(mat,columns):\n",
    "    for i in range(len(columns)):\n",
    "        c = columns[i][:20] + ': \\t' + '\\t' * i\n",
    "        for a in mat[i][i:]:\n",
    "            val = str(round(a,4))\n",
    "            if a > 0.0:\n",
    "                c =  c + ' '+ (val+ '000')[:6] + ' '\n",
    "            else:\n",
    "                c = c + (val+ '000')[:7] + ' '\n",
    "        #print(len(c))  #len is 92\n",
    "        print(c)\n",
    "        \n",
    "format_cov(cov_mat,colz)"
   ]
  },
  {
   "cell_type": "code",
   "execution_count": null,
   "metadata": {},
   "outputs": [],
   "source": [
    "print(cols1)"
   ]
  },
  {
   "cell_type": "code",
   "execution_count": null,
   "metadata": {},
   "outputs": [],
   "source": [
    "colls = ['Number of Discharges','Excess Readmission Ratio', 'Predicted Readmission Rate',\n",
    "       'Expected Readmission Rate', 'Number of Readmissions']\n",
    "\n",
    "df_new = pd.concat([clean_hospital_read_df.loc[notnull_idx,colls], \\\n",
    "                    pd.get_dummies( clean_hospital_read_df.loc[notnull_idx,'State'])],\\\n",
    "          sort=False, axis=1)\n",
    "\n",
    "df_new.head()"
   ]
  },
  {
   "cell_type": "code",
   "execution_count": null,
   "metadata": {},
   "outputs": [],
   "source": [
    "st_list = []\n",
    "for st in set(clean_hospital_read_df.State.values):\n",
    "    corr_mat = np.corrcoef(df_new[['Excess Readmission Ratio','Number of Discharges',\\\n",
    "                                   'Number of Readmissions', st ]].T)\n",
    "    st_list.append((corr_mat[0][3], st))\n",
    "sorted(st_list, reverse=True)[:5]"
   ]
  },
  {
   "cell_type": "code",
   "execution_count": null,
   "metadata": {},
   "outputs": [],
   "source": [
    "df_new['AK'].isnull().any()"
   ]
  },
  {
   "cell_type": "code",
   "execution_count": null,
   "metadata": {},
   "outputs": [],
   "source": []
  },
  {
   "cell_type": "code",
   "execution_count": null,
   "metadata": {},
   "outputs": [],
   "source": []
  },
  {
   "cell_type": "code",
   "execution_count": null,
   "metadata": {},
   "outputs": [],
   "source": [
    "_ = sns.pairplot(df_not_null[cols1])"
   ]
  },
  {
   "cell_type": "markdown",
   "metadata": {},
   "source": [
    "****\n",
    "\n",
    "## Preliminary Report\n",
    "\n",
    "Read the following results/report. While you are reading it, think about if the conclusions are correct, incorrect, misleading or unfounded. Think about what you would change or what additional analyses you would perform.\n",
    "\n",
    "**A. Initial observations based on the plot above**\n",
    "+ Overall, rate of readmissions is trending down with increasing number of discharges\n",
    "+ With lower number of discharges, there is a greater incidence of excess rate of readmissions (area shaded red)\n",
    "+ With higher number of discharges, there is a greater incidence of lower rates of readmissions (area shaded green) \n",
    "\n",
    "**B. Statistics**\n",
    "+ In hospitals/facilities with number of discharges < 100, mean excess readmission rate is 1.023 and 63% have excess readmission rate greater than 1 \n",
    "+ In hospitals/facilities with number of discharges > 1000, mean excess readmission rate is 0.978 and 44% have excess readmission rate greater than 1 \n",
    "\n",
    "**C. Conclusions**\n",
    "+ There is a significant correlation between hospital capacity (number of discharges) and readmission rates. \n",
    "+ Smaller hospitals/facilities may be lacking necessary resources to ensure quality care and prevent complications that lead to readmissions.\n",
    "\n",
    "**D. Regulatory policy recommendations**\n",
    "+ Hospitals/facilties with small capacity (< 300) should be required to demonstrate upgraded resource allocation for quality care to continue operation.\n",
    "+ Directives and incentives should be provided for consolidation of hospitals and facilities to have a smaller number of them with higher capacity and number of discharges."
   ]
  },
  {
   "cell_type": "code",
   "execution_count": null,
   "metadata": {},
   "outputs": [],
   "source": [
    "lt_100_idx = df_new.loc[df_new['Number of Discharges'] < 100, :].index\n",
    "gt_1000_idx = df_new.loc[df_new['Number of Discharges'] > 1000, :].index\n",
    "total_lt100 = df_new.loc[lt_100_idx, 'Excess Readmission Ratio'].count()\n",
    "total_gt1000 = df_new.loc[gt_1000_idx, 'Excess Readmission Ratio'].count()\n",
    "mu_lt_100 = df_new.loc[lt_100_idx, 'Excess Readmission Ratio'].mean()\n",
    "print('Mean Excess Readmission Rate for Number of Discharges < 100:',mu_lt_100)\n",
    "pct_lt_100 = round((np.sum(df_new.loc[lt_100_idx, 'Excess Readmission Ratio'] > 1.0) / total_lt100)*100)\n",
    "print('Percent of hospitals w\\# of Discharges < 100 that have Excess Readmission Rate > 1.0:',pct_lt_100)\n",
    "print('Mean Excess Readmission Rate for Number of Discharges > 1000:',\\\n",
    "      df_new.loc[gt_1000_idx, 'Excess Readmission Ratio'].mean())\n",
    "print('Percent of hospitals w\\# of Discharges > 1000 that have Excess Readmission Rate > 1.0:',\\\n",
    "      round((np.sum(df_new.loc[gt_1000_idx, 'Excess Readmission Ratio'] > 1.0) / total_gt1000)*100))\n",
    "df_new['Excess Readmission Ratio'].mean()"
   ]
  },
  {
   "cell_type": "code",
   "execution_count": null,
   "metadata": {},
   "outputs": [],
   "source": [
    "df_new.shape[0]"
   ]
  },
  {
   "cell_type": "code",
   "execution_count": null,
   "metadata": {},
   "outputs": [],
   "source": [
    "t_df = (df_new.loc[lt_100_idx, 'Excess Readmission Ratio'] > 1.0)\n",
    "all_gt_1 = (df_new.loc[:, 'Excess Readmission Ratio'] > 1.0)\n",
    "percent_above_1_total = round((all_gt_1.sum() / len(all_gt_1)),2)\n",
    "print(percent_above_1_total)\n",
    "pct_std = percent_above_1_total*(1-percent_above_1_total)\n",
    "print('pct_std', pct_std)\n",
    "pct_sem = pct_std / np.sqrt(len(all_gt_1))\n",
    "print(pct_sem)\n",
    "print(df_new.loc[t_df.values, 'Excess Readmission Ratio'].mean())\n",
    "print(df_new.loc[t_df.index, 'Excess Readmission Ratio'].mean())\n",
    "total_mu = df_new.loc[:, 'Excess Readmission Ratio'].mean()\n",
    "total_std = df_new.loc[:, 'Excess Readmission Ratio'].std()\n",
    "total_sem = total_std / np.sqrt(int(df_new.shape[0]))\n",
    "print(total_mu)\n",
    "print(total_std)\n",
    "print(total_sem)"
   ]
  },
  {
   "cell_type": "code",
   "execution_count": null,
   "metadata": {},
   "outputs": [],
   "source": [
    "print(total_mu + 3*total_sem)\n",
    "print(total_mu + 3*total_std)\n",
    "tstat = (mu_lt_100 - total_mu)/total_sem\n",
    "print(tstat)\n",
    "print((mu_lt_100 - total_mu)/total_std)\n",
    "print(stats.t.sf(np.abs(tstat), df_new.shape[0]-1)*2)\n",
    "print(stats.t.ppf(0.01, df_new.shape[0]-1))"
   ]
  },
  {
   "cell_type": "code",
   "execution_count": null,
   "metadata": {},
   "outputs": [],
   "source": [
    "moe = total_mu + 3*total_sem\n",
    "print('moe:',moe)\n",
    "d_array = df_new.loc[lt_100_idx,'Excess Readmission Ratio'] > moe\n",
    "df_new.loc[d_array.values,'Excess Readmission Ratio'].count()"
   ]
  },
  {
   "cell_type": "code",
   "execution_count": null,
   "metadata": {},
   "outputs": [],
   "source": [
    "df_new.columns"
   ]
  },
  {
   "cell_type": "markdown",
   "metadata": {},
   "source": [
    "****\n",
    "### Exercise\n",
    "\n",
    "Include your work on the following **in this notebook and submit to your Github account**. \n",
    "\n",
    "A. Do you agree with the above analysis and recommendations? Why or why not?\n",
    "   \n",
    "B. Provide support for your arguments and your own recommendations with a statistically sound analysis:\n",
    "\n",
    "   1. Setup an appropriate hypothesis test.\n",
    "   2. Compute and report the observed significance value (or p-value).\n",
    "   3. Report statistical significance for $\\alpha$ = .01. \n",
    "   4. Discuss statistical significance and practical significance. Do they differ here? How does this change your recommendation to the client?\n",
    "   5. Look at the scatterplot above. \n",
    "      - What are the advantages and disadvantages of using this plot to convey information?\n",
    "      - Construct another plot that conveys the same information in a more direct manner.\n",
    "\n",
    "\n",
    "\n",
    "You can compose in notebook cells using Markdown: \n",
    "+ In the control panel at the top, choose Cell > Cell Type > Markdown\n",
    "+ Markdown syntax: http://nestacms.com/docs/creating-content/markdown-cheat-sheet\n",
    "****"
   ]
  },
  {
   "cell_type": "code",
   "execution_count": null,
   "metadata": {},
   "outputs": [],
   "source": [
    "# Your turn"
   ]
  },
  {
   "cell_type": "code",
   "execution_count": null,
   "metadata": {},
   "outputs": [],
   "source": []
  }
 ],
 "metadata": {
  "anaconda-cloud": {},
  "kernelspec": {
   "display_name": "Python 3",
   "language": "python",
   "name": "python3"
  },
  "language_info": {
   "codemirror_mode": {
    "name": "ipython",
    "version": 3
   },
   "file_extension": ".py",
   "mimetype": "text/x-python",
   "name": "python",
   "nbconvert_exporter": "python",
   "pygments_lexer": "ipython3",
   "version": "3.7.0"
  }
 },
 "nbformat": 4,
 "nbformat_minor": 1
}
