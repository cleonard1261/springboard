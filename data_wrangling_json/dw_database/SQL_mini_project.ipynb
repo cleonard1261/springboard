{
 "cells": [
  {
   "cell_type": "code",
   "execution_count": 57,
   "metadata": {
    "collapsed": false
   },
   "outputs": [],
   "source": [
    "import MySQLdb\n",
    "import pandas as pd"
   ]
  },
  {
   "cell_type": "code",
   "execution_count": 3,
   "metadata": {
    "collapsed": false
   },
   "outputs": [
    {
     "name": "stdout",
     "output_type": "stream",
     "text": [
      "/Users/chadleonard/miniconda2/envs/tutorial/bin/python\r\n"
     ]
    }
   ],
   "source": [
    "# used to find out which python jupyter uses.\n",
    "!which python"
   ]
  },
  {
   "cell_type": "code",
   "execution_count": 156,
   "metadata": {
    "collapsed": false
   },
   "outputs": [
    {
     "name": "stdout",
     "output_type": "stream",
     "text": [
      "['facid', 'name', 'membercost', 'guestcost', 'initialoutlay', 'monthlymaintenance']\n",
      "['bookid', 'facid', 'memid', 'starttime', 'slots']\n",
      "['memid', 'surname', 'firstname', 'address', 'zipcode', 'telephone', 'recommendedby', 'joindate']\n"
     ]
    }
   ],
   "source": [
    "db = MySQLdb.connect(\n",
    "                 host=\"localhost\", \n",
    "                 user=\"root\", \n",
    "                 passwd=\"mysqlpassword@2018\", \n",
    "                 db=\"country_club\" \n",
    "               )\n",
    "cursor = db.cursor()\n",
    "cols_sql = \"SELECT COLUMN_NAME FROM INFORMATION_SCHEMA.COLUMNS WHERE table_name = 'facilities' \\\n",
    "      order by ordinal_position \";\n",
    "cursor.execute(cols_sql)\n",
    "cols_fac = [col[0] for col in cursor.fetchall()]\n",
    "print cols_fac\n",
    "\n",
    "cols_sql = \"SELECT COLUMN_NAME FROM INFORMATION_SCHEMA.COLUMNS WHERE table_name = 'bookings' \\\n",
    "      order by ordinal_position \";\n",
    "cursor.execute(cols_sql)\n",
    "cols_book = [col[0] for col in cursor.fetchall()]\n",
    "print cols_book\n",
    "\n",
    "cols_sql = \"SELECT COLUMN_NAME FROM INFORMATION_SCHEMA.COLUMNS WHERE table_name = 'members' \\\n",
    "      order by ordinal_position \";\n",
    "cursor.execute(cols_sql)\n",
    "cols_mem = [col[0] for col in cursor.fetchall()]\n",
    "print cols_mem"
   ]
  },
  {
   "cell_type": "markdown",
   "metadata": {},
   "source": [
    "Q1: Some of the facilities charge a fee to members, but some do not.\n",
    "Please list the names of the facilities that do."
   ]
  },
  {
   "cell_type": "code",
   "execution_count": 148,
   "metadata": {
    "collapsed": false
   },
   "outputs": [
    {
     "name": "stdout",
     "output_type": "stream",
     "text": [
      "['Tennis Court 1' 'Tennis Court 2' 'Massage Room 1' 'Massage Room 2'\n",
      " 'Squash Court']\n"
     ]
    }
   ],
   "source": [
    "sql = \"select * from facilities where membercost > 0.0\";\n",
    "\n",
    "cursor.execute(sql)\n",
    "df_fac = pd.DataFrame([col for col in cursor.fetchall()], columns=cols_fac)\n",
    "print df_fac['name'].values\n"
   ]
  },
  {
   "cell_type": "markdown",
   "metadata": {},
   "source": [
    "Q2: How many facilities do not charge a fee to members? "
   ]
  },
  {
   "cell_type": "code",
   "execution_count": 146,
   "metadata": {
    "collapsed": false
   },
   "outputs": [
    {
     "data": {
      "text/plain": [
       "4"
      ]
     },
     "execution_count": 146,
     "metadata": {},
     "output_type": "execute_result"
    }
   ],
   "source": [
    "#cursor = db.cursor()\n",
    "sql = \"select count(*) from facilities where membercost = 0.0\";\n",
    "\n",
    "cursor.execute(sql)\n",
    "df_fac = pd.DataFrame([col for col in cursor.fetchall()], columns=['col_count'])\n",
    "df_fac['col_count'].values[0]\n"
   ]
  },
  {
   "cell_type": "markdown",
   "metadata": {},
   "source": [
    "Q3: How can you produce a list of facilities that charge a fee to members,\n",
    "where the fee is less than 20% of the facility's monthly maintenance cost?\n",
    "Return the facid, facility name, member cost, and monthly maintenance of the\n",
    "facilities in question."
   ]
  },
  {
   "cell_type": "code",
   "execution_count": 176,
   "metadata": {
    "collapsed": false
   },
   "outputs": [
    {
     "name": "stdout",
     "output_type": "stream",
     "text": [
      "   facid             name membercost  monthlymaintenance\n",
      "0      0   Tennis Court 1       5.00                 200\n",
      "1      1   Tennis Court 2       5.00                 200\n",
      "2      2  Badminton Court       0.00                  50\n",
      "3      3     Table Tennis       0.00                  10\n",
      "4      4   Massage Room 1       9.90                3000\n",
      "5      5   Massage Room 2       9.90                3000\n",
      "6      6     Squash Court       3.50                  80\n",
      "7      7    Snooker Table       0.00                  15\n",
      "8      8       Pool Table       0.00                  15\n"
     ]
    }
   ],
   "source": [
    "cols = ['facid', 'name', 'membercost', 'monthlymaintenance', 'm' ]\n",
    "sql = \"select facid, name, cast(membercost as decimal(4,2)) membercost, monthlymaintenance, \\\n",
    "            (.20 * monthlymaintenance ) m from facilities \\\n",
    "       where cast(membercost as decimal(4,2)) < (.20 * monthlymaintenance)\";\n",
    "\n",
    "cursor.execute(sql)\n",
    "#cursor.fetchall()\n",
    "df_fac = pd.DataFrame([col for col in cursor.fetchall()], columns=cols)\n",
    "print df_fac[cols[:4]]\n"
   ]
  },
  {
   "cell_type": "code",
   "execution_count": 69,
   "metadata": {
    "collapsed": false
   },
   "outputs": [
    {
     "name": "stdout",
     "output_type": "stream",
     "text": [
      "['bookid', 'facid', 'memid', 'starttime', 'slots']\n"
     ]
    },
    {
     "data": {
      "text/html": [
       "<div>\n",
       "<table border=\"1\" class=\"dataframe\">\n",
       "  <thead>\n",
       "    <tr style=\"text-align: right;\">\n",
       "      <th></th>\n",
       "      <th>bookid</th>\n",
       "      <th>facid</th>\n",
       "      <th>memid</th>\n",
       "      <th>starttime</th>\n",
       "      <th>slots</th>\n",
       "    </tr>\n",
       "  </thead>\n",
       "  <tbody>\n",
       "    <tr>\n",
       "      <th>0</th>\n",
       "      <td>0</td>\n",
       "      <td>3</td>\n",
       "      <td>1</td>\n",
       "      <td>2012-07-03 11:00:00</td>\n",
       "      <td>2</td>\n",
       "    </tr>\n",
       "    <tr>\n",
       "      <th>1</th>\n",
       "      <td>1</td>\n",
       "      <td>4</td>\n",
       "      <td>1</td>\n",
       "      <td>2012-07-03 08:00:00</td>\n",
       "      <td>2</td>\n",
       "    </tr>\n",
       "    <tr>\n",
       "      <th>2</th>\n",
       "      <td>2</td>\n",
       "      <td>6</td>\n",
       "      <td>0</td>\n",
       "      <td>2012-07-03 18:00:00</td>\n",
       "      <td>2</td>\n",
       "    </tr>\n",
       "    <tr>\n",
       "      <th>3</th>\n",
       "      <td>3</td>\n",
       "      <td>7</td>\n",
       "      <td>1</td>\n",
       "      <td>2012-07-03 19:00:00</td>\n",
       "      <td>2</td>\n",
       "    </tr>\n",
       "    <tr>\n",
       "      <th>4</th>\n",
       "      <td>4</td>\n",
       "      <td>8</td>\n",
       "      <td>1</td>\n",
       "      <td>2012-07-03 10:00:00</td>\n",
       "      <td>1</td>\n",
       "    </tr>\n",
       "  </tbody>\n",
       "</table>\n",
       "</div>"
      ],
      "text/plain": [
       "   bookid  facid  memid            starttime  slots\n",
       "0       0      3      1  2012-07-03 11:00:00      2\n",
       "1       1      4      1  2012-07-03 08:00:00      2\n",
       "2       2      6      0  2012-07-03 18:00:00      2\n",
       "3       3      7      1  2012-07-03 19:00:00      2\n",
       "4       4      8      1  2012-07-03 10:00:00      1"
      ]
     },
     "execution_count": 69,
     "metadata": {},
     "output_type": "execute_result"
    }
   ],
   "source": [
    "# booking\n",
    "\n",
    "ret_sql = \"select * from bookings\";\n",
    "\n",
    "cursor.execute(cols_sql)\n",
    "\n",
    "cols = [col[0] for col in cursor.fetchall()]\n",
    "\n",
    "print cols\n",
    "\n",
    "cursor.execute(ret_sql)\n",
    "df_bookings = pd.DataFrame([col for col in cursor.fetchall()], columns=cols)\n",
    "db.close()\n",
    "df_bookings.head()"
   ]
  },
  {
   "cell_type": "code",
   "execution_count": 66,
   "metadata": {
    "collapsed": false
   },
   "outputs": [
    {
     "name": "stdout",
     "output_type": "stream",
     "text": [
      "['bookid', 'facid', 'memid', 'starttime', 'slots']\n"
     ]
    },
    {
     "data": {
      "text/html": [
       "<div>\n",
       "<table border=\"1\" class=\"dataframe\">\n",
       "  <thead>\n",
       "    <tr style=\"text-align: right;\">\n",
       "      <th></th>\n",
       "      <th>bookid</th>\n",
       "      <th>facid</th>\n",
       "      <th>memid</th>\n",
       "      <th>starttime</th>\n",
       "      <th>slots</th>\n",
       "    </tr>\n",
       "  </thead>\n",
       "  <tbody>\n",
       "    <tr>\n",
       "      <th>0</th>\n",
       "      <td>0</td>\n",
       "      <td>3</td>\n",
       "      <td>1</td>\n",
       "      <td>2012-07-03 11:00:00</td>\n",
       "      <td>2</td>\n",
       "    </tr>\n",
       "    <tr>\n",
       "      <th>1</th>\n",
       "      <td>1</td>\n",
       "      <td>4</td>\n",
       "      <td>1</td>\n",
       "      <td>2012-07-03 08:00:00</td>\n",
       "      <td>2</td>\n",
       "    </tr>\n",
       "    <tr>\n",
       "      <th>2</th>\n",
       "      <td>2</td>\n",
       "      <td>6</td>\n",
       "      <td>0</td>\n",
       "      <td>2012-07-03 18:00:00</td>\n",
       "      <td>2</td>\n",
       "    </tr>\n",
       "    <tr>\n",
       "      <th>3</th>\n",
       "      <td>3</td>\n",
       "      <td>7</td>\n",
       "      <td>1</td>\n",
       "      <td>2012-07-03 19:00:00</td>\n",
       "      <td>2</td>\n",
       "    </tr>\n",
       "    <tr>\n",
       "      <th>4</th>\n",
       "      <td>4</td>\n",
       "      <td>8</td>\n",
       "      <td>1</td>\n",
       "      <td>2012-07-03 10:00:00</td>\n",
       "      <td>1</td>\n",
       "    </tr>\n",
       "  </tbody>\n",
       "</table>\n",
       "</div>"
      ],
      "text/plain": [
       "   bookid  facid  memid            starttime  slots\n",
       "0       0      3      1  2012-07-03 11:00:00      2\n",
       "1       1      4      1  2012-07-03 08:00:00      2\n",
       "2       2      6      0  2012-07-03 18:00:00      2\n",
       "3       3      7      1  2012-07-03 19:00:00      2\n",
       "4       4      8      1  2012-07-03 10:00:00      1"
      ]
     },
     "execution_count": 66,
     "metadata": {},
     "output_type": "execute_result"
    }
   ],
   "source": []
  },
  {
   "cell_type": "code",
   "execution_count": 68,
   "metadata": {
    "collapsed": false
   },
   "outputs": [
    {
     "name": "stdout",
     "output_type": "stream",
     "text": [
      "<class 'pandas.core.frame.DataFrame'>\n",
      "Int64Index: 4043 entries, 0 to 4042\n",
      "Data columns (total 5 columns):\n",
      "bookid       4043 non-null int64\n",
      "facid        4043 non-null int64\n",
      "memid        4043 non-null int64\n",
      "starttime    4043 non-null object\n",
      "slots        4043 non-null int64\n",
      "dtypes: int64(4), object(1)\n",
      "memory usage: 189.5+ KB\n"
     ]
    }
   ],
   "source": [
    "df.info()"
   ]
  },
  {
   "cell_type": "code",
   "execution_count": null,
   "metadata": {
    "collapsed": true
   },
   "outputs": [],
   "source": []
  }
 ],
 "metadata": {
  "kernelspec": {
   "display_name": "Python 2",
   "language": "python",
   "name": "python2"
  },
  "language_info": {
   "codemirror_mode": {
    "name": "ipython",
    "version": 2
   },
   "file_extension": ".py",
   "mimetype": "text/x-python",
   "name": "python",
   "nbconvert_exporter": "python",
   "pygments_lexer": "ipython2",
   "version": "2.7.11"
  }
 },
 "nbformat": 4,
 "nbformat_minor": 0
}
