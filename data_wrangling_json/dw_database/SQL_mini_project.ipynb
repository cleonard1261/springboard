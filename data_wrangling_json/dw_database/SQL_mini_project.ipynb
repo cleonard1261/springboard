{
 "cells": [
  {
   "cell_type": "code",
   "execution_count": 57,
   "metadata": {
    "collapsed": false
   },
   "outputs": [],
   "source": [
    "import MySQLdb\n",
    "import pandas as pd"
   ]
  },
  {
   "cell_type": "code",
   "execution_count": 3,
   "metadata": {
    "collapsed": false
   },
   "outputs": [
    {
     "name": "stdout",
     "output_type": "stream",
     "text": [
      "/Users/chadleonard/miniconda2/envs/tutorial/bin/python\r\n"
     ]
    }
   ],
   "source": [
    "# used to find out which python jupyter uses.\n",
    "!which python"
   ]
  },
  {
   "cell_type": "code",
   "execution_count": 236,
   "metadata": {
    "collapsed": false
   },
   "outputs": [
    {
     "name": "stdout",
     "output_type": "stream",
     "text": [
      "['facid', 'name', 'membercost', 'guestcost', 'initialoutlay', 'monthlymaintenance']\n",
      "['bookid', 'facid', 'memid', 'starttime', 'slots']\n",
      "['memid', 'surname', 'firstname', 'address', 'zipcode', 'telephone', 'recommendedby', 'joindate']\n"
     ]
    }
   ],
   "source": [
    "db = MySQLdb.connect(\n",
    "                 host=\"localhost\", \n",
    "                 user=\"root\", \n",
    "                 passwd=\"mysqlpassword@2018\", \n",
    "                 db=\"country_club\" \n",
    "               )\n",
    "cursor = db.cursor()\n",
    "cols_sql = \"SELECT COLUMN_NAME FROM INFORMATION_SCHEMA.COLUMNS WHERE table_name = 'facilities' \\\n",
    "      order by ordinal_position \";\n",
    "cursor.execute(cols_sql)\n",
    "cols_fac = [col[0] for col in cursor.fetchall()]\n",
    "print cols_fac\n",
    "\n",
    "cols_sql = \"SELECT COLUMN_NAME FROM INFORMATION_SCHEMA.COLUMNS WHERE table_name = 'bookings' \\\n",
    "      order by ordinal_position \";\n",
    "cursor.execute(cols_sql)\n",
    "cols_book = [col[0] for col in cursor.fetchall()]\n",
    "print cols_book\n",
    "\n",
    "cols_sql = \"SELECT COLUMN_NAME FROM INFORMATION_SCHEMA.COLUMNS WHERE table_name = 'members' \\\n",
    "      order by ordinal_position \";\n",
    "cursor.execute(cols_sql)\n",
    "cols_mem = [col[0] for col in cursor.fetchall()]\n",
    "print cols_mem"
   ]
  },
  {
   "cell_type": "markdown",
   "metadata": {},
   "source": [
    "Q1: Some of the facilities charge a fee to members, but some do not.\n",
    "Please list the names of the facilities that do."
   ]
  },
  {
   "cell_type": "code",
   "execution_count": 148,
   "metadata": {
    "collapsed": false
   },
   "outputs": [
    {
     "name": "stdout",
     "output_type": "stream",
     "text": [
      "['Tennis Court 1' 'Tennis Court 2' 'Massage Room 1' 'Massage Room 2'\n",
      " 'Squash Court']\n"
     ]
    }
   ],
   "source": [
    "sql = \"select * from facilities where membercost > 0.0\";\n",
    "\n",
    "cursor.execute(sql)\n",
    "df_fac = pd.DataFrame([col for col in cursor.fetchall()], columns=cols_fac)\n",
    "print df_fac['name'].values\n"
   ]
  },
  {
   "cell_type": "markdown",
   "metadata": {},
   "source": [
    "Q2: How many facilities do not charge a fee to members? "
   ]
  },
  {
   "cell_type": "code",
   "execution_count": 146,
   "metadata": {
    "collapsed": false
   },
   "outputs": [
    {
     "data": {
      "text/plain": [
       "4"
      ]
     },
     "execution_count": 146,
     "metadata": {},
     "output_type": "execute_result"
    }
   ],
   "source": [
    "sql = \"select count(*) from facilities where membercost = 0.0\";\n",
    "\n",
    "cursor.execute(sql)\n",
    "df_fac = pd.DataFrame([col for col in cursor.fetchall()], columns=['col_count'])\n",
    "df_fac['col_count'].values[0]\n"
   ]
  },
  {
   "cell_type": "markdown",
   "metadata": {},
   "source": [
    "Q3: How can you produce a list of facilities that charge a fee to members,\n",
    "where the fee is less than 20% of the facility's monthly maintenance cost?\n",
    "Return the facid, facility name, member cost, and monthly maintenance of the\n",
    "facilities in question."
   ]
  },
  {
   "cell_type": "code",
   "execution_count": 189,
   "metadata": {
    "collapsed": false
   },
   "outputs": [
    {
     "name": "stdout",
     "output_type": "stream",
     "text": [
      "   facid            name membercost  monthlymaintenance\n",
      "0      0  Tennis Court 1       5.00                 200\n",
      "1      1  Tennis Court 2       5.00                 200\n",
      "2      4  Massage Room 1       9.90                3000\n",
      "3      5  Massage Room 2       9.90                3000\n",
      "4      6    Squash Court       3.50                  80\n"
     ]
    }
   ],
   "source": [
    "cols = ['facid', 'name', 'membercost', 'monthlymaintenance' ]\n",
    "sql = \"select facid, name, membercost, monthlymaintenance \\\n",
    "       from ( \\\n",
    "                select facid \\\n",
    "                 , name \\\n",
    "                 , cast(membercost as decimal(4,2)) membercost \\\n",
    "                 , monthlymaintenance \\\n",
    "                 , (.20 * monthlymaintenance ) m \\\n",
    "                from facilities   \\\n",
    "            ) sub \\\n",
    "       where membercost < m and  membercost > 0\";\n",
    "\n",
    "cursor.execute(sql)\n",
    "df_fac = pd.DataFrame([col for col in cursor.fetchall()], columns=cols)\n",
    "print df_fac[cols]\n"
   ]
  },
  {
   "cell_type": "markdown",
   "metadata": {},
   "source": [
    "Q4: How can you retrieve the details of facilities with ID 1 and 5?\n",
    "Write the query without using the OR operator."
   ]
  },
  {
   "cell_type": "code",
   "execution_count": 179,
   "metadata": {
    "collapsed": false
   },
   "outputs": [
    {
     "name": "stdout",
     "output_type": "stream",
     "text": [
      "   facid            name membercost guestcost  initialoutlay  \\\n",
      "0      1  Tennis Court 2        5.0      25.0           8000   \n",
      "1      5  Massage Room 2        9.9      80.0           4000   \n",
      "\n",
      "   monthlymaintenance  \n",
      "0                 200  \n",
      "1                3000  \n"
     ]
    }
   ],
   "source": [
    "sql = \"select * from facilities where facid in (1,5)\";\n",
    "\n",
    "cursor.execute(sql)\n",
    "df_fac = pd.DataFrame([col for col in cursor.fetchall()], columns=cols_fac)\n",
    "print df_fac"
   ]
  },
  {
   "cell_type": "markdown",
   "metadata": {},
   "source": [
    "Q5: How can you produce a list of facilities, with each labelled as\n",
    "'cheap' or 'expensive', depending on if their monthly maintenance cost is\n",
    "more than $100? Return the name and monthly maintenance of the facilities\n",
    "in question. "
   ]
  },
  {
   "cell_type": "code",
   "execution_count": 258,
   "metadata": {
    "collapsed": false
   },
   "outputs": [
    {
     "name": "stdout",
     "output_type": "stream",
     "text": [
      "              name  monthlymaintenance   fac_type\n",
      "0   Tennis Court 1                 200  expensive\n",
      "1   Tennis Court 2                 200  expensive\n",
      "2  Badminton Court                  50      cheap\n",
      "3     Table Tennis                  10      cheap\n",
      "4   Massage Room 1                3000  expensive\n",
      "5   Massage Room 2                3000  expensive\n",
      "6     Squash Court                  80      cheap\n",
      "7    Snooker Table                  15      cheap\n",
      "8       Pool Table                  15      cheap\n"
     ]
    }
   ],
   "source": [
    "sql = \"select  name \\\n",
    "         ,  monthlymaintenance \\\n",
    "         ,  CASE \\\n",
    "               WHEN monthlymaintenance >  100 THEN 'expensive' \\\n",
    "               ELSE 'cheap' \\\n",
    "            END AS fac_type \\\n",
    "        from facilities \";\n",
    "\n",
    "cursor.execute(sql)\n",
    "df_fac = pd.DataFrame([col for col in cursor.fetchall()], columns=['name', 'monthlymaintenance', 'fac_type'])\n",
    "print df_fac"
   ]
  },
  {
   "cell_type": "markdown",
   "metadata": {},
   "source": [
    "Q6: You'd like to get the first and last name of the last member(s)\n",
    "who signed up. Do not use the LIMIT clause for your solution."
   ]
  },
  {
   "cell_type": "code",
   "execution_count": 199,
   "metadata": {
    "collapsed": false
   },
   "outputs": [
    {
     "name": "stdout",
     "output_type": "stream",
     "text": [
      "  firstname surname\n",
      "0    Darren   Smith\n"
     ]
    }
   ],
   "source": [
    "sql = 'select firstname \\\n",
    "              , surname  \\\n",
    "          from members \\\n",
    "          where joindate = (select max(joindate) from members)'\n",
    "\n",
    "cursor.execute(sql)\n",
    "df_mem = pd.DataFrame([col for col in cursor.fetchall()], columns=['firstname', 'surname' ])\n",
    "print df_mem"
   ]
  },
  {
   "cell_type": "markdown",
   "metadata": {},
   "source": [
    "Q7: How can you produce a list of all members who have used a tennis court?\n",
    "Include in your output the name of the court, and the name of the member\n",
    "formatted as a single column. Ensure no duplicate data, and order by\n",
    "the member name. "
   ]
  },
  {
   "cell_type": "code",
   "execution_count": 224,
   "metadata": {
    "collapsed": false
   },
   "outputs": [
    {
     "name": "stdout",
     "output_type": "stream",
     "text": [
      "['membername', 'name']\n"
     ]
    },
    {
     "data": {
      "text/html": [
       "<div>\n",
       "<table border=\"1\" class=\"dataframe\">\n",
       "  <thead>\n",
       "    <tr style=\"text-align: right;\">\n",
       "      <th></th>\n",
       "      <th>membername</th>\n",
       "      <th>name</th>\n",
       "    </tr>\n",
       "  </thead>\n",
       "  <tbody>\n",
       "    <tr>\n",
       "      <th>0</th>\n",
       "      <td>Anne Baker</td>\n",
       "      <td>Tennis Court 1</td>\n",
       "    </tr>\n",
       "    <tr>\n",
       "      <th>1</th>\n",
       "      <td>Anne Baker</td>\n",
       "      <td>Tennis Court 2</td>\n",
       "    </tr>\n",
       "    <tr>\n",
       "      <th>2</th>\n",
       "      <td>Burton Tracy</td>\n",
       "      <td>Tennis Court 2</td>\n",
       "    </tr>\n",
       "    <tr>\n",
       "      <th>3</th>\n",
       "      <td>Burton Tracy</td>\n",
       "      <td>Tennis Court 1</td>\n",
       "    </tr>\n",
       "    <tr>\n",
       "      <th>4</th>\n",
       "      <td>Charles Owen</td>\n",
       "      <td>Tennis Court 1</td>\n",
       "    </tr>\n",
       "    <tr>\n",
       "      <th>5</th>\n",
       "      <td>Charles Owen</td>\n",
       "      <td>Tennis Court 2</td>\n",
       "    </tr>\n",
       "    <tr>\n",
       "      <th>6</th>\n",
       "      <td>Darren Smith</td>\n",
       "      <td>Tennis Court 2</td>\n",
       "    </tr>\n",
       "    <tr>\n",
       "      <th>7</th>\n",
       "      <td>David Farrell</td>\n",
       "      <td>Tennis Court 2</td>\n",
       "    </tr>\n",
       "    <tr>\n",
       "      <th>8</th>\n",
       "      <td>David Farrell</td>\n",
       "      <td>Tennis Court 1</td>\n",
       "    </tr>\n",
       "    <tr>\n",
       "      <th>9</th>\n",
       "      <td>David Jones</td>\n",
       "      <td>Tennis Court 1</td>\n",
       "    </tr>\n",
       "    <tr>\n",
       "      <th>10</th>\n",
       "      <td>David Jones</td>\n",
       "      <td>Tennis Court 2</td>\n",
       "    </tr>\n",
       "    <tr>\n",
       "      <th>11</th>\n",
       "      <td>David Pinker</td>\n",
       "      <td>Tennis Court 1</td>\n",
       "    </tr>\n",
       "    <tr>\n",
       "      <th>12</th>\n",
       "      <td>Douglas Jones</td>\n",
       "      <td>Tennis Court 1</td>\n",
       "    </tr>\n",
       "    <tr>\n",
       "      <th>13</th>\n",
       "      <td>Erica Crumpet</td>\n",
       "      <td>Tennis Court 1</td>\n",
       "    </tr>\n",
       "    <tr>\n",
       "      <th>14</th>\n",
       "      <td>Florence Bader</td>\n",
       "      <td>Tennis Court 1</td>\n",
       "    </tr>\n",
       "    <tr>\n",
       "      <th>15</th>\n",
       "      <td>Florence Bader</td>\n",
       "      <td>Tennis Court 2</td>\n",
       "    </tr>\n",
       "    <tr>\n",
       "      <th>16</th>\n",
       "      <td>Gerald Butters</td>\n",
       "      <td>Tennis Court 2</td>\n",
       "    </tr>\n",
       "    <tr>\n",
       "      <th>17</th>\n",
       "      <td>Gerald Butters</td>\n",
       "      <td>Tennis Court 1</td>\n",
       "    </tr>\n",
       "    <tr>\n",
       "      <th>18</th>\n",
       "      <td>GUEST GUEST</td>\n",
       "      <td>Tennis Court 2</td>\n",
       "    </tr>\n",
       "    <tr>\n",
       "      <th>19</th>\n",
       "      <td>GUEST GUEST</td>\n",
       "      <td>Tennis Court 1</td>\n",
       "    </tr>\n",
       "    <tr>\n",
       "      <th>20</th>\n",
       "      <td>Henrietta Rumney</td>\n",
       "      <td>Tennis Court 2</td>\n",
       "    </tr>\n",
       "    <tr>\n",
       "      <th>21</th>\n",
       "      <td>Jack Smith</td>\n",
       "      <td>Tennis Court 2</td>\n",
       "    </tr>\n",
       "    <tr>\n",
       "      <th>22</th>\n",
       "      <td>Jack Smith</td>\n",
       "      <td>Tennis Court 1</td>\n",
       "    </tr>\n",
       "    <tr>\n",
       "      <th>23</th>\n",
       "      <td>Janice Joplette</td>\n",
       "      <td>Tennis Court 2</td>\n",
       "    </tr>\n",
       "    <tr>\n",
       "      <th>24</th>\n",
       "      <td>Janice Joplette</td>\n",
       "      <td>Tennis Court 1</td>\n",
       "    </tr>\n",
       "    <tr>\n",
       "      <th>25</th>\n",
       "      <td>Jemima Farrell</td>\n",
       "      <td>Tennis Court 1</td>\n",
       "    </tr>\n",
       "    <tr>\n",
       "      <th>26</th>\n",
       "      <td>Jemima Farrell</td>\n",
       "      <td>Tennis Court 2</td>\n",
       "    </tr>\n",
       "    <tr>\n",
       "      <th>27</th>\n",
       "      <td>Joan Coplin</td>\n",
       "      <td>Tennis Court 1</td>\n",
       "    </tr>\n",
       "    <tr>\n",
       "      <th>28</th>\n",
       "      <td>John Hunt</td>\n",
       "      <td>Tennis Court 1</td>\n",
       "    </tr>\n",
       "    <tr>\n",
       "      <th>29</th>\n",
       "      <td>John Hunt</td>\n",
       "      <td>Tennis Court 2</td>\n",
       "    </tr>\n",
       "    <tr>\n",
       "      <th>30</th>\n",
       "      <td>Matthew Genting</td>\n",
       "      <td>Tennis Court 1</td>\n",
       "    </tr>\n",
       "    <tr>\n",
       "      <th>31</th>\n",
       "      <td>Millicent Purview</td>\n",
       "      <td>Tennis Court 2</td>\n",
       "    </tr>\n",
       "    <tr>\n",
       "      <th>32</th>\n",
       "      <td>Nancy Dare</td>\n",
       "      <td>Tennis Court 2</td>\n",
       "    </tr>\n",
       "    <tr>\n",
       "      <th>33</th>\n",
       "      <td>Nancy Dare</td>\n",
       "      <td>Tennis Court 1</td>\n",
       "    </tr>\n",
       "    <tr>\n",
       "      <th>34</th>\n",
       "      <td>Ponder Stibbons</td>\n",
       "      <td>Tennis Court 2</td>\n",
       "    </tr>\n",
       "    <tr>\n",
       "      <th>35</th>\n",
       "      <td>Ponder Stibbons</td>\n",
       "      <td>Tennis Court 1</td>\n",
       "    </tr>\n",
       "    <tr>\n",
       "      <th>36</th>\n",
       "      <td>Ramnaresh Sarwin</td>\n",
       "      <td>Tennis Court 1</td>\n",
       "    </tr>\n",
       "    <tr>\n",
       "      <th>37</th>\n",
       "      <td>Ramnaresh Sarwin</td>\n",
       "      <td>Tennis Court 2</td>\n",
       "    </tr>\n",
       "    <tr>\n",
       "      <th>38</th>\n",
       "      <td>Tim Boothe</td>\n",
       "      <td>Tennis Court 1</td>\n",
       "    </tr>\n",
       "    <tr>\n",
       "      <th>39</th>\n",
       "      <td>Tim Boothe</td>\n",
       "      <td>Tennis Court 2</td>\n",
       "    </tr>\n",
       "    <tr>\n",
       "      <th>40</th>\n",
       "      <td>Tim Rownam</td>\n",
       "      <td>Tennis Court 2</td>\n",
       "    </tr>\n",
       "    <tr>\n",
       "      <th>41</th>\n",
       "      <td>Tim Rownam</td>\n",
       "      <td>Tennis Court 1</td>\n",
       "    </tr>\n",
       "    <tr>\n",
       "      <th>42</th>\n",
       "      <td>Timothy Baker</td>\n",
       "      <td>Tennis Court 2</td>\n",
       "    </tr>\n",
       "    <tr>\n",
       "      <th>43</th>\n",
       "      <td>Timothy Baker</td>\n",
       "      <td>Tennis Court 1</td>\n",
       "    </tr>\n",
       "    <tr>\n",
       "      <th>44</th>\n",
       "      <td>Tracy Smith</td>\n",
       "      <td>Tennis Court 1</td>\n",
       "    </tr>\n",
       "    <tr>\n",
       "      <th>45</th>\n",
       "      <td>Tracy Smith</td>\n",
       "      <td>Tennis Court 2</td>\n",
       "    </tr>\n",
       "  </tbody>\n",
       "</table>\n",
       "</div>"
      ],
      "text/plain": [
       "           membername            name\n",
       "0          Anne Baker  Tennis Court 1\n",
       "1          Anne Baker  Tennis Court 2\n",
       "2        Burton Tracy  Tennis Court 2\n",
       "3        Burton Tracy  Tennis Court 1\n",
       "4        Charles Owen  Tennis Court 1\n",
       "5        Charles Owen  Tennis Court 2\n",
       "6        Darren Smith  Tennis Court 2\n",
       "7       David Farrell  Tennis Court 2\n",
       "8       David Farrell  Tennis Court 1\n",
       "9         David Jones  Tennis Court 1\n",
       "10        David Jones  Tennis Court 2\n",
       "11       David Pinker  Tennis Court 1\n",
       "12      Douglas Jones  Tennis Court 1\n",
       "13      Erica Crumpet  Tennis Court 1\n",
       "14     Florence Bader  Tennis Court 1\n",
       "15     Florence Bader  Tennis Court 2\n",
       "16     Gerald Butters  Tennis Court 2\n",
       "17     Gerald Butters  Tennis Court 1\n",
       "18        GUEST GUEST  Tennis Court 2\n",
       "19        GUEST GUEST  Tennis Court 1\n",
       "20   Henrietta Rumney  Tennis Court 2\n",
       "21         Jack Smith  Tennis Court 2\n",
       "22         Jack Smith  Tennis Court 1\n",
       "23    Janice Joplette  Tennis Court 2\n",
       "24    Janice Joplette  Tennis Court 1\n",
       "25     Jemima Farrell  Tennis Court 1\n",
       "26     Jemima Farrell  Tennis Court 2\n",
       "27        Joan Coplin  Tennis Court 1\n",
       "28          John Hunt  Tennis Court 1\n",
       "29          John Hunt  Tennis Court 2\n",
       "30    Matthew Genting  Tennis Court 1\n",
       "31  Millicent Purview  Tennis Court 2\n",
       "32         Nancy Dare  Tennis Court 2\n",
       "33         Nancy Dare  Tennis Court 1\n",
       "34    Ponder Stibbons  Tennis Court 2\n",
       "35    Ponder Stibbons  Tennis Court 1\n",
       "36   Ramnaresh Sarwin  Tennis Court 1\n",
       "37   Ramnaresh Sarwin  Tennis Court 2\n",
       "38         Tim Boothe  Tennis Court 1\n",
       "39         Tim Boothe  Tennis Court 2\n",
       "40         Tim Rownam  Tennis Court 2\n",
       "41         Tim Rownam  Tennis Court 1\n",
       "42      Timothy Baker  Tennis Court 2\n",
       "43      Timothy Baker  Tennis Court 1\n",
       "44        Tracy Smith  Tennis Court 1\n",
       "45        Tracy Smith  Tennis Court 2"
      ]
     },
     "execution_count": 224,
     "metadata": {},
     "output_type": "execute_result"
    }
   ],
   "source": [
    "# booking\n",
    "ret_sql = \"select distinct CONCAT(m.firstname, ' ',m.surname)  as membername \\\n",
    "               , f.name \\\n",
    "               from bookings b \\\n",
    "               join facilities f \\\n",
    "                 on b.facid = f.facid \\\n",
    "               join members m \\\n",
    "                 on b.memid = m.memid \\\n",
    "               where b.facid in (0,1) order by 1 \";\n",
    "\n",
    "cursor.execute(cols_sql)\n",
    "\n",
    "cols = ['membername', 'name' ]\n",
    "\n",
    "print cols\n",
    "\n",
    "cursor.execute(ret_sql)\n",
    "df_bookings = pd.DataFrame([col for col in cursor.fetchall()], columns=cols)\n",
    "df_bookings"
   ]
  },
  {
   "cell_type": "markdown",
   "metadata": {},
   "source": [
    "Q8: How can you produce a list of bookings on the day of 2012-09-14 which\n",
    "will cost the member (or guest) more than $30? Remember that guests have\n",
    "different costs to members (the listed costs are per half-hour 'slot'), and\n",
    "the guest user's ID is always 0. Include in your output the name of the\n",
    "facility, the name of the member formatted as a single column, and the cost.\n",
    "Order by descending cost, and do not use any subqueries."
   ]
  },
  {
   "cell_type": "code",
   "execution_count": 257,
   "metadata": {
    "collapsed": false
   },
   "outputs": [
    {
     "data": {
      "text/html": [
       "<div>\n",
       "<table border=\"1\" class=\"dataframe\">\n",
       "  <thead>\n",
       "    <tr style=\"text-align: right;\">\n",
       "      <th></th>\n",
       "      <th>Facility_Name</th>\n",
       "      <th>Member/Guest Name</th>\n",
       "      <th>Cost</th>\n",
       "    </tr>\n",
       "  </thead>\n",
       "  <tbody>\n",
       "    <tr>\n",
       "      <th>0</th>\n",
       "      <td>Massage Room 2</td>\n",
       "      <td>GUEST GUEST</td>\n",
       "      <td>320.0</td>\n",
       "    </tr>\n",
       "    <tr>\n",
       "      <th>1</th>\n",
       "      <td>Massage Room 1</td>\n",
       "      <td>GUEST GUEST</td>\n",
       "      <td>160.0</td>\n",
       "    </tr>\n",
       "    <tr>\n",
       "      <th>2</th>\n",
       "      <td>Massage Room 1</td>\n",
       "      <td>GUEST GUEST</td>\n",
       "      <td>160.0</td>\n",
       "    </tr>\n",
       "    <tr>\n",
       "      <th>3</th>\n",
       "      <td>Massage Room 1</td>\n",
       "      <td>GUEST GUEST</td>\n",
       "      <td>160.0</td>\n",
       "    </tr>\n",
       "    <tr>\n",
       "      <th>4</th>\n",
       "      <td>Tennis Court 2</td>\n",
       "      <td>GUEST GUEST</td>\n",
       "      <td>150.0</td>\n",
       "    </tr>\n",
       "    <tr>\n",
       "      <th>5</th>\n",
       "      <td>Tennis Court 1</td>\n",
       "      <td>GUEST GUEST</td>\n",
       "      <td>75.0</td>\n",
       "    </tr>\n",
       "    <tr>\n",
       "      <th>6</th>\n",
       "      <td>Tennis Court 1</td>\n",
       "      <td>GUEST GUEST</td>\n",
       "      <td>75.0</td>\n",
       "    </tr>\n",
       "    <tr>\n",
       "      <th>7</th>\n",
       "      <td>Tennis Court 2</td>\n",
       "      <td>GUEST GUEST</td>\n",
       "      <td>75.0</td>\n",
       "    </tr>\n",
       "    <tr>\n",
       "      <th>8</th>\n",
       "      <td>Squash Court</td>\n",
       "      <td>GUEST GUEST</td>\n",
       "      <td>70.0</td>\n",
       "    </tr>\n",
       "    <tr>\n",
       "      <th>9</th>\n",
       "      <td>Massage Room 1</td>\n",
       "      <td>Jemima Farrell</td>\n",
       "      <td>39.6</td>\n",
       "    </tr>\n",
       "    <tr>\n",
       "      <th>10</th>\n",
       "      <td>Squash Court</td>\n",
       "      <td>GUEST GUEST</td>\n",
       "      <td>35.0</td>\n",
       "    </tr>\n",
       "    <tr>\n",
       "      <th>11</th>\n",
       "      <td>Squash Court</td>\n",
       "      <td>GUEST GUEST</td>\n",
       "      <td>35.0</td>\n",
       "    </tr>\n",
       "  </tbody>\n",
       "</table>\n",
       "</div>"
      ],
      "text/plain": [
       "     Facility_Name Member/Guest Name   Cost\n",
       "0   Massage Room 2       GUEST GUEST  320.0\n",
       "1   Massage Room 1       GUEST GUEST  160.0\n",
       "2   Massage Room 1       GUEST GUEST  160.0\n",
       "3   Massage Room 1       GUEST GUEST  160.0\n",
       "4   Tennis Court 2       GUEST GUEST  150.0\n",
       "5   Tennis Court 1       GUEST GUEST   75.0\n",
       "6   Tennis Court 1       GUEST GUEST   75.0\n",
       "7   Tennis Court 2       GUEST GUEST   75.0\n",
       "8     Squash Court       GUEST GUEST   70.0\n",
       "9   Massage Room 1    Jemima Farrell   39.6\n",
       "10    Squash Court       GUEST GUEST   35.0\n",
       "11    Squash Court       GUEST GUEST   35.0"
      ]
     },
     "execution_count": 257,
     "metadata": {},
     "output_type": "execute_result"
    }
   ],
   "source": [
    "# booking\n",
    "ret_sql = \"select distinct f.name \\\n",
    "                  , CONCAT(m.firstname, ' ',m.surname)  as membername \\\n",
    "                  , case \\\n",
    "                      when b.memid <> 0 then f.membercost * b.slots \\\n",
    "                     else f.guestcost * b.slots \\\n",
    "                    end as cost \\\n",
    "                  , b.starttime \\\n",
    "               from bookings b \\\n",
    "                join facilities f \\\n",
    "                  on b.facid = f.facid \\\n",
    "                join members m \\\n",
    "                  on b.memid = m.memid \\\n",
    "                 where date(b.starttime) = '2012-09-14' \\\n",
    "                   and case \\\n",
    "                        when b.memid <> 0 then f.membercost * b.slots \\\n",
    "                          else f.guestcost * b.slots \\\n",
    "                        end > 30 \\\n",
    "                 order by 3 desc\";\n",
    "\n",
    "\n",
    "cols = ['Facility_Name', 'Member/Guest Name', 'Cost', 'starttime']\n",
    "\n",
    "cursor.execute(ret_sql)\n",
    "df_bookings = pd.DataFrame([col for col in cursor.fetchall()], columns=cols)\n",
    "df_bookings[cols[:3]]"
   ]
  },
  {
   "cell_type": "markdown",
   "metadata": {},
   "source": [
    "Q9: This time, produce the same result as in Q8, but using a subquery."
   ]
  },
  {
   "cell_type": "code",
   "execution_count": 261,
   "metadata": {
    "collapsed": false
   },
   "outputs": [
    {
     "data": {
      "text/html": [
       "<div>\n",
       "<table border=\"1\" class=\"dataframe\">\n",
       "  <thead>\n",
       "    <tr style=\"text-align: right;\">\n",
       "      <th></th>\n",
       "      <th>Facility_Name</th>\n",
       "      <th>Member/Guest Name</th>\n",
       "      <th>Cost</th>\n",
       "    </tr>\n",
       "  </thead>\n",
       "  <tbody>\n",
       "    <tr>\n",
       "      <th>0</th>\n",
       "      <td>Massage Room 2</td>\n",
       "      <td>GUEST GUEST</td>\n",
       "      <td>320.0</td>\n",
       "    </tr>\n",
       "    <tr>\n",
       "      <th>1</th>\n",
       "      <td>Massage Room 1</td>\n",
       "      <td>GUEST GUEST</td>\n",
       "      <td>160.0</td>\n",
       "    </tr>\n",
       "    <tr>\n",
       "      <th>2</th>\n",
       "      <td>Massage Room 1</td>\n",
       "      <td>GUEST GUEST</td>\n",
       "      <td>160.0</td>\n",
       "    </tr>\n",
       "    <tr>\n",
       "      <th>3</th>\n",
       "      <td>Massage Room 1</td>\n",
       "      <td>GUEST GUEST</td>\n",
       "      <td>160.0</td>\n",
       "    </tr>\n",
       "    <tr>\n",
       "      <th>4</th>\n",
       "      <td>Tennis Court 2</td>\n",
       "      <td>GUEST GUEST</td>\n",
       "      <td>150.0</td>\n",
       "    </tr>\n",
       "    <tr>\n",
       "      <th>5</th>\n",
       "      <td>Tennis Court 1</td>\n",
       "      <td>GUEST GUEST</td>\n",
       "      <td>75.0</td>\n",
       "    </tr>\n",
       "    <tr>\n",
       "      <th>6</th>\n",
       "      <td>Tennis Court 1</td>\n",
       "      <td>GUEST GUEST</td>\n",
       "      <td>75.0</td>\n",
       "    </tr>\n",
       "    <tr>\n",
       "      <th>7</th>\n",
       "      <td>Tennis Court 2</td>\n",
       "      <td>GUEST GUEST</td>\n",
       "      <td>75.0</td>\n",
       "    </tr>\n",
       "    <tr>\n",
       "      <th>8</th>\n",
       "      <td>Squash Court</td>\n",
       "      <td>GUEST GUEST</td>\n",
       "      <td>70.0</td>\n",
       "    </tr>\n",
       "    <tr>\n",
       "      <th>9</th>\n",
       "      <td>Massage Room 1</td>\n",
       "      <td>Jemima Farrell</td>\n",
       "      <td>39.6</td>\n",
       "    </tr>\n",
       "    <tr>\n",
       "      <th>10</th>\n",
       "      <td>Squash Court</td>\n",
       "      <td>GUEST GUEST</td>\n",
       "      <td>35.0</td>\n",
       "    </tr>\n",
       "    <tr>\n",
       "      <th>11</th>\n",
       "      <td>Squash Court</td>\n",
       "      <td>GUEST GUEST</td>\n",
       "      <td>35.0</td>\n",
       "    </tr>\n",
       "  </tbody>\n",
       "</table>\n",
       "</div>"
      ],
      "text/plain": [
       "     Facility_Name Member/Guest Name   Cost\n",
       "0   Massage Room 2       GUEST GUEST  320.0\n",
       "1   Massage Room 1       GUEST GUEST  160.0\n",
       "2   Massage Room 1       GUEST GUEST  160.0\n",
       "3   Massage Room 1       GUEST GUEST  160.0\n",
       "4   Tennis Court 2       GUEST GUEST  150.0\n",
       "5   Tennis Court 1       GUEST GUEST   75.0\n",
       "6   Tennis Court 1       GUEST GUEST   75.0\n",
       "7   Tennis Court 2       GUEST GUEST   75.0\n",
       "8     Squash Court       GUEST GUEST   70.0\n",
       "9   Massage Room 1    Jemima Farrell   39.6\n",
       "10    Squash Court       GUEST GUEST   35.0\n",
       "11    Squash Court       GUEST GUEST   35.0"
      ]
     },
     "execution_count": 261,
     "metadata": {},
     "output_type": "execute_result"
    }
   ],
   "source": [
    "ret_sql = \"select * from \\\n",
    "         ( select distinct f.name \\\n",
    "                  , CONCAT(m.firstname, ' ',m.surname)  as membername \\\n",
    "                  ,  f.membercost * b.slots as cost \\\n",
    "                  , b.starttime \\\n",
    "               from bookings b \\\n",
    "                join facilities f \\\n",
    "                  on b.facid = f.facid \\\n",
    "                join members m \\\n",
    "                  on b.memid = m.memid \\\n",
    "                 where date(b.starttime) = '2012-09-14' and b.memid <> 0  \\\n",
    "                   and f.membercost * b.slots > 30 \\\n",
    "            union \\\n",
    "            select distinct f.name \\\n",
    "                  , CONCAT(m.firstname, ' ',m.surname)  as membername \\\n",
    "                  ,  f.guestcost * b.slots as cost \\\n",
    "                  , b.starttime \\\n",
    "               from bookings b \\\n",
    "                join facilities f \\\n",
    "                  on b.facid = f.facid \\\n",
    "                join members m \\\n",
    "                  on b.memid = m.memid \\\n",
    "                 where date(b.starttime) = '2012-09-14' and b.memid = 0  \\\n",
    "                   and f.guestcost * b.slots > 30 \\\n",
    "            ) sub \\\n",
    "            order by 3 desc\";\n",
    "\n",
    "\n",
    "cols = ['Facility_Name', 'Member/Guest Name', 'Cost', 'starttime']\n",
    "\n",
    "cursor.execute(ret_sql)\n",
    "df_bookings = pd.DataFrame([col for col in cursor.fetchall()], columns=cols)\n",
    "df_bookings[cols[:3]]"
   ]
  },
  {
   "cell_type": "markdown",
   "metadata": {},
   "source": [
    "Q10: Produce a list of facilities with a total revenue less than 1000.\n",
    "The output of facility name and total revenue, sorted by revenue. Remember\n",
    "that there's a different cost for guests and members! "
   ]
  },
  {
   "cell_type": "code",
   "execution_count": 281,
   "metadata": {
    "collapsed": false
   },
   "outputs": [
    {
     "data": {
      "text/html": [
       "<div>\n",
       "<table border=\"1\" class=\"dataframe\">\n",
       "  <thead>\n",
       "    <tr style=\"text-align: right;\">\n",
       "      <th></th>\n",
       "      <th>Facility_Name</th>\n",
       "      <th>Total_Revenue</th>\n",
       "    </tr>\n",
       "  </thead>\n",
       "  <tbody>\n",
       "    <tr>\n",
       "      <th>0</th>\n",
       "      <td>Table Tennis</td>\n",
       "      <td>180.0</td>\n",
       "    </tr>\n",
       "    <tr>\n",
       "      <th>1</th>\n",
       "      <td>Snooker Table</td>\n",
       "      <td>240.0</td>\n",
       "    </tr>\n",
       "    <tr>\n",
       "      <th>2</th>\n",
       "      <td>Pool Table</td>\n",
       "      <td>270.0</td>\n",
       "    </tr>\n",
       "  </tbody>\n",
       "</table>\n",
       "</div>"
      ],
      "text/plain": [
       "   Facility_Name Total_Revenue\n",
       "0   Table Tennis         180.0\n",
       "1  Snooker Table         240.0\n",
       "2     Pool Table         270.0"
      ]
     },
     "execution_count": 281,
     "metadata": {},
     "output_type": "execute_result"
    }
   ],
   "source": [
    "ret_sql = \"select * from \\\n",
    "           ( \\\n",
    "               select name, sum(revenue) total_revenue from \\\n",
    "                 ( select  f.name \\\n",
    "                          , f.membercost * b.slots as revenue \\\n",
    "                          , b.starttime \\\n",
    "                       from bookings b \\\n",
    "                        join facilities f \\\n",
    "                          on b.facid = f.facid \\\n",
    "                         where  b.memid <> 0  \\\n",
    "                    union \\\n",
    "                    select  f.name \\\n",
    "                          , f.guestcost * b.slots as revenue \\\n",
    "                          , b.starttime \\\n",
    "                       from bookings b \\\n",
    "                        join facilities f \\\n",
    "                          on b.facid = f.facid \\\n",
    "                         where b.memid = 0 \\\n",
    "                    ) sub \\\n",
    "                group by name \\\n",
    "             ) sub1 \\\n",
    "             where total_revenue < 1000 \\\n",
    "            order by 2\";\n",
    "\n",
    "\n",
    "cols = ['Facility_Name', 'Total_Revenue']\n",
    "\n",
    "cursor.execute(ret_sql)\n",
    "df_bookings = pd.DataFrame([col for col in cursor.fetchall()], columns=cols)\n",
    "df_bookings[cols]"
   ]
  },
  {
   "cell_type": "code",
   "execution_count": null,
   "metadata": {
    "collapsed": true
   },
   "outputs": [],
   "source": []
  }
 ],
 "metadata": {
  "kernelspec": {
   "display_name": "Python 2",
   "language": "python",
   "name": "python2"
  },
  "language_info": {
   "codemirror_mode": {
    "name": "ipython",
    "version": 2
   },
   "file_extension": ".py",
   "mimetype": "text/x-python",
   "name": "python",
   "nbconvert_exporter": "python",
   "pygments_lexer": "ipython2",
   "version": "2.7.11"
  }
 },
 "nbformat": 4,
 "nbformat_minor": 0
}
