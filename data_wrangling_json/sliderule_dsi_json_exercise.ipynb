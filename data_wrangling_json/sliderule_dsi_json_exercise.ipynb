{
 "cells": [
  {
   "cell_type": "markdown",
   "metadata": {},
   "source": [
    "# JSON examples and exercise\n",
    "****\n",
    "+ get familiar with packages for dealing with JSON\n",
    "+ study examples with JSON strings and files \n",
    "+ work on exercise to be completed and submitted \n",
    "****\n",
    "+ reference: http://pandas.pydata.org/pandas-docs/stable/io.html#io-json-reader\n",
    "+ data source: http://jsonstudio.com/resources/\n",
    "****"
   ]
  },
  {
   "cell_type": "code",
   "execution_count": 2,
   "metadata": {
    "collapsed": true
   },
   "outputs": [],
   "source": [
    "import pandas as pd\n",
    "import matplotlib.pyplot as plt\n",
    "from collections import defaultdict\n",
    "%matplotlib inline "
   ]
  },
  {
   "cell_type": "markdown",
   "metadata": {},
   "source": [
    "## imports for Python, Pandas"
   ]
  },
  {
   "cell_type": "code",
   "execution_count": 3,
   "metadata": {
    "collapsed": true
   },
   "outputs": [],
   "source": [
    "import json\n",
    "from pandas.io.json import json_normalize"
   ]
  },
  {
   "cell_type": "markdown",
   "metadata": {},
   "source": [
    "## JSON example, with string\n",
    "\n",
    "+ demonstrates creation of normalized dataframes (tables) from nested json string\n",
    "+ source: http://pandas.pydata.org/pandas-docs/stable/io.html#normalization"
   ]
  },
  {
   "cell_type": "code",
   "execution_count": 3,
   "metadata": {
    "collapsed": true
   },
   "outputs": [],
   "source": [
    "# define json string\n",
    "data = [{'state': 'Florida', \n",
    "         'shortname': 'FL',\n",
    "         'info': {'governor': 'Rick Scott'},\n",
    "         'counties': [{'name': 'Dade', 'population': 12345},\n",
    "                      {'name': 'Broward', 'population': 40000},\n",
    "                      {'name': 'Palm Beach', 'population': 60000}]},\n",
    "        {'state': 'Ohio',\n",
    "         'shortname': 'OH',\n",
    "         'info': {'governor': 'John Kasich'},\n",
    "         'counties': [{'name': 'Summit', 'population': 1234},\n",
    "                      {'name': 'Cuyahoga', 'population': 1337}]}]"
   ]
  },
  {
   "cell_type": "code",
   "execution_count": 4,
   "metadata": {
    "collapsed": false
   },
   "outputs": [
    {
     "data": {
      "text/html": [
       "<div>\n",
       "<table border=\"1\" class=\"dataframe\">\n",
       "  <thead>\n",
       "    <tr style=\"text-align: right;\">\n",
       "      <th></th>\n",
       "      <th>name</th>\n",
       "      <th>population</th>\n",
       "    </tr>\n",
       "  </thead>\n",
       "  <tbody>\n",
       "    <tr>\n",
       "      <th>0</th>\n",
       "      <td>Dade</td>\n",
       "      <td>12345</td>\n",
       "    </tr>\n",
       "    <tr>\n",
       "      <th>1</th>\n",
       "      <td>Broward</td>\n",
       "      <td>40000</td>\n",
       "    </tr>\n",
       "    <tr>\n",
       "      <th>2</th>\n",
       "      <td>Palm Beach</td>\n",
       "      <td>60000</td>\n",
       "    </tr>\n",
       "    <tr>\n",
       "      <th>3</th>\n",
       "      <td>Summit</td>\n",
       "      <td>1234</td>\n",
       "    </tr>\n",
       "    <tr>\n",
       "      <th>4</th>\n",
       "      <td>Cuyahoga</td>\n",
       "      <td>1337</td>\n",
       "    </tr>\n",
       "  </tbody>\n",
       "</table>\n",
       "</div>"
      ],
      "text/plain": [
       "         name  population\n",
       "0        Dade       12345\n",
       "1     Broward       40000\n",
       "2  Palm Beach       60000\n",
       "3      Summit        1234\n",
       "4    Cuyahoga        1337"
      ]
     },
     "execution_count": 4,
     "metadata": {},
     "output_type": "execute_result"
    }
   ],
   "source": [
    "# use normalization to create tables from nested element\n",
    "json_normalize(data, 'counties')"
   ]
  },
  {
   "cell_type": "code",
   "execution_count": 5,
   "metadata": {
    "collapsed": false
   },
   "outputs": [
    {
     "data": {
      "text/html": [
       "<div>\n",
       "<table border=\"1\" class=\"dataframe\">\n",
       "  <thead>\n",
       "    <tr style=\"text-align: right;\">\n",
       "      <th></th>\n",
       "      <th>name</th>\n",
       "      <th>population</th>\n",
       "      <th>info.governor</th>\n",
       "      <th>state</th>\n",
       "      <th>shortname</th>\n",
       "    </tr>\n",
       "  </thead>\n",
       "  <tbody>\n",
       "    <tr>\n",
       "      <th>0</th>\n",
       "      <td>Dade</td>\n",
       "      <td>12345</td>\n",
       "      <td>Rick Scott</td>\n",
       "      <td>Florida</td>\n",
       "      <td>FL</td>\n",
       "    </tr>\n",
       "    <tr>\n",
       "      <th>1</th>\n",
       "      <td>Broward</td>\n",
       "      <td>40000</td>\n",
       "      <td>Rick Scott</td>\n",
       "      <td>Florida</td>\n",
       "      <td>FL</td>\n",
       "    </tr>\n",
       "    <tr>\n",
       "      <th>2</th>\n",
       "      <td>Palm Beach</td>\n",
       "      <td>60000</td>\n",
       "      <td>Rick Scott</td>\n",
       "      <td>Florida</td>\n",
       "      <td>FL</td>\n",
       "    </tr>\n",
       "    <tr>\n",
       "      <th>3</th>\n",
       "      <td>Summit</td>\n",
       "      <td>1234</td>\n",
       "      <td>John Kasich</td>\n",
       "      <td>Ohio</td>\n",
       "      <td>OH</td>\n",
       "    </tr>\n",
       "    <tr>\n",
       "      <th>4</th>\n",
       "      <td>Cuyahoga</td>\n",
       "      <td>1337</td>\n",
       "      <td>John Kasich</td>\n",
       "      <td>Ohio</td>\n",
       "      <td>OH</td>\n",
       "    </tr>\n",
       "  </tbody>\n",
       "</table>\n",
       "</div>"
      ],
      "text/plain": [
       "         name  population info.governor    state shortname\n",
       "0        Dade       12345    Rick Scott  Florida        FL\n",
       "1     Broward       40000    Rick Scott  Florida        FL\n",
       "2  Palm Beach       60000    Rick Scott  Florida        FL\n",
       "3      Summit        1234   John Kasich     Ohio        OH\n",
       "4    Cuyahoga        1337   John Kasich     Ohio        OH"
      ]
     },
     "execution_count": 5,
     "metadata": {},
     "output_type": "execute_result"
    }
   ],
   "source": [
    "# further populate tables created from nested element\n",
    "json_normalize(data, 'counties', ['state', 'shortname', ['info', 'governor']])"
   ]
  },
  {
   "cell_type": "markdown",
   "metadata": {},
   "source": [
    "****\n",
    "## JSON example, with file\n",
    "\n",
    "+ demonstrates reading in a json file as a string and as a table\n",
    "+ uses small sample file containing data about projects funded by the World Bank \n",
    "+ data source: http://jsonstudio.com/resources/"
   ]
  },
  {
   "cell_type": "code",
   "execution_count": 5,
   "metadata": {
    "collapsed": false
   },
   "outputs": [
    {
     "name": "stdout",
     "output_type": "stream",
     "text": [
      "<type 'list'>\n"
     ]
    }
   ],
   "source": [
    "# load json as string\n",
    "l = json.load((open('data/world_bank_projects_less.json')))\n",
    "print type(l)"
   ]
  },
  {
   "cell_type": "code",
   "execution_count": 7,
   "metadata": {
    "collapsed": false
   },
   "outputs": [
    {
     "data": {
      "text/html": [
       "<div>\n",
       "<table border=\"1\" class=\"dataframe\">\n",
       "  <thead>\n",
       "    <tr style=\"text-align: right;\">\n",
       "      <th></th>\n",
       "      <th>_id</th>\n",
       "      <th>approvalfy</th>\n",
       "      <th>board_approval_month</th>\n",
       "      <th>boardapprovaldate</th>\n",
       "      <th>borrower</th>\n",
       "      <th>closingdate</th>\n",
       "      <th>country_namecode</th>\n",
       "      <th>countrycode</th>\n",
       "      <th>countryname</th>\n",
       "      <th>countryshortname</th>\n",
       "      <th>...</th>\n",
       "      <th>sectorcode</th>\n",
       "      <th>source</th>\n",
       "      <th>status</th>\n",
       "      <th>supplementprojectflg</th>\n",
       "      <th>theme1</th>\n",
       "      <th>theme_namecode</th>\n",
       "      <th>themecode</th>\n",
       "      <th>totalamt</th>\n",
       "      <th>totalcommamt</th>\n",
       "      <th>url</th>\n",
       "    </tr>\n",
       "  </thead>\n",
       "  <tbody>\n",
       "    <tr>\n",
       "      <th>0</th>\n",
       "      <td>{u'$oid': u'52b213b38594d8a2be17c780'}</td>\n",
       "      <td>1999</td>\n",
       "      <td>November</td>\n",
       "      <td>2013-11-12T00:00:00Z</td>\n",
       "      <td>FEDERAL DEMOCRATIC REPUBLIC OF ETHIOPIA</td>\n",
       "      <td>2018-07-07T00:00:00Z</td>\n",
       "      <td>Federal Democratic Republic of Ethiopia!$!ET</td>\n",
       "      <td>ET</td>\n",
       "      <td>Federal Democratic Republic of Ethiopia</td>\n",
       "      <td>Ethiopia</td>\n",
       "      <td>...</td>\n",
       "      <td>ET,BS,ES,EP</td>\n",
       "      <td>IBRD</td>\n",
       "      <td>Active</td>\n",
       "      <td>N</td>\n",
       "      <td>{u'Percent': 100, u'Name': u'Education for all'}</td>\n",
       "      <td>[{u'code': u'65', u'name': u'Education for all'}]</td>\n",
       "      <td>65</td>\n",
       "      <td>130000000</td>\n",
       "      <td>130000000</td>\n",
       "      <td>http://www.worldbank.org/projects/P129828/ethi...</td>\n",
       "    </tr>\n",
       "    <tr>\n",
       "      <th>1</th>\n",
       "      <td>{u'$oid': u'52b213b38594d8a2be17c781'}</td>\n",
       "      <td>2015</td>\n",
       "      <td>November</td>\n",
       "      <td>2013-11-04T00:00:00Z</td>\n",
       "      <td>GOVERNMENT OF TUNISIA</td>\n",
       "      <td>NaN</td>\n",
       "      <td>Republic of Tunisia!$!TN</td>\n",
       "      <td>TN</td>\n",
       "      <td>Republic of Tunisia</td>\n",
       "      <td>Tunisia</td>\n",
       "      <td>...</td>\n",
       "      <td>BZ,BS</td>\n",
       "      <td>IBRD</td>\n",
       "      <td>Active</td>\n",
       "      <td>N</td>\n",
       "      <td>{u'Percent': 30, u'Name': u'Other economic man...</td>\n",
       "      <td>[{u'code': u'24', u'name': u'Other economic ma...</td>\n",
       "      <td>54,24</td>\n",
       "      <td>0</td>\n",
       "      <td>4700000</td>\n",
       "      <td>http://www.worldbank.org/projects/P144674?lang=en</td>\n",
       "    </tr>\n",
       "  </tbody>\n",
       "</table>\n",
       "<p>2 rows × 50 columns</p>\n",
       "</div>"
      ],
      "text/plain": [
       "                                      _id  approvalfy board_approval_month  \\\n",
       "0  {u'$oid': u'52b213b38594d8a2be17c780'}        1999             November   \n",
       "1  {u'$oid': u'52b213b38594d8a2be17c781'}        2015             November   \n",
       "\n",
       "      boardapprovaldate                                 borrower  \\\n",
       "0  2013-11-12T00:00:00Z  FEDERAL DEMOCRATIC REPUBLIC OF ETHIOPIA   \n",
       "1  2013-11-04T00:00:00Z                    GOVERNMENT OF TUNISIA   \n",
       "\n",
       "            closingdate                              country_namecode  \\\n",
       "0  2018-07-07T00:00:00Z  Federal Democratic Republic of Ethiopia!$!ET   \n",
       "1                   NaN                      Republic of Tunisia!$!TN   \n",
       "\n",
       "  countrycode                              countryname countryshortname  \\\n",
       "0          ET  Federal Democratic Republic of Ethiopia         Ethiopia   \n",
       "1          TN                      Republic of Tunisia          Tunisia   \n",
       "\n",
       "                         ...                           sectorcode source  \\\n",
       "0                        ...                          ET,BS,ES,EP   IBRD   \n",
       "1                        ...                                BZ,BS   IBRD   \n",
       "\n",
       "   status  supplementprojectflg  \\\n",
       "0  Active                     N   \n",
       "1  Active                     N   \n",
       "\n",
       "                                              theme1  \\\n",
       "0   {u'Percent': 100, u'Name': u'Education for all'}   \n",
       "1  {u'Percent': 30, u'Name': u'Other economic man...   \n",
       "\n",
       "                                      theme_namecode themecode   totalamt  \\\n",
       "0  [{u'code': u'65', u'name': u'Education for all'}]        65  130000000   \n",
       "1  [{u'code': u'24', u'name': u'Other economic ma...     54,24          0   \n",
       "\n",
       "  totalcommamt                                                url  \n",
       "0    130000000  http://www.worldbank.org/projects/P129828/ethi...  \n",
       "1      4700000  http://www.worldbank.org/projects/P144674?lang=en  \n",
       "\n",
       "[2 rows x 50 columns]"
      ]
     },
     "execution_count": 7,
     "metadata": {},
     "output_type": "execute_result"
    }
   ],
   "source": [
    "# load as Pandas dataframe\n",
    "sample_json_df = pd.read_json('data/world_bank_projects_less.json')\n",
    "sample_json_df"
   ]
  },
  {
   "cell_type": "markdown",
   "metadata": {},
   "source": [
    "****\n",
    "## JSON exercise\n",
    "\n",
    "Using data in file 'data/world_bank_projects.json' and the techniques demonstrated above,\n",
    "1. Find the 10 countries with most projects\n",
    "2. Find the top 10 major project themes (using column 'mjtheme_namecode')\n",
    "3. In 2. above you will notice that some entries have only the code and the name is missing. Create a dataframe with the missing names filled in."
   ]
  },
  {
   "cell_type": "code",
   "execution_count": 17,
   "metadata": {
    "collapsed": false
   },
   "outputs": [],
   "source": [
    "json_df = pd.read_json('data/world_bank_projects.json')\n",
    "json_df.shape\n",
    "json_df1 = json_df.copy()"
   ]
  },
  {
   "cell_type": "code",
   "execution_count": 18,
   "metadata": {
    "collapsed": false
   },
   "outputs": [
    {
     "data": {
      "text/plain": [
       "Index([u'_id', u'approvalfy', u'board_approval_month', u'boardapprovaldate',\n",
       "       u'borrower', u'closingdate', u'country_namecode', u'countrycode',\n",
       "       u'countryname', u'countryshortname', u'docty',\n",
       "       u'envassesmentcategorycode', u'grantamt', u'ibrdcommamt', u'id',\n",
       "       u'idacommamt', u'impagency', u'lendinginstr', u'lendinginstrtype',\n",
       "       u'lendprojectcost', u'majorsector_percent', u'mjsector_namecode',\n",
       "       u'mjtheme', u'mjtheme_namecode', u'mjthemecode', u'prodline',\n",
       "       u'prodlinetext', u'productlinetype', u'project_abstract',\n",
       "       u'project_name', u'projectdocs', u'projectfinancialtype',\n",
       "       u'projectstatusdisplay', u'regionname', u'sector', u'sector1',\n",
       "       u'sector2', u'sector3', u'sector4', u'sector_namecode', u'sectorcode',\n",
       "       u'source', u'status', u'supplementprojectflg', u'theme1',\n",
       "       u'theme_namecode', u'themecode', u'totalamt', u'totalcommamt', u'url'],\n",
       "      dtype='object')"
      ]
     },
     "execution_count": 18,
     "metadata": {},
     "output_type": "execute_result"
    }
   ],
   "source": [
    "json_df.keys()"
   ]
  },
  {
   "cell_type": "markdown",
   "metadata": {},
   "source": [
    "### JSON exercise number ONE\n",
    "1. Find the 10 countries with most projects"
   ]
  },
  {
   "cell_type": "code",
   "execution_count": 19,
   "metadata": {
    "collapsed": false
   },
   "outputs": [
    {
     "name": "stdout",
     "output_type": "stream",
     "text": [
      "500\n",
      "Assert passed. The correct answer is:\n"
     ]
    },
    {
     "data": {
      "text/html": [
       "<div>\n",
       "<table border=\"1\" class=\"dataframe\">\n",
       "  <thead>\n",
       "    <tr style=\"text-align: right;\">\n",
       "      <th></th>\n",
       "      <th>project_count</th>\n",
       "    </tr>\n",
       "    <tr>\n",
       "      <th>countryname</th>\n",
       "      <th></th>\n",
       "    </tr>\n",
       "  </thead>\n",
       "  <tbody>\n",
       "    <tr>\n",
       "      <th>People's Republic of China</th>\n",
       "      <td>19</td>\n",
       "    </tr>\n",
       "    <tr>\n",
       "      <th>Republic of Indonesia</th>\n",
       "      <td>19</td>\n",
       "    </tr>\n",
       "    <tr>\n",
       "      <th>Socialist Republic of Vietnam</th>\n",
       "      <td>17</td>\n",
       "    </tr>\n",
       "    <tr>\n",
       "      <th>Republic of India</th>\n",
       "      <td>16</td>\n",
       "    </tr>\n",
       "    <tr>\n",
       "      <th>Republic of Yemen</th>\n",
       "      <td>13</td>\n",
       "    </tr>\n",
       "    <tr>\n",
       "      <th>Kingdom of Morocco</th>\n",
       "      <td>12</td>\n",
       "    </tr>\n",
       "    <tr>\n",
       "      <th>Nepal</th>\n",
       "      <td>12</td>\n",
       "    </tr>\n",
       "    <tr>\n",
       "      <th>People's Republic of Bangladesh</th>\n",
       "      <td>12</td>\n",
       "    </tr>\n",
       "    <tr>\n",
       "      <th>Africa</th>\n",
       "      <td>11</td>\n",
       "    </tr>\n",
       "    <tr>\n",
       "      <th>Republic of Mozambique</th>\n",
       "      <td>11</td>\n",
       "    </tr>\n",
       "  </tbody>\n",
       "</table>\n",
       "</div>"
      ],
      "text/plain": [
       "                                 project_count\n",
       "countryname                                   \n",
       "People's Republic of China                  19\n",
       "Republic of Indonesia                       19\n",
       "Socialist Republic of Vietnam               17\n",
       "Republic of India                           16\n",
       "Republic of Yemen                           13\n",
       "Kingdom of Morocco                          12\n",
       "Nepal                                       12\n",
       "People's Republic of Bangladesh             12\n",
       "Africa                                      11\n",
       "Republic of Mozambique                      11"
      ]
     },
     "execution_count": 19,
     "metadata": {},
     "output_type": "execute_result"
    }
   ],
   "source": [
    "# there are 500 records\n",
    "print json_df.shape[0]\n",
    "\n",
    "# if there are 500 unique project_names then there must be one UNIQUE project per row\n",
    "assert json_df.shape[0] == len(set(json_df['project_name']))\n",
    "\n",
    "# so get a count for each distinct countryname. \n",
    "top10_vc = json_df.countryname.value_counts().head(10).reset_index()\n",
    "\n",
    "# alternatively count the project_names per country.\n",
    "top10_gb = json_df.groupby(by='countryname').count()['project_name'] \\\n",
    "       .sort_values(ascending=False).head(10).reset_index()\n",
    "\n",
    "top10_vc.columns = ['countryname','project_count']\n",
    "top10_gb.columns = ['countryname','project_count']\n",
    "\n",
    "# sort so records in both Series' are in the same order for comparison.\n",
    "top10_vc = top10_vc.sort_values(by='countryname').set_index('countryname')\n",
    "top10_gb = top10_gb.sort_values(by='countryname').set_index('countryname')\n",
    "\n",
    "assert (top10_vc == top10_gb).all().all()\n",
    "print \"Assert passed. The correct answer is:\"\n",
    "top10_vc.sort_values(by='project_count', ascending=False)\n"
   ]
  },
  {
   "cell_type": "code",
   "execution_count": null,
   "metadata": {
    "collapsed": true
   },
   "outputs": [],
   "source": []
  },
  {
   "cell_type": "markdown",
   "metadata": {},
   "source": [
    "### JSON exercise number TWO\n",
    "2. Find the top 10 major project themes (using column 'mjtheme_namecode')"
   ]
  },
  {
   "cell_type": "code",
   "execution_count": 20,
   "metadata": {
    "collapsed": false
   },
   "outputs": [
    {
     "data": {
      "text/plain": [
       "[(223, u'11_Environment and natural resources management'),\n",
       " (202, u'10_Rural development'),\n",
       " (197, u'08_Human development'),\n",
       " (184, u'02_Public sector governance'),\n",
       " (158, u'06_Social protection and risk management'),\n",
       " (130, u'04_Financial and private sector development'),\n",
       " (119, u'07_Social dev/gender/inclusion'),\n",
       " (72, u'05_Trade and integration'),\n",
       " (47, u'09_Urban development'),\n",
       " (33, u'01_Economic management')]"
      ]
     },
     "execution_count": 20,
     "metadata": {},
     "output_type": "execute_result"
    }
   ],
   "source": [
    "def get_theme_counts(mjtheme_namecode):\n",
    "\n",
    "    theme1_count = defaultdict(int)\n",
    "    for k in mjtheme_namecode:\n",
    "        for a in k:\n",
    "            if a['name'] != '':\n",
    "                f = ('0'+a['code'])[-2:]+'_'+a['name']\n",
    "                theme1_count[f] += 1\n",
    "            else:\n",
    "                dummy = ('0'+str(int(a['code'])))[-2:]+'_blank_space'\n",
    "                theme1_count[ dummy ] += 1\n",
    "    blist = [(v,k) for k,v in theme1_count.items()]\n",
    "    return sorted(blist,reverse=True)\n",
    "top10list = get_theme_counts(json_df.mjtheme_namecode)\n",
    "top10list[:10]"
   ]
  },
  {
   "cell_type": "code",
   "execution_count": null,
   "metadata": {
    "collapsed": true
   },
   "outputs": [],
   "source": []
  },
  {
   "cell_type": "markdown",
   "metadata": {},
   "source": [
    "### JSON exercise number THREE\n",
    "3. In 2. above you will notice that some entries have only the code and the name is missing. Create a dataframe with the missing names filled in."
   ]
  },
  {
   "cell_type": "code",
   "execution_count": 21,
   "metadata": {
    "collapsed": false
   },
   "outputs": [
    {
     "data": {
      "text/plain": [
       "{'1': u'Economic management',\n",
       " '10': u'Rural development',\n",
       " '11': u'Environment and natural resources management',\n",
       " '2': u'Public sector governance',\n",
       " '3': u'Rule of law',\n",
       " '4': u'Financial and private sector development',\n",
       " '5': u'Trade and integration',\n",
       " '6': u'Social protection and risk management',\n",
       " '7': u'Social dev/gender/inclusion',\n",
       " '8': u'Human development',\n",
       " '9': u'Urban development'}"
      ]
     },
     "execution_count": 21,
     "metadata": {},
     "output_type": "execute_result"
    }
   ],
   "source": [
    "nlist = get_theme_counts(json_df.mjtheme_namecode)\n",
    "\n",
    "# dict to act as lookup to get correct name for every theme code.\n",
    "nm_dict = {str(int(nm[1].split('_')[0])): nm[1].split('_')[1] \n",
    "              for nm in sorted(nlist,reverse=True) if nm[1].split('_')[1] <> 'blank' }\n",
    "nm_dict"
   ]
  },
  {
   "cell_type": "code",
   "execution_count": 22,
   "metadata": {
    "collapsed": false
   },
   "outputs": [
    {
     "name": "stdout",
     "output_type": "stream",
     "text": [
      "500\n"
     ]
    },
    {
     "name": "stderr",
     "output_type": "stream",
     "text": [
      "/Users/chadleonard/miniconda2/envs/tutorial/lib/python2.7/site-packages/ipykernel/__main__.py:12: SettingWithCopyWarning: \n",
      "A value is trying to be set on a copy of a slice from a DataFrame.\n",
      "Try using .loc[row_indexer,col_indexer] = value instead\n",
      "\n",
      "See the caveats in the documentation: http://pandas.pydata.org/pandas-docs/stable/indexing.html#indexing-view-versus-copy\n"
     ]
    }
   ],
   "source": [
    "flist = []\n",
    "new_df = json_df[['countryname','mjtheme_namecode']]\n",
    "\n",
    "# adds correct name for each code from lookup nm_dict..\n",
    "for k in json_df.mjtheme_namecode:\n",
    "    tmp = []\n",
    "    for l in k:\n",
    "        tmp.append({ u'code': l['code'], u'name': nm_dict[l['code']]})\n",
    "    flist.append(tmp)\n",
    "\n",
    "print len(flist)\n",
    "new_df['mjtheme_namecode2'] = pd.Series(flist, index=json_df.index)      \n",
    "        "
   ]
  },
  {
   "cell_type": "code",
   "execution_count": 23,
   "metadata": {
    "collapsed": false
   },
   "outputs": [
    {
     "name": "stdout",
     "output_type": "stream",
     "text": [
      "1499\n",
      "1499\n",
      "Assert passed: lists must match\n"
     ]
    }
   ],
   "source": [
    "oldcode = []\n",
    "newcode = []\n",
    "test = []\n",
    "\n",
    "# quick and dirty test designed to ensure that mjtheme_namecode and mjtheme_namecode2 line up ...\n",
    "# by line up, I mean that mjtheme_namecode2 was added to the df for the correct records ...\n",
    "# compares the codes for every record in both columns ...\n",
    "for l in new_df[['mjtheme_namecode']].values:\n",
    "    for a in l:\n",
    "        for b in a:\n",
    "            oldcode.append(b['code'])\n",
    "for l in new_df[['mjtheme_namecode2']].values:\n",
    "    for a in l:\n",
    "        for b in a:\n",
    "            newcode.append(b['code'])\n",
    "print len(newcode)\n",
    "print len(oldcode)\n",
    "assert newcode == oldcode\n",
    "print \"Assert passed: lists must match\"\n"
   ]
  },
  {
   "cell_type": "code",
   "execution_count": 24,
   "metadata": {
    "collapsed": false
   },
   "outputs": [
    {
     "name": "stdout",
     "output_type": "stream",
     "text": [
      "new ==> code: 11; name: Environment and natural resources management; count: 250\n",
      "old ==> code: 11; name: Environment and natural resources management; count: 223\n",
      "old ==> code: 11; name: blank; count: 27\n",
      "250 == 223 + 27\n",
      "==========\n",
      "new ==> code: 10; name: Rural development; count: 216\n",
      "old ==> code: 10; name: Rural development; count: 202\n",
      "old ==> code: 10; name: blank; count: 14\n",
      "216 == 202 + 14\n",
      "==========\n",
      "new ==> code: 8; name: Human development; count: 210\n",
      "old ==> code: 8; name: Human development; count: 197\n",
      "old ==> code: 8; name: blank; count: 13\n",
      "210 == 197 + 13\n",
      "==========\n",
      "new ==> code: 2; name: Public sector governance; count: 199\n",
      "old ==> code: 2; name: Public sector governance; count: 184\n",
      "old ==> code: 2; name: blank; count: 15\n",
      "199 == 184 + 15\n",
      "==========\n",
      "new ==> code: 6; name: Social protection and risk management; count: 168\n",
      "old ==> code: 6; name: Social protection and risk management; count: 158\n",
      "old ==> code: 6; name: blank; count: 10\n",
      "168 == 158 + 10\n",
      "==========\n",
      "new ==> code: 4; name: Financial and private sector development; count: 146\n",
      "old ==> code: 4; name: Financial and private sector development; count: 130\n",
      "old ==> code: 4; name: blank; count: 16\n",
      "146 == 130 + 16\n",
      "==========\n",
      "new ==> code: 7; name: Social dev/gender/inclusion; count: 130\n",
      "old ==> code: 7; name: Social dev/gender/inclusion; count: 119\n",
      "old ==> code: 7; name: blank; count: 11\n",
      "130 == 119 + 11\n",
      "==========\n",
      "new ==> code: 5; name: Trade and integration; count: 77\n",
      "old ==> code: 5; name: Trade and integration; count: 72\n",
      "old ==> code: 5; name: blank; count: 5\n",
      "77 == 72 + 5\n",
      "==========\n",
      "new ==> code: 9; name: Urban development; count: 50\n",
      "old ==> code: 9; name: Urban development; count: 47\n",
      "old ==> code: 9; name: blank; count: 3\n",
      "50 == 47 + 3\n",
      "==========\n",
      "new ==> code: 1; name: Economic management; count: 38\n",
      "old ==> code: 1; name: Economic management; count: 33\n",
      "old ==> code: 1; name: blank; count: 5\n",
      "38 == 33 + 5\n",
      "==========\n",
      "new ==> code: 3; name: Rule of law; count: 15\n",
      "old ==> code: 3; name: Rule of law; count: 12\n",
      "old ==> code: 3; name: blank; count: 3\n",
      "15 == 12 + 3\n",
      "==========\n"
     ]
    }
   ],
   "source": [
    "oldlist = get_theme_counts(new_df.mjtheme_namecode)\n",
    "newlist = get_theme_counts(new_df.mjtheme_namecode2)\n",
    "newc = 0\n",
    "oldc = 0\n",
    "\n",
    "# compare old counts where name had some blanks to new counts where name has no blanks.\n",
    "for c in newlist:\n",
    "    nm = c[1].split('_')\n",
    "    print 'new ==> code: '+ str(int(nm[0])) + '; name: ' + nm[1] + '; count: '+ str(c[0])\n",
    "    newc = c[0]\n",
    "    for a in oldlist:\n",
    "        nm2 = a[1].split('_')\n",
    "        if nm == nm2:\n",
    "            print 'old ==> code: '+ str(int(nm2[0])) + '; name: ' + nm2[1] + '; count: '+ str(a[0])\n",
    "            oldc = a[0]\n",
    "        elif nm2[1] == 'blank' and nm2[0] == nm[0]:\n",
    "            print 'old ==> code: '+ str(int(nm2[0])) + '; name: ' + nm2[1] + '; count: '+ str(a[0])\n",
    "            # test: assert that the count of old non-blank names and blank names equals new count\n",
    "            assert newc == oldc + a[0]\n",
    "            print str(newc) + ' == ' + str(oldc) + ' + ' + str(a[0])\n",
    "            print '=' * 10"
   ]
  },
  {
   "cell_type": "code",
   "execution_count": null,
   "metadata": {
    "collapsed": true
   },
   "outputs": [],
   "source": []
  },
  {
   "cell_type": "markdown",
   "metadata": {},
   "source": [
    "### JSON exercises TWO and THREE via an alternative way"
   ]
  },
  {
   "cell_type": "code",
   "execution_count": 4,
   "metadata": {
    "collapsed": false
   },
   "outputs": [
    {
     "data": {
      "text/plain": [
       "(500, 50)"
      ]
     },
     "execution_count": 4,
     "metadata": {},
     "output_type": "execute_result"
    }
   ],
   "source": [
    "from collections import Counter\n",
    "df = pd.read_json('data/world_bank_projects.json')\n",
    "df.shape"
   ]
  },
  {
   "cell_type": "code",
   "execution_count": 5,
   "metadata": {
    "collapsed": false
   },
   "outputs": [
    {
     "data": {
      "text/plain": [
       "[(250, u'11'),\n",
       " (216, u'10'),\n",
       " (210, u'8'),\n",
       " (199, u'2'),\n",
       " (168, u'6'),\n",
       " (146, u'4'),\n",
       " (130, u'7'),\n",
       " (77, u'5'),\n",
       " (50, u'9'),\n",
       " (38, u'1')]"
      ]
     },
     "execution_count": 5,
     "metadata": {},
     "output_type": "execute_result"
    }
   ],
   "source": [
    "#another way to answer question 2\n",
    "def tcount(tlist):\n",
    "    return [t['code'] for t in tlist]\n",
    "\n",
    "# use apply function to pass lists of mjtheme_namecode dicts to tcount to get all \n",
    "# of the codes ...\n",
    "biglist = [item for sublist in df.mjtheme_namecode.apply(tcount) for item in sublist]\n",
    "\n",
    "# use Counter on biglist to return the code and the number of times it appears in the list \n",
    "new_list = [(v,k) for k,v in dict(Counter(biglist)).items()]\n",
    "sorted(new_list,reverse=True)[:10]\n"
   ]
  },
  {
   "cell_type": "code",
   "execution_count": 6,
   "metadata": {
    "collapsed": false
   },
   "outputs": [
    {
     "data": {
      "text/plain": [
       "{u'1': u'Economic management',\n",
       " u'10': u'Rural development',\n",
       " u'11': u'Environment and natural resources management',\n",
       " u'2': u'Public sector governance',\n",
       " u'3': u'Rule of law',\n",
       " u'4': u'Financial and private sector development',\n",
       " u'5': u'Trade and integration',\n",
       " u'6': u'Social protection and risk management',\n",
       " u'7': u'Social dev/gender/inclusion',\n",
       " u'8': u'Human development',\n",
       " u'9': u'Urban development'}"
      ]
     },
     "execution_count": 6,
     "metadata": {},
     "output_type": "execute_result"
    }
   ],
   "source": [
    "#another way to create name lookup dict ...\n",
    "#create name dict lookup to use to fill blank names \n",
    "def get_nm_dict(tlist):\n",
    "    return [(t['code'], t['name']) for t in tlist if t['name'] != '']\n",
    "\n",
    "# turned tuples into strings to use the 'set' function to get rid of dupes ...\n",
    "ldict = [str(i) for s in df.mjtheme_namecode.apply(get_nm_dict) for i in s]\n",
    "lst = []\n",
    "\n",
    "# 'eval' function used to turn the strings back into tuples. Need tuples to create dict.\n",
    "for l in list(set(ldict)):\n",
    "    l = eval(l)\n",
    "    lst.append(l)\n",
    "ndict = dict(lst)\n",
    "ndict"
   ]
  },
  {
   "cell_type": "code",
   "execution_count": 7,
   "metadata": {
    "collapsed": false
   },
   "outputs": [
    {
     "data": {
      "text/html": [
       "<div>\n",
       "<table border=\"1\" class=\"dataframe\">\n",
       "  <thead>\n",
       "    <tr style=\"text-align: right;\">\n",
       "      <th></th>\n",
       "      <th>mjtheme_namecode</th>\n",
       "      <th>mjtheme_namecode_complete</th>\n",
       "    </tr>\n",
       "  </thead>\n",
       "  <tbody>\n",
       "    <tr>\n",
       "      <th>0</th>\n",
       "      <td>[{u'code': u'8', u'name': u'Human development'...</td>\n",
       "      <td>[{u'code': u'8', u'name': u'Human development'...</td>\n",
       "    </tr>\n",
       "  </tbody>\n",
       "</table>\n",
       "</div>"
      ],
      "text/plain": [
       "                                    mjtheme_namecode  \\\n",
       "0  [{u'code': u'8', u'name': u'Human development'...   \n",
       "\n",
       "                           mjtheme_namecode_complete  \n",
       "0  [{u'code': u'8', u'name': u'Human development'...  "
      ]
     },
     "execution_count": 7,
     "metadata": {},
     "output_type": "execute_result"
    }
   ],
   "source": [
    "# for each code lookup and return the name from ndict. \n",
    "def fill_name(tlist):\n",
    "    return [{ u'code': t['code'], u'name': ndict[t['code']]} for t in tlist ]\n",
    "\n",
    "\n",
    "fdict = [s for s in df.mjtheme_namecode.apply(fill_name)]\n",
    "df['mjtheme_namecode_complete'] = pd.Series(fdict, index=df.index)\n",
    "\n",
    "df[['mjtheme_namecode','mjtheme_namecode_complete']].head(1)"
   ]
  },
  {
   "cell_type": "code",
   "execution_count": 34,
   "metadata": {
    "collapsed": false
   },
   "outputs": [
    {
     "name": "stdout",
     "output_type": "stream",
     "text": [
      "1499\n",
      "\n",
      "1377\n",
      "122\n",
      "1499\n"
     ]
    },
    {
     "data": {
      "text/plain": [
       "122"
      ]
     },
     "execution_count": 34,
     "metadata": {},
     "output_type": "execute_result"
    }
   ],
   "source": [
    "# test that the correct value was returned to 'name' key ...\n",
    "n=0\n",
    "for theme in df['mjtheme_namecode_complete'].values:\n",
    "    for dct in theme:\n",
    "        assert dct['name'] == ndict[dct['code']]\n",
    "        n+=1\n",
    "print n\n",
    "print\n",
    "\n",
    "n=0\n",
    "x=0\n",
    "for theme in df['mjtheme_namecode'].values:\n",
    "    for dct in theme:\n",
    "        try:\n",
    "            assert dct['name'] == ndict[dct['code']]\n",
    "            n+=1\n",
    "        except:\n",
    "            assert dct['name'] == ''\n",
    "            x+=1\n",
    "\n",
    "print n\n",
    "print x\n",
    "print n+x\n",
    "\n",
    "sum([a[0] for a in top10list if 'blank' in a[1]])"
   ]
  },
  {
   "cell_type": "code",
   "execution_count": 217,
   "metadata": {
    "collapsed": false
   },
   "outputs": [
    {
     "name": "stdout",
     "output_type": "stream",
     "text": [
      "1499\n",
      "1499\n",
      "Assert passed: lists must match\n"
     ]
    }
   ],
   "source": [
    "oldcode = []\n",
    "newcode = []\n",
    "\n",
    "for l in df[['mjtheme_namecode']].values:\n",
    "    for a in l:\n",
    "        for b in a:\n",
    "            #print b['name']\n",
    "            oldcode.append(b['code'])\n",
    "#print '+' * 20\n",
    "for l in df[['mjtheme_namecode_complete']].values:\n",
    "    for a in l:\n",
    "        for b in a:\n",
    "            #print b['name']\n",
    "            newcode.append(b['code'])\n",
    "\n",
    "print len(newcode)\n",
    "print len(oldcode)\n",
    "assert newcode == oldcode\n",
    "print \"Assert passed: lists must match\"\n"
   ]
  },
  {
   "cell_type": "code",
   "execution_count": null,
   "metadata": {
    "collapsed": true
   },
   "outputs": [],
   "source": []
  }
 ],
 "metadata": {
  "kernelspec": {
   "display_name": "Python 2",
   "language": "python",
   "name": "python2"
  },
  "language_info": {
   "codemirror_mode": {
    "name": "ipython",
    "version": 2
   },
   "file_extension": ".py",
   "mimetype": "text/x-python",
   "name": "python",
   "nbconvert_exporter": "python",
   "pygments_lexer": "ipython2",
   "version": "2.7.11"
  }
 },
 "nbformat": 4,
 "nbformat_minor": 0
}
